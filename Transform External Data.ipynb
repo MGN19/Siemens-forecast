{
 "cells": [
  {
   "cell_type": "markdown",
   "id": "205272d9",
   "metadata": {},
   "source": [
    "<div style=\"overflow:auto;\">\n",
    "    <div style=\"float:left; margin-right:10px;\">\n",
    "        <img width='120' height='120' src='https://cityme.novaims.unl.pt/images/footer/novaims.png'>\n",
    "    </div>\n",
    "\n",
    "# <p align=\"center\">Siemens Sales Forecast</p>\n",
    "\n",
    "---\n",
    "\n",
    "## <p align=\"center\">*External data transformation*</p>\n",
    "\n",
    "---\n",
    "\n",
    "### 👥 **Team Members**\n",
    "- **Ana Farinha** *(Student Number: 20211514)*  \n",
    "- **António Oliveira** *(Student Number: 20211595)*  \n",
    "- **Mariana Neto** *(Student Number: 20211527)*  \n",
    "- **Salvador Domingues** *(Student Number: 20240597)*  \n",
    "\n",
    "📅 **Date:** *April 1, 2025*  \n",
    "📍 **Prepared for:** *Siemens*  \n",
    "\n",
    "**GitHub Repo:** https://github.com/MGN19/Siemens-forecast\n",
    "\n",
    "---"
   ]
  },
  {
   "cell_type": "markdown",
   "id": "6923a7c3",
   "metadata": {},
   "source": [
    "# ToC\n",
    "\n",
    "<a class=\"anchor\" id=\"top\"></a>\n",
    "\n",
    "\n",
    "1. [Stocks Data](#1.-Stocks-Data) <br><br>\n",
    "\n",
    "2. [Consumer Confidence Data](#2.-Consumer-Confidence-Data) <br><br>\n",
    "\n",
    "3. [Business Confidence Data](#3.-Business-Confidence-Data) <br><br>\n",
    "\n",
    "4. [Covid-19 Strintegy Index](#4.-Covid-19-Strintegy-Index) <br><br>\n",
    "\n",
    "5. [Energy Data](#5.-Energy-Data) <br><br>\n",
    "\n",
    "6. [Building Construction in Germany](#6.-Building-Construction-in-Germany) <br>"
   ]
  },
  {
   "cell_type": "code",
   "execution_count": 1,
   "id": "5b3441d8",
   "metadata": {
    "ExecuteTime": {
     "end_time": "2025-03-21T18:12:01.444034Z",
     "start_time": "2025-03-21T18:12:00.903965Z"
    }
   },
   "outputs": [],
   "source": [
    "import pandas as pd\n",
    "import plotly.express as px\n",
    "import plotly.graph_objects as go\n",
    "pd.set_option('display.max_columns', None)\n",
    "import functions as f"
   ]
  },
  {
   "cell_type": "markdown",
   "id": "4ceb75a8",
   "metadata": {},
   "source": [
    "# 1. Stocks Data"
   ]
  },
  {
   "cell_type": "markdown",
   "id": "3319e6dc",
   "metadata": {},
   "source": [
    "This dataset contains historical stock price data for Siemens, providing insights into market trends and potential correlations with sales performance across different product groups.\n",
    "\n",
    "The data can be found at:\n",
    "\n",
    "Investing.com. (n.d.). Siemens historical data. Retrieved March 17, 2025, from https://www.investing.com/equities/siemens-historical-data"
   ]
  },
  {
   "cell_type": "code",
   "execution_count": 2,
   "id": "1e3acf46",
   "metadata": {
    "ExecuteTime": {
     "end_time": "2025-03-21T18:12:01.470351Z",
     "start_time": "2025-03-21T18:12:01.446575Z"
    },
    "scrolled": true
   },
   "outputs": [
    {
     "data": {
      "text/html": [
       "<div>\n",
       "<style scoped>\n",
       "    .dataframe tbody tr th:only-of-type {\n",
       "        vertical-align: middle;\n",
       "    }\n",
       "\n",
       "    .dataframe tbody tr th {\n",
       "        vertical-align: top;\n",
       "    }\n",
       "\n",
       "    .dataframe thead th {\n",
       "        text-align: right;\n",
       "    }\n",
       "</style>\n",
       "<table border=\"1\" class=\"dataframe\">\n",
       "  <thead>\n",
       "    <tr style=\"text-align: right;\">\n",
       "      <th></th>\n",
       "      <th>Date</th>\n",
       "      <th>Price</th>\n",
       "      <th>Open</th>\n",
       "      <th>High</th>\n",
       "      <th>Low</th>\n",
       "      <th>Vol.</th>\n",
       "      <th>Change %</th>\n",
       "    </tr>\n",
       "  </thead>\n",
       "  <tbody>\n",
       "    <tr>\n",
       "      <th>0</th>\n",
       "      <td>04/01/2022</td>\n",
       "      <td>117.78</td>\n",
       "      <td>126.36</td>\n",
       "      <td>127.00</td>\n",
       "      <td>111.50</td>\n",
       "      <td>33.67M</td>\n",
       "      <td>-6.27%</td>\n",
       "    </tr>\n",
       "    <tr>\n",
       "      <th>1</th>\n",
       "      <td>03/01/2022</td>\n",
       "      <td>125.66</td>\n",
       "      <td>125.00</td>\n",
       "      <td>138.08</td>\n",
       "      <td>105.92</td>\n",
       "      <td>60.02M</td>\n",
       "      <td>-0.79%</td>\n",
       "    </tr>\n",
       "    <tr>\n",
       "      <th>2</th>\n",
       "      <td>02/01/2022</td>\n",
       "      <td>126.66</td>\n",
       "      <td>141.18</td>\n",
       "      <td>149.26</td>\n",
       "      <td>120.84</td>\n",
       "      <td>46.90M</td>\n",
       "      <td>-9.45%</td>\n",
       "    </tr>\n",
       "    <tr>\n",
       "      <th>3</th>\n",
       "      <td>01/01/2022</td>\n",
       "      <td>139.88</td>\n",
       "      <td>151.82</td>\n",
       "      <td>157.96</td>\n",
       "      <td>136.18</td>\n",
       "      <td>31.83M</td>\n",
       "      <td>-8.38%</td>\n",
       "    </tr>\n",
       "    <tr>\n",
       "      <th>4</th>\n",
       "      <td>12/01/2021</td>\n",
       "      <td>152.68</td>\n",
       "      <td>142.70</td>\n",
       "      <td>154.70</td>\n",
       "      <td>141.18</td>\n",
       "      <td>24.91M</td>\n",
       "      <td>8.07%</td>\n",
       "    </tr>\n",
       "  </tbody>\n",
       "</table>\n",
       "</div>"
      ],
      "text/plain": [
       "         Date   Price    Open    High     Low    Vol. Change %\n",
       "0  04/01/2022  117.78  126.36  127.00  111.50  33.67M   -6.27%\n",
       "1  03/01/2022  125.66  125.00  138.08  105.92  60.02M   -0.79%\n",
       "2  02/01/2022  126.66  141.18  149.26  120.84  46.90M   -9.45%\n",
       "3  01/01/2022  139.88  151.82  157.96  136.18  31.83M   -8.38%\n",
       "4  12/01/2021  152.68  142.70  154.70  141.18  24.91M    8.07%"
      ]
     },
     "execution_count": 2,
     "metadata": {},
     "output_type": "execute_result"
    }
   ],
   "source": [
    "stock = pd.read_csv('./extra data/Siemens AG Stock Price History.csv')\n",
    "stock.head()"
   ]
  },
  {
   "cell_type": "markdown",
   "id": "f74b4720",
   "metadata": {},
   "source": [
    "Choosing only relevant columns."
   ]
  },
  {
   "cell_type": "code",
   "execution_count": 3,
   "id": "d51eb0e2",
   "metadata": {
    "ExecuteTime": {
     "end_time": "2025-03-21T18:12:01.475675Z",
     "start_time": "2025-03-21T18:12:01.472312Z"
    },
    "scrolled": true
   },
   "outputs": [],
   "source": [
    "stock2 = stock[['Date', 'Price', 'Vol.', 'Change %']]"
   ]
  },
  {
   "cell_type": "code",
   "execution_count": 4,
   "id": "ec6a9677",
   "metadata": {
    "ExecuteTime": {
     "end_time": "2025-03-21T18:12:01.484408Z",
     "start_time": "2025-03-21T18:12:01.478889Z"
    }
   },
   "outputs": [
    {
     "name": "stderr",
     "output_type": "stream",
     "text": [
      "/var/folders/pw/sbpycr1d17b1j4255gwjl17c0000gn/T/ipykernel_60101/4244389695.py:1: SettingWithCopyWarning: \n",
      "A value is trying to be set on a copy of a slice from a DataFrame.\n",
      "Try using .loc[row_indexer,col_indexer] = value instead\n",
      "\n",
      "See the caveats in the documentation: https://pandas.pydata.org/pandas-docs/stable/user_guide/indexing.html#returning-a-view-versus-a-copy\n",
      "  stock2['Date'] = pd.to_datetime(stock2['Date'])\n"
     ]
    }
   ],
   "source": [
    "stock2['Date'] = pd.to_datetime(stock2['Date'])\n",
    "stock2 = stock2.set_index('Date')"
   ]
  },
  {
   "cell_type": "markdown",
   "id": "a3bb2ac6",
   "metadata": {},
   "source": [
    "**Exploring the dataset structure with .info() method**"
   ]
  },
  {
   "cell_type": "code",
   "execution_count": 5,
   "id": "d766f385",
   "metadata": {
    "ExecuteTime": {
     "end_time": "2025-03-21T18:12:01.492908Z",
     "start_time": "2025-03-21T18:12:01.486019Z"
    }
   },
   "outputs": [
    {
     "name": "stdout",
     "output_type": "stream",
     "text": [
      "<class 'pandas.core.frame.DataFrame'>\n",
      "DatetimeIndex: 43 entries, 2022-04-01 to 2018-10-01\n",
      "Data columns (total 3 columns):\n",
      " #   Column    Non-Null Count  Dtype  \n",
      "---  ------    --------------  -----  \n",
      " 0   Price     43 non-null     float64\n",
      " 1   Vol.      43 non-null     object \n",
      " 2   Change %  43 non-null     object \n",
      "dtypes: float64(1), object(2)\n",
      "memory usage: 1.3+ KB\n"
     ]
    }
   ],
   "source": [
    "stock2.info()"
   ]
  },
  {
   "cell_type": "markdown",
   "id": "c6c2e6b4",
   "metadata": {},
   "source": [
    "There are no missing values. As `Vol.` and `Change %` are stored as object, we will transform them to float."
   ]
  },
  {
   "cell_type": "code",
   "execution_count": 6,
   "id": "34e7d672",
   "metadata": {
    "ExecuteTime": {
     "end_time": "2025-03-21T18:12:01.497635Z",
     "start_time": "2025-03-21T18:12:01.494791Z"
    }
   },
   "outputs": [],
   "source": [
    "def convert_volume(vol_str):\n",
    "    if isinstance(vol_str, str):\n",
    "        vol_str = vol_str.replace('M', 'e6').replace('K', 'e3').replace(',', '')\n",
    "        return float(eval(vol_str))\n",
    "    return vol_str"
   ]
  },
  {
   "cell_type": "markdown",
   "id": "08b16a1c",
   "metadata": {},
   "source": [
    "As in the `Vol.` column we have abbreviations like M, we will convert stock volume values from string format into numerical format."
   ]
  },
  {
   "cell_type": "code",
   "execution_count": 7,
   "id": "89a4149d",
   "metadata": {
    "ExecuteTime": {
     "end_time": "2025-03-21T18:12:01.503356Z",
     "start_time": "2025-03-21T18:12:01.499612Z"
    }
   },
   "outputs": [],
   "source": [
    "stock2['Volume'] = stock2['Vol.'].apply(convert_volume)"
   ]
  },
  {
   "cell_type": "markdown",
   "id": "31676b3f",
   "metadata": {},
   "source": [
    "Coverting stock changing to float."
   ]
  },
  {
   "cell_type": "code",
   "execution_count": 8,
   "id": "6f0a2b39",
   "metadata": {
    "ExecuteTime": {
     "end_time": "2025-03-21T18:12:01.509361Z",
     "start_time": "2025-03-21T18:12:01.505835Z"
    }
   },
   "outputs": [],
   "source": [
    "stock2['Change %'] = stock2['Change %'].str.replace('%', '')\n",
    "stock2['Change %'] = pd.to_numeric(stock2['Change %'], errors='coerce')  # convert to float"
   ]
  },
  {
   "cell_type": "code",
   "execution_count": 9,
   "id": "d844bdb0",
   "metadata": {
    "ExecuteTime": {
     "end_time": "2025-03-21T18:12:01.514695Z",
     "start_time": "2025-03-21T18:12:01.511474Z"
    }
   },
   "outputs": [],
   "source": [
    "stock2.drop('Vol.', axis = 1, inplace = True)"
   ]
  },
  {
   "cell_type": "code",
   "execution_count": 10,
   "id": "9e672d28",
   "metadata": {},
   "outputs": [
    {
     "data": {
      "text/html": [
       "<div>\n",
       "<style scoped>\n",
       "    .dataframe tbody tr th:only-of-type {\n",
       "        vertical-align: middle;\n",
       "    }\n",
       "\n",
       "    .dataframe tbody tr th {\n",
       "        vertical-align: top;\n",
       "    }\n",
       "\n",
       "    .dataframe thead th {\n",
       "        text-align: right;\n",
       "    }\n",
       "</style>\n",
       "<table border=\"1\" class=\"dataframe\">\n",
       "  <thead>\n",
       "    <tr style=\"text-align: right;\">\n",
       "      <th></th>\n",
       "      <th>Price</th>\n",
       "      <th>Change %</th>\n",
       "      <th>Volume</th>\n",
       "    </tr>\n",
       "    <tr>\n",
       "      <th>Date</th>\n",
       "      <th></th>\n",
       "      <th></th>\n",
       "      <th></th>\n",
       "    </tr>\n",
       "  </thead>\n",
       "  <tbody>\n",
       "    <tr>\n",
       "      <th>2022-04-01</th>\n",
       "      <td>117.78</td>\n",
       "      <td>-6.27</td>\n",
       "      <td>33670000.0</td>\n",
       "    </tr>\n",
       "    <tr>\n",
       "      <th>2022-03-01</th>\n",
       "      <td>125.66</td>\n",
       "      <td>-0.79</td>\n",
       "      <td>60020000.0</td>\n",
       "    </tr>\n",
       "    <tr>\n",
       "      <th>2022-02-01</th>\n",
       "      <td>126.66</td>\n",
       "      <td>-9.45</td>\n",
       "      <td>46900000.0</td>\n",
       "    </tr>\n",
       "    <tr>\n",
       "      <th>2022-01-01</th>\n",
       "      <td>139.88</td>\n",
       "      <td>-8.38</td>\n",
       "      <td>31830000.0</td>\n",
       "    </tr>\n",
       "    <tr>\n",
       "      <th>2021-12-01</th>\n",
       "      <td>152.68</td>\n",
       "      <td>8.07</td>\n",
       "      <td>24910000.0</td>\n",
       "    </tr>\n",
       "  </tbody>\n",
       "</table>\n",
       "</div>"
      ],
      "text/plain": [
       "             Price  Change %      Volume\n",
       "Date                                    \n",
       "2022-04-01  117.78     -6.27  33670000.0\n",
       "2022-03-01  125.66     -0.79  60020000.0\n",
       "2022-02-01  126.66     -9.45  46900000.0\n",
       "2022-01-01  139.88     -8.38  31830000.0\n",
       "2021-12-01  152.68      8.07  24910000.0"
      ]
     },
     "execution_count": 10,
     "metadata": {},
     "output_type": "execute_result"
    }
   ],
   "source": [
    "stock2.head()"
   ]
  },
  {
   "cell_type": "code",
   "execution_count": 11,
   "id": "b21fcbfd",
   "metadata": {},
   "outputs": [
    {
     "data": {
      "application/vnd.plotly.v1+json": {
       "config": {
        "plotlyServerURL": "https://plot.ly"
       },
       "data": [
        {
         "hovertemplate": "Date=%{x}<br>Stock Price (€)=%{y}<extra></extra>",
         "legendgroup": "",
         "line": {
          "color": "#636efa",
          "dash": "solid"
         },
         "marker": {
          "symbol": "circle"
         },
         "mode": "lines+markers",
         "name": "",
         "orientation": "v",
         "showlegend": false,
         "type": "scatter",
         "x": [
          "2022-04-01T00:00:00.000000000",
          "2022-03-01T00:00:00.000000000",
          "2022-02-01T00:00:00.000000000",
          "2022-01-01T00:00:00.000000000",
          "2021-12-01T00:00:00.000000000",
          "2021-11-01T00:00:00.000000000",
          "2021-10-01T00:00:00.000000000",
          "2021-09-01T00:00:00.000000000",
          "2021-08-01T00:00:00.000000000",
          "2021-07-01T00:00:00.000000000",
          "2021-06-01T00:00:00.000000000",
          "2021-05-01T00:00:00.000000000",
          "2021-04-01T00:00:00.000000000",
          "2021-03-01T00:00:00.000000000",
          "2021-02-01T00:00:00.000000000",
          "2021-01-01T00:00:00.000000000",
          "2020-12-01T00:00:00.000000000",
          "2020-11-01T00:00:00.000000000",
          "2020-10-01T00:00:00.000000000",
          "2020-09-01T00:00:00.000000000",
          "2020-08-01T00:00:00.000000000",
          "2020-07-01T00:00:00.000000000",
          "2020-06-01T00:00:00.000000000",
          "2020-05-01T00:00:00.000000000",
          "2020-04-01T00:00:00.000000000",
          "2020-03-01T00:00:00.000000000",
          "2020-02-01T00:00:00.000000000",
          "2020-01-01T00:00:00.000000000",
          "2019-12-01T00:00:00.000000000",
          "2019-11-01T00:00:00.000000000",
          "2019-10-01T00:00:00.000000000",
          "2019-09-01T00:00:00.000000000",
          "2019-08-01T00:00:00.000000000",
          "2019-07-01T00:00:00.000000000",
          "2019-06-01T00:00:00.000000000",
          "2019-05-01T00:00:00.000000000",
          "2019-04-01T00:00:00.000000000",
          "2019-03-01T00:00:00.000000000",
          "2019-02-01T00:00:00.000000000",
          "2019-01-01T00:00:00.000000000",
          "2018-12-01T00:00:00.000000000",
          "2018-11-01T00:00:00.000000000",
          "2018-10-01T00:00:00.000000000"
         ],
         "xaxis": "x",
         "y": {
          "bdata": "UrgehetxXUAK16NwPWpfQArXo3A9ql9AXI/C9Sh8YUD2KFyPwhVjQClcj8L1qGFAKVyPwvWIYUA9CtejcL1hQHsUrkfhmmFAw/UoXI9yYECkcD0K17NgQBSuR+F6lGBACtejcD1aYUAAAAAAAIBhQB+F61G4/l9AXI/C9Sj8X0DhehSuR2FdQAAAAAAAAFxAzczMzMwsWUC4HoXrUfhaQHE9CtejEFpAmpmZmZlpWEBcj8L1KJxXQBSuR+F6NFZA9ihcj8IVU0D2KFyPwnVRQOF6FK5HAVVAKVyPwvUoWUCkcD0K10NaQIXrUbgeZVpAXI/C9ShMV0AUrkfheiRWQI/C9Shcf1RAj8L1KFxPVkDD9Shcj5JXQFyPwvUo3FZArkfhehQOWECPwvUoXJ9VQArXo3A9qlVA9ihcj8KVVUBSuB6F6/FVQKRwPQrXE1dAzczMzMzsVkA=",
          "dtype": "f8"
         },
         "yaxis": "y"
        }
       ],
       "layout": {
        "legend": {
         "tracegroupgap": 0
        },
        "template": {
         "data": {
          "bar": [
           {
            "error_x": {
             "color": "#2a3f5f"
            },
            "error_y": {
             "color": "#2a3f5f"
            },
            "marker": {
             "line": {
              "color": "white",
              "width": 0.5
             },
             "pattern": {
              "fillmode": "overlay",
              "size": 10,
              "solidity": 0.2
             }
            },
            "type": "bar"
           }
          ],
          "barpolar": [
           {
            "marker": {
             "line": {
              "color": "white",
              "width": 0.5
             },
             "pattern": {
              "fillmode": "overlay",
              "size": 10,
              "solidity": 0.2
             }
            },
            "type": "barpolar"
           }
          ],
          "carpet": [
           {
            "aaxis": {
             "endlinecolor": "#2a3f5f",
             "gridcolor": "#C8D4E3",
             "linecolor": "#C8D4E3",
             "minorgridcolor": "#C8D4E3",
             "startlinecolor": "#2a3f5f"
            },
            "baxis": {
             "endlinecolor": "#2a3f5f",
             "gridcolor": "#C8D4E3",
             "linecolor": "#C8D4E3",
             "minorgridcolor": "#C8D4E3",
             "startlinecolor": "#2a3f5f"
            },
            "type": "carpet"
           }
          ],
          "choropleth": [
           {
            "colorbar": {
             "outlinewidth": 0,
             "ticks": ""
            },
            "type": "choropleth"
           }
          ],
          "contour": [
           {
            "colorbar": {
             "outlinewidth": 0,
             "ticks": ""
            },
            "colorscale": [
             [
              0,
              "#0d0887"
             ],
             [
              0.1111111111111111,
              "#46039f"
             ],
             [
              0.2222222222222222,
              "#7201a8"
             ],
             [
              0.3333333333333333,
              "#9c179e"
             ],
             [
              0.4444444444444444,
              "#bd3786"
             ],
             [
              0.5555555555555556,
              "#d8576b"
             ],
             [
              0.6666666666666666,
              "#ed7953"
             ],
             [
              0.7777777777777778,
              "#fb9f3a"
             ],
             [
              0.8888888888888888,
              "#fdca26"
             ],
             [
              1,
              "#f0f921"
             ]
            ],
            "type": "contour"
           }
          ],
          "contourcarpet": [
           {
            "colorbar": {
             "outlinewidth": 0,
             "ticks": ""
            },
            "type": "contourcarpet"
           }
          ],
          "heatmap": [
           {
            "colorbar": {
             "outlinewidth": 0,
             "ticks": ""
            },
            "colorscale": [
             [
              0,
              "#0d0887"
             ],
             [
              0.1111111111111111,
              "#46039f"
             ],
             [
              0.2222222222222222,
              "#7201a8"
             ],
             [
              0.3333333333333333,
              "#9c179e"
             ],
             [
              0.4444444444444444,
              "#bd3786"
             ],
             [
              0.5555555555555556,
              "#d8576b"
             ],
             [
              0.6666666666666666,
              "#ed7953"
             ],
             [
              0.7777777777777778,
              "#fb9f3a"
             ],
             [
              0.8888888888888888,
              "#fdca26"
             ],
             [
              1,
              "#f0f921"
             ]
            ],
            "type": "heatmap"
           }
          ],
          "histogram": [
           {
            "marker": {
             "pattern": {
              "fillmode": "overlay",
              "size": 10,
              "solidity": 0.2
             }
            },
            "type": "histogram"
           }
          ],
          "histogram2d": [
           {
            "colorbar": {
             "outlinewidth": 0,
             "ticks": ""
            },
            "colorscale": [
             [
              0,
              "#0d0887"
             ],
             [
              0.1111111111111111,
              "#46039f"
             ],
             [
              0.2222222222222222,
              "#7201a8"
             ],
             [
              0.3333333333333333,
              "#9c179e"
             ],
             [
              0.4444444444444444,
              "#bd3786"
             ],
             [
              0.5555555555555556,
              "#d8576b"
             ],
             [
              0.6666666666666666,
              "#ed7953"
             ],
             [
              0.7777777777777778,
              "#fb9f3a"
             ],
             [
              0.8888888888888888,
              "#fdca26"
             ],
             [
              1,
              "#f0f921"
             ]
            ],
            "type": "histogram2d"
           }
          ],
          "histogram2dcontour": [
           {
            "colorbar": {
             "outlinewidth": 0,
             "ticks": ""
            },
            "colorscale": [
             [
              0,
              "#0d0887"
             ],
             [
              0.1111111111111111,
              "#46039f"
             ],
             [
              0.2222222222222222,
              "#7201a8"
             ],
             [
              0.3333333333333333,
              "#9c179e"
             ],
             [
              0.4444444444444444,
              "#bd3786"
             ],
             [
              0.5555555555555556,
              "#d8576b"
             ],
             [
              0.6666666666666666,
              "#ed7953"
             ],
             [
              0.7777777777777778,
              "#fb9f3a"
             ],
             [
              0.8888888888888888,
              "#fdca26"
             ],
             [
              1,
              "#f0f921"
             ]
            ],
            "type": "histogram2dcontour"
           }
          ],
          "mesh3d": [
           {
            "colorbar": {
             "outlinewidth": 0,
             "ticks": ""
            },
            "type": "mesh3d"
           }
          ],
          "parcoords": [
           {
            "line": {
             "colorbar": {
              "outlinewidth": 0,
              "ticks": ""
             }
            },
            "type": "parcoords"
           }
          ],
          "pie": [
           {
            "automargin": true,
            "type": "pie"
           }
          ],
          "scatter": [
           {
            "fillpattern": {
             "fillmode": "overlay",
             "size": 10,
             "solidity": 0.2
            },
            "type": "scatter"
           }
          ],
          "scatter3d": [
           {
            "line": {
             "colorbar": {
              "outlinewidth": 0,
              "ticks": ""
             }
            },
            "marker": {
             "colorbar": {
              "outlinewidth": 0,
              "ticks": ""
             }
            },
            "type": "scatter3d"
           }
          ],
          "scattercarpet": [
           {
            "marker": {
             "colorbar": {
              "outlinewidth": 0,
              "ticks": ""
             }
            },
            "type": "scattercarpet"
           }
          ],
          "scattergeo": [
           {
            "marker": {
             "colorbar": {
              "outlinewidth": 0,
              "ticks": ""
             }
            },
            "type": "scattergeo"
           }
          ],
          "scattergl": [
           {
            "marker": {
             "colorbar": {
              "outlinewidth": 0,
              "ticks": ""
             }
            },
            "type": "scattergl"
           }
          ],
          "scattermap": [
           {
            "marker": {
             "colorbar": {
              "outlinewidth": 0,
              "ticks": ""
             }
            },
            "type": "scattermap"
           }
          ],
          "scattermapbox": [
           {
            "marker": {
             "colorbar": {
              "outlinewidth": 0,
              "ticks": ""
             }
            },
            "type": "scattermapbox"
           }
          ],
          "scatterpolar": [
           {
            "marker": {
             "colorbar": {
              "outlinewidth": 0,
              "ticks": ""
             }
            },
            "type": "scatterpolar"
           }
          ],
          "scatterpolargl": [
           {
            "marker": {
             "colorbar": {
              "outlinewidth": 0,
              "ticks": ""
             }
            },
            "type": "scatterpolargl"
           }
          ],
          "scatterternary": [
           {
            "marker": {
             "colorbar": {
              "outlinewidth": 0,
              "ticks": ""
             }
            },
            "type": "scatterternary"
           }
          ],
          "surface": [
           {
            "colorbar": {
             "outlinewidth": 0,
             "ticks": ""
            },
            "colorscale": [
             [
              0,
              "#0d0887"
             ],
             [
              0.1111111111111111,
              "#46039f"
             ],
             [
              0.2222222222222222,
              "#7201a8"
             ],
             [
              0.3333333333333333,
              "#9c179e"
             ],
             [
              0.4444444444444444,
              "#bd3786"
             ],
             [
              0.5555555555555556,
              "#d8576b"
             ],
             [
              0.6666666666666666,
              "#ed7953"
             ],
             [
              0.7777777777777778,
              "#fb9f3a"
             ],
             [
              0.8888888888888888,
              "#fdca26"
             ],
             [
              1,
              "#f0f921"
             ]
            ],
            "type": "surface"
           }
          ],
          "table": [
           {
            "cells": {
             "fill": {
              "color": "#EBF0F8"
             },
             "line": {
              "color": "white"
             }
            },
            "header": {
             "fill": {
              "color": "#C8D4E3"
             },
             "line": {
              "color": "white"
             }
            },
            "type": "table"
           }
          ]
         },
         "layout": {
          "annotationdefaults": {
           "arrowcolor": "#2a3f5f",
           "arrowhead": 0,
           "arrowwidth": 1
          },
          "autotypenumbers": "strict",
          "coloraxis": {
           "colorbar": {
            "outlinewidth": 0,
            "ticks": ""
           }
          },
          "colorscale": {
           "diverging": [
            [
             0,
             "#8e0152"
            ],
            [
             0.1,
             "#c51b7d"
            ],
            [
             0.2,
             "#de77ae"
            ],
            [
             0.3,
             "#f1b6da"
            ],
            [
             0.4,
             "#fde0ef"
            ],
            [
             0.5,
             "#f7f7f7"
            ],
            [
             0.6,
             "#e6f5d0"
            ],
            [
             0.7,
             "#b8e186"
            ],
            [
             0.8,
             "#7fbc41"
            ],
            [
             0.9,
             "#4d9221"
            ],
            [
             1,
             "#276419"
            ]
           ],
           "sequential": [
            [
             0,
             "#0d0887"
            ],
            [
             0.1111111111111111,
             "#46039f"
            ],
            [
             0.2222222222222222,
             "#7201a8"
            ],
            [
             0.3333333333333333,
             "#9c179e"
            ],
            [
             0.4444444444444444,
             "#bd3786"
            ],
            [
             0.5555555555555556,
             "#d8576b"
            ],
            [
             0.6666666666666666,
             "#ed7953"
            ],
            [
             0.7777777777777778,
             "#fb9f3a"
            ],
            [
             0.8888888888888888,
             "#fdca26"
            ],
            [
             1,
             "#f0f921"
            ]
           ],
           "sequentialminus": [
            [
             0,
             "#0d0887"
            ],
            [
             0.1111111111111111,
             "#46039f"
            ],
            [
             0.2222222222222222,
             "#7201a8"
            ],
            [
             0.3333333333333333,
             "#9c179e"
            ],
            [
             0.4444444444444444,
             "#bd3786"
            ],
            [
             0.5555555555555556,
             "#d8576b"
            ],
            [
             0.6666666666666666,
             "#ed7953"
            ],
            [
             0.7777777777777778,
             "#fb9f3a"
            ],
            [
             0.8888888888888888,
             "#fdca26"
            ],
            [
             1,
             "#f0f921"
            ]
           ]
          },
          "colorway": [
           "#636efa",
           "#EF553B",
           "#00cc96",
           "#ab63fa",
           "#FFA15A",
           "#19d3f3",
           "#FF6692",
           "#B6E880",
           "#FF97FF",
           "#FECB52"
          ],
          "font": {
           "color": "#2a3f5f"
          },
          "geo": {
           "bgcolor": "white",
           "lakecolor": "white",
           "landcolor": "white",
           "showlakes": true,
           "showland": true,
           "subunitcolor": "#C8D4E3"
          },
          "hoverlabel": {
           "align": "left"
          },
          "hovermode": "closest",
          "mapbox": {
           "style": "light"
          },
          "paper_bgcolor": "white",
          "plot_bgcolor": "white",
          "polar": {
           "angularaxis": {
            "gridcolor": "#EBF0F8",
            "linecolor": "#EBF0F8",
            "ticks": ""
           },
           "bgcolor": "white",
           "radialaxis": {
            "gridcolor": "#EBF0F8",
            "linecolor": "#EBF0F8",
            "ticks": ""
           }
          },
          "scene": {
           "xaxis": {
            "backgroundcolor": "white",
            "gridcolor": "#DFE8F3",
            "gridwidth": 2,
            "linecolor": "#EBF0F8",
            "showbackground": true,
            "ticks": "",
            "zerolinecolor": "#EBF0F8"
           },
           "yaxis": {
            "backgroundcolor": "white",
            "gridcolor": "#DFE8F3",
            "gridwidth": 2,
            "linecolor": "#EBF0F8",
            "showbackground": true,
            "ticks": "",
            "zerolinecolor": "#EBF0F8"
           },
           "zaxis": {
            "backgroundcolor": "white",
            "gridcolor": "#DFE8F3",
            "gridwidth": 2,
            "linecolor": "#EBF0F8",
            "showbackground": true,
            "ticks": "",
            "zerolinecolor": "#EBF0F8"
           }
          },
          "shapedefaults": {
           "line": {
            "color": "#2a3f5f"
           }
          },
          "ternary": {
           "aaxis": {
            "gridcolor": "#DFE8F3",
            "linecolor": "#A2B1C6",
            "ticks": ""
           },
           "baxis": {
            "gridcolor": "#DFE8F3",
            "linecolor": "#A2B1C6",
            "ticks": ""
           },
           "bgcolor": "white",
           "caxis": {
            "gridcolor": "#DFE8F3",
            "linecolor": "#A2B1C6",
            "ticks": ""
           }
          },
          "title": {
           "x": 0.05
          },
          "xaxis": {
           "automargin": true,
           "gridcolor": "#EBF0F8",
           "linecolor": "#EBF0F8",
           "ticks": "",
           "title": {
            "standoff": 15
           },
           "zerolinecolor": "#EBF0F8",
           "zerolinewidth": 2
          },
          "yaxis": {
           "automargin": true,
           "gridcolor": "#EBF0F8",
           "linecolor": "#EBF0F8",
           "ticks": "",
           "title": {
            "standoff": 15
           },
           "zerolinecolor": "#EBF0F8",
           "zerolinewidth": 2
          }
         }
        },
        "title": {
         "text": "Siemens Stock Price Over Time"
        },
        "xaxis": {
         "anchor": "y",
         "domain": [
          0,
          1
         ],
         "tickangle": 45,
         "title": {
          "text": "Date"
         }
        },
        "yaxis": {
         "anchor": "x",
         "domain": [
          0,
          1
         ],
         "title": {
          "text": "Stock Price (€)"
         }
        }
       }
      }
     },
     "metadata": {},
     "output_type": "display_data"
    }
   ],
   "source": [
    "fig = px.line(stock2, x=stock2.index, y=\"Price\", markers=True, \n",
    "              title=\"Siemens Stock Price Over Time\", \n",
    "              labels={\"Price\": \"Stock Price (€)\", \"index\": \"Date\"})\n",
    "\n",
    "fig.update_layout(xaxis=dict(title=\"Date\", tickangle=45), \n",
    "                  yaxis=dict(title=\"Stock Price (€)\"),\n",
    "                  template=\"plotly_white\")\n",
    "\n",
    "fig.show()"
   ]
  },
  {
   "cell_type": "code",
   "execution_count": 12,
   "id": "1432702b",
   "metadata": {},
   "outputs": [
    {
     "data": {
      "application/vnd.plotly.v1+json": {
       "config": {
        "plotlyServerURL": "https://plot.ly"
       },
       "data": [
        {
         "hovertemplate": "Date=%{x}<br>Trading Volume=%{y}<extra></extra>",
         "legendgroup": "",
         "marker": {
          "color": "#009C8C",
          "pattern": {
           "shape": ""
          }
         },
         "name": "",
         "orientation": "v",
         "showlegend": false,
         "textposition": "auto",
         "type": "bar",
         "x": [
          "2018-10-01T00:00:00.000000000",
          "2018-11-01T00:00:00.000000000",
          "2018-12-01T00:00:00.000000000",
          "2019-01-01T00:00:00.000000000",
          "2019-02-01T00:00:00.000000000",
          "2019-03-01T00:00:00.000000000",
          "2019-04-01T00:00:00.000000000",
          "2019-05-01T00:00:00.000000000",
          "2019-06-01T00:00:00.000000000",
          "2019-07-01T00:00:00.000000000",
          "2019-08-01T00:00:00.000000000",
          "2019-09-01T00:00:00.000000000",
          "2019-10-01T00:00:00.000000000",
          "2019-11-01T00:00:00.000000000",
          "2019-12-01T00:00:00.000000000",
          "2020-01-01T00:00:00.000000000",
          "2020-02-01T00:00:00.000000000",
          "2020-03-01T00:00:00.000000000",
          "2020-04-01T00:00:00.000000000",
          "2020-05-01T00:00:00.000000000",
          "2020-06-01T00:00:00.000000000",
          "2020-07-01T00:00:00.000000000",
          "2020-08-01T00:00:00.000000000",
          "2020-09-01T00:00:00.000000000",
          "2020-10-01T00:00:00.000000000",
          "2020-11-01T00:00:00.000000000",
          "2020-12-01T00:00:00.000000000",
          "2021-01-01T00:00:00.000000000",
          "2021-02-01T00:00:00.000000000",
          "2021-03-01T00:00:00.000000000",
          "2021-04-01T00:00:00.000000000",
          "2021-05-01T00:00:00.000000000",
          "2021-06-01T00:00:00.000000000",
          "2021-07-01T00:00:00.000000000",
          "2021-08-01T00:00:00.000000000",
          "2021-09-01T00:00:00.000000000",
          "2021-10-01T00:00:00.000000000",
          "2021-11-01T00:00:00.000000000",
          "2021-12-01T00:00:00.000000000",
          "2022-01-01T00:00:00.000000000",
          "2022-02-01T00:00:00.000000000",
          "2022-03-01T00:00:00.000000000",
          "2022-04-01T00:00:00.000000000"
         ],
         "xaxis": "x",
         "y": {
          "bdata": "AAAAAHFOjUEAAACA5AGHQQAAAIALOodBAAAAgI8YiUEAAACAeumGQQAAAAB6OIZBAAAAgADIgUEAAACARzCHQQAAAAAbzoFBAAAAAJSNhUEAAAAAduWMQQAAAIAz8oNBAAAAgCnEhEEAAACAh1uFQQAAAAC+mIJBAAAAADWUg0EAAAAARnCMQQAAAOAY66FBAAAAwBS1kUEAAACAwO+KQQAAAACuNYxBAAAAgL3ngUEAAAAAk+99QQAAAACeLIdBAAAAgGY6gUEAAACAAZuFQQAAAIC1m4BBAAAAAAwJg0EAAAAAtJ9/QQAAAACOI4JBAAAAAPKVeEEAAAAAGmyAQQAAAADYsXtBAAAAACILeUEAAAAA4+50QQAAAIAWd4BBAAAAACiTd0EAAACAh3mAQQAAAACLwXdBAAAAAP9afkEAAAAAGV2GQQAAAACpnoxBAAAAgBsOgEE=",
          "dtype": "f8"
         },
         "yaxis": "y"
        }
       ],
       "layout": {
        "barmode": "relative",
        "legend": {
         "tracegroupgap": 0
        },
        "template": {
         "data": {
          "bar": [
           {
            "error_x": {
             "color": "#2a3f5f"
            },
            "error_y": {
             "color": "#2a3f5f"
            },
            "marker": {
             "line": {
              "color": "#E5ECF6",
              "width": 0.5
             },
             "pattern": {
              "fillmode": "overlay",
              "size": 10,
              "solidity": 0.2
             }
            },
            "type": "bar"
           }
          ],
          "barpolar": [
           {
            "marker": {
             "line": {
              "color": "#E5ECF6",
              "width": 0.5
             },
             "pattern": {
              "fillmode": "overlay",
              "size": 10,
              "solidity": 0.2
             }
            },
            "type": "barpolar"
           }
          ],
          "carpet": [
           {
            "aaxis": {
             "endlinecolor": "#2a3f5f",
             "gridcolor": "white",
             "linecolor": "white",
             "minorgridcolor": "white",
             "startlinecolor": "#2a3f5f"
            },
            "baxis": {
             "endlinecolor": "#2a3f5f",
             "gridcolor": "white",
             "linecolor": "white",
             "minorgridcolor": "white",
             "startlinecolor": "#2a3f5f"
            },
            "type": "carpet"
           }
          ],
          "choropleth": [
           {
            "colorbar": {
             "outlinewidth": 0,
             "ticks": ""
            },
            "type": "choropleth"
           }
          ],
          "contour": [
           {
            "colorbar": {
             "outlinewidth": 0,
             "ticks": ""
            },
            "colorscale": [
             [
              0,
              "#0d0887"
             ],
             [
              0.1111111111111111,
              "#46039f"
             ],
             [
              0.2222222222222222,
              "#7201a8"
             ],
             [
              0.3333333333333333,
              "#9c179e"
             ],
             [
              0.4444444444444444,
              "#bd3786"
             ],
             [
              0.5555555555555556,
              "#d8576b"
             ],
             [
              0.6666666666666666,
              "#ed7953"
             ],
             [
              0.7777777777777778,
              "#fb9f3a"
             ],
             [
              0.8888888888888888,
              "#fdca26"
             ],
             [
              1,
              "#f0f921"
             ]
            ],
            "type": "contour"
           }
          ],
          "contourcarpet": [
           {
            "colorbar": {
             "outlinewidth": 0,
             "ticks": ""
            },
            "type": "contourcarpet"
           }
          ],
          "heatmap": [
           {
            "colorbar": {
             "outlinewidth": 0,
             "ticks": ""
            },
            "colorscale": [
             [
              0,
              "#0d0887"
             ],
             [
              0.1111111111111111,
              "#46039f"
             ],
             [
              0.2222222222222222,
              "#7201a8"
             ],
             [
              0.3333333333333333,
              "#9c179e"
             ],
             [
              0.4444444444444444,
              "#bd3786"
             ],
             [
              0.5555555555555556,
              "#d8576b"
             ],
             [
              0.6666666666666666,
              "#ed7953"
             ],
             [
              0.7777777777777778,
              "#fb9f3a"
             ],
             [
              0.8888888888888888,
              "#fdca26"
             ],
             [
              1,
              "#f0f921"
             ]
            ],
            "type": "heatmap"
           }
          ],
          "histogram": [
           {
            "marker": {
             "pattern": {
              "fillmode": "overlay",
              "size": 10,
              "solidity": 0.2
             }
            },
            "type": "histogram"
           }
          ],
          "histogram2d": [
           {
            "colorbar": {
             "outlinewidth": 0,
             "ticks": ""
            },
            "colorscale": [
             [
              0,
              "#0d0887"
             ],
             [
              0.1111111111111111,
              "#46039f"
             ],
             [
              0.2222222222222222,
              "#7201a8"
             ],
             [
              0.3333333333333333,
              "#9c179e"
             ],
             [
              0.4444444444444444,
              "#bd3786"
             ],
             [
              0.5555555555555556,
              "#d8576b"
             ],
             [
              0.6666666666666666,
              "#ed7953"
             ],
             [
              0.7777777777777778,
              "#fb9f3a"
             ],
             [
              0.8888888888888888,
              "#fdca26"
             ],
             [
              1,
              "#f0f921"
             ]
            ],
            "type": "histogram2d"
           }
          ],
          "histogram2dcontour": [
           {
            "colorbar": {
             "outlinewidth": 0,
             "ticks": ""
            },
            "colorscale": [
             [
              0,
              "#0d0887"
             ],
             [
              0.1111111111111111,
              "#46039f"
             ],
             [
              0.2222222222222222,
              "#7201a8"
             ],
             [
              0.3333333333333333,
              "#9c179e"
             ],
             [
              0.4444444444444444,
              "#bd3786"
             ],
             [
              0.5555555555555556,
              "#d8576b"
             ],
             [
              0.6666666666666666,
              "#ed7953"
             ],
             [
              0.7777777777777778,
              "#fb9f3a"
             ],
             [
              0.8888888888888888,
              "#fdca26"
             ],
             [
              1,
              "#f0f921"
             ]
            ],
            "type": "histogram2dcontour"
           }
          ],
          "mesh3d": [
           {
            "colorbar": {
             "outlinewidth": 0,
             "ticks": ""
            },
            "type": "mesh3d"
           }
          ],
          "parcoords": [
           {
            "line": {
             "colorbar": {
              "outlinewidth": 0,
              "ticks": ""
             }
            },
            "type": "parcoords"
           }
          ],
          "pie": [
           {
            "automargin": true,
            "type": "pie"
           }
          ],
          "scatter": [
           {
            "fillpattern": {
             "fillmode": "overlay",
             "size": 10,
             "solidity": 0.2
            },
            "type": "scatter"
           }
          ],
          "scatter3d": [
           {
            "line": {
             "colorbar": {
              "outlinewidth": 0,
              "ticks": ""
             }
            },
            "marker": {
             "colorbar": {
              "outlinewidth": 0,
              "ticks": ""
             }
            },
            "type": "scatter3d"
           }
          ],
          "scattercarpet": [
           {
            "marker": {
             "colorbar": {
              "outlinewidth": 0,
              "ticks": ""
             }
            },
            "type": "scattercarpet"
           }
          ],
          "scattergeo": [
           {
            "marker": {
             "colorbar": {
              "outlinewidth": 0,
              "ticks": ""
             }
            },
            "type": "scattergeo"
           }
          ],
          "scattergl": [
           {
            "marker": {
             "colorbar": {
              "outlinewidth": 0,
              "ticks": ""
             }
            },
            "type": "scattergl"
           }
          ],
          "scattermap": [
           {
            "marker": {
             "colorbar": {
              "outlinewidth": 0,
              "ticks": ""
             }
            },
            "type": "scattermap"
           }
          ],
          "scattermapbox": [
           {
            "marker": {
             "colorbar": {
              "outlinewidth": 0,
              "ticks": ""
             }
            },
            "type": "scattermapbox"
           }
          ],
          "scatterpolar": [
           {
            "marker": {
             "colorbar": {
              "outlinewidth": 0,
              "ticks": ""
             }
            },
            "type": "scatterpolar"
           }
          ],
          "scatterpolargl": [
           {
            "marker": {
             "colorbar": {
              "outlinewidth": 0,
              "ticks": ""
             }
            },
            "type": "scatterpolargl"
           }
          ],
          "scatterternary": [
           {
            "marker": {
             "colorbar": {
              "outlinewidth": 0,
              "ticks": ""
             }
            },
            "type": "scatterternary"
           }
          ],
          "surface": [
           {
            "colorbar": {
             "outlinewidth": 0,
             "ticks": ""
            },
            "colorscale": [
             [
              0,
              "#0d0887"
             ],
             [
              0.1111111111111111,
              "#46039f"
             ],
             [
              0.2222222222222222,
              "#7201a8"
             ],
             [
              0.3333333333333333,
              "#9c179e"
             ],
             [
              0.4444444444444444,
              "#bd3786"
             ],
             [
              0.5555555555555556,
              "#d8576b"
             ],
             [
              0.6666666666666666,
              "#ed7953"
             ],
             [
              0.7777777777777778,
              "#fb9f3a"
             ],
             [
              0.8888888888888888,
              "#fdca26"
             ],
             [
              1,
              "#f0f921"
             ]
            ],
            "type": "surface"
           }
          ],
          "table": [
           {
            "cells": {
             "fill": {
              "color": "#EBF0F8"
             },
             "line": {
              "color": "white"
             }
            },
            "header": {
             "fill": {
              "color": "#C8D4E3"
             },
             "line": {
              "color": "white"
             }
            },
            "type": "table"
           }
          ]
         },
         "layout": {
          "annotationdefaults": {
           "arrowcolor": "#2a3f5f",
           "arrowhead": 0,
           "arrowwidth": 1
          },
          "autotypenumbers": "strict",
          "coloraxis": {
           "colorbar": {
            "outlinewidth": 0,
            "ticks": ""
           }
          },
          "colorscale": {
           "diverging": [
            [
             0,
             "#8e0152"
            ],
            [
             0.1,
             "#c51b7d"
            ],
            [
             0.2,
             "#de77ae"
            ],
            [
             0.3,
             "#f1b6da"
            ],
            [
             0.4,
             "#fde0ef"
            ],
            [
             0.5,
             "#f7f7f7"
            ],
            [
             0.6,
             "#e6f5d0"
            ],
            [
             0.7,
             "#b8e186"
            ],
            [
             0.8,
             "#7fbc41"
            ],
            [
             0.9,
             "#4d9221"
            ],
            [
             1,
             "#276419"
            ]
           ],
           "sequential": [
            [
             0,
             "#0d0887"
            ],
            [
             0.1111111111111111,
             "#46039f"
            ],
            [
             0.2222222222222222,
             "#7201a8"
            ],
            [
             0.3333333333333333,
             "#9c179e"
            ],
            [
             0.4444444444444444,
             "#bd3786"
            ],
            [
             0.5555555555555556,
             "#d8576b"
            ],
            [
             0.6666666666666666,
             "#ed7953"
            ],
            [
             0.7777777777777778,
             "#fb9f3a"
            ],
            [
             0.8888888888888888,
             "#fdca26"
            ],
            [
             1,
             "#f0f921"
            ]
           ],
           "sequentialminus": [
            [
             0,
             "#0d0887"
            ],
            [
             0.1111111111111111,
             "#46039f"
            ],
            [
             0.2222222222222222,
             "#7201a8"
            ],
            [
             0.3333333333333333,
             "#9c179e"
            ],
            [
             0.4444444444444444,
             "#bd3786"
            ],
            [
             0.5555555555555556,
             "#d8576b"
            ],
            [
             0.6666666666666666,
             "#ed7953"
            ],
            [
             0.7777777777777778,
             "#fb9f3a"
            ],
            [
             0.8888888888888888,
             "#fdca26"
            ],
            [
             1,
             "#f0f921"
            ]
           ]
          },
          "colorway": [
           "#636efa",
           "#EF553B",
           "#00cc96",
           "#ab63fa",
           "#FFA15A",
           "#19d3f3",
           "#FF6692",
           "#B6E880",
           "#FF97FF",
           "#FECB52"
          ],
          "font": {
           "color": "#2a3f5f"
          },
          "geo": {
           "bgcolor": "white",
           "lakecolor": "white",
           "landcolor": "#E5ECF6",
           "showlakes": true,
           "showland": true,
           "subunitcolor": "white"
          },
          "hoverlabel": {
           "align": "left"
          },
          "hovermode": "closest",
          "mapbox": {
           "style": "light"
          },
          "paper_bgcolor": "white",
          "plot_bgcolor": "#E5ECF6",
          "polar": {
           "angularaxis": {
            "gridcolor": "white",
            "linecolor": "white",
            "ticks": ""
           },
           "bgcolor": "#E5ECF6",
           "radialaxis": {
            "gridcolor": "white",
            "linecolor": "white",
            "ticks": ""
           }
          },
          "scene": {
           "xaxis": {
            "backgroundcolor": "#E5ECF6",
            "gridcolor": "white",
            "gridwidth": 2,
            "linecolor": "white",
            "showbackground": true,
            "ticks": "",
            "zerolinecolor": "white"
           },
           "yaxis": {
            "backgroundcolor": "#E5ECF6",
            "gridcolor": "white",
            "gridwidth": 2,
            "linecolor": "white",
            "showbackground": true,
            "ticks": "",
            "zerolinecolor": "white"
           },
           "zaxis": {
            "backgroundcolor": "#E5ECF6",
            "gridcolor": "white",
            "gridwidth": 2,
            "linecolor": "white",
            "showbackground": true,
            "ticks": "",
            "zerolinecolor": "white"
           }
          },
          "shapedefaults": {
           "line": {
            "color": "#2a3f5f"
           }
          },
          "ternary": {
           "aaxis": {
            "gridcolor": "white",
            "linecolor": "white",
            "ticks": ""
           },
           "baxis": {
            "gridcolor": "white",
            "linecolor": "white",
            "ticks": ""
           },
           "bgcolor": "#E5ECF6",
           "caxis": {
            "gridcolor": "white",
            "linecolor": "white",
            "ticks": ""
           }
          },
          "title": {
           "x": 0.05
          },
          "xaxis": {
           "automargin": true,
           "gridcolor": "white",
           "linecolor": "white",
           "ticks": "",
           "title": {
            "standoff": 15
           },
           "zerolinecolor": "white",
           "zerolinewidth": 2
          },
          "yaxis": {
           "automargin": true,
           "gridcolor": "white",
           "linecolor": "white",
           "ticks": "",
           "title": {
            "standoff": 15
           },
           "zerolinecolor": "white",
           "zerolinewidth": 2
          }
         }
        },
        "title": {
         "text": "Monthly Trading Volume"
        },
        "xaxis": {
         "anchor": "y",
         "domain": [
          0,
          1
         ],
         "tickangle": -45,
         "title": {
          "text": "Date"
         }
        },
        "yaxis": {
         "anchor": "x",
         "domain": [
          0,
          1
         ],
         "title": {
          "text": "Trading Volume"
         }
        }
       }
      }
     },
     "metadata": {},
     "output_type": "display_data"
    }
   ],
   "source": [
    "stock2_sorted = stock2[::-1]\n",
    "fig = px.bar(stock2_sorted, x=stock2_sorted.index, y=\"Volume\", \n",
    "             title=\"Monthly Trading Volume\", labels={\"index\": \"Date\", \"Volume\": \"Trading Volume\"},\n",
    "             color_discrete_sequence=[\"#009C8C\"])\n",
    "fig.update_layout(xaxis=dict(tickangle=-45))\n",
    "fig.show()"
   ]
  },
  {
   "cell_type": "code",
   "execution_count": 13,
   "id": "1b06cf21",
   "metadata": {},
   "outputs": [
    {
     "data": {
      "application/vnd.plotly.v1+json": {
       "config": {
        "plotlyServerURL": "https://plot.ly"
       },
       "data": [
        {
         "marker": {
          "color": "red"
         },
         "mode": "lines+markers",
         "name": "Change %",
         "type": "scatter",
         "x": [
          "2022-04-01T00:00:00.000000000",
          "2022-03-01T00:00:00.000000000",
          "2022-02-01T00:00:00.000000000",
          "2022-01-01T00:00:00.000000000",
          "2021-12-01T00:00:00.000000000",
          "2021-11-01T00:00:00.000000000",
          "2021-10-01T00:00:00.000000000",
          "2021-09-01T00:00:00.000000000",
          "2021-08-01T00:00:00.000000000",
          "2021-07-01T00:00:00.000000000",
          "2021-06-01T00:00:00.000000000",
          "2021-05-01T00:00:00.000000000",
          "2021-04-01T00:00:00.000000000",
          "2021-03-01T00:00:00.000000000",
          "2021-02-01T00:00:00.000000000",
          "2021-01-01T00:00:00.000000000",
          "2020-12-01T00:00:00.000000000",
          "2020-11-01T00:00:00.000000000",
          "2020-10-01T00:00:00.000000000",
          "2020-09-01T00:00:00.000000000",
          "2020-08-01T00:00:00.000000000",
          "2020-07-01T00:00:00.000000000",
          "2020-06-01T00:00:00.000000000",
          "2020-05-01T00:00:00.000000000",
          "2020-04-01T00:00:00.000000000",
          "2020-03-01T00:00:00.000000000",
          "2020-02-01T00:00:00.000000000",
          "2020-01-01T00:00:00.000000000",
          "2019-12-01T00:00:00.000000000",
          "2019-11-01T00:00:00.000000000",
          "2019-10-01T00:00:00.000000000",
          "2019-09-01T00:00:00.000000000",
          "2019-08-01T00:00:00.000000000",
          "2019-07-01T00:00:00.000000000",
          "2019-06-01T00:00:00.000000000",
          "2019-05-01T00:00:00.000000000",
          "2019-04-01T00:00:00.000000000",
          "2019-03-01T00:00:00.000000000",
          "2019-02-01T00:00:00.000000000",
          "2019-01-01T00:00:00.000000000",
          "2018-12-01T00:00:00.000000000",
          "2018-11-01T00:00:00.000000000",
          "2018-10-01T00:00:00.000000000"
         ],
         "y": {
          "bdata": "FK5H4XoUGcBI4XoUrkfpv2ZmZmZm5iLAw/UoXI/CIMCkcD0K1yMgQLgehetRuOY/j8L1KFyP8r+kcD0K16PoPylcj8L1KBxAexSuR+F6+L+uR+F6FK7nP83MzMzMzBHA4XoUrkfh6r9I4XoUrsciQLgehetRuJ4/PQrXo3C9IUC4HoXrUbgTQHE9CtejcCZApHA9CtejGsDD9Shcj8ILQB+F61G4HhtAMzMzMzMzC0BI4XoUrkcZQFyPwvUoXDBAH4XrUbieIkDhehSuR+EwwIXrUbgehTDAzczMzMzMEMAAAAAAAADgvxSuR+F6lCpA4XoUrkfhFECPwvUoXA8gQD0K16NwPSDAcT0K16NwFcD2KFyPwvUIQOF6FK5H4RPAhetRuB6FJkCamZmZmZnJv65H4XoUrtc/PQrXo3A9+r+amZmZmZkTwHE9CtejcOU/PQrXo3A9H8A=",
          "dtype": "f8"
         }
        }
       ],
       "layout": {
        "shapes": [
         {
          "line": {
           "color": "black",
           "dash": "dash",
           "width": 1
          },
          "type": "line",
          "x0": 0,
          "x1": 1,
          "xref": "x domain",
          "y0": 0,
          "y1": 0,
          "yref": "y"
         }
        ],
        "showlegend": true,
        "template": {
         "data": {
          "bar": [
           {
            "error_x": {
             "color": "#2a3f5f"
            },
            "error_y": {
             "color": "#2a3f5f"
            },
            "marker": {
             "line": {
              "color": "white",
              "width": 0.5
             },
             "pattern": {
              "fillmode": "overlay",
              "size": 10,
              "solidity": 0.2
             }
            },
            "type": "bar"
           }
          ],
          "barpolar": [
           {
            "marker": {
             "line": {
              "color": "white",
              "width": 0.5
             },
             "pattern": {
              "fillmode": "overlay",
              "size": 10,
              "solidity": 0.2
             }
            },
            "type": "barpolar"
           }
          ],
          "carpet": [
           {
            "aaxis": {
             "endlinecolor": "#2a3f5f",
             "gridcolor": "#C8D4E3",
             "linecolor": "#C8D4E3",
             "minorgridcolor": "#C8D4E3",
             "startlinecolor": "#2a3f5f"
            },
            "baxis": {
             "endlinecolor": "#2a3f5f",
             "gridcolor": "#C8D4E3",
             "linecolor": "#C8D4E3",
             "minorgridcolor": "#C8D4E3",
             "startlinecolor": "#2a3f5f"
            },
            "type": "carpet"
           }
          ],
          "choropleth": [
           {
            "colorbar": {
             "outlinewidth": 0,
             "ticks": ""
            },
            "type": "choropleth"
           }
          ],
          "contour": [
           {
            "colorbar": {
             "outlinewidth": 0,
             "ticks": ""
            },
            "colorscale": [
             [
              0,
              "#0d0887"
             ],
             [
              0.1111111111111111,
              "#46039f"
             ],
             [
              0.2222222222222222,
              "#7201a8"
             ],
             [
              0.3333333333333333,
              "#9c179e"
             ],
             [
              0.4444444444444444,
              "#bd3786"
             ],
             [
              0.5555555555555556,
              "#d8576b"
             ],
             [
              0.6666666666666666,
              "#ed7953"
             ],
             [
              0.7777777777777778,
              "#fb9f3a"
             ],
             [
              0.8888888888888888,
              "#fdca26"
             ],
             [
              1,
              "#f0f921"
             ]
            ],
            "type": "contour"
           }
          ],
          "contourcarpet": [
           {
            "colorbar": {
             "outlinewidth": 0,
             "ticks": ""
            },
            "type": "contourcarpet"
           }
          ],
          "heatmap": [
           {
            "colorbar": {
             "outlinewidth": 0,
             "ticks": ""
            },
            "colorscale": [
             [
              0,
              "#0d0887"
             ],
             [
              0.1111111111111111,
              "#46039f"
             ],
             [
              0.2222222222222222,
              "#7201a8"
             ],
             [
              0.3333333333333333,
              "#9c179e"
             ],
             [
              0.4444444444444444,
              "#bd3786"
             ],
             [
              0.5555555555555556,
              "#d8576b"
             ],
             [
              0.6666666666666666,
              "#ed7953"
             ],
             [
              0.7777777777777778,
              "#fb9f3a"
             ],
             [
              0.8888888888888888,
              "#fdca26"
             ],
             [
              1,
              "#f0f921"
             ]
            ],
            "type": "heatmap"
           }
          ],
          "histogram": [
           {
            "marker": {
             "pattern": {
              "fillmode": "overlay",
              "size": 10,
              "solidity": 0.2
             }
            },
            "type": "histogram"
           }
          ],
          "histogram2d": [
           {
            "colorbar": {
             "outlinewidth": 0,
             "ticks": ""
            },
            "colorscale": [
             [
              0,
              "#0d0887"
             ],
             [
              0.1111111111111111,
              "#46039f"
             ],
             [
              0.2222222222222222,
              "#7201a8"
             ],
             [
              0.3333333333333333,
              "#9c179e"
             ],
             [
              0.4444444444444444,
              "#bd3786"
             ],
             [
              0.5555555555555556,
              "#d8576b"
             ],
             [
              0.6666666666666666,
              "#ed7953"
             ],
             [
              0.7777777777777778,
              "#fb9f3a"
             ],
             [
              0.8888888888888888,
              "#fdca26"
             ],
             [
              1,
              "#f0f921"
             ]
            ],
            "type": "histogram2d"
           }
          ],
          "histogram2dcontour": [
           {
            "colorbar": {
             "outlinewidth": 0,
             "ticks": ""
            },
            "colorscale": [
             [
              0,
              "#0d0887"
             ],
             [
              0.1111111111111111,
              "#46039f"
             ],
             [
              0.2222222222222222,
              "#7201a8"
             ],
             [
              0.3333333333333333,
              "#9c179e"
             ],
             [
              0.4444444444444444,
              "#bd3786"
             ],
             [
              0.5555555555555556,
              "#d8576b"
             ],
             [
              0.6666666666666666,
              "#ed7953"
             ],
             [
              0.7777777777777778,
              "#fb9f3a"
             ],
             [
              0.8888888888888888,
              "#fdca26"
             ],
             [
              1,
              "#f0f921"
             ]
            ],
            "type": "histogram2dcontour"
           }
          ],
          "mesh3d": [
           {
            "colorbar": {
             "outlinewidth": 0,
             "ticks": ""
            },
            "type": "mesh3d"
           }
          ],
          "parcoords": [
           {
            "line": {
             "colorbar": {
              "outlinewidth": 0,
              "ticks": ""
             }
            },
            "type": "parcoords"
           }
          ],
          "pie": [
           {
            "automargin": true,
            "type": "pie"
           }
          ],
          "scatter": [
           {
            "fillpattern": {
             "fillmode": "overlay",
             "size": 10,
             "solidity": 0.2
            },
            "type": "scatter"
           }
          ],
          "scatter3d": [
           {
            "line": {
             "colorbar": {
              "outlinewidth": 0,
              "ticks": ""
             }
            },
            "marker": {
             "colorbar": {
              "outlinewidth": 0,
              "ticks": ""
             }
            },
            "type": "scatter3d"
           }
          ],
          "scattercarpet": [
           {
            "marker": {
             "colorbar": {
              "outlinewidth": 0,
              "ticks": ""
             }
            },
            "type": "scattercarpet"
           }
          ],
          "scattergeo": [
           {
            "marker": {
             "colorbar": {
              "outlinewidth": 0,
              "ticks": ""
             }
            },
            "type": "scattergeo"
           }
          ],
          "scattergl": [
           {
            "marker": {
             "colorbar": {
              "outlinewidth": 0,
              "ticks": ""
             }
            },
            "type": "scattergl"
           }
          ],
          "scattermap": [
           {
            "marker": {
             "colorbar": {
              "outlinewidth": 0,
              "ticks": ""
             }
            },
            "type": "scattermap"
           }
          ],
          "scattermapbox": [
           {
            "marker": {
             "colorbar": {
              "outlinewidth": 0,
              "ticks": ""
             }
            },
            "type": "scattermapbox"
           }
          ],
          "scatterpolar": [
           {
            "marker": {
             "colorbar": {
              "outlinewidth": 0,
              "ticks": ""
             }
            },
            "type": "scatterpolar"
           }
          ],
          "scatterpolargl": [
           {
            "marker": {
             "colorbar": {
              "outlinewidth": 0,
              "ticks": ""
             }
            },
            "type": "scatterpolargl"
           }
          ],
          "scatterternary": [
           {
            "marker": {
             "colorbar": {
              "outlinewidth": 0,
              "ticks": ""
             }
            },
            "type": "scatterternary"
           }
          ],
          "surface": [
           {
            "colorbar": {
             "outlinewidth": 0,
             "ticks": ""
            },
            "colorscale": [
             [
              0,
              "#0d0887"
             ],
             [
              0.1111111111111111,
              "#46039f"
             ],
             [
              0.2222222222222222,
              "#7201a8"
             ],
             [
              0.3333333333333333,
              "#9c179e"
             ],
             [
              0.4444444444444444,
              "#bd3786"
             ],
             [
              0.5555555555555556,
              "#d8576b"
             ],
             [
              0.6666666666666666,
              "#ed7953"
             ],
             [
              0.7777777777777778,
              "#fb9f3a"
             ],
             [
              0.8888888888888888,
              "#fdca26"
             ],
             [
              1,
              "#f0f921"
             ]
            ],
            "type": "surface"
           }
          ],
          "table": [
           {
            "cells": {
             "fill": {
              "color": "#EBF0F8"
             },
             "line": {
              "color": "white"
             }
            },
            "header": {
             "fill": {
              "color": "#C8D4E3"
             },
             "line": {
              "color": "white"
             }
            },
            "type": "table"
           }
          ]
         },
         "layout": {
          "annotationdefaults": {
           "arrowcolor": "#2a3f5f",
           "arrowhead": 0,
           "arrowwidth": 1
          },
          "autotypenumbers": "strict",
          "coloraxis": {
           "colorbar": {
            "outlinewidth": 0,
            "ticks": ""
           }
          },
          "colorscale": {
           "diverging": [
            [
             0,
             "#8e0152"
            ],
            [
             0.1,
             "#c51b7d"
            ],
            [
             0.2,
             "#de77ae"
            ],
            [
             0.3,
             "#f1b6da"
            ],
            [
             0.4,
             "#fde0ef"
            ],
            [
             0.5,
             "#f7f7f7"
            ],
            [
             0.6,
             "#e6f5d0"
            ],
            [
             0.7,
             "#b8e186"
            ],
            [
             0.8,
             "#7fbc41"
            ],
            [
             0.9,
             "#4d9221"
            ],
            [
             1,
             "#276419"
            ]
           ],
           "sequential": [
            [
             0,
             "#0d0887"
            ],
            [
             0.1111111111111111,
             "#46039f"
            ],
            [
             0.2222222222222222,
             "#7201a8"
            ],
            [
             0.3333333333333333,
             "#9c179e"
            ],
            [
             0.4444444444444444,
             "#bd3786"
            ],
            [
             0.5555555555555556,
             "#d8576b"
            ],
            [
             0.6666666666666666,
             "#ed7953"
            ],
            [
             0.7777777777777778,
             "#fb9f3a"
            ],
            [
             0.8888888888888888,
             "#fdca26"
            ],
            [
             1,
             "#f0f921"
            ]
           ],
           "sequentialminus": [
            [
             0,
             "#0d0887"
            ],
            [
             0.1111111111111111,
             "#46039f"
            ],
            [
             0.2222222222222222,
             "#7201a8"
            ],
            [
             0.3333333333333333,
             "#9c179e"
            ],
            [
             0.4444444444444444,
             "#bd3786"
            ],
            [
             0.5555555555555556,
             "#d8576b"
            ],
            [
             0.6666666666666666,
             "#ed7953"
            ],
            [
             0.7777777777777778,
             "#fb9f3a"
            ],
            [
             0.8888888888888888,
             "#fdca26"
            ],
            [
             1,
             "#f0f921"
            ]
           ]
          },
          "colorway": [
           "#636efa",
           "#EF553B",
           "#00cc96",
           "#ab63fa",
           "#FFA15A",
           "#19d3f3",
           "#FF6692",
           "#B6E880",
           "#FF97FF",
           "#FECB52"
          ],
          "font": {
           "color": "#2a3f5f"
          },
          "geo": {
           "bgcolor": "white",
           "lakecolor": "white",
           "landcolor": "white",
           "showlakes": true,
           "showland": true,
           "subunitcolor": "#C8D4E3"
          },
          "hoverlabel": {
           "align": "left"
          },
          "hovermode": "closest",
          "mapbox": {
           "style": "light"
          },
          "paper_bgcolor": "white",
          "plot_bgcolor": "white",
          "polar": {
           "angularaxis": {
            "gridcolor": "#EBF0F8",
            "linecolor": "#EBF0F8",
            "ticks": ""
           },
           "bgcolor": "white",
           "radialaxis": {
            "gridcolor": "#EBF0F8",
            "linecolor": "#EBF0F8",
            "ticks": ""
           }
          },
          "scene": {
           "xaxis": {
            "backgroundcolor": "white",
            "gridcolor": "#DFE8F3",
            "gridwidth": 2,
            "linecolor": "#EBF0F8",
            "showbackground": true,
            "ticks": "",
            "zerolinecolor": "#EBF0F8"
           },
           "yaxis": {
            "backgroundcolor": "white",
            "gridcolor": "#DFE8F3",
            "gridwidth": 2,
            "linecolor": "#EBF0F8",
            "showbackground": true,
            "ticks": "",
            "zerolinecolor": "#EBF0F8"
           },
           "zaxis": {
            "backgroundcolor": "white",
            "gridcolor": "#DFE8F3",
            "gridwidth": 2,
            "linecolor": "#EBF0F8",
            "showbackground": true,
            "ticks": "",
            "zerolinecolor": "#EBF0F8"
           }
          },
          "shapedefaults": {
           "line": {
            "color": "#2a3f5f"
           }
          },
          "ternary": {
           "aaxis": {
            "gridcolor": "#DFE8F3",
            "linecolor": "#A2B1C6",
            "ticks": ""
           },
           "baxis": {
            "gridcolor": "#DFE8F3",
            "linecolor": "#A2B1C6",
            "ticks": ""
           },
           "bgcolor": "white",
           "caxis": {
            "gridcolor": "#DFE8F3",
            "linecolor": "#A2B1C6",
            "ticks": ""
           }
          },
          "title": {
           "x": 0.05
          },
          "xaxis": {
           "automargin": true,
           "gridcolor": "#EBF0F8",
           "linecolor": "#EBF0F8",
           "ticks": "",
           "title": {
            "standoff": 15
           },
           "zerolinecolor": "#EBF0F8",
           "zerolinewidth": 2
          },
          "yaxis": {
           "automargin": true,
           "gridcolor": "#EBF0F8",
           "linecolor": "#EBF0F8",
           "ticks": "",
           "title": {
            "standoff": 15
           },
           "zerolinecolor": "#EBF0F8",
           "zerolinewidth": 2
          }
         }
        },
        "title": {
         "text": "Percentage Change Over Time"
        },
        "xaxis": {
         "tickangle": 45,
         "title": {
          "text": "Date"
         }
        },
        "yaxis": {
         "title": {
          "text": "Change %"
         }
        }
       }
      }
     },
     "metadata": {},
     "output_type": "display_data"
    }
   ],
   "source": [
    "fig = go.Figure()\n",
    "fig.add_trace(go.Scatter(x=stock2.index, y=stock2[\"Change %\"], \n",
    "                         mode='lines+markers', \n",
    "                         marker=dict(color='red'),\n",
    "                         name='Change %'))\n",
    "fig.add_hline(y=0, line=dict(dash='dash', color='black', width=1))\n",
    "fig.update_layout(\n",
    "    title=\"Percentage Change Over Time\",\n",
    "    xaxis_title=\"Date\",\n",
    "    yaxis_title=\"Change %\",\n",
    "    xaxis=dict(tickangle=45),\n",
    "    template=\"plotly_white\",\n",
    "    showlegend=True\n",
    ")\n",
    "fig.show()"
   ]
  },
  {
   "cell_type": "markdown",
   "id": "3116790e",
   "metadata": {},
   "source": [
    "Between November 2019 and March 2020, Siemens' stock price experienced its most significant decline within this timeframe. This may have been driven by the COVID-19 pandemic, which increased market instability and lowered demand. Additionally, two other possible factors could be the trade tensions between China and the United States and the oil price crash in early March 2020, caused by a dispute between Russia and Saudi Arabia. Interestingly, Siemens recorded the highest total number of shares traded in March 2020.\n",
    "\n",
    "From March 2020 to March 2021, Siemens' stock prices generally increased, despite some fluctuations, including a decline in October 2020.This increase can be attributed to the adjustment of global economies and the introduction of government stimulus measures to support businesses.\n",
    "\n",
    "After, December 2021 the stocks price decreased."
   ]
  },
  {
   "cell_type": "code",
   "execution_count": 14,
   "id": "a4ddc1f4",
   "metadata": {
    "ExecuteTime": {
     "end_time": "2025-03-21T18:12:01.526067Z",
     "start_time": "2025-03-21T18:12:01.519446Z"
    }
   },
   "outputs": [],
   "source": [
    "#stock2.to_csv('./extra data/clean_stock_data.csv')"
   ]
  },
  {
   "cell_type": "markdown",
   "id": "61b02a76",
   "metadata": {},
   "source": [
    "# 2. Consumer Confidence Data"
   ]
  },
  {
   "cell_type": "markdown",
   "id": "9c95de63",
   "metadata": {},
   "source": [
    "The Consumer Confidence Index (CCI) provides insights into expected household consumption and saving trends. It reflects consumer sentiment on financial conditions, the economy, unemployment, and savings ability. A CCI above 100 signals confidence, leading to increased spending on major purchases, while a score below 100 suggests pessimism, prompting more saving and reduced consumption. Tracking CCI can help Siemens anticipate shifts in consumer behavior across regions.\n",
    "\n",
    "The data can be found at:\n",
    "\n",
    "OECD. (n.d.). Composite leading indicators (CLI) - Monthly data. OECD. Retrieved March 17, 2025, from https://data-explorer.oecd.org/vis?lc=en&pg=0&snb=1&vw=tb&df[ds]=dsDisseminateFinalDMZ&df[id]=DSD_STES%40DF_CLI&df[ag]=OECD.SDD.STES&df[vs]=&pd=2018-11%2C2022-04&dq=CHN%2BOECDE%2BCHE%2BFRA%2BUSA%2BGBR%2BJPN%2BITA%2BDEU.M.CCICP...AA...H&ly[rw]=TIME_PERIOD&ly[cl]=REF_AREA&to[TIME_PERIOD]=false"
   ]
  },
  {
   "cell_type": "code",
   "execution_count": 15,
   "id": "7a0f8590",
   "metadata": {},
   "outputs": [
    {
     "data": {
      "text/html": [
       "<div>\n",
       "<style scoped>\n",
       "    .dataframe tbody tr th:only-of-type {\n",
       "        vertical-align: middle;\n",
       "    }\n",
       "\n",
       "    .dataframe tbody tr th {\n",
       "        vertical-align: top;\n",
       "    }\n",
       "\n",
       "    .dataframe thead th {\n",
       "        text-align: right;\n",
       "    }\n",
       "</style>\n",
       "<table border=\"1\" class=\"dataframe\">\n",
       "  <thead>\n",
       "    <tr style=\"text-align: right;\">\n",
       "      <th></th>\n",
       "      <th>STRUCTURE</th>\n",
       "      <th>STRUCTURE_ID</th>\n",
       "      <th>STRUCTURE_NAME</th>\n",
       "      <th>ACTION</th>\n",
       "      <th>REF_AREA</th>\n",
       "      <th>Reference area</th>\n",
       "      <th>FREQ</th>\n",
       "      <th>Frequency of observation</th>\n",
       "      <th>MEASURE</th>\n",
       "      <th>Measure</th>\n",
       "      <th>UNIT_MEASURE</th>\n",
       "      <th>Unit of measure</th>\n",
       "      <th>ACTIVITY</th>\n",
       "      <th>Economic activity</th>\n",
       "      <th>ADJUSTMENT</th>\n",
       "      <th>Adjustment</th>\n",
       "      <th>TRANSFORMATION</th>\n",
       "      <th>Transformation</th>\n",
       "      <th>TIME_HORIZ</th>\n",
       "      <th>Time horizon</th>\n",
       "      <th>METHODOLOGY</th>\n",
       "      <th>Calculation methodology</th>\n",
       "      <th>TIME_PERIOD</th>\n",
       "      <th>Time period</th>\n",
       "      <th>OBS_VALUE</th>\n",
       "      <th>Observation value</th>\n",
       "      <th>OBS_STATUS</th>\n",
       "      <th>Observation status</th>\n",
       "      <th>UNIT_MULT</th>\n",
       "      <th>Unit multiplier</th>\n",
       "      <th>DECIMALS</th>\n",
       "      <th>Decimals</th>\n",
       "      <th>BASE_PER</th>\n",
       "      <th>Base period</th>\n",
       "    </tr>\n",
       "  </thead>\n",
       "  <tbody>\n",
       "    <tr>\n",
       "      <th>0</th>\n",
       "      <td>DATAFLOW</td>\n",
       "      <td>OECD.SDD.STES:DSD_STES@DF_CLI(4.1)</td>\n",
       "      <td>Composite leading indicators</td>\n",
       "      <td>I</td>\n",
       "      <td>USA</td>\n",
       "      <td>United States</td>\n",
       "      <td>M</td>\n",
       "      <td>Monthly</td>\n",
       "      <td>CCICP</td>\n",
       "      <td>Composite consumer confidence</td>\n",
       "      <td>IX</td>\n",
       "      <td>Index</td>\n",
       "      <td>_Z</td>\n",
       "      <td>Not applicable</td>\n",
       "      <td>AA</td>\n",
       "      <td>Amplitude adjusted</td>\n",
       "      <td>IX</td>\n",
       "      <td>Index</td>\n",
       "      <td>_Z</td>\n",
       "      <td>Not applicable</td>\n",
       "      <td>H</td>\n",
       "      <td>OECD harmonised</td>\n",
       "      <td>2020-01</td>\n",
       "      <td>NaN</td>\n",
       "      <td>101.6108</td>\n",
       "      <td>NaN</td>\n",
       "      <td>A</td>\n",
       "      <td>Normal value</td>\n",
       "      <td>0</td>\n",
       "      <td>Units</td>\n",
       "      <td>2</td>\n",
       "      <td>Two</td>\n",
       "      <td>NaN</td>\n",
       "      <td>NaN</td>\n",
       "    </tr>\n",
       "    <tr>\n",
       "      <th>1</th>\n",
       "      <td>DATAFLOW</td>\n",
       "      <td>OECD.SDD.STES:DSD_STES@DF_CLI(4.1)</td>\n",
       "      <td>Composite leading indicators</td>\n",
       "      <td>I</td>\n",
       "      <td>USA</td>\n",
       "      <td>United States</td>\n",
       "      <td>M</td>\n",
       "      <td>Monthly</td>\n",
       "      <td>CCICP</td>\n",
       "      <td>Composite consumer confidence</td>\n",
       "      <td>IX</td>\n",
       "      <td>Index</td>\n",
       "      <td>_Z</td>\n",
       "      <td>Not applicable</td>\n",
       "      <td>AA</td>\n",
       "      <td>Amplitude adjusted</td>\n",
       "      <td>IX</td>\n",
       "      <td>Index</td>\n",
       "      <td>_Z</td>\n",
       "      <td>Not applicable</td>\n",
       "      <td>H</td>\n",
       "      <td>OECD harmonised</td>\n",
       "      <td>2020-02</td>\n",
       "      <td>NaN</td>\n",
       "      <td>101.1944</td>\n",
       "      <td>NaN</td>\n",
       "      <td>A</td>\n",
       "      <td>Normal value</td>\n",
       "      <td>0</td>\n",
       "      <td>Units</td>\n",
       "      <td>2</td>\n",
       "      <td>Two</td>\n",
       "      <td>NaN</td>\n",
       "      <td>NaN</td>\n",
       "    </tr>\n",
       "    <tr>\n",
       "      <th>2</th>\n",
       "      <td>DATAFLOW</td>\n",
       "      <td>OECD.SDD.STES:DSD_STES@DF_CLI(4.1)</td>\n",
       "      <td>Composite leading indicators</td>\n",
       "      <td>I</td>\n",
       "      <td>OECDE</td>\n",
       "      <td>OECD Europe</td>\n",
       "      <td>M</td>\n",
       "      <td>Monthly</td>\n",
       "      <td>CCICP</td>\n",
       "      <td>Composite consumer confidence</td>\n",
       "      <td>IX</td>\n",
       "      <td>Index</td>\n",
       "      <td>_Z</td>\n",
       "      <td>Not applicable</td>\n",
       "      <td>AA</td>\n",
       "      <td>Amplitude adjusted</td>\n",
       "      <td>IX</td>\n",
       "      <td>Index</td>\n",
       "      <td>_Z</td>\n",
       "      <td>Not applicable</td>\n",
       "      <td>H</td>\n",
       "      <td>OECD harmonised</td>\n",
       "      <td>2018-12</td>\n",
       "      <td>NaN</td>\n",
       "      <td>100.5454</td>\n",
       "      <td>NaN</td>\n",
       "      <td>A</td>\n",
       "      <td>Normal value</td>\n",
       "      <td>0</td>\n",
       "      <td>Units</td>\n",
       "      <td>2</td>\n",
       "      <td>Two</td>\n",
       "      <td>NaN</td>\n",
       "      <td>NaN</td>\n",
       "    </tr>\n",
       "  </tbody>\n",
       "</table>\n",
       "</div>"
      ],
      "text/plain": [
       "  STRUCTURE                        STRUCTURE_ID                STRUCTURE_NAME  \\\n",
       "0  DATAFLOW  OECD.SDD.STES:DSD_STES@DF_CLI(4.1)  Composite leading indicators   \n",
       "1  DATAFLOW  OECD.SDD.STES:DSD_STES@DF_CLI(4.1)  Composite leading indicators   \n",
       "2  DATAFLOW  OECD.SDD.STES:DSD_STES@DF_CLI(4.1)  Composite leading indicators   \n",
       "\n",
       "  ACTION REF_AREA Reference area FREQ Frequency of observation MEASURE  \\\n",
       "0      I      USA  United States    M                  Monthly   CCICP   \n",
       "1      I      USA  United States    M                  Monthly   CCICP   \n",
       "2      I    OECDE    OECD Europe    M                  Monthly   CCICP   \n",
       "\n",
       "                         Measure UNIT_MEASURE Unit of measure ACTIVITY  \\\n",
       "0  Composite consumer confidence           IX           Index       _Z   \n",
       "1  Composite consumer confidence           IX           Index       _Z   \n",
       "2  Composite consumer confidence           IX           Index       _Z   \n",
       "\n",
       "  Economic activity ADJUSTMENT          Adjustment TRANSFORMATION  \\\n",
       "0    Not applicable         AA  Amplitude adjusted             IX   \n",
       "1    Not applicable         AA  Amplitude adjusted             IX   \n",
       "2    Not applicable         AA  Amplitude adjusted             IX   \n",
       "\n",
       "  Transformation TIME_HORIZ    Time horizon METHODOLOGY  \\\n",
       "0          Index         _Z  Not applicable           H   \n",
       "1          Index         _Z  Not applicable           H   \n",
       "2          Index         _Z  Not applicable           H   \n",
       "\n",
       "  Calculation methodology TIME_PERIOD  Time period  OBS_VALUE  \\\n",
       "0         OECD harmonised     2020-01          NaN   101.6108   \n",
       "1         OECD harmonised     2020-02          NaN   101.1944   \n",
       "2         OECD harmonised     2018-12          NaN   100.5454   \n",
       "\n",
       "   Observation value OBS_STATUS Observation status  UNIT_MULT Unit multiplier  \\\n",
       "0                NaN          A       Normal value          0           Units   \n",
       "1                NaN          A       Normal value          0           Units   \n",
       "2                NaN          A       Normal value          0           Units   \n",
       "\n",
       "   DECIMALS Decimals  BASE_PER  Base period  \n",
       "0         2      Two       NaN          NaN  \n",
       "1         2      Two       NaN          NaN  \n",
       "2         2      Two       NaN          NaN  "
      ]
     },
     "execution_count": 15,
     "metadata": {},
     "output_type": "execute_result"
    }
   ],
   "source": [
    "consumer_confidence = pd.read_csv('./extra data/composite_consumer_confidence.csv')\n",
    "consumer_confidence.head(3)"
   ]
  },
  {
   "cell_type": "code",
   "execution_count": 16,
   "id": "d745401a",
   "metadata": {
    "ExecuteTime": {
     "end_time": "2025-03-21T18:12:01.538774Z",
     "start_time": "2025-03-21T18:12:01.527941Z"
    }
   },
   "outputs": [],
   "source": [
    "consumer_confidence.drop(['STRUCTURE','STRUCTURE_ID', 'STRUCTURE_NAME', \n",
    "                          'ACTION', 'FREQ', 'Frequency of observation',\n",
    "                          'MEASURE', 'Measure', 'UNIT_MEASURE',\n",
    "                          'Unit of measure', 'ACTIVITY', 'Economic activity',\n",
    "                          'ADJUSTMENT', 'Adjustment', 'TRANSFORMATION',\n",
    "                          'Transformation', 'TIME_HORIZ', 'Time horizon',\n",
    "                          'METHODOLOGY', 'Calculation methodology', 'Time period',\n",
    "                          'Observation value', 'OBS_STATUS', 'UNIT_MULT', 'Observation status',\n",
    "                          'Unit multiplier', 'DECIMALS', 'BASE_PER', 'Base period', 'Decimals',\n",
    "                          'REF_AREA'],\n",
    "                         axis = 1, inplace = True)"
   ]
  },
  {
   "cell_type": "code",
   "execution_count": 17,
   "id": "f321aa3c",
   "metadata": {
    "ExecuteTime": {
     "end_time": "2025-03-21T18:12:01.545682Z",
     "start_time": "2025-03-21T18:12:01.540892Z"
    }
   },
   "outputs": [],
   "source": [
    "consumer_confidence['TIME_PERIOD'] =  pd.to_datetime(consumer_confidence['TIME_PERIOD'])\n",
    "consumer_confidence = consumer_confidence.set_index('TIME_PERIOD')"
   ]
  },
  {
   "cell_type": "markdown",
   "id": "0a09e29e",
   "metadata": {},
   "source": [
    "The pivot table will be created to transform the countries into columns for easier comparison."
   ]
  },
  {
   "cell_type": "code",
   "execution_count": 18,
   "id": "87a42495",
   "metadata": {
    "ExecuteTime": {
     "end_time": "2025-03-21T18:12:01.574455Z",
     "start_time": "2025-03-21T18:12:01.547653Z"
    },
    "scrolled": true
   },
   "outputs": [
    {
     "data": {
      "text/html": [
       "<div>\n",
       "<style scoped>\n",
       "    .dataframe tbody tr th:only-of-type {\n",
       "        vertical-align: middle;\n",
       "    }\n",
       "\n",
       "    .dataframe tbody tr th {\n",
       "        vertical-align: top;\n",
       "    }\n",
       "\n",
       "    .dataframe thead th {\n",
       "        text-align: right;\n",
       "    }\n",
       "</style>\n",
       "<table border=\"1\" class=\"dataframe\">\n",
       "  <thead>\n",
       "    <tr style=\"text-align: right;\">\n",
       "      <th>Reference area</th>\n",
       "      <th>China (People’s Republic of)</th>\n",
       "      <th>France</th>\n",
       "      <th>Germany</th>\n",
       "      <th>Italy</th>\n",
       "      <th>Japan</th>\n",
       "      <th>OECD Europe</th>\n",
       "      <th>Switzerland</th>\n",
       "      <th>United Kingdom</th>\n",
       "      <th>United States</th>\n",
       "    </tr>\n",
       "    <tr>\n",
       "      <th>TIME_PERIOD</th>\n",
       "      <th></th>\n",
       "      <th></th>\n",
       "      <th></th>\n",
       "      <th></th>\n",
       "      <th></th>\n",
       "      <th></th>\n",
       "      <th></th>\n",
       "      <th></th>\n",
       "      <th></th>\n",
       "    </tr>\n",
       "  </thead>\n",
       "  <tbody>\n",
       "    <tr>\n",
       "      <th>2018-10-01</th>\n",
       "      <td>102.8056</td>\n",
       "      <td>98.94864</td>\n",
       "      <td>101.5778</td>\n",
       "      <td>101.7588</td>\n",
       "      <td>100.38490</td>\n",
       "      <td>100.7815</td>\n",
       "      <td>100.31800</td>\n",
       "      <td>100.69820</td>\n",
       "      <td>101.5022</td>\n",
       "    </tr>\n",
       "    <tr>\n",
       "      <th>2018-11-01</th>\n",
       "      <td>103.2386</td>\n",
       "      <td>98.71818</td>\n",
       "      <td>101.5438</td>\n",
       "      <td>101.6450</td>\n",
       "      <td>100.28500</td>\n",
       "      <td>100.6595</td>\n",
       "      <td>100.30690</td>\n",
       "      <td>100.43900</td>\n",
       "      <td>101.3958</td>\n",
       "    </tr>\n",
       "    <tr>\n",
       "      <th>2018-12-01</th>\n",
       "      <td>103.6305</td>\n",
       "      <td>98.62968</td>\n",
       "      <td>101.5190</td>\n",
       "      <td>101.4642</td>\n",
       "      <td>100.17410</td>\n",
       "      <td>100.5454</td>\n",
       "      <td>100.17240</td>\n",
       "      <td>100.13600</td>\n",
       "      <td>101.2298</td>\n",
       "    </tr>\n",
       "    <tr>\n",
       "      <th>2019-01-01</th>\n",
       "      <td>103.9405</td>\n",
       "      <td>98.97886</td>\n",
       "      <td>101.5336</td>\n",
       "      <td>101.2748</td>\n",
       "      <td>100.02720</td>\n",
       "      <td>100.5180</td>\n",
       "      <td>99.97832</td>\n",
       "      <td>99.85248</td>\n",
       "      <td>101.0311</td>\n",
       "    </tr>\n",
       "    <tr>\n",
       "      <th>2019-02-01</th>\n",
       "      <td>104.1535</td>\n",
       "      <td>99.37622</td>\n",
       "      <td>101.5480</td>\n",
       "      <td>101.0606</td>\n",
       "      <td>99.87872</td>\n",
       "      <td>100.5431</td>\n",
       "      <td>99.80544</td>\n",
       "      <td>99.72394</td>\n",
       "      <td>101.0838</td>\n",
       "    </tr>\n",
       "  </tbody>\n",
       "</table>\n",
       "</div>"
      ],
      "text/plain": [
       "Reference area  China (People’s Republic of)    France   Germany     Italy  \\\n",
       "TIME_PERIOD                                                                  \n",
       "2018-10-01                          102.8056  98.94864  101.5778  101.7588   \n",
       "2018-11-01                          103.2386  98.71818  101.5438  101.6450   \n",
       "2018-12-01                          103.6305  98.62968  101.5190  101.4642   \n",
       "2019-01-01                          103.9405  98.97886  101.5336  101.2748   \n",
       "2019-02-01                          104.1535  99.37622  101.5480  101.0606   \n",
       "\n",
       "Reference area      Japan  OECD Europe  Switzerland  United Kingdom  \\\n",
       "TIME_PERIOD                                                           \n",
       "2018-10-01      100.38490     100.7815    100.31800       100.69820   \n",
       "2018-11-01      100.28500     100.6595    100.30690       100.43900   \n",
       "2018-12-01      100.17410     100.5454    100.17240       100.13600   \n",
       "2019-01-01      100.02720     100.5180     99.97832        99.85248   \n",
       "2019-02-01       99.87872     100.5431     99.80544        99.72394   \n",
       "\n",
       "Reference area  United States  \n",
       "TIME_PERIOD                    \n",
       "2018-10-01           101.5022  \n",
       "2018-11-01           101.3958  \n",
       "2018-12-01           101.2298  \n",
       "2019-01-01           101.0311  \n",
       "2019-02-01           101.0838  "
      ]
     },
     "execution_count": 18,
     "metadata": {},
     "output_type": "execute_result"
    }
   ],
   "source": [
    "cc2 = consumer_confidence.pivot_table(index=consumer_confidence.index, columns='Reference area', values='OBS_VALUE')\n",
    "cc2.head()"
   ]
  },
  {
   "cell_type": "markdown",
   "id": "7d7c6cb3",
   "metadata": {},
   "source": [
    "**Exploring the dataset structure with .info() method**"
   ]
  },
  {
   "cell_type": "code",
   "execution_count": 19,
   "id": "33561d7e",
   "metadata": {
    "ExecuteTime": {
     "end_time": "2025-03-21T18:12:01.583508Z",
     "start_time": "2025-03-21T18:12:01.576315Z"
    }
   },
   "outputs": [
    {
     "name": "stdout",
     "output_type": "stream",
     "text": [
      "<class 'pandas.core.frame.DataFrame'>\n",
      "DatetimeIndex: 43 entries, 2018-10-01 to 2022-04-01\n",
      "Data columns (total 9 columns):\n",
      " #   Column                        Non-Null Count  Dtype  \n",
      "---  ------                        --------------  -----  \n",
      " 0   China (People’s Republic of)  43 non-null     float64\n",
      " 1   France                        43 non-null     float64\n",
      " 2   Germany                       43 non-null     float64\n",
      " 3   Italy                         43 non-null     float64\n",
      " 4   Japan                         43 non-null     float64\n",
      " 5   OECD Europe                   43 non-null     float64\n",
      " 6   Switzerland                   43 non-null     float64\n",
      " 7   United Kingdom                43 non-null     float64\n",
      " 8   United States                 43 non-null     float64\n",
      "dtypes: float64(9)\n",
      "memory usage: 3.4 KB\n"
     ]
    }
   ],
   "source": [
    "cc2.info()"
   ]
  },
  {
   "cell_type": "markdown",
   "id": "999eac81",
   "metadata": {},
   "source": [
    "There are no missing values in the dataset. The data is already in the correct format for plotting, therefore no further transformations are needed."
   ]
  },
  {
   "cell_type": "code",
   "execution_count": 20,
   "id": "3cb3672b",
   "metadata": {},
   "outputs": [
    {
     "data": {
      "application/vnd.plotly.v1+json": {
       "config": {
        "plotlyServerURL": "https://plot.ly"
       },
       "data": [
        {
         "hovertemplate": "Reference area=China (People’s Republic of)<br>Date=%{x}<br>CCI=%{y}<extra></extra>",
         "legendgroup": "China (People’s Republic of)",
         "line": {
          "color": "#636efa",
          "dash": "solid"
         },
         "marker": {
          "symbol": "circle"
         },
         "mode": "lines",
         "name": "China (People’s Republic of)",
         "orientation": "v",
         "showlegend": true,
         "type": "scatter",
         "x": [
          "2018-10-01T00:00:00.000000000",
          "2018-11-01T00:00:00.000000000",
          "2018-12-01T00:00:00.000000000",
          "2019-01-01T00:00:00.000000000",
          "2019-02-01T00:00:00.000000000",
          "2019-03-01T00:00:00.000000000",
          "2019-04-01T00:00:00.000000000",
          "2019-05-01T00:00:00.000000000",
          "2019-06-01T00:00:00.000000000",
          "2019-07-01T00:00:00.000000000",
          "2019-08-01T00:00:00.000000000",
          "2019-09-01T00:00:00.000000000",
          "2019-10-01T00:00:00.000000000",
          "2019-11-01T00:00:00.000000000",
          "2019-12-01T00:00:00.000000000",
          "2020-01-01T00:00:00.000000000",
          "2020-02-01T00:00:00.000000000",
          "2020-03-01T00:00:00.000000000",
          "2020-04-01T00:00:00.000000000",
          "2020-05-01T00:00:00.000000000",
          "2020-06-01T00:00:00.000000000",
          "2020-07-01T00:00:00.000000000",
          "2020-08-01T00:00:00.000000000",
          "2020-09-01T00:00:00.000000000",
          "2020-10-01T00:00:00.000000000",
          "2020-11-01T00:00:00.000000000",
          "2020-12-01T00:00:00.000000000",
          "2021-01-01T00:00:00.000000000",
          "2021-02-01T00:00:00.000000000",
          "2021-03-01T00:00:00.000000000",
          "2021-04-01T00:00:00.000000000",
          "2021-05-01T00:00:00.000000000",
          "2021-06-01T00:00:00.000000000",
          "2021-07-01T00:00:00.000000000",
          "2021-08-01T00:00:00.000000000",
          "2021-09-01T00:00:00.000000000",
          "2021-10-01T00:00:00.000000000",
          "2021-11-01T00:00:00.000000000",
          "2021-12-01T00:00:00.000000000",
          "2022-01-01T00:00:00.000000000",
          "2022-02-01T00:00:00.000000000",
          "2022-03-01T00:00:00.000000000",
          "2022-04-01T00:00:00.000000000"
         ],
         "xaxis": "x",
         "y": {
          "bdata": "FmpN846zWUDXNO84Rc9ZQDEIrBxa6FlA1XjpJjH8WUDn+6nx0glaQNIA3gIJClpADXGsi9sIWkC30QDeAgVaQC/dJAaBBVpAE2HD0yv9WUCbVZ+rrfRZQJoIG55e+VlAiIVa07wDWkAIPZtVnw9aQOF6FK5HFVpA2IFzRpQCWkBB8WPMXddZQAYSFD/GtFlAqRPQRNiIWUC3Yn/ZPWlZQAaBlUOLXFlAa5p3nKJvWUDV52or9otZQJEPejarsllAbVZ9rrbSWUC5/If02+dZQJ5eKcsQ71lAFK5H4Xr4WUAy5q4l5P9ZQEi/fR0471lAdCSX/5DeWUBeS8gHPdNZQJzEILByxFlAj+TyH9KrWUCF61G4HqVZQBIUP8bcsVlApSxDHOu6WUCmm8QgsMJZQCV1ApoIy1lAEoPAyqHBWUCx4emVsnxZQCEf9GxW4VhA9l0R/G8XWEA=",
          "dtype": "f8"
         },
         "yaxis": "y"
        },
        {
         "hovertemplate": "Reference area=France<br>Date=%{x}<br>CCI=%{y}<extra></extra>",
         "legendgroup": "France",
         "line": {
          "color": "#EF553B",
          "dash": "solid"
         },
         "marker": {
          "symbol": "circle"
         },
         "mode": "lines",
         "name": "France",
         "orientation": "v",
         "showlegend": true,
         "type": "scatter",
         "x": [
          "2018-10-01T00:00:00.000000000",
          "2018-11-01T00:00:00.000000000",
          "2018-12-01T00:00:00.000000000",
          "2019-01-01T00:00:00.000000000",
          "2019-02-01T00:00:00.000000000",
          "2019-03-01T00:00:00.000000000",
          "2019-04-01T00:00:00.000000000",
          "2019-05-01T00:00:00.000000000",
          "2019-06-01T00:00:00.000000000",
          "2019-07-01T00:00:00.000000000",
          "2019-08-01T00:00:00.000000000",
          "2019-09-01T00:00:00.000000000",
          "2019-10-01T00:00:00.000000000",
          "2019-11-01T00:00:00.000000000",
          "2019-12-01T00:00:00.000000000",
          "2020-01-01T00:00:00.000000000",
          "2020-02-01T00:00:00.000000000",
          "2020-03-01T00:00:00.000000000",
          "2020-04-01T00:00:00.000000000",
          "2020-05-01T00:00:00.000000000",
          "2020-06-01T00:00:00.000000000",
          "2020-07-01T00:00:00.000000000",
          "2020-08-01T00:00:00.000000000",
          "2020-09-01T00:00:00.000000000",
          "2020-10-01T00:00:00.000000000",
          "2020-11-01T00:00:00.000000000",
          "2020-12-01T00:00:00.000000000",
          "2021-01-01T00:00:00.000000000",
          "2021-02-01T00:00:00.000000000",
          "2021-03-01T00:00:00.000000000",
          "2021-04-01T00:00:00.000000000",
          "2021-05-01T00:00:00.000000000",
          "2021-06-01T00:00:00.000000000",
          "2021-07-01T00:00:00.000000000",
          "2021-08-01T00:00:00.000000000",
          "2021-09-01T00:00:00.000000000",
          "2021-10-01T00:00:00.000000000",
          "2021-11-01T00:00:00.000000000",
          "2021-12-01T00:00:00.000000000",
          "2022-01-01T00:00:00.000000000",
          "2022-02-01T00:00:00.000000000",
          "2022-03-01T00:00:00.000000000",
          "2022-04-01T00:00:00.000000000"
         ],
         "xaxis": "x",
         "y": {
          "bdata": "W+uLhLa8WEALKT+p9q1YQH+8V61MqFhANNdppKW+WEB5Bg39E9hYQN7IPPIH6VhAeNFXkGb0WEDJ5T+k3wJZQCUGgZVDD1lAyeU/pN8aWUD3deCcESFZQM6I0t7gJ1lAPnlYqDUpWUBz1xLyQSNZQBkEVg4tEllAZapgVFIDWUCPpQ9dUOdYQIBlpUkprlhAt11ortN4WEBLWYY41n1YQAZHyatzpFhAmYHK+PfBWEBRa5p3nMxYQB2UMNP2x1hABFYOLbKzWEAc6+I2GqRYQGPuWkI+sFhA/isrTUq1WEDowd1Zu8FYQNXKhF/q4VhA2T15WKgJWUB6Nqs+VztZQA6+MJkqYFlAz2bV52pfWUDdtYR80E9ZQOoENBE2SFlAn82qz9U2WUBq3nGKjiRZQGQ730+ND1lAy/Pg7qzzWECQoPgx5sRYQN/42jNLfFhAhGQBE7hVWEA=",
          "dtype": "f8"
         },
         "yaxis": "y"
        },
        {
         "hovertemplate": "Reference area=Germany<br>Date=%{x}<br>CCI=%{y}<extra></extra>",
         "legendgroup": "Germany",
         "line": {
          "color": "#00cc96",
          "dash": "solid"
         },
         "marker": {
          "symbol": "circle"
         },
         "mode": "lines",
         "name": "Germany",
         "orientation": "v",
         "showlegend": true,
         "type": "scatter",
         "x": [
          "2018-10-01T00:00:00.000000000",
          "2018-11-01T00:00:00.000000000",
          "2018-12-01T00:00:00.000000000",
          "2019-01-01T00:00:00.000000000",
          "2019-02-01T00:00:00.000000000",
          "2019-03-01T00:00:00.000000000",
          "2019-04-01T00:00:00.000000000",
          "2019-05-01T00:00:00.000000000",
          "2019-06-01T00:00:00.000000000",
          "2019-07-01T00:00:00.000000000",
          "2019-08-01T00:00:00.000000000",
          "2019-09-01T00:00:00.000000000",
          "2019-10-01T00:00:00.000000000",
          "2019-11-01T00:00:00.000000000",
          "2019-12-01T00:00:00.000000000",
          "2020-01-01T00:00:00.000000000",
          "2020-02-01T00:00:00.000000000",
          "2020-03-01T00:00:00.000000000",
          "2020-04-01T00:00:00.000000000",
          "2020-05-01T00:00:00.000000000",
          "2020-06-01T00:00:00.000000000",
          "2020-07-01T00:00:00.000000000",
          "2020-08-01T00:00:00.000000000",
          "2020-09-01T00:00:00.000000000",
          "2020-10-01T00:00:00.000000000",
          "2020-11-01T00:00:00.000000000",
          "2020-12-01T00:00:00.000000000",
          "2021-01-01T00:00:00.000000000",
          "2021-02-01T00:00:00.000000000",
          "2021-03-01T00:00:00.000000000",
          "2021-04-01T00:00:00.000000000",
          "2021-05-01T00:00:00.000000000",
          "2021-06-01T00:00:00.000000000",
          "2021-07-01T00:00:00.000000000",
          "2021-08-01T00:00:00.000000000",
          "2021-09-01T00:00:00.000000000",
          "2021-10-01T00:00:00.000000000",
          "2021-11-01T00:00:00.000000000",
          "2021-12-01T00:00:00.000000000",
          "2022-01-01T00:00:00.000000000",
          "2022-02-01T00:00:00.000000000",
          "2022-03-01T00:00:00.000000000",
          "2022-04-01T00:00:00.000000000"
         ],
         "xaxis": "x",
         "y": {
          "bdata": "PujZrPpkWUAm5IOezWJZQPCnxks3YVlAUkmdgCZiWUBQjZduEmNZQOXyH9JvY1lAVTAqqRNgWUBPQBNhw1dZQGq8dJMYTFlApgpGJXVCWUA5RUdy+TtZQKyt2F92O1lADi2yne87WUARNjy9UkJZQGx4eqUsQ1lAtvP91Hg9WUCGWtO84yRZQM8sCVBT8VhA9ODurN2+WED7y+7Jw7hYQOCEQgQc0lhAWd3qOenrWECOzCN/MP5YQBIUP8bcAVlAhc5r7BL3WECiC+pb5uhYQGEaho+I31hAa2CrBIvZWEDEmV/NAeRYQBlW8Ubm91hAsAPnjCgNWUBWfa62Yi9ZQERpb/CFTVlAn6ut2F9WWUDhC5OpglVZQOELk6mCVVlA2qz6XG1JWUDarPpcbTVZQA8LtaZ5I1lAcM6I0t4UWUBWt3pOevVYQJ/leXB3wFhAf4eiQJ+UWEA=",
          "dtype": "f8"
         },
         "yaxis": "y"
        },
        {
         "hovertemplate": "Reference area=Italy<br>Date=%{x}<br>CCI=%{y}<extra></extra>",
         "legendgroup": "Italy",
         "line": {
          "color": "#ab63fa",
          "dash": "solid"
         },
         "marker": {
          "symbol": "circle"
         },
         "mode": "lines",
         "name": "Italy",
         "orientation": "v",
         "showlegend": true,
         "type": "scatter",
         "x": [
          "2018-10-01T00:00:00.000000000",
          "2018-11-01T00:00:00.000000000",
          "2018-12-01T00:00:00.000000000",
          "2019-01-01T00:00:00.000000000",
          "2019-02-01T00:00:00.000000000",
          "2019-03-01T00:00:00.000000000",
          "2019-04-01T00:00:00.000000000",
          "2019-05-01T00:00:00.000000000",
          "2019-06-01T00:00:00.000000000",
          "2019-07-01T00:00:00.000000000",
          "2019-08-01T00:00:00.000000000",
          "2019-09-01T00:00:00.000000000",
          "2019-10-01T00:00:00.000000000",
          "2019-11-01T00:00:00.000000000",
          "2019-12-01T00:00:00.000000000",
          "2020-01-01T00:00:00.000000000",
          "2020-02-01T00:00:00.000000000",
          "2020-03-01T00:00:00.000000000",
          "2020-04-01T00:00:00.000000000",
          "2020-05-01T00:00:00.000000000",
          "2020-06-01T00:00:00.000000000",
          "2020-07-01T00:00:00.000000000",
          "2020-08-01T00:00:00.000000000",
          "2020-09-01T00:00:00.000000000",
          "2020-10-01T00:00:00.000000000",
          "2020-11-01T00:00:00.000000000",
          "2020-12-01T00:00:00.000000000",
          "2021-01-01T00:00:00.000000000",
          "2021-02-01T00:00:00.000000000",
          "2021-03-01T00:00:00.000000000",
          "2021-04-01T00:00:00.000000000",
          "2021-05-01T00:00:00.000000000",
          "2021-06-01T00:00:00.000000000",
          "2021-07-01T00:00:00.000000000",
          "2021-08-01T00:00:00.000000000",
          "2021-09-01T00:00:00.000000000",
          "2021-10-01T00:00:00.000000000",
          "2021-11-01T00:00:00.000000000",
          "2021-12-01T00:00:00.000000000",
          "2022-01-01T00:00:00.000000000",
          "2022-02-01T00:00:00.000000000",
          "2022-03-01T00:00:00.000000000",
          "2022-04-01T00:00:00.000000000"
         ],
         "xaxis": "x",
         "y": {
          "bdata": "Gw3gLZBwWUDhehSuR2lZQGiz6nO1XVlANjy9UpZRWUDOiNLe4ENZQFZ9rrZiN1lASZ2AJsIuWUCIY13cRidZQFr1udqKIVlA3SQGgZUjWUDXEvJBzx5ZQKH4MeauHVlAVp+rrdgfWUCu2F92TyJZQJYhjnVxK1lA07zjFB0lWUDnHafoSPxYQMmOjUC8ulhAvJaQD3qcWEC2oWKcv6VYQBBdUN8y0VhA0oxF09ntWEDFA8qmXP9YQE8eFmpNA1lAD7QCQ1bxWEA+lj50QeVYQB+duvJZ+FhApN++DpwPWUAnwoanVyZZQPW52or9PVlAoWez6nNlWUADCYofY5pZQBfZzvdTw1lA2qz6XG3RWUBUUiegicxZQDj4wmSqyFlAfGEyVTDCWUAnMQisHK5ZQN/gC5OpjllAi/1l9+RVWUBbsb/snghZQBYTm49rqVhA2ubG9IR5WEA=",
          "dtype": "f8"
         },
         "yaxis": "y"
        },
        {
         "hovertemplate": "Reference area=Japan<br>Date=%{x}<br>CCI=%{y}<extra></extra>",
         "legendgroup": "Japan",
         "line": {
          "color": "#FFA15A",
          "dash": "solid"
         },
         "marker": {
          "symbol": "circle"
         },
         "mode": "lines",
         "name": "Japan",
         "orientation": "v",
         "showlegend": true,
         "type": "scatter",
         "x": [
          "2018-10-01T00:00:00.000000000",
          "2018-11-01T00:00:00.000000000",
          "2018-12-01T00:00:00.000000000",
          "2019-01-01T00:00:00.000000000",
          "2019-02-01T00:00:00.000000000",
          "2019-03-01T00:00:00.000000000",
          "2019-04-01T00:00:00.000000000",
          "2019-05-01T00:00:00.000000000",
          "2019-06-01T00:00:00.000000000",
          "2019-07-01T00:00:00.000000000",
          "2019-08-01T00:00:00.000000000",
          "2019-09-01T00:00:00.000000000",
          "2019-10-01T00:00:00.000000000",
          "2019-11-01T00:00:00.000000000",
          "2019-12-01T00:00:00.000000000",
          "2020-01-01T00:00:00.000000000",
          "2020-02-01T00:00:00.000000000",
          "2020-03-01T00:00:00.000000000",
          "2020-04-01T00:00:00.000000000",
          "2020-05-01T00:00:00.000000000",
          "2020-06-01T00:00:00.000000000",
          "2020-07-01T00:00:00.000000000",
          "2020-08-01T00:00:00.000000000",
          "2020-09-01T00:00:00.000000000",
          "2020-10-01T00:00:00.000000000",
          "2020-11-01T00:00:00.000000000",
          "2020-12-01T00:00:00.000000000",
          "2021-01-01T00:00:00.000000000",
          "2021-02-01T00:00:00.000000000",
          "2021-03-01T00:00:00.000000000",
          "2021-04-01T00:00:00.000000000",
          "2021-05-01T00:00:00.000000000",
          "2021-06-01T00:00:00.000000000",
          "2021-07-01T00:00:00.000000000",
          "2021-08-01T00:00:00.000000000",
          "2021-09-01T00:00:00.000000000",
          "2021-10-01T00:00:00.000000000",
          "2021-11-01T00:00:00.000000000",
          "2021-12-01T00:00:00.000000000",
          "2022-01-01T00:00:00.000000000",
          "2022-02-01T00:00:00.000000000",
          "2022-03-01T00:00:00.000000000",
          "2022-04-01T00:00:00.000000000"
         ],
         "xaxis": "x",
         "y": {
          "bdata": "vw6cM6IYWUAK16NwPRJZQPOOU3QkC1lA4JwRpb0BWUDVlc/yPPhYQJv+7EeK7lhAY7ml1ZDmWEDUZTGx+dpYQNGuQspPzFhAG55eKcu+WEAY7IZti7JYQLXDX5M1qlhA/PuMCweyWECBJsKGp8VYQJ4kXTP50FhAJ6CJsOHFWEDnxvSEJZZYQE5iEFg5QFhAF9S3zOnyV0Doaiv2l+NXQBGq1OyB/ldAbJVgcTghWEBBZfz7jD9YQI0o7Q2+WlhAeJeL+E5oWEBX7C+7J2dYQCO+E7NeXFhAd/hrskZbWECwA+eMKHFYQIyEtpxLh1hACi5W1GCQWECfPCzUmpZYQC0JUFPLpFhAZvfkYaGwWEAziuWWVrlYQC0+BcB4xFhAi1QYWwjQWEB2Tx4WatNYQE0tW+uLyFhA4dHGEWuvWEAH8BZIUJBYQBWRYRVvclhAqRPQRNhiWEA=",
          "dtype": "f8"
         },
         "yaxis": "y"
        },
        {
         "hovertemplate": "Reference area=OECD Europe<br>Date=%{x}<br>CCI=%{y}<extra></extra>",
         "legendgroup": "OECD Europe",
         "line": {
          "color": "#19d3f3",
          "dash": "solid"
         },
         "marker": {
          "symbol": "circle"
         },
         "mode": "lines",
         "name": "OECD Europe",
         "orientation": "v",
         "showlegend": true,
         "type": "scatter",
         "x": [
          "2018-10-01T00:00:00.000000000",
          "2018-11-01T00:00:00.000000000",
          "2018-12-01T00:00:00.000000000",
          "2019-01-01T00:00:00.000000000",
          "2019-02-01T00:00:00.000000000",
          "2019-03-01T00:00:00.000000000",
          "2019-04-01T00:00:00.000000000",
          "2019-05-01T00:00:00.000000000",
          "2019-06-01T00:00:00.000000000",
          "2019-07-01T00:00:00.000000000",
          "2019-08-01T00:00:00.000000000",
          "2019-09-01T00:00:00.000000000",
          "2019-10-01T00:00:00.000000000",
          "2019-11-01T00:00:00.000000000",
          "2019-12-01T00:00:00.000000000",
          "2020-01-01T00:00:00.000000000",
          "2020-02-01T00:00:00.000000000",
          "2020-03-01T00:00:00.000000000",
          "2020-04-01T00:00:00.000000000",
          "2020-05-01T00:00:00.000000000",
          "2020-06-01T00:00:00.000000000",
          "2020-07-01T00:00:00.000000000",
          "2020-08-01T00:00:00.000000000",
          "2020-09-01T00:00:00.000000000",
          "2020-10-01T00:00:00.000000000",
          "2020-11-01T00:00:00.000000000",
          "2020-12-01T00:00:00.000000000",
          "2021-01-01T00:00:00.000000000",
          "2021-02-01T00:00:00.000000000",
          "2021-03-01T00:00:00.000000000",
          "2021-04-01T00:00:00.000000000",
          "2021-05-01T00:00:00.000000000",
          "2021-06-01T00:00:00.000000000",
          "2021-07-01T00:00:00.000000000",
          "2021-08-01T00:00:00.000000000",
          "2021-09-01T00:00:00.000000000",
          "2021-10-01T00:00:00.000000000",
          "2021-11-01T00:00:00.000000000",
          "2021-12-01T00:00:00.000000000",
          "2022-01-01T00:00:00.000000000",
          "2022-02-01T00:00:00.000000000",
          "2022-03-01T00:00:00.000000000",
          "2022-04-01T00:00:00.000000000"
         ],
         "xaxis": "x",
         "y": {
          "bdata": "vHSTGAQyWUCR7Xw/NSpZQELPZtXnIllA/tR46SYhWUBJnYAmwiJZQBniWBe3JVlAmG4Sg8AmWUAJ+aBnsyZZQLx0kxgEJllAufyH9NsjWUBDrWnecR5ZQIC3QILiG1lAzqrP1VYcWUCh1jTvOCFZQN21hHzQI1lAQj7o2aweWUBbsb/sngRZQJZDi2zny1hAU8vW+iKNWEAa+ie4WIFYQMed0sH6mVhAINJvXweyWED3Bl+YTL1YQLVPx2MGvlhA5e0IpwW1WEBxOPOrObBYQOIeSx+6vFhAbOwS1VvLWECH+fIC7OFYQL6HS447/1hAQxzr4jYaWUB2Tx4WajlZQDGZKhiVUFlAsp3vp8ZTWUAep+hILktZQO/Jw0KtPVlAtMh2vp8mWUAPC7WmeQtZQMRfkzXq81hAon+CixXZWEDQ1VbsL61YQMBbIEHxbVhAjxmojH8/WEA=",
          "dtype": "f8"
         },
         "yaxis": "y"
        },
        {
         "hovertemplate": "Reference area=Switzerland<br>Date=%{x}<br>CCI=%{y}<extra></extra>",
         "legendgroup": "Switzerland",
         "line": {
          "color": "#FF6692",
          "dash": "solid"
         },
         "marker": {
          "symbol": "circle"
         },
         "mode": "lines",
         "name": "Switzerland",
         "orientation": "v",
         "showlegend": true,
         "type": "scatter",
         "x": [
          "2018-10-01T00:00:00.000000000",
          "2018-11-01T00:00:00.000000000",
          "2018-12-01T00:00:00.000000000",
          "2019-01-01T00:00:00.000000000",
          "2019-02-01T00:00:00.000000000",
          "2019-03-01T00:00:00.000000000",
          "2019-04-01T00:00:00.000000000",
          "2019-05-01T00:00:00.000000000",
          "2019-06-01T00:00:00.000000000",
          "2019-07-01T00:00:00.000000000",
          "2019-08-01T00:00:00.000000000",
          "2019-09-01T00:00:00.000000000",
          "2019-10-01T00:00:00.000000000",
          "2019-11-01T00:00:00.000000000",
          "2019-12-01T00:00:00.000000000",
          "2020-01-01T00:00:00.000000000",
          "2020-02-01T00:00:00.000000000",
          "2020-03-01T00:00:00.000000000",
          "2020-04-01T00:00:00.000000000",
          "2020-05-01T00:00:00.000000000",
          "2020-06-01T00:00:00.000000000",
          "2020-07-01T00:00:00.000000000",
          "2020-08-01T00:00:00.000000000",
          "2020-09-01T00:00:00.000000000",
          "2020-10-01T00:00:00.000000000",
          "2020-11-01T00:00:00.000000000",
          "2020-12-01T00:00:00.000000000",
          "2021-01-01T00:00:00.000000000",
          "2021-02-01T00:00:00.000000000",
          "2021-03-01T00:00:00.000000000",
          "2021-04-01T00:00:00.000000000",
          "2021-05-01T00:00:00.000000000",
          "2021-06-01T00:00:00.000000000",
          "2021-07-01T00:00:00.000000000",
          "2021-08-01T00:00:00.000000000",
          "2021-09-01T00:00:00.000000000",
          "2021-10-01T00:00:00.000000000",
          "2021-11-01T00:00:00.000000000",
          "2021-12-01T00:00:00.000000000",
          "2022-01-01T00:00:00.000000000",
          "2022-02-01T00:00:00.000000000",
          "2022-03-01T00:00:00.000000000",
          "2022-04-01T00:00:00.000000000"
         ],
         "xaxis": "x",
         "y": {
          "bdata": "MQisHFoUWUAdyeU/pBNZQCV1ApoIC1lAdEF9y5z+WED6uDZUjPNYQEGfyJOk7VhAhNOCF33rWEBszywJUOtYQJKWytsR7FhA5ssLsI/sWEDde7jkuOtYQMWPMXct6VhADB8RUyLnWEBrK/aX3edYQN/98V616lhAAK5kx0bmWEAzp8tiYstYQFcm/FI/j1hAWW5pNSRMWEBMcVXZdydYQGJKJNHLPlhAn+V5cHd2WEBSRIZVvKtYQLSrkPKTxlhA6znpfePNWEBOnNzvUMxYQEpGzsKeyFhAF9S3zOnGWEA3pics8cpYQHWw/s9h2FhARRK9jGLtWEDFILByaAlZQBSuR+F6LFlAgZVDi2xPWUArGJXUCWhZQEw3iUFgbVlAJ8KGp1dmWUCMSuoENFlZQDPEsS5uR1lAz/dT46UvWUC5/If02wtZQB2s/3OY1VhADr4wmSqWWEA=",
          "dtype": "f8"
         },
         "yaxis": "y"
        },
        {
         "hovertemplate": "Reference area=United Kingdom<br>Date=%{x}<br>CCI=%{y}<extra></extra>",
         "legendgroup": "United Kingdom",
         "line": {
          "color": "#B6E880",
          "dash": "solid"
         },
         "marker": {
          "symbol": "circle"
         },
         "mode": "lines",
         "name": "United Kingdom",
         "orientation": "v",
         "showlegend": true,
         "type": "scatter",
         "x": [
          "2018-10-01T00:00:00.000000000",
          "2018-11-01T00:00:00.000000000",
          "2018-12-01T00:00:00.000000000",
          "2019-01-01T00:00:00.000000000",
          "2019-02-01T00:00:00.000000000",
          "2019-03-01T00:00:00.000000000",
          "2019-04-01T00:00:00.000000000",
          "2019-05-01T00:00:00.000000000",
          "2019-06-01T00:00:00.000000000",
          "2019-07-01T00:00:00.000000000",
          "2019-08-01T00:00:00.000000000",
          "2019-09-01T00:00:00.000000000",
          "2019-10-01T00:00:00.000000000",
          "2019-11-01T00:00:00.000000000",
          "2019-12-01T00:00:00.000000000",
          "2020-01-01T00:00:00.000000000",
          "2020-02-01T00:00:00.000000000",
          "2020-03-01T00:00:00.000000000",
          "2020-04-01T00:00:00.000000000",
          "2020-05-01T00:00:00.000000000",
          "2020-06-01T00:00:00.000000000",
          "2020-07-01T00:00:00.000000000",
          "2020-08-01T00:00:00.000000000",
          "2020-09-01T00:00:00.000000000",
          "2020-10-01T00:00:00.000000000",
          "2020-11-01T00:00:00.000000000",
          "2020-12-01T00:00:00.000000000",
          "2021-01-01T00:00:00.000000000",
          "2021-02-01T00:00:00.000000000",
          "2021-03-01T00:00:00.000000000",
          "2021-04-01T00:00:00.000000000",
          "2021-05-01T00:00:00.000000000",
          "2021-06-01T00:00:00.000000000",
          "2021-07-01T00:00:00.000000000",
          "2021-08-01T00:00:00.000000000",
          "2021-09-01T00:00:00.000000000",
          "2021-10-01T00:00:00.000000000",
          "2021-11-01T00:00:00.000000000",
          "2021-12-01T00:00:00.000000000",
          "2022-01-01T00:00:00.000000000",
          "2022-02-01T00:00:00.000000000",
          "2022-03-01T00:00:00.000000000",
          "2022-04-01T00:00:00.000000000"
         ],
         "xaxis": "x",
         "y": {
          "bdata": "TYQNT68sWUBqvHSTGBxZQGIQWDm0CFlAnx9GCI/2WEAKEXAIVe5YQPLqHAOy7VhAAfvo1JX3WEA8TtGRXAZZQMiYu5aQC1lAke18PzUOWUADeAskKAJZQEgzFk1n/1hAkst/SL8FWUBoke18PxlZQJ5eKcsQL1lAtFn1udo2WUCVZYhjXSBZQCgK9Ik83VhAP28qUmF8WEAtQxzr4kxYQJJ0zeSbVVhAzTtO0ZF0WECERxtHrIFYQDF8REyJdlhA02pI3GNhWEB6GcVyS1tYQIzzN6EQdVhAOUVHcvmZWEDp1JXP8txYQC2yne+nLllASS7/If1uWUCASL99HaBZQC6QoPgxtllAH4XrUbiyWUAYldQJaJJZQAYSFD/GXFlAzqrP1VYwWUAkKH6MuRtZQAt72uGv/VhAIJijx++9WEBTrvAuF19YQJzc71AU/ldA2LYos0GsV0A=",
          "dtype": "f8"
         },
         "yaxis": "y"
        },
        {
         "hovertemplate": "Reference area=United States<br>Date=%{x}<br>CCI=%{y}<extra></extra>",
         "legendgroup": "United States",
         "line": {
          "color": "#FF97FF",
          "dash": "solid"
         },
         "marker": {
          "symbol": "circle"
         },
         "mode": "lines",
         "name": "United States",
         "orientation": "v",
         "showlegend": true,
         "type": "scatter",
         "x": [
          "2018-10-01T00:00:00.000000000",
          "2018-11-01T00:00:00.000000000",
          "2018-12-01T00:00:00.000000000",
          "2019-01-01T00:00:00.000000000",
          "2019-02-01T00:00:00.000000000",
          "2019-03-01T00:00:00.000000000",
          "2019-04-01T00:00:00.000000000",
          "2019-05-01T00:00:00.000000000",
          "2019-06-01T00:00:00.000000000",
          "2019-07-01T00:00:00.000000000",
          "2019-08-01T00:00:00.000000000",
          "2019-09-01T00:00:00.000000000",
          "2019-10-01T00:00:00.000000000",
          "2019-11-01T00:00:00.000000000",
          "2019-12-01T00:00:00.000000000",
          "2020-01-01T00:00:00.000000000",
          "2020-02-01T00:00:00.000000000",
          "2020-03-01T00:00:00.000000000",
          "2020-04-01T00:00:00.000000000",
          "2020-05-01T00:00:00.000000000",
          "2020-06-01T00:00:00.000000000",
          "2020-07-01T00:00:00.000000000",
          "2020-08-01T00:00:00.000000000",
          "2020-09-01T00:00:00.000000000",
          "2020-10-01T00:00:00.000000000",
          "2020-11-01T00:00:00.000000000",
          "2020-12-01T00:00:00.000000000",
          "2021-01-01T00:00:00.000000000",
          "2021-02-01T00:00:00.000000000",
          "2021-03-01T00:00:00.000000000",
          "2021-04-01T00:00:00.000000000",
          "2021-05-01T00:00:00.000000000",
          "2021-06-01T00:00:00.000000000",
          "2021-07-01T00:00:00.000000000",
          "2021-08-01T00:00:00.000000000",
          "2021-09-01T00:00:00.000000000",
          "2021-10-01T00:00:00.000000000",
          "2021-11-01T00:00:00.000000000",
          "2021-12-01T00:00:00.000000000",
          "2022-01-01T00:00:00.000000000",
          "2022-02-01T00:00:00.000000000",
          "2022-03-01T00:00:00.000000000",
          "2022-04-01T00:00:00.000000000"
         ],
         "xaxis": "x",
         "y": {
          "bdata": "RwN4CyRgWUBv8IXJVFlZQLsnDwu1TllA9bnaiv1BWUDo2az6XEVZQG3n+6nxUllAN4lBYOVcWUDufD81XmJZQKMjufyHXFlAEqW9wRdOWUCBJsKGpztZQM/3U+OlO1lAjgbwFkhIWUC30QDeAllZQIEExY8xZ1lAZRniWBdnWUDqlbIMcUxZQK7YX3ZPDllAKcsQx7rKWECILqhvmatYQCo6kst/qFhACCC1iZOpWEA1mIbhI7ZYQH3ogvqWyVhAJgFqatnSWED8Uj9vKtBYQL9gN2xb0FhA2/l+arzQWEC21hcJbdlYQACRfvs68FhAT3XIzXD/WECreCPzyPtYQOlDF9S37lhA097gC5PRWEAAV7JjI65YQITwaOOIm1hAsvShC+qPWEAHsTOFzoVYQLoUV5V9f1hAfhghPNpwWECBQ6hSs11YQDBkdavnTlhAO8JpwYtEWEA=",
          "dtype": "f8"
         },
         "yaxis": "y"
        }
       ],
       "layout": {
        "legend": {
         "title": {
          "text": "Countries"
         },
         "tracegroupgap": 0
        },
        "template": {
         "data": {
          "bar": [
           {
            "error_x": {
             "color": "#2a3f5f"
            },
            "error_y": {
             "color": "#2a3f5f"
            },
            "marker": {
             "line": {
              "color": "#E5ECF6",
              "width": 0.5
             },
             "pattern": {
              "fillmode": "overlay",
              "size": 10,
              "solidity": 0.2
             }
            },
            "type": "bar"
           }
          ],
          "barpolar": [
           {
            "marker": {
             "line": {
              "color": "#E5ECF6",
              "width": 0.5
             },
             "pattern": {
              "fillmode": "overlay",
              "size": 10,
              "solidity": 0.2
             }
            },
            "type": "barpolar"
           }
          ],
          "carpet": [
           {
            "aaxis": {
             "endlinecolor": "#2a3f5f",
             "gridcolor": "white",
             "linecolor": "white",
             "minorgridcolor": "white",
             "startlinecolor": "#2a3f5f"
            },
            "baxis": {
             "endlinecolor": "#2a3f5f",
             "gridcolor": "white",
             "linecolor": "white",
             "minorgridcolor": "white",
             "startlinecolor": "#2a3f5f"
            },
            "type": "carpet"
           }
          ],
          "choropleth": [
           {
            "colorbar": {
             "outlinewidth": 0,
             "ticks": ""
            },
            "type": "choropleth"
           }
          ],
          "contour": [
           {
            "colorbar": {
             "outlinewidth": 0,
             "ticks": ""
            },
            "colorscale": [
             [
              0,
              "#0d0887"
             ],
             [
              0.1111111111111111,
              "#46039f"
             ],
             [
              0.2222222222222222,
              "#7201a8"
             ],
             [
              0.3333333333333333,
              "#9c179e"
             ],
             [
              0.4444444444444444,
              "#bd3786"
             ],
             [
              0.5555555555555556,
              "#d8576b"
             ],
             [
              0.6666666666666666,
              "#ed7953"
             ],
             [
              0.7777777777777778,
              "#fb9f3a"
             ],
             [
              0.8888888888888888,
              "#fdca26"
             ],
             [
              1,
              "#f0f921"
             ]
            ],
            "type": "contour"
           }
          ],
          "contourcarpet": [
           {
            "colorbar": {
             "outlinewidth": 0,
             "ticks": ""
            },
            "type": "contourcarpet"
           }
          ],
          "heatmap": [
           {
            "colorbar": {
             "outlinewidth": 0,
             "ticks": ""
            },
            "colorscale": [
             [
              0,
              "#0d0887"
             ],
             [
              0.1111111111111111,
              "#46039f"
             ],
             [
              0.2222222222222222,
              "#7201a8"
             ],
             [
              0.3333333333333333,
              "#9c179e"
             ],
             [
              0.4444444444444444,
              "#bd3786"
             ],
             [
              0.5555555555555556,
              "#d8576b"
             ],
             [
              0.6666666666666666,
              "#ed7953"
             ],
             [
              0.7777777777777778,
              "#fb9f3a"
             ],
             [
              0.8888888888888888,
              "#fdca26"
             ],
             [
              1,
              "#f0f921"
             ]
            ],
            "type": "heatmap"
           }
          ],
          "histogram": [
           {
            "marker": {
             "pattern": {
              "fillmode": "overlay",
              "size": 10,
              "solidity": 0.2
             }
            },
            "type": "histogram"
           }
          ],
          "histogram2d": [
           {
            "colorbar": {
             "outlinewidth": 0,
             "ticks": ""
            },
            "colorscale": [
             [
              0,
              "#0d0887"
             ],
             [
              0.1111111111111111,
              "#46039f"
             ],
             [
              0.2222222222222222,
              "#7201a8"
             ],
             [
              0.3333333333333333,
              "#9c179e"
             ],
             [
              0.4444444444444444,
              "#bd3786"
             ],
             [
              0.5555555555555556,
              "#d8576b"
             ],
             [
              0.6666666666666666,
              "#ed7953"
             ],
             [
              0.7777777777777778,
              "#fb9f3a"
             ],
             [
              0.8888888888888888,
              "#fdca26"
             ],
             [
              1,
              "#f0f921"
             ]
            ],
            "type": "histogram2d"
           }
          ],
          "histogram2dcontour": [
           {
            "colorbar": {
             "outlinewidth": 0,
             "ticks": ""
            },
            "colorscale": [
             [
              0,
              "#0d0887"
             ],
             [
              0.1111111111111111,
              "#46039f"
             ],
             [
              0.2222222222222222,
              "#7201a8"
             ],
             [
              0.3333333333333333,
              "#9c179e"
             ],
             [
              0.4444444444444444,
              "#bd3786"
             ],
             [
              0.5555555555555556,
              "#d8576b"
             ],
             [
              0.6666666666666666,
              "#ed7953"
             ],
             [
              0.7777777777777778,
              "#fb9f3a"
             ],
             [
              0.8888888888888888,
              "#fdca26"
             ],
             [
              1,
              "#f0f921"
             ]
            ],
            "type": "histogram2dcontour"
           }
          ],
          "mesh3d": [
           {
            "colorbar": {
             "outlinewidth": 0,
             "ticks": ""
            },
            "type": "mesh3d"
           }
          ],
          "parcoords": [
           {
            "line": {
             "colorbar": {
              "outlinewidth": 0,
              "ticks": ""
             }
            },
            "type": "parcoords"
           }
          ],
          "pie": [
           {
            "automargin": true,
            "type": "pie"
           }
          ],
          "scatter": [
           {
            "fillpattern": {
             "fillmode": "overlay",
             "size": 10,
             "solidity": 0.2
            },
            "type": "scatter"
           }
          ],
          "scatter3d": [
           {
            "line": {
             "colorbar": {
              "outlinewidth": 0,
              "ticks": ""
             }
            },
            "marker": {
             "colorbar": {
              "outlinewidth": 0,
              "ticks": ""
             }
            },
            "type": "scatter3d"
           }
          ],
          "scattercarpet": [
           {
            "marker": {
             "colorbar": {
              "outlinewidth": 0,
              "ticks": ""
             }
            },
            "type": "scattercarpet"
           }
          ],
          "scattergeo": [
           {
            "marker": {
             "colorbar": {
              "outlinewidth": 0,
              "ticks": ""
             }
            },
            "type": "scattergeo"
           }
          ],
          "scattergl": [
           {
            "marker": {
             "colorbar": {
              "outlinewidth": 0,
              "ticks": ""
             }
            },
            "type": "scattergl"
           }
          ],
          "scattermap": [
           {
            "marker": {
             "colorbar": {
              "outlinewidth": 0,
              "ticks": ""
             }
            },
            "type": "scattermap"
           }
          ],
          "scattermapbox": [
           {
            "marker": {
             "colorbar": {
              "outlinewidth": 0,
              "ticks": ""
             }
            },
            "type": "scattermapbox"
           }
          ],
          "scatterpolar": [
           {
            "marker": {
             "colorbar": {
              "outlinewidth": 0,
              "ticks": ""
             }
            },
            "type": "scatterpolar"
           }
          ],
          "scatterpolargl": [
           {
            "marker": {
             "colorbar": {
              "outlinewidth": 0,
              "ticks": ""
             }
            },
            "type": "scatterpolargl"
           }
          ],
          "scatterternary": [
           {
            "marker": {
             "colorbar": {
              "outlinewidth": 0,
              "ticks": ""
             }
            },
            "type": "scatterternary"
           }
          ],
          "surface": [
           {
            "colorbar": {
             "outlinewidth": 0,
             "ticks": ""
            },
            "colorscale": [
             [
              0,
              "#0d0887"
             ],
             [
              0.1111111111111111,
              "#46039f"
             ],
             [
              0.2222222222222222,
              "#7201a8"
             ],
             [
              0.3333333333333333,
              "#9c179e"
             ],
             [
              0.4444444444444444,
              "#bd3786"
             ],
             [
              0.5555555555555556,
              "#d8576b"
             ],
             [
              0.6666666666666666,
              "#ed7953"
             ],
             [
              0.7777777777777778,
              "#fb9f3a"
             ],
             [
              0.8888888888888888,
              "#fdca26"
             ],
             [
              1,
              "#f0f921"
             ]
            ],
            "type": "surface"
           }
          ],
          "table": [
           {
            "cells": {
             "fill": {
              "color": "#EBF0F8"
             },
             "line": {
              "color": "white"
             }
            },
            "header": {
             "fill": {
              "color": "#C8D4E3"
             },
             "line": {
              "color": "white"
             }
            },
            "type": "table"
           }
          ]
         },
         "layout": {
          "annotationdefaults": {
           "arrowcolor": "#2a3f5f",
           "arrowhead": 0,
           "arrowwidth": 1
          },
          "autotypenumbers": "strict",
          "coloraxis": {
           "colorbar": {
            "outlinewidth": 0,
            "ticks": ""
           }
          },
          "colorscale": {
           "diverging": [
            [
             0,
             "#8e0152"
            ],
            [
             0.1,
             "#c51b7d"
            ],
            [
             0.2,
             "#de77ae"
            ],
            [
             0.3,
             "#f1b6da"
            ],
            [
             0.4,
             "#fde0ef"
            ],
            [
             0.5,
             "#f7f7f7"
            ],
            [
             0.6,
             "#e6f5d0"
            ],
            [
             0.7,
             "#b8e186"
            ],
            [
             0.8,
             "#7fbc41"
            ],
            [
             0.9,
             "#4d9221"
            ],
            [
             1,
             "#276419"
            ]
           ],
           "sequential": [
            [
             0,
             "#0d0887"
            ],
            [
             0.1111111111111111,
             "#46039f"
            ],
            [
             0.2222222222222222,
             "#7201a8"
            ],
            [
             0.3333333333333333,
             "#9c179e"
            ],
            [
             0.4444444444444444,
             "#bd3786"
            ],
            [
             0.5555555555555556,
             "#d8576b"
            ],
            [
             0.6666666666666666,
             "#ed7953"
            ],
            [
             0.7777777777777778,
             "#fb9f3a"
            ],
            [
             0.8888888888888888,
             "#fdca26"
            ],
            [
             1,
             "#f0f921"
            ]
           ],
           "sequentialminus": [
            [
             0,
             "#0d0887"
            ],
            [
             0.1111111111111111,
             "#46039f"
            ],
            [
             0.2222222222222222,
             "#7201a8"
            ],
            [
             0.3333333333333333,
             "#9c179e"
            ],
            [
             0.4444444444444444,
             "#bd3786"
            ],
            [
             0.5555555555555556,
             "#d8576b"
            ],
            [
             0.6666666666666666,
             "#ed7953"
            ],
            [
             0.7777777777777778,
             "#fb9f3a"
            ],
            [
             0.8888888888888888,
             "#fdca26"
            ],
            [
             1,
             "#f0f921"
            ]
           ]
          },
          "colorway": [
           "#636efa",
           "#EF553B",
           "#00cc96",
           "#ab63fa",
           "#FFA15A",
           "#19d3f3",
           "#FF6692",
           "#B6E880",
           "#FF97FF",
           "#FECB52"
          ],
          "font": {
           "color": "#2a3f5f"
          },
          "geo": {
           "bgcolor": "white",
           "lakecolor": "white",
           "landcolor": "#E5ECF6",
           "showlakes": true,
           "showland": true,
           "subunitcolor": "white"
          },
          "hoverlabel": {
           "align": "left"
          },
          "hovermode": "closest",
          "mapbox": {
           "style": "light"
          },
          "paper_bgcolor": "white",
          "plot_bgcolor": "#E5ECF6",
          "polar": {
           "angularaxis": {
            "gridcolor": "white",
            "linecolor": "white",
            "ticks": ""
           },
           "bgcolor": "#E5ECF6",
           "radialaxis": {
            "gridcolor": "white",
            "linecolor": "white",
            "ticks": ""
           }
          },
          "scene": {
           "xaxis": {
            "backgroundcolor": "#E5ECF6",
            "gridcolor": "white",
            "gridwidth": 2,
            "linecolor": "white",
            "showbackground": true,
            "ticks": "",
            "zerolinecolor": "white"
           },
           "yaxis": {
            "backgroundcolor": "#E5ECF6",
            "gridcolor": "white",
            "gridwidth": 2,
            "linecolor": "white",
            "showbackground": true,
            "ticks": "",
            "zerolinecolor": "white"
           },
           "zaxis": {
            "backgroundcolor": "#E5ECF6",
            "gridcolor": "white",
            "gridwidth": 2,
            "linecolor": "white",
            "showbackground": true,
            "ticks": "",
            "zerolinecolor": "white"
           }
          },
          "shapedefaults": {
           "line": {
            "color": "#2a3f5f"
           }
          },
          "ternary": {
           "aaxis": {
            "gridcolor": "white",
            "linecolor": "white",
            "ticks": ""
           },
           "baxis": {
            "gridcolor": "white",
            "linecolor": "white",
            "ticks": ""
           },
           "bgcolor": "#E5ECF6",
           "caxis": {
            "gridcolor": "white",
            "linecolor": "white",
            "ticks": ""
           }
          },
          "title": {
           "x": 0.05
          },
          "xaxis": {
           "automargin": true,
           "gridcolor": "white",
           "linecolor": "white",
           "ticks": "",
           "title": {
            "standoff": 15
           },
           "zerolinecolor": "white",
           "zerolinewidth": 2
          },
          "yaxis": {
           "automargin": true,
           "gridcolor": "white",
           "linecolor": "white",
           "ticks": "",
           "title": {
            "standoff": 15
           },
           "zerolinecolor": "white",
           "zerolinewidth": 2
          }
         }
        },
        "title": {
         "text": "Consumer Confidence Index Across Countries"
        },
        "xaxis": {
         "anchor": "y",
         "domain": [
          0,
          1
         ],
         "title": {
          "text": "Date"
         }
        },
        "yaxis": {
         "anchor": "x",
         "domain": [
          0,
          1
         ],
         "title": {
          "text": "CCI"
         }
        }
       }
      }
     },
     "metadata": {},
     "output_type": "display_data"
    }
   ],
   "source": [
    "fig = px.line(cc2, x=cc2.index, y=cc2.columns, title=\"Consumer Confidence Index Across Countries\",\n",
    "              labels={\"value\": \"CCI\", \"TIME_PERIOD\": \"Date\"})\n",
    "fig.update_layout(xaxis_title=\"Date\", yaxis_title=\"CCI\", \n",
    "                  legend_title=\"Countries\")\n",
    "fig.show()"
   ]
  },
  {
   "cell_type": "markdown",
   "id": "00593927",
   "metadata": {},
   "source": [
    "Overall, China showed stronger long-term consumer confidence compared to other countries. From December 2019 to May 2020, all countries experienced a decline in their CCI, reflecting a period of economic uncertainty. This downturn coincided with a drop in Siemens' stock prices, indicating the influence of consumer sentiment on the company’s performance. After this decline, the CCI for all countries began to rise, though with some fluctuations. This recovery phase suggested improved consumer confidence, contributing to an increase in Siemens' stock prices.\n",
    "\n",
    "However, starting in January 2022, all countries saw a notable decline in their CCIs, indicating more cautious consumer expectations. The biggest drop was in China, where the CCI fell sharply below the 100 mark, indicating a pessimistic view of the future economy and reduced consumer confidence.\n",
    "\n",
    "Japan stands out during this period (October 2018 - April 2022), as its CCI remained below the 100 threshold for most of the time, consistently reflecting a weaker consumer sentiment compared to other countries."
   ]
  },
  {
   "cell_type": "code",
   "execution_count": 21,
   "id": "858bca8d",
   "metadata": {
    "ExecuteTime": {
     "end_time": "2025-03-21T18:12:01.589576Z",
     "start_time": "2025-03-21T18:12:01.585592Z"
    }
   },
   "outputs": [],
   "source": [
    "#cc2.to_csv('./extra data/clean_consumer_confidence.csv')"
   ]
  },
  {
   "cell_type": "markdown",
   "id": "6e759175",
   "metadata": {},
   "source": [
    "# 3. Business Confidence Data"
   ]
  },
  {
   "cell_type": "markdown",
   "id": "050d3308",
   "metadata": {},
   "source": [
    "The Business Confidence Index (BCI) is an indicator that provided an indication of future developments in business, based on surveys of production, orders, and finished goods stocks. A BCI above 100 suggest an increased confidence in near future business performance, and numbers below 100 indicate pessimism towards future performance. This indicator might help forecasting Siemens' sales performance, since it monitors economic activity.\n",
    "\n",
    "The data can be found at:\n",
    "\n",
    "OECD. (n.d.). Business Confidence Index (BCI) data explorer. OECD Data Explorer. https://data-explorer.oecd.org/vis?lc=en&pg=0&snb=1&vw=tb&df[ds]=dsDisseminateFinalDMZ&df[id]=DSD_STES%40DF_CLI&df[ag]=OECD.SDD.STES&df[vs]=&pd=2018-11%2C2022-04&dq=CHN%2BOECDE%2BCHE%2BFRA%2BUSA%2BGBR%2BJPN%2BITA%2BDEU.M.BCICP...AA...H&ly[rw]=TIME_PERIOD&ly[cl]=REF_AREA&to[TIME_PERIOD]=false"
   ]
  },
  {
   "cell_type": "code",
   "execution_count": 22,
   "id": "381b366d",
   "metadata": {},
   "outputs": [
    {
     "data": {
      "text/html": [
       "<div>\n",
       "<style scoped>\n",
       "    .dataframe tbody tr th:only-of-type {\n",
       "        vertical-align: middle;\n",
       "    }\n",
       "\n",
       "    .dataframe tbody tr th {\n",
       "        vertical-align: top;\n",
       "    }\n",
       "\n",
       "    .dataframe thead th {\n",
       "        text-align: right;\n",
       "    }\n",
       "</style>\n",
       "<table border=\"1\" class=\"dataframe\">\n",
       "  <thead>\n",
       "    <tr style=\"text-align: right;\">\n",
       "      <th></th>\n",
       "      <th>STRUCTURE</th>\n",
       "      <th>STRUCTURE_ID</th>\n",
       "      <th>STRUCTURE_NAME</th>\n",
       "      <th>ACTION</th>\n",
       "      <th>REF_AREA</th>\n",
       "      <th>Reference area</th>\n",
       "      <th>FREQ</th>\n",
       "      <th>Frequency of observation</th>\n",
       "      <th>MEASURE</th>\n",
       "      <th>Measure</th>\n",
       "      <th>UNIT_MEASURE</th>\n",
       "      <th>Unit of measure</th>\n",
       "      <th>ACTIVITY</th>\n",
       "      <th>Economic activity</th>\n",
       "      <th>ADJUSTMENT</th>\n",
       "      <th>Adjustment</th>\n",
       "      <th>TRANSFORMATION</th>\n",
       "      <th>Transformation</th>\n",
       "      <th>TIME_HORIZ</th>\n",
       "      <th>Time horizon</th>\n",
       "      <th>METHODOLOGY</th>\n",
       "      <th>Calculation methodology</th>\n",
       "      <th>TIME_PERIOD</th>\n",
       "      <th>Time period</th>\n",
       "      <th>OBS_VALUE</th>\n",
       "      <th>Observation value</th>\n",
       "      <th>OBS_STATUS</th>\n",
       "      <th>Observation status</th>\n",
       "      <th>UNIT_MULT</th>\n",
       "      <th>Unit multiplier</th>\n",
       "      <th>DECIMALS</th>\n",
       "      <th>Decimals</th>\n",
       "      <th>BASE_PER</th>\n",
       "      <th>Base period</th>\n",
       "    </tr>\n",
       "  </thead>\n",
       "  <tbody>\n",
       "    <tr>\n",
       "      <th>0</th>\n",
       "      <td>DATAFLOW</td>\n",
       "      <td>OECD.SDD.STES:DSD_STES@DF_CLI(4.1)</td>\n",
       "      <td>Composite leading indicators</td>\n",
       "      <td>I</td>\n",
       "      <td>OECDE</td>\n",
       "      <td>OECD Europe</td>\n",
       "      <td>M</td>\n",
       "      <td>Monthly</td>\n",
       "      <td>BCICP</td>\n",
       "      <td>Composite business confidence</td>\n",
       "      <td>IX</td>\n",
       "      <td>Index</td>\n",
       "      <td>_Z</td>\n",
       "      <td>Not applicable</td>\n",
       "      <td>AA</td>\n",
       "      <td>Amplitude adjusted</td>\n",
       "      <td>IX</td>\n",
       "      <td>Index</td>\n",
       "      <td>_Z</td>\n",
       "      <td>Not applicable</td>\n",
       "      <td>H</td>\n",
       "      <td>OECD harmonised</td>\n",
       "      <td>2019-12</td>\n",
       "      <td>NaN</td>\n",
       "      <td>99.91677</td>\n",
       "      <td>NaN</td>\n",
       "      <td>A</td>\n",
       "      <td>Normal value</td>\n",
       "      <td>0</td>\n",
       "      <td>Units</td>\n",
       "      <td>2</td>\n",
       "      <td>Two</td>\n",
       "      <td>NaN</td>\n",
       "      <td>NaN</td>\n",
       "    </tr>\n",
       "    <tr>\n",
       "      <th>1</th>\n",
       "      <td>DATAFLOW</td>\n",
       "      <td>OECD.SDD.STES:DSD_STES@DF_CLI(4.1)</td>\n",
       "      <td>Composite leading indicators</td>\n",
       "      <td>I</td>\n",
       "      <td>OECDE</td>\n",
       "      <td>OECD Europe</td>\n",
       "      <td>M</td>\n",
       "      <td>Monthly</td>\n",
       "      <td>BCICP</td>\n",
       "      <td>Composite business confidence</td>\n",
       "      <td>IX</td>\n",
       "      <td>Index</td>\n",
       "      <td>_Z</td>\n",
       "      <td>Not applicable</td>\n",
       "      <td>AA</td>\n",
       "      <td>Amplitude adjusted</td>\n",
       "      <td>IX</td>\n",
       "      <td>Index</td>\n",
       "      <td>_Z</td>\n",
       "      <td>Not applicable</td>\n",
       "      <td>H</td>\n",
       "      <td>OECD harmonised</td>\n",
       "      <td>2020-01</td>\n",
       "      <td>NaN</td>\n",
       "      <td>99.85726</td>\n",
       "      <td>NaN</td>\n",
       "      <td>A</td>\n",
       "      <td>Normal value</td>\n",
       "      <td>0</td>\n",
       "      <td>Units</td>\n",
       "      <td>2</td>\n",
       "      <td>Two</td>\n",
       "      <td>NaN</td>\n",
       "      <td>NaN</td>\n",
       "    </tr>\n",
       "    <tr>\n",
       "      <th>2</th>\n",
       "      <td>DATAFLOW</td>\n",
       "      <td>OECD.SDD.STES:DSD_STES@DF_CLI(4.1)</td>\n",
       "      <td>Composite leading indicators</td>\n",
       "      <td>I</td>\n",
       "      <td>ITA</td>\n",
       "      <td>Italy</td>\n",
       "      <td>M</td>\n",
       "      <td>Monthly</td>\n",
       "      <td>BCICP</td>\n",
       "      <td>Composite business confidence</td>\n",
       "      <td>IX</td>\n",
       "      <td>Index</td>\n",
       "      <td>_Z</td>\n",
       "      <td>Not applicable</td>\n",
       "      <td>AA</td>\n",
       "      <td>Amplitude adjusted</td>\n",
       "      <td>IX</td>\n",
       "      <td>Index</td>\n",
       "      <td>_Z</td>\n",
       "      <td>Not applicable</td>\n",
       "      <td>H</td>\n",
       "      <td>OECD harmonised</td>\n",
       "      <td>2018-12</td>\n",
       "      <td>NaN</td>\n",
       "      <td>100.70230</td>\n",
       "      <td>NaN</td>\n",
       "      <td>A</td>\n",
       "      <td>Normal value</td>\n",
       "      <td>0</td>\n",
       "      <td>Units</td>\n",
       "      <td>2</td>\n",
       "      <td>Two</td>\n",
       "      <td>NaN</td>\n",
       "      <td>NaN</td>\n",
       "    </tr>\n",
       "  </tbody>\n",
       "</table>\n",
       "</div>"
      ],
      "text/plain": [
       "  STRUCTURE                        STRUCTURE_ID                STRUCTURE_NAME  \\\n",
       "0  DATAFLOW  OECD.SDD.STES:DSD_STES@DF_CLI(4.1)  Composite leading indicators   \n",
       "1  DATAFLOW  OECD.SDD.STES:DSD_STES@DF_CLI(4.1)  Composite leading indicators   \n",
       "2  DATAFLOW  OECD.SDD.STES:DSD_STES@DF_CLI(4.1)  Composite leading indicators   \n",
       "\n",
       "  ACTION REF_AREA Reference area FREQ Frequency of observation MEASURE  \\\n",
       "0      I    OECDE    OECD Europe    M                  Monthly   BCICP   \n",
       "1      I    OECDE    OECD Europe    M                  Monthly   BCICP   \n",
       "2      I      ITA          Italy    M                  Monthly   BCICP   \n",
       "\n",
       "                         Measure UNIT_MEASURE Unit of measure ACTIVITY  \\\n",
       "0  Composite business confidence           IX           Index       _Z   \n",
       "1  Composite business confidence           IX           Index       _Z   \n",
       "2  Composite business confidence           IX           Index       _Z   \n",
       "\n",
       "  Economic activity ADJUSTMENT          Adjustment TRANSFORMATION  \\\n",
       "0    Not applicable         AA  Amplitude adjusted             IX   \n",
       "1    Not applicable         AA  Amplitude adjusted             IX   \n",
       "2    Not applicable         AA  Amplitude adjusted             IX   \n",
       "\n",
       "  Transformation TIME_HORIZ    Time horizon METHODOLOGY  \\\n",
       "0          Index         _Z  Not applicable           H   \n",
       "1          Index         _Z  Not applicable           H   \n",
       "2          Index         _Z  Not applicable           H   \n",
       "\n",
       "  Calculation methodology TIME_PERIOD  Time period  OBS_VALUE  \\\n",
       "0         OECD harmonised     2019-12          NaN   99.91677   \n",
       "1         OECD harmonised     2020-01          NaN   99.85726   \n",
       "2         OECD harmonised     2018-12          NaN  100.70230   \n",
       "\n",
       "   Observation value OBS_STATUS Observation status  UNIT_MULT Unit multiplier  \\\n",
       "0                NaN          A       Normal value          0           Units   \n",
       "1                NaN          A       Normal value          0           Units   \n",
       "2                NaN          A       Normal value          0           Units   \n",
       "\n",
       "   DECIMALS Decimals  BASE_PER  Base period  \n",
       "0         2      Two       NaN          NaN  \n",
       "1         2      Two       NaN          NaN  \n",
       "2         2      Two       NaN          NaN  "
      ]
     },
     "execution_count": 22,
     "metadata": {},
     "output_type": "execute_result"
    }
   ],
   "source": [
    "business_confidence = pd.read_csv('./extra data/composite_business_confidence.csv')\n",
    "business_confidence.head(3)"
   ]
  },
  {
   "cell_type": "code",
   "execution_count": 23,
   "id": "6bb62e8d",
   "metadata": {
    "ExecuteTime": {
     "end_time": "2025-03-21T18:12:01.601159Z",
     "start_time": "2025-03-21T18:12:01.591518Z"
    }
   },
   "outputs": [],
   "source": [
    "business_confidence.drop(['STRUCTURE','STRUCTURE_ID', 'STRUCTURE_NAME', \n",
    "                          'ACTION', 'FREQ', 'Frequency of observation',\n",
    "                          'MEASURE', 'Measure', 'UNIT_MEASURE',\n",
    "                          'Unit of measure', 'ACTIVITY', 'Economic activity',\n",
    "                          'ADJUSTMENT', 'Adjustment', 'TRANSFORMATION',\n",
    "                          'Transformation', 'TIME_HORIZ', 'Time horizon',\n",
    "                          'METHODOLOGY', 'Calculation methodology', 'Time period',\n",
    "                          'Observation value', 'OBS_STATUS', 'UNIT_MULT', 'Observation status',\n",
    "                          'Unit multiplier', 'DECIMALS', 'BASE_PER', 'Base period', 'Decimals',\n",
    "                          'REF_AREA'],\n",
    "                         axis = 1, inplace = True)"
   ]
  },
  {
   "cell_type": "code",
   "execution_count": 24,
   "id": "1e813f27",
   "metadata": {
    "ExecuteTime": {
     "end_time": "2025-03-21T18:12:01.607194Z",
     "start_time": "2025-03-21T18:12:01.603022Z"
    }
   },
   "outputs": [],
   "source": [
    "business_confidence['TIME_PERIOD'] =  pd.to_datetime(business_confidence['TIME_PERIOD'])\n",
    "business_confidence = business_confidence.set_index('TIME_PERIOD')"
   ]
  },
  {
   "cell_type": "markdown",
   "id": "5197e988",
   "metadata": {},
   "source": [
    "The pivot table will be created to transform the countries into columns for easier comparison."
   ]
  },
  {
   "cell_type": "code",
   "execution_count": 25,
   "id": "d82abb52",
   "metadata": {
    "ExecuteTime": {
     "end_time": "2025-03-21T18:12:01.636646Z",
     "start_time": "2025-03-21T18:12:01.609051Z"
    },
    "scrolled": true
   },
   "outputs": [
    {
     "data": {
      "text/html": [
       "<div>\n",
       "<style scoped>\n",
       "    .dataframe tbody tr th:only-of-type {\n",
       "        vertical-align: middle;\n",
       "    }\n",
       "\n",
       "    .dataframe tbody tr th {\n",
       "        vertical-align: top;\n",
       "    }\n",
       "\n",
       "    .dataframe thead th {\n",
       "        text-align: right;\n",
       "    }\n",
       "</style>\n",
       "<table border=\"1\" class=\"dataframe\">\n",
       "  <thead>\n",
       "    <tr style=\"text-align: right;\">\n",
       "      <th>Reference area</th>\n",
       "      <th>China (People’s Republic of)</th>\n",
       "      <th>France</th>\n",
       "      <th>Germany</th>\n",
       "      <th>Italy</th>\n",
       "      <th>Japan</th>\n",
       "      <th>OECD Europe</th>\n",
       "      <th>Switzerland</th>\n",
       "      <th>United Kingdom</th>\n",
       "      <th>United States</th>\n",
       "    </tr>\n",
       "    <tr>\n",
       "      <th>TIME_PERIOD</th>\n",
       "      <th></th>\n",
       "      <th></th>\n",
       "      <th></th>\n",
       "      <th></th>\n",
       "      <th></th>\n",
       "      <th></th>\n",
       "      <th></th>\n",
       "      <th></th>\n",
       "      <th></th>\n",
       "    </tr>\n",
       "  </thead>\n",
       "  <tbody>\n",
       "    <tr>\n",
       "      <th>2018-10-01</th>\n",
       "      <td>98.79642</td>\n",
       "      <td>101.0451</td>\n",
       "      <td>101.7476</td>\n",
       "      <td>100.9696</td>\n",
       "      <td>101.5259</td>\n",
       "      <td>100.9295</td>\n",
       "      <td>102.0386</td>\n",
       "      <td>102.0568</td>\n",
       "      <td>101.2177</td>\n",
       "    </tr>\n",
       "    <tr>\n",
       "      <th>2018-11-01</th>\n",
       "      <td>98.45412</td>\n",
       "      <td>100.9598</td>\n",
       "      <td>101.5859</td>\n",
       "      <td>100.8509</td>\n",
       "      <td>101.5088</td>\n",
       "      <td>100.9174</td>\n",
       "      <td>101.8399</td>\n",
       "      <td>102.2486</td>\n",
       "      <td>101.0049</td>\n",
       "    </tr>\n",
       "    <tr>\n",
       "      <th>2018-12-01</th>\n",
       "      <td>98.18901</td>\n",
       "      <td>100.8520</td>\n",
       "      <td>101.3715</td>\n",
       "      <td>100.7023</td>\n",
       "      <td>101.4458</td>\n",
       "      <td>100.8464</td>\n",
       "      <td>101.6098</td>\n",
       "      <td>102.3394</td>\n",
       "      <td>100.6920</td>\n",
       "    </tr>\n",
       "    <tr>\n",
       "      <th>2019-01-01</th>\n",
       "      <td>98.12537</td>\n",
       "      <td>100.7477</td>\n",
       "      <td>101.1380</td>\n",
       "      <td>100.5383</td>\n",
       "      <td>101.3079</td>\n",
       "      <td>100.6773</td>\n",
       "      <td>101.4533</td>\n",
       "      <td>101.9919</td>\n",
       "      <td>100.5415</td>\n",
       "    </tr>\n",
       "    <tr>\n",
       "      <th>2019-02-01</th>\n",
       "      <td>98.23363</td>\n",
       "      <td>100.6161</td>\n",
       "      <td>100.8785</td>\n",
       "      <td>100.4249</td>\n",
       "      <td>101.1329</td>\n",
       "      <td>100.5132</td>\n",
       "      <td>101.3497</td>\n",
       "      <td>101.3867</td>\n",
       "      <td>100.3775</td>\n",
       "    </tr>\n",
       "  </tbody>\n",
       "</table>\n",
       "</div>"
      ],
      "text/plain": [
       "Reference area  China (People’s Republic of)    France   Germany     Italy  \\\n",
       "TIME_PERIOD                                                                  \n",
       "2018-10-01                          98.79642  101.0451  101.7476  100.9696   \n",
       "2018-11-01                          98.45412  100.9598  101.5859  100.8509   \n",
       "2018-12-01                          98.18901  100.8520  101.3715  100.7023   \n",
       "2019-01-01                          98.12537  100.7477  101.1380  100.5383   \n",
       "2019-02-01                          98.23363  100.6161  100.8785  100.4249   \n",
       "\n",
       "Reference area     Japan  OECD Europe  Switzerland  United Kingdom  \\\n",
       "TIME_PERIOD                                                          \n",
       "2018-10-01      101.5259     100.9295     102.0386        102.0568   \n",
       "2018-11-01      101.5088     100.9174     101.8399        102.2486   \n",
       "2018-12-01      101.4458     100.8464     101.6098        102.3394   \n",
       "2019-01-01      101.3079     100.6773     101.4533        101.9919   \n",
       "2019-02-01      101.1329     100.5132     101.3497        101.3867   \n",
       "\n",
       "Reference area  United States  \n",
       "TIME_PERIOD                    \n",
       "2018-10-01           101.2177  \n",
       "2018-11-01           101.0049  \n",
       "2018-12-01           100.6920  \n",
       "2019-01-01           100.5415  \n",
       "2019-02-01           100.3775  "
      ]
     },
     "execution_count": 25,
     "metadata": {},
     "output_type": "execute_result"
    }
   ],
   "source": [
    "bc2 = business_confidence.pivot_table(index=business_confidence.index, columns='Reference area', values='OBS_VALUE')\n",
    "bc2.head()"
   ]
  },
  {
   "cell_type": "markdown",
   "id": "09f1d863",
   "metadata": {},
   "source": [
    "**Exploring the dataset structure with .info() method**"
   ]
  },
  {
   "cell_type": "code",
   "execution_count": 26,
   "id": "ad585e2c",
   "metadata": {
    "ExecuteTime": {
     "end_time": "2025-03-21T18:12:01.647266Z",
     "start_time": "2025-03-21T18:12:01.639240Z"
    }
   },
   "outputs": [
    {
     "name": "stdout",
     "output_type": "stream",
     "text": [
      "<class 'pandas.core.frame.DataFrame'>\n",
      "DatetimeIndex: 43 entries, 2018-10-01 to 2022-04-01\n",
      "Data columns (total 9 columns):\n",
      " #   Column                        Non-Null Count  Dtype  \n",
      "---  ------                        --------------  -----  \n",
      " 0   China (People’s Republic of)  43 non-null     float64\n",
      " 1   France                        43 non-null     float64\n",
      " 2   Germany                       43 non-null     float64\n",
      " 3   Italy                         43 non-null     float64\n",
      " 4   Japan                         43 non-null     float64\n",
      " 5   OECD Europe                   43 non-null     float64\n",
      " 6   Switzerland                   43 non-null     float64\n",
      " 7   United Kingdom                43 non-null     float64\n",
      " 8   United States                 43 non-null     float64\n",
      "dtypes: float64(9)\n",
      "memory usage: 3.4 KB\n"
     ]
    }
   ],
   "source": [
    "bc2.info()"
   ]
  },
  {
   "cell_type": "markdown",
   "id": "2e4f6b93",
   "metadata": {},
   "source": [
    "There are no missing values in the dataset. The data is already in the correct format for plotting, therefore no further transformations are needed."
   ]
  },
  {
   "cell_type": "code",
   "execution_count": 27,
   "id": "be7c4748",
   "metadata": {},
   "outputs": [
    {
     "data": {
      "application/vnd.plotly.v1+json": {
       "config": {
        "plotlyServerURL": "https://plot.ly"
       },
       "data": [
        {
         "hovertemplate": "Reference area=China (People’s Republic of)<br>Date=%{x}<br>BCI=%{y}<extra></extra>",
         "legendgroup": "China (People’s Republic of)",
         "line": {
          "color": "#636efa",
          "dash": "solid"
         },
         "marker": {
          "symbol": "circle"
         },
         "mode": "lines",
         "name": "China (People’s Republic of)",
         "orientation": "v",
         "showlegend": true,
         "type": "scatter",
         "x": [
          "2018-10-01T00:00:00.000000000",
          "2018-11-01T00:00:00.000000000",
          "2018-12-01T00:00:00.000000000",
          "2019-01-01T00:00:00.000000000",
          "2019-02-01T00:00:00.000000000",
          "2019-03-01T00:00:00.000000000",
          "2019-04-01T00:00:00.000000000",
          "2019-05-01T00:00:00.000000000",
          "2019-06-01T00:00:00.000000000",
          "2019-07-01T00:00:00.000000000",
          "2019-08-01T00:00:00.000000000",
          "2019-09-01T00:00:00.000000000",
          "2019-10-01T00:00:00.000000000",
          "2019-11-01T00:00:00.000000000",
          "2019-12-01T00:00:00.000000000",
          "2020-01-01T00:00:00.000000000",
          "2020-02-01T00:00:00.000000000",
          "2020-03-01T00:00:00.000000000",
          "2020-04-01T00:00:00.000000000",
          "2020-05-01T00:00:00.000000000",
          "2020-06-01T00:00:00.000000000",
          "2020-07-01T00:00:00.000000000",
          "2020-08-01T00:00:00.000000000",
          "2020-09-01T00:00:00.000000000",
          "2020-10-01T00:00:00.000000000",
          "2020-11-01T00:00:00.000000000",
          "2020-12-01T00:00:00.000000000",
          "2021-01-01T00:00:00.000000000",
          "2021-02-01T00:00:00.000000000",
          "2021-03-01T00:00:00.000000000",
          "2021-04-01T00:00:00.000000000",
          "2021-05-01T00:00:00.000000000",
          "2021-06-01T00:00:00.000000000",
          "2021-07-01T00:00:00.000000000",
          "2021-08-01T00:00:00.000000000",
          "2021-09-01T00:00:00.000000000",
          "2021-10-01T00:00:00.000000000",
          "2021-11-01T00:00:00.000000000",
          "2021-12-01T00:00:00.000000000",
          "2022-01-01T00:00:00.000000000",
          "2022-02-01T00:00:00.000000000",
          "2022-03-01T00:00:00.000000000",
          "2022-04-01T00:00:00.000000000"
         ],
         "xaxis": "x",
         "y": {
          "bdata": "V3iXi/iyWEBpHVVNEJ1YQHwnZr0YjFhAknnkDwaIWEBUVz7L845YQHFa8KKvnlhACKwcWmSdWECpTZzc75BYQBhbCHJQilhAZOlDF9SLWEBZaVIKuo9YQKmkTkATl1hAPsvz4O6aWEBIMxZNZ5VYQMa/z7hwYlhA2IFzRpT2V0D2fw7z5ZFXQMX+snvyIFhAhGQBE7iTWED68gLso8lYQBBdUN8y3VhA4gZ8fhjjWEBsPq4NFedYQOnxe5v+8FhAuqC+ZU77WEAGgZVDiwRZQFOzB1qB/1hA/Knx0k3wWEBN845TdOZYQJOpglFJ61hAeqpDboblWEB6qkNuhttYQIyEtpxLzVhA6Q5iZwq5WEDVyoRf6qNYQImYEkn0klhASzygbMqPWEC8IvjfSp5YQPZiKCfaqVhAlbcjnBaoWECcM6K0N5hYQJIiMqzieVhA3GgAb4FiWEA=",
          "dtype": "f8"
         },
         "yaxis": "y"
        },
        {
         "hovertemplate": "Reference area=France<br>Date=%{x}<br>BCI=%{y}<extra></extra>",
         "legendgroup": "France",
         "line": {
          "color": "#EF553B",
          "dash": "solid"
         },
         "marker": {
          "symbol": "circle"
         },
         "mode": "lines",
         "name": "France",
         "orientation": "v",
         "showlegend": true,
         "type": "scatter",
         "x": [
          "2018-10-01T00:00:00.000000000",
          "2018-11-01T00:00:00.000000000",
          "2018-12-01T00:00:00.000000000",
          "2019-01-01T00:00:00.000000000",
          "2019-02-01T00:00:00.000000000",
          "2019-03-01T00:00:00.000000000",
          "2019-04-01T00:00:00.000000000",
          "2019-05-01T00:00:00.000000000",
          "2019-06-01T00:00:00.000000000",
          "2019-07-01T00:00:00.000000000",
          "2019-08-01T00:00:00.000000000",
          "2019-09-01T00:00:00.000000000",
          "2019-10-01T00:00:00.000000000",
          "2019-11-01T00:00:00.000000000",
          "2019-12-01T00:00:00.000000000",
          "2020-01-01T00:00:00.000000000",
          "2020-02-01T00:00:00.000000000",
          "2020-03-01T00:00:00.000000000",
          "2020-04-01T00:00:00.000000000",
          "2020-05-01T00:00:00.000000000",
          "2020-06-01T00:00:00.000000000",
          "2020-07-01T00:00:00.000000000",
          "2020-08-01T00:00:00.000000000",
          "2020-09-01T00:00:00.000000000",
          "2020-10-01T00:00:00.000000000",
          "2020-11-01T00:00:00.000000000",
          "2020-12-01T00:00:00.000000000",
          "2021-01-01T00:00:00.000000000",
          "2021-02-01T00:00:00.000000000",
          "2021-03-01T00:00:00.000000000",
          "2021-04-01T00:00:00.000000000",
          "2021-05-01T00:00:00.000000000",
          "2021-06-01T00:00:00.000000000",
          "2021-07-01T00:00:00.000000000",
          "2021-08-01T00:00:00.000000000",
          "2021-09-01T00:00:00.000000000",
          "2021-10-01T00:00:00.000000000",
          "2021-11-01T00:00:00.000000000",
          "2021-12-01T00:00:00.000000000",
          "2022-01-01T00:00:00.000000000",
          "2022-02-01T00:00:00.000000000",
          "2022-03-01T00:00:00.000000000",
          "2022-04-01T00:00:00.000000000"
         ],
         "xaxis": "x",
         "y": {
          "bdata": "LUMc6+JCWUDarPpcbT1ZQEoMAiuHNllAB84ZUdovWUAzxLEubidZQBb7y+7JI1lAIGPuWkIiWUDtDb4wmSZZQGB2Tx4WHllA9pfdk4cRWUCX/5B++wpZQKW9wRcmB1lAayv2l90HWUAAAAAAAAxZQLdif9k9FVlA7zhFR3IdWUDHuriNBvxYQOPCgZAsolhAInGPpQ85WEDde7jkuD1YQOCEQgQcflhAbxKDwMq7WEDejnBa8OBYQGpN845T5FhA3J212y7WWEBM4NbdPMlYQBA7U+i80lhAE/JBz2blWEDwiuB/K/1YQCo6kst/GFlAtRX7y+49WUDEQq1p3mFZQKabxCCwellA5q4l5IOKWUCfq63YX4ZZQBe30QDefllAApoIG56CWUB7gy9MpopZQHrHKTqSj1lAlIeFWtOQWUDaG3xhMolZQKCJsOHpcVlA3EYDeAtgWUA=",
          "dtype": "f8"
         },
         "yaxis": "y"
        },
        {
         "hovertemplate": "Reference area=Germany<br>Date=%{x}<br>BCI=%{y}<extra></extra>",
         "legendgroup": "Germany",
         "line": {
          "color": "#00cc96",
          "dash": "solid"
         },
         "marker": {
          "symbol": "circle"
         },
         "mode": "lines",
         "name": "Germany",
         "orientation": "v",
         "showlegend": true,
         "type": "scatter",
         "x": [
          "2018-10-01T00:00:00.000000000",
          "2018-11-01T00:00:00.000000000",
          "2018-12-01T00:00:00.000000000",
          "2019-01-01T00:00:00.000000000",
          "2019-02-01T00:00:00.000000000",
          "2019-03-01T00:00:00.000000000",
          "2019-04-01T00:00:00.000000000",
          "2019-05-01T00:00:00.000000000",
          "2019-06-01T00:00:00.000000000",
          "2019-07-01T00:00:00.000000000",
          "2019-08-01T00:00:00.000000000",
          "2019-09-01T00:00:00.000000000",
          "2019-10-01T00:00:00.000000000",
          "2019-11-01T00:00:00.000000000",
          "2019-12-01T00:00:00.000000000",
          "2020-01-01T00:00:00.000000000",
          "2020-02-01T00:00:00.000000000",
          "2020-03-01T00:00:00.000000000",
          "2020-04-01T00:00:00.000000000",
          "2020-05-01T00:00:00.000000000",
          "2020-06-01T00:00:00.000000000",
          "2020-07-01T00:00:00.000000000",
          "2020-08-01T00:00:00.000000000",
          "2020-09-01T00:00:00.000000000",
          "2020-10-01T00:00:00.000000000",
          "2020-11-01T00:00:00.000000000",
          "2020-12-01T00:00:00.000000000",
          "2021-01-01T00:00:00.000000000",
          "2021-02-01T00:00:00.000000000",
          "2021-03-01T00:00:00.000000000",
          "2021-04-01T00:00:00.000000000",
          "2021-05-01T00:00:00.000000000",
          "2021-06-01T00:00:00.000000000",
          "2021-07-01T00:00:00.000000000",
          "2021-08-01T00:00:00.000000000",
          "2021-09-01T00:00:00.000000000",
          "2021-10-01T00:00:00.000000000",
          "2021-11-01T00:00:00.000000000",
          "2021-12-01T00:00:00.000000000",
          "2022-01-01T00:00:00.000000000",
          "2022-02-01T00:00:00.000000000",
          "2022-03-01T00:00:00.000000000",
          "2022-04-01T00:00:00.000000000"
         ],
         "xaxis": "x",
         "y": {
          "bdata": "Vp+rrdhvWUB9rrZif2VZQLKd76fGV1lARrbz/dRIWUBOYhBYOThZQOAtkKD4JVlAYqHWNO8UWUB7gy9MpgZZQOiC+pY59VhAlufB3VnlWEAiT5KumdpYQKc/+5Ei0FhA1/oioS3NWEBZUYNpGNBYQJPGaB1V11hAz6Chf4LbWEAkC5jArclYQAgDz72Hm1hAS7A4nPlpWECc4QZ8fmhYQFR0JJf/ilhAzhlR2hu6WEBRZoNMMuRYQHQkl/+QAllAXW3F/rIXWUC4HoXrUSRZQM6I0t7gM1lAZ0Rpb/BJWUB+jLlrCWlZQAyTqYJRiVlASgwCK4eiWUBfB84ZUbZZQKH4MeauyVlA7zhFR3LZWUAKaCJseOJZQKqCUUmd5FlAcayL22jgWUC0yHa+n95ZQKmkTkAT4VlAN4lBYOXcWUCe76fGS89ZQMx/SL99uVlAAU2EDU+rWUA=",
          "dtype": "f8"
         },
         "yaxis": "y"
        },
        {
         "hovertemplate": "Reference area=Italy<br>Date=%{x}<br>BCI=%{y}<extra></extra>",
         "legendgroup": "Italy",
         "line": {
          "color": "#ab63fa",
          "dash": "solid"
         },
         "marker": {
          "symbol": "circle"
         },
         "mode": "lines",
         "name": "Italy",
         "orientation": "v",
         "showlegend": true,
         "type": "scatter",
         "x": [
          "2018-10-01T00:00:00.000000000",
          "2018-11-01T00:00:00.000000000",
          "2018-12-01T00:00:00.000000000",
          "2019-01-01T00:00:00.000000000",
          "2019-02-01T00:00:00.000000000",
          "2019-03-01T00:00:00.000000000",
          "2019-04-01T00:00:00.000000000",
          "2019-05-01T00:00:00.000000000",
          "2019-06-01T00:00:00.000000000",
          "2019-07-01T00:00:00.000000000",
          "2019-08-01T00:00:00.000000000",
          "2019-09-01T00:00:00.000000000",
          "2019-10-01T00:00:00.000000000",
          "2019-11-01T00:00:00.000000000",
          "2019-12-01T00:00:00.000000000",
          "2020-01-01T00:00:00.000000000",
          "2020-02-01T00:00:00.000000000",
          "2020-03-01T00:00:00.000000000",
          "2020-04-01T00:00:00.000000000",
          "2020-05-01T00:00:00.000000000",
          "2020-06-01T00:00:00.000000000",
          "2020-07-01T00:00:00.000000000",
          "2020-08-01T00:00:00.000000000",
          "2020-09-01T00:00:00.000000000",
          "2020-10-01T00:00:00.000000000",
          "2020-11-01T00:00:00.000000000",
          "2020-12-01T00:00:00.000000000",
          "2021-01-01T00:00:00.000000000",
          "2021-02-01T00:00:00.000000000",
          "2021-03-01T00:00:00.000000000",
          "2021-04-01T00:00:00.000000000",
          "2021-05-01T00:00:00.000000000",
          "2021-06-01T00:00:00.000000000",
          "2021-07-01T00:00:00.000000000",
          "2021-08-01T00:00:00.000000000",
          "2021-09-01T00:00:00.000000000",
          "2021-10-01T00:00:00.000000000",
          "2021-11-01T00:00:00.000000000",
          "2021-12-01T00:00:00.000000000",
          "2022-01-01T00:00:00.000000000",
          "2022-02-01T00:00:00.000000000",
          "2022-03-01T00:00:00.000000000",
          "2022-04-01T00:00:00.000000000"
         ],
         "xaxis": "x",
         "y": {
          "bdata": "54wo7Q0+WUCmCkYldTZZQMX+snvyLFlA9dvXgXMiWUCBBMWPMRtZQL7BFyZTGVlA5WGh1jQbWUBv8IXJVB1ZQJ+rrdhfGllAINJvXwcWWUC8dJMYBBJZQG3F/rJ7DllAWRe30QAOWUDlYaHWNA9ZQDMzMzMzD1lA2qz6XG0FWUB0XmOXqOJYQG/1nPS+n1hAGhcOhGRdWEDWrZ6T3jVYQPlJtU/HQ1hA+u3rwDltWECYo8fvbZpYQBSzXgzlwlhAN+DzwwjZWEDAJmvUQ+BYQPbuj/eq81hAio7k8h8KWUCxUGuadyRZQFK4HoXrQVlAhA1Pr5RhWUAQWDm0yH5ZQIEExY8xk1lAn6ut2F+eWUD1SlmGOKJZQAn5oGezpllAF0hQ/BirWUDfT42XbqpZQFR0JJf/pFlA4umVsgyZWUDRkVz+Q4pZQDAqqRPQeFlAA3gLJChuWUA=",
          "dtype": "f8"
         },
         "yaxis": "y"
        },
        {
         "hovertemplate": "Reference area=Japan<br>Date=%{x}<br>BCI=%{y}<extra></extra>",
         "legendgroup": "Japan",
         "line": {
          "color": "#FFA15A",
          "dash": "solid"
         },
         "marker": {
          "symbol": "circle"
         },
         "mode": "lines",
         "name": "Japan",
         "orientation": "v",
         "showlegend": true,
         "type": "scatter",
         "x": [
          "2018-10-01T00:00:00.000000000",
          "2018-11-01T00:00:00.000000000",
          "2018-12-01T00:00:00.000000000",
          "2019-01-01T00:00:00.000000000",
          "2019-02-01T00:00:00.000000000",
          "2019-03-01T00:00:00.000000000",
          "2019-04-01T00:00:00.000000000",
          "2019-05-01T00:00:00.000000000",
          "2019-06-01T00:00:00.000000000",
          "2019-07-01T00:00:00.000000000",
          "2019-08-01T00:00:00.000000000",
          "2019-09-01T00:00:00.000000000",
          "2019-10-01T00:00:00.000000000",
          "2019-11-01T00:00:00.000000000",
          "2019-12-01T00:00:00.000000000",
          "2020-01-01T00:00:00.000000000",
          "2020-02-01T00:00:00.000000000",
          "2020-03-01T00:00:00.000000000",
          "2020-04-01T00:00:00.000000000",
          "2020-05-01T00:00:00.000000000",
          "2020-06-01T00:00:00.000000000",
          "2020-07-01T00:00:00.000000000",
          "2020-08-01T00:00:00.000000000",
          "2020-09-01T00:00:00.000000000",
          "2020-10-01T00:00:00.000000000",
          "2020-11-01T00:00:00.000000000",
          "2020-12-01T00:00:00.000000000",
          "2021-01-01T00:00:00.000000000",
          "2021-02-01T00:00:00.000000000",
          "2021-03-01T00:00:00.000000000",
          "2021-04-01T00:00:00.000000000",
          "2021-05-01T00:00:00.000000000",
          "2021-06-01T00:00:00.000000000",
          "2021-07-01T00:00:00.000000000",
          "2021-08-01T00:00:00.000000000",
          "2021-09-01T00:00:00.000000000",
          "2021-10-01T00:00:00.000000000",
          "2021-11-01T00:00:00.000000000",
          "2021-12-01T00:00:00.000000000",
          "2022-01-01T00:00:00.000000000",
          "2022-02-01T00:00:00.000000000",
          "2022-03-01T00:00:00.000000000",
          "2022-04-01T00:00:00.000000000"
         ],
         "xaxis": "x",
         "y": {
          "bdata": "2T15WKhhWUAbDeAtkGBZQKMjufyHXFlAD5wzorRTWUDcaABvgUhZQJkqGJXUPVlAtoR80LM1WUCPwvUoXC9ZQPYoXI/CKVlAlWWIY10kWUB6pSxDHB9ZQG40gLdAGllA9bnaiv0VWUAvbqMBvBFZQNV46SYxDFlAgZVDi2wDWUDcnbXbLvZYQPN2hNOC4VhA4jsx68XCWEDsaYe/JqFYQB9LH7qghlhAIF7XL9h7WEAQkgVM4HxYQCbkg57NhlhAGlHaG3yZWEDmdFlMbLBYQHJQwkzbx1hA6Gor9pfdWEC6vaQxWvFYQO0NvjCZAllARpT2Bl8QWUBBguLHmBtZQKMjufyHJFlAuycPC7UqWUBseHqlLC9ZQPs6cM6IMllAm1Wfq600WUA2PL1SljVZQL8OnDOiNFlAaQBvgQQxWUBcj8L1KCxZQF1txf6yJ1lAVOOlm8QkWUA=",
          "dtype": "f8"
         },
         "yaxis": "y"
        },
        {
         "hovertemplate": "Reference area=OECD Europe<br>Date=%{x}<br>BCI=%{y}<extra></extra>",
         "legendgroup": "OECD Europe",
         "line": {
          "color": "#19d3f3",
          "dash": "solid"
         },
         "marker": {
          "symbol": "circle"
         },
         "mode": "lines",
         "name": "OECD Europe",
         "orientation": "v",
         "showlegend": true,
         "type": "scatter",
         "x": [
          "2018-10-01T00:00:00.000000000",
          "2018-11-01T00:00:00.000000000",
          "2018-12-01T00:00:00.000000000",
          "2019-01-01T00:00:00.000000000",
          "2019-02-01T00:00:00.000000000",
          "2019-03-01T00:00:00.000000000",
          "2019-04-01T00:00:00.000000000",
          "2019-05-01T00:00:00.000000000",
          "2019-06-01T00:00:00.000000000",
          "2019-07-01T00:00:00.000000000",
          "2019-08-01T00:00:00.000000000",
          "2019-09-01T00:00:00.000000000",
          "2019-10-01T00:00:00.000000000",
          "2019-11-01T00:00:00.000000000",
          "2019-12-01T00:00:00.000000000",
          "2020-01-01T00:00:00.000000000",
          "2020-02-01T00:00:00.000000000",
          "2020-03-01T00:00:00.000000000",
          "2020-04-01T00:00:00.000000000",
          "2020-05-01T00:00:00.000000000",
          "2020-06-01T00:00:00.000000000",
          "2020-07-01T00:00:00.000000000",
          "2020-08-01T00:00:00.000000000",
          "2020-09-01T00:00:00.000000000",
          "2020-10-01T00:00:00.000000000",
          "2020-11-01T00:00:00.000000000",
          "2020-12-01T00:00:00.000000000",
          "2021-01-01T00:00:00.000000000",
          "2021-02-01T00:00:00.000000000",
          "2021-03-01T00:00:00.000000000",
          "2021-04-01T00:00:00.000000000",
          "2021-05-01T00:00:00.000000000",
          "2021-06-01T00:00:00.000000000",
          "2021-07-01T00:00:00.000000000",
          "2021-08-01T00:00:00.000000000",
          "2021-09-01T00:00:00.000000000",
          "2021-10-01T00:00:00.000000000",
          "2021-11-01T00:00:00.000000000",
          "2021-12-01T00:00:00.000000000",
          "2022-01-01T00:00:00.000000000",
          "2022-02-01T00:00:00.000000000",
          "2022-03-01T00:00:00.000000000",
          "2022-04-01T00:00:00.000000000"
         ],
         "xaxis": "x",
         "y": {
          "bdata": "c2iR7Xw7WUBtVn2utjpZQGfV52orNllALGUZ4lgrWUCpE9BE2CBZQGFUUiegGVlAdZMYBFYSWUAhsHJokQlZQDcawFsg/VhACeHRxhHvWEBLH7qgvudYQKMG0zB84FhAF9S3zOnkWEDpZRTLLfFYQA39E1ys+lhA0AoMWd32WEAFo5I6Ac1YQGdhTzv8aVhAb57qkJv1V0DLuRRXleVXQNxoAG+BKFhA5WGh1jR9WEDsaYe/JrlYQE/MejGU21hAdhppqbztWEDxgLIpV/BYQCJPkq6Z+lhAz/dT46UHWUAbL90kBiFZQEvqBDQRRllAdQKaCBtqWUBfKcsQx4pZQE7RkVz+o1lAxEKtad6xWUCOdXEbDbRZQAfOGVHas1lAayv2l92zWUC7Jw8LtbZZQIPAyqFFtllA0SLb+X6uWUAIrBxaZJ9ZQD/G3LWEiFlAUrgehet1WUA=",
          "dtype": "f8"
         },
         "yaxis": "y"
        },
        {
         "hovertemplate": "Reference area=Switzerland<br>Date=%{x}<br>BCI=%{y}<extra></extra>",
         "legendgroup": "Switzerland",
         "line": {
          "color": "#FF6692",
          "dash": "solid"
         },
         "marker": {
          "symbol": "circle"
         },
         "mode": "lines",
         "name": "Switzerland",
         "orientation": "v",
         "showlegend": true,
         "type": "scatter",
         "x": [
          "2018-10-01T00:00:00.000000000",
          "2018-11-01T00:00:00.000000000",
          "2018-12-01T00:00:00.000000000",
          "2019-01-01T00:00:00.000000000",
          "2019-02-01T00:00:00.000000000",
          "2019-03-01T00:00:00.000000000",
          "2019-04-01T00:00:00.000000000",
          "2019-05-01T00:00:00.000000000",
          "2019-06-01T00:00:00.000000000",
          "2019-07-01T00:00:00.000000000",
          "2019-08-01T00:00:00.000000000",
          "2019-09-01T00:00:00.000000000",
          "2019-10-01T00:00:00.000000000",
          "2019-11-01T00:00:00.000000000",
          "2019-12-01T00:00:00.000000000",
          "2020-01-01T00:00:00.000000000",
          "2020-02-01T00:00:00.000000000",
          "2020-03-01T00:00:00.000000000",
          "2020-04-01T00:00:00.000000000",
          "2020-05-01T00:00:00.000000000",
          "2020-06-01T00:00:00.000000000",
          "2020-07-01T00:00:00.000000000",
          "2020-08-01T00:00:00.000000000",
          "2020-09-01T00:00:00.000000000",
          "2020-10-01T00:00:00.000000000",
          "2020-11-01T00:00:00.000000000",
          "2020-12-01T00:00:00.000000000",
          "2021-01-01T00:00:00.000000000",
          "2021-02-01T00:00:00.000000000",
          "2021-03-01T00:00:00.000000000",
          "2021-04-01T00:00:00.000000000",
          "2021-05-01T00:00:00.000000000",
          "2021-06-01T00:00:00.000000000",
          "2021-07-01T00:00:00.000000000",
          "2021-08-01T00:00:00.000000000",
          "2021-09-01T00:00:00.000000000",
          "2021-10-01T00:00:00.000000000",
          "2021-11-01T00:00:00.000000000",
          "2021-12-01T00:00:00.000000000",
          "2022-01-01T00:00:00.000000000",
          "2022-02-01T00:00:00.000000000",
          "2022-03-01T00:00:00.000000000",
          "2022-04-01T00:00:00.000000000"
         ],
         "xaxis": "x",
         "y": {
          "bdata": "CmgibHiCWUBE+u3rwHVZQHRGlPYGZ1lAt9EA3gJdWUBR2ht8YVZZQPT91HjpUllAg1FJnYBKWUCY3ZOHhT5ZQKjGSzeJMVlAF7fRAN4mWUBZhjjWxR1ZQL3jFB3JFVlAw/UoXI8SWUCfzarP1RJZQCZTBaOSEllAUI2XbhILWUBY/+cwX/ZYQDJVMCqpzVhAJAuYwK2dWEBgWWlSCopYQKXap+Mxm1hAvmplwi+1WEAbDeAtkMpYQLQCQ1a33FhABvUtc7ruWECb5h2n6PpYQNBE2PD0BllAejarPlcXWUCjI7n8hzBZQO5aQj7oVVlAnDOitDd8WUCAt0CC4o9ZQJvmHafolFlAK/aX3ZOXWUCamZmZmZ1ZQAFNhA1Pp1lAEoPAyqGtWUA730+Nl7JZQMuhRbbztVlAAiuHFtm2WUCgGi/dJLJZQFvTvOMUqVlATKYKRiWhWUA=",
          "dtype": "f8"
         },
         "yaxis": "y"
        },
        {
         "hovertemplate": "Reference area=United Kingdom<br>Date=%{x}<br>BCI=%{y}<extra></extra>",
         "legendgroup": "United Kingdom",
         "line": {
          "color": "#B6E880",
          "dash": "solid"
         },
         "marker": {
          "symbol": "circle"
         },
         "mode": "lines",
         "name": "United Kingdom",
         "orientation": "v",
         "showlegend": true,
         "type": "scatter",
         "x": [
          "2018-10-01T00:00:00.000000000",
          "2018-11-01T00:00:00.000000000",
          "2018-12-01T00:00:00.000000000",
          "2019-01-01T00:00:00.000000000",
          "2019-02-01T00:00:00.000000000",
          "2019-03-01T00:00:00.000000000",
          "2019-04-01T00:00:00.000000000",
          "2019-05-01T00:00:00.000000000",
          "2019-06-01T00:00:00.000000000",
          "2019-07-01T00:00:00.000000000",
          "2019-08-01T00:00:00.000000000",
          "2019-09-01T00:00:00.000000000",
          "2019-10-01T00:00:00.000000000",
          "2019-11-01T00:00:00.000000000",
          "2019-12-01T00:00:00.000000000",
          "2020-01-01T00:00:00.000000000",
          "2020-02-01T00:00:00.000000000",
          "2020-03-01T00:00:00.000000000",
          "2020-04-01T00:00:00.000000000",
          "2020-05-01T00:00:00.000000000",
          "2020-06-01T00:00:00.000000000",
          "2020-07-01T00:00:00.000000000",
          "2020-08-01T00:00:00.000000000",
          "2020-09-01T00:00:00.000000000",
          "2020-10-01T00:00:00.000000000",
          "2020-11-01T00:00:00.000000000",
          "2020-12-01T00:00:00.000000000",
          "2021-01-01T00:00:00.000000000",
          "2021-02-01T00:00:00.000000000",
          "2021-03-01T00:00:00.000000000",
          "2021-04-01T00:00:00.000000000",
          "2021-05-01T00:00:00.000000000",
          "2021-06-01T00:00:00.000000000",
          "2021-07-01T00:00:00.000000000",
          "2021-08-01T00:00:00.000000000",
          "2021-09-01T00:00:00.000000000",
          "2021-10-01T00:00:00.000000000",
          "2021-11-01T00:00:00.000000000",
          "2021-12-01T00:00:00.000000000",
          "2022-01-01T00:00:00.000000000",
          "2022-02-01T00:00:00.000000000",
          "2022-03-01T00:00:00.000000000",
          "2022-04-01T00:00:00.000000000"
         ],
         "xaxis": "x",
         "y": {
          "bdata": "a5p3nKKDWUBHcvkP6Y9ZQMsQx7q4lVlAwTkjSnt/WUA/V1uxv1hZQClcj8L1MFlAqFfKMsQJWUCr56T3jeVYQB09fm/Tz1hAZY16iEa3WEA4vvbMkqBYQKRTVz7LgVhAVG8NbJWKWEB4nKIjuaBYQKLuA5DaqlhAOnXlszyvWEAvhnKiXYlYQIXrUbgeG1hADM11GmmbV0CJJHoZxX5XQOjZrPpcv1dAQSswZHUjWECQiCmRRF1YQNBhvrwAlVhAXaeRlsq/WEBAMEeP361YQL3GLlG9n1hALIL/rWSdWECvWpnwS+VYQHWTGARWWllALUMc6+K2WUBUdCSX/wBaQEa28/3ULFpAgSbChqc/WkAhsHJokTlaQJMYBFYOPVpApb3BFyZPWkB9PzVeumFaQKOSOgFNYFpA7Q2+MJlOWkCfzarP1TZaQFdbsb/sHlpA001iEFgFWkA=",
          "dtype": "f8"
         },
         "yaxis": "y"
        },
        {
         "hovertemplate": "Reference area=United States<br>Date=%{x}<br>BCI=%{y}<extra></extra>",
         "legendgroup": "United States",
         "line": {
          "color": "#FF97FF",
          "dash": "solid"
         },
         "marker": {
          "symbol": "circle"
         },
         "mode": "lines",
         "name": "United States",
         "orientation": "v",
         "showlegend": true,
         "type": "scatter",
         "x": [
          "2018-10-01T00:00:00.000000000",
          "2018-11-01T00:00:00.000000000",
          "2018-12-01T00:00:00.000000000",
          "2019-01-01T00:00:00.000000000",
          "2019-02-01T00:00:00.000000000",
          "2019-03-01T00:00:00.000000000",
          "2019-04-01T00:00:00.000000000",
          "2019-05-01T00:00:00.000000000",
          "2019-06-01T00:00:00.000000000",
          "2019-07-01T00:00:00.000000000",
          "2019-08-01T00:00:00.000000000",
          "2019-09-01T00:00:00.000000000",
          "2019-10-01T00:00:00.000000000",
          "2019-11-01T00:00:00.000000000",
          "2019-12-01T00:00:00.000000000",
          "2020-01-01T00:00:00.000000000",
          "2020-02-01T00:00:00.000000000",
          "2020-03-01T00:00:00.000000000",
          "2020-04-01T00:00:00.000000000",
          "2020-05-01T00:00:00.000000000",
          "2020-06-01T00:00:00.000000000",
          "2020-07-01T00:00:00.000000000",
          "2020-08-01T00:00:00.000000000",
          "2020-09-01T00:00:00.000000000",
          "2020-10-01T00:00:00.000000000",
          "2020-11-01T00:00:00.000000000",
          "2020-12-01T00:00:00.000000000",
          "2021-01-01T00:00:00.000000000",
          "2021-02-01T00:00:00.000000000",
          "2021-03-01T00:00:00.000000000",
          "2021-04-01T00:00:00.000000000",
          "2021-05-01T00:00:00.000000000",
          "2021-06-01T00:00:00.000000000",
          "2021-07-01T00:00:00.000000000",
          "2021-08-01T00:00:00.000000000",
          "2021-09-01T00:00:00.000000000",
          "2021-10-01T00:00:00.000000000",
          "2021-11-01T00:00:00.000000000",
          "2021-12-01T00:00:00.000000000",
          "2022-01-01T00:00:00.000000000",
          "2022-02-01T00:00:00.000000000",
          "2022-03-01T00:00:00.000000000",
          "2022-04-01T00:00:00.000000000"
         ],
         "xaxis": "x",
         "y": {
          "bdata": "tRX7y+5NWUAH8BZIUEBZQD81XrpJLFlALbKd76ciWUBcj8L1KBhZQE9AE2HDD1lAi2zn+6kBWUBJgJpatvRYQNejcD0K6VhAjPM3oRDbWEC6FFeVfclYQLnH0ocuvFhAtRX7y+63WEBlqmBUUrlYQFIP0egOwFhA8IXJVMHKWEC9++O9asNYQBObj2tDqVhAzZIANbWMWECa6zTSUptYQLFtUWaD0FhA64uEtpz9WEAB3gIJihtZQDQRNjy9LllAcoqO5PI/WUBDrWnecUpZQACRfvs6WFlA+Q/pt69jWUC7uI0G8HJZQAg9m1Wff1lAxf6ye/J8WUBI4XoUrndZQEku/yH9bllAWDm0yHZmWUBd3EYDeGNZQCDSb18HZllAtaZ5xylmWUDF/rJ78mBZQGq8dJMYVFlAcM6I0t5IWUBos+pztUFZQMGopE5AN1lAAiuHFtkqWUA=",
          "dtype": "f8"
         },
         "yaxis": "y"
        }
       ],
       "layout": {
        "legend": {
         "title": {
          "text": "Countries"
         },
         "tracegroupgap": 0
        },
        "template": {
         "data": {
          "bar": [
           {
            "error_x": {
             "color": "#2a3f5f"
            },
            "error_y": {
             "color": "#2a3f5f"
            },
            "marker": {
             "line": {
              "color": "#E5ECF6",
              "width": 0.5
             },
             "pattern": {
              "fillmode": "overlay",
              "size": 10,
              "solidity": 0.2
             }
            },
            "type": "bar"
           }
          ],
          "barpolar": [
           {
            "marker": {
             "line": {
              "color": "#E5ECF6",
              "width": 0.5
             },
             "pattern": {
              "fillmode": "overlay",
              "size": 10,
              "solidity": 0.2
             }
            },
            "type": "barpolar"
           }
          ],
          "carpet": [
           {
            "aaxis": {
             "endlinecolor": "#2a3f5f",
             "gridcolor": "white",
             "linecolor": "white",
             "minorgridcolor": "white",
             "startlinecolor": "#2a3f5f"
            },
            "baxis": {
             "endlinecolor": "#2a3f5f",
             "gridcolor": "white",
             "linecolor": "white",
             "minorgridcolor": "white",
             "startlinecolor": "#2a3f5f"
            },
            "type": "carpet"
           }
          ],
          "choropleth": [
           {
            "colorbar": {
             "outlinewidth": 0,
             "ticks": ""
            },
            "type": "choropleth"
           }
          ],
          "contour": [
           {
            "colorbar": {
             "outlinewidth": 0,
             "ticks": ""
            },
            "colorscale": [
             [
              0,
              "#0d0887"
             ],
             [
              0.1111111111111111,
              "#46039f"
             ],
             [
              0.2222222222222222,
              "#7201a8"
             ],
             [
              0.3333333333333333,
              "#9c179e"
             ],
             [
              0.4444444444444444,
              "#bd3786"
             ],
             [
              0.5555555555555556,
              "#d8576b"
             ],
             [
              0.6666666666666666,
              "#ed7953"
             ],
             [
              0.7777777777777778,
              "#fb9f3a"
             ],
             [
              0.8888888888888888,
              "#fdca26"
             ],
             [
              1,
              "#f0f921"
             ]
            ],
            "type": "contour"
           }
          ],
          "contourcarpet": [
           {
            "colorbar": {
             "outlinewidth": 0,
             "ticks": ""
            },
            "type": "contourcarpet"
           }
          ],
          "heatmap": [
           {
            "colorbar": {
             "outlinewidth": 0,
             "ticks": ""
            },
            "colorscale": [
             [
              0,
              "#0d0887"
             ],
             [
              0.1111111111111111,
              "#46039f"
             ],
             [
              0.2222222222222222,
              "#7201a8"
             ],
             [
              0.3333333333333333,
              "#9c179e"
             ],
             [
              0.4444444444444444,
              "#bd3786"
             ],
             [
              0.5555555555555556,
              "#d8576b"
             ],
             [
              0.6666666666666666,
              "#ed7953"
             ],
             [
              0.7777777777777778,
              "#fb9f3a"
             ],
             [
              0.8888888888888888,
              "#fdca26"
             ],
             [
              1,
              "#f0f921"
             ]
            ],
            "type": "heatmap"
           }
          ],
          "histogram": [
           {
            "marker": {
             "pattern": {
              "fillmode": "overlay",
              "size": 10,
              "solidity": 0.2
             }
            },
            "type": "histogram"
           }
          ],
          "histogram2d": [
           {
            "colorbar": {
             "outlinewidth": 0,
             "ticks": ""
            },
            "colorscale": [
             [
              0,
              "#0d0887"
             ],
             [
              0.1111111111111111,
              "#46039f"
             ],
             [
              0.2222222222222222,
              "#7201a8"
             ],
             [
              0.3333333333333333,
              "#9c179e"
             ],
             [
              0.4444444444444444,
              "#bd3786"
             ],
             [
              0.5555555555555556,
              "#d8576b"
             ],
             [
              0.6666666666666666,
              "#ed7953"
             ],
             [
              0.7777777777777778,
              "#fb9f3a"
             ],
             [
              0.8888888888888888,
              "#fdca26"
             ],
             [
              1,
              "#f0f921"
             ]
            ],
            "type": "histogram2d"
           }
          ],
          "histogram2dcontour": [
           {
            "colorbar": {
             "outlinewidth": 0,
             "ticks": ""
            },
            "colorscale": [
             [
              0,
              "#0d0887"
             ],
             [
              0.1111111111111111,
              "#46039f"
             ],
             [
              0.2222222222222222,
              "#7201a8"
             ],
             [
              0.3333333333333333,
              "#9c179e"
             ],
             [
              0.4444444444444444,
              "#bd3786"
             ],
             [
              0.5555555555555556,
              "#d8576b"
             ],
             [
              0.6666666666666666,
              "#ed7953"
             ],
             [
              0.7777777777777778,
              "#fb9f3a"
             ],
             [
              0.8888888888888888,
              "#fdca26"
             ],
             [
              1,
              "#f0f921"
             ]
            ],
            "type": "histogram2dcontour"
           }
          ],
          "mesh3d": [
           {
            "colorbar": {
             "outlinewidth": 0,
             "ticks": ""
            },
            "type": "mesh3d"
           }
          ],
          "parcoords": [
           {
            "line": {
             "colorbar": {
              "outlinewidth": 0,
              "ticks": ""
             }
            },
            "type": "parcoords"
           }
          ],
          "pie": [
           {
            "automargin": true,
            "type": "pie"
           }
          ],
          "scatter": [
           {
            "fillpattern": {
             "fillmode": "overlay",
             "size": 10,
             "solidity": 0.2
            },
            "type": "scatter"
           }
          ],
          "scatter3d": [
           {
            "line": {
             "colorbar": {
              "outlinewidth": 0,
              "ticks": ""
             }
            },
            "marker": {
             "colorbar": {
              "outlinewidth": 0,
              "ticks": ""
             }
            },
            "type": "scatter3d"
           }
          ],
          "scattercarpet": [
           {
            "marker": {
             "colorbar": {
              "outlinewidth": 0,
              "ticks": ""
             }
            },
            "type": "scattercarpet"
           }
          ],
          "scattergeo": [
           {
            "marker": {
             "colorbar": {
              "outlinewidth": 0,
              "ticks": ""
             }
            },
            "type": "scattergeo"
           }
          ],
          "scattergl": [
           {
            "marker": {
             "colorbar": {
              "outlinewidth": 0,
              "ticks": ""
             }
            },
            "type": "scattergl"
           }
          ],
          "scattermap": [
           {
            "marker": {
             "colorbar": {
              "outlinewidth": 0,
              "ticks": ""
             }
            },
            "type": "scattermap"
           }
          ],
          "scattermapbox": [
           {
            "marker": {
             "colorbar": {
              "outlinewidth": 0,
              "ticks": ""
             }
            },
            "type": "scattermapbox"
           }
          ],
          "scatterpolar": [
           {
            "marker": {
             "colorbar": {
              "outlinewidth": 0,
              "ticks": ""
             }
            },
            "type": "scatterpolar"
           }
          ],
          "scatterpolargl": [
           {
            "marker": {
             "colorbar": {
              "outlinewidth": 0,
              "ticks": ""
             }
            },
            "type": "scatterpolargl"
           }
          ],
          "scatterternary": [
           {
            "marker": {
             "colorbar": {
              "outlinewidth": 0,
              "ticks": ""
             }
            },
            "type": "scatterternary"
           }
          ],
          "surface": [
           {
            "colorbar": {
             "outlinewidth": 0,
             "ticks": ""
            },
            "colorscale": [
             [
              0,
              "#0d0887"
             ],
             [
              0.1111111111111111,
              "#46039f"
             ],
             [
              0.2222222222222222,
              "#7201a8"
             ],
             [
              0.3333333333333333,
              "#9c179e"
             ],
             [
              0.4444444444444444,
              "#bd3786"
             ],
             [
              0.5555555555555556,
              "#d8576b"
             ],
             [
              0.6666666666666666,
              "#ed7953"
             ],
             [
              0.7777777777777778,
              "#fb9f3a"
             ],
             [
              0.8888888888888888,
              "#fdca26"
             ],
             [
              1,
              "#f0f921"
             ]
            ],
            "type": "surface"
           }
          ],
          "table": [
           {
            "cells": {
             "fill": {
              "color": "#EBF0F8"
             },
             "line": {
              "color": "white"
             }
            },
            "header": {
             "fill": {
              "color": "#C8D4E3"
             },
             "line": {
              "color": "white"
             }
            },
            "type": "table"
           }
          ]
         },
         "layout": {
          "annotationdefaults": {
           "arrowcolor": "#2a3f5f",
           "arrowhead": 0,
           "arrowwidth": 1
          },
          "autotypenumbers": "strict",
          "coloraxis": {
           "colorbar": {
            "outlinewidth": 0,
            "ticks": ""
           }
          },
          "colorscale": {
           "diverging": [
            [
             0,
             "#8e0152"
            ],
            [
             0.1,
             "#c51b7d"
            ],
            [
             0.2,
             "#de77ae"
            ],
            [
             0.3,
             "#f1b6da"
            ],
            [
             0.4,
             "#fde0ef"
            ],
            [
             0.5,
             "#f7f7f7"
            ],
            [
             0.6,
             "#e6f5d0"
            ],
            [
             0.7,
             "#b8e186"
            ],
            [
             0.8,
             "#7fbc41"
            ],
            [
             0.9,
             "#4d9221"
            ],
            [
             1,
             "#276419"
            ]
           ],
           "sequential": [
            [
             0,
             "#0d0887"
            ],
            [
             0.1111111111111111,
             "#46039f"
            ],
            [
             0.2222222222222222,
             "#7201a8"
            ],
            [
             0.3333333333333333,
             "#9c179e"
            ],
            [
             0.4444444444444444,
             "#bd3786"
            ],
            [
             0.5555555555555556,
             "#d8576b"
            ],
            [
             0.6666666666666666,
             "#ed7953"
            ],
            [
             0.7777777777777778,
             "#fb9f3a"
            ],
            [
             0.8888888888888888,
             "#fdca26"
            ],
            [
             1,
             "#f0f921"
            ]
           ],
           "sequentialminus": [
            [
             0,
             "#0d0887"
            ],
            [
             0.1111111111111111,
             "#46039f"
            ],
            [
             0.2222222222222222,
             "#7201a8"
            ],
            [
             0.3333333333333333,
             "#9c179e"
            ],
            [
             0.4444444444444444,
             "#bd3786"
            ],
            [
             0.5555555555555556,
             "#d8576b"
            ],
            [
             0.6666666666666666,
             "#ed7953"
            ],
            [
             0.7777777777777778,
             "#fb9f3a"
            ],
            [
             0.8888888888888888,
             "#fdca26"
            ],
            [
             1,
             "#f0f921"
            ]
           ]
          },
          "colorway": [
           "#636efa",
           "#EF553B",
           "#00cc96",
           "#ab63fa",
           "#FFA15A",
           "#19d3f3",
           "#FF6692",
           "#B6E880",
           "#FF97FF",
           "#FECB52"
          ],
          "font": {
           "color": "#2a3f5f"
          },
          "geo": {
           "bgcolor": "white",
           "lakecolor": "white",
           "landcolor": "#E5ECF6",
           "showlakes": true,
           "showland": true,
           "subunitcolor": "white"
          },
          "hoverlabel": {
           "align": "left"
          },
          "hovermode": "closest",
          "mapbox": {
           "style": "light"
          },
          "paper_bgcolor": "white",
          "plot_bgcolor": "#E5ECF6",
          "polar": {
           "angularaxis": {
            "gridcolor": "white",
            "linecolor": "white",
            "ticks": ""
           },
           "bgcolor": "#E5ECF6",
           "radialaxis": {
            "gridcolor": "white",
            "linecolor": "white",
            "ticks": ""
           }
          },
          "scene": {
           "xaxis": {
            "backgroundcolor": "#E5ECF6",
            "gridcolor": "white",
            "gridwidth": 2,
            "linecolor": "white",
            "showbackground": true,
            "ticks": "",
            "zerolinecolor": "white"
           },
           "yaxis": {
            "backgroundcolor": "#E5ECF6",
            "gridcolor": "white",
            "gridwidth": 2,
            "linecolor": "white",
            "showbackground": true,
            "ticks": "",
            "zerolinecolor": "white"
           },
           "zaxis": {
            "backgroundcolor": "#E5ECF6",
            "gridcolor": "white",
            "gridwidth": 2,
            "linecolor": "white",
            "showbackground": true,
            "ticks": "",
            "zerolinecolor": "white"
           }
          },
          "shapedefaults": {
           "line": {
            "color": "#2a3f5f"
           }
          },
          "ternary": {
           "aaxis": {
            "gridcolor": "white",
            "linecolor": "white",
            "ticks": ""
           },
           "baxis": {
            "gridcolor": "white",
            "linecolor": "white",
            "ticks": ""
           },
           "bgcolor": "#E5ECF6",
           "caxis": {
            "gridcolor": "white",
            "linecolor": "white",
            "ticks": ""
           }
          },
          "title": {
           "x": 0.05
          },
          "xaxis": {
           "automargin": true,
           "gridcolor": "white",
           "linecolor": "white",
           "ticks": "",
           "title": {
            "standoff": 15
           },
           "zerolinecolor": "white",
           "zerolinewidth": 2
          },
          "yaxis": {
           "automargin": true,
           "gridcolor": "white",
           "linecolor": "white",
           "ticks": "",
           "title": {
            "standoff": 15
           },
           "zerolinecolor": "white",
           "zerolinewidth": 2
          }
         }
        },
        "title": {
         "text": "Business Confidence Index Across Countries"
        },
        "xaxis": {
         "anchor": "y",
         "domain": [
          0,
          1
         ],
         "title": {
          "text": "Date"
         }
        },
        "yaxis": {
         "anchor": "x",
         "domain": [
          0,
          1
         ],
         "title": {
          "text": "BCI"
         }
        }
       }
      }
     },
     "metadata": {},
     "output_type": "display_data"
    }
   ],
   "source": [
    "fig = px.line(bc2, x=bc2.index, y=bc2.columns, title=\"Business Confidence Index Across Countries\",\n",
    "              labels={\"value\": \"BCI\", \"TIME_PERIOD\": \"Date\"})\n",
    "fig.update_layout(xaxis_title=\"Date\", yaxis_title=\"BCI\", \n",
    "                  legend_title=\"Countries\")\n",
    "fig.show()"
   ]
  },
  {
   "cell_type": "markdown",
   "id": "0e8d3cfb",
   "metadata": {},
   "source": [
    "Unlike the Consumer Confidence Index, China showed lower business confidence compared to other countries. Between November 2019 and February 2020, China's Business Confidence Index (BCI) dropped more sharply than in other nations. Throughout the period analysed, China’s BCI stayed below 100, except in November 2020.  \n",
    "\n",
    "In contrast, most other countries saw a decline in business confidence between January and May 2020. After that, confidence started to recover, with many countries eventually surpassing the 100 mark, showing optimism about the economy. By April 2021, the United Kingdom had the highest BCI, followed by Germany, indicating strong business confidence in these countries."
   ]
  },
  {
   "cell_type": "code",
   "execution_count": 28,
   "id": "f42d09af",
   "metadata": {
    "ExecuteTime": {
     "end_time": "2025-03-21T18:12:01.653477Z",
     "start_time": "2025-03-21T18:12:01.648970Z"
    }
   },
   "outputs": [],
   "source": [
    "#bc2.to_csv('./extra data/clean_business_confidence.csv')"
   ]
  },
  {
   "cell_type": "markdown",
   "id": "76ee3b68",
   "metadata": {},
   "source": [
    "# 4. Covid-19 Strintegy Index"
   ]
  },
  {
   "cell_type": "markdown",
   "id": "7b1f5d3e",
   "metadata": {},
   "source": [
    "The nine metrics used to calculate the Stringency Index are: \n",
    "- school closures; \n",
    "- workplace closures; \n",
    "- cancellation of public events; \n",
    "- restrictions on public gatherings; \n",
    "- closures of public transport; \n",
    "- stay-at-home requirements; public information campaigns; \n",
    "- restrictions on internal movements; and international travel controls.\n",
    "\n",
    "The index on any given day is calculated as the mean score of the nine metrics, each taking a value between 0 and 100.\n",
    "\n",
    "The data can be found at:\n",
    "\n",
    "Our World in Data. (n.d.). OWID COVID-19 data [Dataset]. GitHub. Retrieved March 18, 2025, from https://github.com/owid/covid-19-data/blob/master/public/data/owid-covid-data.csv"
   ]
  },
  {
   "cell_type": "code",
   "execution_count": 29,
   "id": "1aafb847",
   "metadata": {},
   "outputs": [
    {
     "data": {
      "text/html": [
       "<div>\n",
       "<style scoped>\n",
       "    .dataframe tbody tr th:only-of-type {\n",
       "        vertical-align: middle;\n",
       "    }\n",
       "\n",
       "    .dataframe tbody tr th {\n",
       "        vertical-align: top;\n",
       "    }\n",
       "\n",
       "    .dataframe thead th {\n",
       "        text-align: right;\n",
       "    }\n",
       "</style>\n",
       "<table border=\"1\" class=\"dataframe\">\n",
       "  <thead>\n",
       "    <tr style=\"text-align: right;\">\n",
       "      <th></th>\n",
       "      <th>iso_code</th>\n",
       "      <th>continent</th>\n",
       "      <th>location</th>\n",
       "      <th>date</th>\n",
       "      <th>total_cases</th>\n",
       "      <th>new_cases</th>\n",
       "      <th>new_cases_smoothed</th>\n",
       "      <th>total_deaths</th>\n",
       "      <th>new_deaths</th>\n",
       "      <th>new_deaths_smoothed</th>\n",
       "      <th>total_cases_per_million</th>\n",
       "      <th>new_cases_per_million</th>\n",
       "      <th>new_cases_smoothed_per_million</th>\n",
       "      <th>total_deaths_per_million</th>\n",
       "      <th>new_deaths_per_million</th>\n",
       "      <th>new_deaths_smoothed_per_million</th>\n",
       "      <th>reproduction_rate</th>\n",
       "      <th>icu_patients</th>\n",
       "      <th>icu_patients_per_million</th>\n",
       "      <th>hosp_patients</th>\n",
       "      <th>hosp_patients_per_million</th>\n",
       "      <th>weekly_icu_admissions</th>\n",
       "      <th>weekly_icu_admissions_per_million</th>\n",
       "      <th>weekly_hosp_admissions</th>\n",
       "      <th>weekly_hosp_admissions_per_million</th>\n",
       "      <th>total_tests</th>\n",
       "      <th>new_tests</th>\n",
       "      <th>total_tests_per_thousand</th>\n",
       "      <th>new_tests_per_thousand</th>\n",
       "      <th>new_tests_smoothed</th>\n",
       "      <th>new_tests_smoothed_per_thousand</th>\n",
       "      <th>positive_rate</th>\n",
       "      <th>tests_per_case</th>\n",
       "      <th>tests_units</th>\n",
       "      <th>total_vaccinations</th>\n",
       "      <th>people_vaccinated</th>\n",
       "      <th>people_fully_vaccinated</th>\n",
       "      <th>total_boosters</th>\n",
       "      <th>new_vaccinations</th>\n",
       "      <th>new_vaccinations_smoothed</th>\n",
       "      <th>total_vaccinations_per_hundred</th>\n",
       "      <th>people_vaccinated_per_hundred</th>\n",
       "      <th>people_fully_vaccinated_per_hundred</th>\n",
       "      <th>total_boosters_per_hundred</th>\n",
       "      <th>new_vaccinations_smoothed_per_million</th>\n",
       "      <th>new_people_vaccinated_smoothed</th>\n",
       "      <th>new_people_vaccinated_smoothed_per_hundred</th>\n",
       "      <th>stringency_index</th>\n",
       "      <th>population_density</th>\n",
       "      <th>median_age</th>\n",
       "      <th>aged_65_older</th>\n",
       "      <th>aged_70_older</th>\n",
       "      <th>gdp_per_capita</th>\n",
       "      <th>extreme_poverty</th>\n",
       "      <th>cardiovasc_death_rate</th>\n",
       "      <th>diabetes_prevalence</th>\n",
       "      <th>female_smokers</th>\n",
       "      <th>male_smokers</th>\n",
       "      <th>handwashing_facilities</th>\n",
       "      <th>hospital_beds_per_thousand</th>\n",
       "      <th>life_expectancy</th>\n",
       "      <th>human_development_index</th>\n",
       "      <th>population</th>\n",
       "      <th>excess_mortality_cumulative_absolute</th>\n",
       "      <th>excess_mortality_cumulative</th>\n",
       "      <th>excess_mortality</th>\n",
       "      <th>excess_mortality_cumulative_per_million</th>\n",
       "    </tr>\n",
       "  </thead>\n",
       "  <tbody>\n",
       "    <tr>\n",
       "      <th>0</th>\n",
       "      <td>AFG</td>\n",
       "      <td>Asia</td>\n",
       "      <td>Afghanistan</td>\n",
       "      <td>2020-01-05</td>\n",
       "      <td>0.0</td>\n",
       "      <td>0.0</td>\n",
       "      <td>NaN</td>\n",
       "      <td>0.0</td>\n",
       "      <td>0.0</td>\n",
       "      <td>NaN</td>\n",
       "      <td>0.0</td>\n",
       "      <td>0.0</td>\n",
       "      <td>NaN</td>\n",
       "      <td>0.0</td>\n",
       "      <td>0.0</td>\n",
       "      <td>NaN</td>\n",
       "      <td>NaN</td>\n",
       "      <td>NaN</td>\n",
       "      <td>NaN</td>\n",
       "      <td>NaN</td>\n",
       "      <td>NaN</td>\n",
       "      <td>NaN</td>\n",
       "      <td>NaN</td>\n",
       "      <td>NaN</td>\n",
       "      <td>NaN</td>\n",
       "      <td>NaN</td>\n",
       "      <td>NaN</td>\n",
       "      <td>NaN</td>\n",
       "      <td>NaN</td>\n",
       "      <td>NaN</td>\n",
       "      <td>NaN</td>\n",
       "      <td>NaN</td>\n",
       "      <td>NaN</td>\n",
       "      <td>NaN</td>\n",
       "      <td>NaN</td>\n",
       "      <td>NaN</td>\n",
       "      <td>NaN</td>\n",
       "      <td>NaN</td>\n",
       "      <td>NaN</td>\n",
       "      <td>NaN</td>\n",
       "      <td>NaN</td>\n",
       "      <td>NaN</td>\n",
       "      <td>NaN</td>\n",
       "      <td>NaN</td>\n",
       "      <td>NaN</td>\n",
       "      <td>NaN</td>\n",
       "      <td>NaN</td>\n",
       "      <td>0.0</td>\n",
       "      <td>54.42</td>\n",
       "      <td>18.6</td>\n",
       "      <td>2.58</td>\n",
       "      <td>1.34</td>\n",
       "      <td>1803.99</td>\n",
       "      <td>NaN</td>\n",
       "      <td>597.03</td>\n",
       "      <td>9.59</td>\n",
       "      <td>NaN</td>\n",
       "      <td>NaN</td>\n",
       "      <td>37.75</td>\n",
       "      <td>0.5</td>\n",
       "      <td>64.83</td>\n",
       "      <td>0.51</td>\n",
       "      <td>41128772</td>\n",
       "      <td>NaN</td>\n",
       "      <td>NaN</td>\n",
       "      <td>NaN</td>\n",
       "      <td>NaN</td>\n",
       "    </tr>\n",
       "    <tr>\n",
       "      <th>1</th>\n",
       "      <td>AFG</td>\n",
       "      <td>Asia</td>\n",
       "      <td>Afghanistan</td>\n",
       "      <td>2020-01-06</td>\n",
       "      <td>0.0</td>\n",
       "      <td>0.0</td>\n",
       "      <td>NaN</td>\n",
       "      <td>0.0</td>\n",
       "      <td>0.0</td>\n",
       "      <td>NaN</td>\n",
       "      <td>0.0</td>\n",
       "      <td>0.0</td>\n",
       "      <td>NaN</td>\n",
       "      <td>0.0</td>\n",
       "      <td>0.0</td>\n",
       "      <td>NaN</td>\n",
       "      <td>NaN</td>\n",
       "      <td>NaN</td>\n",
       "      <td>NaN</td>\n",
       "      <td>NaN</td>\n",
       "      <td>NaN</td>\n",
       "      <td>NaN</td>\n",
       "      <td>NaN</td>\n",
       "      <td>NaN</td>\n",
       "      <td>NaN</td>\n",
       "      <td>NaN</td>\n",
       "      <td>NaN</td>\n",
       "      <td>NaN</td>\n",
       "      <td>NaN</td>\n",
       "      <td>NaN</td>\n",
       "      <td>NaN</td>\n",
       "      <td>NaN</td>\n",
       "      <td>NaN</td>\n",
       "      <td>NaN</td>\n",
       "      <td>NaN</td>\n",
       "      <td>NaN</td>\n",
       "      <td>NaN</td>\n",
       "      <td>NaN</td>\n",
       "      <td>NaN</td>\n",
       "      <td>NaN</td>\n",
       "      <td>NaN</td>\n",
       "      <td>NaN</td>\n",
       "      <td>NaN</td>\n",
       "      <td>NaN</td>\n",
       "      <td>NaN</td>\n",
       "      <td>NaN</td>\n",
       "      <td>NaN</td>\n",
       "      <td>0.0</td>\n",
       "      <td>54.42</td>\n",
       "      <td>18.6</td>\n",
       "      <td>2.58</td>\n",
       "      <td>1.34</td>\n",
       "      <td>1803.99</td>\n",
       "      <td>NaN</td>\n",
       "      <td>597.03</td>\n",
       "      <td>9.59</td>\n",
       "      <td>NaN</td>\n",
       "      <td>NaN</td>\n",
       "      <td>37.75</td>\n",
       "      <td>0.5</td>\n",
       "      <td>64.83</td>\n",
       "      <td>0.51</td>\n",
       "      <td>41128772</td>\n",
       "      <td>NaN</td>\n",
       "      <td>NaN</td>\n",
       "      <td>NaN</td>\n",
       "      <td>NaN</td>\n",
       "    </tr>\n",
       "    <tr>\n",
       "      <th>2</th>\n",
       "      <td>AFG</td>\n",
       "      <td>Asia</td>\n",
       "      <td>Afghanistan</td>\n",
       "      <td>2020-01-07</td>\n",
       "      <td>0.0</td>\n",
       "      <td>0.0</td>\n",
       "      <td>NaN</td>\n",
       "      <td>0.0</td>\n",
       "      <td>0.0</td>\n",
       "      <td>NaN</td>\n",
       "      <td>0.0</td>\n",
       "      <td>0.0</td>\n",
       "      <td>NaN</td>\n",
       "      <td>0.0</td>\n",
       "      <td>0.0</td>\n",
       "      <td>NaN</td>\n",
       "      <td>NaN</td>\n",
       "      <td>NaN</td>\n",
       "      <td>NaN</td>\n",
       "      <td>NaN</td>\n",
       "      <td>NaN</td>\n",
       "      <td>NaN</td>\n",
       "      <td>NaN</td>\n",
       "      <td>NaN</td>\n",
       "      <td>NaN</td>\n",
       "      <td>NaN</td>\n",
       "      <td>NaN</td>\n",
       "      <td>NaN</td>\n",
       "      <td>NaN</td>\n",
       "      <td>NaN</td>\n",
       "      <td>NaN</td>\n",
       "      <td>NaN</td>\n",
       "      <td>NaN</td>\n",
       "      <td>NaN</td>\n",
       "      <td>NaN</td>\n",
       "      <td>NaN</td>\n",
       "      <td>NaN</td>\n",
       "      <td>NaN</td>\n",
       "      <td>NaN</td>\n",
       "      <td>NaN</td>\n",
       "      <td>NaN</td>\n",
       "      <td>NaN</td>\n",
       "      <td>NaN</td>\n",
       "      <td>NaN</td>\n",
       "      <td>NaN</td>\n",
       "      <td>NaN</td>\n",
       "      <td>NaN</td>\n",
       "      <td>0.0</td>\n",
       "      <td>54.42</td>\n",
       "      <td>18.6</td>\n",
       "      <td>2.58</td>\n",
       "      <td>1.34</td>\n",
       "      <td>1803.99</td>\n",
       "      <td>NaN</td>\n",
       "      <td>597.03</td>\n",
       "      <td>9.59</td>\n",
       "      <td>NaN</td>\n",
       "      <td>NaN</td>\n",
       "      <td>37.75</td>\n",
       "      <td>0.5</td>\n",
       "      <td>64.83</td>\n",
       "      <td>0.51</td>\n",
       "      <td>41128772</td>\n",
       "      <td>NaN</td>\n",
       "      <td>NaN</td>\n",
       "      <td>NaN</td>\n",
       "      <td>NaN</td>\n",
       "    </tr>\n",
       "    <tr>\n",
       "      <th>3</th>\n",
       "      <td>AFG</td>\n",
       "      <td>Asia</td>\n",
       "      <td>Afghanistan</td>\n",
       "      <td>2020-01-08</td>\n",
       "      <td>0.0</td>\n",
       "      <td>0.0</td>\n",
       "      <td>NaN</td>\n",
       "      <td>0.0</td>\n",
       "      <td>0.0</td>\n",
       "      <td>NaN</td>\n",
       "      <td>0.0</td>\n",
       "      <td>0.0</td>\n",
       "      <td>NaN</td>\n",
       "      <td>0.0</td>\n",
       "      <td>0.0</td>\n",
       "      <td>NaN</td>\n",
       "      <td>NaN</td>\n",
       "      <td>NaN</td>\n",
       "      <td>NaN</td>\n",
       "      <td>NaN</td>\n",
       "      <td>NaN</td>\n",
       "      <td>NaN</td>\n",
       "      <td>NaN</td>\n",
       "      <td>NaN</td>\n",
       "      <td>NaN</td>\n",
       "      <td>NaN</td>\n",
       "      <td>NaN</td>\n",
       "      <td>NaN</td>\n",
       "      <td>NaN</td>\n",
       "      <td>NaN</td>\n",
       "      <td>NaN</td>\n",
       "      <td>NaN</td>\n",
       "      <td>NaN</td>\n",
       "      <td>NaN</td>\n",
       "      <td>NaN</td>\n",
       "      <td>NaN</td>\n",
       "      <td>NaN</td>\n",
       "      <td>NaN</td>\n",
       "      <td>NaN</td>\n",
       "      <td>NaN</td>\n",
       "      <td>NaN</td>\n",
       "      <td>NaN</td>\n",
       "      <td>NaN</td>\n",
       "      <td>NaN</td>\n",
       "      <td>NaN</td>\n",
       "      <td>NaN</td>\n",
       "      <td>NaN</td>\n",
       "      <td>0.0</td>\n",
       "      <td>54.42</td>\n",
       "      <td>18.6</td>\n",
       "      <td>2.58</td>\n",
       "      <td>1.34</td>\n",
       "      <td>1803.99</td>\n",
       "      <td>NaN</td>\n",
       "      <td>597.03</td>\n",
       "      <td>9.59</td>\n",
       "      <td>NaN</td>\n",
       "      <td>NaN</td>\n",
       "      <td>37.75</td>\n",
       "      <td>0.5</td>\n",
       "      <td>64.83</td>\n",
       "      <td>0.51</td>\n",
       "      <td>41128772</td>\n",
       "      <td>NaN</td>\n",
       "      <td>NaN</td>\n",
       "      <td>NaN</td>\n",
       "      <td>NaN</td>\n",
       "    </tr>\n",
       "    <tr>\n",
       "      <th>4</th>\n",
       "      <td>AFG</td>\n",
       "      <td>Asia</td>\n",
       "      <td>Afghanistan</td>\n",
       "      <td>2020-01-09</td>\n",
       "      <td>0.0</td>\n",
       "      <td>0.0</td>\n",
       "      <td>NaN</td>\n",
       "      <td>0.0</td>\n",
       "      <td>0.0</td>\n",
       "      <td>NaN</td>\n",
       "      <td>0.0</td>\n",
       "      <td>0.0</td>\n",
       "      <td>NaN</td>\n",
       "      <td>0.0</td>\n",
       "      <td>0.0</td>\n",
       "      <td>NaN</td>\n",
       "      <td>NaN</td>\n",
       "      <td>NaN</td>\n",
       "      <td>NaN</td>\n",
       "      <td>NaN</td>\n",
       "      <td>NaN</td>\n",
       "      <td>NaN</td>\n",
       "      <td>NaN</td>\n",
       "      <td>NaN</td>\n",
       "      <td>NaN</td>\n",
       "      <td>NaN</td>\n",
       "      <td>NaN</td>\n",
       "      <td>NaN</td>\n",
       "      <td>NaN</td>\n",
       "      <td>NaN</td>\n",
       "      <td>NaN</td>\n",
       "      <td>NaN</td>\n",
       "      <td>NaN</td>\n",
       "      <td>NaN</td>\n",
       "      <td>NaN</td>\n",
       "      <td>NaN</td>\n",
       "      <td>NaN</td>\n",
       "      <td>NaN</td>\n",
       "      <td>NaN</td>\n",
       "      <td>NaN</td>\n",
       "      <td>NaN</td>\n",
       "      <td>NaN</td>\n",
       "      <td>NaN</td>\n",
       "      <td>NaN</td>\n",
       "      <td>NaN</td>\n",
       "      <td>NaN</td>\n",
       "      <td>NaN</td>\n",
       "      <td>0.0</td>\n",
       "      <td>54.42</td>\n",
       "      <td>18.6</td>\n",
       "      <td>2.58</td>\n",
       "      <td>1.34</td>\n",
       "      <td>1803.99</td>\n",
       "      <td>NaN</td>\n",
       "      <td>597.03</td>\n",
       "      <td>9.59</td>\n",
       "      <td>NaN</td>\n",
       "      <td>NaN</td>\n",
       "      <td>37.75</td>\n",
       "      <td>0.5</td>\n",
       "      <td>64.83</td>\n",
       "      <td>0.51</td>\n",
       "      <td>41128772</td>\n",
       "      <td>NaN</td>\n",
       "      <td>NaN</td>\n",
       "      <td>NaN</td>\n",
       "      <td>NaN</td>\n",
       "    </tr>\n",
       "  </tbody>\n",
       "</table>\n",
       "</div>"
      ],
      "text/plain": [
       "  iso_code continent     location        date  total_cases  new_cases  \\\n",
       "0      AFG      Asia  Afghanistan  2020-01-05          0.0        0.0   \n",
       "1      AFG      Asia  Afghanistan  2020-01-06          0.0        0.0   \n",
       "2      AFG      Asia  Afghanistan  2020-01-07          0.0        0.0   \n",
       "3      AFG      Asia  Afghanistan  2020-01-08          0.0        0.0   \n",
       "4      AFG      Asia  Afghanistan  2020-01-09          0.0        0.0   \n",
       "\n",
       "   new_cases_smoothed  total_deaths  new_deaths  new_deaths_smoothed  \\\n",
       "0                 NaN           0.0         0.0                  NaN   \n",
       "1                 NaN           0.0         0.0                  NaN   \n",
       "2                 NaN           0.0         0.0                  NaN   \n",
       "3                 NaN           0.0         0.0                  NaN   \n",
       "4                 NaN           0.0         0.0                  NaN   \n",
       "\n",
       "   total_cases_per_million  new_cases_per_million  \\\n",
       "0                      0.0                    0.0   \n",
       "1                      0.0                    0.0   \n",
       "2                      0.0                    0.0   \n",
       "3                      0.0                    0.0   \n",
       "4                      0.0                    0.0   \n",
       "\n",
       "   new_cases_smoothed_per_million  total_deaths_per_million  \\\n",
       "0                             NaN                       0.0   \n",
       "1                             NaN                       0.0   \n",
       "2                             NaN                       0.0   \n",
       "3                             NaN                       0.0   \n",
       "4                             NaN                       0.0   \n",
       "\n",
       "   new_deaths_per_million  new_deaths_smoothed_per_million  reproduction_rate  \\\n",
       "0                     0.0                              NaN                NaN   \n",
       "1                     0.0                              NaN                NaN   \n",
       "2                     0.0                              NaN                NaN   \n",
       "3                     0.0                              NaN                NaN   \n",
       "4                     0.0                              NaN                NaN   \n",
       "\n",
       "   icu_patients  icu_patients_per_million  hosp_patients  \\\n",
       "0           NaN                       NaN            NaN   \n",
       "1           NaN                       NaN            NaN   \n",
       "2           NaN                       NaN            NaN   \n",
       "3           NaN                       NaN            NaN   \n",
       "4           NaN                       NaN            NaN   \n",
       "\n",
       "   hosp_patients_per_million  weekly_icu_admissions  \\\n",
       "0                        NaN                    NaN   \n",
       "1                        NaN                    NaN   \n",
       "2                        NaN                    NaN   \n",
       "3                        NaN                    NaN   \n",
       "4                        NaN                    NaN   \n",
       "\n",
       "   weekly_icu_admissions_per_million  weekly_hosp_admissions  \\\n",
       "0                                NaN                     NaN   \n",
       "1                                NaN                     NaN   \n",
       "2                                NaN                     NaN   \n",
       "3                                NaN                     NaN   \n",
       "4                                NaN                     NaN   \n",
       "\n",
       "   weekly_hosp_admissions_per_million  total_tests  new_tests  \\\n",
       "0                                 NaN          NaN        NaN   \n",
       "1                                 NaN          NaN        NaN   \n",
       "2                                 NaN          NaN        NaN   \n",
       "3                                 NaN          NaN        NaN   \n",
       "4                                 NaN          NaN        NaN   \n",
       "\n",
       "   total_tests_per_thousand  new_tests_per_thousand  new_tests_smoothed  \\\n",
       "0                       NaN                     NaN                 NaN   \n",
       "1                       NaN                     NaN                 NaN   \n",
       "2                       NaN                     NaN                 NaN   \n",
       "3                       NaN                     NaN                 NaN   \n",
       "4                       NaN                     NaN                 NaN   \n",
       "\n",
       "   new_tests_smoothed_per_thousand  positive_rate  tests_per_case tests_units  \\\n",
       "0                              NaN            NaN             NaN         NaN   \n",
       "1                              NaN            NaN             NaN         NaN   \n",
       "2                              NaN            NaN             NaN         NaN   \n",
       "3                              NaN            NaN             NaN         NaN   \n",
       "4                              NaN            NaN             NaN         NaN   \n",
       "\n",
       "   total_vaccinations  people_vaccinated  people_fully_vaccinated  \\\n",
       "0                 NaN                NaN                      NaN   \n",
       "1                 NaN                NaN                      NaN   \n",
       "2                 NaN                NaN                      NaN   \n",
       "3                 NaN                NaN                      NaN   \n",
       "4                 NaN                NaN                      NaN   \n",
       "\n",
       "   total_boosters  new_vaccinations  new_vaccinations_smoothed  \\\n",
       "0             NaN               NaN                        NaN   \n",
       "1             NaN               NaN                        NaN   \n",
       "2             NaN               NaN                        NaN   \n",
       "3             NaN               NaN                        NaN   \n",
       "4             NaN               NaN                        NaN   \n",
       "\n",
       "   total_vaccinations_per_hundred  people_vaccinated_per_hundred  \\\n",
       "0                             NaN                            NaN   \n",
       "1                             NaN                            NaN   \n",
       "2                             NaN                            NaN   \n",
       "3                             NaN                            NaN   \n",
       "4                             NaN                            NaN   \n",
       "\n",
       "   people_fully_vaccinated_per_hundred  total_boosters_per_hundred  \\\n",
       "0                                  NaN                         NaN   \n",
       "1                                  NaN                         NaN   \n",
       "2                                  NaN                         NaN   \n",
       "3                                  NaN                         NaN   \n",
       "4                                  NaN                         NaN   \n",
       "\n",
       "   new_vaccinations_smoothed_per_million  new_people_vaccinated_smoothed  \\\n",
       "0                                    NaN                             NaN   \n",
       "1                                    NaN                             NaN   \n",
       "2                                    NaN                             NaN   \n",
       "3                                    NaN                             NaN   \n",
       "4                                    NaN                             NaN   \n",
       "\n",
       "   new_people_vaccinated_smoothed_per_hundred  stringency_index  \\\n",
       "0                                         NaN               0.0   \n",
       "1                                         NaN               0.0   \n",
       "2                                         NaN               0.0   \n",
       "3                                         NaN               0.0   \n",
       "4                                         NaN               0.0   \n",
       "\n",
       "   population_density  median_age  aged_65_older  aged_70_older  \\\n",
       "0               54.42        18.6           2.58           1.34   \n",
       "1               54.42        18.6           2.58           1.34   \n",
       "2               54.42        18.6           2.58           1.34   \n",
       "3               54.42        18.6           2.58           1.34   \n",
       "4               54.42        18.6           2.58           1.34   \n",
       "\n",
       "   gdp_per_capita  extreme_poverty  cardiovasc_death_rate  \\\n",
       "0         1803.99              NaN                 597.03   \n",
       "1         1803.99              NaN                 597.03   \n",
       "2         1803.99              NaN                 597.03   \n",
       "3         1803.99              NaN                 597.03   \n",
       "4         1803.99              NaN                 597.03   \n",
       "\n",
       "   diabetes_prevalence  female_smokers  male_smokers  handwashing_facilities  \\\n",
       "0                 9.59             NaN           NaN                   37.75   \n",
       "1                 9.59             NaN           NaN                   37.75   \n",
       "2                 9.59             NaN           NaN                   37.75   \n",
       "3                 9.59             NaN           NaN                   37.75   \n",
       "4                 9.59             NaN           NaN                   37.75   \n",
       "\n",
       "   hospital_beds_per_thousand  life_expectancy  human_development_index  \\\n",
       "0                         0.5            64.83                     0.51   \n",
       "1                         0.5            64.83                     0.51   \n",
       "2                         0.5            64.83                     0.51   \n",
       "3                         0.5            64.83                     0.51   \n",
       "4                         0.5            64.83                     0.51   \n",
       "\n",
       "   population  excess_mortality_cumulative_absolute  \\\n",
       "0    41128772                                   NaN   \n",
       "1    41128772                                   NaN   \n",
       "2    41128772                                   NaN   \n",
       "3    41128772                                   NaN   \n",
       "4    41128772                                   NaN   \n",
       "\n",
       "   excess_mortality_cumulative  excess_mortality  \\\n",
       "0                          NaN               NaN   \n",
       "1                          NaN               NaN   \n",
       "2                          NaN               NaN   \n",
       "3                          NaN               NaN   \n",
       "4                          NaN               NaN   \n",
       "\n",
       "   excess_mortality_cumulative_per_million  \n",
       "0                                      NaN  \n",
       "1                                      NaN  \n",
       "2                                      NaN  \n",
       "3                                      NaN  \n",
       "4                                      NaN  "
      ]
     },
     "execution_count": 29,
     "metadata": {},
     "output_type": "execute_result"
    }
   ],
   "source": [
    "covid = pd.read_csv('extra data/owid-covid-data.csv')\n",
    "covid.head()"
   ]
  },
  {
   "cell_type": "code",
   "execution_count": 30,
   "id": "d15e0a1d",
   "metadata": {},
   "outputs": [],
   "source": [
    "covid = covid.loc[:, ['date', 'location', 'stringency_index']]\n",
    "covid = covid[covid['location'].isin(['Germany', 'Italy', 'France', 'China', 'Switzerland', 'United Kingdom', 'United States'])]\n",
    "covid = covid[pd.to_datetime(covid['date']) <= '2022-04-30']\n"
   ]
  },
  {
   "cell_type": "code",
   "execution_count": 31,
   "id": "4b9a1ef1",
   "metadata": {},
   "outputs": [],
   "source": [
    "covid['date'] = pd.to_datetime(covid['date'])\n",
    "covid_grouped = covid.groupby([covid['date'].dt.to_period('M'), 'location'])['stringency_index'].mean().round(2)\n",
    "covid_grouped = covid_grouped.reset_index()"
   ]
  },
  {
   "cell_type": "code",
   "execution_count": 32,
   "id": "4f5e655b",
   "metadata": {},
   "outputs": [
    {
     "data": {
      "text/html": [
       "<div>\n",
       "<style scoped>\n",
       "    .dataframe tbody tr th:only-of-type {\n",
       "        vertical-align: middle;\n",
       "    }\n",
       "\n",
       "    .dataframe tbody tr th {\n",
       "        vertical-align: top;\n",
       "    }\n",
       "\n",
       "    .dataframe thead th {\n",
       "        text-align: right;\n",
       "    }\n",
       "</style>\n",
       "<table border=\"1\" class=\"dataframe\">\n",
       "  <thead>\n",
       "    <tr style=\"text-align: right;\">\n",
       "      <th></th>\n",
       "      <th>date</th>\n",
       "      <th>location</th>\n",
       "      <th>stringency_index</th>\n",
       "    </tr>\n",
       "  </thead>\n",
       "  <tbody>\n",
       "    <tr>\n",
       "      <th>0</th>\n",
       "      <td>2020-01</td>\n",
       "      <td>China</td>\n",
       "      <td>24.80</td>\n",
       "    </tr>\n",
       "    <tr>\n",
       "      <th>1</th>\n",
       "      <td>2020-01</td>\n",
       "      <td>France</td>\n",
       "      <td>1.85</td>\n",
       "    </tr>\n",
       "    <tr>\n",
       "      <th>2</th>\n",
       "      <td>2020-01</td>\n",
       "      <td>Germany</td>\n",
       "      <td>1.65</td>\n",
       "    </tr>\n",
       "    <tr>\n",
       "      <th>3</th>\n",
       "      <td>2020-01</td>\n",
       "      <td>Italy</td>\n",
       "      <td>1.75</td>\n",
       "    </tr>\n",
       "    <tr>\n",
       "      <th>4</th>\n",
       "      <td>2020-01</td>\n",
       "      <td>Switzerland</td>\n",
       "      <td>0.00</td>\n",
       "    </tr>\n",
       "  </tbody>\n",
       "</table>\n",
       "</div>"
      ],
      "text/plain": [
       "      date     location  stringency_index\n",
       "0  2020-01        China             24.80\n",
       "1  2020-01       France              1.85\n",
       "2  2020-01      Germany              1.65\n",
       "3  2020-01        Italy              1.75\n",
       "4  2020-01  Switzerland              0.00"
      ]
     },
     "execution_count": 32,
     "metadata": {},
     "output_type": "execute_result"
    }
   ],
   "source": [
    "covid_grouped.head()"
   ]
  },
  {
   "cell_type": "markdown",
   "id": "c9b508da",
   "metadata": {},
   "source": [
    "The pivot table will be created to transform the countries into columns for easier comparison."
   ]
  },
  {
   "cell_type": "code",
   "execution_count": 33,
   "id": "bfe26ae4",
   "metadata": {},
   "outputs": [
    {
     "data": {
      "text/html": [
       "<div>\n",
       "<style scoped>\n",
       "    .dataframe tbody tr th:only-of-type {\n",
       "        vertical-align: middle;\n",
       "    }\n",
       "\n",
       "    .dataframe tbody tr th {\n",
       "        vertical-align: top;\n",
       "    }\n",
       "\n",
       "    .dataframe thead th {\n",
       "        text-align: right;\n",
       "    }\n",
       "</style>\n",
       "<table border=\"1\" class=\"dataframe\">\n",
       "  <thead>\n",
       "    <tr style=\"text-align: right;\">\n",
       "      <th>location</th>\n",
       "      <th>China</th>\n",
       "      <th>France</th>\n",
       "      <th>Germany</th>\n",
       "      <th>Italy</th>\n",
       "      <th>Switzerland</th>\n",
       "      <th>United Kingdom</th>\n",
       "      <th>United States</th>\n",
       "    </tr>\n",
       "    <tr>\n",
       "      <th>date</th>\n",
       "      <th></th>\n",
       "      <th></th>\n",
       "      <th></th>\n",
       "      <th></th>\n",
       "      <th></th>\n",
       "      <th></th>\n",
       "      <th></th>\n",
       "    </tr>\n",
       "  </thead>\n",
       "  <tbody>\n",
       "    <tr>\n",
       "      <th>2020-01</th>\n",
       "      <td>24.80</td>\n",
       "      <td>1.85</td>\n",
       "      <td>1.65</td>\n",
       "      <td>1.75</td>\n",
       "      <td>0.00</td>\n",
       "      <td>2.57</td>\n",
       "      <td>0.00</td>\n",
       "    </tr>\n",
       "    <tr>\n",
       "      <th>2020-02</th>\n",
       "      <td>76.99</td>\n",
       "      <td>7.71</td>\n",
       "      <td>10.15</td>\n",
       "      <td>31.17</td>\n",
       "      <td>2.39</td>\n",
       "      <td>11.01</td>\n",
       "      <td>7.18</td>\n",
       "    </tr>\n",
       "    <tr>\n",
       "      <th>2020-03</th>\n",
       "      <td>79.53</td>\n",
       "      <td>65.74</td>\n",
       "      <td>48.77</td>\n",
       "      <td>80.42</td>\n",
       "      <td>49.37</td>\n",
       "      <td>36.63</td>\n",
       "      <td>45.86</td>\n",
       "    </tr>\n",
       "    <tr>\n",
       "      <th>2020-04</th>\n",
       "      <td>60.21</td>\n",
       "      <td>87.96</td>\n",
       "      <td>76.85</td>\n",
       "      <td>90.65</td>\n",
       "      <td>72.66</td>\n",
       "      <td>79.63</td>\n",
       "      <td>72.69</td>\n",
       "    </tr>\n",
       "    <tr>\n",
       "      <th>2020-05</th>\n",
       "      <td>74.68</td>\n",
       "      <td>80.08</td>\n",
       "      <td>63.84</td>\n",
       "      <td>73.68</td>\n",
       "      <td>61.74</td>\n",
       "      <td>74.23</td>\n",
       "      <td>72.69</td>\n",
       "    </tr>\n",
       "    <tr>\n",
       "      <th>2020-06</th>\n",
       "      <td>78.49</td>\n",
       "      <td>66.20</td>\n",
       "      <td>61.33</td>\n",
       "      <td>67.59</td>\n",
       "      <td>44.51</td>\n",
       "      <td>70.87</td>\n",
       "      <td>70.71</td>\n",
       "    </tr>\n",
       "    <tr>\n",
       "      <th>2020-07</th>\n",
       "      <td>78.24</td>\n",
       "      <td>48.09</td>\n",
       "      <td>56.79</td>\n",
       "      <td>66.99</td>\n",
       "      <td>39.20</td>\n",
       "      <td>65.38</td>\n",
       "      <td>68.98</td>\n",
       "    </tr>\n",
       "    <tr>\n",
       "      <th>2020-08</th>\n",
       "      <td>78.24</td>\n",
       "      <td>47.37</td>\n",
       "      <td>57.93</td>\n",
       "      <td>66.61</td>\n",
       "      <td>43.06</td>\n",
       "      <td>67.64</td>\n",
       "      <td>68.98</td>\n",
       "    </tr>\n",
       "    <tr>\n",
       "      <th>2020-09</th>\n",
       "      <td>60.09</td>\n",
       "      <td>48.40</td>\n",
       "      <td>50.50</td>\n",
       "      <td>65.80</td>\n",
       "      <td>43.06</td>\n",
       "      <td>65.57</td>\n",
       "      <td>67.22</td>\n",
       "    </tr>\n",
       "    <tr>\n",
       "      <th>2020-10</th>\n",
       "      <td>63.07</td>\n",
       "      <td>50.17</td>\n",
       "      <td>55.21</td>\n",
       "      <td>68.01</td>\n",
       "      <td>33.18</td>\n",
       "      <td>67.89</td>\n",
       "      <td>66.20</td>\n",
       "    </tr>\n",
       "    <tr>\n",
       "      <th>2020-11</th>\n",
       "      <td>69.48</td>\n",
       "      <td>78.33</td>\n",
       "      <td>62.18</td>\n",
       "      <td>81.79</td>\n",
       "      <td>58.06</td>\n",
       "      <td>68.33</td>\n",
       "      <td>71.48</td>\n",
       "    </tr>\n",
       "    <tr>\n",
       "      <th>2020-12</th>\n",
       "      <td>79.08</td>\n",
       "      <td>68.91</td>\n",
       "      <td>75.48</td>\n",
       "      <td>80.86</td>\n",
       "      <td>59.20</td>\n",
       "      <td>72.36</td>\n",
       "      <td>71.88</td>\n",
       "    </tr>\n",
       "    <tr>\n",
       "      <th>2021-01</th>\n",
       "      <td>78.24</td>\n",
       "      <td>63.89</td>\n",
       "      <td>83.51</td>\n",
       "      <td>76.55</td>\n",
       "      <td>60.19</td>\n",
       "      <td>86.89</td>\n",
       "      <td>71.76</td>\n",
       "    </tr>\n",
       "    <tr>\n",
       "      <th>2021-02</th>\n",
       "      <td>74.07</td>\n",
       "      <td>62.21</td>\n",
       "      <td>82.87</td>\n",
       "      <td>75.92</td>\n",
       "      <td>60.19</td>\n",
       "      <td>87.50</td>\n",
       "      <td>68.32</td>\n",
       "    </tr>\n",
       "    <tr>\n",
       "      <th>2021-03</th>\n",
       "      <td>52.99</td>\n",
       "      <td>66.88</td>\n",
       "      <td>76.70</td>\n",
       "      <td>79.33</td>\n",
       "      <td>60.19</td>\n",
       "      <td>79.75</td>\n",
       "      <td>62.83</td>\n",
       "    </tr>\n",
       "    <tr>\n",
       "      <th>2021-04</th>\n",
       "      <td>74.47</td>\n",
       "      <td>74.01</td>\n",
       "      <td>75.00</td>\n",
       "      <td>78.67</td>\n",
       "      <td>56.49</td>\n",
       "      <td>64.51</td>\n",
       "      <td>54.53</td>\n",
       "    </tr>\n",
       "    <tr>\n",
       "      <th>2021-05</th>\n",
       "      <td>68.44</td>\n",
       "      <td>60.72</td>\n",
       "      <td>74.82</td>\n",
       "      <td>70.55</td>\n",
       "      <td>50.84</td>\n",
       "      <td>61.15</td>\n",
       "      <td>57.27</td>\n",
       "    </tr>\n",
       "    <tr>\n",
       "      <th>2021-06</th>\n",
       "      <td>74.29</td>\n",
       "      <td>51.35</td>\n",
       "      <td>69.44</td>\n",
       "      <td>70.84</td>\n",
       "      <td>47.53</td>\n",
       "      <td>52.87</td>\n",
       "      <td>56.92</td>\n",
       "    </tr>\n",
       "    <tr>\n",
       "      <th>2021-07</th>\n",
       "      <td>73.88</td>\n",
       "      <td>41.15</td>\n",
       "      <td>69.44</td>\n",
       "      <td>61.31</td>\n",
       "      <td>44.44</td>\n",
       "      <td>48.28</td>\n",
       "      <td>49.45</td>\n",
       "    </tr>\n",
       "    <tr>\n",
       "      <th>2021-08</th>\n",
       "      <td>79.17</td>\n",
       "      <td>43.10</td>\n",
       "      <td>55.86</td>\n",
       "      <td>53.79</td>\n",
       "      <td>44.44</td>\n",
       "      <td>43.98</td>\n",
       "      <td>51.81</td>\n",
       "    </tr>\n",
       "    <tr>\n",
       "      <th>2021-09</th>\n",
       "      <td>77.32</td>\n",
       "      <td>43.42</td>\n",
       "      <td>37.85</td>\n",
       "      <td>57.34</td>\n",
       "      <td>47.78</td>\n",
       "      <td>42.03</td>\n",
       "      <td>52.38</td>\n",
       "    </tr>\n",
       "    <tr>\n",
       "      <th>2021-10</th>\n",
       "      <td>78.45</td>\n",
       "      <td>41.78</td>\n",
       "      <td>30.34</td>\n",
       "      <td>52.42</td>\n",
       "      <td>50.00</td>\n",
       "      <td>42.46</td>\n",
       "      <td>52.22</td>\n",
       "    </tr>\n",
       "    <tr>\n",
       "      <th>2021-11</th>\n",
       "      <td>79.17</td>\n",
       "      <td>40.99</td>\n",
       "      <td>37.42</td>\n",
       "      <td>49.84</td>\n",
       "      <td>50.00</td>\n",
       "      <td>43.60</td>\n",
       "      <td>51.47</td>\n",
       "    </tr>\n",
       "    <tr>\n",
       "      <th>2021-12</th>\n",
       "      <td>79.17</td>\n",
       "      <td>43.52</td>\n",
       "      <td>42.92</td>\n",
       "      <td>50.69</td>\n",
       "      <td>51.08</td>\n",
       "      <td>42.73</td>\n",
       "      <td>48.84</td>\n",
       "    </tr>\n",
       "    <tr>\n",
       "      <th>2022-01</th>\n",
       "      <td>79.05</td>\n",
       "      <td>46.90</td>\n",
       "      <td>41.49</td>\n",
       "      <td>53.03</td>\n",
       "      <td>54.69</td>\n",
       "      <td>39.38</td>\n",
       "      <td>46.76</td>\n",
       "    </tr>\n",
       "    <tr>\n",
       "      <th>2022-02</th>\n",
       "      <td>79.17</td>\n",
       "      <td>37.74</td>\n",
       "      <td>38.66</td>\n",
       "      <td>48.97</td>\n",
       "      <td>35.45</td>\n",
       "      <td>32.60</td>\n",
       "      <td>45.19</td>\n",
       "    </tr>\n",
       "    <tr>\n",
       "      <th>2022-03</th>\n",
       "      <td>79.17</td>\n",
       "      <td>23.43</td>\n",
       "      <td>36.68</td>\n",
       "      <td>43.70</td>\n",
       "      <td>14.81</td>\n",
       "      <td>21.89</td>\n",
       "      <td>36.13</td>\n",
       "    </tr>\n",
       "    <tr>\n",
       "      <th>2022-04</th>\n",
       "      <td>78.92</td>\n",
       "      <td>18.82</td>\n",
       "      <td>16.03</td>\n",
       "      <td>36.45</td>\n",
       "      <td>11.11</td>\n",
       "      <td>16.42</td>\n",
       "      <td>29.21</td>\n",
       "    </tr>\n",
       "  </tbody>\n",
       "</table>\n",
       "</div>"
      ],
      "text/plain": [
       "location  China  France  Germany  Italy  Switzerland  United Kingdom  \\\n",
       "date                                                                   \n",
       "2020-01   24.80    1.85     1.65   1.75         0.00            2.57   \n",
       "2020-02   76.99    7.71    10.15  31.17         2.39           11.01   \n",
       "2020-03   79.53   65.74    48.77  80.42        49.37           36.63   \n",
       "2020-04   60.21   87.96    76.85  90.65        72.66           79.63   \n",
       "2020-05   74.68   80.08    63.84  73.68        61.74           74.23   \n",
       "2020-06   78.49   66.20    61.33  67.59        44.51           70.87   \n",
       "2020-07   78.24   48.09    56.79  66.99        39.20           65.38   \n",
       "2020-08   78.24   47.37    57.93  66.61        43.06           67.64   \n",
       "2020-09   60.09   48.40    50.50  65.80        43.06           65.57   \n",
       "2020-10   63.07   50.17    55.21  68.01        33.18           67.89   \n",
       "2020-11   69.48   78.33    62.18  81.79        58.06           68.33   \n",
       "2020-12   79.08   68.91    75.48  80.86        59.20           72.36   \n",
       "2021-01   78.24   63.89    83.51  76.55        60.19           86.89   \n",
       "2021-02   74.07   62.21    82.87  75.92        60.19           87.50   \n",
       "2021-03   52.99   66.88    76.70  79.33        60.19           79.75   \n",
       "2021-04   74.47   74.01    75.00  78.67        56.49           64.51   \n",
       "2021-05   68.44   60.72    74.82  70.55        50.84           61.15   \n",
       "2021-06   74.29   51.35    69.44  70.84        47.53           52.87   \n",
       "2021-07   73.88   41.15    69.44  61.31        44.44           48.28   \n",
       "2021-08   79.17   43.10    55.86  53.79        44.44           43.98   \n",
       "2021-09   77.32   43.42    37.85  57.34        47.78           42.03   \n",
       "2021-10   78.45   41.78    30.34  52.42        50.00           42.46   \n",
       "2021-11   79.17   40.99    37.42  49.84        50.00           43.60   \n",
       "2021-12   79.17   43.52    42.92  50.69        51.08           42.73   \n",
       "2022-01   79.05   46.90    41.49  53.03        54.69           39.38   \n",
       "2022-02   79.17   37.74    38.66  48.97        35.45           32.60   \n",
       "2022-03   79.17   23.43    36.68  43.70        14.81           21.89   \n",
       "2022-04   78.92   18.82    16.03  36.45        11.11           16.42   \n",
       "\n",
       "location  United States  \n",
       "date                     \n",
       "2020-01            0.00  \n",
       "2020-02            7.18  \n",
       "2020-03           45.86  \n",
       "2020-04           72.69  \n",
       "2020-05           72.69  \n",
       "2020-06           70.71  \n",
       "2020-07           68.98  \n",
       "2020-08           68.98  \n",
       "2020-09           67.22  \n",
       "2020-10           66.20  \n",
       "2020-11           71.48  \n",
       "2020-12           71.88  \n",
       "2021-01           71.76  \n",
       "2021-02           68.32  \n",
       "2021-03           62.83  \n",
       "2021-04           54.53  \n",
       "2021-05           57.27  \n",
       "2021-06           56.92  \n",
       "2021-07           49.45  \n",
       "2021-08           51.81  \n",
       "2021-09           52.38  \n",
       "2021-10           52.22  \n",
       "2021-11           51.47  \n",
       "2021-12           48.84  \n",
       "2022-01           46.76  \n",
       "2022-02           45.19  \n",
       "2022-03           36.13  \n",
       "2022-04           29.21  "
      ]
     },
     "execution_count": 33,
     "metadata": {},
     "output_type": "execute_result"
    }
   ],
   "source": [
    "stringency_index = covid_grouped.pivot(index='date', columns='location', values='stringency_index')\n",
    "stringency_index"
   ]
  },
  {
   "cell_type": "markdown",
   "id": "88d8aae6",
   "metadata": {},
   "source": [
    "**Exploring the dataset structure with .info() method**"
   ]
  },
  {
   "cell_type": "code",
   "execution_count": 34,
   "id": "f47ce3ea",
   "metadata": {},
   "outputs": [
    {
     "name": "stdout",
     "output_type": "stream",
     "text": [
      "<class 'pandas.core.frame.DataFrame'>\n",
      "PeriodIndex: 28 entries, 2020-01 to 2022-04\n",
      "Freq: M\n",
      "Data columns (total 7 columns):\n",
      " #   Column          Non-Null Count  Dtype  \n",
      "---  ------          --------------  -----  \n",
      " 0   China           28 non-null     float64\n",
      " 1   France          28 non-null     float64\n",
      " 2   Germany         28 non-null     float64\n",
      " 3   Italy           28 non-null     float64\n",
      " 4   Switzerland     28 non-null     float64\n",
      " 5   United Kingdom  28 non-null     float64\n",
      " 6   United States   28 non-null     float64\n",
      "dtypes: float64(7)\n",
      "memory usage: 1.8 KB\n"
     ]
    }
   ],
   "source": [
    "stringency_index.info()"
   ]
  },
  {
   "cell_type": "markdown",
   "id": "033c76d5",
   "metadata": {},
   "source": [
    "There are no missing values in the dataset. The data is already in the correct format for plotting, therefore no further transformations are needed."
   ]
  },
  {
   "cell_type": "code",
   "execution_count": 35,
   "id": "ac0dd69c",
   "metadata": {},
   "outputs": [
    {
     "data": {
      "text/html": [
       "<div>\n",
       "<style scoped>\n",
       "    .dataframe tbody tr th:only-of-type {\n",
       "        vertical-align: middle;\n",
       "    }\n",
       "\n",
       "    .dataframe tbody tr th {\n",
       "        vertical-align: top;\n",
       "    }\n",
       "\n",
       "    .dataframe thead th {\n",
       "        text-align: right;\n",
       "    }\n",
       "</style>\n",
       "<table border=\"1\" class=\"dataframe\">\n",
       "  <thead>\n",
       "    <tr style=\"text-align: right;\">\n",
       "      <th>location</th>\n",
       "      <th>China</th>\n",
       "      <th>France</th>\n",
       "      <th>Germany</th>\n",
       "      <th>Italy</th>\n",
       "      <th>Switzerland</th>\n",
       "      <th>United Kingdom</th>\n",
       "      <th>United States</th>\n",
       "    </tr>\n",
       "  </thead>\n",
       "  <tbody>\n",
       "    <tr>\n",
       "      <th>count</th>\n",
       "      <td>28.000000</td>\n",
       "      <td>28.000000</td>\n",
       "      <td>28.000000</td>\n",
       "      <td>28.000000</td>\n",
       "      <td>28.000000</td>\n",
       "      <td>28.000000</td>\n",
       "      <td>28.000000</td>\n",
       "    </tr>\n",
       "    <tr>\n",
       "      <th>mean</th>\n",
       "      <td>72.459643</td>\n",
       "      <td>50.382857</td>\n",
       "      <td>53.203929</td>\n",
       "      <td>61.954286</td>\n",
       "      <td>44.487857</td>\n",
       "      <td>53.148214</td>\n",
       "      <td>54.248571</td>\n",
       "    </tr>\n",
       "    <tr>\n",
       "      <th>std</th>\n",
       "      <td>11.713352</td>\n",
       "      <td>20.772367</td>\n",
       "      <td>21.804691</td>\n",
       "      <td>18.838850</td>\n",
       "      <td>17.905219</td>\n",
       "      <td>22.852023</td>\n",
       "      <td>18.553560</td>\n",
       "    </tr>\n",
       "    <tr>\n",
       "      <th>min</th>\n",
       "      <td>24.800000</td>\n",
       "      <td>1.850000</td>\n",
       "      <td>1.650000</td>\n",
       "      <td>1.750000</td>\n",
       "      <td>0.000000</td>\n",
       "      <td>2.570000</td>\n",
       "      <td>0.000000</td>\n",
       "    </tr>\n",
       "    <tr>\n",
       "      <th>25%</th>\n",
       "      <td>72.780000</td>\n",
       "      <td>41.622500</td>\n",
       "      <td>38.457500</td>\n",
       "      <td>51.987500</td>\n",
       "      <td>42.095000</td>\n",
       "      <td>41.367500</td>\n",
       "      <td>48.320000</td>\n",
       "    </tr>\n",
       "    <tr>\n",
       "      <th>50%</th>\n",
       "      <td>77.780000</td>\n",
       "      <td>48.245000</td>\n",
       "      <td>56.325000</td>\n",
       "      <td>66.800000</td>\n",
       "      <td>48.575000</td>\n",
       "      <td>57.010000</td>\n",
       "      <td>55.725000</td>\n",
       "    </tr>\n",
       "    <tr>\n",
       "      <th>75%</th>\n",
       "      <td>79.057500</td>\n",
       "      <td>65.855000</td>\n",
       "      <td>70.785000</td>\n",
       "      <td>76.077500</td>\n",
       "      <td>56.882500</td>\n",
       "      <td>68.965000</td>\n",
       "      <td>68.980000</td>\n",
       "    </tr>\n",
       "    <tr>\n",
       "      <th>max</th>\n",
       "      <td>79.530000</td>\n",
       "      <td>87.960000</td>\n",
       "      <td>83.510000</td>\n",
       "      <td>90.650000</td>\n",
       "      <td>72.660000</td>\n",
       "      <td>87.500000</td>\n",
       "      <td>72.690000</td>\n",
       "    </tr>\n",
       "  </tbody>\n",
       "</table>\n",
       "</div>"
      ],
      "text/plain": [
       "location      China     France    Germany      Italy  Switzerland  \\\n",
       "count     28.000000  28.000000  28.000000  28.000000    28.000000   \n",
       "mean      72.459643  50.382857  53.203929  61.954286    44.487857   \n",
       "std       11.713352  20.772367  21.804691  18.838850    17.905219   \n",
       "min       24.800000   1.850000   1.650000   1.750000     0.000000   \n",
       "25%       72.780000  41.622500  38.457500  51.987500    42.095000   \n",
       "50%       77.780000  48.245000  56.325000  66.800000    48.575000   \n",
       "75%       79.057500  65.855000  70.785000  76.077500    56.882500   \n",
       "max       79.530000  87.960000  83.510000  90.650000    72.660000   \n",
       "\n",
       "location  United Kingdom  United States  \n",
       "count          28.000000      28.000000  \n",
       "mean           53.148214      54.248571  \n",
       "std            22.852023      18.553560  \n",
       "min             2.570000       0.000000  \n",
       "25%            41.367500      48.320000  \n",
       "50%            57.010000      55.725000  \n",
       "75%            68.965000      68.980000  \n",
       "max            87.500000      72.690000  "
      ]
     },
     "execution_count": 35,
     "metadata": {},
     "output_type": "execute_result"
    }
   ],
   "source": [
    "stringency_index.describe()"
   ]
  },
  {
   "cell_type": "code",
   "execution_count": 36,
   "id": "9c414c24",
   "metadata": {},
   "outputs": [
    {
     "data": {
      "application/vnd.plotly.v1+json": {
       "config": {
        "plotlyServerURL": "https://plot.ly"
       },
       "data": [
        {
         "mode": "lines",
         "name": "China",
         "type": "scatter",
         "x": [
          "2020-01-01T00:00:00.000000000",
          "2020-02-01T00:00:00.000000000",
          "2020-03-01T00:00:00.000000000",
          "2020-04-01T00:00:00.000000000",
          "2020-05-01T00:00:00.000000000",
          "2020-06-01T00:00:00.000000000",
          "2020-07-01T00:00:00.000000000",
          "2020-08-01T00:00:00.000000000",
          "2020-09-01T00:00:00.000000000",
          "2020-10-01T00:00:00.000000000",
          "2020-11-01T00:00:00.000000000",
          "2020-12-01T00:00:00.000000000",
          "2021-01-01T00:00:00.000000000",
          "2021-02-01T00:00:00.000000000",
          "2021-03-01T00:00:00.000000000",
          "2021-04-01T00:00:00.000000000",
          "2021-05-01T00:00:00.000000000",
          "2021-06-01T00:00:00.000000000",
          "2021-07-01T00:00:00.000000000",
          "2021-08-01T00:00:00.000000000",
          "2021-09-01T00:00:00.000000000",
          "2021-10-01T00:00:00.000000000",
          "2021-11-01T00:00:00.000000000",
          "2021-12-01T00:00:00.000000000",
          "2022-01-01T00:00:00.000000000",
          "2022-02-01T00:00:00.000000000",
          "2022-03-01T00:00:00.000000000",
          "2022-04-01T00:00:00.000000000"
         ],
         "y": {
          "bdata": "zczMzMzMOECPwvUoXD9TQFK4HoXr4VNAexSuR+EaTkDsUbgehatSQI/C9Shcn1NAj8L1KFyPU0CPwvUoXI9TQOxRuB6FC05AKVyPwvWIT0AfhetRuF5RQIXrUbgexVNAj8L1KFyPU0AUrkfheoRSQB+F61G4fkpArkfhehSeUkBcj8L1KBxRQMP1KFyPklJAuB6F61F4UkB7FK5H4cpTQBSuR+F6VFNAzczMzMycU0B7FK5H4cpTQHsUrkfhylNAMzMzMzPDU0B7FK5H4cpTQHsUrkfhylNAexSuR+G6U0A=",
          "dtype": "f8"
         }
        },
        {
         "mode": "lines",
         "name": "France",
         "type": "scatter",
         "x": [
          "2020-01-01T00:00:00.000000000",
          "2020-02-01T00:00:00.000000000",
          "2020-03-01T00:00:00.000000000",
          "2020-04-01T00:00:00.000000000",
          "2020-05-01T00:00:00.000000000",
          "2020-06-01T00:00:00.000000000",
          "2020-07-01T00:00:00.000000000",
          "2020-08-01T00:00:00.000000000",
          "2020-09-01T00:00:00.000000000",
          "2020-10-01T00:00:00.000000000",
          "2020-11-01T00:00:00.000000000",
          "2020-12-01T00:00:00.000000000",
          "2021-01-01T00:00:00.000000000",
          "2021-02-01T00:00:00.000000000",
          "2021-03-01T00:00:00.000000000",
          "2021-04-01T00:00:00.000000000",
          "2021-05-01T00:00:00.000000000",
          "2021-06-01T00:00:00.000000000",
          "2021-07-01T00:00:00.000000000",
          "2021-08-01T00:00:00.000000000",
          "2021-09-01T00:00:00.000000000",
          "2021-10-01T00:00:00.000000000",
          "2021-11-01T00:00:00.000000000",
          "2021-12-01T00:00:00.000000000",
          "2022-01-01T00:00:00.000000000",
          "2022-02-01T00:00:00.000000000",
          "2022-03-01T00:00:00.000000000",
          "2022-04-01T00:00:00.000000000"
         ],
         "y": {
          "bdata": "mpmZmZmZ/T/Xo3A9CtceQI/C9Shcb1BAPQrXo3D9VUCF61G4HgVUQM3MzMzMjFBA7FG4HoULSECPwvUoXK9HQDMzMzMzM0hA9ihcj8IVSUCF61G4HpVTQArXo3A9OlFAUrgehevxT0B7FK5H4RpPQLgehetRuFBAcT0K16OAUkBcj8L1KFxOQM3MzMzMrElAMzMzMzOTREDNzMzMzIxFQPYoXI/CtUVApHA9CtfjREAfhetRuH5EQMP1KFyPwkVAMzMzMzNzR0AfhetRuN5CQK5H4XoUbjdAUrgehevRMkA=",
          "dtype": "f8"
         }
        },
        {
         "mode": "lines",
         "name": "Germany",
         "type": "scatter",
         "x": [
          "2020-01-01T00:00:00.000000000",
          "2020-02-01T00:00:00.000000000",
          "2020-03-01T00:00:00.000000000",
          "2020-04-01T00:00:00.000000000",
          "2020-05-01T00:00:00.000000000",
          "2020-06-01T00:00:00.000000000",
          "2020-07-01T00:00:00.000000000",
          "2020-08-01T00:00:00.000000000",
          "2020-09-01T00:00:00.000000000",
          "2020-10-01T00:00:00.000000000",
          "2020-11-01T00:00:00.000000000",
          "2020-12-01T00:00:00.000000000",
          "2021-01-01T00:00:00.000000000",
          "2021-02-01T00:00:00.000000000",
          "2021-03-01T00:00:00.000000000",
          "2021-04-01T00:00:00.000000000",
          "2021-05-01T00:00:00.000000000",
          "2021-06-01T00:00:00.000000000",
          "2021-07-01T00:00:00.000000000",
          "2021-08-01T00:00:00.000000000",
          "2021-09-01T00:00:00.000000000",
          "2021-10-01T00:00:00.000000000",
          "2021-11-01T00:00:00.000000000",
          "2021-12-01T00:00:00.000000000",
          "2022-01-01T00:00:00.000000000",
          "2022-02-01T00:00:00.000000000",
          "2022-03-01T00:00:00.000000000",
          "2022-04-01T00:00:00.000000000"
         ],
         "y": {
          "bdata": "ZmZmZmZm+j/NzMzMzEwkQMP1KFyPYkhAZmZmZmY2U0DsUbgehetPQArXo3A9qk5AhetRuB5lTEDXo3A9CvdMQAAAAAAAQElAexSuR+GaS0DXo3A9ChdPQB+F61G43lJAcT0K16PgVEBI4XoUrrdUQM3MzMzMLFNAAAAAAADAUkAUrkfherRSQFyPwvUoXFFAXI/C9ShcUUCuR+F6FO5LQM3MzMzM7EJA16NwPQpXPkD2KFyPwrVCQPYoXI/CdUVAH4XrUbi+REAUrkfhelRDQNejcD0KV0JASOF6FK4HMEA=",
          "dtype": "f8"
         }
        },
        {
         "mode": "lines",
         "name": "Italy",
         "type": "scatter",
         "x": [
          "2020-01-01T00:00:00.000000000",
          "2020-02-01T00:00:00.000000000",
          "2020-03-01T00:00:00.000000000",
          "2020-04-01T00:00:00.000000000",
          "2020-05-01T00:00:00.000000000",
          "2020-06-01T00:00:00.000000000",
          "2020-07-01T00:00:00.000000000",
          "2020-08-01T00:00:00.000000000",
          "2020-09-01T00:00:00.000000000",
          "2020-10-01T00:00:00.000000000",
          "2020-11-01T00:00:00.000000000",
          "2020-12-01T00:00:00.000000000",
          "2021-01-01T00:00:00.000000000",
          "2021-02-01T00:00:00.000000000",
          "2021-03-01T00:00:00.000000000",
          "2021-04-01T00:00:00.000000000",
          "2021-05-01T00:00:00.000000000",
          "2021-06-01T00:00:00.000000000",
          "2021-07-01T00:00:00.000000000",
          "2021-08-01T00:00:00.000000000",
          "2021-09-01T00:00:00.000000000",
          "2021-10-01T00:00:00.000000000",
          "2021-11-01T00:00:00.000000000",
          "2021-12-01T00:00:00.000000000",
          "2022-01-01T00:00:00.000000000",
          "2022-02-01T00:00:00.000000000",
          "2022-03-01T00:00:00.000000000",
          "2022-04-01T00:00:00.000000000"
         ],
         "y": {
          "bdata": "AAAAAAAA/D/sUbgehSs/QHsUrkfhGlRAmpmZmZmpVkDsUbgehWtSQPYoXI/C5VBAj8L1KFy/UEDXo3A9CqdQQDMzMzMzc1BAcT0K16MAUUDD9Shcj3JUQNejcD0KN1RAMzMzMzMjU0B7FK5H4fpSQIXrUbge1VNAexSuR+GqU0AzMzMzM6NRQPYoXI/CtVFASOF6FK6nTkCF61G4HuVKQOxRuB6Fq0xA9ihcj8I1SkDsUbgehetIQLgehetRWElApHA9CteDSkBcj8L1KHxIQJqZmZmZ2UVAmpmZmZk5QkA=",
          "dtype": "f8"
         }
        },
        {
         "mode": "lines",
         "name": "Switzerland",
         "type": "scatter",
         "x": [
          "2020-02-01T00:00:00.000000000",
          "2020-03-01T00:00:00.000000000",
          "2020-04-01T00:00:00.000000000",
          "2020-05-01T00:00:00.000000000",
          "2020-06-01T00:00:00.000000000",
          "2020-07-01T00:00:00.000000000",
          "2020-08-01T00:00:00.000000000",
          "2020-09-01T00:00:00.000000000",
          "2020-10-01T00:00:00.000000000",
          "2020-11-01T00:00:00.000000000",
          "2020-12-01T00:00:00.000000000",
          "2021-01-01T00:00:00.000000000",
          "2021-02-01T00:00:00.000000000",
          "2021-03-01T00:00:00.000000000",
          "2021-04-01T00:00:00.000000000",
          "2021-05-01T00:00:00.000000000",
          "2021-06-01T00:00:00.000000000",
          "2021-07-01T00:00:00.000000000",
          "2021-08-01T00:00:00.000000000",
          "2021-09-01T00:00:00.000000000",
          "2021-10-01T00:00:00.000000000",
          "2021-11-01T00:00:00.000000000",
          "2021-12-01T00:00:00.000000000",
          "2022-01-01T00:00:00.000000000",
          "2022-02-01T00:00:00.000000000",
          "2022-03-01T00:00:00.000000000",
          "2022-04-01T00:00:00.000000000"
         ],
         "y": {
          "bdata": "H4XrUbgeA0CPwvUoXK9IQArXo3A9KlJAH4XrUbjeTkDhehSuR0FGQJqZmZmZmUNASOF6FK6HRUBI4XoUrodFQNejcD0Kl0BASOF6FK4HTUCamZmZmZlNQLgehetRGE5AuB6F61EYTkC4HoXrURhOQB+F61G4PkxA7FG4HoVrSUCkcD0K18NHQLgehetROEZAuB6F61E4RkCkcD0K1+NHQAAAAAAAAElAAAAAAAAASUAK16NwPYpJQLgehetRWEtAmpmZmZm5QUAfhetRuJ4tQLgehetROCZA",
          "dtype": "f8"
         }
        },
        {
         "mode": "lines",
         "name": "United Kingdom",
         "type": "scatter",
         "x": [
          "2020-01-01T00:00:00.000000000",
          "2020-02-01T00:00:00.000000000",
          "2020-03-01T00:00:00.000000000",
          "2020-04-01T00:00:00.000000000",
          "2020-05-01T00:00:00.000000000",
          "2020-06-01T00:00:00.000000000",
          "2020-07-01T00:00:00.000000000",
          "2020-08-01T00:00:00.000000000",
          "2020-09-01T00:00:00.000000000",
          "2020-10-01T00:00:00.000000000",
          "2020-11-01T00:00:00.000000000",
          "2020-12-01T00:00:00.000000000",
          "2021-01-01T00:00:00.000000000",
          "2021-02-01T00:00:00.000000000",
          "2021-03-01T00:00:00.000000000",
          "2021-04-01T00:00:00.000000000",
          "2021-05-01T00:00:00.000000000",
          "2021-06-01T00:00:00.000000000",
          "2021-07-01T00:00:00.000000000",
          "2021-08-01T00:00:00.000000000",
          "2021-09-01T00:00:00.000000000",
          "2021-10-01T00:00:00.000000000",
          "2021-11-01T00:00:00.000000000",
          "2021-12-01T00:00:00.000000000",
          "2022-01-01T00:00:00.000000000",
          "2022-02-01T00:00:00.000000000",
          "2022-03-01T00:00:00.000000000",
          "2022-04-01T00:00:00.000000000"
         ],
         "y": {
          "bdata": "j8L1KFyPBECF61G4HgUmQHE9CtejUEJAuB6F61HoU0AfhetRuI5SQEjhehSut1FAuB6F61FYUEApXI/C9ehQQBSuR+F6ZFBAKVyPwvX4UECF61G4HhVRQNejcD0KF1JAKVyPwvW4VUAAAAAAAOBVQAAAAAAA8FNAcT0K16MgUEAzMzMzM5NOQI/C9Shcb0pApHA9CtcjSEA9CtejcP1FQKRwPQrXA0VAexSuR+E6RUDNzMzMzMxFQD0K16NwXUVAcT0K16OwQ0DNzMzMzExAQKRwPQrX4zVA7FG4HoVrMEA=",
          "dtype": "f8"
         }
        },
        {
         "mode": "lines",
         "name": "United States",
         "type": "scatter",
         "x": [
          "2020-02-01T00:00:00.000000000",
          "2020-03-01T00:00:00.000000000",
          "2020-04-01T00:00:00.000000000",
          "2020-05-01T00:00:00.000000000",
          "2020-06-01T00:00:00.000000000",
          "2020-07-01T00:00:00.000000000",
          "2020-08-01T00:00:00.000000000",
          "2020-09-01T00:00:00.000000000",
          "2020-10-01T00:00:00.000000000",
          "2020-11-01T00:00:00.000000000",
          "2020-12-01T00:00:00.000000000",
          "2021-01-01T00:00:00.000000000",
          "2021-02-01T00:00:00.000000000",
          "2021-03-01T00:00:00.000000000",
          "2021-04-01T00:00:00.000000000",
          "2021-05-01T00:00:00.000000000",
          "2021-06-01T00:00:00.000000000",
          "2021-07-01T00:00:00.000000000",
          "2021-08-01T00:00:00.000000000",
          "2021-09-01T00:00:00.000000000",
          "2021-10-01T00:00:00.000000000",
          "2021-11-01T00:00:00.000000000",
          "2021-12-01T00:00:00.000000000",
          "2022-01-01T00:00:00.000000000",
          "2022-02-01T00:00:00.000000000",
          "2022-03-01T00:00:00.000000000",
          "2022-04-01T00:00:00.000000000"
         ],
         "y": {
          "bdata": "uB6F61G4HECuR+F6FO5GQFyPwvUoLFJAXI/C9SgsUkA9CtejcK1RQB+F61G4PlFAH4XrUbg+UUCuR+F6FM5QQM3MzMzMjFBAH4XrUbjeUUC4HoXrUfhRQHE9Ctej8FFAFK5H4XoUUUAK16NwPWpPQKRwPQrXQ0tAw/UoXI+iTED2KFyPwnVMQJqZmZmZuUhASOF6FK7nSUBxPQrXozBKQFyPwvUoHEpAXI/C9Si8SUDsUbgehWtIQOF6FK5HYUdAuB6F61GYRkBxPQrXoxBCQPYoXI/CNT1A",
          "dtype": "f8"
         }
        }
       ],
       "layout": {
        "legend": {
         "title": {
          "text": "Countries"
         }
        },
        "template": {
         "data": {
          "bar": [
           {
            "error_x": {
             "color": "#2a3f5f"
            },
            "error_y": {
             "color": "#2a3f5f"
            },
            "marker": {
             "line": {
              "color": "#E5ECF6",
              "width": 0.5
             },
             "pattern": {
              "fillmode": "overlay",
              "size": 10,
              "solidity": 0.2
             }
            },
            "type": "bar"
           }
          ],
          "barpolar": [
           {
            "marker": {
             "line": {
              "color": "#E5ECF6",
              "width": 0.5
             },
             "pattern": {
              "fillmode": "overlay",
              "size": 10,
              "solidity": 0.2
             }
            },
            "type": "barpolar"
           }
          ],
          "carpet": [
           {
            "aaxis": {
             "endlinecolor": "#2a3f5f",
             "gridcolor": "white",
             "linecolor": "white",
             "minorgridcolor": "white",
             "startlinecolor": "#2a3f5f"
            },
            "baxis": {
             "endlinecolor": "#2a3f5f",
             "gridcolor": "white",
             "linecolor": "white",
             "minorgridcolor": "white",
             "startlinecolor": "#2a3f5f"
            },
            "type": "carpet"
           }
          ],
          "choropleth": [
           {
            "colorbar": {
             "outlinewidth": 0,
             "ticks": ""
            },
            "type": "choropleth"
           }
          ],
          "contour": [
           {
            "colorbar": {
             "outlinewidth": 0,
             "ticks": ""
            },
            "colorscale": [
             [
              0,
              "#0d0887"
             ],
             [
              0.1111111111111111,
              "#46039f"
             ],
             [
              0.2222222222222222,
              "#7201a8"
             ],
             [
              0.3333333333333333,
              "#9c179e"
             ],
             [
              0.4444444444444444,
              "#bd3786"
             ],
             [
              0.5555555555555556,
              "#d8576b"
             ],
             [
              0.6666666666666666,
              "#ed7953"
             ],
             [
              0.7777777777777778,
              "#fb9f3a"
             ],
             [
              0.8888888888888888,
              "#fdca26"
             ],
             [
              1,
              "#f0f921"
             ]
            ],
            "type": "contour"
           }
          ],
          "contourcarpet": [
           {
            "colorbar": {
             "outlinewidth": 0,
             "ticks": ""
            },
            "type": "contourcarpet"
           }
          ],
          "heatmap": [
           {
            "colorbar": {
             "outlinewidth": 0,
             "ticks": ""
            },
            "colorscale": [
             [
              0,
              "#0d0887"
             ],
             [
              0.1111111111111111,
              "#46039f"
             ],
             [
              0.2222222222222222,
              "#7201a8"
             ],
             [
              0.3333333333333333,
              "#9c179e"
             ],
             [
              0.4444444444444444,
              "#bd3786"
             ],
             [
              0.5555555555555556,
              "#d8576b"
             ],
             [
              0.6666666666666666,
              "#ed7953"
             ],
             [
              0.7777777777777778,
              "#fb9f3a"
             ],
             [
              0.8888888888888888,
              "#fdca26"
             ],
             [
              1,
              "#f0f921"
             ]
            ],
            "type": "heatmap"
           }
          ],
          "histogram": [
           {
            "marker": {
             "pattern": {
              "fillmode": "overlay",
              "size": 10,
              "solidity": 0.2
             }
            },
            "type": "histogram"
           }
          ],
          "histogram2d": [
           {
            "colorbar": {
             "outlinewidth": 0,
             "ticks": ""
            },
            "colorscale": [
             [
              0,
              "#0d0887"
             ],
             [
              0.1111111111111111,
              "#46039f"
             ],
             [
              0.2222222222222222,
              "#7201a8"
             ],
             [
              0.3333333333333333,
              "#9c179e"
             ],
             [
              0.4444444444444444,
              "#bd3786"
             ],
             [
              0.5555555555555556,
              "#d8576b"
             ],
             [
              0.6666666666666666,
              "#ed7953"
             ],
             [
              0.7777777777777778,
              "#fb9f3a"
             ],
             [
              0.8888888888888888,
              "#fdca26"
             ],
             [
              1,
              "#f0f921"
             ]
            ],
            "type": "histogram2d"
           }
          ],
          "histogram2dcontour": [
           {
            "colorbar": {
             "outlinewidth": 0,
             "ticks": ""
            },
            "colorscale": [
             [
              0,
              "#0d0887"
             ],
             [
              0.1111111111111111,
              "#46039f"
             ],
             [
              0.2222222222222222,
              "#7201a8"
             ],
             [
              0.3333333333333333,
              "#9c179e"
             ],
             [
              0.4444444444444444,
              "#bd3786"
             ],
             [
              0.5555555555555556,
              "#d8576b"
             ],
             [
              0.6666666666666666,
              "#ed7953"
             ],
             [
              0.7777777777777778,
              "#fb9f3a"
             ],
             [
              0.8888888888888888,
              "#fdca26"
             ],
             [
              1,
              "#f0f921"
             ]
            ],
            "type": "histogram2dcontour"
           }
          ],
          "mesh3d": [
           {
            "colorbar": {
             "outlinewidth": 0,
             "ticks": ""
            },
            "type": "mesh3d"
           }
          ],
          "parcoords": [
           {
            "line": {
             "colorbar": {
              "outlinewidth": 0,
              "ticks": ""
             }
            },
            "type": "parcoords"
           }
          ],
          "pie": [
           {
            "automargin": true,
            "type": "pie"
           }
          ],
          "scatter": [
           {
            "fillpattern": {
             "fillmode": "overlay",
             "size": 10,
             "solidity": 0.2
            },
            "type": "scatter"
           }
          ],
          "scatter3d": [
           {
            "line": {
             "colorbar": {
              "outlinewidth": 0,
              "ticks": ""
             }
            },
            "marker": {
             "colorbar": {
              "outlinewidth": 0,
              "ticks": ""
             }
            },
            "type": "scatter3d"
           }
          ],
          "scattercarpet": [
           {
            "marker": {
             "colorbar": {
              "outlinewidth": 0,
              "ticks": ""
             }
            },
            "type": "scattercarpet"
           }
          ],
          "scattergeo": [
           {
            "marker": {
             "colorbar": {
              "outlinewidth": 0,
              "ticks": ""
             }
            },
            "type": "scattergeo"
           }
          ],
          "scattergl": [
           {
            "marker": {
             "colorbar": {
              "outlinewidth": 0,
              "ticks": ""
             }
            },
            "type": "scattergl"
           }
          ],
          "scattermap": [
           {
            "marker": {
             "colorbar": {
              "outlinewidth": 0,
              "ticks": ""
             }
            },
            "type": "scattermap"
           }
          ],
          "scattermapbox": [
           {
            "marker": {
             "colorbar": {
              "outlinewidth": 0,
              "ticks": ""
             }
            },
            "type": "scattermapbox"
           }
          ],
          "scatterpolar": [
           {
            "marker": {
             "colorbar": {
              "outlinewidth": 0,
              "ticks": ""
             }
            },
            "type": "scatterpolar"
           }
          ],
          "scatterpolargl": [
           {
            "marker": {
             "colorbar": {
              "outlinewidth": 0,
              "ticks": ""
             }
            },
            "type": "scatterpolargl"
           }
          ],
          "scatterternary": [
           {
            "marker": {
             "colorbar": {
              "outlinewidth": 0,
              "ticks": ""
             }
            },
            "type": "scatterternary"
           }
          ],
          "surface": [
           {
            "colorbar": {
             "outlinewidth": 0,
             "ticks": ""
            },
            "colorscale": [
             [
              0,
              "#0d0887"
             ],
             [
              0.1111111111111111,
              "#46039f"
             ],
             [
              0.2222222222222222,
              "#7201a8"
             ],
             [
              0.3333333333333333,
              "#9c179e"
             ],
             [
              0.4444444444444444,
              "#bd3786"
             ],
             [
              0.5555555555555556,
              "#d8576b"
             ],
             [
              0.6666666666666666,
              "#ed7953"
             ],
             [
              0.7777777777777778,
              "#fb9f3a"
             ],
             [
              0.8888888888888888,
              "#fdca26"
             ],
             [
              1,
              "#f0f921"
             ]
            ],
            "type": "surface"
           }
          ],
          "table": [
           {
            "cells": {
             "fill": {
              "color": "#EBF0F8"
             },
             "line": {
              "color": "white"
             }
            },
            "header": {
             "fill": {
              "color": "#C8D4E3"
             },
             "line": {
              "color": "white"
             }
            },
            "type": "table"
           }
          ]
         },
         "layout": {
          "annotationdefaults": {
           "arrowcolor": "#2a3f5f",
           "arrowhead": 0,
           "arrowwidth": 1
          },
          "autotypenumbers": "strict",
          "coloraxis": {
           "colorbar": {
            "outlinewidth": 0,
            "ticks": ""
           }
          },
          "colorscale": {
           "diverging": [
            [
             0,
             "#8e0152"
            ],
            [
             0.1,
             "#c51b7d"
            ],
            [
             0.2,
             "#de77ae"
            ],
            [
             0.3,
             "#f1b6da"
            ],
            [
             0.4,
             "#fde0ef"
            ],
            [
             0.5,
             "#f7f7f7"
            ],
            [
             0.6,
             "#e6f5d0"
            ],
            [
             0.7,
             "#b8e186"
            ],
            [
             0.8,
             "#7fbc41"
            ],
            [
             0.9,
             "#4d9221"
            ],
            [
             1,
             "#276419"
            ]
           ],
           "sequential": [
            [
             0,
             "#0d0887"
            ],
            [
             0.1111111111111111,
             "#46039f"
            ],
            [
             0.2222222222222222,
             "#7201a8"
            ],
            [
             0.3333333333333333,
             "#9c179e"
            ],
            [
             0.4444444444444444,
             "#bd3786"
            ],
            [
             0.5555555555555556,
             "#d8576b"
            ],
            [
             0.6666666666666666,
             "#ed7953"
            ],
            [
             0.7777777777777778,
             "#fb9f3a"
            ],
            [
             0.8888888888888888,
             "#fdca26"
            ],
            [
             1,
             "#f0f921"
            ]
           ],
           "sequentialminus": [
            [
             0,
             "#0d0887"
            ],
            [
             0.1111111111111111,
             "#46039f"
            ],
            [
             0.2222222222222222,
             "#7201a8"
            ],
            [
             0.3333333333333333,
             "#9c179e"
            ],
            [
             0.4444444444444444,
             "#bd3786"
            ],
            [
             0.5555555555555556,
             "#d8576b"
            ],
            [
             0.6666666666666666,
             "#ed7953"
            ],
            [
             0.7777777777777778,
             "#fb9f3a"
            ],
            [
             0.8888888888888888,
             "#fdca26"
            ],
            [
             1,
             "#f0f921"
            ]
           ]
          },
          "colorway": [
           "#636efa",
           "#EF553B",
           "#00cc96",
           "#ab63fa",
           "#FFA15A",
           "#19d3f3",
           "#FF6692",
           "#B6E880",
           "#FF97FF",
           "#FECB52"
          ],
          "font": {
           "color": "#2a3f5f"
          },
          "geo": {
           "bgcolor": "white",
           "lakecolor": "white",
           "landcolor": "#E5ECF6",
           "showlakes": true,
           "showland": true,
           "subunitcolor": "white"
          },
          "hoverlabel": {
           "align": "left"
          },
          "hovermode": "closest",
          "mapbox": {
           "style": "light"
          },
          "paper_bgcolor": "white",
          "plot_bgcolor": "#E5ECF6",
          "polar": {
           "angularaxis": {
            "gridcolor": "white",
            "linecolor": "white",
            "ticks": ""
           },
           "bgcolor": "#E5ECF6",
           "radialaxis": {
            "gridcolor": "white",
            "linecolor": "white",
            "ticks": ""
           }
          },
          "scene": {
           "xaxis": {
            "backgroundcolor": "#E5ECF6",
            "gridcolor": "white",
            "gridwidth": 2,
            "linecolor": "white",
            "showbackground": true,
            "ticks": "",
            "zerolinecolor": "white"
           },
           "yaxis": {
            "backgroundcolor": "#E5ECF6",
            "gridcolor": "white",
            "gridwidth": 2,
            "linecolor": "white",
            "showbackground": true,
            "ticks": "",
            "zerolinecolor": "white"
           },
           "zaxis": {
            "backgroundcolor": "#E5ECF6",
            "gridcolor": "white",
            "gridwidth": 2,
            "linecolor": "white",
            "showbackground": true,
            "ticks": "",
            "zerolinecolor": "white"
           }
          },
          "shapedefaults": {
           "line": {
            "color": "#2a3f5f"
           }
          },
          "ternary": {
           "aaxis": {
            "gridcolor": "white",
            "linecolor": "white",
            "ticks": ""
           },
           "baxis": {
            "gridcolor": "white",
            "linecolor": "white",
            "ticks": ""
           },
           "bgcolor": "#E5ECF6",
           "caxis": {
            "gridcolor": "white",
            "linecolor": "white",
            "ticks": ""
           }
          },
          "title": {
           "x": 0.05
          },
          "xaxis": {
           "automargin": true,
           "gridcolor": "white",
           "linecolor": "white",
           "ticks": "",
           "title": {
            "standoff": 15
           },
           "zerolinecolor": "white",
           "zerolinewidth": 2
          },
          "yaxis": {
           "automargin": true,
           "gridcolor": "white",
           "linecolor": "white",
           "ticks": "",
           "title": {
            "standoff": 15
           },
           "zerolinecolor": "white",
           "zerolinewidth": 2
          }
         }
        },
        "title": {
         "text": "Covid-19 Stringency Index Across Countries"
        },
        "xaxis": {
         "title": {
          "text": "Date"
         }
        },
        "yaxis": {
         "title": {
          "text": "Stringency Index"
         }
        }
       }
      }
     },
     "metadata": {},
     "output_type": "display_data"
    }
   ],
   "source": [
    "stringency_index.index = stringency_index.index.to_timestamp()\n",
    "fig = go.Figure()\n",
    "for country in stringency_index.columns:\n",
    "    non_zero_data = stringency_index[country]\n",
    "    non_zero_data = non_zero_data[non_zero_data != 0]\n",
    "    fig.add_trace(go.Scatter(x=non_zero_data.index, \n",
    "                             y=non_zero_data, \n",
    "                             mode='lines', \n",
    "                             name=country))\n",
    "fig.update_layout(\n",
    "    title=\"Covid-19 Stringency Index Across Countries\",\n",
    "    xaxis_title=\"Date\",\n",
    "    yaxis_title=\"Stringency Index\",\n",
    "    legend_title=\"Countries\"\n",
    ")\n",
    "\n",
    "fig.show()\n"
   ]
  },
  {
   "cell_type": "markdown",
   "id": "9cd27e6e",
   "metadata": {},
   "source": [
    "In January 2020, only Switzerland and the United States had not implemented any Covid-19 prevention measures. China had the highest stringency index at that time, recorded at 24.8. The highest stringency index overall was 90.65, observed in Italy in April 2020. After July 2021, the index generally declined, except in China, where it remained nearly constant at around 80."
   ]
  },
  {
   "cell_type": "code",
   "execution_count": 37,
   "id": "a558f3db",
   "metadata": {},
   "outputs": [],
   "source": [
    "#stringency_index.to_csv('./extra data/stringency_index.csv')"
   ]
  },
  {
   "cell_type": "markdown",
   "id": "cd7c2943",
   "metadata": {},
   "source": [
    "# 5. Energy Data"
   ]
  },
  {
   "cell_type": "markdown",
   "id": "dacca146",
   "metadata": {},
   "source": [
    "This dataset includes monthly data on electricity generation, emissions and demand for 85 geographies. We will only focus on electricity generation and only for a specific group of countries. The dataset will be divided into two parts: one covering fossil fuel-based generation and the other focusing on clean energy sources. By using this, we might be able to understand the impact of energy production shifts in Siemens sales.\n",
    "\n",
    "The data can be found at:\n",
    "\n",
    "​Ember. (n.d.). Monthly Electricity Data. Retrieved March 18, 2025, from https://ember-energy.org/data/monthly-electricity-data/​\n",
    "\n",
    "Metada:\n",
    "\n",
    "Ember. (n.d.). Data Methodology (Version 1.2). Retrieved March 18, 2025, from https://storage.googleapis.com/emb-prod-bkt-publicdata/public-downloads/ember_electricity_data_methodology.pdf​"
   ]
  },
  {
   "cell_type": "code",
   "execution_count": 38,
   "id": "638c2b11",
   "metadata": {},
   "outputs": [
    {
     "data": {
      "text/html": [
       "<div>\n",
       "<style scoped>\n",
       "    .dataframe tbody tr th:only-of-type {\n",
       "        vertical-align: middle;\n",
       "    }\n",
       "\n",
       "    .dataframe tbody tr th {\n",
       "        vertical-align: top;\n",
       "    }\n",
       "\n",
       "    .dataframe thead th {\n",
       "        text-align: right;\n",
       "    }\n",
       "</style>\n",
       "<table border=\"1\" class=\"dataframe\">\n",
       "  <thead>\n",
       "    <tr style=\"text-align: right;\">\n",
       "      <th></th>\n",
       "      <th>Area</th>\n",
       "      <th>Country code</th>\n",
       "      <th>Date</th>\n",
       "      <th>Area type</th>\n",
       "      <th>Continent</th>\n",
       "      <th>Ember region</th>\n",
       "      <th>EU</th>\n",
       "      <th>OECD</th>\n",
       "      <th>G20</th>\n",
       "      <th>G7</th>\n",
       "      <th>ASEAN</th>\n",
       "      <th>Category</th>\n",
       "      <th>Subcategory</th>\n",
       "      <th>Variable</th>\n",
       "      <th>Unit</th>\n",
       "      <th>Value</th>\n",
       "      <th>YoY absolute change</th>\n",
       "      <th>YoY % change</th>\n",
       "    </tr>\n",
       "  </thead>\n",
       "  <tbody>\n",
       "    <tr>\n",
       "      <th>0</th>\n",
       "      <td>Argentina</td>\n",
       "      <td>ARG</td>\n",
       "      <td>2018-01-01</td>\n",
       "      <td>Country</td>\n",
       "      <td>South America</td>\n",
       "      <td>Latin America and Caribbean</td>\n",
       "      <td>0.0</td>\n",
       "      <td>0.0</td>\n",
       "      <td>1.0</td>\n",
       "      <td>0.0</td>\n",
       "      <td>0.0</td>\n",
       "      <td>Electricity demand</td>\n",
       "      <td>Demand</td>\n",
       "      <td>Demand</td>\n",
       "      <td>TWh</td>\n",
       "      <td>12.77</td>\n",
       "      <td>NaN</td>\n",
       "      <td>NaN</td>\n",
       "    </tr>\n",
       "    <tr>\n",
       "      <th>1</th>\n",
       "      <td>Argentina</td>\n",
       "      <td>ARG</td>\n",
       "      <td>2018-01-01</td>\n",
       "      <td>Country</td>\n",
       "      <td>South America</td>\n",
       "      <td>Latin America and Caribbean</td>\n",
       "      <td>0.0</td>\n",
       "      <td>0.0</td>\n",
       "      <td>1.0</td>\n",
       "      <td>0.0</td>\n",
       "      <td>0.0</td>\n",
       "      <td>Electricity generation</td>\n",
       "      <td>Aggregate fuel</td>\n",
       "      <td>Clean</td>\n",
       "      <td>%</td>\n",
       "      <td>34.57</td>\n",
       "      <td>NaN</td>\n",
       "      <td>NaN</td>\n",
       "    </tr>\n",
       "    <tr>\n",
       "      <th>2</th>\n",
       "      <td>Argentina</td>\n",
       "      <td>ARG</td>\n",
       "      <td>2018-01-01</td>\n",
       "      <td>Country</td>\n",
       "      <td>South America</td>\n",
       "      <td>Latin America and Caribbean</td>\n",
       "      <td>0.0</td>\n",
       "      <td>0.0</td>\n",
       "      <td>1.0</td>\n",
       "      <td>0.0</td>\n",
       "      <td>0.0</td>\n",
       "      <td>Electricity generation</td>\n",
       "      <td>Aggregate fuel</td>\n",
       "      <td>Fossil</td>\n",
       "      <td>%</td>\n",
       "      <td>65.44</td>\n",
       "      <td>NaN</td>\n",
       "      <td>NaN</td>\n",
       "    </tr>\n",
       "  </tbody>\n",
       "</table>\n",
       "</div>"
      ],
      "text/plain": [
       "        Area Country code        Date Area type      Continent  \\\n",
       "0  Argentina          ARG  2018-01-01   Country  South America   \n",
       "1  Argentina          ARG  2018-01-01   Country  South America   \n",
       "2  Argentina          ARG  2018-01-01   Country  South America   \n",
       "\n",
       "                  Ember region   EU  OECD  G20   G7  ASEAN  \\\n",
       "0  Latin America and Caribbean  0.0   0.0  1.0  0.0    0.0   \n",
       "1  Latin America and Caribbean  0.0   0.0  1.0  0.0    0.0   \n",
       "2  Latin America and Caribbean  0.0   0.0  1.0  0.0    0.0   \n",
       "\n",
       "                 Category     Subcategory Variable Unit  Value  \\\n",
       "0      Electricity demand          Demand   Demand  TWh  12.77   \n",
       "1  Electricity generation  Aggregate fuel    Clean    %  34.57   \n",
       "2  Electricity generation  Aggregate fuel   Fossil    %  65.44   \n",
       "\n",
       "   YoY absolute change  YoY % change  \n",
       "0                  NaN           NaN  \n",
       "1                  NaN           NaN  \n",
       "2                  NaN           NaN  "
      ]
     },
     "execution_count": 38,
     "metadata": {},
     "output_type": "execute_result"
    }
   ],
   "source": [
    "energy = pd.read_csv('extra data/monthly_full_release_long_format-2.csv')\n",
    "energy.head(3)"
   ]
  },
  {
   "cell_type": "code",
   "execution_count": 39,
   "id": "e097a204",
   "metadata": {},
   "outputs": [],
   "source": [
    "energy = energy[\n",
    "    (energy['Area'].isin(['Germany', 'Italy', 'France', 'China', 'Switzerland', 'United Kingdom', 'United States of America'])) &\n",
    "    (pd.to_datetime(energy['Date']) >= '2018-10-01') & \n",
    "    (pd.to_datetime(energy['Date']) <= '2022-04-30') &\n",
    "    (energy['Variable'].isin(['Clean', 'Fossil'])) &\n",
    "    (energy['Unit'] == 'TWh')\n",
    "]\n",
    "\n",
    "energy = energy.loc[:, ['Area', 'Date', 'Variable', 'Unit', 'Value']]\n",
    "energy['Date'] = pd.to_datetime(energy['Date']).dt.strftime('%Y-%m')"
   ]
  },
  {
   "cell_type": "code",
   "execution_count": 40,
   "id": "d998fc19",
   "metadata": {},
   "outputs": [],
   "source": [
    "clean = energy[energy[\"Variable\"] == \"Clean\"].pivot(index=\"Date\", columns=\"Area\", values=\"Value\")\n",
    "fossil = energy[energy[\"Variable\"] == \"Fossil\"].pivot(index=\"Date\", columns=\"Area\", values=\"Value\")"
   ]
  },
  {
   "cell_type": "markdown",
   "id": "d6187ed4",
   "metadata": {},
   "source": [
    "### Clean"
   ]
  },
  {
   "cell_type": "markdown",
   "id": "318a3c5a",
   "metadata": {},
   "source": [
    "This dataset includes energy generation data from various sources, including wind, solar, hydro, bioenergy, nuclear, and other renewable sources, measured in terawatt-hours (TWh)."
   ]
  },
  {
   "cell_type": "code",
   "execution_count": 41,
   "id": "414c6cce",
   "metadata": {},
   "outputs": [
    {
     "name": "stdout",
     "output_type": "stream",
     "text": [
      "<class 'pandas.core.frame.DataFrame'>\n",
      "Index: 43 entries, 2018-10 to 2022-04\n",
      "Data columns (total 7 columns):\n",
      " #   Column                    Non-Null Count  Dtype  \n",
      "---  ------                    --------------  -----  \n",
      " 0   China                     43 non-null     float64\n",
      " 1   France                    43 non-null     float64\n",
      " 2   Germany                   43 non-null     float64\n",
      " 3   Italy                     43 non-null     float64\n",
      " 4   Switzerland               43 non-null     float64\n",
      " 5   United Kingdom            43 non-null     float64\n",
      " 6   United States of America  43 non-null     float64\n",
      "dtypes: float64(7)\n",
      "memory usage: 2.7+ KB\n"
     ]
    }
   ],
   "source": [
    "clean.info()"
   ]
  },
  {
   "cell_type": "markdown",
   "id": "ec9b03b7",
   "metadata": {},
   "source": [
    "There are no missing values in the dataset. The data is already in the correct format for plotting, therefore no further transformations are needed."
   ]
  },
  {
   "cell_type": "code",
   "execution_count": 42,
   "id": "4cd6da50",
   "metadata": {},
   "outputs": [
    {
     "data": {
      "text/html": [
       "<div>\n",
       "<style scoped>\n",
       "    .dataframe tbody tr th:only-of-type {\n",
       "        vertical-align: middle;\n",
       "    }\n",
       "\n",
       "    .dataframe tbody tr th {\n",
       "        vertical-align: top;\n",
       "    }\n",
       "\n",
       "    .dataframe thead th {\n",
       "        text-align: right;\n",
       "    }\n",
       "</style>\n",
       "<table border=\"1\" class=\"dataframe\">\n",
       "  <thead>\n",
       "    <tr style=\"text-align: right;\">\n",
       "      <th>Area</th>\n",
       "      <th>China</th>\n",
       "      <th>France</th>\n",
       "      <th>Germany</th>\n",
       "      <th>Italy</th>\n",
       "      <th>Switzerland</th>\n",
       "      <th>United Kingdom</th>\n",
       "      <th>United States of America</th>\n",
       "    </tr>\n",
       "  </thead>\n",
       "  <tbody>\n",
       "    <tr>\n",
       "      <th>count</th>\n",
       "      <td>43.000000</td>\n",
       "      <td>43.000000</td>\n",
       "      <td>43.000000</td>\n",
       "      <td>43.000000</td>\n",
       "      <td>43.000000</td>\n",
       "      <td>43.000000</td>\n",
       "      <td>43.000000</td>\n",
       "    </tr>\n",
       "    <tr>\n",
       "      <th>mean</th>\n",
       "      <td>205.649302</td>\n",
       "      <td>38.790698</td>\n",
       "      <td>24.831163</td>\n",
       "      <td>8.933023</td>\n",
       "      <td>5.292326</td>\n",
       "      <td>12.373256</td>\n",
       "      <td>134.244419</td>\n",
       "    </tr>\n",
       "    <tr>\n",
       "      <th>std</th>\n",
       "      <td>33.761927</td>\n",
       "      <td>5.134162</td>\n",
       "      <td>2.776235</td>\n",
       "      <td>1.278492</td>\n",
       "      <td>0.708022</td>\n",
       "      <td>1.681343</td>\n",
       "      <td>8.694993</td>\n",
       "    </tr>\n",
       "    <tr>\n",
       "      <th>min</th>\n",
       "      <td>142.590000</td>\n",
       "      <td>28.110000</td>\n",
       "      <td>21.080000</td>\n",
       "      <td>7.080000</td>\n",
       "      <td>3.870000</td>\n",
       "      <td>8.950000</td>\n",
       "      <td>113.470000</td>\n",
       "    </tr>\n",
       "    <tr>\n",
       "      <th>25%</th>\n",
       "      <td>184.270000</td>\n",
       "      <td>35.345000</td>\n",
       "      <td>22.955000</td>\n",
       "      <td>8.000000</td>\n",
       "      <td>4.825000</td>\n",
       "      <td>11.025000</td>\n",
       "      <td>129.660000</td>\n",
       "    </tr>\n",
       "    <tr>\n",
       "      <th>50%</th>\n",
       "      <td>200.820000</td>\n",
       "      <td>37.760000</td>\n",
       "      <td>23.770000</td>\n",
       "      <td>8.570000</td>\n",
       "      <td>5.260000</td>\n",
       "      <td>12.430000</td>\n",
       "      <td>134.390000</td>\n",
       "    </tr>\n",
       "    <tr>\n",
       "      <th>75%</th>\n",
       "      <td>237.050000</td>\n",
       "      <td>42.545000</td>\n",
       "      <td>26.445000</td>\n",
       "      <td>9.675000</td>\n",
       "      <td>5.720000</td>\n",
       "      <td>13.325000</td>\n",
       "      <td>139.460000</td>\n",
       "    </tr>\n",
       "    <tr>\n",
       "      <th>max</th>\n",
       "      <td>272.900000</td>\n",
       "      <td>48.260000</td>\n",
       "      <td>32.410000</td>\n",
       "      <td>11.480000</td>\n",
       "      <td>7.390000</td>\n",
       "      <td>15.880000</td>\n",
       "      <td>152.950000</td>\n",
       "    </tr>\n",
       "  </tbody>\n",
       "</table>\n",
       "</div>"
      ],
      "text/plain": [
       "Area        China     France    Germany      Italy  Switzerland  \\\n",
       "count   43.000000  43.000000  43.000000  43.000000    43.000000   \n",
       "mean   205.649302  38.790698  24.831163   8.933023     5.292326   \n",
       "std     33.761927   5.134162   2.776235   1.278492     0.708022   \n",
       "min    142.590000  28.110000  21.080000   7.080000     3.870000   \n",
       "25%    184.270000  35.345000  22.955000   8.000000     4.825000   \n",
       "50%    200.820000  37.760000  23.770000   8.570000     5.260000   \n",
       "75%    237.050000  42.545000  26.445000   9.675000     5.720000   \n",
       "max    272.900000  48.260000  32.410000  11.480000     7.390000   \n",
       "\n",
       "Area   United Kingdom  United States of America  \n",
       "count       43.000000                 43.000000  \n",
       "mean        12.373256                134.244419  \n",
       "std          1.681343                  8.694993  \n",
       "min          8.950000                113.470000  \n",
       "25%         11.025000                129.660000  \n",
       "50%         12.430000                134.390000  \n",
       "75%         13.325000                139.460000  \n",
       "max         15.880000                152.950000  "
      ]
     },
     "execution_count": 42,
     "metadata": {},
     "output_type": "execute_result"
    }
   ],
   "source": [
    "clean.describe()"
   ]
  },
  {
   "cell_type": "code",
   "execution_count": 45,
   "id": "598ac334",
   "metadata": {},
   "outputs": [
    {
     "data": {
      "application/vnd.plotly.v1+json": {
       "config": {
        "plotlyServerURL": "https://plot.ly"
       },
       "data": [
        {
         "mode": "lines",
         "name": "China",
         "type": "scatter",
         "x": [
          "2018-10",
          "2018-11",
          "2018-12",
          "2019-01",
          "2019-02",
          "2019-03",
          "2019-04",
          "2019-05",
          "2019-06",
          "2019-07",
          "2019-08",
          "2019-09",
          "2019-10",
          "2019-11",
          "2019-12",
          "2020-01",
          "2020-02",
          "2020-03",
          "2020-04",
          "2020-05",
          "2020-06",
          "2020-07",
          "2020-08",
          "2020-09",
          "2020-10",
          "2020-11",
          "2020-12",
          "2021-01",
          "2021-02",
          "2021-03",
          "2021-04",
          "2021-05",
          "2021-06",
          "2021-07",
          "2021-08",
          "2021-09",
          "2021-10",
          "2021-11",
          "2021-12",
          "2022-01",
          "2022-02",
          "2022-03",
          "2022-04"
         ],
         "y": {
          "bdata": "SOF6FK7PZ0BI4XoUrv9kQLgehetRMGRArkfhehSWYkAUrkfhepRiQIXrUbgebWZAZmZmZmZ+ZkDD9ShcjxppQGZmZmZmHmlAUrgehesZbEBI4XoUrl9rQD0K16NwpWhAAAAAAACQaEDhehSuR2lmQLgehetRUGVA4XoUrkfZYUB7FK5H4dJhQOF6FK5HmWdAmpmZmZnpZkDsUbgehatoQD0K16Nw/WtAmpmZmZkxb0D2KFyPwrVuQArXo3A9qm1AKVyPwvWYbUDNzMzMzNRoQHE9CtejMGhASOF6FK4nZ0CF61G4Hi1nQD0K16NwHWlAFK5H4XpMakC4HoXrUfhtQClcj8L1eG5AZmZmZmYOcUB7FK5H4SJwQAAAAAAAAHBAPQrXo3DlbkBI4XoUri9sQJqZmZmZQWtACtejcD0aaUAK16NwPQppQJqZmZmZYW5AH4XrUbgub0A=",
          "dtype": "f8"
         }
        },
        {
         "mode": "lines",
         "name": "France",
         "type": "scatter",
         "x": [
          "2018-10",
          "2018-11",
          "2018-12",
          "2019-01",
          "2019-02",
          "2019-03",
          "2019-04",
          "2019-05",
          "2019-06",
          "2019-07",
          "2019-08",
          "2019-09",
          "2019-10",
          "2019-11",
          "2019-12",
          "2020-01",
          "2020-02",
          "2020-03",
          "2020-04",
          "2020-05",
          "2020-06",
          "2020-07",
          "2020-08",
          "2020-09",
          "2020-10",
          "2020-11",
          "2020-12",
          "2021-01",
          "2021-02",
          "2021-03",
          "2021-04",
          "2021-05",
          "2021-06",
          "2021-07",
          "2021-08",
          "2021-09",
          "2021-10",
          "2021-11",
          "2021-12",
          "2022-01",
          "2022-02",
          "2022-03",
          "2022-04"
         ],
         "y": {
          "bdata": "KVyPwvWoQkBI4XoUrqdDQK5H4XoUrkdA4XoUrkcBSEAUrkfhevRFQOxRuB6Fy0ZAexSuR+G6Q0AK16NwPSpEQHsUrkfhmkJA7FG4HoVLQkDXo3A9CjdBQAAAAAAA4EBAuB6F61E4QkApXI/C9UhDQClcj8L1iEZAH4XrUbi+R0ApXI/C9ahGQIXrUbgehUVAMzMzMzOTQUBxPQrXo5BBQFK4HoXrkT5A9ihcj8K1PkAAAAAAAMA9QFyPwvUoHDxA4XoUrkfhQkDD9Shcj8JDQHE9CtejMEZA4XoUrkchSEAAAAAAAMBEQGZmZmZmBkVAj8L1KFyvQUC4HoXrUVhDQB+F61G4PkJAXI/C9SjcQkCamZmZmXlCQD0K16NwnUFAexSuR+HaQkBI4XoUrodCQOF6FK5HYURAXI/C9SgcRkBcj8L1KJxDQClcj8L1qEFA7FG4HoUrP0A=",
          "dtype": "f8"
         }
        },
        {
         "mode": "lines",
         "name": "Germany",
         "type": "scatter",
         "x": [
          "2018-10",
          "2018-11",
          "2018-12",
          "2019-01",
          "2019-02",
          "2019-03",
          "2019-04",
          "2019-05",
          "2019-06",
          "2019-07",
          "2019-08",
          "2019-09",
          "2019-10",
          "2019-11",
          "2019-12",
          "2020-01",
          "2020-02",
          "2020-03",
          "2020-04",
          "2020-05",
          "2020-06",
          "2020-07",
          "2020-08",
          "2020-09",
          "2020-10",
          "2020-11",
          "2020-12",
          "2021-01",
          "2021-02",
          "2021-03",
          "2021-04",
          "2021-05",
          "2021-06",
          "2021-07",
          "2021-08",
          "2021-09",
          "2021-10",
          "2021-11",
          "2021-12",
          "2022-01",
          "2022-02",
          "2022-03",
          "2022-04"
         ],
         "y": {
          "bdata": "16NwPQqXOEBcj8L1KJw2QM3MzMzMzDtAXI/C9SicO0CamZmZmRk4QM3MzMzMzD9AexSuR+E6OUCamZmZmZk3QDMzMzMzMzdAXI/C9SgcN0C4HoXrUfg1QIXrUbgexTdAAAAAAAAAOkBcj8L1KJw2QFyPwvUo3DtAPQrXo3D9O0AUrkfhejRAQAAAAAAAgD1AzczMzMwMOUBmZmZmZqY3QOxRuB6FKzZAAAAAAAAAN0ApXI/C9eg2QArXo3A9SjVACtejcD2KOkAUrkfhepQ2QEjhehSuRzdAhetRuB4FN0BmZmZmZqY3QK5H4XoUbjpAKVyPwvUoOUB7FK5H4fo6QFK4HoXrETZApHA9CtdjN0BI4XoUrsc4QBSuR+F6FDVA9ihcj8J1OkCamZmZmZk1QLgehetRuDdA4XoUrkdhOUCamZmZmZk+QEjhehSuxzVAKVyPwvVoOUA=",
          "dtype": "f8"
         }
        },
        {
         "mode": "lines",
         "name": "Italy",
         "type": "scatter",
         "x": [
          "2018-10",
          "2018-11",
          "2018-12",
          "2019-01",
          "2019-02",
          "2019-03",
          "2019-04",
          "2019-05",
          "2019-06",
          "2019-07",
          "2019-08",
          "2019-09",
          "2019-10",
          "2019-11",
          "2019-12",
          "2020-01",
          "2020-02",
          "2020-03",
          "2020-04",
          "2020-05",
          "2020-06",
          "2020-07",
          "2020-08",
          "2020-09",
          "2020-10",
          "2020-11",
          "2020-12",
          "2021-01",
          "2021-02",
          "2021-03",
          "2021-04",
          "2021-05",
          "2021-06",
          "2021-07",
          "2021-08",
          "2021-09",
          "2021-10",
          "2021-11",
          "2021-12",
          "2022-01",
          "2022-02",
          "2022-03",
          "2022-04"
         ],
         "y": {
          "bdata": "rkfhehSuHUBmZmZmZmYgQHsUrkfheh9AmpmZmZmZH0AfhetRuB4gQNejcD0KVyFAj8L1KFwPIUBcj8L1KFwkQPYoXI/CdSZAMzMzMzMzJkAK16NwPQojQFyPwvUo3CBAXI/C9ShcHUD2KFyPwnUiQBSuR+F6lCJAuB6F61E4IECuR+F6FK4gQJqZmZmZmSBA7FG4HoVrIkD2KFyPwvUmQMP1KFyPwiZAzczMzMzMJEApXI/C9agjQClcj8L1KCJAXI/C9ShcIkD2KFyPwvUcQI/C9ShcDyBACtejcD0KIkA9CtejcD0gQKRwPQrXIyJA7FG4HoVrIUBxPQrXo/AlQClcj8L1qCVA7FG4HoXrJUDhehSuR+EkQFK4HoXrUR9A4XoUrkfhH0BSuB6F61EcQMP1KFyPwiBArkfhehSuH0Bcj8L1KFwcQHE9CtejcB5ApHA9CtcjIUA=",
          "dtype": "f8"
         }
        },
        {
         "mode": "lines",
         "name": "Switzerland",
         "type": "scatter",
         "x": [
          "2018-10",
          "2018-11",
          "2018-12",
          "2019-01",
          "2019-02",
          "2019-03",
          "2019-04",
          "2019-05",
          "2019-06",
          "2019-07",
          "2019-08",
          "2019-09",
          "2019-10",
          "2019-11",
          "2019-12",
          "2020-01",
          "2020-02",
          "2020-03",
          "2020-04",
          "2020-05",
          "2020-06",
          "2020-07",
          "2020-08",
          "2020-09",
          "2020-10",
          "2020-11",
          "2020-12",
          "2021-01",
          "2021-02",
          "2021-03",
          "2021-04",
          "2021-05",
          "2021-06",
          "2021-07",
          "2021-08",
          "2021-09",
          "2021-10",
          "2021-11",
          "2021-12",
          "2022-01",
          "2022-02",
          "2022-03",
          "2022-04"
         ],
         "y": {
          "bdata": "FK5H4XoUEUDsUbgehesTQArXo3A9ChVAPQrXo3A9FkAAAAAAAAASQDMzMzMzMxNAcT0K16NwFECPwvUoXI8VQNejcD0K1xdAj8L1KFyPHUD2KFyPwvUbQM3MzMzMzBVAj8L1KFyPF0CuR+F6FK4WQNejcD0K1xVAZmZmZmZmFkAAAAAAAAAUQJqZmZmZmRVA4XoUrkfhE0BmZmZmZmYXQJqZmZmZmRdAw/UoXI/CF0AfhetRuB4XQM3MzMzMzBZA9ihcj8L1FkAK16NwPQoVQB+F61G4HhRA9ihcj8L1FUBmZmZmZmYTQEjhehSuRxRAuB6F61G4EkBxPQrXo3AUQM3MzMzMzBZAMzMzMzMzGUAfhetRuB4XQMP1KFyPwhFA9ihcj8L1DkDD9Shcj8IQQBSuR+F6FBNACtejcD0KFECkcD0K16MQQArXo3A9ChJAKVyPwvUoE0A=",
          "dtype": "f8"
         }
        },
        {
         "mode": "lines",
         "name": "United Kingdom",
         "type": "scatter",
         "x": [
          "2018-10",
          "2018-11",
          "2018-12",
          "2019-01",
          "2019-02",
          "2019-03",
          "2019-04",
          "2019-05",
          "2019-06",
          "2019-07",
          "2019-08",
          "2019-09",
          "2019-10",
          "2019-11",
          "2019-12",
          "2020-01",
          "2020-02",
          "2020-03",
          "2020-04",
          "2020-05",
          "2020-06",
          "2020-07",
          "2020-08",
          "2020-09",
          "2020-10",
          "2020-11",
          "2020-12",
          "2021-01",
          "2021-02",
          "2021-03",
          "2021-04",
          "2021-05",
          "2021-06",
          "2021-07",
          "2021-08",
          "2021-09",
          "2021-10",
          "2021-11",
          "2021-12",
          "2022-01",
          "2022-02",
          "2022-03",
          "2022-04"
         ],
         "y": {
          "bdata": "zczMzMxMKUC4HoXrUTgqQClcj8L1KCpAhetRuB4FKEBmZmZmZuYnQK5H4XoULitAj8L1KFyPJ0ApXI/C9aglQFK4HoXrUSRASOF6FK7HJEAzMzMzM7MoQFyPwvUo3ChAZmZmZmZmKkDNzMzMzMwoQEjhehSuxy1Aw/UoXI/CL0DsUbgehWsvQLgehetROCxAhetRuB4FJ0AfhetRuB4oQOF6FK5H4SVAUrgehetRJ0AUrkfhepQkQLgehetROCZArkfhehQuK0C4HoXrUTgqQClcj8L1KCxAcT0K16NwKUCamZmZmRkqQPYoXI/C9SlA4XoUrkfhJEAfhetRuJ4lQArXo3A9iiRAZmZmZmbmIUDsUbgehWsjQClcj8L1qCJAhetRuB6FKkBI4XoUrscqQJqZmZmZGStAMzMzMzMzLEApXI/C9SgvQGZmZmZm5ilArkfhehQuKEA=",
          "dtype": "f8"
         }
        },
        {
         "mode": "lines",
         "name": "United States of America",
         "type": "scatter",
         "x": [
          "2018-10",
          "2018-11",
          "2018-12",
          "2019-01",
          "2019-02",
          "2019-03",
          "2019-04",
          "2019-05",
          "2019-06",
          "2019-07",
          "2019-08",
          "2019-09",
          "2019-10",
          "2019-11",
          "2019-12",
          "2020-01",
          "2020-02",
          "2020-03",
          "2020-04",
          "2020-05",
          "2020-06",
          "2020-07",
          "2020-08",
          "2020-09",
          "2020-10",
          "2020-11",
          "2020-12",
          "2021-01",
          "2021-02",
          "2021-03",
          "2021-04",
          "2021-05",
          "2021-06",
          "2021-07",
          "2021-08",
          "2021-09",
          "2021-10",
          "2021-11",
          "2021-12",
          "2022-01",
          "2022-02",
          "2022-03",
          "2022-04"
         ],
         "y": {
          "bdata": "rkfhehReXEAfhetRuO5dQLgehetRQGBArkfhehTWYEAfhetRuG5eQArXo3A9gmBAAAAAAACgYEAzMzMzM6thQClcj8L1GGFAXI/C9SgkYUDNzMzMzIRgQB+F61G4Ll9AAAAAAACgXkDNzMzMzFxeQJqZmZmZkWBAcT0K16NwYUCkcD0K19tgQJqZmZmZoWBASOF6FK4vYEBSuB6F68lhQArXo3A9EmJAzczMzMxsYUCPwvUoXMdgQNejcD0KF19A4XoUrkexXkDD9ShcjzpgQFyPwvUoHGFA7FG4HoWTYUC4HoXrURhfQI/C9Shc72FAhetRuB61YEAzMzMzM/NhQBSuR+F6ZGFA7FG4HoXzYEBcj8L1KGxhQIXrUbgedWBAPQrXo3CNX0AUrkfhesxgQOxRuB6Fo2JAMzMzMzOjYkC4HoXrUVhhQGZmZmZmHmNAMzMzMzM7YkA=",
          "dtype": "f8"
         }
        }
       ],
       "layout": {
        "legend": {
         "title": {
          "text": "Countries"
         }
        },
        "template": {
         "data": {
          "bar": [
           {
            "error_x": {
             "color": "#2a3f5f"
            },
            "error_y": {
             "color": "#2a3f5f"
            },
            "marker": {
             "line": {
              "color": "#E5ECF6",
              "width": 0.5
             },
             "pattern": {
              "fillmode": "overlay",
              "size": 10,
              "solidity": 0.2
             }
            },
            "type": "bar"
           }
          ],
          "barpolar": [
           {
            "marker": {
             "line": {
              "color": "#E5ECF6",
              "width": 0.5
             },
             "pattern": {
              "fillmode": "overlay",
              "size": 10,
              "solidity": 0.2
             }
            },
            "type": "barpolar"
           }
          ],
          "carpet": [
           {
            "aaxis": {
             "endlinecolor": "#2a3f5f",
             "gridcolor": "white",
             "linecolor": "white",
             "minorgridcolor": "white",
             "startlinecolor": "#2a3f5f"
            },
            "baxis": {
             "endlinecolor": "#2a3f5f",
             "gridcolor": "white",
             "linecolor": "white",
             "minorgridcolor": "white",
             "startlinecolor": "#2a3f5f"
            },
            "type": "carpet"
           }
          ],
          "choropleth": [
           {
            "colorbar": {
             "outlinewidth": 0,
             "ticks": ""
            },
            "type": "choropleth"
           }
          ],
          "contour": [
           {
            "colorbar": {
             "outlinewidth": 0,
             "ticks": ""
            },
            "colorscale": [
             [
              0,
              "#0d0887"
             ],
             [
              0.1111111111111111,
              "#46039f"
             ],
             [
              0.2222222222222222,
              "#7201a8"
             ],
             [
              0.3333333333333333,
              "#9c179e"
             ],
             [
              0.4444444444444444,
              "#bd3786"
             ],
             [
              0.5555555555555556,
              "#d8576b"
             ],
             [
              0.6666666666666666,
              "#ed7953"
             ],
             [
              0.7777777777777778,
              "#fb9f3a"
             ],
             [
              0.8888888888888888,
              "#fdca26"
             ],
             [
              1,
              "#f0f921"
             ]
            ],
            "type": "contour"
           }
          ],
          "contourcarpet": [
           {
            "colorbar": {
             "outlinewidth": 0,
             "ticks": ""
            },
            "type": "contourcarpet"
           }
          ],
          "heatmap": [
           {
            "colorbar": {
             "outlinewidth": 0,
             "ticks": ""
            },
            "colorscale": [
             [
              0,
              "#0d0887"
             ],
             [
              0.1111111111111111,
              "#46039f"
             ],
             [
              0.2222222222222222,
              "#7201a8"
             ],
             [
              0.3333333333333333,
              "#9c179e"
             ],
             [
              0.4444444444444444,
              "#bd3786"
             ],
             [
              0.5555555555555556,
              "#d8576b"
             ],
             [
              0.6666666666666666,
              "#ed7953"
             ],
             [
              0.7777777777777778,
              "#fb9f3a"
             ],
             [
              0.8888888888888888,
              "#fdca26"
             ],
             [
              1,
              "#f0f921"
             ]
            ],
            "type": "heatmap"
           }
          ],
          "histogram": [
           {
            "marker": {
             "pattern": {
              "fillmode": "overlay",
              "size": 10,
              "solidity": 0.2
             }
            },
            "type": "histogram"
           }
          ],
          "histogram2d": [
           {
            "colorbar": {
             "outlinewidth": 0,
             "ticks": ""
            },
            "colorscale": [
             [
              0,
              "#0d0887"
             ],
             [
              0.1111111111111111,
              "#46039f"
             ],
             [
              0.2222222222222222,
              "#7201a8"
             ],
             [
              0.3333333333333333,
              "#9c179e"
             ],
             [
              0.4444444444444444,
              "#bd3786"
             ],
             [
              0.5555555555555556,
              "#d8576b"
             ],
             [
              0.6666666666666666,
              "#ed7953"
             ],
             [
              0.7777777777777778,
              "#fb9f3a"
             ],
             [
              0.8888888888888888,
              "#fdca26"
             ],
             [
              1,
              "#f0f921"
             ]
            ],
            "type": "histogram2d"
           }
          ],
          "histogram2dcontour": [
           {
            "colorbar": {
             "outlinewidth": 0,
             "ticks": ""
            },
            "colorscale": [
             [
              0,
              "#0d0887"
             ],
             [
              0.1111111111111111,
              "#46039f"
             ],
             [
              0.2222222222222222,
              "#7201a8"
             ],
             [
              0.3333333333333333,
              "#9c179e"
             ],
             [
              0.4444444444444444,
              "#bd3786"
             ],
             [
              0.5555555555555556,
              "#d8576b"
             ],
             [
              0.6666666666666666,
              "#ed7953"
             ],
             [
              0.7777777777777778,
              "#fb9f3a"
             ],
             [
              0.8888888888888888,
              "#fdca26"
             ],
             [
              1,
              "#f0f921"
             ]
            ],
            "type": "histogram2dcontour"
           }
          ],
          "mesh3d": [
           {
            "colorbar": {
             "outlinewidth": 0,
             "ticks": ""
            },
            "type": "mesh3d"
           }
          ],
          "parcoords": [
           {
            "line": {
             "colorbar": {
              "outlinewidth": 0,
              "ticks": ""
             }
            },
            "type": "parcoords"
           }
          ],
          "pie": [
           {
            "automargin": true,
            "type": "pie"
           }
          ],
          "scatter": [
           {
            "fillpattern": {
             "fillmode": "overlay",
             "size": 10,
             "solidity": 0.2
            },
            "type": "scatter"
           }
          ],
          "scatter3d": [
           {
            "line": {
             "colorbar": {
              "outlinewidth": 0,
              "ticks": ""
             }
            },
            "marker": {
             "colorbar": {
              "outlinewidth": 0,
              "ticks": ""
             }
            },
            "type": "scatter3d"
           }
          ],
          "scattercarpet": [
           {
            "marker": {
             "colorbar": {
              "outlinewidth": 0,
              "ticks": ""
             }
            },
            "type": "scattercarpet"
           }
          ],
          "scattergeo": [
           {
            "marker": {
             "colorbar": {
              "outlinewidth": 0,
              "ticks": ""
             }
            },
            "type": "scattergeo"
           }
          ],
          "scattergl": [
           {
            "marker": {
             "colorbar": {
              "outlinewidth": 0,
              "ticks": ""
             }
            },
            "type": "scattergl"
           }
          ],
          "scattermap": [
           {
            "marker": {
             "colorbar": {
              "outlinewidth": 0,
              "ticks": ""
             }
            },
            "type": "scattermap"
           }
          ],
          "scattermapbox": [
           {
            "marker": {
             "colorbar": {
              "outlinewidth": 0,
              "ticks": ""
             }
            },
            "type": "scattermapbox"
           }
          ],
          "scatterpolar": [
           {
            "marker": {
             "colorbar": {
              "outlinewidth": 0,
              "ticks": ""
             }
            },
            "type": "scatterpolar"
           }
          ],
          "scatterpolargl": [
           {
            "marker": {
             "colorbar": {
              "outlinewidth": 0,
              "ticks": ""
             }
            },
            "type": "scatterpolargl"
           }
          ],
          "scatterternary": [
           {
            "marker": {
             "colorbar": {
              "outlinewidth": 0,
              "ticks": ""
             }
            },
            "type": "scatterternary"
           }
          ],
          "surface": [
           {
            "colorbar": {
             "outlinewidth": 0,
             "ticks": ""
            },
            "colorscale": [
             [
              0,
              "#0d0887"
             ],
             [
              0.1111111111111111,
              "#46039f"
             ],
             [
              0.2222222222222222,
              "#7201a8"
             ],
             [
              0.3333333333333333,
              "#9c179e"
             ],
             [
              0.4444444444444444,
              "#bd3786"
             ],
             [
              0.5555555555555556,
              "#d8576b"
             ],
             [
              0.6666666666666666,
              "#ed7953"
             ],
             [
              0.7777777777777778,
              "#fb9f3a"
             ],
             [
              0.8888888888888888,
              "#fdca26"
             ],
             [
              1,
              "#f0f921"
             ]
            ],
            "type": "surface"
           }
          ],
          "table": [
           {
            "cells": {
             "fill": {
              "color": "#EBF0F8"
             },
             "line": {
              "color": "white"
             }
            },
            "header": {
             "fill": {
              "color": "#C8D4E3"
             },
             "line": {
              "color": "white"
             }
            },
            "type": "table"
           }
          ]
         },
         "layout": {
          "annotationdefaults": {
           "arrowcolor": "#2a3f5f",
           "arrowhead": 0,
           "arrowwidth": 1
          },
          "autotypenumbers": "strict",
          "coloraxis": {
           "colorbar": {
            "outlinewidth": 0,
            "ticks": ""
           }
          },
          "colorscale": {
           "diverging": [
            [
             0,
             "#8e0152"
            ],
            [
             0.1,
             "#c51b7d"
            ],
            [
             0.2,
             "#de77ae"
            ],
            [
             0.3,
             "#f1b6da"
            ],
            [
             0.4,
             "#fde0ef"
            ],
            [
             0.5,
             "#f7f7f7"
            ],
            [
             0.6,
             "#e6f5d0"
            ],
            [
             0.7,
             "#b8e186"
            ],
            [
             0.8,
             "#7fbc41"
            ],
            [
             0.9,
             "#4d9221"
            ],
            [
             1,
             "#276419"
            ]
           ],
           "sequential": [
            [
             0,
             "#0d0887"
            ],
            [
             0.1111111111111111,
             "#46039f"
            ],
            [
             0.2222222222222222,
             "#7201a8"
            ],
            [
             0.3333333333333333,
             "#9c179e"
            ],
            [
             0.4444444444444444,
             "#bd3786"
            ],
            [
             0.5555555555555556,
             "#d8576b"
            ],
            [
             0.6666666666666666,
             "#ed7953"
            ],
            [
             0.7777777777777778,
             "#fb9f3a"
            ],
            [
             0.8888888888888888,
             "#fdca26"
            ],
            [
             1,
             "#f0f921"
            ]
           ],
           "sequentialminus": [
            [
             0,
             "#0d0887"
            ],
            [
             0.1111111111111111,
             "#46039f"
            ],
            [
             0.2222222222222222,
             "#7201a8"
            ],
            [
             0.3333333333333333,
             "#9c179e"
            ],
            [
             0.4444444444444444,
             "#bd3786"
            ],
            [
             0.5555555555555556,
             "#d8576b"
            ],
            [
             0.6666666666666666,
             "#ed7953"
            ],
            [
             0.7777777777777778,
             "#fb9f3a"
            ],
            [
             0.8888888888888888,
             "#fdca26"
            ],
            [
             1,
             "#f0f921"
            ]
           ]
          },
          "colorway": [
           "#636efa",
           "#EF553B",
           "#00cc96",
           "#ab63fa",
           "#FFA15A",
           "#19d3f3",
           "#FF6692",
           "#B6E880",
           "#FF97FF",
           "#FECB52"
          ],
          "font": {
           "color": "#2a3f5f"
          },
          "geo": {
           "bgcolor": "white",
           "lakecolor": "white",
           "landcolor": "#E5ECF6",
           "showlakes": true,
           "showland": true,
           "subunitcolor": "white"
          },
          "hoverlabel": {
           "align": "left"
          },
          "hovermode": "closest",
          "mapbox": {
           "style": "light"
          },
          "paper_bgcolor": "white",
          "plot_bgcolor": "#E5ECF6",
          "polar": {
           "angularaxis": {
            "gridcolor": "white",
            "linecolor": "white",
            "ticks": ""
           },
           "bgcolor": "#E5ECF6",
           "radialaxis": {
            "gridcolor": "white",
            "linecolor": "white",
            "ticks": ""
           }
          },
          "scene": {
           "xaxis": {
            "backgroundcolor": "#E5ECF6",
            "gridcolor": "white",
            "gridwidth": 2,
            "linecolor": "white",
            "showbackground": true,
            "ticks": "",
            "zerolinecolor": "white"
           },
           "yaxis": {
            "backgroundcolor": "#E5ECF6",
            "gridcolor": "white",
            "gridwidth": 2,
            "linecolor": "white",
            "showbackground": true,
            "ticks": "",
            "zerolinecolor": "white"
           },
           "zaxis": {
            "backgroundcolor": "#E5ECF6",
            "gridcolor": "white",
            "gridwidth": 2,
            "linecolor": "white",
            "showbackground": true,
            "ticks": "",
            "zerolinecolor": "white"
           }
          },
          "shapedefaults": {
           "line": {
            "color": "#2a3f5f"
           }
          },
          "ternary": {
           "aaxis": {
            "gridcolor": "white",
            "linecolor": "white",
            "ticks": ""
           },
           "baxis": {
            "gridcolor": "white",
            "linecolor": "white",
            "ticks": ""
           },
           "bgcolor": "#E5ECF6",
           "caxis": {
            "gridcolor": "white",
            "linecolor": "white",
            "ticks": ""
           }
          },
          "title": {
           "x": 0.05
          },
          "xaxis": {
           "automargin": true,
           "gridcolor": "white",
           "linecolor": "white",
           "ticks": "",
           "title": {
            "standoff": 15
           },
           "zerolinecolor": "white",
           "zerolinewidth": 2
          },
          "yaxis": {
           "automargin": true,
           "gridcolor": "white",
           "linecolor": "white",
           "ticks": "",
           "title": {
            "standoff": 15
           },
           "zerolinecolor": "white",
           "zerolinewidth": 2
          }
         }
        },
        "title": {
         "text": "Clean Energy Generation Across Countries"
        },
        "xaxis": {
         "title": {
          "text": "Date"
         }
        },
        "yaxis": {
         "title": {
          "text": "TWh"
         }
        }
       }
      }
     },
     "metadata": {},
     "output_type": "display_data"
    }
   ],
   "source": [
    "fig = go.Figure()\n",
    "for country in clean.columns:\n",
    "    non_zero = clean[country]\n",
    "    non_zero = non_zero[non_zero != 0]\n",
    "    fig.add_trace(go.Scatter(x=non_zero.index, \n",
    "                             y=non_zero, \n",
    "                             mode='lines', \n",
    "                             name=country))\n",
    "fig.update_layout(\n",
    "    title=\"Clean Energy Generation Across Countries\",\n",
    "    xaxis_title=\"Date\",\n",
    "    yaxis_title=\"TWh\",\n",
    "    legend_title=\"Countries\"\n",
    ")\n",
    "\n",
    "fig.show()\n"
   ]
  },
  {
   "cell_type": "markdown",
   "id": "1b6f2863",
   "metadata": {},
   "source": [
    "China is the country that most generates clean energy, followed closely by the United States, with both countries producing more than 100 terawatt-hours (TWh) of clean electricity per month. The United States experiences relatively stable clean energy production, fluctuating between 100 and 150 TWh per month. In contrast, China exhibits more pronounced fluctuations, with monthly generation sometimes exceeding 250 TWh.\n",
    "In China we can see a seasonal pattern and that is energy generation consistently increases after February, peaking in July before gradually declining.\n",
    "\n",
    "Most countries generate significantly less than 50 TWh of clean electricity per month. Switzerland, in particular, produces the least, likely due to its smaller geographic size and energy demand."
   ]
  },
  {
   "cell_type": "markdown",
   "id": "d862b3be",
   "metadata": {},
   "source": [
    "### Fossil"
   ]
  },
  {
   "cell_type": "markdown",
   "id": "c826e129",
   "metadata": {},
   "source": [
    "This dataset includes energy generation data from coal, gas and other fossils. This data is also in TWh."
   ]
  },
  {
   "cell_type": "code",
   "execution_count": 46,
   "id": "179e507f",
   "metadata": {},
   "outputs": [
    {
     "name": "stdout",
     "output_type": "stream",
     "text": [
      "<class 'pandas.core.frame.DataFrame'>\n",
      "Index: 43 entries, 2018-10 to 2022-04\n",
      "Data columns (total 7 columns):\n",
      " #   Column                    Non-Null Count  Dtype  \n",
      "---  ------                    --------------  -----  \n",
      " 0   China                     43 non-null     float64\n",
      " 1   France                    43 non-null     float64\n",
      " 2   Germany                   43 non-null     float64\n",
      " 3   Italy                     43 non-null     float64\n",
      " 4   Switzerland               43 non-null     float64\n",
      " 5   United Kingdom            43 non-null     float64\n",
      " 6   United States of America  43 non-null     float64\n",
      "dtypes: float64(7)\n",
      "memory usage: 2.7+ KB\n"
     ]
    }
   ],
   "source": [
    "fossil.info()"
   ]
  },
  {
   "cell_type": "markdown",
   "id": "5164cc9d",
   "metadata": {},
   "source": [
    "There are no missing values in the dataset. The data is already in the correct format for plotting, therefore no further transformations are needed."
   ]
  },
  {
   "cell_type": "code",
   "execution_count": 39,
   "id": "a85c978d",
   "metadata": {},
   "outputs": [
    {
     "data": {
      "text/html": [
       "<div>\n",
       "<style scoped>\n",
       "    .dataframe tbody tr th:only-of-type {\n",
       "        vertical-align: middle;\n",
       "    }\n",
       "\n",
       "    .dataframe tbody tr th {\n",
       "        vertical-align: top;\n",
       "    }\n",
       "\n",
       "    .dataframe thead th {\n",
       "        text-align: right;\n",
       "    }\n",
       "</style>\n",
       "<table border=\"1\" class=\"dataframe\">\n",
       "  <thead>\n",
       "    <tr style=\"text-align: right;\">\n",
       "      <th>Area</th>\n",
       "      <th>China</th>\n",
       "      <th>France</th>\n",
       "      <th>Germany</th>\n",
       "      <th>Italy</th>\n",
       "      <th>Switzerland</th>\n",
       "      <th>United Kingdom</th>\n",
       "      <th>United States of America</th>\n",
       "    </tr>\n",
       "  </thead>\n",
       "  <tbody>\n",
       "    <tr>\n",
       "      <th>count</th>\n",
       "      <td>43.000000</td>\n",
       "      <td>43.000000</td>\n",
       "      <td>43.000000</td>\n",
       "      <td>43.000000</td>\n",
       "      <td>43.000000</td>\n",
       "      <td>43.000000</td>\n",
       "      <td>43.000000</td>\n",
       "    </tr>\n",
       "    <tr>\n",
       "      <th>mean</th>\n",
       "      <td>441.087674</td>\n",
       "      <td>3.613953</td>\n",
       "      <td>22.092326</td>\n",
       "      <td>13.150000</td>\n",
       "      <td>0.304884</td>\n",
       "      <td>9.469302</td>\n",
       "      <td>207.438372</td>\n",
       "    </tr>\n",
       "    <tr>\n",
       "      <th>std</th>\n",
       "      <td>45.718431</td>\n",
       "      <td>1.529445</td>\n",
       "      <td>4.049948</td>\n",
       "      <td>1.980089</td>\n",
       "      <td>0.014860</td>\n",
       "      <td>1.769367</td>\n",
       "      <td>33.545170</td>\n",
       "    </tr>\n",
       "    <tr>\n",
       "      <th>min</th>\n",
       "      <td>368.150000</td>\n",
       "      <td>0.740000</td>\n",
       "      <td>13.580000</td>\n",
       "      <td>8.940000</td>\n",
       "      <td>0.280000</td>\n",
       "      <td>5.600000</td>\n",
       "      <td>153.480000</td>\n",
       "    </tr>\n",
       "    <tr>\n",
       "      <th>25%</th>\n",
       "      <td>404.175000</td>\n",
       "      <td>2.465000</td>\n",
       "      <td>19.350000</td>\n",
       "      <td>11.635000</td>\n",
       "      <td>0.300000</td>\n",
       "      <td>8.480000</td>\n",
       "      <td>184.765000</td>\n",
       "    </tr>\n",
       "    <tr>\n",
       "      <th>50%</th>\n",
       "      <td>441.340000</td>\n",
       "      <td>3.390000</td>\n",
       "      <td>21.430000</td>\n",
       "      <td>13.480000</td>\n",
       "      <td>0.300000</td>\n",
       "      <td>9.570000</td>\n",
       "      <td>201.980000</td>\n",
       "    </tr>\n",
       "    <tr>\n",
       "      <th>75%</th>\n",
       "      <td>469.970000</td>\n",
       "      <td>4.740000</td>\n",
       "      <td>25.500000</td>\n",
       "      <td>14.380000</td>\n",
       "      <td>0.320000</td>\n",
       "      <td>10.315000</td>\n",
       "      <td>219.725000</td>\n",
       "    </tr>\n",
       "    <tr>\n",
       "      <th>max</th>\n",
       "      <td>557.020000</td>\n",
       "      <td>6.290000</td>\n",
       "      <td>29.520000</td>\n",
       "      <td>17.370000</td>\n",
       "      <td>0.330000</td>\n",
       "      <td>15.130000</td>\n",
       "      <td>277.840000</td>\n",
       "    </tr>\n",
       "  </tbody>\n",
       "</table>\n",
       "</div>"
      ],
      "text/plain": [
       "Area        China     France    Germany      Italy  Switzerland  \\\n",
       "count   43.000000  43.000000  43.000000  43.000000    43.000000   \n",
       "mean   441.087674   3.613953  22.092326  13.150000     0.304884   \n",
       "std     45.718431   1.529445   4.049948   1.980089     0.014860   \n",
       "min    368.150000   0.740000  13.580000   8.940000     0.280000   \n",
       "25%    404.175000   2.465000  19.350000  11.635000     0.300000   \n",
       "50%    441.340000   3.390000  21.430000  13.480000     0.300000   \n",
       "75%    469.970000   4.740000  25.500000  14.380000     0.320000   \n",
       "max    557.020000   6.290000  29.520000  17.370000     0.330000   \n",
       "\n",
       "Area   United Kingdom  United States of America  \n",
       "count       43.000000                 43.000000  \n",
       "mean         9.469302                207.438372  \n",
       "std          1.769367                 33.545170  \n",
       "min          5.600000                153.480000  \n",
       "25%          8.480000                184.765000  \n",
       "50%          9.570000                201.980000  \n",
       "75%         10.315000                219.725000  \n",
       "max         15.130000                277.840000  "
      ]
     },
     "execution_count": 39,
     "metadata": {},
     "output_type": "execute_result"
    }
   ],
   "source": [
    "fossil.describe()"
   ]
  },
  {
   "cell_type": "code",
   "execution_count": 47,
   "id": "85ed01ec",
   "metadata": {},
   "outputs": [
    {
     "data": {
      "application/vnd.plotly.v1+json": {
       "config": {
        "plotlyServerURL": "https://plot.ly"
       },
       "data": [
        {
         "mode": "lines",
         "name": "China",
         "type": "scatter",
         "x": [
          "2018-10",
          "2018-11",
          "2018-12",
          "2019-01",
          "2019-02",
          "2019-03",
          "2019-04",
          "2019-05",
          "2019-06",
          "2019-07",
          "2019-08",
          "2019-09",
          "2019-10",
          "2019-11",
          "2019-12",
          "2020-01",
          "2020-02",
          "2020-03",
          "2020-04",
          "2020-05",
          "2020-06",
          "2020-07",
          "2020-08",
          "2020-09",
          "2020-10",
          "2020-11",
          "2020-12",
          "2021-01",
          "2021-02",
          "2021-03",
          "2021-04",
          "2021-05",
          "2021-06",
          "2021-07",
          "2021-08",
          "2021-09",
          "2021-10",
          "2021-11",
          "2021-12",
          "2022-01",
          "2022-02",
          "2022-03",
          "2022-04"
         ],
         "y": {
          "bdata": "ZmZmZmYCd0AK16NwPW55QGZmZmZm/n1APQrXo3A1ekA9CtejcDV6QLgehetRwHlAcT0K16MMeEAAAAAAAMR3QI/C9ShcF3lAPQrXo3BVfECuR+F6FFJ9QLgehetRyHlAzczMzMzIeEBmZmZmZvp6QJqZmZmZoX9ACtejcD0qeEAK16NwPSp4QDMzMzMzA3hAXI/C9Sh4eEB7FK5H4QJ6QAAAAAAApHpA4XoUrkdVfEDNzMzMzGR/QD0K16NwEXpAexSuR+GyeEAUrkfhegh9QFyPwvUoaIFAH4XrUbi6fEAfhetRuLp8QEjhehSuM35Aj8L1KFybe0A9CtejcJV7QClcj8L1bH1AUrgehesJgEAfhetRuLJ/QIXrUbgetXtA7FG4HoU3ekBcj8L1KHx8QGZmZmZmpIBAw/UoXI9CfkDD9Shcj0J+QJqZmZmZlXxA9ihcj8JteEA=",
          "dtype": "f8"
         }
        },
        {
         "mode": "lines",
         "name": "France",
         "type": "scatter",
         "x": [
          "2018-10",
          "2018-11",
          "2018-12",
          "2019-01",
          "2019-02",
          "2019-03",
          "2019-04",
          "2019-05",
          "2019-06",
          "2019-07",
          "2019-08",
          "2019-09",
          "2019-10",
          "2019-11",
          "2019-12",
          "2020-01",
          "2020-02",
          "2020-03",
          "2020-04",
          "2020-05",
          "2020-06",
          "2020-07",
          "2020-08",
          "2020-09",
          "2020-10",
          "2020-11",
          "2020-12",
          "2021-01",
          "2021-02",
          "2021-03",
          "2021-04",
          "2021-05",
          "2021-06",
          "2021-07",
          "2021-08",
          "2021-09",
          "2021-10",
          "2021-11",
          "2021-12",
          "2022-01",
          "2022-02",
          "2022-03",
          "2022-04"
         ],
         "y": {
          "bdata": "uB6F61G4DkDsUbgehesVQClcj8L1KBJAFK5H4XoUGUBmZmZmZmYTQEjhehSuRwtAZmZmZmZmAkAfhetRuB4BQDMzMzMzM/8/ZmZmZmZmCEA9CtejcD0CQAAAAAAAAAhAzczMzMzMCkAfhetRuB4XQPYoXI/C9RFAcT0K16NwFkDXo3A9CtcPQBSuR+F6FA5ArkfhehSu5z+4HoXrUbj2Px+F61G4HgVAcT0K16NwB0BSuB6F61EGQI/C9ShcjwhACtejcD0KBUCF61G4HoUSQDMzMzMzMxRArkfhehSuF0A9CtejcD0RQFyPwvUoXBFAMzMzMzMzCUCPwvUoXI/2PwrXo3A9Cvs/16NwPQrX+z9I4XoUrkfxP1K4HoXrUQJAXI/C9ShcBUApXI/C9SgXQFyPwvUoXBZAKVyPwvUoGUBmZmZmZmYSQKRwPQrXoxRAH4XrUbgeC0A=",
          "dtype": "f8"
         }
        },
        {
         "mode": "lines",
         "name": "Germany",
         "type": "scatter",
         "x": [
          "2018-10",
          "2018-11",
          "2018-12",
          "2019-01",
          "2019-02",
          "2019-03",
          "2019-04",
          "2019-05",
          "2019-06",
          "2019-07",
          "2019-08",
          "2019-09",
          "2019-10",
          "2019-11",
          "2019-12",
          "2020-01",
          "2020-02",
          "2020-03",
          "2020-04",
          "2020-05",
          "2020-06",
          "2020-07",
          "2020-08",
          "2020-09",
          "2020-10",
          "2020-11",
          "2020-12",
          "2021-01",
          "2021-02",
          "2021-03",
          "2021-04",
          "2021-05",
          "2021-06",
          "2021-07",
          "2021-08",
          "2021-09",
          "2021-10",
          "2021-11",
          "2021-12",
          "2022-01",
          "2022-02",
          "2022-03",
          "2022-04"
         ],
         "y": {
          "bdata": "rkfhehRuOkCF61G4HoU9QJqZmZmZGTlAmpmZmZlZPUC4HoXrUTg5QFK4HoXrETRA16NwPQoXNUAAAAAAAEA0QB+F61G4njFAhetRuB5FNUDsUbgehas0QB+F61G4XjRAexSuR+H6N0DhehSuRyE7QK5H4XoUbjVAcT0K16OwOEDXo3A9CpcxQFK4HoXrUTNAKVyPwvUoK0BI4XoUrkcsQJqZmZmZ2TBASOF6FK5HMkD2KFyPwjUzQM3MzMzMjDVAPQrXo3C9NkCPwvUoXE86QEjhehSuxzlAw/UoXI/CO0AzMzMzM3M2QOF6FK5HYTdASOF6FK7HNEDXo3A9CtcvQOF6FK5HYTNArkfhehRuMkCPwvUoXE8xQMP1KFyPAjdAKVyPwvXoNUCF61G4HoU7QPYoXI/CtTpACtejcD0KO0DXo3A9Clc0QAAAAAAAgDtAPQrXo3D9NEA=",
          "dtype": "f8"
         }
        },
        {
         "mode": "lines",
         "name": "Italy",
         "type": "scatter",
         "x": [
          "2018-10",
          "2018-11",
          "2018-12",
          "2019-01",
          "2019-02",
          "2019-03",
          "2019-04",
          "2019-05",
          "2019-06",
          "2019-07",
          "2019-08",
          "2019-09",
          "2019-10",
          "2019-11",
          "2019-12",
          "2020-01",
          "2020-02",
          "2020-03",
          "2020-04",
          "2020-05",
          "2020-06",
          "2020-07",
          "2020-08",
          "2020-09",
          "2020-10",
          "2020-11",
          "2020-12",
          "2021-01",
          "2021-02",
          "2021-03",
          "2021-04",
          "2021-05",
          "2021-06",
          "2021-07",
          "2021-08",
          "2021-09",
          "2021-10",
          "2021-11",
          "2021-12",
          "2022-01",
          "2022-02",
          "2022-03",
          "2022-04"
         ],
         "y": {
          "bdata": "exSuR+F6LUAUrkfhepQtQEjhehSuxy5AH4XrUbheMUBI4XoUrkcqQPYoXI/C9SpACtejcD0KKUC4HoXrUbgmQIXrUbgeBSlAPQrXo3C9L0A9CtejcD0sQGZmZmZm5ixAH4XrUbieLEBcj8L1KNwoQPYoXI/C9SdAw/UoXI9CLkDNzMzMzMwoQDMzMzMzMyVAAAAAAAAAIkAAAAAAAAAiQGZmZmZm5iVAPQrXo3A9LEDXo3A9ClcrQK5H4XoULixAUrgehevRJkDXo3A9CtcpQB+F61G4nitAhetRuB6FK0AK16NwPYomQMP1KFyPQihA7FG4HoVrJ0DhehSuR+EhQB+F61G4HidA7FG4HoVrK0B7FK5H4fomQI/C9ShcjytAZmZmZmbmKUBmZmZmZiYwQK5H4XoUri9AcT0K16PwL0CuR+F6FK4rQD0K16NwvS5A16NwPQrXJkA=",
          "dtype": "f8"
         }
        },
        {
         "mode": "lines",
         "name": "Switzerland",
         "type": "scatter",
         "x": [
          "2018-10",
          "2018-11",
          "2018-12",
          "2019-01",
          "2019-02",
          "2019-03",
          "2019-04",
          "2019-05",
          "2019-06",
          "2019-07",
          "2019-08",
          "2019-09",
          "2019-10",
          "2019-11",
          "2019-12",
          "2020-01",
          "2020-02",
          "2020-03",
          "2020-04",
          "2020-05",
          "2020-06",
          "2020-07",
          "2020-08",
          "2020-09",
          "2020-10",
          "2020-11",
          "2020-12",
          "2021-01",
          "2021-02",
          "2021-03",
          "2021-04",
          "2021-05",
          "2021-06",
          "2021-07",
          "2021-08",
          "2021-09",
          "2021-10",
          "2021-11",
          "2021-12",
          "2022-01",
          "2022-02",
          "2022-03",
          "2022-04"
         ],
         "y": {
          "bdata": "MzMzMzMz0z/Xo3A9CtfTP3sUrkfhetQ/exSuR+F61D8zMzMzMzPTPx+F61G4HtU/MzMzMzMz0z8zMzMzMzPTP+xRuB6F69E/16NwPQrX0z+PwvUoXI/SP+xRuB6F69E/MzMzMzMz0z/Xo3A9CtfTP3sUrkfhetQ/exSuR+F61D/Xo3A9CtfTPx+F61G4HtU/MzMzMzMz0z8zMzMzMzPTP+xRuB6F69E/16NwPQrX0z+PwvUoXI/SP+xRuB6F69E/MzMzMzMz0z/Xo3A9CtfTP3sUrkfhetQ/exSuR+F61D8zMzMzMzPTPx+F61G4HtU/MzMzMzMz0z8zMzMzMzPTP+xRuB6F69E/16NwPQrX0z+PwvUoXI/SP+xRuB6F69E/MzMzMzMz0z/Xo3A9CtfTP3sUrkfhetQ/exSuR+F61D8zMzMzMzPTPx+F61G4HtU/MzMzMzMz0z8=",
          "dtype": "f8"
         }
        },
        {
         "mode": "lines",
         "name": "United Kingdom",
         "type": "scatter",
         "x": [
          "2018-10",
          "2018-11",
          "2018-12",
          "2019-01",
          "2019-02",
          "2019-03",
          "2019-04",
          "2019-05",
          "2019-06",
          "2019-07",
          "2019-08",
          "2019-09",
          "2019-10",
          "2019-11",
          "2019-12",
          "2020-01",
          "2020-02",
          "2020-03",
          "2020-04",
          "2020-05",
          "2020-06",
          "2020-07",
          "2020-08",
          "2020-09",
          "2020-10",
          "2020-11",
          "2020-12",
          "2021-01",
          "2021-02",
          "2021-03",
          "2021-04",
          "2021-05",
          "2021-06",
          "2021-07",
          "2021-08",
          "2021-09",
          "2021-10",
          "2021-11",
          "2021-12",
          "2022-01",
          "2022-02",
          "2022-03",
          "2022-04"
         ],
         "y": {
          "bdata": "zczMzMxMJUB7FK5H4XonQFyPwvUo3CdAw/UoXI9CLkCkcD0K16MkQOF6FK5HYSNAUrgehevRI0CkcD0K1yMjQOF6FK5HYSJAj8L1KFwPJEAzMzMzMzMeQB+F61G4Hh9AH4XrUbieJEBxPQrXo/AnQK5H4XoUriNA16NwPQrXI0C4HoXrUbgeQB+F61G4HiJAexSuR+F6GUBmZmZmZmYWQHE9CtejcB1APQrXo3C9IEDhehSuR2EiQPYoXI/CdSJArkfhehQuIUAAAAAAAAAiQClcj8L1KCVAcT0K16PwKEA9CtejcD0hQClcj8L1qCNAzczMzMxMJUD2KFyPwvUiQGZmZmZmZh9AAAAAAAAAI0C4HoXrUTggQFK4HoXr0SJAH4XrUbgeHkCPwvUoXA8kQClcj8L1KCVApHA9CtcjJkAUrkfhehQYQLgehetRuCNAuB6F61E4I0A=",
          "dtype": "f8"
         }
        },
        {
         "mode": "lines",
         "name": "United States of America",
         "type": "scatter",
         "x": [
          "2018-10",
          "2018-11",
          "2018-12",
          "2019-01",
          "2019-02",
          "2019-03",
          "2019-04",
          "2019-05",
          "2019-06",
          "2019-07",
          "2019-08",
          "2019-09",
          "2019-10",
          "2019-11",
          "2019-12",
          "2020-01",
          "2020-02",
          "2020-03",
          "2020-04",
          "2020-05",
          "2020-06",
          "2020-07",
          "2020-08",
          "2020-09",
          "2020-10",
          "2020-11",
          "2020-12",
          "2021-01",
          "2021-02",
          "2021-03",
          "2021-04",
          "2021-05",
          "2021-06",
          "2021-07",
          "2021-08",
          "2021-09",
          "2021-10",
          "2021-11",
          "2021-12",
          "2022-01",
          "2022-02",
          "2022-03",
          "2022-04"
         ],
         "y": {
          "bdata": "cT0K16OwakCkcD0K14NpQDMzMzMzq2pApHA9CtdDbEB7FK5H4VpoQBSuR+F6pGhA16NwPQrXZECamZmZmQFoQGZmZmZmbmtA4XoUrkdBcUAfhetRuAZxQHsUrkfh0m1AZmZmZmYWaUBI4XoUro9oQM3MzMzM9GlA16NwPQqHaUCuR+F6FF5nQB+F61G4bmZAj8L1KFwvY0AUrkfhesRkQFK4HoXrWWpAw/UoXI8ecUCuR+F6FLpwQDMzMzMzi2pAzczMzMw8aECF61G4HrVlQFyPwvUoLGpAMzMzMzNbakCPwvUoXD9pQFyPwvUodGVAcT0K16OAZECamZmZmalmQJqZmZmZ8W1AMzMzMzMrcUA9CtejcF1xQAAAAAAAgGtA7FG4HoWraEB7FK5H4dJmQMP1KFyP0mdA9ihcj8J1bEBSuB6F65lnQBSuR+F6DGZAZmZmZmZuZEA=",
          "dtype": "f8"
         }
        }
       ],
       "layout": {
        "legend": {
         "title": {
          "text": "Countries"
         }
        },
        "template": {
         "data": {
          "bar": [
           {
            "error_x": {
             "color": "#2a3f5f"
            },
            "error_y": {
             "color": "#2a3f5f"
            },
            "marker": {
             "line": {
              "color": "#E5ECF6",
              "width": 0.5
             },
             "pattern": {
              "fillmode": "overlay",
              "size": 10,
              "solidity": 0.2
             }
            },
            "type": "bar"
           }
          ],
          "barpolar": [
           {
            "marker": {
             "line": {
              "color": "#E5ECF6",
              "width": 0.5
             },
             "pattern": {
              "fillmode": "overlay",
              "size": 10,
              "solidity": 0.2
             }
            },
            "type": "barpolar"
           }
          ],
          "carpet": [
           {
            "aaxis": {
             "endlinecolor": "#2a3f5f",
             "gridcolor": "white",
             "linecolor": "white",
             "minorgridcolor": "white",
             "startlinecolor": "#2a3f5f"
            },
            "baxis": {
             "endlinecolor": "#2a3f5f",
             "gridcolor": "white",
             "linecolor": "white",
             "minorgridcolor": "white",
             "startlinecolor": "#2a3f5f"
            },
            "type": "carpet"
           }
          ],
          "choropleth": [
           {
            "colorbar": {
             "outlinewidth": 0,
             "ticks": ""
            },
            "type": "choropleth"
           }
          ],
          "contour": [
           {
            "colorbar": {
             "outlinewidth": 0,
             "ticks": ""
            },
            "colorscale": [
             [
              0,
              "#0d0887"
             ],
             [
              0.1111111111111111,
              "#46039f"
             ],
             [
              0.2222222222222222,
              "#7201a8"
             ],
             [
              0.3333333333333333,
              "#9c179e"
             ],
             [
              0.4444444444444444,
              "#bd3786"
             ],
             [
              0.5555555555555556,
              "#d8576b"
             ],
             [
              0.6666666666666666,
              "#ed7953"
             ],
             [
              0.7777777777777778,
              "#fb9f3a"
             ],
             [
              0.8888888888888888,
              "#fdca26"
             ],
             [
              1,
              "#f0f921"
             ]
            ],
            "type": "contour"
           }
          ],
          "contourcarpet": [
           {
            "colorbar": {
             "outlinewidth": 0,
             "ticks": ""
            },
            "type": "contourcarpet"
           }
          ],
          "heatmap": [
           {
            "colorbar": {
             "outlinewidth": 0,
             "ticks": ""
            },
            "colorscale": [
             [
              0,
              "#0d0887"
             ],
             [
              0.1111111111111111,
              "#46039f"
             ],
             [
              0.2222222222222222,
              "#7201a8"
             ],
             [
              0.3333333333333333,
              "#9c179e"
             ],
             [
              0.4444444444444444,
              "#bd3786"
             ],
             [
              0.5555555555555556,
              "#d8576b"
             ],
             [
              0.6666666666666666,
              "#ed7953"
             ],
             [
              0.7777777777777778,
              "#fb9f3a"
             ],
             [
              0.8888888888888888,
              "#fdca26"
             ],
             [
              1,
              "#f0f921"
             ]
            ],
            "type": "heatmap"
           }
          ],
          "histogram": [
           {
            "marker": {
             "pattern": {
              "fillmode": "overlay",
              "size": 10,
              "solidity": 0.2
             }
            },
            "type": "histogram"
           }
          ],
          "histogram2d": [
           {
            "colorbar": {
             "outlinewidth": 0,
             "ticks": ""
            },
            "colorscale": [
             [
              0,
              "#0d0887"
             ],
             [
              0.1111111111111111,
              "#46039f"
             ],
             [
              0.2222222222222222,
              "#7201a8"
             ],
             [
              0.3333333333333333,
              "#9c179e"
             ],
             [
              0.4444444444444444,
              "#bd3786"
             ],
             [
              0.5555555555555556,
              "#d8576b"
             ],
             [
              0.6666666666666666,
              "#ed7953"
             ],
             [
              0.7777777777777778,
              "#fb9f3a"
             ],
             [
              0.8888888888888888,
              "#fdca26"
             ],
             [
              1,
              "#f0f921"
             ]
            ],
            "type": "histogram2d"
           }
          ],
          "histogram2dcontour": [
           {
            "colorbar": {
             "outlinewidth": 0,
             "ticks": ""
            },
            "colorscale": [
             [
              0,
              "#0d0887"
             ],
             [
              0.1111111111111111,
              "#46039f"
             ],
             [
              0.2222222222222222,
              "#7201a8"
             ],
             [
              0.3333333333333333,
              "#9c179e"
             ],
             [
              0.4444444444444444,
              "#bd3786"
             ],
             [
              0.5555555555555556,
              "#d8576b"
             ],
             [
              0.6666666666666666,
              "#ed7953"
             ],
             [
              0.7777777777777778,
              "#fb9f3a"
             ],
             [
              0.8888888888888888,
              "#fdca26"
             ],
             [
              1,
              "#f0f921"
             ]
            ],
            "type": "histogram2dcontour"
           }
          ],
          "mesh3d": [
           {
            "colorbar": {
             "outlinewidth": 0,
             "ticks": ""
            },
            "type": "mesh3d"
           }
          ],
          "parcoords": [
           {
            "line": {
             "colorbar": {
              "outlinewidth": 0,
              "ticks": ""
             }
            },
            "type": "parcoords"
           }
          ],
          "pie": [
           {
            "automargin": true,
            "type": "pie"
           }
          ],
          "scatter": [
           {
            "fillpattern": {
             "fillmode": "overlay",
             "size": 10,
             "solidity": 0.2
            },
            "type": "scatter"
           }
          ],
          "scatter3d": [
           {
            "line": {
             "colorbar": {
              "outlinewidth": 0,
              "ticks": ""
             }
            },
            "marker": {
             "colorbar": {
              "outlinewidth": 0,
              "ticks": ""
             }
            },
            "type": "scatter3d"
           }
          ],
          "scattercarpet": [
           {
            "marker": {
             "colorbar": {
              "outlinewidth": 0,
              "ticks": ""
             }
            },
            "type": "scattercarpet"
           }
          ],
          "scattergeo": [
           {
            "marker": {
             "colorbar": {
              "outlinewidth": 0,
              "ticks": ""
             }
            },
            "type": "scattergeo"
           }
          ],
          "scattergl": [
           {
            "marker": {
             "colorbar": {
              "outlinewidth": 0,
              "ticks": ""
             }
            },
            "type": "scattergl"
           }
          ],
          "scattermap": [
           {
            "marker": {
             "colorbar": {
              "outlinewidth": 0,
              "ticks": ""
             }
            },
            "type": "scattermap"
           }
          ],
          "scattermapbox": [
           {
            "marker": {
             "colorbar": {
              "outlinewidth": 0,
              "ticks": ""
             }
            },
            "type": "scattermapbox"
           }
          ],
          "scatterpolar": [
           {
            "marker": {
             "colorbar": {
              "outlinewidth": 0,
              "ticks": ""
             }
            },
            "type": "scatterpolar"
           }
          ],
          "scatterpolargl": [
           {
            "marker": {
             "colorbar": {
              "outlinewidth": 0,
              "ticks": ""
             }
            },
            "type": "scatterpolargl"
           }
          ],
          "scatterternary": [
           {
            "marker": {
             "colorbar": {
              "outlinewidth": 0,
              "ticks": ""
             }
            },
            "type": "scatterternary"
           }
          ],
          "surface": [
           {
            "colorbar": {
             "outlinewidth": 0,
             "ticks": ""
            },
            "colorscale": [
             [
              0,
              "#0d0887"
             ],
             [
              0.1111111111111111,
              "#46039f"
             ],
             [
              0.2222222222222222,
              "#7201a8"
             ],
             [
              0.3333333333333333,
              "#9c179e"
             ],
             [
              0.4444444444444444,
              "#bd3786"
             ],
             [
              0.5555555555555556,
              "#d8576b"
             ],
             [
              0.6666666666666666,
              "#ed7953"
             ],
             [
              0.7777777777777778,
              "#fb9f3a"
             ],
             [
              0.8888888888888888,
              "#fdca26"
             ],
             [
              1,
              "#f0f921"
             ]
            ],
            "type": "surface"
           }
          ],
          "table": [
           {
            "cells": {
             "fill": {
              "color": "#EBF0F8"
             },
             "line": {
              "color": "white"
             }
            },
            "header": {
             "fill": {
              "color": "#C8D4E3"
             },
             "line": {
              "color": "white"
             }
            },
            "type": "table"
           }
          ]
         },
         "layout": {
          "annotationdefaults": {
           "arrowcolor": "#2a3f5f",
           "arrowhead": 0,
           "arrowwidth": 1
          },
          "autotypenumbers": "strict",
          "coloraxis": {
           "colorbar": {
            "outlinewidth": 0,
            "ticks": ""
           }
          },
          "colorscale": {
           "diverging": [
            [
             0,
             "#8e0152"
            ],
            [
             0.1,
             "#c51b7d"
            ],
            [
             0.2,
             "#de77ae"
            ],
            [
             0.3,
             "#f1b6da"
            ],
            [
             0.4,
             "#fde0ef"
            ],
            [
             0.5,
             "#f7f7f7"
            ],
            [
             0.6,
             "#e6f5d0"
            ],
            [
             0.7,
             "#b8e186"
            ],
            [
             0.8,
             "#7fbc41"
            ],
            [
             0.9,
             "#4d9221"
            ],
            [
             1,
             "#276419"
            ]
           ],
           "sequential": [
            [
             0,
             "#0d0887"
            ],
            [
             0.1111111111111111,
             "#46039f"
            ],
            [
             0.2222222222222222,
             "#7201a8"
            ],
            [
             0.3333333333333333,
             "#9c179e"
            ],
            [
             0.4444444444444444,
             "#bd3786"
            ],
            [
             0.5555555555555556,
             "#d8576b"
            ],
            [
             0.6666666666666666,
             "#ed7953"
            ],
            [
             0.7777777777777778,
             "#fb9f3a"
            ],
            [
             0.8888888888888888,
             "#fdca26"
            ],
            [
             1,
             "#f0f921"
            ]
           ],
           "sequentialminus": [
            [
             0,
             "#0d0887"
            ],
            [
             0.1111111111111111,
             "#46039f"
            ],
            [
             0.2222222222222222,
             "#7201a8"
            ],
            [
             0.3333333333333333,
             "#9c179e"
            ],
            [
             0.4444444444444444,
             "#bd3786"
            ],
            [
             0.5555555555555556,
             "#d8576b"
            ],
            [
             0.6666666666666666,
             "#ed7953"
            ],
            [
             0.7777777777777778,
             "#fb9f3a"
            ],
            [
             0.8888888888888888,
             "#fdca26"
            ],
            [
             1,
             "#f0f921"
            ]
           ]
          },
          "colorway": [
           "#636efa",
           "#EF553B",
           "#00cc96",
           "#ab63fa",
           "#FFA15A",
           "#19d3f3",
           "#FF6692",
           "#B6E880",
           "#FF97FF",
           "#FECB52"
          ],
          "font": {
           "color": "#2a3f5f"
          },
          "geo": {
           "bgcolor": "white",
           "lakecolor": "white",
           "landcolor": "#E5ECF6",
           "showlakes": true,
           "showland": true,
           "subunitcolor": "white"
          },
          "hoverlabel": {
           "align": "left"
          },
          "hovermode": "closest",
          "mapbox": {
           "style": "light"
          },
          "paper_bgcolor": "white",
          "plot_bgcolor": "#E5ECF6",
          "polar": {
           "angularaxis": {
            "gridcolor": "white",
            "linecolor": "white",
            "ticks": ""
           },
           "bgcolor": "#E5ECF6",
           "radialaxis": {
            "gridcolor": "white",
            "linecolor": "white",
            "ticks": ""
           }
          },
          "scene": {
           "xaxis": {
            "backgroundcolor": "#E5ECF6",
            "gridcolor": "white",
            "gridwidth": 2,
            "linecolor": "white",
            "showbackground": true,
            "ticks": "",
            "zerolinecolor": "white"
           },
           "yaxis": {
            "backgroundcolor": "#E5ECF6",
            "gridcolor": "white",
            "gridwidth": 2,
            "linecolor": "white",
            "showbackground": true,
            "ticks": "",
            "zerolinecolor": "white"
           },
           "zaxis": {
            "backgroundcolor": "#E5ECF6",
            "gridcolor": "white",
            "gridwidth": 2,
            "linecolor": "white",
            "showbackground": true,
            "ticks": "",
            "zerolinecolor": "white"
           }
          },
          "shapedefaults": {
           "line": {
            "color": "#2a3f5f"
           }
          },
          "ternary": {
           "aaxis": {
            "gridcolor": "white",
            "linecolor": "white",
            "ticks": ""
           },
           "baxis": {
            "gridcolor": "white",
            "linecolor": "white",
            "ticks": ""
           },
           "bgcolor": "#E5ECF6",
           "caxis": {
            "gridcolor": "white",
            "linecolor": "white",
            "ticks": ""
           }
          },
          "title": {
           "x": 0.05
          },
          "xaxis": {
           "automargin": true,
           "gridcolor": "white",
           "linecolor": "white",
           "ticks": "",
           "title": {
            "standoff": 15
           },
           "zerolinecolor": "white",
           "zerolinewidth": 2
          },
          "yaxis": {
           "automargin": true,
           "gridcolor": "white",
           "linecolor": "white",
           "ticks": "",
           "title": {
            "standoff": 15
           },
           "zerolinecolor": "white",
           "zerolinewidth": 2
          }
         }
        },
        "title": {
         "text": "Fossil Energy Generation Across Countries"
        },
        "xaxis": {
         "title": {
          "text": "Date"
         }
        },
        "yaxis": {
         "title": {
          "text": "TWh"
         }
        }
       }
      }
     },
     "metadata": {},
     "output_type": "display_data"
    }
   ],
   "source": [
    "fig = go.Figure()\n",
    "for country in fossil.columns:\n",
    "    non_zero = fossil[country]\n",
    "    non_zero = non_zero[non_zero != 0]\n",
    "    fig.add_trace(go.Scatter(x=non_zero.index, \n",
    "                             y=non_zero, \n",
    "                             mode='lines', \n",
    "                             name=country))\n",
    "fig.update_layout(\n",
    "    title=\"Fossil Energy Generation Across Countries\",\n",
    "    xaxis_title=\"Date\",\n",
    "    yaxis_title=\"TWh\",\n",
    "    legend_title=\"Countries\"\n",
    ")\n",
    "\n",
    "fig.show()"
   ]
  },
  {
   "cell_type": "markdown",
   "id": "d7b347da",
   "metadata": {},
   "source": [
    "China and the United States lead fossil energy generation and based on the last analysis, we can see that the generation in fossil energy is higher than in clean. Seasonal patterns can be identified in both China and USA. Fossil fuel generation in China consistently increases in October and reaches its peak in December before declining in the early months of the following year. This might be due to cold winters and the increase of activity before the Lunar New Year. In the USA, fossil fuel generation starts increasing after April, peaking in July. \n",
    "\n",
    "The remaining countries produce significantly lower amounts of fossil-based electricity, with monthly generation typically below 50 TWh. "
   ]
  },
  {
   "cell_type": "code",
   "execution_count": null,
   "id": "04654095",
   "metadata": {},
   "outputs": [],
   "source": [
    "#clean.to_csv(\"./extra data/clean_energy.csv\")\n",
    "#fossil.to_csv(\"./extra data/fossil_energy.csv\")"
   ]
  },
  {
   "cell_type": "markdown",
   "id": "b2d8f877",
   "metadata": {},
   "source": [
    "# 6. Building Construction in Germany"
   ]
  },
  {
   "cell_type": "code",
   "execution_count": 29,
   "id": "5540022f",
   "metadata": {},
   "outputs": [],
   "source": [
    "building = pd.read_excel('extra data/building.xlsx')"
   ]
  },
  {
   "cell_type": "code",
   "execution_count": 30,
   "id": "290fc15a",
   "metadata": {},
   "outputs": [
    {
     "data": {
      "text/html": [
       "<div>\n",
       "<style scoped>\n",
       "    .dataframe tbody tr th:only-of-type {\n",
       "        vertical-align: middle;\n",
       "    }\n",
       "\n",
       "    .dataframe tbody tr th {\n",
       "        vertical-align: top;\n",
       "    }\n",
       "\n",
       "    .dataframe thead th {\n",
       "        text-align: right;\n",
       "    }\n",
       "</style>\n",
       "<table border=\"1\" class=\"dataframe\">\n",
       "  <thead>\n",
       "    <tr style=\"text-align: right;\">\n",
       "      <th></th>\n",
       "      <th>Year</th>\n",
       "      <th>Month</th>\n",
       "      <th>Buildings Number</th>\n",
       "    </tr>\n",
       "  </thead>\n",
       "  <tbody>\n",
       "    <tr>\n",
       "      <th>0</th>\n",
       "      <td>2022</td>\n",
       "      <td>Apr</td>\n",
       "      <td>11728</td>\n",
       "    </tr>\n",
       "    <tr>\n",
       "      <th>1</th>\n",
       "      <td>2022</td>\n",
       "      <td>Mar</td>\n",
       "      <td>13497</td>\n",
       "    </tr>\n",
       "    <tr>\n",
       "      <th>2</th>\n",
       "      <td>2022</td>\n",
       "      <td>Feb</td>\n",
       "      <td>11613</td>\n",
       "    </tr>\n",
       "    <tr>\n",
       "      <th>3</th>\n",
       "      <td>2022</td>\n",
       "      <td>Jan</td>\n",
       "      <td>11404</td>\n",
       "    </tr>\n",
       "    <tr>\n",
       "      <th>4</th>\n",
       "      <td>2021</td>\n",
       "      <td>Dec</td>\n",
       "      <td>13730</td>\n",
       "    </tr>\n",
       "  </tbody>\n",
       "</table>\n",
       "</div>"
      ],
      "text/plain": [
       "   Year Month  Buildings Number\n",
       "0  2022   Apr             11728\n",
       "1  2022   Mar             13497\n",
       "2  2022   Feb             11613\n",
       "3  2022   Jan             11404\n",
       "4  2021   Dec             13730"
      ]
     },
     "execution_count": 30,
     "metadata": {},
     "output_type": "execute_result"
    }
   ],
   "source": [
    "building.head()"
   ]
  },
  {
   "cell_type": "code",
   "execution_count": 31,
   "id": "cb572075",
   "metadata": {},
   "outputs": [],
   "source": [
    "building['date'] = pd.to_datetime(\n",
    "    building['Year'].astype(str) + '-' + building['Month'], format='%Y-%b')\n",
    "building.drop(['Year', 'Month'], axis=1, inplace=True)\n",
    "building.sort_values(by='date', ascending=True, inplace=True)\n",
    "building.set_index('date', inplace=True)\n",
    "building = building.loc[:, ['Buildings Number']]"
   ]
  },
  {
   "cell_type": "code",
   "execution_count": 32,
   "id": "08c5f546",
   "metadata": {},
   "outputs": [
    {
     "data": {
      "text/html": [
       "<div>\n",
       "<style scoped>\n",
       "    .dataframe tbody tr th:only-of-type {\n",
       "        vertical-align: middle;\n",
       "    }\n",
       "\n",
       "    .dataframe tbody tr th {\n",
       "        vertical-align: top;\n",
       "    }\n",
       "\n",
       "    .dataframe thead th {\n",
       "        text-align: right;\n",
       "    }\n",
       "</style>\n",
       "<table border=\"1\" class=\"dataframe\">\n",
       "  <thead>\n",
       "    <tr style=\"text-align: right;\">\n",
       "      <th></th>\n",
       "      <th>Buildings Number</th>\n",
       "    </tr>\n",
       "    <tr>\n",
       "      <th>date</th>\n",
       "      <th></th>\n",
       "    </tr>\n",
       "  </thead>\n",
       "  <tbody>\n",
       "    <tr>\n",
       "      <th>2018-10-01</th>\n",
       "      <td>11738</td>\n",
       "    </tr>\n",
       "    <tr>\n",
       "      <th>2018-11-01</th>\n",
       "      <td>11177</td>\n",
       "    </tr>\n",
       "    <tr>\n",
       "      <th>2018-12-01</th>\n",
       "      <td>11919</td>\n",
       "    </tr>\n",
       "    <tr>\n",
       "      <th>2019-01-01</th>\n",
       "      <td>11089</td>\n",
       "    </tr>\n",
       "    <tr>\n",
       "      <th>2019-02-01</th>\n",
       "      <td>10465</td>\n",
       "    </tr>\n",
       "  </tbody>\n",
       "</table>\n",
       "</div>"
      ],
      "text/plain": [
       "            Buildings Number\n",
       "date                        \n",
       "2018-10-01             11738\n",
       "2018-11-01             11177\n",
       "2018-12-01             11919\n",
       "2019-01-01             11089\n",
       "2019-02-01             10465"
      ]
     },
     "execution_count": 32,
     "metadata": {},
     "output_type": "execute_result"
    }
   ],
   "source": [
    "building.head()"
   ]
  },
  {
   "cell_type": "code",
   "execution_count": 33,
   "id": "c0316c45",
   "metadata": {},
   "outputs": [
    {
     "name": "stdout",
     "output_type": "stream",
     "text": [
      "<class 'pandas.core.frame.DataFrame'>\n",
      "DatetimeIndex: 43 entries, 2018-10-01 to 2022-04-01\n",
      "Data columns (total 1 columns):\n",
      " #   Column            Non-Null Count  Dtype\n",
      "---  ------            --------------  -----\n",
      " 0   Buildings Number  43 non-null     int64\n",
      "dtypes: int64(1)\n",
      "memory usage: 688.0 bytes\n"
     ]
    }
   ],
   "source": [
    "building.info()"
   ]
  },
  {
   "cell_type": "code",
   "execution_count": 34,
   "id": "d87c768f",
   "metadata": {},
   "outputs": [
    {
     "data": {
      "text/html": [
       "<div>\n",
       "<style scoped>\n",
       "    .dataframe tbody tr th:only-of-type {\n",
       "        vertical-align: middle;\n",
       "    }\n",
       "\n",
       "    .dataframe tbody tr th {\n",
       "        vertical-align: top;\n",
       "    }\n",
       "\n",
       "    .dataframe thead th {\n",
       "        text-align: right;\n",
       "    }\n",
       "</style>\n",
       "<table border=\"1\" class=\"dataframe\">\n",
       "  <thead>\n",
       "    <tr style=\"text-align: right;\">\n",
       "      <th></th>\n",
       "      <th>Buildings Number</th>\n",
       "    </tr>\n",
       "  </thead>\n",
       "  <tbody>\n",
       "    <tr>\n",
       "      <th>count</th>\n",
       "      <td>43.000000</td>\n",
       "    </tr>\n",
       "    <tr>\n",
       "      <th>mean</th>\n",
       "      <td>12547.395349</td>\n",
       "    </tr>\n",
       "    <tr>\n",
       "      <th>std</th>\n",
       "      <td>1307.963687</td>\n",
       "    </tr>\n",
       "    <tr>\n",
       "      <th>min</th>\n",
       "      <td>10465.000000</td>\n",
       "    </tr>\n",
       "    <tr>\n",
       "      <th>25%</th>\n",
       "      <td>11782.000000</td>\n",
       "    </tr>\n",
       "    <tr>\n",
       "      <th>50%</th>\n",
       "      <td>12380.000000</td>\n",
       "    </tr>\n",
       "    <tr>\n",
       "      <th>75%</th>\n",
       "      <td>13227.000000</td>\n",
       "    </tr>\n",
       "    <tr>\n",
       "      <th>max</th>\n",
       "      <td>18693.000000</td>\n",
       "    </tr>\n",
       "  </tbody>\n",
       "</table>\n",
       "</div>"
      ],
      "text/plain": [
       "       Buildings Number\n",
       "count         43.000000\n",
       "mean       12547.395349\n",
       "std         1307.963687\n",
       "min        10465.000000\n",
       "25%        11782.000000\n",
       "50%        12380.000000\n",
       "75%        13227.000000\n",
       "max        18693.000000"
      ]
     },
     "execution_count": 34,
     "metadata": {},
     "output_type": "execute_result"
    }
   ],
   "source": [
    "building.describe()"
   ]
  },
  {
   "cell_type": "code",
   "execution_count": null,
   "id": "a08e04ff",
   "metadata": {},
   "outputs": [
    {
     "data": {
      "image/png": "[encoded data removed]",
      "text/plain": [
       "<Figure size 1200x600 with 1 Axes>"
      ]
     },
     "metadata": {},
     "output_type": "display_data"
    }
   ],
   "source": [
    "f.multiple_line_plot(building, 'Number of Buildings Construction/Renovation', 'Buildings Construction/Renovation by Country')"
   ]
  },
  {
   "cell_type": "code",
   "execution_count": null,
   "id": "7d3b56f7",
   "metadata": {},
   "outputs": [],
   "source": [
    "#building.to_csv(\"./extra data/buildings_data.csv\")"
   ]
  }
 ],
 "metadata": {
  "kernelspec": {
   "display_name": "Python 3 (ipykernel)",
   "language": "python",
   "name": "python3"
  },
  "language_info": {
   "codemirror_mode": {
    "name": "ipython",
    "version": 3
   },
   "file_extension": ".py",
   "mimetype": "text/x-python",
   "name": "python",
   "nbconvert_exporter": "python",
   "pygments_lexer": "ipython3",
   "version": "3.13.2"
  }
 },
 "nbformat": 4,
 "nbformat_minor": 5
}
