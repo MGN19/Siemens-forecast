{
 "cells": [
  {
   "cell_type": "markdown",
   "id": "205272d9",
   "metadata": {},
   "source": [
    "<div style=\"overflow:auto;\">\n",
    "    <div style=\"float:left; margin-right:10px;\">\n",
    "        <img width='120' height='120' src='https://cityme.novaims.unl.pt/images/footer/novaims.png'>\n",
    "    </div>\n",
    "\n",
    "# <p align=\"center\">Siemens Sales Forecast</p>\n",
    "\n",
    "---\n",
    "\n",
    "## <p align=\"center\">*External data transformation*</p>\n",
    "\n",
    "---\n",
    "\n",
    "### 👥 **Team Members**\n",
    "- **Ana Farinha** *(Student Number: 20211514)*  \n",
    "- **António Oliveira** *(Student Number: 20211595)*  \n",
    "- **Mariana Neto** *(Student Number: 20211527)*  \n",
    "- **Salvador Domingues** *(Student Number: 20240597)*  \n",
    "\n",
    "📅 **Date:** *April 1, 2025*  \n",
    "📍 **Prepared for:** *Siemens*  \n",
    "\n",
    "**GitHub Repo:** https://github.com/MGN19/Siemens-forecast\n",
    "\n",
    "---"
   ]
  },
  {
   "cell_type": "markdown",
   "id": "6923a7c3",
   "metadata": {},
   "source": [
    "# ToC\n",
    "\n",
    "<a class=\"anchor\" id=\"top\"></a>\n",
    "\n",
    "\n",
    "1. [Stocks Data](#1.-Stocks-Data) <br><br>\n",
    "\n",
    "2. [Consumer Confidence Data](#2.-Consumer-Confidence-Data) <br><br>\n",
    "\n",
    "3. [Business Confidence Data](#3.-Business-Confidence-Data) <br><br>\n",
    "\n",
    "4. [Covid-19 Strintegy Index](#4.-Covid-19-Strintegy-Index) <br><br>\n",
    "\n",
    "5. [Energy Data](#5.-Energy-Data) <br><br>\n",
    "\n",
    "6. [Building Construction in Germany](#6.-Building-Construction-in-Germany) <br>"
   ]
  },
  {
   "cell_type": "code",
   "execution_count": 1,
   "id": "5b3441d8",
   "metadata": {
    "ExecuteTime": {
     "end_time": "2025-03-21T18:12:01.444034Z",
     "start_time": "2025-03-21T18:12:00.903965Z"
    }
   },
   "outputs": [],
   "source": [
    "import pandas as pd\n",
    "import plotly.express as px\n",
    "import plotly.graph_objects as go\n",
    "pd.set_option('display.max_columns', None)\n",
    "import functions as f"
   ]
  },
  {
   "cell_type": "markdown",
   "id": "4ceb75a8",
   "metadata": {},
   "source": [
    "# 1. Stocks Data"
   ]
  },
  {
   "cell_type": "markdown",
   "id": "3319e6dc",
   "metadata": {},
   "source": [
    "This dataset contains historical stock price data for Siemens, providing insights into market trends and potential correlations with sales performance across different product groups.\n",
    "\n",
    "The data can be found at:\n",
    "\n",
    "Investing.com. (n.d.). Siemens historical data. Retrieved March 17, 2025, from https://www.investing.com/equities/siemens-historical-data"
   ]
  },
  {
   "cell_type": "code",
   "execution_count": 2,
   "id": "1e3acf46",
   "metadata": {
    "ExecuteTime": {
     "end_time": "2025-03-21T18:12:01.470351Z",
     "start_time": "2025-03-21T18:12:01.446575Z"
    },
    "scrolled": true
   },
   "outputs": [
    {
     "data": {
      "text/html": [
       "<div>\n",
       "<style scoped>\n",
       "    .dataframe tbody tr th:only-of-type {\n",
       "        vertical-align: middle;\n",
       "    }\n",
       "\n",
       "    .dataframe tbody tr th {\n",
       "        vertical-align: top;\n",
       "    }\n",
       "\n",
       "    .dataframe thead th {\n",
       "        text-align: right;\n",
       "    }\n",
       "</style>\n",
       "<table border=\"1\" class=\"dataframe\">\n",
       "  <thead>\n",
       "    <tr style=\"text-align: right;\">\n",
       "      <th></th>\n",
       "      <th>Date</th>\n",
       "      <th>Price</th>\n",
       "      <th>Open</th>\n",
       "      <th>High</th>\n",
       "      <th>Low</th>\n",
       "      <th>Vol.</th>\n",
       "      <th>Change %</th>\n",
       "    </tr>\n",
       "  </thead>\n",
       "  <tbody>\n",
       "    <tr>\n",
       "      <th>0</th>\n",
       "      <td>04/01/2022</td>\n",
       "      <td>117.78</td>\n",
       "      <td>126.36</td>\n",
       "      <td>127.00</td>\n",
       "      <td>111.50</td>\n",
       "      <td>33.67M</td>\n",
       "      <td>-6.27%</td>\n",
       "    </tr>\n",
       "    <tr>\n",
       "      <th>1</th>\n",
       "      <td>03/01/2022</td>\n",
       "      <td>125.66</td>\n",
       "      <td>125.00</td>\n",
       "      <td>138.08</td>\n",
       "      <td>105.92</td>\n",
       "      <td>60.02M</td>\n",
       "      <td>-0.79%</td>\n",
       "    </tr>\n",
       "    <tr>\n",
       "      <th>2</th>\n",
       "      <td>02/01/2022</td>\n",
       "      <td>126.66</td>\n",
       "      <td>141.18</td>\n",
       "      <td>149.26</td>\n",
       "      <td>120.84</td>\n",
       "      <td>46.90M</td>\n",
       "      <td>-9.45%</td>\n",
       "    </tr>\n",
       "    <tr>\n",
       "      <th>3</th>\n",
       "      <td>01/01/2022</td>\n",
       "      <td>139.88</td>\n",
       "      <td>151.82</td>\n",
       "      <td>157.96</td>\n",
       "      <td>136.18</td>\n",
       "      <td>31.83M</td>\n",
       "      <td>-8.38%</td>\n",
       "    </tr>\n",
       "    <tr>\n",
       "      <th>4</th>\n",
       "      <td>12/01/2021</td>\n",
       "      <td>152.68</td>\n",
       "      <td>142.70</td>\n",
       "      <td>154.70</td>\n",
       "      <td>141.18</td>\n",
       "      <td>24.91M</td>\n",
       "      <td>8.07%</td>\n",
       "    </tr>\n",
       "  </tbody>\n",
       "</table>\n",
       "</div>"
      ],
      "text/plain": [
       "         Date   Price    Open    High     Low    Vol. Change %\n",
       "0  04/01/2022  117.78  126.36  127.00  111.50  33.67M   -6.27%\n",
       "1  03/01/2022  125.66  125.00  138.08  105.92  60.02M   -0.79%\n",
       "2  02/01/2022  126.66  141.18  149.26  120.84  46.90M   -9.45%\n",
       "3  01/01/2022  139.88  151.82  157.96  136.18  31.83M   -8.38%\n",
       "4  12/01/2021  152.68  142.70  154.70  141.18  24.91M    8.07%"
      ]
     },
     "execution_count": 2,
     "metadata": {},
     "output_type": "execute_result"
    }
   ],
   "source": [
    "stock = pd.read_csv('./extra data/Siemens AG Stock Price History.csv')\n",
    "stock.head()"
   ]
  },
  {
   "cell_type": "markdown",
   "id": "f74b4720",
   "metadata": {},
   "source": [
    "Choosing only relevant columns."
   ]
  },
  {
   "cell_type": "code",
   "execution_count": 3,
   "id": "d51eb0e2",
   "metadata": {
    "ExecuteTime": {
     "end_time": "2025-03-21T18:12:01.475675Z",
     "start_time": "2025-03-21T18:12:01.472312Z"
    },
    "scrolled": true
   },
   "outputs": [],
   "source": [
    "stock2 = stock[['Date', 'Price', 'Vol.', 'Change %']]"
   ]
  },
  {
   "cell_type": "code",
   "execution_count": 4,
   "id": "ec6a9677",
   "metadata": {
    "ExecuteTime": {
     "end_time": "2025-03-21T18:12:01.484408Z",
     "start_time": "2025-03-21T18:12:01.478889Z"
    }
   },
   "outputs": [
    {
     "name": "stderr",
     "output_type": "stream",
     "text": [
      "/var/folders/pw/sbpycr1d17b1j4255gwjl17c0000gn/T/ipykernel_50771/4244389695.py:1: SettingWithCopyWarning: \n",
      "A value is trying to be set on a copy of a slice from a DataFrame.\n",
      "Try using .loc[row_indexer,col_indexer] = value instead\n",
      "\n",
      "See the caveats in the documentation: https://pandas.pydata.org/pandas-docs/stable/user_guide/indexing.html#returning-a-view-versus-a-copy\n",
      "  stock2['Date'] = pd.to_datetime(stock2['Date'])\n"
     ]
    }
   ],
   "source": [
    "stock2['Date'] = pd.to_datetime(stock2['Date'])\n",
    "stock2 = stock2.set_index('Date')"
   ]
  },
  {
   "cell_type": "markdown",
   "id": "a3bb2ac6",
   "metadata": {},
   "source": [
    "**Exploring the dataset structure with .info() method**"
   ]
  },
  {
   "cell_type": "code",
   "execution_count": 5,
   "id": "d766f385",
   "metadata": {
    "ExecuteTime": {
     "end_time": "2025-03-21T18:12:01.492908Z",
     "start_time": "2025-03-21T18:12:01.486019Z"
    }
   },
   "outputs": [
    {
     "name": "stdout",
     "output_type": "stream",
     "text": [
      "<class 'pandas.core.frame.DataFrame'>\n",
      "DatetimeIndex: 43 entries, 2022-04-01 to 2018-10-01\n",
      "Data columns (total 3 columns):\n",
      " #   Column    Non-Null Count  Dtype  \n",
      "---  ------    --------------  -----  \n",
      " 0   Price     43 non-null     float64\n",
      " 1   Vol.      43 non-null     object \n",
      " 2   Change %  43 non-null     object \n",
      "dtypes: float64(1), object(2)\n",
      "memory usage: 1.3+ KB\n"
     ]
    }
   ],
   "source": [
    "stock2.info()"
   ]
  },
  {
   "cell_type": "markdown",
   "id": "c6c2e6b4",
   "metadata": {},
   "source": [
    "There are no missing values. As `Vol.` and `Change %` are stored as object, we will transform them to float."
   ]
  },
  {
   "cell_type": "code",
   "execution_count": 6,
   "id": "34e7d672",
   "metadata": {
    "ExecuteTime": {
     "end_time": "2025-03-21T18:12:01.497635Z",
     "start_time": "2025-03-21T18:12:01.494791Z"
    }
   },
   "outputs": [],
   "source": [
    "def convert_volume(vol_str):\n",
    "    if isinstance(vol_str, str):\n",
    "        vol_str = vol_str.replace('M', 'e6').replace('K', 'e3').replace(',', '')\n",
    "        return float(eval(vol_str))\n",
    "    return vol_str"
   ]
  },
  {
   "cell_type": "markdown",
   "id": "08b16a1c",
   "metadata": {},
   "source": [
    "As in the `Vol.` column we have abbreviations like M, we will convert stock volume values from string format into numerical format."
   ]
  },
  {
   "cell_type": "code",
   "execution_count": 7,
   "id": "89a4149d",
   "metadata": {
    "ExecuteTime": {
     "end_time": "2025-03-21T18:12:01.503356Z",
     "start_time": "2025-03-21T18:12:01.499612Z"
    }
   },
   "outputs": [],
   "source": [
    "stock2['Volume'] = stock2['Vol.'].apply(convert_volume)"
   ]
  },
  {
   "cell_type": "markdown",
   "id": "31676b3f",
   "metadata": {},
   "source": [
    "Coverting stock changing to float."
   ]
  },
  {
   "cell_type": "code",
   "execution_count": 8,
   "id": "6f0a2b39",
   "metadata": {
    "ExecuteTime": {
     "end_time": "2025-03-21T18:12:01.509361Z",
     "start_time": "2025-03-21T18:12:01.505835Z"
    }
   },
   "outputs": [],
   "source": [
    "stock2['Change %'] = stock2['Change %'].str.replace('%', '')\n",
    "stock2['Change %'] = pd.to_numeric(stock2['Change %'], errors='coerce')  # convert to float"
   ]
  },
  {
   "cell_type": "code",
   "execution_count": 9,
   "id": "d844bdb0",
   "metadata": {
    "ExecuteTime": {
     "end_time": "2025-03-21T18:12:01.514695Z",
     "start_time": "2025-03-21T18:12:01.511474Z"
    }
   },
   "outputs": [],
   "source": [
    "stock2.drop('Vol.', axis = 1, inplace = True)"
   ]
  },
  {
   "cell_type": "code",
   "execution_count": 10,
   "id": "9e672d28",
   "metadata": {},
   "outputs": [
    {
     "data": {
      "text/html": [
       "<div>\n",
       "<style scoped>\n",
       "    .dataframe tbody tr th:only-of-type {\n",
       "        vertical-align: middle;\n",
       "    }\n",
       "\n",
       "    .dataframe tbody tr th {\n",
       "        vertical-align: top;\n",
       "    }\n",
       "\n",
       "    .dataframe thead th {\n",
       "        text-align: right;\n",
       "    }\n",
       "</style>\n",
       "<table border=\"1\" class=\"dataframe\">\n",
       "  <thead>\n",
       "    <tr style=\"text-align: right;\">\n",
       "      <th></th>\n",
       "      <th>Price</th>\n",
       "      <th>Change %</th>\n",
       "      <th>Volume</th>\n",
       "    </tr>\n",
       "    <tr>\n",
       "      <th>Date</th>\n",
       "      <th></th>\n",
       "      <th></th>\n",
       "      <th></th>\n",
       "    </tr>\n",
       "  </thead>\n",
       "  <tbody>\n",
       "    <tr>\n",
       "      <th>2022-04-01</th>\n",
       "      <td>117.78</td>\n",
       "      <td>-6.27</td>\n",
       "      <td>33670000.0</td>\n",
       "    </tr>\n",
       "    <tr>\n",
       "      <th>2022-03-01</th>\n",
       "      <td>125.66</td>\n",
       "      <td>-0.79</td>\n",
       "      <td>60020000.0</td>\n",
       "    </tr>\n",
       "    <tr>\n",
       "      <th>2022-02-01</th>\n",
       "      <td>126.66</td>\n",
       "      <td>-9.45</td>\n",
       "      <td>46900000.0</td>\n",
       "    </tr>\n",
       "    <tr>\n",
       "      <th>2022-01-01</th>\n",
       "      <td>139.88</td>\n",
       "      <td>-8.38</td>\n",
       "      <td>31830000.0</td>\n",
       "    </tr>\n",
       "    <tr>\n",
       "      <th>2021-12-01</th>\n",
       "      <td>152.68</td>\n",
       "      <td>8.07</td>\n",
       "      <td>24910000.0</td>\n",
       "    </tr>\n",
       "  </tbody>\n",
       "</table>\n",
       "</div>"
      ],
      "text/plain": [
       "             Price  Change %      Volume\n",
       "Date                                    \n",
       "2022-04-01  117.78     -6.27  33670000.0\n",
       "2022-03-01  125.66     -0.79  60020000.0\n",
       "2022-02-01  126.66     -9.45  46900000.0\n",
       "2022-01-01  139.88     -8.38  31830000.0\n",
       "2021-12-01  152.68      8.07  24910000.0"
      ]
     },
     "execution_count": 10,
     "metadata": {},
     "output_type": "execute_result"
    }
   ],
   "source": [
    "stock2.head()"
   ]
  },
  {
   "cell_type": "code",
   "execution_count": 11,
   "id": "b21fcbfd",
   "metadata": {},
   "outputs": [
    {
     "data": {
      "application/vnd.plotly.v1+json": {
       "config": {
        "plotlyServerURL": "https://plot.ly"
       },
       "data": [
        {
         "hovertemplate": "Date=%{x}<br>Stock Price (€)=%{y}<extra></extra>",
         "legendgroup": "",
         "line": {
          "color": "#636efa",
          "dash": "solid"
         },
         "marker": {
          "symbol": "circle"
         },
         "mode": "lines+markers",
         "name": "",
         "orientation": "v",
         "showlegend": false,
         "type": "scatter",
         "x": [
          "2022-04-01T00:00:00.000000000",
          "2022-03-01T00:00:00.000000000",
          "2022-02-01T00:00:00.000000000",
          "2022-01-01T00:00:00.000000000",
          "2021-12-01T00:00:00.000000000",
          "2021-11-01T00:00:00.000000000",
          "2021-10-01T00:00:00.000000000",
          "2021-09-01T00:00:00.000000000",
          "2021-08-01T00:00:00.000000000",
          "2021-07-01T00:00:00.000000000",
          "2021-06-01T00:00:00.000000000",
          "2021-05-01T00:00:00.000000000",
          "2021-04-01T00:00:00.000000000",
          "2021-03-01T00:00:00.000000000",
          "2021-02-01T00:00:00.000000000",
          "2021-01-01T00:00:00.000000000",
          "2020-12-01T00:00:00.000000000",
          "2020-11-01T00:00:00.000000000",
          "2020-10-01T00:00:00.000000000",
          "2020-09-01T00:00:00.000000000",
          "2020-08-01T00:00:00.000000000",
          "2020-07-01T00:00:00.000000000",
          "2020-06-01T00:00:00.000000000",
          "2020-05-01T00:00:00.000000000",
          "2020-04-01T00:00:00.000000000",
          "2020-03-01T00:00:00.000000000",
          "2020-02-01T00:00:00.000000000",
          "2020-01-01T00:00:00.000000000",
          "2019-12-01T00:00:00.000000000",
          "2019-11-01T00:00:00.000000000",
          "2019-10-01T00:00:00.000000000",
          "2019-09-01T00:00:00.000000000",
          "2019-08-01T00:00:00.000000000",
          "2019-07-01T00:00:00.000000000",
          "2019-06-01T00:00:00.000000000",
          "2019-05-01T00:00:00.000000000",
          "2019-04-01T00:00:00.000000000",
          "2019-03-01T00:00:00.000000000",
          "2019-02-01T00:00:00.000000000",
          "2019-01-01T00:00:00.000000000",
          "2018-12-01T00:00:00.000000000",
          "2018-11-01T00:00:00.000000000",
          "2018-10-01T00:00:00.000000000"
         ],
         "xaxis": "x",
         "y": {
          "bdata": "UrgehetxXUAK16NwPWpfQArXo3A9ql9AXI/C9Sh8YUD2KFyPwhVjQClcj8L1qGFAKVyPwvWIYUA9CtejcL1hQHsUrkfhmmFAw/UoXI9yYECkcD0K17NgQBSuR+F6lGBACtejcD1aYUAAAAAAAIBhQB+F61G4/l9AXI/C9Sj8X0DhehSuR2FdQAAAAAAAAFxAzczMzMwsWUC4HoXrUfhaQHE9CtejEFpAmpmZmZlpWEBcj8L1KJxXQBSuR+F6NFZA9ihcj8IVU0D2KFyPwnVRQOF6FK5HAVVAKVyPwvUoWUCkcD0K10NaQIXrUbgeZVpAXI/C9ShMV0AUrkfheiRWQI/C9Shcf1RAj8L1KFxPVkDD9Shcj5JXQFyPwvUo3FZArkfhehQOWECPwvUoXJ9VQArXo3A9qlVA9ihcj8KVVUBSuB6F6/FVQKRwPQrXE1dAzczMzMzsVkA=",
          "dtype": "f8"
         },
         "yaxis": "y"
        }
       ],
       "layout": {
        "legend": {
         "tracegroupgap": 0
        },
        "template": {
         "data": {
          "bar": [
           {
            "error_x": {
             "color": "#2a3f5f"
            },
            "error_y": {
             "color": "#2a3f5f"
            },
            "marker": {
             "line": {
              "color": "white",
              "width": 0.5
             },
             "pattern": {
              "fillmode": "overlay",
              "size": 10,
              "solidity": 0.2
             }
            },
            "type": "bar"
           }
          ],
          "barpolar": [
           {
            "marker": {
             "line": {
              "color": "white",
              "width": 0.5
             },
             "pattern": {
              "fillmode": "overlay",
              "size": 10,
              "solidity": 0.2
             }
            },
            "type": "barpolar"
           }
          ],
          "carpet": [
           {
            "aaxis": {
             "endlinecolor": "#2a3f5f",
             "gridcolor": "#C8D4E3",
             "linecolor": "#C8D4E3",
             "minorgridcolor": "#C8D4E3",
             "startlinecolor": "#2a3f5f"
            },
            "baxis": {
             "endlinecolor": "#2a3f5f",
             "gridcolor": "#C8D4E3",
             "linecolor": "#C8D4E3",
             "minorgridcolor": "#C8D4E3",
             "startlinecolor": "#2a3f5f"
            },
            "type": "carpet"
           }
          ],
          "choropleth": [
           {
            "colorbar": {
             "outlinewidth": 0,
             "ticks": ""
            },
            "type": "choropleth"
           }
          ],
          "contour": [
           {
            "colorbar": {
             "outlinewidth": 0,
             "ticks": ""
            },
            "colorscale": [
             [
              0,
              "#0d0887"
             ],
             [
              0.1111111111111111,
              "#46039f"
             ],
             [
              0.2222222222222222,
              "#7201a8"
             ],
             [
              0.3333333333333333,
              "#9c179e"
             ],
             [
              0.4444444444444444,
              "#bd3786"
             ],
             [
              0.5555555555555556,
              "#d8576b"
             ],
             [
              0.6666666666666666,
              "#ed7953"
             ],
             [
              0.7777777777777778,
              "#fb9f3a"
             ],
             [
              0.8888888888888888,
              "#fdca26"
             ],
             [
              1,
              "#f0f921"
             ]
            ],
            "type": "contour"
           }
          ],
          "contourcarpet": [
           {
            "colorbar": {
             "outlinewidth": 0,
             "ticks": ""
            },
            "type": "contourcarpet"
           }
          ],
          "heatmap": [
           {
            "colorbar": {
             "outlinewidth": 0,
             "ticks": ""
            },
            "colorscale": [
             [
              0,
              "#0d0887"
             ],
             [
              0.1111111111111111,
              "#46039f"
             ],
             [
              0.2222222222222222,
              "#7201a8"
             ],
             [
              0.3333333333333333,
              "#9c179e"
             ],
             [
              0.4444444444444444,
              "#bd3786"
             ],
             [
              0.5555555555555556,
              "#d8576b"
             ],
             [
              0.6666666666666666,
              "#ed7953"
             ],
             [
              0.7777777777777778,
              "#fb9f3a"
             ],
             [
              0.8888888888888888,
              "#fdca26"
             ],
             [
              1,
              "#f0f921"
             ]
            ],
            "type": "heatmap"
           }
          ],
          "histogram": [
           {
            "marker": {
             "pattern": {
              "fillmode": "overlay",
              "size": 10,
              "solidity": 0.2
             }
            },
            "type": "histogram"
           }
          ],
          "histogram2d": [
           {
            "colorbar": {
             "outlinewidth": 0,
             "ticks": ""
            },
            "colorscale": [
             [
              0,
              "#0d0887"
             ],
             [
              0.1111111111111111,
              "#46039f"
             ],
             [
              0.2222222222222222,
              "#7201a8"
             ],
             [
              0.3333333333333333,
              "#9c179e"
             ],
             [
              0.4444444444444444,
              "#bd3786"
             ],
             [
              0.5555555555555556,
              "#d8576b"
             ],
             [
              0.6666666666666666,
              "#ed7953"
             ],
             [
              0.7777777777777778,
              "#fb9f3a"
             ],
             [
              0.8888888888888888,
              "#fdca26"
             ],
             [
              1,
              "#f0f921"
             ]
            ],
            "type": "histogram2d"
           }
          ],
          "histogram2dcontour": [
           {
            "colorbar": {
             "outlinewidth": 0,
             "ticks": ""
            },
            "colorscale": [
             [
              0,
              "#0d0887"
             ],
             [
              0.1111111111111111,
              "#46039f"
             ],
             [
              0.2222222222222222,
              "#7201a8"
             ],
             [
              0.3333333333333333,
              "#9c179e"
             ],
             [
              0.4444444444444444,
              "#bd3786"
             ],
             [
              0.5555555555555556,
              "#d8576b"
             ],
             [
              0.6666666666666666,
              "#ed7953"
             ],
             [
              0.7777777777777778,
              "#fb9f3a"
             ],
             [
              0.8888888888888888,
              "#fdca26"
             ],
             [
              1,
              "#f0f921"
             ]
            ],
            "type": "histogram2dcontour"
           }
          ],
          "mesh3d": [
           {
            "colorbar": {
             "outlinewidth": 0,
             "ticks": ""
            },
            "type": "mesh3d"
           }
          ],
          "parcoords": [
           {
            "line": {
             "colorbar": {
              "outlinewidth": 0,
              "ticks": ""
             }
            },
            "type": "parcoords"
           }
          ],
          "pie": [
           {
            "automargin": true,
            "type": "pie"
           }
          ],
          "scatter": [
           {
            "fillpattern": {
             "fillmode": "overlay",
             "size": 10,
             "solidity": 0.2
            },
            "type": "scatter"
           }
          ],
          "scatter3d": [
           {
            "line": {
             "colorbar": {
              "outlinewidth": 0,
              "ticks": ""
             }
            },
            "marker": {
             "colorbar": {
              "outlinewidth": 0,
              "ticks": ""
             }
            },
            "type": "scatter3d"
           }
          ],
          "scattercarpet": [
           {
            "marker": {
             "colorbar": {
              "outlinewidth": 0,
              "ticks": ""
             }
            },
            "type": "scattercarpet"
           }
          ],
          "scattergeo": [
           {
            "marker": {
             "colorbar": {
              "outlinewidth": 0,
              "ticks": ""
             }
            },
            "type": "scattergeo"
           }
          ],
          "scattergl": [
           {
            "marker": {
             "colorbar": {
              "outlinewidth": 0,
              "ticks": ""
             }
            },
            "type": "scattergl"
           }
          ],
          "scattermap": [
           {
            "marker": {
             "colorbar": {
              "outlinewidth": 0,
              "ticks": ""
             }
            },
            "type": "scattermap"
           }
          ],
          "scattermapbox": [
           {
            "marker": {
             "colorbar": {
              "outlinewidth": 0,
              "ticks": ""
             }
            },
            "type": "scattermapbox"
           }
          ],
          "scatterpolar": [
           {
            "marker": {
             "colorbar": {
              "outlinewidth": 0,
              "ticks": ""
             }
            },
            "type": "scatterpolar"
           }
          ],
          "scatterpolargl": [
           {
            "marker": {
             "colorbar": {
              "outlinewidth": 0,
              "ticks": ""
             }
            },
            "type": "scatterpolargl"
           }
          ],
          "scatterternary": [
           {
            "marker": {
             "colorbar": {
              "outlinewidth": 0,
              "ticks": ""
             }
            },
            "type": "scatterternary"
           }
          ],
          "surface": [
           {
            "colorbar": {
             "outlinewidth": 0,
             "ticks": ""
            },
            "colorscale": [
             [
              0,
              "#0d0887"
             ],
             [
              0.1111111111111111,
              "#46039f"
             ],
             [
              0.2222222222222222,
              "#7201a8"
             ],
             [
              0.3333333333333333,
              "#9c179e"
             ],
             [
              0.4444444444444444,
              "#bd3786"
             ],
             [
              0.5555555555555556,
              "#d8576b"
             ],
             [
              0.6666666666666666,
              "#ed7953"
             ],
             [
              0.7777777777777778,
              "#fb9f3a"
             ],
             [
              0.8888888888888888,
              "#fdca26"
             ],
             [
              1,
              "#f0f921"
             ]
            ],
            "type": "surface"
           }
          ],
          "table": [
           {
            "cells": {
             "fill": {
              "color": "#EBF0F8"
             },
             "line": {
              "color": "white"
             }
            },
            "header": {
             "fill": {
              "color": "#C8D4E3"
             },
             "line": {
              "color": "white"
             }
            },
            "type": "table"
           }
          ]
         },
         "layout": {
          "annotationdefaults": {
           "arrowcolor": "#2a3f5f",
           "arrowhead": 0,
           "arrowwidth": 1
          },
          "autotypenumbers": "strict",
          "coloraxis": {
           "colorbar": {
            "outlinewidth": 0,
            "ticks": ""
           }
          },
          "colorscale": {
           "diverging": [
            [
             0,
             "#8e0152"
            ],
            [
             0.1,
             "#c51b7d"
            ],
            [
             0.2,
             "#de77ae"
            ],
            [
             0.3,
             "#f1b6da"
            ],
            [
             0.4,
             "#fde0ef"
            ],
            [
             0.5,
             "#f7f7f7"
            ],
            [
             0.6,
             "#e6f5d0"
            ],
            [
             0.7,
             "#b8e186"
            ],
            [
             0.8,
             "#7fbc41"
            ],
            [
             0.9,
             "#4d9221"
            ],
            [
             1,
             "#276419"
            ]
           ],
           "sequential": [
            [
             0,
             "#0d0887"
            ],
            [
             0.1111111111111111,
             "#46039f"
            ],
            [
             0.2222222222222222,
             "#7201a8"
            ],
            [
             0.3333333333333333,
             "#9c179e"
            ],
            [
             0.4444444444444444,
             "#bd3786"
            ],
            [
             0.5555555555555556,
             "#d8576b"
            ],
            [
             0.6666666666666666,
             "#ed7953"
            ],
            [
             0.7777777777777778,
             "#fb9f3a"
            ],
            [
             0.8888888888888888,
             "#fdca26"
            ],
            [
             1,
             "#f0f921"
            ]
           ],
           "sequentialminus": [
            [
             0,
             "#0d0887"
            ],
            [
             0.1111111111111111,
             "#46039f"
            ],
            [
             0.2222222222222222,
             "#7201a8"
            ],
            [
             0.3333333333333333,
             "#9c179e"
            ],
            [
             0.4444444444444444,
             "#bd3786"
            ],
            [
             0.5555555555555556,
             "#d8576b"
            ],
            [
             0.6666666666666666,
             "#ed7953"
            ],
            [
             0.7777777777777778,
             "#fb9f3a"
            ],
            [
             0.8888888888888888,
             "#fdca26"
            ],
            [
             1,
             "#f0f921"
            ]
           ]
          },
          "colorway": [
           "#636efa",
           "#EF553B",
           "#00cc96",
           "#ab63fa",
           "#FFA15A",
           "#19d3f3",
           "#FF6692",
           "#B6E880",
           "#FF97FF",
           "#FECB52"
          ],
          "font": {
           "color": "#2a3f5f"
          },
          "geo": {
           "bgcolor": "white",
           "lakecolor": "white",
           "landcolor": "white",
           "showlakes": true,
           "showland": true,
           "subunitcolor": "#C8D4E3"
          },
          "hoverlabel": {
           "align": "left"
          },
          "hovermode": "closest",
          "mapbox": {
           "style": "light"
          },
          "paper_bgcolor": "white",
          "plot_bgcolor": "white",
          "polar": {
           "angularaxis": {
            "gridcolor": "#EBF0F8",
            "linecolor": "#EBF0F8",
            "ticks": ""
           },
           "bgcolor": "white",
           "radialaxis": {
            "gridcolor": "#EBF0F8",
            "linecolor": "#EBF0F8",
            "ticks": ""
           }
          },
          "scene": {
           "xaxis": {
            "backgroundcolor": "white",
            "gridcolor": "#DFE8F3",
            "gridwidth": 2,
            "linecolor": "#EBF0F8",
            "showbackground": true,
            "ticks": "",
            "zerolinecolor": "#EBF0F8"
           },
           "yaxis": {
            "backgroundcolor": "white",
            "gridcolor": "#DFE8F3",
            "gridwidth": 2,
            "linecolor": "#EBF0F8",
            "showbackground": true,
            "ticks": "",
            "zerolinecolor": "#EBF0F8"
           },
           "zaxis": {
            "backgroundcolor": "white",
            "gridcolor": "#DFE8F3",
            "gridwidth": 2,
            "linecolor": "#EBF0F8",
            "showbackground": true,
            "ticks": "",
            "zerolinecolor": "#EBF0F8"
           }
          },
          "shapedefaults": {
           "line": {
            "color": "#2a3f5f"
           }
          },
          "ternary": {
           "aaxis": {
            "gridcolor": "#DFE8F3",
            "linecolor": "#A2B1C6",
            "ticks": ""
           },
           "baxis": {
            "gridcolor": "#DFE8F3",
            "linecolor": "#A2B1C6",
            "ticks": ""
           },
           "bgcolor": "white",
           "caxis": {
            "gridcolor": "#DFE8F3",
            "linecolor": "#A2B1C6",
            "ticks": ""
           }
          },
          "title": {
           "x": 0.05
          },
          "xaxis": {
           "automargin": true,
           "gridcolor": "#EBF0F8",
           "linecolor": "#EBF0F8",
           "ticks": "",
           "title": {
            "standoff": 15
           },
           "zerolinecolor": "#EBF0F8",
           "zerolinewidth": 2
          },
          "yaxis": {
           "automargin": true,
           "gridcolor": "#EBF0F8",
           "linecolor": "#EBF0F8",
           "ticks": "",
           "title": {
            "standoff": 15
           },
           "zerolinecolor": "#EBF0F8",
           "zerolinewidth": 2
          }
         }
        },
        "title": {
         "text": "Siemens Stock Price Over Time"
        },
        "xaxis": {
         "anchor": "y",
         "domain": [
          0,
          1
         ],
         "tickangle": 45,
         "title": {
          "text": "Date"
         }
        },
        "yaxis": {
         "anchor": "x",
         "domain": [
          0,
          1
         ],
         "title": {
          "text": "Stock Price (€)"
         }
        }
       }
      }
     },
     "metadata": {},
     "output_type": "display_data"
    }
   ],
   "source": [
    "fig = px.line(stock2, x=stock2.index, y=\"Price\", markers=True, \n",
    "              title=\"Siemens Stock Price Over Time\", \n",
    "              labels={\"Price\": \"Stock Price (€)\", \"index\": \"Date\"})\n",
    "\n",
    "fig.update_layout(xaxis=dict(title=\"Date\", tickangle=45), \n",
    "                  yaxis=dict(title=\"Stock Price (€)\"),\n",
    "                  template=\"plotly_white\")\n",
    "\n",
    "fig.show()"
   ]
  },
  {
   "cell_type": "code",
   "execution_count": 12,
   "id": "1432702b",
   "metadata": {},
   "outputs": [
    {
     "data": {
      "application/vnd.plotly.v1+json": {
       "config": {
        "plotlyServerURL": "https://plot.ly"
       },
       "data": [
        {
         "hovertemplate": "Date=%{x}<br>Trading Volume=%{y}<extra></extra>",
         "legendgroup": "",
         "marker": {
          "color": "#009C8C",
          "pattern": {
           "shape": ""
          }
         },
         "name": "",
         "orientation": "v",
         "showlegend": false,
         "textposition": "auto",
         "type": "bar",
         "x": [
          "2018-10-01T00:00:00.000000000",
          "2018-11-01T00:00:00.000000000",
          "2018-12-01T00:00:00.000000000",
          "2019-01-01T00:00:00.000000000",
          "2019-02-01T00:00:00.000000000",
          "2019-03-01T00:00:00.000000000",
          "2019-04-01T00:00:00.000000000",
          "2019-05-01T00:00:00.000000000",
          "2019-06-01T00:00:00.000000000",
          "2019-07-01T00:00:00.000000000",
          "2019-08-01T00:00:00.000000000",
          "2019-09-01T00:00:00.000000000",
          "2019-10-01T00:00:00.000000000",
          "2019-11-01T00:00:00.000000000",
          "2019-12-01T00:00:00.000000000",
          "2020-01-01T00:00:00.000000000",
          "2020-02-01T00:00:00.000000000",
          "2020-03-01T00:00:00.000000000",
          "2020-04-01T00:00:00.000000000",
          "2020-05-01T00:00:00.000000000",
          "2020-06-01T00:00:00.000000000",
          "2020-07-01T00:00:00.000000000",
          "2020-08-01T00:00:00.000000000",
          "2020-09-01T00:00:00.000000000",
          "2020-10-01T00:00:00.000000000",
          "2020-11-01T00:00:00.000000000",
          "2020-12-01T00:00:00.000000000",
          "2021-01-01T00:00:00.000000000",
          "2021-02-01T00:00:00.000000000",
          "2021-03-01T00:00:00.000000000",
          "2021-04-01T00:00:00.000000000",
          "2021-05-01T00:00:00.000000000",
          "2021-06-01T00:00:00.000000000",
          "2021-07-01T00:00:00.000000000",
          "2021-08-01T00:00:00.000000000",
          "2021-09-01T00:00:00.000000000",
          "2021-10-01T00:00:00.000000000",
          "2021-11-01T00:00:00.000000000",
          "2021-12-01T00:00:00.000000000",
          "2022-01-01T00:00:00.000000000",
          "2022-02-01T00:00:00.000000000",
          "2022-03-01T00:00:00.000000000",
          "2022-04-01T00:00:00.000000000"
         ],
         "xaxis": "x",
         "y": {
          "bdata": "AAAAAHFOjUEAAACA5AGHQQAAAIALOodBAAAAgI8YiUEAAACAeumGQQAAAAB6OIZBAAAAgADIgUEAAACARzCHQQAAAAAbzoFBAAAAAJSNhUEAAAAAduWMQQAAAIAz8oNBAAAAgCnEhEEAAACAh1uFQQAAAAC+mIJBAAAAADWUg0EAAAAARnCMQQAAAOAY66FBAAAAwBS1kUEAAACAwO+KQQAAAACuNYxBAAAAgL3ngUEAAAAAk+99QQAAAACeLIdBAAAAgGY6gUEAAACAAZuFQQAAAIC1m4BBAAAAAAwJg0EAAAAAtJ9/QQAAAACOI4JBAAAAAPKVeEEAAAAAGmyAQQAAAADYsXtBAAAAACILeUEAAAAA4+50QQAAAIAWd4BBAAAAACiTd0EAAACAh3mAQQAAAACLwXdBAAAAAP9afkEAAAAAGV2GQQAAAACpnoxBAAAAgBsOgEE=",
          "dtype": "f8"
         },
         "yaxis": "y"
        }
       ],
       "layout": {
        "barmode": "relative",
        "legend": {
         "tracegroupgap": 0
        },
        "template": {
         "data": {
          "bar": [
           {
            "error_x": {
             "color": "#2a3f5f"
            },
            "error_y": {
             "color": "#2a3f5f"
            },
            "marker": {
             "line": {
              "color": "#E5ECF6",
              "width": 0.5
             },
             "pattern": {
              "fillmode": "overlay",
              "size": 10,
              "solidity": 0.2
             }
            },
            "type": "bar"
           }
          ],
          "barpolar": [
           {
            "marker": {
             "line": {
              "color": "#E5ECF6",
              "width": 0.5
             },
             "pattern": {
              "fillmode": "overlay",
              "size": 10,
              "solidity": 0.2
             }
            },
            "type": "barpolar"
           }
          ],
          "carpet": [
           {
            "aaxis": {
             "endlinecolor": "#2a3f5f",
             "gridcolor": "white",
             "linecolor": "white",
             "minorgridcolor": "white",
             "startlinecolor": "#2a3f5f"
            },
            "baxis": {
             "endlinecolor": "#2a3f5f",
             "gridcolor": "white",
             "linecolor": "white",
             "minorgridcolor": "white",
             "startlinecolor": "#2a3f5f"
            },
            "type": "carpet"
           }
          ],
          "choropleth": [
           {
            "colorbar": {
             "outlinewidth": 0,
             "ticks": ""
            },
            "type": "choropleth"
           }
          ],
          "contour": [
           {
            "colorbar": {
             "outlinewidth": 0,
             "ticks": ""
            },
            "colorscale": [
             [
              0,
              "#0d0887"
             ],
             [
              0.1111111111111111,
              "#46039f"
             ],
             [
              0.2222222222222222,
              "#7201a8"
             ],
             [
              0.3333333333333333,
              "#9c179e"
             ],
             [
              0.4444444444444444,
              "#bd3786"
             ],
             [
              0.5555555555555556,
              "#d8576b"
             ],
             [
              0.6666666666666666,
              "#ed7953"
             ],
             [
              0.7777777777777778,
              "#fb9f3a"
             ],
             [
              0.8888888888888888,
              "#fdca26"
             ],
             [
              1,
              "#f0f921"
             ]
            ],
            "type": "contour"
           }
          ],
          "contourcarpet": [
           {
            "colorbar": {
             "outlinewidth": 0,
             "ticks": ""
            },
            "type": "contourcarpet"
           }
          ],
          "heatmap": [
           {
            "colorbar": {
             "outlinewidth": 0,
             "ticks": ""
            },
            "colorscale": [
             [
              0,
              "#0d0887"
             ],
             [
              0.1111111111111111,
              "#46039f"
             ],
             [
              0.2222222222222222,
              "#7201a8"
             ],
             [
              0.3333333333333333,
              "#9c179e"
             ],
             [
              0.4444444444444444,
              "#bd3786"
             ],
             [
              0.5555555555555556,
              "#d8576b"
             ],
             [
              0.6666666666666666,
              "#ed7953"
             ],
             [
              0.7777777777777778,
              "#fb9f3a"
             ],
             [
              0.8888888888888888,
              "#fdca26"
             ],
             [
              1,
              "#f0f921"
             ]
            ],
            "type": "heatmap"
           }
          ],
          "histogram": [
           {
            "marker": {
             "pattern": {
              "fillmode": "overlay",
              "size": 10,
              "solidity": 0.2
             }
            },
            "type": "histogram"
           }
          ],
          "histogram2d": [
           {
            "colorbar": {
             "outlinewidth": 0,
             "ticks": ""
            },
            "colorscale": [
             [
              0,
              "#0d0887"
             ],
             [
              0.1111111111111111,
              "#46039f"
             ],
             [
              0.2222222222222222,
              "#7201a8"
             ],
             [
              0.3333333333333333,
              "#9c179e"
             ],
             [
              0.4444444444444444,
              "#bd3786"
             ],
             [
              0.5555555555555556,
              "#d8576b"
             ],
             [
              0.6666666666666666,
              "#ed7953"
             ],
             [
              0.7777777777777778,
              "#fb9f3a"
             ],
             [
              0.8888888888888888,
              "#fdca26"
             ],
             [
              1,
              "#f0f921"
             ]
            ],
            "type": "histogram2d"
           }
          ],
          "histogram2dcontour": [
           {
            "colorbar": {
             "outlinewidth": 0,
             "ticks": ""
            },
            "colorscale": [
             [
              0,
              "#0d0887"
             ],
             [
              0.1111111111111111,
              "#46039f"
             ],
             [
              0.2222222222222222,
              "#7201a8"
             ],
             [
              0.3333333333333333,
              "#9c179e"
             ],
             [
              0.4444444444444444,
              "#bd3786"
             ],
             [
              0.5555555555555556,
              "#d8576b"
             ],
             [
              0.6666666666666666,
              "#ed7953"
             ],
             [
              0.7777777777777778,
              "#fb9f3a"
             ],
             [
              0.8888888888888888,
              "#fdca26"
             ],
             [
              1,
              "#f0f921"
             ]
            ],
            "type": "histogram2dcontour"
           }
          ],
          "mesh3d": [
           {
            "colorbar": {
             "outlinewidth": 0,
             "ticks": ""
            },
            "type": "mesh3d"
           }
          ],
          "parcoords": [
           {
            "line": {
             "colorbar": {
              "outlinewidth": 0,
              "ticks": ""
             }
            },
            "type": "parcoords"
           }
          ],
          "pie": [
           {
            "automargin": true,
            "type": "pie"
           }
          ],
          "scatter": [
           {
            "fillpattern": {
             "fillmode": "overlay",
             "size": 10,
             "solidity": 0.2
            },
            "type": "scatter"
           }
          ],
          "scatter3d": [
           {
            "line": {
             "colorbar": {
              "outlinewidth": 0,
              "ticks": ""
             }
            },
            "marker": {
             "colorbar": {
              "outlinewidth": 0,
              "ticks": ""
             }
            },
            "type": "scatter3d"
           }
          ],
          "scattercarpet": [
           {
            "marker": {
             "colorbar": {
              "outlinewidth": 0,
              "ticks": ""
             }
            },
            "type": "scattercarpet"
           }
          ],
          "scattergeo": [
           {
            "marker": {
             "colorbar": {
              "outlinewidth": 0,
              "ticks": ""
             }
            },
            "type": "scattergeo"
           }
          ],
          "scattergl": [
           {
            "marker": {
             "colorbar": {
              "outlinewidth": 0,
              "ticks": ""
             }
            },
            "type": "scattergl"
           }
          ],
          "scattermap": [
           {
            "marker": {
             "colorbar": {
              "outlinewidth": 0,
              "ticks": ""
             }
            },
            "type": "scattermap"
           }
          ],
          "scattermapbox": [
           {
            "marker": {
             "colorbar": {
              "outlinewidth": 0,
              "ticks": ""
             }
            },
            "type": "scattermapbox"
           }
          ],
          "scatterpolar": [
           {
            "marker": {
             "colorbar": {
              "outlinewidth": 0,
              "ticks": ""
             }
            },
            "type": "scatterpolar"
           }
          ],
          "scatterpolargl": [
           {
            "marker": {
             "colorbar": {
              "outlinewidth": 0,
              "ticks": ""
             }
            },
            "type": "scatterpolargl"
           }
          ],
          "scatterternary": [
           {
            "marker": {
             "colorbar": {
              "outlinewidth": 0,
              "ticks": ""
             }
            },
            "type": "scatterternary"
           }
          ],
          "surface": [
           {
            "colorbar": {
             "outlinewidth": 0,
             "ticks": ""
            },
            "colorscale": [
             [
              0,
              "#0d0887"
             ],
             [
              0.1111111111111111,
              "#46039f"
             ],
             [
              0.2222222222222222,
              "#7201a8"
             ],
             [
              0.3333333333333333,
              "#9c179e"
             ],
             [
              0.4444444444444444,
              "#bd3786"
             ],
             [
              0.5555555555555556,
              "#d8576b"
             ],
             [
              0.6666666666666666,
              "#ed7953"
             ],
             [
              0.7777777777777778,
              "#fb9f3a"
             ],
             [
              0.8888888888888888,
              "#fdca26"
             ],
             [
              1,
              "#f0f921"
             ]
            ],
            "type": "surface"
           }
          ],
          "table": [
           {
            "cells": {
             "fill": {
              "color": "#EBF0F8"
             },
             "line": {
              "color": "white"
             }
            },
            "header": {
             "fill": {
              "color": "#C8D4E3"
             },
             "line": {
              "color": "white"
             }
            },
            "type": "table"
           }
          ]
         },
         "layout": {
          "annotationdefaults": {
           "arrowcolor": "#2a3f5f",
           "arrowhead": 0,
           "arrowwidth": 1
          },
          "autotypenumbers": "strict",
          "coloraxis": {
           "colorbar": {
            "outlinewidth": 0,
            "ticks": ""
           }
          },
          "colorscale": {
           "diverging": [
            [
             0,
             "#8e0152"
            ],
            [
             0.1,
             "#c51b7d"
            ],
            [
             0.2,
             "#de77ae"
            ],
            [
             0.3,
             "#f1b6da"
            ],
            [
             0.4,
             "#fde0ef"
            ],
            [
             0.5,
             "#f7f7f7"
            ],
            [
             0.6,
             "#e6f5d0"
            ],
            [
             0.7,
             "#b8e186"
            ],
            [
             0.8,
             "#7fbc41"
            ],
            [
             0.9,
             "#4d9221"
            ],
            [
             1,
             "#276419"
            ]
           ],
           "sequential": [
            [
             0,
             "#0d0887"
            ],
            [
             0.1111111111111111,
             "#46039f"
            ],
            [
             0.2222222222222222,
             "#7201a8"
            ],
            [
             0.3333333333333333,
             "#9c179e"
            ],
            [
             0.4444444444444444,
             "#bd3786"
            ],
            [
             0.5555555555555556,
             "#d8576b"
            ],
            [
             0.6666666666666666,
             "#ed7953"
            ],
            [
             0.7777777777777778,
             "#fb9f3a"
            ],
            [
             0.8888888888888888,
             "#fdca26"
            ],
            [
             1,
             "#f0f921"
            ]
           ],
           "sequentialminus": [
            [
             0,
             "#0d0887"
            ],
            [
             0.1111111111111111,
             "#46039f"
            ],
            [
             0.2222222222222222,
             "#7201a8"
            ],
            [
             0.3333333333333333,
             "#9c179e"
            ],
            [
             0.4444444444444444,
             "#bd3786"
            ],
            [
             0.5555555555555556,
             "#d8576b"
            ],
            [
             0.6666666666666666,
             "#ed7953"
            ],
            [
             0.7777777777777778,
             "#fb9f3a"
            ],
            [
             0.8888888888888888,
             "#fdca26"
            ],
            [
             1,
             "#f0f921"
            ]
           ]
          },
          "colorway": [
           "#636efa",
           "#EF553B",
           "#00cc96",
           "#ab63fa",
           "#FFA15A",
           "#19d3f3",
           "#FF6692",
           "#B6E880",
           "#FF97FF",
           "#FECB52"
          ],
          "font": {
           "color": "#2a3f5f"
          },
          "geo": {
           "bgcolor": "white",
           "lakecolor": "white",
           "landcolor": "#E5ECF6",
           "showlakes": true,
           "showland": true,
           "subunitcolor": "white"
          },
          "hoverlabel": {
           "align": "left"
          },
          "hovermode": "closest",
          "mapbox": {
           "style": "light"
          },
          "paper_bgcolor": "white",
          "plot_bgcolor": "#E5ECF6",
          "polar": {
           "angularaxis": {
            "gridcolor": "white",
            "linecolor": "white",
            "ticks": ""
           },
           "bgcolor": "#E5ECF6",
           "radialaxis": {
            "gridcolor": "white",
            "linecolor": "white",
            "ticks": ""
           }
          },
          "scene": {
           "xaxis": {
            "backgroundcolor": "#E5ECF6",
            "gridcolor": "white",
            "gridwidth": 2,
            "linecolor": "white",
            "showbackground": true,
            "ticks": "",
            "zerolinecolor": "white"
           },
           "yaxis": {
            "backgroundcolor": "#E5ECF6",
            "gridcolor": "white",
            "gridwidth": 2,
            "linecolor": "white",
            "showbackground": true,
            "ticks": "",
            "zerolinecolor": "white"
           },
           "zaxis": {
            "backgroundcolor": "#E5ECF6",
            "gridcolor": "white",
            "gridwidth": 2,
            "linecolor": "white",
            "showbackground": true,
            "ticks": "",
            "zerolinecolor": "white"
           }
          },
          "shapedefaults": {
           "line": {
            "color": "#2a3f5f"
           }
          },
          "ternary": {
           "aaxis": {
            "gridcolor": "white",
            "linecolor": "white",
            "ticks": ""
           },
           "baxis": {
            "gridcolor": "white",
            "linecolor": "white",
            "ticks": ""
           },
           "bgcolor": "#E5ECF6",
           "caxis": {
            "gridcolor": "white",
            "linecolor": "white",
            "ticks": ""
           }
          },
          "title": {
           "x": 0.05
          },
          "xaxis": {
           "automargin": true,
           "gridcolor": "white",
           "linecolor": "white",
           "ticks": "",
           "title": {
            "standoff": 15
           },
           "zerolinecolor": "white",
           "zerolinewidth": 2
          },
          "yaxis": {
           "automargin": true,
           "gridcolor": "white",
           "linecolor": "white",
           "ticks": "",
           "title": {
            "standoff": 15
           },
           "zerolinecolor": "white",
           "zerolinewidth": 2
          }
         }
        },
        "title": {
         "text": "Monthly Trading Volume"
        },
        "xaxis": {
         "anchor": "y",
         "domain": [
          0,
          1
         ],
         "tickangle": -45,
         "title": {
          "text": "Date"
         }
        },
        "yaxis": {
         "anchor": "x",
         "domain": [
          0,
          1
         ],
         "title": {
          "text": "Trading Volume"
         }
        }
       }
      }
     },
     "metadata": {},
     "output_type": "display_data"
    }
   ],
   "source": [
    "stock2_sorted = stock2[::-1]\n",
    "fig = px.bar(stock2_sorted, x=stock2_sorted.index, y=\"Volume\", \n",
    "             title=\"Monthly Trading Volume\", labels={\"index\": \"Date\", \"Volume\": \"Trading Volume\"},\n",
    "             color_discrete_sequence=[\"#009C8C\"])\n",
    "fig.update_layout(xaxis=dict(tickangle=-45))\n",
    "fig.show()"
   ]
  },
  {
   "cell_type": "code",
   "execution_count": 13,
   "id": "1b06cf21",
   "metadata": {},
   "outputs": [
    {
     "data": {
      "application/vnd.plotly.v1+json": {
       "config": {
        "plotlyServerURL": "https://plot.ly"
       },
       "data": [
        {
         "marker": {
          "color": "red"
         },
         "mode": "lines+markers",
         "name": "Change %",
         "type": "scatter",
         "x": [
          "2022-04-01T00:00:00.000000000",
          "2022-03-01T00:00:00.000000000",
          "2022-02-01T00:00:00.000000000",
          "2022-01-01T00:00:00.000000000",
          "2021-12-01T00:00:00.000000000",
          "2021-11-01T00:00:00.000000000",
          "2021-10-01T00:00:00.000000000",
          "2021-09-01T00:00:00.000000000",
          "2021-08-01T00:00:00.000000000",
          "2021-07-01T00:00:00.000000000",
          "2021-06-01T00:00:00.000000000",
          "2021-05-01T00:00:00.000000000",
          "2021-04-01T00:00:00.000000000",
          "2021-03-01T00:00:00.000000000",
          "2021-02-01T00:00:00.000000000",
          "2021-01-01T00:00:00.000000000",
          "2020-12-01T00:00:00.000000000",
          "2020-11-01T00:00:00.000000000",
          "2020-10-01T00:00:00.000000000",
          "2020-09-01T00:00:00.000000000",
          "2020-08-01T00:00:00.000000000",
          "2020-07-01T00:00:00.000000000",
          "2020-06-01T00:00:00.000000000",
          "2020-05-01T00:00:00.000000000",
          "2020-04-01T00:00:00.000000000",
          "2020-03-01T00:00:00.000000000",
          "2020-02-01T00:00:00.000000000",
          "2020-01-01T00:00:00.000000000",
          "2019-12-01T00:00:00.000000000",
          "2019-11-01T00:00:00.000000000",
          "2019-10-01T00:00:00.000000000",
          "2019-09-01T00:00:00.000000000",
          "2019-08-01T00:00:00.000000000",
          "2019-07-01T00:00:00.000000000",
          "2019-06-01T00:00:00.000000000",
          "2019-05-01T00:00:00.000000000",
          "2019-04-01T00:00:00.000000000",
          "2019-03-01T00:00:00.000000000",
          "2019-02-01T00:00:00.000000000",
          "2019-01-01T00:00:00.000000000",
          "2018-12-01T00:00:00.000000000",
          "2018-11-01T00:00:00.000000000",
          "2018-10-01T00:00:00.000000000"
         ],
         "y": {
          "bdata": "FK5H4XoUGcBI4XoUrkfpv2ZmZmZm5iLAw/UoXI/CIMCkcD0K1yMgQLgehetRuOY/j8L1KFyP8r+kcD0K16PoPylcj8L1KBxAexSuR+F6+L+uR+F6FK7nP83MzMzMzBHA4XoUrkfh6r9I4XoUrsciQLgehetRuJ4/PQrXo3C9IUC4HoXrUbgTQHE9CtejcCZApHA9CtejGsDD9Shcj8ILQB+F61G4HhtAMzMzMzMzC0BI4XoUrkcZQFyPwvUoXDBAH4XrUbieIkDhehSuR+EwwIXrUbgehTDAzczMzMzMEMAAAAAAAADgvxSuR+F6lCpA4XoUrkfhFECPwvUoXA8gQD0K16NwPSDAcT0K16NwFcD2KFyPwvUIQOF6FK5H4RPAhetRuB6FJkCamZmZmZnJv65H4XoUrtc/PQrXo3A9+r+amZmZmZkTwHE9CtejcOU/PQrXo3A9H8A=",
          "dtype": "f8"
         }
        }
       ],
       "layout": {
        "shapes": [
         {
          "line": {
           "color": "black",
           "dash": "dash",
           "width": 1
          },
          "type": "line",
          "x0": 0,
          "x1": 1,
          "xref": "x domain",
          "y0": 0,
          "y1": 0,
          "yref": "y"
         }
        ],
        "showlegend": true,
        "template": {
         "data": {
          "bar": [
           {
            "error_x": {
             "color": "#2a3f5f"
            },
            "error_y": {
             "color": "#2a3f5f"
            },
            "marker": {
             "line": {
              "color": "white",
              "width": 0.5
             },
             "pattern": {
              "fillmode": "overlay",
              "size": 10,
              "solidity": 0.2
             }
            },
            "type": "bar"
           }
          ],
          "barpolar": [
           {
            "marker": {
             "line": {
              "color": "white",
              "width": 0.5
             },
             "pattern": {
              "fillmode": "overlay",
              "size": 10,
              "solidity": 0.2
             }
            },
            "type": "barpolar"
           }
          ],
          "carpet": [
           {
            "aaxis": {
             "endlinecolor": "#2a3f5f",
             "gridcolor": "#C8D4E3",
             "linecolor": "#C8D4E3",
             "minorgridcolor": "#C8D4E3",
             "startlinecolor": "#2a3f5f"
            },
            "baxis": {
             "endlinecolor": "#2a3f5f",
             "gridcolor": "#C8D4E3",
             "linecolor": "#C8D4E3",
             "minorgridcolor": "#C8D4E3",
             "startlinecolor": "#2a3f5f"
            },
            "type": "carpet"
           }
          ],
          "choropleth": [
           {
            "colorbar": {
             "outlinewidth": 0,
             "ticks": ""
            },
            "type": "choropleth"
           }
          ],
          "contour": [
           {
            "colorbar": {
             "outlinewidth": 0,
             "ticks": ""
            },
            "colorscale": [
             [
              0,
              "#0d0887"
             ],
             [
              0.1111111111111111,
              "#46039f"
             ],
             [
              0.2222222222222222,
              "#7201a8"
             ],
             [
              0.3333333333333333,
              "#9c179e"
             ],
             [
              0.4444444444444444,
              "#bd3786"
             ],
             [
              0.5555555555555556,
              "#d8576b"
             ],
             [
              0.6666666666666666,
              "#ed7953"
             ],
             [
              0.7777777777777778,
              "#fb9f3a"
             ],
             [
              0.8888888888888888,
              "#fdca26"
             ],
             [
              1,
              "#f0f921"
             ]
            ],
            "type": "contour"
           }
          ],
          "contourcarpet": [
           {
            "colorbar": {
             "outlinewidth": 0,
             "ticks": ""
            },
            "type": "contourcarpet"
           }
          ],
          "heatmap": [
           {
            "colorbar": {
             "outlinewidth": 0,
             "ticks": ""
            },
            "colorscale": [
             [
              0,
              "#0d0887"
             ],
             [
              0.1111111111111111,
              "#46039f"
             ],
             [
              0.2222222222222222,
              "#7201a8"
             ],
             [
              0.3333333333333333,
              "#9c179e"
             ],
             [
              0.4444444444444444,
              "#bd3786"
             ],
             [
              0.5555555555555556,
              "#d8576b"
             ],
             [
              0.6666666666666666,
              "#ed7953"
             ],
             [
              0.7777777777777778,
              "#fb9f3a"
             ],
             [
              0.8888888888888888,
              "#fdca26"
             ],
             [
              1,
              "#f0f921"
             ]
            ],
            "type": "heatmap"
           }
          ],
          "histogram": [
           {
            "marker": {
             "pattern": {
              "fillmode": "overlay",
              "size": 10,
              "solidity": 0.2
             }
            },
            "type": "histogram"
           }
          ],
          "histogram2d": [
           {
            "colorbar": {
             "outlinewidth": 0,
             "ticks": ""
            },
            "colorscale": [
             [
              0,
              "#0d0887"
             ],
             [
              0.1111111111111111,
              "#46039f"
             ],
             [
              0.2222222222222222,
              "#7201a8"
             ],
             [
              0.3333333333333333,
              "#9c179e"
             ],
             [
              0.4444444444444444,
              "#bd3786"
             ],
             [
              0.5555555555555556,
              "#d8576b"
             ],
             [
              0.6666666666666666,
              "#ed7953"
             ],
             [
              0.7777777777777778,
              "#fb9f3a"
             ],
             [
              0.8888888888888888,
              "#fdca26"
             ],
             [
              1,
              "#f0f921"
             ]
            ],
            "type": "histogram2d"
           }
          ],
          "histogram2dcontour": [
           {
            "colorbar": {
             "outlinewidth": 0,
             "ticks": ""
            },
            "colorscale": [
             [
              0,
              "#0d0887"
             ],
             [
              0.1111111111111111,
              "#46039f"
             ],
             [
              0.2222222222222222,
              "#7201a8"
             ],
             [
              0.3333333333333333,
              "#9c179e"
             ],
             [
              0.4444444444444444,
              "#bd3786"
             ],
             [
              0.5555555555555556,
              "#d8576b"
             ],
             [
              0.6666666666666666,
              "#ed7953"
             ],
             [
              0.7777777777777778,
              "#fb9f3a"
             ],
             [
              0.8888888888888888,
              "#fdca26"
             ],
             [
              1,
              "#f0f921"
             ]
            ],
            "type": "histogram2dcontour"
           }
          ],
          "mesh3d": [
           {
            "colorbar": {
             "outlinewidth": 0,
             "ticks": ""
            },
            "type": "mesh3d"
           }
          ],
          "parcoords": [
           {
            "line": {
             "colorbar": {
              "outlinewidth": 0,
              "ticks": ""
             }
            },
            "type": "parcoords"
           }
          ],
          "pie": [
           {
            "automargin": true,
            "type": "pie"
           }
          ],
          "scatter": [
           {
            "fillpattern": {
             "fillmode": "overlay",
             "size": 10,
             "solidity": 0.2
            },
            "type": "scatter"
           }
          ],
          "scatter3d": [
           {
            "line": {
             "colorbar": {
              "outlinewidth": 0,
              "ticks": ""
             }
            },
            "marker": {
             "colorbar": {
              "outlinewidth": 0,
              "ticks": ""
             }
            },
            "type": "scatter3d"
           }
          ],
          "scattercarpet": [
           {
            "marker": {
             "colorbar": {
              "outlinewidth": 0,
              "ticks": ""
             }
            },
            "type": "scattercarpet"
           }
          ],
          "scattergeo": [
           {
            "marker": {
             "colorbar": {
              "outlinewidth": 0,
              "ticks": ""
             }
            },
            "type": "scattergeo"
           }
          ],
          "scattergl": [
           {
            "marker": {
             "colorbar": {
              "outlinewidth": 0,
              "ticks": ""
             }
            },
            "type": "scattergl"
           }
          ],
          "scattermap": [
           {
            "marker": {
             "colorbar": {
              "outlinewidth": 0,
              "ticks": ""
             }
            },
            "type": "scattermap"
           }
          ],
          "scattermapbox": [
           {
            "marker": {
             "colorbar": {
              "outlinewidth": 0,
              "ticks": ""
             }
            },
            "type": "scattermapbox"
           }
          ],
          "scatterpolar": [
           {
            "marker": {
             "colorbar": {
              "outlinewidth": 0,
              "ticks": ""
             }
            },
            "type": "scatterpolar"
           }
          ],
          "scatterpolargl": [
           {
            "marker": {
             "colorbar": {
              "outlinewidth": 0,
              "ticks": ""
             }
            },
            "type": "scatterpolargl"
           }
          ],
          "scatterternary": [
           {
            "marker": {
             "colorbar": {
              "outlinewidth": 0,
              "ticks": ""
             }
            },
            "type": "scatterternary"
           }
          ],
          "surface": [
           {
            "colorbar": {
             "outlinewidth": 0,
             "ticks": ""
            },
            "colorscale": [
             [
              0,
              "#0d0887"
             ],
             [
              0.1111111111111111,
              "#46039f"
             ],
             [
              0.2222222222222222,
              "#7201a8"
             ],
             [
              0.3333333333333333,
              "#9c179e"
             ],
             [
              0.4444444444444444,
              "#bd3786"
             ],
             [
              0.5555555555555556,
              "#d8576b"
             ],
             [
              0.6666666666666666,
              "#ed7953"
             ],
             [
              0.7777777777777778,
              "#fb9f3a"
             ],
             [
              0.8888888888888888,
              "#fdca26"
             ],
             [
              1,
              "#f0f921"
             ]
            ],
            "type": "surface"
           }
          ],
          "table": [
           {
            "cells": {
             "fill": {
              "color": "#EBF0F8"
             },
             "line": {
              "color": "white"
             }
            },
            "header": {
             "fill": {
              "color": "#C8D4E3"
             },
             "line": {
              "color": "white"
             }
            },
            "type": "table"
           }
          ]
         },
         "layout": {
          "annotationdefaults": {
           "arrowcolor": "#2a3f5f",
           "arrowhead": 0,
           "arrowwidth": 1
          },
          "autotypenumbers": "strict",
          "coloraxis": {
           "colorbar": {
            "outlinewidth": 0,
            "ticks": ""
           }
          },
          "colorscale": {
           "diverging": [
            [
             0,
             "#8e0152"
            ],
            [
             0.1,
             "#c51b7d"
            ],
            [
             0.2,
             "#de77ae"
            ],
            [
             0.3,
             "#f1b6da"
            ],
            [
             0.4,
             "#fde0ef"
            ],
            [
             0.5,
             "#f7f7f7"
            ],
            [
             0.6,
             "#e6f5d0"
            ],
            [
             0.7,
             "#b8e186"
            ],
            [
             0.8,
             "#7fbc41"
            ],
            [
             0.9,
             "#4d9221"
            ],
            [
             1,
             "#276419"
            ]
           ],
           "sequential": [
            [
             0,
             "#0d0887"
            ],
            [
             0.1111111111111111,
             "#46039f"
            ],
            [
             0.2222222222222222,
             "#7201a8"
            ],
            [
             0.3333333333333333,
             "#9c179e"
            ],
            [
             0.4444444444444444,
             "#bd3786"
            ],
            [
             0.5555555555555556,
             "#d8576b"
            ],
            [
             0.6666666666666666,
             "#ed7953"
            ],
            [
             0.7777777777777778,
             "#fb9f3a"
            ],
            [
             0.8888888888888888,
             "#fdca26"
            ],
            [
             1,
             "#f0f921"
            ]
           ],
           "sequentialminus": [
            [
             0,
             "#0d0887"
            ],
            [
             0.1111111111111111,
             "#46039f"
            ],
            [
             0.2222222222222222,
             "#7201a8"
            ],
            [
             0.3333333333333333,
             "#9c179e"
            ],
            [
             0.4444444444444444,
             "#bd3786"
            ],
            [
             0.5555555555555556,
             "#d8576b"
            ],
            [
             0.6666666666666666,
             "#ed7953"
            ],
            [
             0.7777777777777778,
             "#fb9f3a"
            ],
            [
             0.8888888888888888,
             "#fdca26"
            ],
            [
             1,
             "#f0f921"
            ]
           ]
          },
          "colorway": [
           "#636efa",
           "#EF553B",
           "#00cc96",
           "#ab63fa",
           "#FFA15A",
           "#19d3f3",
           "#FF6692",
           "#B6E880",
           "#FF97FF",
           "#FECB52"
          ],
          "font": {
           "color": "#2a3f5f"
          },
          "geo": {
           "bgcolor": "white",
           "lakecolor": "white",
           "landcolor": "white",
           "showlakes": true,
           "showland": true,
           "subunitcolor": "#C8D4E3"
          },
          "hoverlabel": {
           "align": "left"
          },
          "hovermode": "closest",
          "mapbox": {
           "style": "light"
          },
          "paper_bgcolor": "white",
          "plot_bgcolor": "white",
          "polar": {
           "angularaxis": {
            "gridcolor": "#EBF0F8",
            "linecolor": "#EBF0F8",
            "ticks": ""
           },
           "bgcolor": "white",
           "radialaxis": {
            "gridcolor": "#EBF0F8",
            "linecolor": "#EBF0F8",
            "ticks": ""
           }
          },
          "scene": {
           "xaxis": {
            "backgroundcolor": "white",
            "gridcolor": "#DFE8F3",
            "gridwidth": 2,
            "linecolor": "#EBF0F8",
            "showbackground": true,
            "ticks": "",
            "zerolinecolor": "#EBF0F8"
           },
           "yaxis": {
            "backgroundcolor": "white",
            "gridcolor": "#DFE8F3",
            "gridwidth": 2,
            "linecolor": "#EBF0F8",
            "showbackground": true,
            "ticks": "",
            "zerolinecolor": "#EBF0F8"
           },
           "zaxis": {
            "backgroundcolor": "white",
            "gridcolor": "#DFE8F3",
            "gridwidth": 2,
            "linecolor": "#EBF0F8",
            "showbackground": true,
            "ticks": "",
            "zerolinecolor": "#EBF0F8"
           }
          },
          "shapedefaults": {
           "line": {
            "color": "#2a3f5f"
           }
          },
          "ternary": {
           "aaxis": {
            "gridcolor": "#DFE8F3",
            "linecolor": "#A2B1C6",
            "ticks": ""
           },
           "baxis": {
            "gridcolor": "#DFE8F3",
            "linecolor": "#A2B1C6",
            "ticks": ""
           },
           "bgcolor": "white",
           "caxis": {
            "gridcolor": "#DFE8F3",
            "linecolor": "#A2B1C6",
            "ticks": ""
           }
          },
          "title": {
           "x": 0.05
          },
          "xaxis": {
           "automargin": true,
           "gridcolor": "#EBF0F8",
           "linecolor": "#EBF0F8",
           "ticks": "",
           "title": {
            "standoff": 15
           },
           "zerolinecolor": "#EBF0F8",
           "zerolinewidth": 2
          },
          "yaxis": {
           "automargin": true,
           "gridcolor": "#EBF0F8",
           "linecolor": "#EBF0F8",
           "ticks": "",
           "title": {
            "standoff": 15
           },
           "zerolinecolor": "#EBF0F8",
           "zerolinewidth": 2
          }
         }
        },
        "title": {
         "text": "Percentage Change Over Time"
        },
        "xaxis": {
         "tickangle": 45,
         "title": {
          "text": "Date"
         }
        },
        "yaxis": {
         "title": {
          "text": "Change %"
         }
        }
       }
      }
     },
     "metadata": {},
     "output_type": "display_data"
    }
   ],
   "source": [
    "fig = go.Figure()\n",
    "fig.add_trace(go.Scatter(x=stock2.index, y=stock2[\"Change %\"], \n",
    "                         mode='lines+markers', \n",
    "                         marker=dict(color='red'),\n",
    "                         name='Change %'))\n",
    "fig.add_hline(y=0, line=dict(dash='dash', color='black', width=1))\n",
    "fig.update_layout(\n",
    "    title=\"Percentage Change Over Time\",\n",
    "    xaxis_title=\"Date\",\n",
    "    yaxis_title=\"Change %\",\n",
    "    xaxis=dict(tickangle=45),\n",
    "    template=\"plotly_white\",\n",
    "    showlegend=True\n",
    ")\n",
    "fig.show()"
   ]
  },
  {
   "cell_type": "markdown",
   "id": "3116790e",
   "metadata": {},
   "source": [
    "Between November 2019 and March 2020, Siemens' stock price experienced its most significant decline within this timeframe. This may have been driven by the COVID-19 pandemic, which increased market instability and lowered demand. Additionally, two other possible factors could be the trade tensions between China and the United States and the oil price crash in early March 2020, caused by a dispute between Russia and Saudi Arabia. Interestingly, Siemens recorded the highest total number of shares traded in March 2020.\n",
    "\n",
    "From March 2020 to March 2021, Siemens' stock prices generally increased, despite some fluctuations, including a decline in October 2020.This increase can be attributed to the adjustment of global economies and the introduction of government stimulus measures to support businesses.\n",
    "\n",
    "After, December 2021 the stocks price decreased."
   ]
  },
  {
   "cell_type": "code",
   "execution_count": 10,
   "id": "a4ddc1f4",
   "metadata": {
    "ExecuteTime": {
     "end_time": "2025-03-21T18:12:01.526067Z",
     "start_time": "2025-03-21T18:12:01.519446Z"
    }
   },
   "outputs": [],
   "source": [
    "#stock2.to_csv('./extra data/clean_stock_data.csv')"
   ]
  },
  {
   "cell_type": "markdown",
   "id": "61b02a76",
   "metadata": {},
   "source": [
    "# 2. Consumer Confidence Data"
   ]
  },
  {
   "cell_type": "code",
   "execution_count": 11,
   "id": "d745401a",
   "metadata": {
    "ExecuteTime": {
     "end_time": "2025-03-21T18:12:01.538774Z",
     "start_time": "2025-03-21T18:12:01.527941Z"
    }
   },
   "outputs": [],
   "source": [
    "consumer_confidence = pd.read_csv('./extra data/composite_consumer_confidence.csv')\n",
    "\n",
    "consumer_confidence.drop(['STRUCTURE','STRUCTURE_ID', 'STRUCTURE_NAME', \n",
    "                          'ACTION', 'FREQ', 'Frequency of observation',\n",
    "                          'MEASURE', 'Measure', 'UNIT_MEASURE',\n",
    "                          'Unit of measure', 'ACTIVITY', 'Economic activity',\n",
    "                          'ADJUSTMENT', 'Adjustment', 'TRANSFORMATION',\n",
    "                          'Transformation', 'TIME_HORIZ', 'Time horizon',\n",
    "                          'METHODOLOGY', 'Calculation methodology', 'Time period',\n",
    "                          'Observation value', 'OBS_STATUS', 'UNIT_MULT', 'Observation status',\n",
    "                          'Unit multiplier', 'DECIMALS', 'BASE_PER', 'Base period', 'Decimals',\n",
    "                          'REF_AREA'],\n",
    "                         axis = 1, inplace = True)"
   ]
  },
  {
   "cell_type": "code",
   "execution_count": 12,
   "id": "f321aa3c",
   "metadata": {
    "ExecuteTime": {
     "end_time": "2025-03-21T18:12:01.545682Z",
     "start_time": "2025-03-21T18:12:01.540892Z"
    }
   },
   "outputs": [],
   "source": [
    "consumer_confidence['TIME_PERIOD'] =  pd.to_datetime(consumer_confidence['TIME_PERIOD'])\n",
    "consumer_confidence = consumer_confidence.set_index('TIME_PERIOD')"
   ]
  },
  {
   "cell_type": "code",
   "execution_count": 13,
   "id": "87a42495",
   "metadata": {
    "ExecuteTime": {
     "end_time": "2025-03-21T18:12:01.574455Z",
     "start_time": "2025-03-21T18:12:01.547653Z"
    },
    "scrolled": true
   },
   "outputs": [
    {
     "data": {
      "text/html": [
       "<div>\n",
       "<style scoped>\n",
       "    .dataframe tbody tr th:only-of-type {\n",
       "        vertical-align: middle;\n",
       "    }\n",
       "\n",
       "    .dataframe tbody tr th {\n",
       "        vertical-align: top;\n",
       "    }\n",
       "\n",
       "    .dataframe thead th {\n",
       "        text-align: right;\n",
       "    }\n",
       "</style>\n",
       "<table border=\"1\" class=\"dataframe\">\n",
       "  <thead>\n",
       "    <tr style=\"text-align: right;\">\n",
       "      <th>Reference area</th>\n",
       "      <th>China (People’s Republic of)</th>\n",
       "      <th>France</th>\n",
       "      <th>Germany</th>\n",
       "      <th>Italy</th>\n",
       "      <th>Japan</th>\n",
       "      <th>OECD Europe</th>\n",
       "      <th>Switzerland</th>\n",
       "      <th>United Kingdom</th>\n",
       "      <th>United States</th>\n",
       "    </tr>\n",
       "    <tr>\n",
       "      <th>TIME_PERIOD</th>\n",
       "      <th></th>\n",
       "      <th></th>\n",
       "      <th></th>\n",
       "      <th></th>\n",
       "      <th></th>\n",
       "      <th></th>\n",
       "      <th></th>\n",
       "      <th></th>\n",
       "      <th></th>\n",
       "    </tr>\n",
       "  </thead>\n",
       "  <tbody>\n",
       "    <tr>\n",
       "      <th>2018-10-01</th>\n",
       "      <td>102.80560</td>\n",
       "      <td>98.94864</td>\n",
       "      <td>101.57780</td>\n",
       "      <td>101.75880</td>\n",
       "      <td>100.38490</td>\n",
       "      <td>100.78150</td>\n",
       "      <td>100.31800</td>\n",
       "      <td>100.69820</td>\n",
       "      <td>101.50220</td>\n",
       "    </tr>\n",
       "    <tr>\n",
       "      <th>2018-11-01</th>\n",
       "      <td>103.23860</td>\n",
       "      <td>98.71818</td>\n",
       "      <td>101.54380</td>\n",
       "      <td>101.64500</td>\n",
       "      <td>100.28500</td>\n",
       "      <td>100.65950</td>\n",
       "      <td>100.30690</td>\n",
       "      <td>100.43900</td>\n",
       "      <td>101.39580</td>\n",
       "    </tr>\n",
       "    <tr>\n",
       "      <th>2018-12-01</th>\n",
       "      <td>103.63050</td>\n",
       "      <td>98.62968</td>\n",
       "      <td>101.51900</td>\n",
       "      <td>101.46420</td>\n",
       "      <td>100.17410</td>\n",
       "      <td>100.54540</td>\n",
       "      <td>100.17240</td>\n",
       "      <td>100.13600</td>\n",
       "      <td>101.22980</td>\n",
       "    </tr>\n",
       "    <tr>\n",
       "      <th>2019-01-01</th>\n",
       "      <td>103.94050</td>\n",
       "      <td>98.97886</td>\n",
       "      <td>101.53360</td>\n",
       "      <td>101.27480</td>\n",
       "      <td>100.02720</td>\n",
       "      <td>100.51800</td>\n",
       "      <td>99.97832</td>\n",
       "      <td>99.85248</td>\n",
       "      <td>101.03110</td>\n",
       "    </tr>\n",
       "    <tr>\n",
       "      <th>2019-02-01</th>\n",
       "      <td>104.15350</td>\n",
       "      <td>99.37622</td>\n",
       "      <td>101.54800</td>\n",
       "      <td>101.06060</td>\n",
       "      <td>99.87872</td>\n",
       "      <td>100.54310</td>\n",
       "      <td>99.80544</td>\n",
       "      <td>99.72394</td>\n",
       "      <td>101.08380</td>\n",
       "    </tr>\n",
       "    <tr>\n",
       "      <th>2019-03-01</th>\n",
       "      <td>104.15680</td>\n",
       "      <td>99.64111</td>\n",
       "      <td>101.55370</td>\n",
       "      <td>100.86540</td>\n",
       "      <td>99.72719</td>\n",
       "      <td>100.58930</td>\n",
       "      <td>99.71317</td>\n",
       "      <td>99.71399</td>\n",
       "      <td>101.29600</td>\n",
       "    </tr>\n",
       "    <tr>\n",
       "      <th>2019-04-01</th>\n",
       "      <td>104.13840</td>\n",
       "      <td>99.81876</td>\n",
       "      <td>101.50120</td>\n",
       "      <td>100.73060</td>\n",
       "      <td>99.60259</td>\n",
       "      <td>100.60550</td>\n",
       "      <td>99.67951</td>\n",
       "      <td>99.86852</td>\n",
       "      <td>101.45150</td>\n",
       "    </tr>\n",
       "    <tr>\n",
       "      <th>2019-05-01</th>\n",
       "      <td>104.07830</td>\n",
       "      <td>100.04490</td>\n",
       "      <td>101.37130</td>\n",
       "      <td>100.61370</td>\n",
       "      <td>99.42149</td>\n",
       "      <td>100.60470</td>\n",
       "      <td>99.67676</td>\n",
       "      <td>100.09940</td>\n",
       "      <td>101.53700</td>\n",
       "    </tr>\n",
       "    <tr>\n",
       "      <th>2019-06-01</th>\n",
       "      <td>104.08600</td>\n",
       "      <td>100.23850</td>\n",
       "      <td>101.18900</td>\n",
       "      <td>100.52410</td>\n",
       "      <td>99.19237</td>\n",
       "      <td>100.59400</td>\n",
       "      <td>99.68859</td>\n",
       "      <td>100.18070</td>\n",
       "      <td>101.44580</td>\n",
       "    </tr>\n",
       "    <tr>\n",
       "      <th>2019-07-01</th>\n",
       "      <td>103.95580</td>\n",
       "      <td>100.41990</td>\n",
       "      <td>101.03840</td>\n",
       "      <td>100.55600</td>\n",
       "      <td>98.98115</td>\n",
       "      <td>100.56030</td>\n",
       "      <td>99.69627</td>\n",
       "      <td>100.22200</td>\n",
       "      <td>101.22020</td>\n",
       "    </tr>\n",
       "    <tr>\n",
       "      <th>2019-08-01</th>\n",
       "      <td>103.82310</td>\n",
       "      <td>100.51670</td>\n",
       "      <td>100.93710</td>\n",
       "      <td>100.48140</td>\n",
       "      <td>98.78976</td>\n",
       "      <td>100.47570</td>\n",
       "      <td>99.68316</td>\n",
       "      <td>100.03370</td>\n",
       "      <td>100.93210</td>\n",
       "    </tr>\n",
       "    <tr>\n",
       "      <th>2019-09-01</th>\n",
       "      <td>103.89640</td>\n",
       "      <td>100.62310</td>\n",
       "      <td>100.92910</td>\n",
       "      <td>100.46380</td>\n",
       "      <td>98.65952</td>\n",
       "      <td>100.43570</td>\n",
       "      <td>99.64340</td>\n",
       "      <td>99.99068</td>\n",
       "      <td>100.93200</td>\n",
       "    </tr>\n",
       "    <tr>\n",
       "      <th>2019-10-01</th>\n",
       "      <td>104.05840</td>\n",
       "      <td>100.64390</td>\n",
       "      <td>100.93650</td>\n",
       "      <td>100.49760</td>\n",
       "      <td>98.78168</td>\n",
       "      <td>100.44280</td>\n",
       "      <td>99.61147</td>\n",
       "      <td>100.08980</td>\n",
       "      <td>101.12940</td>\n",
       "    </tr>\n",
       "    <tr>\n",
       "      <th>2019-11-01</th>\n",
       "      <td>104.24410</td>\n",
       "      <td>100.55090</td>\n",
       "      <td>101.03630</td>\n",
       "      <td>100.53610</td>\n",
       "      <td>99.08835</td>\n",
       "      <td>100.51910</td>\n",
       "      <td>99.62290</td>\n",
       "      <td>100.39450</td>\n",
       "      <td>101.39080</td>\n",
       "    </tr>\n",
       "    <tr>\n",
       "      <th>2019-12-01</th>\n",
       "      <td>104.33250</td>\n",
       "      <td>100.28400</td>\n",
       "      <td>101.04960</td>\n",
       "      <td>100.67880</td>\n",
       "      <td>99.26521</td>\n",
       "      <td>100.55960</td>\n",
       "      <td>99.66732</td>\n",
       "      <td>100.73540</td>\n",
       "      <td>101.61240</td>\n",
       "    </tr>\n",
       "    <tr>\n",
       "      <th>2020-01-01</th>\n",
       "      <td>104.04030</td>\n",
       "      <td>100.05190</td>\n",
       "      <td>100.96050</td>\n",
       "      <td>100.57990</td>\n",
       "      <td>99.09190</td>\n",
       "      <td>100.47930</td>\n",
       "      <td>99.59807</td>\n",
       "      <td>100.85710</td>\n",
       "      <td>101.61080</td>\n",
       "    </tr>\n",
       "    <tr>\n",
       "      <th>2020-02-01</th>\n",
       "      <td>103.36510</td>\n",
       "      <td>99.61428</td>\n",
       "      <td>100.57640</td>\n",
       "      <td>99.94195</td>\n",
       "      <td>98.34604</td>\n",
       "      <td>100.07220</td>\n",
       "      <td>99.17788</td>\n",
       "      <td>100.50570</td>\n",
       "      <td>101.19440</td>\n",
       "    </tr>\n",
       "    <tr>\n",
       "      <th>2020-03-01</th>\n",
       "      <td>102.82460</td>\n",
       "      <td>98.72127</td>\n",
       "      <td>99.77071</td>\n",
       "      <td>98.91774</td>\n",
       "      <td>97.00350</td>\n",
       "      <td>99.18600</td>\n",
       "      <td>98.23824</td>\n",
       "      <td>99.45682</td>\n",
       "      <td>100.22360</td>\n",
       "    </tr>\n",
       "    <tr>\n",
       "      <th>2020-04-01</th>\n",
       "      <td>102.13820</td>\n",
       "      <td>97.88792</td>\n",
       "      <td>98.98228</td>\n",
       "      <td>98.44495</td>\n",
       "      <td>95.79552</td>\n",
       "      <td>98.20526</td>\n",
       "      <td>97.18971</td>\n",
       "      <td>97.94344</td>\n",
       "      <td>99.16765</td>\n",
       "    </tr>\n",
       "    <tr>\n",
       "      <th>2020-05-01</th>\n",
       "      <td>101.64440</td>\n",
       "      <td>97.96620</td>\n",
       "      <td>98.88695</td>\n",
       "      <td>98.58982</td>\n",
       "      <td>95.55615</td>\n",
       "      <td>98.02104</td>\n",
       "      <td>96.61669</td>\n",
       "      <td>97.20135</td>\n",
       "      <td>98.68124</td>\n",
       "    </tr>\n",
       "    <tr>\n",
       "      <th>2020-06-01</th>\n",
       "      <td>101.44600</td>\n",
       "      <td>98.56956</td>\n",
       "      <td>99.28296</td>\n",
       "      <td>99.26873</td>\n",
       "      <td>95.97668</td>\n",
       "      <td>98.40593</td>\n",
       "      <td>96.98119</td>\n",
       "      <td>97.33764</td>\n",
       "      <td>98.63280</td>\n",
       "    </tr>\n",
       "    <tr>\n",
       "      <th>2020-07-01</th>\n",
       "      <td>101.74430</td>\n",
       "      <td>99.03076</td>\n",
       "      <td>99.68611</td>\n",
       "      <td>99.71642</td>\n",
       "      <td>96.51907</td>\n",
       "      <td>98.78170</td>\n",
       "      <td>97.85104</td>\n",
       "      <td>97.82140</td>\n",
       "      <td>98.64963</td>\n",
       "    </tr>\n",
       "    <tr>\n",
       "      <th>2020-08-01</th>\n",
       "      <td>102.18690</td>\n",
       "      <td>99.19705</td>\n",
       "      <td>99.97171</td>\n",
       "      <td>99.99003</td>\n",
       "      <td>96.99298</td>\n",
       "      <td>98.95780</td>\n",
       "      <td>98.68337</td>\n",
       "      <td>98.02614</td>\n",
       "      <td>98.84594</td>\n",
       "    </tr>\n",
       "    <tr>\n",
       "      <th>2020-09-01</th>\n",
       "      <td>102.79170</td>\n",
       "      <td>99.12444</td>\n",
       "      <td>100.02910</td>\n",
       "      <td>100.05160</td>\n",
       "      <td>97.41785</td>\n",
       "      <td>98.96914</td>\n",
       "      <td>99.10278</td>\n",
       "      <td>97.85213</td>\n",
       "      <td>99.14984</td>\n",
       "    </tr>\n",
       "    <tr>\n",
       "      <th>2020-10-01</th>\n",
       "      <td>103.29240</td>\n",
       "      <td>98.80775</td>\n",
       "      <td>99.86053</td>\n",
       "      <td>99.77089</td>\n",
       "      <td>97.62982</td>\n",
       "      <td>98.82847</td>\n",
       "      <td>99.21701</td>\n",
       "      <td>97.52172</td>\n",
       "      <td>99.29452</td>\n",
       "    </tr>\n",
       "    <tr>\n",
       "      <th>2020-11-01</th>\n",
       "      <td>103.62280</td>\n",
       "      <td>98.56410</td>\n",
       "      <td>99.63906</td>\n",
       "      <td>99.58212</td>\n",
       "      <td>97.61180</td>\n",
       "      <td>98.75352</td>\n",
       "      <td>99.19244</td>\n",
       "      <td>97.42648</td>\n",
       "      <td>99.25259</td>\n",
       "    </tr>\n",
       "    <tr>\n",
       "      <th>2020-12-01</th>\n",
       "      <td>103.73540</td>\n",
       "      <td>98.75380</td>\n",
       "      <td>99.49271</td>\n",
       "      <td>99.88049</td>\n",
       "      <td>97.44328</td>\n",
       "      <td>98.94886</td>\n",
       "      <td>99.13469</td>\n",
       "      <td>97.82914</td>\n",
       "      <td>99.25558</td>\n",
       "    </tr>\n",
       "    <tr>\n",
       "      <th>2021-01-01</th>\n",
       "      <td>103.88250</td>\n",
       "      <td>98.83266</td>\n",
       "      <td>99.39911</td>\n",
       "      <td>100.24390</td>\n",
       "      <td>97.42619</td>\n",
       "      <td>99.17748</td>\n",
       "      <td>99.10802</td>\n",
       "      <td>98.40585</td>\n",
       "      <td>99.26150</td>\n",
       "    </tr>\n",
       "    <tr>\n",
       "      <th>2021-02-01</th>\n",
       "      <td>103.99830</td>\n",
       "      <td>99.02706</td>\n",
       "      <td>99.56261</td>\n",
       "      <td>100.59910</td>\n",
       "      <td>97.76810</td>\n",
       "      <td>99.53003</td>\n",
       "      <td>99.17097</td>\n",
       "      <td>99.45232</td>\n",
       "      <td>99.39728</td>\n",
       "    </tr>\n",
       "    <tr>\n",
       "      <th>2021-03-01</th>\n",
       "      <td>103.73780</td>\n",
       "      <td>99.52993</td>\n",
       "      <td>99.87343</td>\n",
       "      <td>100.96860</td>\n",
       "      <td>98.11399</td>\n",
       "      <td>99.98801</td>\n",
       "      <td>99.38097</td>\n",
       "      <td>100.72900</td>\n",
       "      <td>99.75360</td>\n",
       "    </tr>\n",
       "    <tr>\n",
       "      <th>2021-04-01</th>\n",
       "      <td>103.47760</td>\n",
       "      <td>100.15090</td>\n",
       "      <td>100.20560</td>\n",
       "      <td>101.58520</td>\n",
       "      <td>98.25591</td>\n",
       "      <td>100.40960</td>\n",
       "      <td>99.70914</td>\n",
       "      <td>101.73420</td>\n",
       "      <td>99.99126</td>\n",
       "    </tr>\n",
       "    <tr>\n",
       "      <th>2021-05-01</th>\n",
       "      <td>103.30060</td>\n",
       "      <td>100.92720</td>\n",
       "      <td>100.74040</td>\n",
       "      <td>102.41230</td>\n",
       "      <td>98.35320</td>\n",
       "      <td>100.89710</td>\n",
       "      <td>100.14700</td>\n",
       "      <td>102.50180</td>\n",
       "      <td>99.93414</td>\n",
       "    </tr>\n",
       "    <tr>\n",
       "      <th>2021-06-01</th>\n",
       "      <td>103.06950</td>\n",
       "      <td>101.50260</td>\n",
       "      <td>101.21130</td>\n",
       "      <td>103.05200</td>\n",
       "      <td>98.57491</td>\n",
       "      <td>101.25910</td>\n",
       "      <td>100.69500</td>\n",
       "      <td>102.84680</td>\n",
       "      <td>99.72997</td>\n",
       "    </tr>\n",
       "    <tr>\n",
       "      <th>2021-07-01</th>\n",
       "      <td>102.68470</td>\n",
       "      <td>101.49090</td>\n",
       "      <td>101.34960</td>\n",
       "      <td>103.27230</td>\n",
       "      <td>98.75985</td>\n",
       "      <td>101.30900</td>\n",
       "      <td>101.24100</td>\n",
       "      <td>102.79250</td>\n",
       "      <td>99.27460</td>\n",
       "    </tr>\n",
       "    <tr>\n",
       "      <th>2021-08-01</th>\n",
       "      <td>102.58000</td>\n",
       "      <td>101.24710</td>\n",
       "      <td>101.33610</td>\n",
       "      <td>103.19590</td>\n",
       "      <td>98.89591</td>\n",
       "      <td>101.17470</td>\n",
       "      <td>101.62560</td>\n",
       "      <td>102.28760</td>\n",
       "      <td>98.72091</td>\n",
       "    </tr>\n",
       "    <tr>\n",
       "      <th>2021-09-01</th>\n",
       "      <td>102.77910</td>\n",
       "      <td>101.12830</td>\n",
       "      <td>101.33610</td>\n",
       "      <td>103.13540</td>\n",
       "      <td>99.06987</td>\n",
       "      <td>100.96370</td>\n",
       "      <td>101.70900</td>\n",
       "      <td>101.44960</td>\n",
       "      <td>98.43023</td>\n",
       "    </tr>\n",
       "    <tr>\n",
       "      <th>2021-10-01</th>\n",
       "      <td>102.92060</td>\n",
       "      <td>100.85680</td>\n",
       "      <td>101.14730</td>\n",
       "      <td>103.03420</td>\n",
       "      <td>99.25051</td>\n",
       "      <td>100.60350</td>\n",
       "      <td>101.59910</td>\n",
       "      <td>100.75530</td>\n",
       "      <td>98.24866</td>\n",
       "    </tr>\n",
       "    <tr>\n",
       "      <th>2021-11-01</th>\n",
       "      <td>103.04200</td>\n",
       "      <td>100.57120</td>\n",
       "      <td>100.83480</td>\n",
       "      <td>102.72050</td>\n",
       "      <td>99.30335</td>\n",
       "      <td>100.17930</td>\n",
       "      <td>101.39380</td>\n",
       "      <td>100.43320</td>\n",
       "      <td>98.09073</td>\n",
       "    </tr>\n",
       "    <tr>\n",
       "      <th>2021-12-01</th>\n",
       "      <td>103.17240</td>\n",
       "      <td>100.24300</td>\n",
       "      <td>100.55430</td>\n",
       "      <td>102.22910</td>\n",
       "      <td>99.13354</td>\n",
       "      <td>99.81117</td>\n",
       "      <td>101.11610</td>\n",
       "      <td>99.96386</td>\n",
       "      <td>97.99204</td>\n",
       "    </tr>\n",
       "    <tr>\n",
       "      <th>2022-01-01</th>\n",
       "      <td>103.02550</td>\n",
       "      <td>99.80743</td>\n",
       "      <td>100.32610</td>\n",
       "      <td>101.34210</td>\n",
       "      <td>98.74091</td>\n",
       "      <td>99.39194</td>\n",
       "      <td>100.74450</td>\n",
       "      <td>98.96776</td>\n",
       "      <td>97.76332</td>\n",
       "    </tr>\n",
       "    <tr>\n",
       "      <th>2022-02-01</th>\n",
       "      <td>101.94840</td>\n",
       "      <td>99.07655</td>\n",
       "      <td>99.83559</td>\n",
       "      <td>100.13470</td>\n",
       "      <td>98.25490</td>\n",
       "      <td>98.70605</td>\n",
       "      <td>100.18530</td>\n",
       "      <td>97.48579</td>\n",
       "      <td>97.46407</td>\n",
       "    </tr>\n",
       "    <tr>\n",
       "      <th>2022-03-01</th>\n",
       "      <td>99.52090</td>\n",
       "      <td>97.94209</td>\n",
       "      <td>99.00729</td>\n",
       "      <td>98.64719</td>\n",
       "      <td>97.78803</td>\n",
       "      <td>97.71785</td>\n",
       "      <td>99.33743</td>\n",
       "      <td>95.96999</td>\n",
       "      <td>97.23289</td>\n",
       "    </tr>\n",
       "    <tr>\n",
       "      <th>2022-04-01</th>\n",
       "      <td>96.36621</td>\n",
       "      <td>97.33936</td>\n",
       "      <td>98.32222</td>\n",
       "      <td>97.89874</td>\n",
       "      <td>97.54445</td>\n",
       "      <td>96.99216</td>\n",
       "      <td>98.34635</td>\n",
       "      <td>94.69151</td>\n",
       "      <td>97.07103</td>\n",
       "    </tr>\n",
       "  </tbody>\n",
       "</table>\n",
       "</div>"
      ],
      "text/plain": [
       "Reference area  China (People’s Republic of)     France    Germany      Italy  \\\n",
       "TIME_PERIOD                                                                     \n",
       "2018-10-01                         102.80560   98.94864  101.57780  101.75880   \n",
       "2018-11-01                         103.23860   98.71818  101.54380  101.64500   \n",
       "2018-12-01                         103.63050   98.62968  101.51900  101.46420   \n",
       "2019-01-01                         103.94050   98.97886  101.53360  101.27480   \n",
       "2019-02-01                         104.15350   99.37622  101.54800  101.06060   \n",
       "2019-03-01                         104.15680   99.64111  101.55370  100.86540   \n",
       "2019-04-01                         104.13840   99.81876  101.50120  100.73060   \n",
       "2019-05-01                         104.07830  100.04490  101.37130  100.61370   \n",
       "2019-06-01                         104.08600  100.23850  101.18900  100.52410   \n",
       "2019-07-01                         103.95580  100.41990  101.03840  100.55600   \n",
       "2019-08-01                         103.82310  100.51670  100.93710  100.48140   \n",
       "2019-09-01                         103.89640  100.62310  100.92910  100.46380   \n",
       "2019-10-01                         104.05840  100.64390  100.93650  100.49760   \n",
       "2019-11-01                         104.24410  100.55090  101.03630  100.53610   \n",
       "2019-12-01                         104.33250  100.28400  101.04960  100.67880   \n",
       "2020-01-01                         104.04030  100.05190  100.96050  100.57990   \n",
       "2020-02-01                         103.36510   99.61428  100.57640   99.94195   \n",
       "2020-03-01                         102.82460   98.72127   99.77071   98.91774   \n",
       "2020-04-01                         102.13820   97.88792   98.98228   98.44495   \n",
       "2020-05-01                         101.64440   97.96620   98.88695   98.58982   \n",
       "2020-06-01                         101.44600   98.56956   99.28296   99.26873   \n",
       "2020-07-01                         101.74430   99.03076   99.68611   99.71642   \n",
       "2020-08-01                         102.18690   99.19705   99.97171   99.99003   \n",
       "2020-09-01                         102.79170   99.12444  100.02910  100.05160   \n",
       "2020-10-01                         103.29240   98.80775   99.86053   99.77089   \n",
       "2020-11-01                         103.62280   98.56410   99.63906   99.58212   \n",
       "2020-12-01                         103.73540   98.75380   99.49271   99.88049   \n",
       "2021-01-01                         103.88250   98.83266   99.39911  100.24390   \n",
       "2021-02-01                         103.99830   99.02706   99.56261  100.59910   \n",
       "2021-03-01                         103.73780   99.52993   99.87343  100.96860   \n",
       "2021-04-01                         103.47760  100.15090  100.20560  101.58520   \n",
       "2021-05-01                         103.30060  100.92720  100.74040  102.41230   \n",
       "2021-06-01                         103.06950  101.50260  101.21130  103.05200   \n",
       "2021-07-01                         102.68470  101.49090  101.34960  103.27230   \n",
       "2021-08-01                         102.58000  101.24710  101.33610  103.19590   \n",
       "2021-09-01                         102.77910  101.12830  101.33610  103.13540   \n",
       "2021-10-01                         102.92060  100.85680  101.14730  103.03420   \n",
       "2021-11-01                         103.04200  100.57120  100.83480  102.72050   \n",
       "2021-12-01                         103.17240  100.24300  100.55430  102.22910   \n",
       "2022-01-01                         103.02550   99.80743  100.32610  101.34210   \n",
       "2022-02-01                         101.94840   99.07655   99.83559  100.13470   \n",
       "2022-03-01                          99.52090   97.94209   99.00729   98.64719   \n",
       "2022-04-01                          96.36621   97.33936   98.32222   97.89874   \n",
       "\n",
       "Reference area      Japan  OECD Europe  Switzerland  United Kingdom  \\\n",
       "TIME_PERIOD                                                           \n",
       "2018-10-01      100.38490    100.78150    100.31800       100.69820   \n",
       "2018-11-01      100.28500    100.65950    100.30690       100.43900   \n",
       "2018-12-01      100.17410    100.54540    100.17240       100.13600   \n",
       "2019-01-01      100.02720    100.51800     99.97832        99.85248   \n",
       "2019-02-01       99.87872    100.54310     99.80544        99.72394   \n",
       "2019-03-01       99.72719    100.58930     99.71317        99.71399   \n",
       "2019-04-01       99.60259    100.60550     99.67951        99.86852   \n",
       "2019-05-01       99.42149    100.60470     99.67676       100.09940   \n",
       "2019-06-01       99.19237    100.59400     99.68859       100.18070   \n",
       "2019-07-01       98.98115    100.56030     99.69627       100.22200   \n",
       "2019-08-01       98.78976    100.47570     99.68316       100.03370   \n",
       "2019-09-01       98.65952    100.43570     99.64340        99.99068   \n",
       "2019-10-01       98.78168    100.44280     99.61147       100.08980   \n",
       "2019-11-01       99.08835    100.51910     99.62290       100.39450   \n",
       "2019-12-01       99.26521    100.55960     99.66732       100.73540   \n",
       "2020-01-01       99.09190    100.47930     99.59807       100.85710   \n",
       "2020-02-01       98.34604    100.07220     99.17788       100.50570   \n",
       "2020-03-01       97.00350     99.18600     98.23824        99.45682   \n",
       "2020-04-01       95.79552     98.20526     97.18971        97.94344   \n",
       "2020-05-01       95.55615     98.02104     96.61669        97.20135   \n",
       "2020-06-01       95.97668     98.40593     96.98119        97.33764   \n",
       "2020-07-01       96.51907     98.78170     97.85104        97.82140   \n",
       "2020-08-01       96.99298     98.95780     98.68337        98.02614   \n",
       "2020-09-01       97.41785     98.96914     99.10278        97.85213   \n",
       "2020-10-01       97.62982     98.82847     99.21701        97.52172   \n",
       "2020-11-01       97.61180     98.75352     99.19244        97.42648   \n",
       "2020-12-01       97.44328     98.94886     99.13469        97.82914   \n",
       "2021-01-01       97.42619     99.17748     99.10802        98.40585   \n",
       "2021-02-01       97.76810     99.53003     99.17097        99.45232   \n",
       "2021-03-01       98.11399     99.98801     99.38097       100.72900   \n",
       "2021-04-01       98.25591    100.40960     99.70914       101.73420   \n",
       "2021-05-01       98.35320    100.89710    100.14700       102.50180   \n",
       "2021-06-01       98.57491    101.25910    100.69500       102.84680   \n",
       "2021-07-01       98.75985    101.30900    101.24100       102.79250   \n",
       "2021-08-01       98.89591    101.17470    101.62560       102.28760   \n",
       "2021-09-01       99.06987    100.96370    101.70900       101.44960   \n",
       "2021-10-01       99.25051    100.60350    101.59910       100.75530   \n",
       "2021-11-01       99.30335    100.17930    101.39380       100.43320   \n",
       "2021-12-01       99.13354     99.81117    101.11610        99.96386   \n",
       "2022-01-01       98.74091     99.39194    100.74450        98.96776   \n",
       "2022-02-01       98.25490     98.70605    100.18530        97.48579   \n",
       "2022-03-01       97.78803     97.71785     99.33743        95.96999   \n",
       "2022-04-01       97.54445     96.99216     98.34635        94.69151   \n",
       "\n",
       "Reference area  United States  \n",
       "TIME_PERIOD                    \n",
       "2018-10-01          101.50220  \n",
       "2018-11-01          101.39580  \n",
       "2018-12-01          101.22980  \n",
       "2019-01-01          101.03110  \n",
       "2019-02-01          101.08380  \n",
       "2019-03-01          101.29600  \n",
       "2019-04-01          101.45150  \n",
       "2019-05-01          101.53700  \n",
       "2019-06-01          101.44580  \n",
       "2019-07-01          101.22020  \n",
       "2019-08-01          100.93210  \n",
       "2019-09-01          100.93200  \n",
       "2019-10-01          101.12940  \n",
       "2019-11-01          101.39080  \n",
       "2019-12-01          101.61240  \n",
       "2020-01-01          101.61080  \n",
       "2020-02-01          101.19440  \n",
       "2020-03-01          100.22360  \n",
       "2020-04-01           99.16765  \n",
       "2020-05-01           98.68124  \n",
       "2020-06-01           98.63280  \n",
       "2020-07-01           98.64963  \n",
       "2020-08-01           98.84594  \n",
       "2020-09-01           99.14984  \n",
       "2020-10-01           99.29452  \n",
       "2020-11-01           99.25259  \n",
       "2020-12-01           99.25558  \n",
       "2021-01-01           99.26150  \n",
       "2021-02-01           99.39728  \n",
       "2021-03-01           99.75360  \n",
       "2021-04-01           99.99126  \n",
       "2021-05-01           99.93414  \n",
       "2021-06-01           99.72997  \n",
       "2021-07-01           99.27460  \n",
       "2021-08-01           98.72091  \n",
       "2021-09-01           98.43023  \n",
       "2021-10-01           98.24866  \n",
       "2021-11-01           98.09073  \n",
       "2021-12-01           97.99204  \n",
       "2022-01-01           97.76332  \n",
       "2022-02-01           97.46407  \n",
       "2022-03-01           97.23289  \n",
       "2022-04-01           97.07103  "
      ]
     },
     "execution_count": 13,
     "metadata": {},
     "output_type": "execute_result"
    }
   ],
   "source": [
    "cc2 = consumer_confidence.pivot_table(index=consumer_confidence.index, columns='Reference area', values='OBS_VALUE')\n",
    "cc2"
   ]
  },
  {
   "cell_type": "code",
   "execution_count": 14,
   "id": "33561d7e",
   "metadata": {
    "ExecuteTime": {
     "end_time": "2025-03-21T18:12:01.583508Z",
     "start_time": "2025-03-21T18:12:01.576315Z"
    }
   },
   "outputs": [
    {
     "name": "stdout",
     "output_type": "stream",
     "text": [
      "<class 'pandas.core.frame.DataFrame'>\n",
      "DatetimeIndex: 43 entries, 2018-10-01 to 2022-04-01\n",
      "Data columns (total 9 columns):\n",
      " #   Column                        Non-Null Count  Dtype  \n",
      "---  ------                        --------------  -----  \n",
      " 0   China (People’s Republic of)  43 non-null     float64\n",
      " 1   France                        43 non-null     float64\n",
      " 2   Germany                       43 non-null     float64\n",
      " 3   Italy                         43 non-null     float64\n",
      " 4   Japan                         43 non-null     float64\n",
      " 5   OECD Europe                   43 non-null     float64\n",
      " 6   Switzerland                   43 non-null     float64\n",
      " 7   United Kingdom                43 non-null     float64\n",
      " 8   United States                 43 non-null     float64\n",
      "dtypes: float64(9)\n",
      "memory usage: 3.4 KB\n"
     ]
    }
   ],
   "source": [
    "cc2.info()"
   ]
  },
  {
   "cell_type": "code",
   "execution_count": 15,
   "id": "858bca8d",
   "metadata": {
    "ExecuteTime": {
     "end_time": "2025-03-21T18:12:01.589576Z",
     "start_time": "2025-03-21T18:12:01.585592Z"
    }
   },
   "outputs": [],
   "source": [
    "#cc2.to_csv('./extra data/clean_consumer_confidence.csv')"
   ]
  },
  {
   "cell_type": "markdown",
   "id": "6e759175",
   "metadata": {},
   "source": [
    "# 3. Business Confidence Data"
   ]
  },
  {
   "cell_type": "code",
   "execution_count": 16,
   "id": "6bb62e8d",
   "metadata": {
    "ExecuteTime": {
     "end_time": "2025-03-21T18:12:01.601159Z",
     "start_time": "2025-03-21T18:12:01.591518Z"
    }
   },
   "outputs": [],
   "source": [
    "business_confidence = pd.read_csv('./extra data/composite_business_confidence.csv')\n",
    "business_confidence.drop(['STRUCTURE','STRUCTURE_ID', 'STRUCTURE_NAME', \n",
    "                          'ACTION', 'FREQ', 'Frequency of observation',\n",
    "                          'MEASURE', 'Measure', 'UNIT_MEASURE',\n",
    "                          'Unit of measure', 'ACTIVITY', 'Economic activity',\n",
    "                          'ADJUSTMENT', 'Adjustment', 'TRANSFORMATION',\n",
    "                          'Transformation', 'TIME_HORIZ', 'Time horizon',\n",
    "                          'METHODOLOGY', 'Calculation methodology', 'Time period',\n",
    "                          'Observation value', 'OBS_STATUS', 'UNIT_MULT', 'Observation status',\n",
    "                          'Unit multiplier', 'DECIMALS', 'BASE_PER', 'Base period', 'Decimals',\n",
    "                          'REF_AREA'],\n",
    "                         axis = 1, inplace = True)"
   ]
  },
  {
   "cell_type": "code",
   "execution_count": 17,
   "id": "1e813f27",
   "metadata": {
    "ExecuteTime": {
     "end_time": "2025-03-21T18:12:01.607194Z",
     "start_time": "2025-03-21T18:12:01.603022Z"
    }
   },
   "outputs": [],
   "source": [
    "business_confidence['TIME_PERIOD'] =  pd.to_datetime(business_confidence['TIME_PERIOD'])\n",
    "business_confidence = business_confidence.set_index('TIME_PERIOD')"
   ]
  },
  {
   "cell_type": "code",
   "execution_count": 18,
   "id": "d82abb52",
   "metadata": {
    "ExecuteTime": {
     "end_time": "2025-03-21T18:12:01.636646Z",
     "start_time": "2025-03-21T18:12:01.609051Z"
    },
    "scrolled": true
   },
   "outputs": [
    {
     "data": {
      "text/html": [
       "<div>\n",
       "<style scoped>\n",
       "    .dataframe tbody tr th:only-of-type {\n",
       "        vertical-align: middle;\n",
       "    }\n",
       "\n",
       "    .dataframe tbody tr th {\n",
       "        vertical-align: top;\n",
       "    }\n",
       "\n",
       "    .dataframe thead th {\n",
       "        text-align: right;\n",
       "    }\n",
       "</style>\n",
       "<table border=\"1\" class=\"dataframe\">\n",
       "  <thead>\n",
       "    <tr style=\"text-align: right;\">\n",
       "      <th>Reference area</th>\n",
       "      <th>China (People’s Republic of)</th>\n",
       "      <th>France</th>\n",
       "      <th>Germany</th>\n",
       "      <th>Italy</th>\n",
       "      <th>Japan</th>\n",
       "      <th>OECD Europe</th>\n",
       "      <th>Switzerland</th>\n",
       "      <th>United Kingdom</th>\n",
       "      <th>United States</th>\n",
       "    </tr>\n",
       "    <tr>\n",
       "      <th>TIME_PERIOD</th>\n",
       "      <th></th>\n",
       "      <th></th>\n",
       "      <th></th>\n",
       "      <th></th>\n",
       "      <th></th>\n",
       "      <th></th>\n",
       "      <th></th>\n",
       "      <th></th>\n",
       "      <th></th>\n",
       "    </tr>\n",
       "  </thead>\n",
       "  <tbody>\n",
       "    <tr>\n",
       "      <th>2018-10-01</th>\n",
       "      <td>98.79642</td>\n",
       "      <td>101.04510</td>\n",
       "      <td>101.74760</td>\n",
       "      <td>100.96960</td>\n",
       "      <td>101.52590</td>\n",
       "      <td>100.92950</td>\n",
       "      <td>102.03860</td>\n",
       "      <td>102.05680</td>\n",
       "      <td>101.21770</td>\n",
       "    </tr>\n",
       "    <tr>\n",
       "      <th>2018-11-01</th>\n",
       "      <td>98.45412</td>\n",
       "      <td>100.95980</td>\n",
       "      <td>101.58590</td>\n",
       "      <td>100.85090</td>\n",
       "      <td>101.50880</td>\n",
       "      <td>100.91740</td>\n",
       "      <td>101.83990</td>\n",
       "      <td>102.24860</td>\n",
       "      <td>101.00490</td>\n",
       "    </tr>\n",
       "    <tr>\n",
       "      <th>2018-12-01</th>\n",
       "      <td>98.18901</td>\n",
       "      <td>100.85200</td>\n",
       "      <td>101.37150</td>\n",
       "      <td>100.70230</td>\n",
       "      <td>101.44580</td>\n",
       "      <td>100.84640</td>\n",
       "      <td>101.60980</td>\n",
       "      <td>102.33940</td>\n",
       "      <td>100.69200</td>\n",
       "    </tr>\n",
       "    <tr>\n",
       "      <th>2019-01-01</th>\n",
       "      <td>98.12537</td>\n",
       "      <td>100.74770</td>\n",
       "      <td>101.13800</td>\n",
       "      <td>100.53830</td>\n",
       "      <td>101.30790</td>\n",
       "      <td>100.67730</td>\n",
       "      <td>101.45330</td>\n",
       "      <td>101.99190</td>\n",
       "      <td>100.54150</td>\n",
       "    </tr>\n",
       "    <tr>\n",
       "      <th>2019-02-01</th>\n",
       "      <td>98.23363</td>\n",
       "      <td>100.61610</td>\n",
       "      <td>100.87850</td>\n",
       "      <td>100.42490</td>\n",
       "      <td>101.13290</td>\n",
       "      <td>100.51320</td>\n",
       "      <td>101.34970</td>\n",
       "      <td>101.38670</td>\n",
       "      <td>100.37750</td>\n",
       "    </tr>\n",
       "    <tr>\n",
       "      <th>2019-03-01</th>\n",
       "      <td>98.47947</td>\n",
       "      <td>100.55920</td>\n",
       "      <td>100.59330</td>\n",
       "      <td>100.39570</td>\n",
       "      <td>100.96610</td>\n",
       "      <td>100.40040</td>\n",
       "      <td>101.29550</td>\n",
       "      <td>100.76500</td>\n",
       "      <td>100.24630</td>\n",
       "    </tr>\n",
       "    <tr>\n",
       "      <th>2019-04-01</th>\n",
       "      <td>98.45925</td>\n",
       "      <td>100.53530</td>\n",
       "      <td>100.32710</td>\n",
       "      <td>100.42510</td>\n",
       "      <td>100.83910</td>\n",
       "      <td>100.28650</td>\n",
       "      <td>101.16410</td>\n",
       "      <td>100.15260</td>\n",
       "      <td>100.02600</td>\n",
       "    </tr>\n",
       "    <tr>\n",
       "      <th>2019-05-01</th>\n",
       "      <td>98.26464</td>\n",
       "      <td>100.60310</td>\n",
       "      <td>100.10390</td>\n",
       "      <td>100.45830</td>\n",
       "      <td>100.74000</td>\n",
       "      <td>100.14950</td>\n",
       "      <td>100.97690</td>\n",
       "      <td>99.58679</td>\n",
       "      <td>99.82363</td>\n",
       "    </tr>\n",
       "    <tr>\n",
       "      <th>2019-06-01</th>\n",
       "      <td>98.16116</td>\n",
       "      <td>100.47010</td>\n",
       "      <td>99.83164</td>\n",
       "      <td>100.41210</td>\n",
       "      <td>100.65250</td>\n",
       "      <td>99.95510</td>\n",
       "      <td>100.77400</td>\n",
       "      <td>99.24728</td>\n",
       "      <td>99.64125</td>\n",
       "    </tr>\n",
       "    <tr>\n",
       "      <th>2019-07-01</th>\n",
       "      <td>98.18482</td>\n",
       "      <td>100.27390</td>\n",
       "      <td>99.58361</td>\n",
       "      <td>100.34420</td>\n",
       "      <td>100.56820</td>\n",
       "      <td>99.73546</td>\n",
       "      <td>100.60730</td>\n",
       "      <td>98.86368</td>\n",
       "      <td>99.42289</td>\n",
       "    </tr>\n",
       "    <tr>\n",
       "      <th>2019-08-01</th>\n",
       "      <td>98.24573</td>\n",
       "      <td>100.17160</td>\n",
       "      <td>99.41563</td>\n",
       "      <td>100.28150</td>\n",
       "      <td>100.48610</td>\n",
       "      <td>99.62101</td>\n",
       "      <td>100.46520</td>\n",
       "      <td>98.50896</td>\n",
       "      <td>99.14829</td>\n",
       "    </tr>\n",
       "    <tr>\n",
       "      <th>2019-09-01</th>\n",
       "      <td>98.36055</td>\n",
       "      <td>100.11170</td>\n",
       "      <td>99.25211</td>\n",
       "      <td>100.22630</td>\n",
       "      <td>100.41020</td>\n",
       "      <td>99.50758</td>\n",
       "      <td>100.34040</td>\n",
       "      <td>98.02803</td>\n",
       "      <td>98.94034</td>\n",
       "    </tr>\n",
       "    <tr>\n",
       "      <th>2019-10-01</th>\n",
       "      <td>98.42083</td>\n",
       "      <td>100.12290</td>\n",
       "      <td>99.20591</td>\n",
       "      <td>100.21880</td>\n",
       "      <td>100.34360</td>\n",
       "      <td>99.57677</td>\n",
       "      <td>100.29000</td>\n",
       "      <td>98.16537</td>\n",
       "      <td>98.87395</td>\n",
       "    </tr>\n",
       "    <tr>\n",
       "      <th>2019-11-01</th>\n",
       "      <td>98.33443</td>\n",
       "      <td>100.18750</td>\n",
       "      <td>99.25149</td>\n",
       "      <td>100.23760</td>\n",
       "      <td>100.27710</td>\n",
       "      <td>99.76842</td>\n",
       "      <td>100.29430</td>\n",
       "      <td>98.51130</td>\n",
       "      <td>98.89565</td>\n",
       "    </tr>\n",
       "    <tr>\n",
       "      <th>2019-12-01</th>\n",
       "      <td>97.53813</td>\n",
       "      <td>100.33190</td>\n",
       "      <td>99.36457</td>\n",
       "      <td>100.23750</td>\n",
       "      <td>100.19050</td>\n",
       "      <td>99.91677</td>\n",
       "      <td>100.29020</td>\n",
       "      <td>98.66959</td>\n",
       "      <td>99.00091</td>\n",
       "    </tr>\n",
       "    <tr>\n",
       "      <th>2020-01-01</th>\n",
       "      <td>95.85280</td>\n",
       "      <td>100.46010</td>\n",
       "      <td>99.42984</td>\n",
       "      <td>100.08480</td>\n",
       "      <td>100.05350</td>\n",
       "      <td>99.85726</td>\n",
       "      <td>100.17300</td>\n",
       "      <td>98.73808</td>\n",
       "      <td>99.16805</td>\n",
       "    </tr>\n",
       "    <tr>\n",
       "      <th>2020-02-01</th>\n",
       "      <td>94.27966</td>\n",
       "      <td>99.93790</td>\n",
       "      <td>99.15123</td>\n",
       "      <td>99.54154</td>\n",
       "      <td>99.84661</td>\n",
       "      <td>99.20320</td>\n",
       "      <td>99.84956</td>\n",
       "      <td>98.14634</td>\n",
       "      <td>99.05339</td>\n",
       "    </tr>\n",
       "    <tr>\n",
       "      <th>2020-03-01</th>\n",
       "      <td>96.51480</td>\n",
       "      <td>98.53397</td>\n",
       "      <td>98.43016</td>\n",
       "      <td>98.49603</td>\n",
       "      <td>99.52361</td>\n",
       "      <td>97.65602</td>\n",
       "      <td>99.21345</td>\n",
       "      <td>96.42375</td>\n",
       "      <td>98.64474</td>\n",
       "    </tr>\n",
       "    <tr>\n",
       "      <th>2020-04-01</th>\n",
       "      <td>98.30811</td>\n",
       "      <td>96.89158</td>\n",
       "      <td>97.65586</td>\n",
       "      <td>97.45926</td>\n",
       "      <td>99.04333</td>\n",
       "      <td>95.83762</td>\n",
       "      <td>98.46373</td>\n",
       "      <td>94.42829</td>\n",
       "      <td>98.19856</td>\n",
       "    </tr>\n",
       "    <tr>\n",
       "      <th>2020-05-01</th>\n",
       "      <td>99.15063</td>\n",
       "      <td>96.96441</td>\n",
       "      <td>97.63272</td>\n",
       "      <td>96.84171</td>\n",
       "      <td>98.51799</td>\n",
       "      <td>95.58724</td>\n",
       "      <td>98.15688</td>\n",
       "      <td>93.98078</td>\n",
       "      <td>98.42693</td>\n",
       "    </tr>\n",
       "    <tr>\n",
       "      <th>2020-06-01</th>\n",
       "      <td>99.45623</td>\n",
       "      <td>97.97046</td>\n",
       "      <td>98.17185</td>\n",
       "      <td>97.05904</td>\n",
       "      <td>98.10356</td>\n",
       "      <td>96.63290</td>\n",
       "      <td>98.42492</td>\n",
       "      <td>94.99005</td>\n",
       "      <td>99.25802</td>\n",
       "    </tr>\n",
       "    <tr>\n",
       "      <th>2020-07-01</th>\n",
       "      <td>99.54837</td>\n",
       "      <td>98.93425</td>\n",
       "      <td>98.90795</td>\n",
       "      <td>97.70665</td>\n",
       "      <td>97.93507</td>\n",
       "      <td>97.95635</td>\n",
       "      <td>98.83104</td>\n",
       "      <td>96.55404</td>\n",
       "      <td>99.96269</td>\n",
       "    </tr>\n",
       "    <tr>\n",
       "      <th>2020-08-01</th>\n",
       "      <td>99.61066</td>\n",
       "      <td>99.51467</td>\n",
       "      <td>99.56557</td>\n",
       "      <td>98.41296</td>\n",
       "      <td>97.95119</td>\n",
       "      <td>98.89299</td>\n",
       "      <td>99.16505</td>\n",
       "      <td>97.45731</td>\n",
       "      <td>100.43030</td>\n",
       "    </tr>\n",
       "    <tr>\n",
       "      <th>2020-09-01</th>\n",
       "      <td>99.76554</td>\n",
       "      <td>99.56760</td>\n",
       "      <td>100.04010</td>\n",
       "      <td>99.04523</td>\n",
       "      <td>98.10630</td>\n",
       "      <td>99.43092</td>\n",
       "      <td>99.44869</td>\n",
       "      <td>98.32817</td>\n",
       "      <td>100.73030</td>\n",
       "    </tr>\n",
       "    <tr>\n",
       "      <th>2020-10-01</th>\n",
       "      <td>99.92666</td>\n",
       "      <td>99.34661</td>\n",
       "      <td>100.37030</td>\n",
       "      <td>99.39116</td>\n",
       "      <td>98.39820</td>\n",
       "      <td>99.71464</td>\n",
       "      <td>99.73013</td>\n",
       "      <td>98.99674</td>\n",
       "      <td>100.99920</td>\n",
       "    </tr>\n",
       "    <tr>\n",
       "      <th>2020-11-01</th>\n",
       "      <td>100.07100</td>\n",
       "      <td>99.14434</td>\n",
       "      <td>100.56750</td>\n",
       "      <td>99.50414</td>\n",
       "      <td>98.75661</td>\n",
       "      <td>99.75532</td>\n",
       "      <td>99.92045</td>\n",
       "      <td>98.71677</td>\n",
       "      <td>101.16320</td>\n",
       "    </tr>\n",
       "    <tr>\n",
       "      <th>2020-12-01</th>\n",
       "      <td>99.99227</td>\n",
       "      <td>99.29278</td>\n",
       "      <td>100.81060</td>\n",
       "      <td>99.80731</td>\n",
       "      <td>99.12276</td>\n",
       "      <td>99.91563</td>\n",
       "      <td>100.10870</td>\n",
       "      <td>98.49593</td>\n",
       "      <td>101.37860</td>\n",
       "    </tr>\n",
       "    <tr>\n",
       "      <th>2021-01-01</th>\n",
       "      <td>99.75475</td>\n",
       "      <td>99.58440</td>\n",
       "      <td>101.15530</td>\n",
       "      <td>100.15820</td>\n",
       "      <td>99.46240</td>\n",
       "      <td>100.11950</td>\n",
       "      <td>100.36470</td>\n",
       "      <td>98.45927</td>\n",
       "      <td>101.55760</td>\n",
       "    </tr>\n",
       "    <tr>\n",
       "      <th>2021-02-01</th>\n",
       "      <td>99.60085</td>\n",
       "      <td>99.95578</td>\n",
       "      <td>101.64120</td>\n",
       "      <td>100.56980</td>\n",
       "      <td>99.77113</td>\n",
       "      <td>100.51600</td>\n",
       "      <td>100.75830</td>\n",
       "      <td>99.58276</td>\n",
       "      <td>101.79590</td>\n",
       "    </tr>\n",
       "    <tr>\n",
       "      <th>2021-03-01</th>\n",
       "      <td>99.67635</td>\n",
       "      <td>100.38280</td>\n",
       "      <td>102.14560</td>\n",
       "      <td>101.03000</td>\n",
       "      <td>100.04060</td>\n",
       "      <td>101.09480</td>\n",
       "      <td>101.34230</td>\n",
       "      <td>101.41150</td>\n",
       "      <td>101.99410</td>\n",
       "    </tr>\n",
       "    <tr>\n",
       "      <th>2021-04-01</th>\n",
       "      <td>99.58633</td>\n",
       "      <td>100.96770</td>\n",
       "      <td>102.53950</td>\n",
       "      <td>101.52470</td>\n",
       "      <td>100.25580</td>\n",
       "      <td>101.65790</td>\n",
       "      <td>101.94090</td>\n",
       "      <td>102.85760</td>\n",
       "      <td>101.95230</td>\n",
       "    </tr>\n",
       "    <tr>\n",
       "      <th>2021-05-01</th>\n",
       "      <td>99.43008</td>\n",
       "      <td>101.52920</td>\n",
       "      <td>102.84870</td>\n",
       "      <td>101.98100</td>\n",
       "      <td>100.43120</td>\n",
       "      <td>102.16840</td>\n",
       "      <td>102.24820</td>\n",
       "      <td>104.01560</td>\n",
       "      <td>101.87000</td>\n",
       "    </tr>\n",
       "    <tr>\n",
       "      <th>2021-06-01</th>\n",
       "      <td>99.20774</td>\n",
       "      <td>101.91700</td>\n",
       "      <td>103.15130</td>\n",
       "      <td>102.29990</td>\n",
       "      <td>100.57080</td>\n",
       "      <td>102.56240</td>\n",
       "      <td>102.32670</td>\n",
       "      <td>104.70050</td>\n",
       "      <td>101.73420</td>\n",
       "    </tr>\n",
       "    <tr>\n",
       "      <th>2021-07-01</th>\n",
       "      <td>98.89126</td>\n",
       "      <td>102.16430</td>\n",
       "      <td>103.39760</td>\n",
       "      <td>102.47460</td>\n",
       "      <td>100.66730</td>\n",
       "      <td>102.77920</td>\n",
       "      <td>102.36840</td>\n",
       "      <td>104.99460</td>\n",
       "      <td>101.60100</td>\n",
       "    </tr>\n",
       "    <tr>\n",
       "      <th>2021-08-01</th>\n",
       "      <td>98.56118</td>\n",
       "      <td>102.09960</td>\n",
       "      <td>103.53860</td>\n",
       "      <td>102.53470</td>\n",
       "      <td>100.73710</td>\n",
       "      <td>102.81330</td>\n",
       "      <td>102.46250</td>\n",
       "      <td>104.89950</td>\n",
       "      <td>101.55420</td>\n",
       "    </tr>\n",
       "    <tr>\n",
       "      <th>2021-09-01</th>\n",
       "      <td>98.29616</td>\n",
       "      <td>101.98230</td>\n",
       "      <td>103.57210</td>\n",
       "      <td>102.60470</td>\n",
       "      <td>100.78960</td>\n",
       "      <td>102.81020</td>\n",
       "      <td>102.61420</td>\n",
       "      <td>104.95400</td>\n",
       "      <td>101.59420</td>\n",
       "    </tr>\n",
       "    <tr>\n",
       "      <th>2021-10-01</th>\n",
       "      <td>98.24673</td>\n",
       "      <td>102.04090</td>\n",
       "      <td>103.50640</td>\n",
       "      <td>102.67340</td>\n",
       "      <td>100.82310</td>\n",
       "      <td>102.81040</td>\n",
       "      <td>102.71300</td>\n",
       "      <td>105.23670</td>\n",
       "      <td>101.59630</td>\n",
       "    </tr>\n",
       "    <tr>\n",
       "      <th>2021-11-01</th>\n",
       "      <td>98.47332</td>\n",
       "      <td>102.16640</td>\n",
       "      <td>103.47850</td>\n",
       "      <td>102.66300</td>\n",
       "      <td>100.83730</td>\n",
       "      <td>102.85480</td>\n",
       "      <td>102.79050</td>\n",
       "      <td>105.52700</td>\n",
       "      <td>101.51480</td>\n",
       "    </tr>\n",
       "    <tr>\n",
       "      <th>2021-12-01</th>\n",
       "      <td>98.65394</td>\n",
       "      <td>102.24330</td>\n",
       "      <td>103.51680</td>\n",
       "      <td>102.57810</td>\n",
       "      <td>100.82240</td>\n",
       "      <td>102.84800</td>\n",
       "      <td>102.84300</td>\n",
       "      <td>105.50470</td>\n",
       "      <td>101.31400</td>\n",
       "    </tr>\n",
       "    <tr>\n",
       "      <th>2022-01-01</th>\n",
       "      <td>98.62638</td>\n",
       "      <td>102.26290</td>\n",
       "      <td>103.45150</td>\n",
       "      <td>102.39140</td>\n",
       "      <td>100.76590</td>\n",
       "      <td>102.72650</td>\n",
       "      <td>102.85700</td>\n",
       "      <td>105.22810</td>\n",
       "      <td>101.13860</td>\n",
       "    </tr>\n",
       "    <tr>\n",
       "      <th>2022-02-01</th>\n",
       "      <td>98.37840</td>\n",
       "      <td>102.14370</td>\n",
       "      <td>103.23900</td>\n",
       "      <td>102.16040</td>\n",
       "      <td>100.69000</td>\n",
       "      <td>102.49050</td>\n",
       "      <td>102.78350</td>\n",
       "      <td>104.85680</td>\n",
       "      <td>101.02670</td>\n",
       "    </tr>\n",
       "    <tr>\n",
       "      <th>2022-03-01</th>\n",
       "      <td>97.90446</td>\n",
       "      <td>101.77990</td>\n",
       "      <td>102.89830</td>\n",
       "      <td>101.88770</td>\n",
       "      <td>100.62030</td>\n",
       "      <td>102.13310</td>\n",
       "      <td>102.64190</td>\n",
       "      <td>104.48320</td>\n",
       "      <td>100.86330</td>\n",
       "    </tr>\n",
       "    <tr>\n",
       "      <th>2022-04-01</th>\n",
       "      <td>97.53915</td>\n",
       "      <td>101.50070</td>\n",
       "      <td>102.67670</td>\n",
       "      <td>101.72120</td>\n",
       "      <td>100.57450</td>\n",
       "      <td>101.84250</td>\n",
       "      <td>102.51790</td>\n",
       "      <td>104.08350</td>\n",
       "      <td>100.66950</td>\n",
       "    </tr>\n",
       "  </tbody>\n",
       "</table>\n",
       "</div>"
      ],
      "text/plain": [
       "Reference area  China (People’s Republic of)     France    Germany      Italy  \\\n",
       "TIME_PERIOD                                                                     \n",
       "2018-10-01                          98.79642  101.04510  101.74760  100.96960   \n",
       "2018-11-01                          98.45412  100.95980  101.58590  100.85090   \n",
       "2018-12-01                          98.18901  100.85200  101.37150  100.70230   \n",
       "2019-01-01                          98.12537  100.74770  101.13800  100.53830   \n",
       "2019-02-01                          98.23363  100.61610  100.87850  100.42490   \n",
       "2019-03-01                          98.47947  100.55920  100.59330  100.39570   \n",
       "2019-04-01                          98.45925  100.53530  100.32710  100.42510   \n",
       "2019-05-01                          98.26464  100.60310  100.10390  100.45830   \n",
       "2019-06-01                          98.16116  100.47010   99.83164  100.41210   \n",
       "2019-07-01                          98.18482  100.27390   99.58361  100.34420   \n",
       "2019-08-01                          98.24573  100.17160   99.41563  100.28150   \n",
       "2019-09-01                          98.36055  100.11170   99.25211  100.22630   \n",
       "2019-10-01                          98.42083  100.12290   99.20591  100.21880   \n",
       "2019-11-01                          98.33443  100.18750   99.25149  100.23760   \n",
       "2019-12-01                          97.53813  100.33190   99.36457  100.23750   \n",
       "2020-01-01                          95.85280  100.46010   99.42984  100.08480   \n",
       "2020-02-01                          94.27966   99.93790   99.15123   99.54154   \n",
       "2020-03-01                          96.51480   98.53397   98.43016   98.49603   \n",
       "2020-04-01                          98.30811   96.89158   97.65586   97.45926   \n",
       "2020-05-01                          99.15063   96.96441   97.63272   96.84171   \n",
       "2020-06-01                          99.45623   97.97046   98.17185   97.05904   \n",
       "2020-07-01                          99.54837   98.93425   98.90795   97.70665   \n",
       "2020-08-01                          99.61066   99.51467   99.56557   98.41296   \n",
       "2020-09-01                          99.76554   99.56760  100.04010   99.04523   \n",
       "2020-10-01                          99.92666   99.34661  100.37030   99.39116   \n",
       "2020-11-01                         100.07100   99.14434  100.56750   99.50414   \n",
       "2020-12-01                          99.99227   99.29278  100.81060   99.80731   \n",
       "2021-01-01                          99.75475   99.58440  101.15530  100.15820   \n",
       "2021-02-01                          99.60085   99.95578  101.64120  100.56980   \n",
       "2021-03-01                          99.67635  100.38280  102.14560  101.03000   \n",
       "2021-04-01                          99.58633  100.96770  102.53950  101.52470   \n",
       "2021-05-01                          99.43008  101.52920  102.84870  101.98100   \n",
       "2021-06-01                          99.20774  101.91700  103.15130  102.29990   \n",
       "2021-07-01                          98.89126  102.16430  103.39760  102.47460   \n",
       "2021-08-01                          98.56118  102.09960  103.53860  102.53470   \n",
       "2021-09-01                          98.29616  101.98230  103.57210  102.60470   \n",
       "2021-10-01                          98.24673  102.04090  103.50640  102.67340   \n",
       "2021-11-01                          98.47332  102.16640  103.47850  102.66300   \n",
       "2021-12-01                          98.65394  102.24330  103.51680  102.57810   \n",
       "2022-01-01                          98.62638  102.26290  103.45150  102.39140   \n",
       "2022-02-01                          98.37840  102.14370  103.23900  102.16040   \n",
       "2022-03-01                          97.90446  101.77990  102.89830  101.88770   \n",
       "2022-04-01                          97.53915  101.50070  102.67670  101.72120   \n",
       "\n",
       "Reference area      Japan  OECD Europe  Switzerland  United Kingdom  \\\n",
       "TIME_PERIOD                                                           \n",
       "2018-10-01      101.52590    100.92950    102.03860       102.05680   \n",
       "2018-11-01      101.50880    100.91740    101.83990       102.24860   \n",
       "2018-12-01      101.44580    100.84640    101.60980       102.33940   \n",
       "2019-01-01      101.30790    100.67730    101.45330       101.99190   \n",
       "2019-02-01      101.13290    100.51320    101.34970       101.38670   \n",
       "2019-03-01      100.96610    100.40040    101.29550       100.76500   \n",
       "2019-04-01      100.83910    100.28650    101.16410       100.15260   \n",
       "2019-05-01      100.74000    100.14950    100.97690        99.58679   \n",
       "2019-06-01      100.65250     99.95510    100.77400        99.24728   \n",
       "2019-07-01      100.56820     99.73546    100.60730        98.86368   \n",
       "2019-08-01      100.48610     99.62101    100.46520        98.50896   \n",
       "2019-09-01      100.41020     99.50758    100.34040        98.02803   \n",
       "2019-10-01      100.34360     99.57677    100.29000        98.16537   \n",
       "2019-11-01      100.27710     99.76842    100.29430        98.51130   \n",
       "2019-12-01      100.19050     99.91677    100.29020        98.66959   \n",
       "2020-01-01      100.05350     99.85726    100.17300        98.73808   \n",
       "2020-02-01       99.84661     99.20320     99.84956        98.14634   \n",
       "2020-03-01       99.52361     97.65602     99.21345        96.42375   \n",
       "2020-04-01       99.04333     95.83762     98.46373        94.42829   \n",
       "2020-05-01       98.51799     95.58724     98.15688        93.98078   \n",
       "2020-06-01       98.10356     96.63290     98.42492        94.99005   \n",
       "2020-07-01       97.93507     97.95635     98.83104        96.55404   \n",
       "2020-08-01       97.95119     98.89299     99.16505        97.45731   \n",
       "2020-09-01       98.10630     99.43092     99.44869        98.32817   \n",
       "2020-10-01       98.39820     99.71464     99.73013        98.99674   \n",
       "2020-11-01       98.75661     99.75532     99.92045        98.71677   \n",
       "2020-12-01       99.12276     99.91563    100.10870        98.49593   \n",
       "2021-01-01       99.46240    100.11950    100.36470        98.45927   \n",
       "2021-02-01       99.77113    100.51600    100.75830        99.58276   \n",
       "2021-03-01      100.04060    101.09480    101.34230       101.41150   \n",
       "2021-04-01      100.25580    101.65790    101.94090       102.85760   \n",
       "2021-05-01      100.43120    102.16840    102.24820       104.01560   \n",
       "2021-06-01      100.57080    102.56240    102.32670       104.70050   \n",
       "2021-07-01      100.66730    102.77920    102.36840       104.99460   \n",
       "2021-08-01      100.73710    102.81330    102.46250       104.89950   \n",
       "2021-09-01      100.78960    102.81020    102.61420       104.95400   \n",
       "2021-10-01      100.82310    102.81040    102.71300       105.23670   \n",
       "2021-11-01      100.83730    102.85480    102.79050       105.52700   \n",
       "2021-12-01      100.82240    102.84800    102.84300       105.50470   \n",
       "2022-01-01      100.76590    102.72650    102.85700       105.22810   \n",
       "2022-02-01      100.69000    102.49050    102.78350       104.85680   \n",
       "2022-03-01      100.62030    102.13310    102.64190       104.48320   \n",
       "2022-04-01      100.57450    101.84250    102.51790       104.08350   \n",
       "\n",
       "Reference area  United States  \n",
       "TIME_PERIOD                    \n",
       "2018-10-01          101.21770  \n",
       "2018-11-01          101.00490  \n",
       "2018-12-01          100.69200  \n",
       "2019-01-01          100.54150  \n",
       "2019-02-01          100.37750  \n",
       "2019-03-01          100.24630  \n",
       "2019-04-01          100.02600  \n",
       "2019-05-01           99.82363  \n",
       "2019-06-01           99.64125  \n",
       "2019-07-01           99.42289  \n",
       "2019-08-01           99.14829  \n",
       "2019-09-01           98.94034  \n",
       "2019-10-01           98.87395  \n",
       "2019-11-01           98.89565  \n",
       "2019-12-01           99.00091  \n",
       "2020-01-01           99.16805  \n",
       "2020-02-01           99.05339  \n",
       "2020-03-01           98.64474  \n",
       "2020-04-01           98.19856  \n",
       "2020-05-01           98.42693  \n",
       "2020-06-01           99.25802  \n",
       "2020-07-01           99.96269  \n",
       "2020-08-01          100.43030  \n",
       "2020-09-01          100.73030  \n",
       "2020-10-01          100.99920  \n",
       "2020-11-01          101.16320  \n",
       "2020-12-01          101.37860  \n",
       "2021-01-01          101.55760  \n",
       "2021-02-01          101.79590  \n",
       "2021-03-01          101.99410  \n",
       "2021-04-01          101.95230  \n",
       "2021-05-01          101.87000  \n",
       "2021-06-01          101.73420  \n",
       "2021-07-01          101.60100  \n",
       "2021-08-01          101.55420  \n",
       "2021-09-01          101.59420  \n",
       "2021-10-01          101.59630  \n",
       "2021-11-01          101.51480  \n",
       "2021-12-01          101.31400  \n",
       "2022-01-01          101.13860  \n",
       "2022-02-01          101.02670  \n",
       "2022-03-01          100.86330  \n",
       "2022-04-01          100.66950  "
      ]
     },
     "execution_count": 18,
     "metadata": {},
     "output_type": "execute_result"
    }
   ],
   "source": [
    "bc2 = business_confidence.pivot_table(index=business_confidence.index, columns='Reference area', values='OBS_VALUE')\n",
    "bc2"
   ]
  },
  {
   "cell_type": "code",
   "execution_count": 19,
   "id": "ad585e2c",
   "metadata": {
    "ExecuteTime": {
     "end_time": "2025-03-21T18:12:01.647266Z",
     "start_time": "2025-03-21T18:12:01.639240Z"
    }
   },
   "outputs": [
    {
     "name": "stdout",
     "output_type": "stream",
     "text": [
      "<class 'pandas.core.frame.DataFrame'>\n",
      "DatetimeIndex: 43 entries, 2018-10-01 to 2022-04-01\n",
      "Data columns (total 9 columns):\n",
      " #   Column                        Non-Null Count  Dtype  \n",
      "---  ------                        --------------  -----  \n",
      " 0   China (People’s Republic of)  43 non-null     float64\n",
      " 1   France                        43 non-null     float64\n",
      " 2   Germany                       43 non-null     float64\n",
      " 3   Italy                         43 non-null     float64\n",
      " 4   Japan                         43 non-null     float64\n",
      " 5   OECD Europe                   43 non-null     float64\n",
      " 6   Switzerland                   43 non-null     float64\n",
      " 7   United Kingdom                43 non-null     float64\n",
      " 8   United States                 43 non-null     float64\n",
      "dtypes: float64(9)\n",
      "memory usage: 3.4 KB\n"
     ]
    }
   ],
   "source": [
    "bc2.info()"
   ]
  },
  {
   "cell_type": "code",
   "execution_count": 20,
   "id": "f42d09af",
   "metadata": {
    "ExecuteTime": {
     "end_time": "2025-03-21T18:12:01.653477Z",
     "start_time": "2025-03-21T18:12:01.648970Z"
    }
   },
   "outputs": [],
   "source": [
    "#bc2.to_csv('./extra data/clean_business_confidence.csv')"
   ]
  },
  {
   "cell_type": "markdown",
   "id": "76ee3b68",
   "metadata": {},
   "source": [
    "# 4. Covid-19 Strintegy Index"
   ]
  },
  {
   "cell_type": "code",
   "execution_count": 21,
   "id": "1aafb847",
   "metadata": {},
   "outputs": [
    {
     "data": {
      "text/html": [
       "<div>\n",
       "<style scoped>\n",
       "    .dataframe tbody tr th:only-of-type {\n",
       "        vertical-align: middle;\n",
       "    }\n",
       "\n",
       "    .dataframe tbody tr th {\n",
       "        vertical-align: top;\n",
       "    }\n",
       "\n",
       "    .dataframe thead th {\n",
       "        text-align: right;\n",
       "    }\n",
       "</style>\n",
       "<table border=\"1\" class=\"dataframe\">\n",
       "  <thead>\n",
       "    <tr style=\"text-align: right;\">\n",
       "      <th></th>\n",
       "      <th>iso_code</th>\n",
       "      <th>continent</th>\n",
       "      <th>location</th>\n",
       "      <th>date</th>\n",
       "      <th>total_cases</th>\n",
       "      <th>new_cases</th>\n",
       "      <th>new_cases_smoothed</th>\n",
       "      <th>total_deaths</th>\n",
       "      <th>new_deaths</th>\n",
       "      <th>new_deaths_smoothed</th>\n",
       "      <th>total_cases_per_million</th>\n",
       "      <th>new_cases_per_million</th>\n",
       "      <th>new_cases_smoothed_per_million</th>\n",
       "      <th>total_deaths_per_million</th>\n",
       "      <th>new_deaths_per_million</th>\n",
       "      <th>new_deaths_smoothed_per_million</th>\n",
       "      <th>reproduction_rate</th>\n",
       "      <th>icu_patients</th>\n",
       "      <th>icu_patients_per_million</th>\n",
       "      <th>hosp_patients</th>\n",
       "      <th>hosp_patients_per_million</th>\n",
       "      <th>weekly_icu_admissions</th>\n",
       "      <th>weekly_icu_admissions_per_million</th>\n",
       "      <th>weekly_hosp_admissions</th>\n",
       "      <th>weekly_hosp_admissions_per_million</th>\n",
       "      <th>total_tests</th>\n",
       "      <th>new_tests</th>\n",
       "      <th>total_tests_per_thousand</th>\n",
       "      <th>new_tests_per_thousand</th>\n",
       "      <th>new_tests_smoothed</th>\n",
       "      <th>new_tests_smoothed_per_thousand</th>\n",
       "      <th>positive_rate</th>\n",
       "      <th>tests_per_case</th>\n",
       "      <th>tests_units</th>\n",
       "      <th>total_vaccinations</th>\n",
       "      <th>people_vaccinated</th>\n",
       "      <th>people_fully_vaccinated</th>\n",
       "      <th>total_boosters</th>\n",
       "      <th>new_vaccinations</th>\n",
       "      <th>new_vaccinations_smoothed</th>\n",
       "      <th>total_vaccinations_per_hundred</th>\n",
       "      <th>people_vaccinated_per_hundred</th>\n",
       "      <th>people_fully_vaccinated_per_hundred</th>\n",
       "      <th>total_boosters_per_hundred</th>\n",
       "      <th>new_vaccinations_smoothed_per_million</th>\n",
       "      <th>new_people_vaccinated_smoothed</th>\n",
       "      <th>new_people_vaccinated_smoothed_per_hundred</th>\n",
       "      <th>stringency_index</th>\n",
       "      <th>population_density</th>\n",
       "      <th>median_age</th>\n",
       "      <th>aged_65_older</th>\n",
       "      <th>aged_70_older</th>\n",
       "      <th>gdp_per_capita</th>\n",
       "      <th>extreme_poverty</th>\n",
       "      <th>cardiovasc_death_rate</th>\n",
       "      <th>diabetes_prevalence</th>\n",
       "      <th>female_smokers</th>\n",
       "      <th>male_smokers</th>\n",
       "      <th>handwashing_facilities</th>\n",
       "      <th>hospital_beds_per_thousand</th>\n",
       "      <th>life_expectancy</th>\n",
       "      <th>human_development_index</th>\n",
       "      <th>population</th>\n",
       "      <th>excess_mortality_cumulative_absolute</th>\n",
       "      <th>excess_mortality_cumulative</th>\n",
       "      <th>excess_mortality</th>\n",
       "      <th>excess_mortality_cumulative_per_million</th>\n",
       "    </tr>\n",
       "  </thead>\n",
       "  <tbody>\n",
       "    <tr>\n",
       "      <th>0</th>\n",
       "      <td>AFG</td>\n",
       "      <td>Asia</td>\n",
       "      <td>Afghanistan</td>\n",
       "      <td>2020-01-05</td>\n",
       "      <td>0.0</td>\n",
       "      <td>0.0</td>\n",
       "      <td>NaN</td>\n",
       "      <td>0.0</td>\n",
       "      <td>0.0</td>\n",
       "      <td>NaN</td>\n",
       "      <td>0.0</td>\n",
       "      <td>0.0</td>\n",
       "      <td>NaN</td>\n",
       "      <td>0.0</td>\n",
       "      <td>0.0</td>\n",
       "      <td>NaN</td>\n",
       "      <td>NaN</td>\n",
       "      <td>NaN</td>\n",
       "      <td>NaN</td>\n",
       "      <td>NaN</td>\n",
       "      <td>NaN</td>\n",
       "      <td>NaN</td>\n",
       "      <td>NaN</td>\n",
       "      <td>NaN</td>\n",
       "      <td>NaN</td>\n",
       "      <td>NaN</td>\n",
       "      <td>NaN</td>\n",
       "      <td>NaN</td>\n",
       "      <td>NaN</td>\n",
       "      <td>NaN</td>\n",
       "      <td>NaN</td>\n",
       "      <td>NaN</td>\n",
       "      <td>NaN</td>\n",
       "      <td>NaN</td>\n",
       "      <td>NaN</td>\n",
       "      <td>NaN</td>\n",
       "      <td>NaN</td>\n",
       "      <td>NaN</td>\n",
       "      <td>NaN</td>\n",
       "      <td>NaN</td>\n",
       "      <td>NaN</td>\n",
       "      <td>NaN</td>\n",
       "      <td>NaN</td>\n",
       "      <td>NaN</td>\n",
       "      <td>NaN</td>\n",
       "      <td>NaN</td>\n",
       "      <td>NaN</td>\n",
       "      <td>0.0</td>\n",
       "      <td>54.42</td>\n",
       "      <td>18.6</td>\n",
       "      <td>2.58</td>\n",
       "      <td>1.34</td>\n",
       "      <td>1803.99</td>\n",
       "      <td>NaN</td>\n",
       "      <td>597.03</td>\n",
       "      <td>9.59</td>\n",
       "      <td>NaN</td>\n",
       "      <td>NaN</td>\n",
       "      <td>37.75</td>\n",
       "      <td>0.5</td>\n",
       "      <td>64.83</td>\n",
       "      <td>0.51</td>\n",
       "      <td>41128772</td>\n",
       "      <td>NaN</td>\n",
       "      <td>NaN</td>\n",
       "      <td>NaN</td>\n",
       "      <td>NaN</td>\n",
       "    </tr>\n",
       "    <tr>\n",
       "      <th>1</th>\n",
       "      <td>AFG</td>\n",
       "      <td>Asia</td>\n",
       "      <td>Afghanistan</td>\n",
       "      <td>2020-01-06</td>\n",
       "      <td>0.0</td>\n",
       "      <td>0.0</td>\n",
       "      <td>NaN</td>\n",
       "      <td>0.0</td>\n",
       "      <td>0.0</td>\n",
       "      <td>NaN</td>\n",
       "      <td>0.0</td>\n",
       "      <td>0.0</td>\n",
       "      <td>NaN</td>\n",
       "      <td>0.0</td>\n",
       "      <td>0.0</td>\n",
       "      <td>NaN</td>\n",
       "      <td>NaN</td>\n",
       "      <td>NaN</td>\n",
       "      <td>NaN</td>\n",
       "      <td>NaN</td>\n",
       "      <td>NaN</td>\n",
       "      <td>NaN</td>\n",
       "      <td>NaN</td>\n",
       "      <td>NaN</td>\n",
       "      <td>NaN</td>\n",
       "      <td>NaN</td>\n",
       "      <td>NaN</td>\n",
       "      <td>NaN</td>\n",
       "      <td>NaN</td>\n",
       "      <td>NaN</td>\n",
       "      <td>NaN</td>\n",
       "      <td>NaN</td>\n",
       "      <td>NaN</td>\n",
       "      <td>NaN</td>\n",
       "      <td>NaN</td>\n",
       "      <td>NaN</td>\n",
       "      <td>NaN</td>\n",
       "      <td>NaN</td>\n",
       "      <td>NaN</td>\n",
       "      <td>NaN</td>\n",
       "      <td>NaN</td>\n",
       "      <td>NaN</td>\n",
       "      <td>NaN</td>\n",
       "      <td>NaN</td>\n",
       "      <td>NaN</td>\n",
       "      <td>NaN</td>\n",
       "      <td>NaN</td>\n",
       "      <td>0.0</td>\n",
       "      <td>54.42</td>\n",
       "      <td>18.6</td>\n",
       "      <td>2.58</td>\n",
       "      <td>1.34</td>\n",
       "      <td>1803.99</td>\n",
       "      <td>NaN</td>\n",
       "      <td>597.03</td>\n",
       "      <td>9.59</td>\n",
       "      <td>NaN</td>\n",
       "      <td>NaN</td>\n",
       "      <td>37.75</td>\n",
       "      <td>0.5</td>\n",
       "      <td>64.83</td>\n",
       "      <td>0.51</td>\n",
       "      <td>41128772</td>\n",
       "      <td>NaN</td>\n",
       "      <td>NaN</td>\n",
       "      <td>NaN</td>\n",
       "      <td>NaN</td>\n",
       "    </tr>\n",
       "    <tr>\n",
       "      <th>2</th>\n",
       "      <td>AFG</td>\n",
       "      <td>Asia</td>\n",
       "      <td>Afghanistan</td>\n",
       "      <td>2020-01-07</td>\n",
       "      <td>0.0</td>\n",
       "      <td>0.0</td>\n",
       "      <td>NaN</td>\n",
       "      <td>0.0</td>\n",
       "      <td>0.0</td>\n",
       "      <td>NaN</td>\n",
       "      <td>0.0</td>\n",
       "      <td>0.0</td>\n",
       "      <td>NaN</td>\n",
       "      <td>0.0</td>\n",
       "      <td>0.0</td>\n",
       "      <td>NaN</td>\n",
       "      <td>NaN</td>\n",
       "      <td>NaN</td>\n",
       "      <td>NaN</td>\n",
       "      <td>NaN</td>\n",
       "      <td>NaN</td>\n",
       "      <td>NaN</td>\n",
       "      <td>NaN</td>\n",
       "      <td>NaN</td>\n",
       "      <td>NaN</td>\n",
       "      <td>NaN</td>\n",
       "      <td>NaN</td>\n",
       "      <td>NaN</td>\n",
       "      <td>NaN</td>\n",
       "      <td>NaN</td>\n",
       "      <td>NaN</td>\n",
       "      <td>NaN</td>\n",
       "      <td>NaN</td>\n",
       "      <td>NaN</td>\n",
       "      <td>NaN</td>\n",
       "      <td>NaN</td>\n",
       "      <td>NaN</td>\n",
       "      <td>NaN</td>\n",
       "      <td>NaN</td>\n",
       "      <td>NaN</td>\n",
       "      <td>NaN</td>\n",
       "      <td>NaN</td>\n",
       "      <td>NaN</td>\n",
       "      <td>NaN</td>\n",
       "      <td>NaN</td>\n",
       "      <td>NaN</td>\n",
       "      <td>NaN</td>\n",
       "      <td>0.0</td>\n",
       "      <td>54.42</td>\n",
       "      <td>18.6</td>\n",
       "      <td>2.58</td>\n",
       "      <td>1.34</td>\n",
       "      <td>1803.99</td>\n",
       "      <td>NaN</td>\n",
       "      <td>597.03</td>\n",
       "      <td>9.59</td>\n",
       "      <td>NaN</td>\n",
       "      <td>NaN</td>\n",
       "      <td>37.75</td>\n",
       "      <td>0.5</td>\n",
       "      <td>64.83</td>\n",
       "      <td>0.51</td>\n",
       "      <td>41128772</td>\n",
       "      <td>NaN</td>\n",
       "      <td>NaN</td>\n",
       "      <td>NaN</td>\n",
       "      <td>NaN</td>\n",
       "    </tr>\n",
       "    <tr>\n",
       "      <th>3</th>\n",
       "      <td>AFG</td>\n",
       "      <td>Asia</td>\n",
       "      <td>Afghanistan</td>\n",
       "      <td>2020-01-08</td>\n",
       "      <td>0.0</td>\n",
       "      <td>0.0</td>\n",
       "      <td>NaN</td>\n",
       "      <td>0.0</td>\n",
       "      <td>0.0</td>\n",
       "      <td>NaN</td>\n",
       "      <td>0.0</td>\n",
       "      <td>0.0</td>\n",
       "      <td>NaN</td>\n",
       "      <td>0.0</td>\n",
       "      <td>0.0</td>\n",
       "      <td>NaN</td>\n",
       "      <td>NaN</td>\n",
       "      <td>NaN</td>\n",
       "      <td>NaN</td>\n",
       "      <td>NaN</td>\n",
       "      <td>NaN</td>\n",
       "      <td>NaN</td>\n",
       "      <td>NaN</td>\n",
       "      <td>NaN</td>\n",
       "      <td>NaN</td>\n",
       "      <td>NaN</td>\n",
       "      <td>NaN</td>\n",
       "      <td>NaN</td>\n",
       "      <td>NaN</td>\n",
       "      <td>NaN</td>\n",
       "      <td>NaN</td>\n",
       "      <td>NaN</td>\n",
       "      <td>NaN</td>\n",
       "      <td>NaN</td>\n",
       "      <td>NaN</td>\n",
       "      <td>NaN</td>\n",
       "      <td>NaN</td>\n",
       "      <td>NaN</td>\n",
       "      <td>NaN</td>\n",
       "      <td>NaN</td>\n",
       "      <td>NaN</td>\n",
       "      <td>NaN</td>\n",
       "      <td>NaN</td>\n",
       "      <td>NaN</td>\n",
       "      <td>NaN</td>\n",
       "      <td>NaN</td>\n",
       "      <td>NaN</td>\n",
       "      <td>0.0</td>\n",
       "      <td>54.42</td>\n",
       "      <td>18.6</td>\n",
       "      <td>2.58</td>\n",
       "      <td>1.34</td>\n",
       "      <td>1803.99</td>\n",
       "      <td>NaN</td>\n",
       "      <td>597.03</td>\n",
       "      <td>9.59</td>\n",
       "      <td>NaN</td>\n",
       "      <td>NaN</td>\n",
       "      <td>37.75</td>\n",
       "      <td>0.5</td>\n",
       "      <td>64.83</td>\n",
       "      <td>0.51</td>\n",
       "      <td>41128772</td>\n",
       "      <td>NaN</td>\n",
       "      <td>NaN</td>\n",
       "      <td>NaN</td>\n",
       "      <td>NaN</td>\n",
       "    </tr>\n",
       "    <tr>\n",
       "      <th>4</th>\n",
       "      <td>AFG</td>\n",
       "      <td>Asia</td>\n",
       "      <td>Afghanistan</td>\n",
       "      <td>2020-01-09</td>\n",
       "      <td>0.0</td>\n",
       "      <td>0.0</td>\n",
       "      <td>NaN</td>\n",
       "      <td>0.0</td>\n",
       "      <td>0.0</td>\n",
       "      <td>NaN</td>\n",
       "      <td>0.0</td>\n",
       "      <td>0.0</td>\n",
       "      <td>NaN</td>\n",
       "      <td>0.0</td>\n",
       "      <td>0.0</td>\n",
       "      <td>NaN</td>\n",
       "      <td>NaN</td>\n",
       "      <td>NaN</td>\n",
       "      <td>NaN</td>\n",
       "      <td>NaN</td>\n",
       "      <td>NaN</td>\n",
       "      <td>NaN</td>\n",
       "      <td>NaN</td>\n",
       "      <td>NaN</td>\n",
       "      <td>NaN</td>\n",
       "      <td>NaN</td>\n",
       "      <td>NaN</td>\n",
       "      <td>NaN</td>\n",
       "      <td>NaN</td>\n",
       "      <td>NaN</td>\n",
       "      <td>NaN</td>\n",
       "      <td>NaN</td>\n",
       "      <td>NaN</td>\n",
       "      <td>NaN</td>\n",
       "      <td>NaN</td>\n",
       "      <td>NaN</td>\n",
       "      <td>NaN</td>\n",
       "      <td>NaN</td>\n",
       "      <td>NaN</td>\n",
       "      <td>NaN</td>\n",
       "      <td>NaN</td>\n",
       "      <td>NaN</td>\n",
       "      <td>NaN</td>\n",
       "      <td>NaN</td>\n",
       "      <td>NaN</td>\n",
       "      <td>NaN</td>\n",
       "      <td>NaN</td>\n",
       "      <td>0.0</td>\n",
       "      <td>54.42</td>\n",
       "      <td>18.6</td>\n",
       "      <td>2.58</td>\n",
       "      <td>1.34</td>\n",
       "      <td>1803.99</td>\n",
       "      <td>NaN</td>\n",
       "      <td>597.03</td>\n",
       "      <td>9.59</td>\n",
       "      <td>NaN</td>\n",
       "      <td>NaN</td>\n",
       "      <td>37.75</td>\n",
       "      <td>0.5</td>\n",
       "      <td>64.83</td>\n",
       "      <td>0.51</td>\n",
       "      <td>41128772</td>\n",
       "      <td>NaN</td>\n",
       "      <td>NaN</td>\n",
       "      <td>NaN</td>\n",
       "      <td>NaN</td>\n",
       "    </tr>\n",
       "  </tbody>\n",
       "</table>\n",
       "</div>"
      ],
      "text/plain": [
       "  iso_code continent     location        date  total_cases  new_cases  \\\n",
       "0      AFG      Asia  Afghanistan  2020-01-05          0.0        0.0   \n",
       "1      AFG      Asia  Afghanistan  2020-01-06          0.0        0.0   \n",
       "2      AFG      Asia  Afghanistan  2020-01-07          0.0        0.0   \n",
       "3      AFG      Asia  Afghanistan  2020-01-08          0.0        0.0   \n",
       "4      AFG      Asia  Afghanistan  2020-01-09          0.0        0.0   \n",
       "\n",
       "   new_cases_smoothed  total_deaths  new_deaths  new_deaths_smoothed  \\\n",
       "0                 NaN           0.0         0.0                  NaN   \n",
       "1                 NaN           0.0         0.0                  NaN   \n",
       "2                 NaN           0.0         0.0                  NaN   \n",
       "3                 NaN           0.0         0.0                  NaN   \n",
       "4                 NaN           0.0         0.0                  NaN   \n",
       "\n",
       "   total_cases_per_million  new_cases_per_million  \\\n",
       "0                      0.0                    0.0   \n",
       "1                      0.0                    0.0   \n",
       "2                      0.0                    0.0   \n",
       "3                      0.0                    0.0   \n",
       "4                      0.0                    0.0   \n",
       "\n",
       "   new_cases_smoothed_per_million  total_deaths_per_million  \\\n",
       "0                             NaN                       0.0   \n",
       "1                             NaN                       0.0   \n",
       "2                             NaN                       0.0   \n",
       "3                             NaN                       0.0   \n",
       "4                             NaN                       0.0   \n",
       "\n",
       "   new_deaths_per_million  new_deaths_smoothed_per_million  reproduction_rate  \\\n",
       "0                     0.0                              NaN                NaN   \n",
       "1                     0.0                              NaN                NaN   \n",
       "2                     0.0                              NaN                NaN   \n",
       "3                     0.0                              NaN                NaN   \n",
       "4                     0.0                              NaN                NaN   \n",
       "\n",
       "   icu_patients  icu_patients_per_million  hosp_patients  \\\n",
       "0           NaN                       NaN            NaN   \n",
       "1           NaN                       NaN            NaN   \n",
       "2           NaN                       NaN            NaN   \n",
       "3           NaN                       NaN            NaN   \n",
       "4           NaN                       NaN            NaN   \n",
       "\n",
       "   hosp_patients_per_million  weekly_icu_admissions  \\\n",
       "0                        NaN                    NaN   \n",
       "1                        NaN                    NaN   \n",
       "2                        NaN                    NaN   \n",
       "3                        NaN                    NaN   \n",
       "4                        NaN                    NaN   \n",
       "\n",
       "   weekly_icu_admissions_per_million  weekly_hosp_admissions  \\\n",
       "0                                NaN                     NaN   \n",
       "1                                NaN                     NaN   \n",
       "2                                NaN                     NaN   \n",
       "3                                NaN                     NaN   \n",
       "4                                NaN                     NaN   \n",
       "\n",
       "   weekly_hosp_admissions_per_million  total_tests  new_tests  \\\n",
       "0                                 NaN          NaN        NaN   \n",
       "1                                 NaN          NaN        NaN   \n",
       "2                                 NaN          NaN        NaN   \n",
       "3                                 NaN          NaN        NaN   \n",
       "4                                 NaN          NaN        NaN   \n",
       "\n",
       "   total_tests_per_thousand  new_tests_per_thousand  new_tests_smoothed  \\\n",
       "0                       NaN                     NaN                 NaN   \n",
       "1                       NaN                     NaN                 NaN   \n",
       "2                       NaN                     NaN                 NaN   \n",
       "3                       NaN                     NaN                 NaN   \n",
       "4                       NaN                     NaN                 NaN   \n",
       "\n",
       "   new_tests_smoothed_per_thousand  positive_rate  tests_per_case tests_units  \\\n",
       "0                              NaN            NaN             NaN         NaN   \n",
       "1                              NaN            NaN             NaN         NaN   \n",
       "2                              NaN            NaN             NaN         NaN   \n",
       "3                              NaN            NaN             NaN         NaN   \n",
       "4                              NaN            NaN             NaN         NaN   \n",
       "\n",
       "   total_vaccinations  people_vaccinated  people_fully_vaccinated  \\\n",
       "0                 NaN                NaN                      NaN   \n",
       "1                 NaN                NaN                      NaN   \n",
       "2                 NaN                NaN                      NaN   \n",
       "3                 NaN                NaN                      NaN   \n",
       "4                 NaN                NaN                      NaN   \n",
       "\n",
       "   total_boosters  new_vaccinations  new_vaccinations_smoothed  \\\n",
       "0             NaN               NaN                        NaN   \n",
       "1             NaN               NaN                        NaN   \n",
       "2             NaN               NaN                        NaN   \n",
       "3             NaN               NaN                        NaN   \n",
       "4             NaN               NaN                        NaN   \n",
       "\n",
       "   total_vaccinations_per_hundred  people_vaccinated_per_hundred  \\\n",
       "0                             NaN                            NaN   \n",
       "1                             NaN                            NaN   \n",
       "2                             NaN                            NaN   \n",
       "3                             NaN                            NaN   \n",
       "4                             NaN                            NaN   \n",
       "\n",
       "   people_fully_vaccinated_per_hundred  total_boosters_per_hundred  \\\n",
       "0                                  NaN                         NaN   \n",
       "1                                  NaN                         NaN   \n",
       "2                                  NaN                         NaN   \n",
       "3                                  NaN                         NaN   \n",
       "4                                  NaN                         NaN   \n",
       "\n",
       "   new_vaccinations_smoothed_per_million  new_people_vaccinated_smoothed  \\\n",
       "0                                    NaN                             NaN   \n",
       "1                                    NaN                             NaN   \n",
       "2                                    NaN                             NaN   \n",
       "3                                    NaN                             NaN   \n",
       "4                                    NaN                             NaN   \n",
       "\n",
       "   new_people_vaccinated_smoothed_per_hundred  stringency_index  \\\n",
       "0                                         NaN               0.0   \n",
       "1                                         NaN               0.0   \n",
       "2                                         NaN               0.0   \n",
       "3                                         NaN               0.0   \n",
       "4                                         NaN               0.0   \n",
       "\n",
       "   population_density  median_age  aged_65_older  aged_70_older  \\\n",
       "0               54.42        18.6           2.58           1.34   \n",
       "1               54.42        18.6           2.58           1.34   \n",
       "2               54.42        18.6           2.58           1.34   \n",
       "3               54.42        18.6           2.58           1.34   \n",
       "4               54.42        18.6           2.58           1.34   \n",
       "\n",
       "   gdp_per_capita  extreme_poverty  cardiovasc_death_rate  \\\n",
       "0         1803.99              NaN                 597.03   \n",
       "1         1803.99              NaN                 597.03   \n",
       "2         1803.99              NaN                 597.03   \n",
       "3         1803.99              NaN                 597.03   \n",
       "4         1803.99              NaN                 597.03   \n",
       "\n",
       "   diabetes_prevalence  female_smokers  male_smokers  handwashing_facilities  \\\n",
       "0                 9.59             NaN           NaN                   37.75   \n",
       "1                 9.59             NaN           NaN                   37.75   \n",
       "2                 9.59             NaN           NaN                   37.75   \n",
       "3                 9.59             NaN           NaN                   37.75   \n",
       "4                 9.59             NaN           NaN                   37.75   \n",
       "\n",
       "   hospital_beds_per_thousand  life_expectancy  human_development_index  \\\n",
       "0                         0.5            64.83                     0.51   \n",
       "1                         0.5            64.83                     0.51   \n",
       "2                         0.5            64.83                     0.51   \n",
       "3                         0.5            64.83                     0.51   \n",
       "4                         0.5            64.83                     0.51   \n",
       "\n",
       "   population  excess_mortality_cumulative_absolute  \\\n",
       "0    41128772                                   NaN   \n",
       "1    41128772                                   NaN   \n",
       "2    41128772                                   NaN   \n",
       "3    41128772                                   NaN   \n",
       "4    41128772                                   NaN   \n",
       "\n",
       "   excess_mortality_cumulative  excess_mortality  \\\n",
       "0                          NaN               NaN   \n",
       "1                          NaN               NaN   \n",
       "2                          NaN               NaN   \n",
       "3                          NaN               NaN   \n",
       "4                          NaN               NaN   \n",
       "\n",
       "   excess_mortality_cumulative_per_million  \n",
       "0                                      NaN  \n",
       "1                                      NaN  \n",
       "2                                      NaN  \n",
       "3                                      NaN  \n",
       "4                                      NaN  "
      ]
     },
     "execution_count": 21,
     "metadata": {},
     "output_type": "execute_result"
    }
   ],
   "source": [
    "covid = pd.read_csv('extra data/owid-covid-data.csv')\n",
    "covid.head()"
   ]
  },
  {
   "cell_type": "code",
   "execution_count": 22,
   "id": "d15e0a1d",
   "metadata": {},
   "outputs": [],
   "source": [
    "covid = covid.loc[:, ['date', 'location', 'stringency_index']]\n",
    "covid = covid[covid['location'].isin(['Germany', 'Italy', 'France', 'China', 'Switzerland', 'United Kingdom', 'United States'])]\n",
    "covid = covid[pd.to_datetime(covid['date']) <= '2022-04-30']\n"
   ]
  },
  {
   "cell_type": "code",
   "execution_count": 23,
   "id": "4b9a1ef1",
   "metadata": {},
   "outputs": [],
   "source": [
    "covid['date'] = pd.to_datetime(covid['date'])\n",
    "covid_grouped = covid.groupby([covid['date'].dt.to_period('M'), 'location'])['stringency_index'].mean().round(2)\n",
    "covid_grouped = covid_grouped.reset_index()"
   ]
  },
  {
   "cell_type": "code",
   "execution_count": 24,
   "id": "4f5e655b",
   "metadata": {},
   "outputs": [
    {
     "data": {
      "text/html": [
       "<div>\n",
       "<style scoped>\n",
       "    .dataframe tbody tr th:only-of-type {\n",
       "        vertical-align: middle;\n",
       "    }\n",
       "\n",
       "    .dataframe tbody tr th {\n",
       "        vertical-align: top;\n",
       "    }\n",
       "\n",
       "    .dataframe thead th {\n",
       "        text-align: right;\n",
       "    }\n",
       "</style>\n",
       "<table border=\"1\" class=\"dataframe\">\n",
       "  <thead>\n",
       "    <tr style=\"text-align: right;\">\n",
       "      <th></th>\n",
       "      <th>date</th>\n",
       "      <th>location</th>\n",
       "      <th>stringency_index</th>\n",
       "    </tr>\n",
       "  </thead>\n",
       "  <tbody>\n",
       "    <tr>\n",
       "      <th>0</th>\n",
       "      <td>2020-01</td>\n",
       "      <td>China</td>\n",
       "      <td>24.80</td>\n",
       "    </tr>\n",
       "    <tr>\n",
       "      <th>1</th>\n",
       "      <td>2020-01</td>\n",
       "      <td>France</td>\n",
       "      <td>1.85</td>\n",
       "    </tr>\n",
       "    <tr>\n",
       "      <th>2</th>\n",
       "      <td>2020-01</td>\n",
       "      <td>Germany</td>\n",
       "      <td>1.65</td>\n",
       "    </tr>\n",
       "    <tr>\n",
       "      <th>3</th>\n",
       "      <td>2020-01</td>\n",
       "      <td>Italy</td>\n",
       "      <td>1.75</td>\n",
       "    </tr>\n",
       "    <tr>\n",
       "      <th>4</th>\n",
       "      <td>2020-01</td>\n",
       "      <td>Switzerland</td>\n",
       "      <td>0.00</td>\n",
       "    </tr>\n",
       "    <tr>\n",
       "      <th>...</th>\n",
       "      <td>...</td>\n",
       "      <td>...</td>\n",
       "      <td>...</td>\n",
       "    </tr>\n",
       "    <tr>\n",
       "      <th>191</th>\n",
       "      <td>2022-04</td>\n",
       "      <td>Germany</td>\n",
       "      <td>16.03</td>\n",
       "    </tr>\n",
       "    <tr>\n",
       "      <th>192</th>\n",
       "      <td>2022-04</td>\n",
       "      <td>Italy</td>\n",
       "      <td>36.45</td>\n",
       "    </tr>\n",
       "    <tr>\n",
       "      <th>193</th>\n",
       "      <td>2022-04</td>\n",
       "      <td>Switzerland</td>\n",
       "      <td>11.11</td>\n",
       "    </tr>\n",
       "    <tr>\n",
       "      <th>194</th>\n",
       "      <td>2022-04</td>\n",
       "      <td>United Kingdom</td>\n",
       "      <td>16.42</td>\n",
       "    </tr>\n",
       "    <tr>\n",
       "      <th>195</th>\n",
       "      <td>2022-04</td>\n",
       "      <td>United States</td>\n",
       "      <td>29.21</td>\n",
       "    </tr>\n",
       "  </tbody>\n",
       "</table>\n",
       "<p>196 rows × 3 columns</p>\n",
       "</div>"
      ],
      "text/plain": [
       "        date        location  stringency_index\n",
       "0    2020-01           China             24.80\n",
       "1    2020-01          France              1.85\n",
       "2    2020-01         Germany              1.65\n",
       "3    2020-01           Italy              1.75\n",
       "4    2020-01     Switzerland              0.00\n",
       "..       ...             ...               ...\n",
       "191  2022-04         Germany             16.03\n",
       "192  2022-04           Italy             36.45\n",
       "193  2022-04     Switzerland             11.11\n",
       "194  2022-04  United Kingdom             16.42\n",
       "195  2022-04   United States             29.21\n",
       "\n",
       "[196 rows x 3 columns]"
      ]
     },
     "execution_count": 24,
     "metadata": {},
     "output_type": "execute_result"
    }
   ],
   "source": [
    "covid_grouped"
   ]
  },
  {
   "cell_type": "code",
   "execution_count": 25,
   "id": "bfe26ae4",
   "metadata": {},
   "outputs": [
    {
     "data": {
      "text/html": [
       "<div>\n",
       "<style scoped>\n",
       "    .dataframe tbody tr th:only-of-type {\n",
       "        vertical-align: middle;\n",
       "    }\n",
       "\n",
       "    .dataframe tbody tr th {\n",
       "        vertical-align: top;\n",
       "    }\n",
       "\n",
       "    .dataframe thead th {\n",
       "        text-align: right;\n",
       "    }\n",
       "</style>\n",
       "<table border=\"1\" class=\"dataframe\">\n",
       "  <thead>\n",
       "    <tr style=\"text-align: right;\">\n",
       "      <th>location</th>\n",
       "      <th>China</th>\n",
       "      <th>France</th>\n",
       "      <th>Germany</th>\n",
       "      <th>Italy</th>\n",
       "      <th>Switzerland</th>\n",
       "      <th>United Kingdom</th>\n",
       "      <th>United States</th>\n",
       "    </tr>\n",
       "    <tr>\n",
       "      <th>date</th>\n",
       "      <th></th>\n",
       "      <th></th>\n",
       "      <th></th>\n",
       "      <th></th>\n",
       "      <th></th>\n",
       "      <th></th>\n",
       "      <th></th>\n",
       "    </tr>\n",
       "  </thead>\n",
       "  <tbody>\n",
       "    <tr>\n",
       "      <th>2020-01</th>\n",
       "      <td>24.80</td>\n",
       "      <td>1.85</td>\n",
       "      <td>1.65</td>\n",
       "      <td>1.75</td>\n",
       "      <td>0.00</td>\n",
       "      <td>2.57</td>\n",
       "      <td>0.00</td>\n",
       "    </tr>\n",
       "    <tr>\n",
       "      <th>2020-02</th>\n",
       "      <td>76.99</td>\n",
       "      <td>7.71</td>\n",
       "      <td>10.15</td>\n",
       "      <td>31.17</td>\n",
       "      <td>2.39</td>\n",
       "      <td>11.01</td>\n",
       "      <td>7.18</td>\n",
       "    </tr>\n",
       "    <tr>\n",
       "      <th>2020-03</th>\n",
       "      <td>79.53</td>\n",
       "      <td>65.74</td>\n",
       "      <td>48.77</td>\n",
       "      <td>80.42</td>\n",
       "      <td>49.37</td>\n",
       "      <td>36.63</td>\n",
       "      <td>45.86</td>\n",
       "    </tr>\n",
       "    <tr>\n",
       "      <th>2020-04</th>\n",
       "      <td>60.21</td>\n",
       "      <td>87.96</td>\n",
       "      <td>76.85</td>\n",
       "      <td>90.65</td>\n",
       "      <td>72.66</td>\n",
       "      <td>79.63</td>\n",
       "      <td>72.69</td>\n",
       "    </tr>\n",
       "    <tr>\n",
       "      <th>2020-05</th>\n",
       "      <td>74.68</td>\n",
       "      <td>80.08</td>\n",
       "      <td>63.84</td>\n",
       "      <td>73.68</td>\n",
       "      <td>61.74</td>\n",
       "      <td>74.23</td>\n",
       "      <td>72.69</td>\n",
       "    </tr>\n",
       "    <tr>\n",
       "      <th>2020-06</th>\n",
       "      <td>78.49</td>\n",
       "      <td>66.20</td>\n",
       "      <td>61.33</td>\n",
       "      <td>67.59</td>\n",
       "      <td>44.51</td>\n",
       "      <td>70.87</td>\n",
       "      <td>70.71</td>\n",
       "    </tr>\n",
       "    <tr>\n",
       "      <th>2020-07</th>\n",
       "      <td>78.24</td>\n",
       "      <td>48.09</td>\n",
       "      <td>56.79</td>\n",
       "      <td>66.99</td>\n",
       "      <td>39.20</td>\n",
       "      <td>65.38</td>\n",
       "      <td>68.98</td>\n",
       "    </tr>\n",
       "    <tr>\n",
       "      <th>2020-08</th>\n",
       "      <td>78.24</td>\n",
       "      <td>47.37</td>\n",
       "      <td>57.93</td>\n",
       "      <td>66.61</td>\n",
       "      <td>43.06</td>\n",
       "      <td>67.64</td>\n",
       "      <td>68.98</td>\n",
       "    </tr>\n",
       "    <tr>\n",
       "      <th>2020-09</th>\n",
       "      <td>60.09</td>\n",
       "      <td>48.40</td>\n",
       "      <td>50.50</td>\n",
       "      <td>65.80</td>\n",
       "      <td>43.06</td>\n",
       "      <td>65.57</td>\n",
       "      <td>67.22</td>\n",
       "    </tr>\n",
       "    <tr>\n",
       "      <th>2020-10</th>\n",
       "      <td>63.07</td>\n",
       "      <td>50.17</td>\n",
       "      <td>55.21</td>\n",
       "      <td>68.01</td>\n",
       "      <td>33.18</td>\n",
       "      <td>67.89</td>\n",
       "      <td>66.20</td>\n",
       "    </tr>\n",
       "    <tr>\n",
       "      <th>2020-11</th>\n",
       "      <td>69.48</td>\n",
       "      <td>78.33</td>\n",
       "      <td>62.18</td>\n",
       "      <td>81.79</td>\n",
       "      <td>58.06</td>\n",
       "      <td>68.33</td>\n",
       "      <td>71.48</td>\n",
       "    </tr>\n",
       "    <tr>\n",
       "      <th>2020-12</th>\n",
       "      <td>79.08</td>\n",
       "      <td>68.91</td>\n",
       "      <td>75.48</td>\n",
       "      <td>80.86</td>\n",
       "      <td>59.20</td>\n",
       "      <td>72.36</td>\n",
       "      <td>71.88</td>\n",
       "    </tr>\n",
       "    <tr>\n",
       "      <th>2021-01</th>\n",
       "      <td>78.24</td>\n",
       "      <td>63.89</td>\n",
       "      <td>83.51</td>\n",
       "      <td>76.55</td>\n",
       "      <td>60.19</td>\n",
       "      <td>86.89</td>\n",
       "      <td>71.76</td>\n",
       "    </tr>\n",
       "    <tr>\n",
       "      <th>2021-02</th>\n",
       "      <td>74.07</td>\n",
       "      <td>62.21</td>\n",
       "      <td>82.87</td>\n",
       "      <td>75.92</td>\n",
       "      <td>60.19</td>\n",
       "      <td>87.50</td>\n",
       "      <td>68.32</td>\n",
       "    </tr>\n",
       "    <tr>\n",
       "      <th>2021-03</th>\n",
       "      <td>52.99</td>\n",
       "      <td>66.88</td>\n",
       "      <td>76.70</td>\n",
       "      <td>79.33</td>\n",
       "      <td>60.19</td>\n",
       "      <td>79.75</td>\n",
       "      <td>62.83</td>\n",
       "    </tr>\n",
       "    <tr>\n",
       "      <th>2021-04</th>\n",
       "      <td>74.47</td>\n",
       "      <td>74.01</td>\n",
       "      <td>75.00</td>\n",
       "      <td>78.67</td>\n",
       "      <td>56.49</td>\n",
       "      <td>64.51</td>\n",
       "      <td>54.53</td>\n",
       "    </tr>\n",
       "    <tr>\n",
       "      <th>2021-05</th>\n",
       "      <td>68.44</td>\n",
       "      <td>60.72</td>\n",
       "      <td>74.82</td>\n",
       "      <td>70.55</td>\n",
       "      <td>50.84</td>\n",
       "      <td>61.15</td>\n",
       "      <td>57.27</td>\n",
       "    </tr>\n",
       "    <tr>\n",
       "      <th>2021-06</th>\n",
       "      <td>74.29</td>\n",
       "      <td>51.35</td>\n",
       "      <td>69.44</td>\n",
       "      <td>70.84</td>\n",
       "      <td>47.53</td>\n",
       "      <td>52.87</td>\n",
       "      <td>56.92</td>\n",
       "    </tr>\n",
       "    <tr>\n",
       "      <th>2021-07</th>\n",
       "      <td>73.88</td>\n",
       "      <td>41.15</td>\n",
       "      <td>69.44</td>\n",
       "      <td>61.31</td>\n",
       "      <td>44.44</td>\n",
       "      <td>48.28</td>\n",
       "      <td>49.45</td>\n",
       "    </tr>\n",
       "    <tr>\n",
       "      <th>2021-08</th>\n",
       "      <td>79.17</td>\n",
       "      <td>43.10</td>\n",
       "      <td>55.86</td>\n",
       "      <td>53.79</td>\n",
       "      <td>44.44</td>\n",
       "      <td>43.98</td>\n",
       "      <td>51.81</td>\n",
       "    </tr>\n",
       "    <tr>\n",
       "      <th>2021-09</th>\n",
       "      <td>77.32</td>\n",
       "      <td>43.42</td>\n",
       "      <td>37.85</td>\n",
       "      <td>57.34</td>\n",
       "      <td>47.78</td>\n",
       "      <td>42.03</td>\n",
       "      <td>52.38</td>\n",
       "    </tr>\n",
       "    <tr>\n",
       "      <th>2021-10</th>\n",
       "      <td>78.45</td>\n",
       "      <td>41.78</td>\n",
       "      <td>30.34</td>\n",
       "      <td>52.42</td>\n",
       "      <td>50.00</td>\n",
       "      <td>42.46</td>\n",
       "      <td>52.22</td>\n",
       "    </tr>\n",
       "    <tr>\n",
       "      <th>2021-11</th>\n",
       "      <td>79.17</td>\n",
       "      <td>40.99</td>\n",
       "      <td>37.42</td>\n",
       "      <td>49.84</td>\n",
       "      <td>50.00</td>\n",
       "      <td>43.60</td>\n",
       "      <td>51.47</td>\n",
       "    </tr>\n",
       "    <tr>\n",
       "      <th>2021-12</th>\n",
       "      <td>79.17</td>\n",
       "      <td>43.52</td>\n",
       "      <td>42.92</td>\n",
       "      <td>50.69</td>\n",
       "      <td>51.08</td>\n",
       "      <td>42.73</td>\n",
       "      <td>48.84</td>\n",
       "    </tr>\n",
       "    <tr>\n",
       "      <th>2022-01</th>\n",
       "      <td>79.05</td>\n",
       "      <td>46.90</td>\n",
       "      <td>41.49</td>\n",
       "      <td>53.03</td>\n",
       "      <td>54.69</td>\n",
       "      <td>39.38</td>\n",
       "      <td>46.76</td>\n",
       "    </tr>\n",
       "    <tr>\n",
       "      <th>2022-02</th>\n",
       "      <td>79.17</td>\n",
       "      <td>37.74</td>\n",
       "      <td>38.66</td>\n",
       "      <td>48.97</td>\n",
       "      <td>35.45</td>\n",
       "      <td>32.60</td>\n",
       "      <td>45.19</td>\n",
       "    </tr>\n",
       "    <tr>\n",
       "      <th>2022-03</th>\n",
       "      <td>79.17</td>\n",
       "      <td>23.43</td>\n",
       "      <td>36.68</td>\n",
       "      <td>43.70</td>\n",
       "      <td>14.81</td>\n",
       "      <td>21.89</td>\n",
       "      <td>36.13</td>\n",
       "    </tr>\n",
       "    <tr>\n",
       "      <th>2022-04</th>\n",
       "      <td>78.92</td>\n",
       "      <td>18.82</td>\n",
       "      <td>16.03</td>\n",
       "      <td>36.45</td>\n",
       "      <td>11.11</td>\n",
       "      <td>16.42</td>\n",
       "      <td>29.21</td>\n",
       "    </tr>\n",
       "  </tbody>\n",
       "</table>\n",
       "</div>"
      ],
      "text/plain": [
       "location  China  France  Germany  Italy  Switzerland  United Kingdom  \\\n",
       "date                                                                   \n",
       "2020-01   24.80    1.85     1.65   1.75         0.00            2.57   \n",
       "2020-02   76.99    7.71    10.15  31.17         2.39           11.01   \n",
       "2020-03   79.53   65.74    48.77  80.42        49.37           36.63   \n",
       "2020-04   60.21   87.96    76.85  90.65        72.66           79.63   \n",
       "2020-05   74.68   80.08    63.84  73.68        61.74           74.23   \n",
       "2020-06   78.49   66.20    61.33  67.59        44.51           70.87   \n",
       "2020-07   78.24   48.09    56.79  66.99        39.20           65.38   \n",
       "2020-08   78.24   47.37    57.93  66.61        43.06           67.64   \n",
       "2020-09   60.09   48.40    50.50  65.80        43.06           65.57   \n",
       "2020-10   63.07   50.17    55.21  68.01        33.18           67.89   \n",
       "2020-11   69.48   78.33    62.18  81.79        58.06           68.33   \n",
       "2020-12   79.08   68.91    75.48  80.86        59.20           72.36   \n",
       "2021-01   78.24   63.89    83.51  76.55        60.19           86.89   \n",
       "2021-02   74.07   62.21    82.87  75.92        60.19           87.50   \n",
       "2021-03   52.99   66.88    76.70  79.33        60.19           79.75   \n",
       "2021-04   74.47   74.01    75.00  78.67        56.49           64.51   \n",
       "2021-05   68.44   60.72    74.82  70.55        50.84           61.15   \n",
       "2021-06   74.29   51.35    69.44  70.84        47.53           52.87   \n",
       "2021-07   73.88   41.15    69.44  61.31        44.44           48.28   \n",
       "2021-08   79.17   43.10    55.86  53.79        44.44           43.98   \n",
       "2021-09   77.32   43.42    37.85  57.34        47.78           42.03   \n",
       "2021-10   78.45   41.78    30.34  52.42        50.00           42.46   \n",
       "2021-11   79.17   40.99    37.42  49.84        50.00           43.60   \n",
       "2021-12   79.17   43.52    42.92  50.69        51.08           42.73   \n",
       "2022-01   79.05   46.90    41.49  53.03        54.69           39.38   \n",
       "2022-02   79.17   37.74    38.66  48.97        35.45           32.60   \n",
       "2022-03   79.17   23.43    36.68  43.70        14.81           21.89   \n",
       "2022-04   78.92   18.82    16.03  36.45        11.11           16.42   \n",
       "\n",
       "location  United States  \n",
       "date                     \n",
       "2020-01            0.00  \n",
       "2020-02            7.18  \n",
       "2020-03           45.86  \n",
       "2020-04           72.69  \n",
       "2020-05           72.69  \n",
       "2020-06           70.71  \n",
       "2020-07           68.98  \n",
       "2020-08           68.98  \n",
       "2020-09           67.22  \n",
       "2020-10           66.20  \n",
       "2020-11           71.48  \n",
       "2020-12           71.88  \n",
       "2021-01           71.76  \n",
       "2021-02           68.32  \n",
       "2021-03           62.83  \n",
       "2021-04           54.53  \n",
       "2021-05           57.27  \n",
       "2021-06           56.92  \n",
       "2021-07           49.45  \n",
       "2021-08           51.81  \n",
       "2021-09           52.38  \n",
       "2021-10           52.22  \n",
       "2021-11           51.47  \n",
       "2021-12           48.84  \n",
       "2022-01           46.76  \n",
       "2022-02           45.19  \n",
       "2022-03           36.13  \n",
       "2022-04           29.21  "
      ]
     },
     "execution_count": 25,
     "metadata": {},
     "output_type": "execute_result"
    }
   ],
   "source": [
    "stringency_index = covid_grouped.pivot(index='date', columns='location', values='stringency_index')\n",
    "stringency_index"
   ]
  },
  {
   "cell_type": "code",
   "execution_count": 26,
   "id": "f47ce3ea",
   "metadata": {},
   "outputs": [
    {
     "name": "stdout",
     "output_type": "stream",
     "text": [
      "<class 'pandas.core.frame.DataFrame'>\n",
      "PeriodIndex: 28 entries, 2020-01 to 2022-04\n",
      "Freq: M\n",
      "Data columns (total 7 columns):\n",
      " #   Column          Non-Null Count  Dtype  \n",
      "---  ------          --------------  -----  \n",
      " 0   China           28 non-null     float64\n",
      " 1   France          28 non-null     float64\n",
      " 2   Germany         28 non-null     float64\n",
      " 3   Italy           28 non-null     float64\n",
      " 4   Switzerland     28 non-null     float64\n",
      " 5   United Kingdom  28 non-null     float64\n",
      " 6   United States   28 non-null     float64\n",
      "dtypes: float64(7)\n",
      "memory usage: 1.8 KB\n"
     ]
    }
   ],
   "source": [
    "stringency_index.info()"
   ]
  },
  {
   "cell_type": "code",
   "execution_count": 27,
   "id": "ac0dd69c",
   "metadata": {},
   "outputs": [
    {
     "data": {
      "text/html": [
       "<div>\n",
       "<style scoped>\n",
       "    .dataframe tbody tr th:only-of-type {\n",
       "        vertical-align: middle;\n",
       "    }\n",
       "\n",
       "    .dataframe tbody tr th {\n",
       "        vertical-align: top;\n",
       "    }\n",
       "\n",
       "    .dataframe thead th {\n",
       "        text-align: right;\n",
       "    }\n",
       "</style>\n",
       "<table border=\"1\" class=\"dataframe\">\n",
       "  <thead>\n",
       "    <tr style=\"text-align: right;\">\n",
       "      <th>location</th>\n",
       "      <th>China</th>\n",
       "      <th>France</th>\n",
       "      <th>Germany</th>\n",
       "      <th>Italy</th>\n",
       "      <th>Switzerland</th>\n",
       "      <th>United Kingdom</th>\n",
       "      <th>United States</th>\n",
       "    </tr>\n",
       "  </thead>\n",
       "  <tbody>\n",
       "    <tr>\n",
       "      <th>count</th>\n",
       "      <td>28.000000</td>\n",
       "      <td>28.000000</td>\n",
       "      <td>28.000000</td>\n",
       "      <td>28.000000</td>\n",
       "      <td>28.000000</td>\n",
       "      <td>28.000000</td>\n",
       "      <td>28.000000</td>\n",
       "    </tr>\n",
       "    <tr>\n",
       "      <th>mean</th>\n",
       "      <td>72.459643</td>\n",
       "      <td>50.382857</td>\n",
       "      <td>53.203929</td>\n",
       "      <td>61.954286</td>\n",
       "      <td>44.487857</td>\n",
       "      <td>53.148214</td>\n",
       "      <td>54.248571</td>\n",
       "    </tr>\n",
       "    <tr>\n",
       "      <th>std</th>\n",
       "      <td>11.713352</td>\n",
       "      <td>20.772367</td>\n",
       "      <td>21.804691</td>\n",
       "      <td>18.838850</td>\n",
       "      <td>17.905219</td>\n",
       "      <td>22.852023</td>\n",
       "      <td>18.553560</td>\n",
       "    </tr>\n",
       "    <tr>\n",
       "      <th>min</th>\n",
       "      <td>24.800000</td>\n",
       "      <td>1.850000</td>\n",
       "      <td>1.650000</td>\n",
       "      <td>1.750000</td>\n",
       "      <td>0.000000</td>\n",
       "      <td>2.570000</td>\n",
       "      <td>0.000000</td>\n",
       "    </tr>\n",
       "    <tr>\n",
       "      <th>25%</th>\n",
       "      <td>72.780000</td>\n",
       "      <td>41.622500</td>\n",
       "      <td>38.457500</td>\n",
       "      <td>51.987500</td>\n",
       "      <td>42.095000</td>\n",
       "      <td>41.367500</td>\n",
       "      <td>48.320000</td>\n",
       "    </tr>\n",
       "    <tr>\n",
       "      <th>50%</th>\n",
       "      <td>77.780000</td>\n",
       "      <td>48.245000</td>\n",
       "      <td>56.325000</td>\n",
       "      <td>66.800000</td>\n",
       "      <td>48.575000</td>\n",
       "      <td>57.010000</td>\n",
       "      <td>55.725000</td>\n",
       "    </tr>\n",
       "    <tr>\n",
       "      <th>75%</th>\n",
       "      <td>79.057500</td>\n",
       "      <td>65.855000</td>\n",
       "      <td>70.785000</td>\n",
       "      <td>76.077500</td>\n",
       "      <td>56.882500</td>\n",
       "      <td>68.965000</td>\n",
       "      <td>68.980000</td>\n",
       "    </tr>\n",
       "    <tr>\n",
       "      <th>max</th>\n",
       "      <td>79.530000</td>\n",
       "      <td>87.960000</td>\n",
       "      <td>83.510000</td>\n",
       "      <td>90.650000</td>\n",
       "      <td>72.660000</td>\n",
       "      <td>87.500000</td>\n",
       "      <td>72.690000</td>\n",
       "    </tr>\n",
       "  </tbody>\n",
       "</table>\n",
       "</div>"
      ],
      "text/plain": [
       "location      China     France    Germany      Italy  Switzerland  \\\n",
       "count     28.000000  28.000000  28.000000  28.000000    28.000000   \n",
       "mean      72.459643  50.382857  53.203929  61.954286    44.487857   \n",
       "std       11.713352  20.772367  21.804691  18.838850    17.905219   \n",
       "min       24.800000   1.850000   1.650000   1.750000     0.000000   \n",
       "25%       72.780000  41.622500  38.457500  51.987500    42.095000   \n",
       "50%       77.780000  48.245000  56.325000  66.800000    48.575000   \n",
       "75%       79.057500  65.855000  70.785000  76.077500    56.882500   \n",
       "max       79.530000  87.960000  83.510000  90.650000    72.660000   \n",
       "\n",
       "location  United Kingdom  United States  \n",
       "count          28.000000      28.000000  \n",
       "mean           53.148214      54.248571  \n",
       "std            22.852023      18.553560  \n",
       "min             2.570000       0.000000  \n",
       "25%            41.367500      48.320000  \n",
       "50%            57.010000      55.725000  \n",
       "75%            68.965000      68.980000  \n",
       "max            87.500000      72.690000  "
      ]
     },
     "execution_count": 27,
     "metadata": {},
     "output_type": "execute_result"
    }
   ],
   "source": [
    "stringency_index.describe()"
   ]
  },
  {
   "cell_type": "code",
   "execution_count": 28,
   "id": "7b7e56d7",
   "metadata": {},
   "outputs": [
    {
     "ename": "NameError",
     "evalue": "name 'f' is not defined",
     "output_type": "error",
     "traceback": [
      "\u001b[0;31m---------------------------------------------------------------------------\u001b[0m",
      "\u001b[0;31mNameError\u001b[0m                                 Traceback (most recent call last)",
      "Cell \u001b[0;32mIn[28], line 1\u001b[0m\n\u001b[0;32m----> 1\u001b[0m \u001b[43mf\u001b[49m\u001b[38;5;241m.\u001b[39mmultiple_line_plot(stringency_index, \u001b[38;5;124m'\u001b[39m\u001b[38;5;124mValue of Stringency Index\u001b[39m\u001b[38;5;124m'\u001b[39m, \u001b[38;5;124m'\u001b[39m\u001b[38;5;124mStringency Index by Country\u001b[39m\u001b[38;5;124m'\u001b[39m)\n",
      "\u001b[0;31mNameError\u001b[0m: name 'f' is not defined"
     ]
    }
   ],
   "source": [
    "f.multiple_line_plot(stringency_index, 'Value of Stringency Index', 'Stringency Index by Country')"
   ]
  },
  {
   "cell_type": "code",
   "execution_count": null,
   "id": "a558f3db",
   "metadata": {},
   "outputs": [],
   "source": [
    "#stringency_index.to_csv('./extra data/stringency_index.csv')"
   ]
  },
  {
   "cell_type": "markdown",
   "id": "cd7c2943",
   "metadata": {},
   "source": [
    "# 5. Energy Data"
   ]
  },
  {
   "cell_type": "code",
   "execution_count": 29,
   "id": "638c2b11",
   "metadata": {},
   "outputs": [
    {
     "data": {
      "text/html": [
       "<div>\n",
       "<style scoped>\n",
       "    .dataframe tbody tr th:only-of-type {\n",
       "        vertical-align: middle;\n",
       "    }\n",
       "\n",
       "    .dataframe tbody tr th {\n",
       "        vertical-align: top;\n",
       "    }\n",
       "\n",
       "    .dataframe thead th {\n",
       "        text-align: right;\n",
       "    }\n",
       "</style>\n",
       "<table border=\"1\" class=\"dataframe\">\n",
       "  <thead>\n",
       "    <tr style=\"text-align: right;\">\n",
       "      <th></th>\n",
       "      <th>Area</th>\n",
       "      <th>Country code</th>\n",
       "      <th>Date</th>\n",
       "      <th>Area type</th>\n",
       "      <th>Continent</th>\n",
       "      <th>Ember region</th>\n",
       "      <th>EU</th>\n",
       "      <th>OECD</th>\n",
       "      <th>G20</th>\n",
       "      <th>G7</th>\n",
       "      <th>ASEAN</th>\n",
       "      <th>Category</th>\n",
       "      <th>Subcategory</th>\n",
       "      <th>Variable</th>\n",
       "      <th>Unit</th>\n",
       "      <th>Value</th>\n",
       "      <th>YoY absolute change</th>\n",
       "      <th>YoY % change</th>\n",
       "    </tr>\n",
       "  </thead>\n",
       "  <tbody>\n",
       "    <tr>\n",
       "      <th>0</th>\n",
       "      <td>Argentina</td>\n",
       "      <td>ARG</td>\n",
       "      <td>2018-01-01</td>\n",
       "      <td>Country</td>\n",
       "      <td>South America</td>\n",
       "      <td>Latin America and Caribbean</td>\n",
       "      <td>0.0</td>\n",
       "      <td>0.0</td>\n",
       "      <td>1.0</td>\n",
       "      <td>0.0</td>\n",
       "      <td>0.0</td>\n",
       "      <td>Electricity demand</td>\n",
       "      <td>Demand</td>\n",
       "      <td>Demand</td>\n",
       "      <td>TWh</td>\n",
       "      <td>12.77</td>\n",
       "      <td>NaN</td>\n",
       "      <td>NaN</td>\n",
       "    </tr>\n",
       "    <tr>\n",
       "      <th>1</th>\n",
       "      <td>Argentina</td>\n",
       "      <td>ARG</td>\n",
       "      <td>2018-01-01</td>\n",
       "      <td>Country</td>\n",
       "      <td>South America</td>\n",
       "      <td>Latin America and Caribbean</td>\n",
       "      <td>0.0</td>\n",
       "      <td>0.0</td>\n",
       "      <td>1.0</td>\n",
       "      <td>0.0</td>\n",
       "      <td>0.0</td>\n",
       "      <td>Electricity generation</td>\n",
       "      <td>Aggregate fuel</td>\n",
       "      <td>Clean</td>\n",
       "      <td>%</td>\n",
       "      <td>34.57</td>\n",
       "      <td>NaN</td>\n",
       "      <td>NaN</td>\n",
       "    </tr>\n",
       "    <tr>\n",
       "      <th>2</th>\n",
       "      <td>Argentina</td>\n",
       "      <td>ARG</td>\n",
       "      <td>2018-01-01</td>\n",
       "      <td>Country</td>\n",
       "      <td>South America</td>\n",
       "      <td>Latin America and Caribbean</td>\n",
       "      <td>0.0</td>\n",
       "      <td>0.0</td>\n",
       "      <td>1.0</td>\n",
       "      <td>0.0</td>\n",
       "      <td>0.0</td>\n",
       "      <td>Electricity generation</td>\n",
       "      <td>Aggregate fuel</td>\n",
       "      <td>Fossil</td>\n",
       "      <td>%</td>\n",
       "      <td>65.44</td>\n",
       "      <td>NaN</td>\n",
       "      <td>NaN</td>\n",
       "    </tr>\n",
       "    <tr>\n",
       "      <th>3</th>\n",
       "      <td>Argentina</td>\n",
       "      <td>ARG</td>\n",
       "      <td>2018-01-01</td>\n",
       "      <td>Country</td>\n",
       "      <td>South America</td>\n",
       "      <td>Latin America and Caribbean</td>\n",
       "      <td>0.0</td>\n",
       "      <td>0.0</td>\n",
       "      <td>1.0</td>\n",
       "      <td>0.0</td>\n",
       "      <td>0.0</td>\n",
       "      <td>Electricity generation</td>\n",
       "      <td>Aggregate fuel</td>\n",
       "      <td>Gas and Other Fossil</td>\n",
       "      <td>%</td>\n",
       "      <td>63.40</td>\n",
       "      <td>NaN</td>\n",
       "      <td>NaN</td>\n",
       "    </tr>\n",
       "    <tr>\n",
       "      <th>4</th>\n",
       "      <td>Argentina</td>\n",
       "      <td>ARG</td>\n",
       "      <td>2018-01-01</td>\n",
       "      <td>Country</td>\n",
       "      <td>South America</td>\n",
       "      <td>Latin America and Caribbean</td>\n",
       "      <td>0.0</td>\n",
       "      <td>0.0</td>\n",
       "      <td>1.0</td>\n",
       "      <td>0.0</td>\n",
       "      <td>0.0</td>\n",
       "      <td>Electricity generation</td>\n",
       "      <td>Aggregate fuel</td>\n",
       "      <td>Hydro, Bioenergy and Other Renewables</td>\n",
       "      <td>%</td>\n",
       "      <td>29.08</td>\n",
       "      <td>NaN</td>\n",
       "      <td>NaN</td>\n",
       "    </tr>\n",
       "  </tbody>\n",
       "</table>\n",
       "</div>"
      ],
      "text/plain": [
       "        Area Country code        Date Area type      Continent  \\\n",
       "0  Argentina          ARG  2018-01-01   Country  South America   \n",
       "1  Argentina          ARG  2018-01-01   Country  South America   \n",
       "2  Argentina          ARG  2018-01-01   Country  South America   \n",
       "3  Argentina          ARG  2018-01-01   Country  South America   \n",
       "4  Argentina          ARG  2018-01-01   Country  South America   \n",
       "\n",
       "                  Ember region   EU  OECD  G20   G7  ASEAN  \\\n",
       "0  Latin America and Caribbean  0.0   0.0  1.0  0.0    0.0   \n",
       "1  Latin America and Caribbean  0.0   0.0  1.0  0.0    0.0   \n",
       "2  Latin America and Caribbean  0.0   0.0  1.0  0.0    0.0   \n",
       "3  Latin America and Caribbean  0.0   0.0  1.0  0.0    0.0   \n",
       "4  Latin America and Caribbean  0.0   0.0  1.0  0.0    0.0   \n",
       "\n",
       "                 Category     Subcategory  \\\n",
       "0      Electricity demand          Demand   \n",
       "1  Electricity generation  Aggregate fuel   \n",
       "2  Electricity generation  Aggregate fuel   \n",
       "3  Electricity generation  Aggregate fuel   \n",
       "4  Electricity generation  Aggregate fuel   \n",
       "\n",
       "                                Variable Unit  Value  YoY absolute change  \\\n",
       "0                                 Demand  TWh  12.77                  NaN   \n",
       "1                                  Clean    %  34.57                  NaN   \n",
       "2                                 Fossil    %  65.44                  NaN   \n",
       "3                   Gas and Other Fossil    %  63.40                  NaN   \n",
       "4  Hydro, Bioenergy and Other Renewables    %  29.08                  NaN   \n",
       "\n",
       "   YoY % change  \n",
       "0           NaN  \n",
       "1           NaN  \n",
       "2           NaN  \n",
       "3           NaN  \n",
       "4           NaN  "
      ]
     },
     "execution_count": 29,
     "metadata": {},
     "output_type": "execute_result"
    }
   ],
   "source": [
    "energy = pd.read_csv('extra data/monthly_full_release_long_format-2.csv')\n",
    "energy.head()"
   ]
  },
  {
   "cell_type": "code",
   "execution_count": 30,
   "id": "e097a204",
   "metadata": {},
   "outputs": [],
   "source": [
    "energy = energy[\n",
    "    (energy['Area'].isin(['Germany', 'Italy', 'France', 'China', 'Switzerland', 'United Kingdom', 'United States of America'])) &\n",
    "    (pd.to_datetime(energy['Date']) >= '2018-10-01') & \n",
    "    (pd.to_datetime(energy['Date']) <= '2022-04-30') &\n",
    "    (energy['Variable'].isin(['Clean', 'Fossil'])) &\n",
    "    (energy['Unit'] == 'TWh')\n",
    "]\n",
    "\n",
    "energy = energy.loc[:, ['Area', 'Date', 'Variable', 'Unit', 'Value']]"
   ]
  },
  {
   "cell_type": "code",
   "execution_count": 33,
   "id": "2cfe2a0e",
   "metadata": {},
   "outputs": [],
   "source": [
    "energy['Date'] = pd.to_datetime(energy['Date']).dt.strftime('%Y-%m')"
   ]
  },
  {
   "cell_type": "code",
   "execution_count": 34,
   "id": "d998fc19",
   "metadata": {},
   "outputs": [],
   "source": [
    "clean = energy[energy[\"Variable\"] == \"Clean\"].pivot(index=\"Date\", columns=\"Area\", values=\"Value\")\n",
    "fossil = energy[energy[\"Variable\"] == \"Fossil\"].pivot(index=\"Date\", columns=\"Area\", values=\"Value\")"
   ]
  },
  {
   "cell_type": "markdown",
   "id": "d6187ed4",
   "metadata": {},
   "source": [
    "### Clean"
   ]
  },
  {
   "cell_type": "code",
   "execution_count": 35,
   "id": "414c6cce",
   "metadata": {},
   "outputs": [
    {
     "name": "stdout",
     "output_type": "stream",
     "text": [
      "<class 'pandas.core.frame.DataFrame'>\n",
      "Index: 43 entries, 2018-10 to 2022-04\n",
      "Data columns (total 7 columns):\n",
      " #   Column                    Non-Null Count  Dtype  \n",
      "---  ------                    --------------  -----  \n",
      " 0   China                     43 non-null     float64\n",
      " 1   France                    43 non-null     float64\n",
      " 2   Germany                   43 non-null     float64\n",
      " 3   Italy                     43 non-null     float64\n",
      " 4   Switzerland               43 non-null     float64\n",
      " 5   United Kingdom            43 non-null     float64\n",
      " 6   United States of America  43 non-null     float64\n",
      "dtypes: float64(7)\n",
      "memory usage: 2.7+ KB\n"
     ]
    }
   ],
   "source": [
    "clean.info()"
   ]
  },
  {
   "cell_type": "code",
   "execution_count": 36,
   "id": "4cd6da50",
   "metadata": {},
   "outputs": [
    {
     "data": {
      "text/html": [
       "<div>\n",
       "<style scoped>\n",
       "    .dataframe tbody tr th:only-of-type {\n",
       "        vertical-align: middle;\n",
       "    }\n",
       "\n",
       "    .dataframe tbody tr th {\n",
       "        vertical-align: top;\n",
       "    }\n",
       "\n",
       "    .dataframe thead th {\n",
       "        text-align: right;\n",
       "    }\n",
       "</style>\n",
       "<table border=\"1\" class=\"dataframe\">\n",
       "  <thead>\n",
       "    <tr style=\"text-align: right;\">\n",
       "      <th>Area</th>\n",
       "      <th>China</th>\n",
       "      <th>France</th>\n",
       "      <th>Germany</th>\n",
       "      <th>Italy</th>\n",
       "      <th>Switzerland</th>\n",
       "      <th>United Kingdom</th>\n",
       "      <th>United States of America</th>\n",
       "    </tr>\n",
       "  </thead>\n",
       "  <tbody>\n",
       "    <tr>\n",
       "      <th>count</th>\n",
       "      <td>43.000000</td>\n",
       "      <td>43.000000</td>\n",
       "      <td>43.000000</td>\n",
       "      <td>43.000000</td>\n",
       "      <td>43.000000</td>\n",
       "      <td>43.000000</td>\n",
       "      <td>43.000000</td>\n",
       "    </tr>\n",
       "    <tr>\n",
       "      <th>mean</th>\n",
       "      <td>205.649302</td>\n",
       "      <td>38.790698</td>\n",
       "      <td>24.831163</td>\n",
       "      <td>8.933023</td>\n",
       "      <td>5.292326</td>\n",
       "      <td>12.373256</td>\n",
       "      <td>134.244419</td>\n",
       "    </tr>\n",
       "    <tr>\n",
       "      <th>std</th>\n",
       "      <td>33.761927</td>\n",
       "      <td>5.134162</td>\n",
       "      <td>2.776235</td>\n",
       "      <td>1.278492</td>\n",
       "      <td>0.708022</td>\n",
       "      <td>1.681343</td>\n",
       "      <td>8.694993</td>\n",
       "    </tr>\n",
       "    <tr>\n",
       "      <th>min</th>\n",
       "      <td>142.590000</td>\n",
       "      <td>28.110000</td>\n",
       "      <td>21.080000</td>\n",
       "      <td>7.080000</td>\n",
       "      <td>3.870000</td>\n",
       "      <td>8.950000</td>\n",
       "      <td>113.470000</td>\n",
       "    </tr>\n",
       "    <tr>\n",
       "      <th>25%</th>\n",
       "      <td>184.270000</td>\n",
       "      <td>35.345000</td>\n",
       "      <td>22.955000</td>\n",
       "      <td>8.000000</td>\n",
       "      <td>4.825000</td>\n",
       "      <td>11.025000</td>\n",
       "      <td>129.660000</td>\n",
       "    </tr>\n",
       "    <tr>\n",
       "      <th>50%</th>\n",
       "      <td>200.820000</td>\n",
       "      <td>37.760000</td>\n",
       "      <td>23.770000</td>\n",
       "      <td>8.570000</td>\n",
       "      <td>5.260000</td>\n",
       "      <td>12.430000</td>\n",
       "      <td>134.390000</td>\n",
       "    </tr>\n",
       "    <tr>\n",
       "      <th>75%</th>\n",
       "      <td>237.050000</td>\n",
       "      <td>42.545000</td>\n",
       "      <td>26.445000</td>\n",
       "      <td>9.675000</td>\n",
       "      <td>5.720000</td>\n",
       "      <td>13.325000</td>\n",
       "      <td>139.460000</td>\n",
       "    </tr>\n",
       "    <tr>\n",
       "      <th>max</th>\n",
       "      <td>272.900000</td>\n",
       "      <td>48.260000</td>\n",
       "      <td>32.410000</td>\n",
       "      <td>11.480000</td>\n",
       "      <td>7.390000</td>\n",
       "      <td>15.880000</td>\n",
       "      <td>152.950000</td>\n",
       "    </tr>\n",
       "  </tbody>\n",
       "</table>\n",
       "</div>"
      ],
      "text/plain": [
       "Area        China     France    Germany      Italy  Switzerland  \\\n",
       "count   43.000000  43.000000  43.000000  43.000000    43.000000   \n",
       "mean   205.649302  38.790698  24.831163   8.933023     5.292326   \n",
       "std     33.761927   5.134162   2.776235   1.278492     0.708022   \n",
       "min    142.590000  28.110000  21.080000   7.080000     3.870000   \n",
       "25%    184.270000  35.345000  22.955000   8.000000     4.825000   \n",
       "50%    200.820000  37.760000  23.770000   8.570000     5.260000   \n",
       "75%    237.050000  42.545000  26.445000   9.675000     5.720000   \n",
       "max    272.900000  48.260000  32.410000  11.480000     7.390000   \n",
       "\n",
       "Area   United Kingdom  United States of America  \n",
       "count       43.000000                 43.000000  \n",
       "mean        12.373256                134.244419  \n",
       "std          1.681343                  8.694993  \n",
       "min          8.950000                113.470000  \n",
       "25%         11.025000                129.660000  \n",
       "50%         12.430000                134.390000  \n",
       "75%         13.325000                139.460000  \n",
       "max         15.880000                152.950000  "
      ]
     },
     "execution_count": 36,
     "metadata": {},
     "output_type": "execute_result"
    }
   ],
   "source": [
    "clean.describe()"
   ]
  },
  {
   "cell_type": "code",
   "execution_count": 37,
   "id": "95838198",
   "metadata": {},
   "outputs": [
    {
     "ename": "NameError",
     "evalue": "name 'f' is not defined",
     "output_type": "error",
     "traceback": [
      "\u001b[0;31m---------------------------------------------------------------------------\u001b[0m",
      "\u001b[0;31mNameError\u001b[0m                                 Traceback (most recent call last)",
      "Cell \u001b[0;32mIn[37], line 1\u001b[0m\n\u001b[0;32m----> 1\u001b[0m \u001b[43mf\u001b[49m\u001b[38;5;241m.\u001b[39mmultiple_line_plot(clean, \u001b[38;5;124m'\u001b[39m\u001b[38;5;124mClean Energy Generation (TWh)\u001b[39m\u001b[38;5;124m'\u001b[39m, \u001b[38;5;124m'\u001b[39m\u001b[38;5;124mClean Energy Generation by Country\u001b[39m\u001b[38;5;124m'\u001b[39m)\n",
      "\u001b[0;31mNameError\u001b[0m: name 'f' is not defined"
     ]
    }
   ],
   "source": [
    "f.multiple_line_plot(clean, 'Clean Energy Generation (TWh)', 'Clean Energy Generation by Country')"
   ]
  },
  {
   "cell_type": "markdown",
   "id": "d862b3be",
   "metadata": {},
   "source": [
    "### Fossil"
   ]
  },
  {
   "cell_type": "code",
   "execution_count": 38,
   "id": "179e507f",
   "metadata": {},
   "outputs": [
    {
     "name": "stdout",
     "output_type": "stream",
     "text": [
      "<class 'pandas.core.frame.DataFrame'>\n",
      "Index: 43 entries, 2018-10 to 2022-04\n",
      "Data columns (total 7 columns):\n",
      " #   Column                    Non-Null Count  Dtype  \n",
      "---  ------                    --------------  -----  \n",
      " 0   China                     43 non-null     float64\n",
      " 1   France                    43 non-null     float64\n",
      " 2   Germany                   43 non-null     float64\n",
      " 3   Italy                     43 non-null     float64\n",
      " 4   Switzerland               43 non-null     float64\n",
      " 5   United Kingdom            43 non-null     float64\n",
      " 6   United States of America  43 non-null     float64\n",
      "dtypes: float64(7)\n",
      "memory usage: 2.7+ KB\n"
     ]
    }
   ],
   "source": [
    "fossil.info()"
   ]
  },
  {
   "cell_type": "code",
   "execution_count": 39,
   "id": "a85c978d",
   "metadata": {},
   "outputs": [
    {
     "data": {
      "text/html": [
       "<div>\n",
       "<style scoped>\n",
       "    .dataframe tbody tr th:only-of-type {\n",
       "        vertical-align: middle;\n",
       "    }\n",
       "\n",
       "    .dataframe tbody tr th {\n",
       "        vertical-align: top;\n",
       "    }\n",
       "\n",
       "    .dataframe thead th {\n",
       "        text-align: right;\n",
       "    }\n",
       "</style>\n",
       "<table border=\"1\" class=\"dataframe\">\n",
       "  <thead>\n",
       "    <tr style=\"text-align: right;\">\n",
       "      <th>Area</th>\n",
       "      <th>China</th>\n",
       "      <th>France</th>\n",
       "      <th>Germany</th>\n",
       "      <th>Italy</th>\n",
       "      <th>Switzerland</th>\n",
       "      <th>United Kingdom</th>\n",
       "      <th>United States of America</th>\n",
       "    </tr>\n",
       "  </thead>\n",
       "  <tbody>\n",
       "    <tr>\n",
       "      <th>count</th>\n",
       "      <td>43.000000</td>\n",
       "      <td>43.000000</td>\n",
       "      <td>43.000000</td>\n",
       "      <td>43.000000</td>\n",
       "      <td>43.000000</td>\n",
       "      <td>43.000000</td>\n",
       "      <td>43.000000</td>\n",
       "    </tr>\n",
       "    <tr>\n",
       "      <th>mean</th>\n",
       "      <td>441.087674</td>\n",
       "      <td>3.613953</td>\n",
       "      <td>22.092326</td>\n",
       "      <td>13.150000</td>\n",
       "      <td>0.304884</td>\n",
       "      <td>9.469302</td>\n",
       "      <td>207.438372</td>\n",
       "    </tr>\n",
       "    <tr>\n",
       "      <th>std</th>\n",
       "      <td>45.718431</td>\n",
       "      <td>1.529445</td>\n",
       "      <td>4.049948</td>\n",
       "      <td>1.980089</td>\n",
       "      <td>0.014860</td>\n",
       "      <td>1.769367</td>\n",
       "      <td>33.545170</td>\n",
       "    </tr>\n",
       "    <tr>\n",
       "      <th>min</th>\n",
       "      <td>368.150000</td>\n",
       "      <td>0.740000</td>\n",
       "      <td>13.580000</td>\n",
       "      <td>8.940000</td>\n",
       "      <td>0.280000</td>\n",
       "      <td>5.600000</td>\n",
       "      <td>153.480000</td>\n",
       "    </tr>\n",
       "    <tr>\n",
       "      <th>25%</th>\n",
       "      <td>404.175000</td>\n",
       "      <td>2.465000</td>\n",
       "      <td>19.350000</td>\n",
       "      <td>11.635000</td>\n",
       "      <td>0.300000</td>\n",
       "      <td>8.480000</td>\n",
       "      <td>184.765000</td>\n",
       "    </tr>\n",
       "    <tr>\n",
       "      <th>50%</th>\n",
       "      <td>441.340000</td>\n",
       "      <td>3.390000</td>\n",
       "      <td>21.430000</td>\n",
       "      <td>13.480000</td>\n",
       "      <td>0.300000</td>\n",
       "      <td>9.570000</td>\n",
       "      <td>201.980000</td>\n",
       "    </tr>\n",
       "    <tr>\n",
       "      <th>75%</th>\n",
       "      <td>469.970000</td>\n",
       "      <td>4.740000</td>\n",
       "      <td>25.500000</td>\n",
       "      <td>14.380000</td>\n",
       "      <td>0.320000</td>\n",
       "      <td>10.315000</td>\n",
       "      <td>219.725000</td>\n",
       "    </tr>\n",
       "    <tr>\n",
       "      <th>max</th>\n",
       "      <td>557.020000</td>\n",
       "      <td>6.290000</td>\n",
       "      <td>29.520000</td>\n",
       "      <td>17.370000</td>\n",
       "      <td>0.330000</td>\n",
       "      <td>15.130000</td>\n",
       "      <td>277.840000</td>\n",
       "    </tr>\n",
       "  </tbody>\n",
       "</table>\n",
       "</div>"
      ],
      "text/plain": [
       "Area        China     France    Germany      Italy  Switzerland  \\\n",
       "count   43.000000  43.000000  43.000000  43.000000    43.000000   \n",
       "mean   441.087674   3.613953  22.092326  13.150000     0.304884   \n",
       "std     45.718431   1.529445   4.049948   1.980089     0.014860   \n",
       "min    368.150000   0.740000  13.580000   8.940000     0.280000   \n",
       "25%    404.175000   2.465000  19.350000  11.635000     0.300000   \n",
       "50%    441.340000   3.390000  21.430000  13.480000     0.300000   \n",
       "75%    469.970000   4.740000  25.500000  14.380000     0.320000   \n",
       "max    557.020000   6.290000  29.520000  17.370000     0.330000   \n",
       "\n",
       "Area   United Kingdom  United States of America  \n",
       "count       43.000000                 43.000000  \n",
       "mean         9.469302                207.438372  \n",
       "std          1.769367                 33.545170  \n",
       "min          5.600000                153.480000  \n",
       "25%          8.480000                184.765000  \n",
       "50%          9.570000                201.980000  \n",
       "75%         10.315000                219.725000  \n",
       "max         15.130000                277.840000  "
      ]
     },
     "execution_count": 39,
     "metadata": {},
     "output_type": "execute_result"
    }
   ],
   "source": [
    "fossil.describe()"
   ]
  },
  {
   "cell_type": "code",
   "execution_count": 40,
   "id": "625486d9",
   "metadata": {},
   "outputs": [
    {
     "ename": "NameError",
     "evalue": "name 'f' is not defined",
     "output_type": "error",
     "traceback": [
      "\u001b[0;31m---------------------------------------------------------------------------\u001b[0m",
      "\u001b[0;31mNameError\u001b[0m                                 Traceback (most recent call last)",
      "Cell \u001b[0;32mIn[40], line 1\u001b[0m\n\u001b[0;32m----> 1\u001b[0m \u001b[43mf\u001b[49m\u001b[38;5;241m.\u001b[39mmultiple_line_plot(fossil, \u001b[38;5;124m'\u001b[39m\u001b[38;5;124mFossil Energy Generation (TWh)\u001b[39m\u001b[38;5;124m'\u001b[39m, \u001b[38;5;124m'\u001b[39m\u001b[38;5;124mFossil Energy Generation by Country\u001b[39m\u001b[38;5;124m'\u001b[39m)\n",
      "\u001b[0;31mNameError\u001b[0m: name 'f' is not defined"
     ]
    }
   ],
   "source": [
    "f.multiple_line_plot(fossil, 'Fossil Energy Generation (TWh)', 'Fossil Energy Generation by Country')"
   ]
  },
  {
   "cell_type": "code",
   "execution_count": 41,
   "id": "04654095",
   "metadata": {},
   "outputs": [],
   "source": [
    "clean.to_csv(\"./extra data/clean_energy.csv\")\n",
    "fossil.to_csv(\"./extra data/fossil_energy.csv\")"
   ]
  },
  {
   "cell_type": "markdown",
   "id": "b2d8f877",
   "metadata": {},
   "source": [
    "# 6. Building Construction in Germany"
   ]
  },
  {
   "cell_type": "code",
   "execution_count": 29,
   "id": "5540022f",
   "metadata": {},
   "outputs": [],
   "source": [
    "building = pd.read_excel('extra data/building.xlsx')"
   ]
  },
  {
   "cell_type": "code",
   "execution_count": 30,
   "id": "290fc15a",
   "metadata": {},
   "outputs": [
    {
     "data": {
      "text/html": [
       "<div>\n",
       "<style scoped>\n",
       "    .dataframe tbody tr th:only-of-type {\n",
       "        vertical-align: middle;\n",
       "    }\n",
       "\n",
       "    .dataframe tbody tr th {\n",
       "        vertical-align: top;\n",
       "    }\n",
       "\n",
       "    .dataframe thead th {\n",
       "        text-align: right;\n",
       "    }\n",
       "</style>\n",
       "<table border=\"1\" class=\"dataframe\">\n",
       "  <thead>\n",
       "    <tr style=\"text-align: right;\">\n",
       "      <th></th>\n",
       "      <th>Year</th>\n",
       "      <th>Month</th>\n",
       "      <th>Buildings Number</th>\n",
       "    </tr>\n",
       "  </thead>\n",
       "  <tbody>\n",
       "    <tr>\n",
       "      <th>0</th>\n",
       "      <td>2022</td>\n",
       "      <td>Apr</td>\n",
       "      <td>11728</td>\n",
       "    </tr>\n",
       "    <tr>\n",
       "      <th>1</th>\n",
       "      <td>2022</td>\n",
       "      <td>Mar</td>\n",
       "      <td>13497</td>\n",
       "    </tr>\n",
       "    <tr>\n",
       "      <th>2</th>\n",
       "      <td>2022</td>\n",
       "      <td>Feb</td>\n",
       "      <td>11613</td>\n",
       "    </tr>\n",
       "    <tr>\n",
       "      <th>3</th>\n",
       "      <td>2022</td>\n",
       "      <td>Jan</td>\n",
       "      <td>11404</td>\n",
       "    </tr>\n",
       "    <tr>\n",
       "      <th>4</th>\n",
       "      <td>2021</td>\n",
       "      <td>Dec</td>\n",
       "      <td>13730</td>\n",
       "    </tr>\n",
       "  </tbody>\n",
       "</table>\n",
       "</div>"
      ],
      "text/plain": [
       "   Year Month  Buildings Number\n",
       "0  2022   Apr             11728\n",
       "1  2022   Mar             13497\n",
       "2  2022   Feb             11613\n",
       "3  2022   Jan             11404\n",
       "4  2021   Dec             13730"
      ]
     },
     "execution_count": 30,
     "metadata": {},
     "output_type": "execute_result"
    }
   ],
   "source": [
    "building.head()"
   ]
  },
  {
   "cell_type": "code",
   "execution_count": 31,
   "id": "cb572075",
   "metadata": {},
   "outputs": [],
   "source": [
    "building['date'] = pd.to_datetime(\n",
    "    building['Year'].astype(str) + '-' + building['Month'], format='%Y-%b')\n",
    "building.drop(['Year', 'Month'], axis=1, inplace=True)\n",
    "building.sort_values(by='date', ascending=True, inplace=True)\n",
    "building.set_index('date', inplace=True)\n",
    "building = building.loc[:, ['Buildings Number']]"
   ]
  },
  {
   "cell_type": "code",
   "execution_count": 32,
   "id": "08c5f546",
   "metadata": {},
   "outputs": [
    {
     "data": {
      "text/html": [
       "<div>\n",
       "<style scoped>\n",
       "    .dataframe tbody tr th:only-of-type {\n",
       "        vertical-align: middle;\n",
       "    }\n",
       "\n",
       "    .dataframe tbody tr th {\n",
       "        vertical-align: top;\n",
       "    }\n",
       "\n",
       "    .dataframe thead th {\n",
       "        text-align: right;\n",
       "    }\n",
       "</style>\n",
       "<table border=\"1\" class=\"dataframe\">\n",
       "  <thead>\n",
       "    <tr style=\"text-align: right;\">\n",
       "      <th></th>\n",
       "      <th>Buildings Number</th>\n",
       "    </tr>\n",
       "    <tr>\n",
       "      <th>date</th>\n",
       "      <th></th>\n",
       "    </tr>\n",
       "  </thead>\n",
       "  <tbody>\n",
       "    <tr>\n",
       "      <th>2018-10-01</th>\n",
       "      <td>11738</td>\n",
       "    </tr>\n",
       "    <tr>\n",
       "      <th>2018-11-01</th>\n",
       "      <td>11177</td>\n",
       "    </tr>\n",
       "    <tr>\n",
       "      <th>2018-12-01</th>\n",
       "      <td>11919</td>\n",
       "    </tr>\n",
       "    <tr>\n",
       "      <th>2019-01-01</th>\n",
       "      <td>11089</td>\n",
       "    </tr>\n",
       "    <tr>\n",
       "      <th>2019-02-01</th>\n",
       "      <td>10465</td>\n",
       "    </tr>\n",
       "  </tbody>\n",
       "</table>\n",
       "</div>"
      ],
      "text/plain": [
       "            Buildings Number\n",
       "date                        \n",
       "2018-10-01             11738\n",
       "2018-11-01             11177\n",
       "2018-12-01             11919\n",
       "2019-01-01             11089\n",
       "2019-02-01             10465"
      ]
     },
     "execution_count": 32,
     "metadata": {},
     "output_type": "execute_result"
    }
   ],
   "source": [
    "building.head()"
   ]
  },
  {
   "cell_type": "code",
   "execution_count": 33,
   "id": "c0316c45",
   "metadata": {},
   "outputs": [
    {
     "name": "stdout",
     "output_type": "stream",
     "text": [
      "<class 'pandas.core.frame.DataFrame'>\n",
      "DatetimeIndex: 43 entries, 2018-10-01 to 2022-04-01\n",
      "Data columns (total 1 columns):\n",
      " #   Column            Non-Null Count  Dtype\n",
      "---  ------            --------------  -----\n",
      " 0   Buildings Number  43 non-null     int64\n",
      "dtypes: int64(1)\n",
      "memory usage: 688.0 bytes\n"
     ]
    }
   ],
   "source": [
    "building.info()"
   ]
  },
  {
   "cell_type": "code",
   "execution_count": 34,
   "id": "d87c768f",
   "metadata": {},
   "outputs": [
    {
     "data": {
      "text/html": [
       "<div>\n",
       "<style scoped>\n",
       "    .dataframe tbody tr th:only-of-type {\n",
       "        vertical-align: middle;\n",
       "    }\n",
       "\n",
       "    .dataframe tbody tr th {\n",
       "        vertical-align: top;\n",
       "    }\n",
       "\n",
       "    .dataframe thead th {\n",
       "        text-align: right;\n",
       "    }\n",
       "</style>\n",
       "<table border=\"1\" class=\"dataframe\">\n",
       "  <thead>\n",
       "    <tr style=\"text-align: right;\">\n",
       "      <th></th>\n",
       "      <th>Buildings Number</th>\n",
       "    </tr>\n",
       "  </thead>\n",
       "  <tbody>\n",
       "    <tr>\n",
       "      <th>count</th>\n",
       "      <td>43.000000</td>\n",
       "    </tr>\n",
       "    <tr>\n",
       "      <th>mean</th>\n",
       "      <td>12547.395349</td>\n",
       "    </tr>\n",
       "    <tr>\n",
       "      <th>std</th>\n",
       "      <td>1307.963687</td>\n",
       "    </tr>\n",
       "    <tr>\n",
       "      <th>min</th>\n",
       "      <td>10465.000000</td>\n",
       "    </tr>\n",
       "    <tr>\n",
       "      <th>25%</th>\n",
       "      <td>11782.000000</td>\n",
       "    </tr>\n",
       "    <tr>\n",
       "      <th>50%</th>\n",
       "      <td>12380.000000</td>\n",
       "    </tr>\n",
       "    <tr>\n",
       "      <th>75%</th>\n",
       "      <td>13227.000000</td>\n",
       "    </tr>\n",
       "    <tr>\n",
       "      <th>max</th>\n",
       "      <td>18693.000000</td>\n",
       "    </tr>\n",
       "  </tbody>\n",
       "</table>\n",
       "</div>"
      ],
      "text/plain": [
       "       Buildings Number\n",
       "count         43.000000\n",
       "mean       12547.395349\n",
       "std         1307.963687\n",
       "min        10465.000000\n",
       "25%        11782.000000\n",
       "50%        12380.000000\n",
       "75%        13227.000000\n",
       "max        18693.000000"
      ]
     },
     "execution_count": 34,
     "metadata": {},
     "output_type": "execute_result"
    }
   ],
   "source": [
    "building.describe()"
   ]
  },
  {
   "cell_type": "code",
   "execution_count": null,
   "id": "a08e04ff",
   "metadata": {},
   "outputs": [
    {
     "data": {
      "image/png": "[encoded data removed]",
      "text/plain": [
       "<Figure size 1200x600 with 1 Axes>"
      ]
     },
     "metadata": {},
     "output_type": "display_data"
    }
   ],
   "source": [
    "f.multiple_line_plot(building, 'Number of Buildings Construction/Renovation', 'Buildings Construction/Renovation by Country')"
   ]
  },
  {
   "cell_type": "code",
   "execution_count": null,
   "id": "7d3b56f7",
   "metadata": {},
   "outputs": [],
   "source": [
    "#building.to_csv(\"./extra data/buildings_data.csv\")"
   ]
  }
 ],
 "metadata": {
  "kernelspec": {
   "display_name": "Python 3 (ipykernel)",
   "language": "python",
   "name": "python3"
  },
  "language_info": {
   "codemirror_mode": {
    "name": "ipython",
    "version": 3
   },
   "file_extension": ".py",
   "mimetype": "text/x-python",
   "name": "python",
   "nbconvert_exporter": "python",
   "pygments_lexer": "ipython3",
   "version": "3.13.2"
  }
 },
 "nbformat": 4,
 "nbformat_minor": 5
}
