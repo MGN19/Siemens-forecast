{
 "cells": [
  {
   "cell_type": "code",
   "execution_count": 1,
   "metadata": {},
   "outputs": [],
   "source": [
    "import os\n",
    "import pandas as pd\n",
    "\n",
    "pd.set_option('display.max_columns', None)\n",
    "\n",
    "# Suppress Warnings\n",
    "import warnings\n",
    "warnings.filterwarnings(\"ignore\")\n",
    "\n",
    "import fs_modelling as fs\n",
    "from prophet import Prophet\n",
    "\n",
    "import plotly.express as px"
   ]
  },
  {
   "cell_type": "markdown",
   "metadata": {},
   "source": [
    "**Data**"
   ]
  },
  {
   "cell_type": "code",
   "execution_count": 2,
   "metadata": {},
   "outputs": [],
   "source": [
    "X_train = pd.read_csv('./data/X_train_data/X_train.csv', index_col = 'Unnamed: 0')\n",
    "X_val = pd.read_csv('./data/X_val_data/X_val.csv', index_col = 'Unnamed: 0')\n",
    "\n",
    "def import_all_csvs_as_vars(folder):\n",
    "    for file in os.listdir(folder):\n",
    "        if file.endswith('.csv'):\n",
    "            df_name = file.replace('.csv', '')\n",
    "            df = pd.read_csv(os.path.join(folder, file), index_col = 'Unnamed: 0')\n",
    "            globals()[df_name] = df\n",
    "            # print(f\"Loaded {df_name}\")\n",
    "\n",
    "# Import each CSV file as individual DataFrames\n",
    "import_all_csvs_as_vars('data/y_train_data')\n",
    "import_all_csvs_as_vars('data/y_val_data')"
   ]
  },
  {
   "cell_type": "code",
   "execution_count": 3,
   "metadata": {},
   "outputs": [
    {
     "data": {
      "text/html": [
       "<div>\n",
       "<style scoped>\n",
       "    .dataframe tbody tr th:only-of-type {\n",
       "        vertical-align: middle;\n",
       "    }\n",
       "\n",
       "    .dataframe tbody tr th {\n",
       "        vertical-align: top;\n",
       "    }\n",
       "\n",
       "    .dataframe thead th {\n",
       "        text-align: right;\n",
       "    }\n",
       "</style>\n",
       "<table border=\"1\" class=\"dataframe\">\n",
       "  <thead>\n",
       "    <tr style=\"text-align: right;\">\n",
       "      <th></th>\n",
       "      <th>CHI Production Index</th>\n",
       "      <th>CHI Shipments Index</th>\n",
       "      <th>FRA Production Index</th>\n",
       "      <th>FRA Shipments Index</th>\n",
       "      <th>GER Production Index</th>\n",
       "      <th>GER Shipments Index</th>\n",
       "      <th>ITA Production Index</th>\n",
       "      <th>ITA Shipments Index</th>\n",
       "      <th>JAP Production Index</th>\n",
       "      <th>JAP Shipments Index</th>\n",
       "      <th>SWI Production Index</th>\n",
       "      <th>SWI Shipments Index</th>\n",
       "      <th>UK Production Index</th>\n",
       "      <th>UK Shipments Index</th>\n",
       "      <th>USA Production Index</th>\n",
       "      <th>USA Shipments Index</th>\n",
       "      <th>Europe Production Index</th>\n",
       "      <th>Europe Shipments Index</th>\n",
       "      <th>(W) Price of Base Metals</th>\n",
       "      <th>(W) Price of Energy</th>\n",
       "      <th>(W) Price of Metals &amp; Minerals</th>\n",
       "      <th>(W) Price of Natural gas index</th>\n",
       "      <th>(W) Price of Crude oil, average</th>\n",
       "      <th>(W) Price of Copper</th>\n",
       "      <th>USA EUR to LCU Conversion Rate</th>\n",
       "      <th>USA EE Producer Prices</th>\n",
       "      <th>UK EE Producer Prices</th>\n",
       "      <th>ITA EE Producer Prices</th>\n",
       "      <th>FRA EE Producer Prices</th>\n",
       "      <th>GER EE Producer Prices</th>\n",
       "      <th>CHI EE Producer Prices</th>\n",
       "      <th>USA Machinery &amp; Equipment Index</th>\n",
       "      <th>(W) Machinery &amp; Equipment Index</th>\n",
       "      <th>SWI Machinery &amp; Equipment Index</th>\n",
       "      <th>UK Machinery &amp; Equipment Index</th>\n",
       "      <th>ITA Machinery &amp; Equipment Index</th>\n",
       "      <th>JAP Machinery &amp; Equipment Index</th>\n",
       "      <th>FRA Machinery &amp; Equipment Index</th>\n",
       "      <th>GER Machinery &amp; Equipment Index</th>\n",
       "      <th>USA EE Production Index</th>\n",
       "      <th>(W) EE Production Index</th>\n",
       "      <th>SWI EE Production Index</th>\n",
       "      <th>UK EE Production Index</th>\n",
       "      <th>ITA EE Production Index</th>\n",
       "      <th>JAP EE Production Index</th>\n",
       "      <th>FRA EE Production Index</th>\n",
       "      <th>GER EE Production Index</th>\n",
       "      <th>CC_CHI</th>\n",
       "      <th>CC_FRA</th>\n",
       "      <th>CC_GER</th>\n",
       "      <th>CC_ITA</th>\n",
       "      <th>CC_JAP</th>\n",
       "      <th>CC_Europe</th>\n",
       "      <th>CC_SWI</th>\n",
       "      <th>CC_UK</th>\n",
       "      <th>CC_USA</th>\n",
       "      <th>BC_CHI</th>\n",
       "      <th>BC_FRA</th>\n",
       "      <th>BC_GER</th>\n",
       "      <th>BC_ITA</th>\n",
       "      <th>BC_JAP</th>\n",
       "      <th>BC_Europe</th>\n",
       "      <th>BC_SWI</th>\n",
       "      <th>BC_UK</th>\n",
       "      <th>BC_USA</th>\n",
       "      <th>stock_price</th>\n",
       "      <th>stock_price_change</th>\n",
       "      <th>stock_volume</th>\n",
       "      <th>Covid_Chi</th>\n",
       "      <th>Covid_Fra</th>\n",
       "      <th>Covid_Ger</th>\n",
       "      <th>Covid_Ita</th>\n",
       "      <th>Covid_Swi</th>\n",
       "      <th>Covid_UK</th>\n",
       "      <th>Covid_US</th>\n",
       "      <th>Clean_Chi</th>\n",
       "      <th>Clean_Fra</th>\n",
       "      <th>Clean_Ger</th>\n",
       "      <th>Clean_Ita</th>\n",
       "      <th>Clean_Swi</th>\n",
       "      <th>Clean_UK</th>\n",
       "      <th>Clean_US</th>\n",
       "      <th>Fossil_Chi</th>\n",
       "      <th>Fossil_Fra</th>\n",
       "      <th>Fossil_Ger</th>\n",
       "      <th>Fossil_Ita</th>\n",
       "      <th>Fossil_Swi</th>\n",
       "      <th>Fossil_UK</th>\n",
       "      <th>Fossil_US</th>\n",
       "      <th>Buildings_Ger</th>\n",
       "      <th>Year</th>\n",
       "      <th>Month</th>\n",
       "      <th>Semester</th>\n",
       "      <th>sin_Semester</th>\n",
       "      <th>cos_Semester</th>\n",
       "      <th>Quarter</th>\n",
       "      <th>sin_Quarter</th>\n",
       "      <th>cos_Quarter</th>\n",
       "      <th>sin_month</th>\n",
       "      <th>cos_month</th>\n",
       "      <th>WeekendDaysCount</th>\n",
       "      <th>TotalDaysInMonth</th>\n",
       "      <th>WeekendDaysPercentage</th>\n",
       "      <th>SundayCount</th>\n",
       "      <th>GerHolidayCount</th>\n",
       "    </tr>\n",
       "  </thead>\n",
       "  <tbody>\n",
       "    <tr>\n",
       "      <th>2018-10-01</th>\n",
       "      <td>211.955755</td>\n",
       "      <td>211.955755</td>\n",
       "      <td>108.280608</td>\n",
       "      <td>122.451734</td>\n",
       "      <td>124.227879</td>\n",
       "      <td>137.741953</td>\n",
       "      <td>118.350514</td>\n",
       "      <td>122.456894</td>\n",
       "      <td>125.209957</td>\n",
       "      <td>124.793250</td>\n",
       "      <td>109.077781</td>\n",
       "      <td>104.594781</td>\n",
       "      <td>113.659322</td>\n",
       "      <td>112.318030</td>\n",
       "      <td>111.902540</td>\n",
       "      <td>127.808839</td>\n",
       "      <td>124.391967</td>\n",
       "      <td>130.989253</td>\n",
       "      <td>86.102586</td>\n",
       "      <td>100.222169</td>\n",
       "      <td>79.354986</td>\n",
       "      <td>89.570796</td>\n",
       "      <td>97.072264</td>\n",
       "      <td>82.545082</td>\n",
       "      <td>1.1484</td>\n",
       "      <td>110.700409</td>\n",
       "      <td>111.463669</td>\n",
       "      <td>105.297836</td>\n",
       "      <td>102.064743</td>\n",
       "      <td>109.119614</td>\n",
       "      <td>96.318329</td>\n",
       "      <td>111.422638</td>\n",
       "      <td>131.340118</td>\n",
       "      <td>106.816937</td>\n",
       "      <td>110.893450</td>\n",
       "      <td>129.389221</td>\n",
       "      <td>131.503786</td>\n",
       "      <td>114.720810</td>\n",
       "      <td>127.461136</td>\n",
       "      <td>112.853256</td>\n",
       "      <td>129.325775</td>\n",
       "      <td>112.970843</td>\n",
       "      <td>118.670791</td>\n",
       "      <td>93.001511</td>\n",
       "      <td>112.376774</td>\n",
       "      <td>97.849541</td>\n",
       "      <td>118.298233</td>\n",
       "      <td>102.8056</td>\n",
       "      <td>98.94864</td>\n",
       "      <td>101.5778</td>\n",
       "      <td>101.7588</td>\n",
       "      <td>100.38490</td>\n",
       "      <td>100.7815</td>\n",
       "      <td>100.31800</td>\n",
       "      <td>100.69820</td>\n",
       "      <td>101.5022</td>\n",
       "      <td>98.79642</td>\n",
       "      <td>101.0451</td>\n",
       "      <td>101.7476</td>\n",
       "      <td>100.9696</td>\n",
       "      <td>101.5259</td>\n",
       "      <td>100.9295</td>\n",
       "      <td>102.0386</td>\n",
       "      <td>102.0568</td>\n",
       "      <td>101.2177</td>\n",
       "      <td>91.70</td>\n",
       "      <td>-7.81</td>\n",
       "      <td>61460000.0</td>\n",
       "      <td>0.0</td>\n",
       "      <td>0.0</td>\n",
       "      <td>0.0</td>\n",
       "      <td>0.0</td>\n",
       "      <td>0.0</td>\n",
       "      <td>0.0</td>\n",
       "      <td>0.0</td>\n",
       "      <td>190.49</td>\n",
       "      <td>37.32</td>\n",
       "      <td>24.59</td>\n",
       "      <td>7.42</td>\n",
       "      <td>4.27</td>\n",
       "      <td>12.65</td>\n",
       "      <td>113.47</td>\n",
       "      <td>368.15</td>\n",
       "      <td>3.84</td>\n",
       "      <td>26.43</td>\n",
       "      <td>14.74</td>\n",
       "      <td>0.30</td>\n",
       "      <td>10.65</td>\n",
       "      <td>213.52</td>\n",
       "      <td>11738.0</td>\n",
       "      <td>2018</td>\n",
       "      <td>10</td>\n",
       "      <td>2</td>\n",
       "      <td>-2.449294e-16</td>\n",
       "      <td>1.0</td>\n",
       "      <td>4</td>\n",
       "      <td>-2.449294e-16</td>\n",
       "      <td>1.000000e+00</td>\n",
       "      <td>-8.660254e-01</td>\n",
       "      <td>0.500000</td>\n",
       "      <td>8</td>\n",
       "      <td>31</td>\n",
       "      <td>25.806452</td>\n",
       "      <td>4</td>\n",
       "      <td>1</td>\n",
       "    </tr>\n",
       "    <tr>\n",
       "      <th>2018-11-01</th>\n",
       "      <td>220.519655</td>\n",
       "      <td>220.519655</td>\n",
       "      <td>99.636911</td>\n",
       "      <td>115.958210</td>\n",
       "      <td>127.404132</td>\n",
       "      <td>142.732193</td>\n",
       "      <td>107.719260</td>\n",
       "      <td>120.132032</td>\n",
       "      <td>122.624695</td>\n",
       "      <td>123.289888</td>\n",
       "      <td>112.241491</td>\n",
       "      <td>107.656238</td>\n",
       "      <td>115.088417</td>\n",
       "      <td>112.801011</td>\n",
       "      <td>110.880401</td>\n",
       "      <td>117.675874</td>\n",
       "      <td>123.070091</td>\n",
       "      <td>132.934130</td>\n",
       "      <td>83.841374</td>\n",
       "      <td>84.436807</td>\n",
       "      <td>77.500875</td>\n",
       "      <td>97.362468</td>\n",
       "      <td>78.841167</td>\n",
       "      <td>82.230939</td>\n",
       "      <td>1.1367</td>\n",
       "      <td>110.994026</td>\n",
       "      <td>111.668373</td>\n",
       "      <td>105.297836</td>\n",
       "      <td>102.064743</td>\n",
       "      <td>109.224838</td>\n",
       "      <td>95.370118</td>\n",
       "      <td>109.737129</td>\n",
       "      <td>129.976456</td>\n",
       "      <td>110.792831</td>\n",
       "      <td>112.119922</td>\n",
       "      <td>117.990173</td>\n",
       "      <td>127.880755</td>\n",
       "      <td>104.873100</td>\n",
       "      <td>132.987915</td>\n",
       "      <td>113.145294</td>\n",
       "      <td>128.236176</td>\n",
       "      <td>114.736013</td>\n",
       "      <td>120.467019</td>\n",
       "      <td>84.133400</td>\n",
       "      <td>111.907535</td>\n",
       "      <td>91.155960</td>\n",
       "      <td>117.163727</td>\n",
       "      <td>103.2386</td>\n",
       "      <td>98.71818</td>\n",
       "      <td>101.5438</td>\n",
       "      <td>101.6450</td>\n",
       "      <td>100.28500</td>\n",
       "      <td>100.6595</td>\n",
       "      <td>100.30690</td>\n",
       "      <td>100.43900</td>\n",
       "      <td>101.3958</td>\n",
       "      <td>98.45412</td>\n",
       "      <td>100.9598</td>\n",
       "      <td>101.5859</td>\n",
       "      <td>100.8509</td>\n",
       "      <td>101.5088</td>\n",
       "      <td>100.9174</td>\n",
       "      <td>101.8399</td>\n",
       "      <td>102.2486</td>\n",
       "      <td>101.0049</td>\n",
       "      <td>92.31</td>\n",
       "      <td>0.67</td>\n",
       "      <td>48250000.0</td>\n",
       "      <td>0.0</td>\n",
       "      <td>0.0</td>\n",
       "      <td>0.0</td>\n",
       "      <td>0.0</td>\n",
       "      <td>0.0</td>\n",
       "      <td>0.0</td>\n",
       "      <td>0.0</td>\n",
       "      <td>167.99</td>\n",
       "      <td>39.31</td>\n",
       "      <td>22.61</td>\n",
       "      <td>8.20</td>\n",
       "      <td>4.98</td>\n",
       "      <td>13.11</td>\n",
       "      <td>119.73</td>\n",
       "      <td>406.89</td>\n",
       "      <td>5.48</td>\n",
       "      <td>29.52</td>\n",
       "      <td>14.79</td>\n",
       "      <td>0.31</td>\n",
       "      <td>11.74</td>\n",
       "      <td>204.12</td>\n",
       "      <td>11177.0</td>\n",
       "      <td>2018</td>\n",
       "      <td>11</td>\n",
       "      <td>2</td>\n",
       "      <td>-2.449294e-16</td>\n",
       "      <td>1.0</td>\n",
       "      <td>4</td>\n",
       "      <td>-2.449294e-16</td>\n",
       "      <td>1.000000e+00</td>\n",
       "      <td>-5.000000e-01</td>\n",
       "      <td>0.866025</td>\n",
       "      <td>8</td>\n",
       "      <td>30</td>\n",
       "      <td>26.666667</td>\n",
       "      <td>4</td>\n",
       "      <td>0</td>\n",
       "    </tr>\n",
       "    <tr>\n",
       "      <th>2018-12-01</th>\n",
       "      <td>241.846854</td>\n",
       "      <td>241.846854</td>\n",
       "      <td>94.690312</td>\n",
       "      <td>115.128469</td>\n",
       "      <td>120.518565</td>\n",
       "      <td>141.407661</td>\n",
       "      <td>88.783181</td>\n",
       "      <td>131.936099</td>\n",
       "      <td>122.991956</td>\n",
       "      <td>124.508413</td>\n",
       "      <td>115.405201</td>\n",
       "      <td>110.717696</td>\n",
       "      <td>101.556108</td>\n",
       "      <td>94.503733</td>\n",
       "      <td>106.257796</td>\n",
       "      <td>123.280134</td>\n",
       "      <td>113.858005</td>\n",
       "      <td>131.261348</td>\n",
       "      <td>82.733389</td>\n",
       "      <td>74.898746</td>\n",
       "      <td>76.071705</td>\n",
       "      <td>94.406578</td>\n",
       "      <td>68.268564</td>\n",
       "      <td>80.630361</td>\n",
       "      <td>1.1384</td>\n",
       "      <td>111.162231</td>\n",
       "      <td>112.794266</td>\n",
       "      <td>105.297836</td>\n",
       "      <td>102.166710</td>\n",
       "      <td>109.330063</td>\n",
       "      <td>94.994885</td>\n",
       "      <td>103.448280</td>\n",
       "      <td>124.202469</td>\n",
       "      <td>114.768725</td>\n",
       "      <td>99.446384</td>\n",
       "      <td>99.191734</td>\n",
       "      <td>128.125679</td>\n",
       "      <td>104.974617</td>\n",
       "      <td>137.363281</td>\n",
       "      <td>111.823624</td>\n",
       "      <td>117.043549</td>\n",
       "      <td>116.501182</td>\n",
       "      <td>105.378705</td>\n",
       "      <td>64.881248</td>\n",
       "      <td>112.524242</td>\n",
       "      <td>78.033028</td>\n",
       "      <td>89.626122</td>\n",
       "      <td>103.6305</td>\n",
       "      <td>98.62968</td>\n",
       "      <td>101.5190</td>\n",
       "      <td>101.4642</td>\n",
       "      <td>100.17410</td>\n",
       "      <td>100.5454</td>\n",
       "      <td>100.17240</td>\n",
       "      <td>100.13600</td>\n",
       "      <td>101.2298</td>\n",
       "      <td>98.18901</td>\n",
       "      <td>100.8520</td>\n",
       "      <td>101.3715</td>\n",
       "      <td>100.7023</td>\n",
       "      <td>101.4458</td>\n",
       "      <td>100.8464</td>\n",
       "      <td>101.6098</td>\n",
       "      <td>102.3394</td>\n",
       "      <td>100.6920</td>\n",
       "      <td>87.78</td>\n",
       "      <td>-4.90</td>\n",
       "      <td>48710000.0</td>\n",
       "      <td>0.0</td>\n",
       "      <td>0.0</td>\n",
       "      <td>0.0</td>\n",
       "      <td>0.0</td>\n",
       "      <td>0.0</td>\n",
       "      <td>0.0</td>\n",
       "      <td>0.0</td>\n",
       "      <td>161.51</td>\n",
       "      <td>47.36</td>\n",
       "      <td>27.80</td>\n",
       "      <td>7.87</td>\n",
       "      <td>5.26</td>\n",
       "      <td>13.08</td>\n",
       "      <td>130.01</td>\n",
       "      <td>479.90</td>\n",
       "      <td>4.54</td>\n",
       "      <td>25.10</td>\n",
       "      <td>15.39</td>\n",
       "      <td>0.32</td>\n",
       "      <td>11.93</td>\n",
       "      <td>213.35</td>\n",
       "      <td>11919.0</td>\n",
       "      <td>2018</td>\n",
       "      <td>12</td>\n",
       "      <td>2</td>\n",
       "      <td>-2.449294e-16</td>\n",
       "      <td>1.0</td>\n",
       "      <td>4</td>\n",
       "      <td>-2.449294e-16</td>\n",
       "      <td>1.000000e+00</td>\n",
       "      <td>-2.449294e-16</td>\n",
       "      <td>1.000000</td>\n",
       "      <td>10</td>\n",
       "      <td>31</td>\n",
       "      <td>32.258065</td>\n",
       "      <td>5</td>\n",
       "      <td>2</td>\n",
       "    </tr>\n",
       "    <tr>\n",
       "      <th>2019-01-01</th>\n",
       "      <td>175.668147</td>\n",
       "      <td>175.668147</td>\n",
       "      <td>90.143775</td>\n",
       "      <td>108.325154</td>\n",
       "      <td>104.776326</td>\n",
       "      <td>118.703828</td>\n",
       "      <td>99.275113</td>\n",
       "      <td>92.418842</td>\n",
       "      <td>105.514024</td>\n",
       "      <td>106.303946</td>\n",
       "      <td>109.621788</td>\n",
       "      <td>105.164427</td>\n",
       "      <td>101.799754</td>\n",
       "      <td>99.659210</td>\n",
       "      <td>107.510808</td>\n",
       "      <td>111.043755</td>\n",
       "      <td>106.418002</td>\n",
       "      <td>113.057565</td>\n",
       "      <td>81.251093</td>\n",
       "      <td>76.204771</td>\n",
       "      <td>75.774153</td>\n",
       "      <td>80.055366</td>\n",
       "      <td>71.587526</td>\n",
       "      <td>78.822478</td>\n",
       "      <td>1.1416</td>\n",
       "      <td>111.386055</td>\n",
       "      <td>112.077789</td>\n",
       "      <td>105.505936</td>\n",
       "      <td>102.778488</td>\n",
       "      <td>109.750961</td>\n",
       "      <td>94.950134</td>\n",
       "      <td>106.506844</td>\n",
       "      <td>112.175400</td>\n",
       "      <td>109.196212</td>\n",
       "      <td>98.833149</td>\n",
       "      <td>106.991089</td>\n",
       "      <td>110.200941</td>\n",
       "      <td>95.228432</td>\n",
       "      <td>104.432930</td>\n",
       "      <td>109.499725</td>\n",
       "      <td>111.522202</td>\n",
       "      <td>110.354610</td>\n",
       "      <td>107.174933</td>\n",
       "      <td>81.556343</td>\n",
       "      <td>95.957352</td>\n",
       "      <td>81.908257</td>\n",
       "      <td>105.406097</td>\n",
       "      <td>103.9405</td>\n",
       "      <td>98.97886</td>\n",
       "      <td>101.5336</td>\n",
       "      <td>101.2748</td>\n",
       "      <td>100.02720</td>\n",
       "      <td>100.5180</td>\n",
       "      <td>99.97832</td>\n",
       "      <td>99.85248</td>\n",
       "      <td>101.0311</td>\n",
       "      <td>98.12537</td>\n",
       "      <td>100.7477</td>\n",
       "      <td>101.1380</td>\n",
       "      <td>100.5383</td>\n",
       "      <td>101.3079</td>\n",
       "      <td>100.6773</td>\n",
       "      <td>101.4533</td>\n",
       "      <td>101.9919</td>\n",
       "      <td>100.5415</td>\n",
       "      <td>86.34</td>\n",
       "      <td>-1.64</td>\n",
       "      <td>52630000.0</td>\n",
       "      <td>0.0</td>\n",
       "      <td>0.0</td>\n",
       "      <td>0.0</td>\n",
       "      <td>0.0</td>\n",
       "      <td>0.0</td>\n",
       "      <td>0.0</td>\n",
       "      <td>0.0</td>\n",
       "      <td>148.69</td>\n",
       "      <td>48.01</td>\n",
       "      <td>27.61</td>\n",
       "      <td>7.90</td>\n",
       "      <td>5.56</td>\n",
       "      <td>12.01</td>\n",
       "      <td>134.69</td>\n",
       "      <td>419.34</td>\n",
       "      <td>6.27</td>\n",
       "      <td>29.35</td>\n",
       "      <td>17.37</td>\n",
       "      <td>0.32</td>\n",
       "      <td>15.13</td>\n",
       "      <td>226.12</td>\n",
       "      <td>11089.0</td>\n",
       "      <td>2019</td>\n",
       "      <td>1</td>\n",
       "      <td>1</td>\n",
       "      <td>1.224647e-16</td>\n",
       "      <td>-1.0</td>\n",
       "      <td>1</td>\n",
       "      <td>1.000000e+00</td>\n",
       "      <td>6.123234e-17</td>\n",
       "      <td>5.000000e-01</td>\n",
       "      <td>0.866025</td>\n",
       "      <td>8</td>\n",
       "      <td>31</td>\n",
       "      <td>25.806452</td>\n",
       "      <td>4</td>\n",
       "      <td>1</td>\n",
       "    </tr>\n",
       "    <tr>\n",
       "      <th>2019-02-01</th>\n",
       "      <td>175.668147</td>\n",
       "      <td>175.668147</td>\n",
       "      <td>92.551521</td>\n",
       "      <td>108.944656</td>\n",
       "      <td>109.597012</td>\n",
       "      <td>122.686997</td>\n",
       "      <td>104.586684</td>\n",
       "      <td>103.214212</td>\n",
       "      <td>114.466647</td>\n",
       "      <td>114.996302</td>\n",
       "      <td>103.838375</td>\n",
       "      <td>99.611158</td>\n",
       "      <td>103.495768</td>\n",
       "      <td>100.589459</td>\n",
       "      <td>109.817608</td>\n",
       "      <td>116.736921</td>\n",
       "      <td>110.429590</td>\n",
       "      <td>117.704727</td>\n",
       "      <td>84.681739</td>\n",
       "      <td>80.086039</td>\n",
       "      <td>80.117198</td>\n",
       "      <td>69.545042</td>\n",
       "      <td>77.344049</td>\n",
       "      <td>83.618770</td>\n",
       "      <td>1.1351</td>\n",
       "      <td>111.561142</td>\n",
       "      <td>111.361313</td>\n",
       "      <td>105.297836</td>\n",
       "      <td>102.676529</td>\n",
       "      <td>109.856194</td>\n",
       "      <td>94.712204</td>\n",
       "      <td>109.303719</td>\n",
       "      <td>116.603294</td>\n",
       "      <td>103.623699</td>\n",
       "      <td>99.548590</td>\n",
       "      <td>113.790520</td>\n",
       "      <td>117.976532</td>\n",
       "      <td>100.101524</td>\n",
       "      <td>112.838226</td>\n",
       "      <td>110.835655</td>\n",
       "      <td>112.666725</td>\n",
       "      <td>104.208038</td>\n",
       "      <td>110.647640</td>\n",
       "      <td>83.451233</td>\n",
       "      <td>107.309956</td>\n",
       "      <td>80.322929</td>\n",
       "      <td>103.652771</td>\n",
       "      <td>104.1535</td>\n",
       "      <td>99.37622</td>\n",
       "      <td>101.5480</td>\n",
       "      <td>101.0606</td>\n",
       "      <td>99.87872</td>\n",
       "      <td>100.5431</td>\n",
       "      <td>99.80544</td>\n",
       "      <td>99.72394</td>\n",
       "      <td>101.0838</td>\n",
       "      <td>98.23363</td>\n",
       "      <td>100.6161</td>\n",
       "      <td>100.8785</td>\n",
       "      <td>100.4249</td>\n",
       "      <td>101.1329</td>\n",
       "      <td>100.5132</td>\n",
       "      <td>101.3497</td>\n",
       "      <td>101.3867</td>\n",
       "      <td>100.3775</td>\n",
       "      <td>86.66</td>\n",
       "      <td>0.37</td>\n",
       "      <td>48050000.0</td>\n",
       "      <td>0.0</td>\n",
       "      <td>0.0</td>\n",
       "      <td>0.0</td>\n",
       "      <td>0.0</td>\n",
       "      <td>0.0</td>\n",
       "      <td>0.0</td>\n",
       "      <td>0.0</td>\n",
       "      <td>148.64</td>\n",
       "      <td>43.91</td>\n",
       "      <td>24.10</td>\n",
       "      <td>8.06</td>\n",
       "      <td>4.50</td>\n",
       "      <td>11.95</td>\n",
       "      <td>121.73</td>\n",
       "      <td>419.34</td>\n",
       "      <td>4.85</td>\n",
       "      <td>25.22</td>\n",
       "      <td>13.14</td>\n",
       "      <td>0.30</td>\n",
       "      <td>10.32</td>\n",
       "      <td>194.84</td>\n",
       "      <td>10465.0</td>\n",
       "      <td>2019</td>\n",
       "      <td>2</td>\n",
       "      <td>1</td>\n",
       "      <td>1.224647e-16</td>\n",
       "      <td>-1.0</td>\n",
       "      <td>1</td>\n",
       "      <td>1.000000e+00</td>\n",
       "      <td>6.123234e-17</td>\n",
       "      <td>8.660254e-01</td>\n",
       "      <td>0.500000</td>\n",
       "      <td>8</td>\n",
       "      <td>28</td>\n",
       "      <td>28.571429</td>\n",
       "      <td>4</td>\n",
       "      <td>0</td>\n",
       "    </tr>\n",
       "  </tbody>\n",
       "</table>\n",
       "</div>"
      ],
      "text/plain": [
       "            CHI Production Index  CHI Shipments Index  FRA Production Index  \\\n",
       "2018-10-01            211.955755           211.955755            108.280608   \n",
       "2018-11-01            220.519655           220.519655             99.636911   \n",
       "2018-12-01            241.846854           241.846854             94.690312   \n",
       "2019-01-01            175.668147           175.668147             90.143775   \n",
       "2019-02-01            175.668147           175.668147             92.551521   \n",
       "\n",
       "            FRA Shipments Index  GER Production Index  GER Shipments Index  \\\n",
       "2018-10-01           122.451734            124.227879           137.741953   \n",
       "2018-11-01           115.958210            127.404132           142.732193   \n",
       "2018-12-01           115.128469            120.518565           141.407661   \n",
       "2019-01-01           108.325154            104.776326           118.703828   \n",
       "2019-02-01           108.944656            109.597012           122.686997   \n",
       "\n",
       "            ITA Production Index  ITA Shipments Index  JAP Production Index  \\\n",
       "2018-10-01            118.350514           122.456894            125.209957   \n",
       "2018-11-01            107.719260           120.132032            122.624695   \n",
       "2018-12-01             88.783181           131.936099            122.991956   \n",
       "2019-01-01             99.275113            92.418842            105.514024   \n",
       "2019-02-01            104.586684           103.214212            114.466647   \n",
       "\n",
       "            JAP Shipments Index  SWI Production Index  SWI Shipments Index  \\\n",
       "2018-10-01           124.793250            109.077781           104.594781   \n",
       "2018-11-01           123.289888            112.241491           107.656238   \n",
       "2018-12-01           124.508413            115.405201           110.717696   \n",
       "2019-01-01           106.303946            109.621788           105.164427   \n",
       "2019-02-01           114.996302            103.838375            99.611158   \n",
       "\n",
       "            UK Production Index  UK Shipments Index  USA Production Index  \\\n",
       "2018-10-01           113.659322          112.318030            111.902540   \n",
       "2018-11-01           115.088417          112.801011            110.880401   \n",
       "2018-12-01           101.556108           94.503733            106.257796   \n",
       "2019-01-01           101.799754           99.659210            107.510808   \n",
       "2019-02-01           103.495768          100.589459            109.817608   \n",
       "\n",
       "            USA Shipments Index  Europe Production Index  \\\n",
       "2018-10-01           127.808839               124.391967   \n",
       "2018-11-01           117.675874               123.070091   \n",
       "2018-12-01           123.280134               113.858005   \n",
       "2019-01-01           111.043755               106.418002   \n",
       "2019-02-01           116.736921               110.429590   \n",
       "\n",
       "            Europe Shipments Index  (W) Price of Base Metals  \\\n",
       "2018-10-01              130.989253                 86.102586   \n",
       "2018-11-01              132.934130                 83.841374   \n",
       "2018-12-01              131.261348                 82.733389   \n",
       "2019-01-01              113.057565                 81.251093   \n",
       "2019-02-01              117.704727                 84.681739   \n",
       "\n",
       "            (W) Price of Energy  (W) Price of Metals & Minerals  \\\n",
       "2018-10-01           100.222169                       79.354986   \n",
       "2018-11-01            84.436807                       77.500875   \n",
       "2018-12-01            74.898746                       76.071705   \n",
       "2019-01-01            76.204771                       75.774153   \n",
       "2019-02-01            80.086039                       80.117198   \n",
       "\n",
       "            (W) Price of Natural gas index  (W) Price of Crude oil, average  \\\n",
       "2018-10-01                       89.570796                        97.072264   \n",
       "2018-11-01                       97.362468                        78.841167   \n",
       "2018-12-01                       94.406578                        68.268564   \n",
       "2019-01-01                       80.055366                        71.587526   \n",
       "2019-02-01                       69.545042                        77.344049   \n",
       "\n",
       "            (W) Price of Copper  USA EUR to LCU Conversion Rate   \\\n",
       "2018-10-01            82.545082                           1.1484   \n",
       "2018-11-01            82.230939                           1.1367   \n",
       "2018-12-01            80.630361                           1.1384   \n",
       "2019-01-01            78.822478                           1.1416   \n",
       "2019-02-01            83.618770                           1.1351   \n",
       "\n",
       "            USA EE Producer Prices  UK EE Producer Prices  \\\n",
       "2018-10-01              110.700409             111.463669   \n",
       "2018-11-01              110.994026             111.668373   \n",
       "2018-12-01              111.162231             112.794266   \n",
       "2019-01-01              111.386055             112.077789   \n",
       "2019-02-01              111.561142             111.361313   \n",
       "\n",
       "            ITA EE Producer Prices  FRA EE Producer Prices  \\\n",
       "2018-10-01              105.297836              102.064743   \n",
       "2018-11-01              105.297836              102.064743   \n",
       "2018-12-01              105.297836              102.166710   \n",
       "2019-01-01              105.505936              102.778488   \n",
       "2019-02-01              105.297836              102.676529   \n",
       "\n",
       "            GER EE Producer Prices  CHI EE Producer Prices  \\\n",
       "2018-10-01              109.119614               96.318329   \n",
       "2018-11-01              109.224838               95.370118   \n",
       "2018-12-01              109.330063               94.994885   \n",
       "2019-01-01              109.750961               94.950134   \n",
       "2019-02-01              109.856194               94.712204   \n",
       "\n",
       "            USA Machinery & Equipment Index  (W) Machinery & Equipment Index  \\\n",
       "2018-10-01                       111.422638                       131.340118   \n",
       "2018-11-01                       109.737129                       129.976456   \n",
       "2018-12-01                       103.448280                       124.202469   \n",
       "2019-01-01                       106.506844                       112.175400   \n",
       "2019-02-01                       109.303719                       116.603294   \n",
       "\n",
       "            SWI Machinery & Equipment Index  UK Machinery & Equipment Index  \\\n",
       "2018-10-01                       106.816937                      110.893450   \n",
       "2018-11-01                       110.792831                      112.119922   \n",
       "2018-12-01                       114.768725                       99.446384   \n",
       "2019-01-01                       109.196212                       98.833149   \n",
       "2019-02-01                       103.623699                       99.548590   \n",
       "\n",
       "            ITA Machinery & Equipment Index  JAP Machinery & Equipment Index  \\\n",
       "2018-10-01                       129.389221                       131.503786   \n",
       "2018-11-01                       117.990173                       127.880755   \n",
       "2018-12-01                        99.191734                       128.125679   \n",
       "2019-01-01                       106.991089                       110.200941   \n",
       "2019-02-01                       113.790520                       117.976532   \n",
       "\n",
       "            FRA Machinery & Equipment Index  GER Machinery & Equipment Index  \\\n",
       "2018-10-01                       114.720810                       127.461136   \n",
       "2018-11-01                       104.873100                       132.987915   \n",
       "2018-12-01                       104.974617                       137.363281   \n",
       "2019-01-01                        95.228432                       104.432930   \n",
       "2019-02-01                       100.101524                       112.838226   \n",
       "\n",
       "            USA EE Production Index  (W) EE Production Index  \\\n",
       "2018-10-01               112.853256               129.325775   \n",
       "2018-11-01               113.145294               128.236176   \n",
       "2018-12-01               111.823624               117.043549   \n",
       "2019-01-01               109.499725               111.522202   \n",
       "2019-02-01               110.835655               112.666725   \n",
       "\n",
       "            SWI EE Production Index  UK EE Production Index  \\\n",
       "2018-10-01               112.970843              118.670791   \n",
       "2018-11-01               114.736013              120.467019   \n",
       "2018-12-01               116.501182              105.378705   \n",
       "2019-01-01               110.354610              107.174933   \n",
       "2019-02-01               104.208038              110.647640   \n",
       "\n",
       "            ITA EE Production Index  JAP EE Production Index  \\\n",
       "2018-10-01                93.001511               112.376774   \n",
       "2018-11-01                84.133400               111.907535   \n",
       "2018-12-01                64.881248               112.524242   \n",
       "2019-01-01                81.556343                95.957352   \n",
       "2019-02-01                83.451233               107.309956   \n",
       "\n",
       "            FRA EE Production Index  GER EE Production Index    CC_CHI  \\\n",
       "2018-10-01                97.849541               118.298233  102.8056   \n",
       "2018-11-01                91.155960               117.163727  103.2386   \n",
       "2018-12-01                78.033028                89.626122  103.6305   \n",
       "2019-01-01                81.908257               105.406097  103.9405   \n",
       "2019-02-01                80.322929               103.652771  104.1535   \n",
       "\n",
       "              CC_FRA    CC_GER    CC_ITA     CC_JAP  CC_Europe     CC_SWI  \\\n",
       "2018-10-01  98.94864  101.5778  101.7588  100.38490   100.7815  100.31800   \n",
       "2018-11-01  98.71818  101.5438  101.6450  100.28500   100.6595  100.30690   \n",
       "2018-12-01  98.62968  101.5190  101.4642  100.17410   100.5454  100.17240   \n",
       "2019-01-01  98.97886  101.5336  101.2748  100.02720   100.5180   99.97832   \n",
       "2019-02-01  99.37622  101.5480  101.0606   99.87872   100.5431   99.80544   \n",
       "\n",
       "                CC_UK    CC_USA    BC_CHI    BC_FRA    BC_GER    BC_ITA  \\\n",
       "2018-10-01  100.69820  101.5022  98.79642  101.0451  101.7476  100.9696   \n",
       "2018-11-01  100.43900  101.3958  98.45412  100.9598  101.5859  100.8509   \n",
       "2018-12-01  100.13600  101.2298  98.18901  100.8520  101.3715  100.7023   \n",
       "2019-01-01   99.85248  101.0311  98.12537  100.7477  101.1380  100.5383   \n",
       "2019-02-01   99.72394  101.0838  98.23363  100.6161  100.8785  100.4249   \n",
       "\n",
       "              BC_JAP  BC_Europe    BC_SWI     BC_UK    BC_USA  stock_price  \\\n",
       "2018-10-01  101.5259   100.9295  102.0386  102.0568  101.2177        91.70   \n",
       "2018-11-01  101.5088   100.9174  101.8399  102.2486  101.0049        92.31   \n",
       "2018-12-01  101.4458   100.8464  101.6098  102.3394  100.6920        87.78   \n",
       "2019-01-01  101.3079   100.6773  101.4533  101.9919  100.5415        86.34   \n",
       "2019-02-01  101.1329   100.5132  101.3497  101.3867  100.3775        86.66   \n",
       "\n",
       "            stock_price_change  stock_volume  Covid_Chi  Covid_Fra  Covid_Ger  \\\n",
       "2018-10-01               -7.81    61460000.0        0.0        0.0        0.0   \n",
       "2018-11-01                0.67    48250000.0        0.0        0.0        0.0   \n",
       "2018-12-01               -4.90    48710000.0        0.0        0.0        0.0   \n",
       "2019-01-01               -1.64    52630000.0        0.0        0.0        0.0   \n",
       "2019-02-01                0.37    48050000.0        0.0        0.0        0.0   \n",
       "\n",
       "            Covid_Ita  Covid_Swi  Covid_UK  Covid_US  Clean_Chi  Clean_Fra  \\\n",
       "2018-10-01        0.0        0.0       0.0       0.0     190.49      37.32   \n",
       "2018-11-01        0.0        0.0       0.0       0.0     167.99      39.31   \n",
       "2018-12-01        0.0        0.0       0.0       0.0     161.51      47.36   \n",
       "2019-01-01        0.0        0.0       0.0       0.0     148.69      48.01   \n",
       "2019-02-01        0.0        0.0       0.0       0.0     148.64      43.91   \n",
       "\n",
       "            Clean_Ger  Clean_Ita  Clean_Swi  Clean_UK  Clean_US  Fossil_Chi  \\\n",
       "2018-10-01      24.59       7.42       4.27     12.65    113.47      368.15   \n",
       "2018-11-01      22.61       8.20       4.98     13.11    119.73      406.89   \n",
       "2018-12-01      27.80       7.87       5.26     13.08    130.01      479.90   \n",
       "2019-01-01      27.61       7.90       5.56     12.01    134.69      419.34   \n",
       "2019-02-01      24.10       8.06       4.50     11.95    121.73      419.34   \n",
       "\n",
       "            Fossil_Fra  Fossil_Ger  Fossil_Ita  Fossil_Swi  Fossil_UK  \\\n",
       "2018-10-01        3.84       26.43       14.74        0.30      10.65   \n",
       "2018-11-01        5.48       29.52       14.79        0.31      11.74   \n",
       "2018-12-01        4.54       25.10       15.39        0.32      11.93   \n",
       "2019-01-01        6.27       29.35       17.37        0.32      15.13   \n",
       "2019-02-01        4.85       25.22       13.14        0.30      10.32   \n",
       "\n",
       "            Fossil_US  Buildings_Ger  Year  Month  Semester  sin_Semester  \\\n",
       "2018-10-01     213.52        11738.0  2018     10         2 -2.449294e-16   \n",
       "2018-11-01     204.12        11177.0  2018     11         2 -2.449294e-16   \n",
       "2018-12-01     213.35        11919.0  2018     12         2 -2.449294e-16   \n",
       "2019-01-01     226.12        11089.0  2019      1         1  1.224647e-16   \n",
       "2019-02-01     194.84        10465.0  2019      2         1  1.224647e-16   \n",
       "\n",
       "            cos_Semester  Quarter   sin_Quarter   cos_Quarter     sin_month  \\\n",
       "2018-10-01           1.0        4 -2.449294e-16  1.000000e+00 -8.660254e-01   \n",
       "2018-11-01           1.0        4 -2.449294e-16  1.000000e+00 -5.000000e-01   \n",
       "2018-12-01           1.0        4 -2.449294e-16  1.000000e+00 -2.449294e-16   \n",
       "2019-01-01          -1.0        1  1.000000e+00  6.123234e-17  5.000000e-01   \n",
       "2019-02-01          -1.0        1  1.000000e+00  6.123234e-17  8.660254e-01   \n",
       "\n",
       "            cos_month  WeekendDaysCount  TotalDaysInMonth  \\\n",
       "2018-10-01   0.500000                 8                31   \n",
       "2018-11-01   0.866025                 8                30   \n",
       "2018-12-01   1.000000                10                31   \n",
       "2019-01-01   0.866025                 8                31   \n",
       "2019-02-01   0.500000                 8                28   \n",
       "\n",
       "            WeekendDaysPercentage  SundayCount  GerHolidayCount  \n",
       "2018-10-01              25.806452            4                1  \n",
       "2018-11-01              26.666667            4                0  \n",
       "2018-12-01              32.258065            5                2  \n",
       "2019-01-01              25.806452            4                1  \n",
       "2019-02-01              28.571429            4                0  "
      ]
     },
     "execution_count": 3,
     "metadata": {},
     "output_type": "execute_result"
    }
   ],
   "source": [
    "X_train.head()"
   ]
  },
  {
   "cell_type": "code",
   "execution_count": 4,
   "metadata": {},
   "outputs": [],
   "source": [
    "# holds all external data\n",
    "#external_data = \n",
    "\n",
    "# holds all product data, including all columns related to dates\n",
    "#product_data = "
   ]
  },
  {
   "cell_type": "code",
   "execution_count": 5,
   "metadata": {},
   "outputs": [],
   "source": [
    "# This will hold all future data about features that are not in the test data\n",
    "future_data_predictions = pd.DataFrame()\n",
    "\n",
    "original = X_train.copy()"
   ]
  },
  {
   "cell_type": "code",
   "execution_count": 6,
   "metadata": {},
   "outputs": [],
   "source": [
    "columns_example = [\n",
    "    \"CHI Production Index\", \"CHI Shipments Index\",\n",
    "    \"FRA Production Index\", \"FRA Shipments Index\",\n",
    "    \"GER Production Index\", \"GER Shipments Index\",\n",
    "    \"ITA Production Index\", \"ITA Shipments Index\",\n",
    "    \"JAP Production Index\", \"JAP Shipments Index\",\n",
    "    \"SWI Production Index\", \"SWI Shipments Index\"\n",
    "]"
   ]
  },
  {
   "cell_type": "code",
   "execution_count": 7,
   "metadata": {},
   "outputs": [
    {
     "name": "stderr",
     "output_type": "stream",
     "text": [
      "20:27:49 - cmdstanpy - INFO - Chain [1] start processing\n",
      "20:27:49 - cmdstanpy - INFO - Chain [1] done processing\n",
      "20:27:50 - cmdstanpy - INFO - Chain [1] start processing\n",
      "20:27:50 - cmdstanpy - INFO - Chain [1] done processing\n",
      "20:27:50 - cmdstanpy - INFO - Chain [1] start processing\n",
      "20:27:50 - cmdstanpy - INFO - Chain [1] done processing\n",
      "20:27:50 - cmdstanpy - INFO - Chain [1] start processing\n",
      "20:27:50 - cmdstanpy - INFO - Chain [1] done processing\n",
      "20:27:50 - cmdstanpy - INFO - Chain [1] start processing\n",
      "20:27:50 - cmdstanpy - INFO - Chain [1] done processing\n",
      "20:27:50 - cmdstanpy - INFO - Chain [1] start processing\n",
      "20:27:51 - cmdstanpy - INFO - Chain [1] done processing\n",
      "20:27:51 - cmdstanpy - INFO - Chain [1] start processing\n",
      "20:27:51 - cmdstanpy - INFO - Chain [1] done processing\n",
      "20:27:51 - cmdstanpy - INFO - Chain [1] start processing\n",
      "20:27:51 - cmdstanpy - INFO - Chain [1] done processing\n",
      "20:27:51 - cmdstanpy - INFO - Chain [1] start processing\n",
      "20:27:51 - cmdstanpy - INFO - Chain [1] done processing\n",
      "20:27:51 - cmdstanpy - INFO - Chain [1] start processing\n",
      "20:27:51 - cmdstanpy - INFO - Chain [1] done processing\n",
      "20:27:51 - cmdstanpy - INFO - Chain [1] start processing\n",
      "20:28:06 - cmdstanpy - INFO - Chain [1] done processing\n",
      "20:28:06 - cmdstanpy - INFO - Chain [1] start processing\n",
      "20:28:21 - cmdstanpy - INFO - Chain [1] done processing\n"
     ]
    }
   ],
   "source": [
    "# Iterate through each column in 'gdk_features_to_predict'\n",
    "for column in columns_example:\n",
    "    # Isolate the current column into a new DataFrame 'df1'\n",
    "    df1 = original[[column]].copy()\n",
    "    # Reset the index of 'df1' and rename columns to fit Prophet's expected format\n",
    "    data = (df1.reset_index() \\\n",
    "        .rename(columns={'index':'ds',\n",
    "                        f'{column}':'y'}))\n",
    "    # Initialize Prophet\n",
    "    model = Prophet()\n",
    "    # Fit the model to the data\n",
    "    model.fit(data)\n",
    "    \n",
    "    # Create a DataFrame representing future dates to make predictions\n",
    "    # 'periods=10' is the number of future points to predict and 'freq='MS' sets the frequency to monthly start\n",
    "    future = model.make_future_dataframe(periods=10, freq='MS')\n",
    "\n",
    "    # Forecast future dates\n",
    "    forecast_Production_Index = model.predict(future)\n",
    "    # Keep only the 'ds' (date) and 'yhat' (predicted value) columns --> simplicity\n",
    "    forecast_Production_Index  = forecast_Production_Index[['ds', 'yhat']]\n",
    "    # Set the date column as the index\n",
    "    forecast_Production_Index= forecast_Production_Index.set_index('ds')\n",
    "    # Add the forecasted values to the 'future_features' DataFrame\n",
    "    future_data_predictions[column] = forecast_Production_Index['yhat'].values"
   ]
  },
  {
   "cell_type": "code",
   "execution_count": 8,
   "metadata": {},
   "outputs": [],
   "source": [
    "# Reset the index to use date as a regular column\n",
    "forecast_Production_Index.reset_index(inplace=True)\n",
    "# Add the date column to 'future_features' --> keep track of the forecast dates\n",
    "future_data_predictions['ds'] = forecast_Production_Index['ds'].values\n",
    "# Set date as the index of 'future_features' --> facilitate time series analysis\n",
    "future_data_predictions.set_index('ds', inplace = True)"
   ]
  },
  {
   "cell_type": "code",
   "execution_count": null,
   "metadata": {},
   "outputs": [
    {
     "data": {
      "text/html": [
       "<div>\n",
       "<style scoped>\n",
       "    .dataframe tbody tr th:only-of-type {\n",
       "        vertical-align: middle;\n",
       "    }\n",
       "\n",
       "    .dataframe tbody tr th {\n",
       "        vertical-align: top;\n",
       "    }\n",
       "\n",
       "    .dataframe thead th {\n",
       "        text-align: right;\n",
       "    }\n",
       "</style>\n",
       "<table border=\"1\" class=\"dataframe\">\n",
       "  <thead>\n",
       "    <tr style=\"text-align: right;\">\n",
       "      <th></th>\n",
       "      <th>CHI Production Index</th>\n",
       "      <th>CHI Shipments Index</th>\n",
       "      <th>FRA Production Index</th>\n",
       "      <th>FRA Shipments Index</th>\n",
       "      <th>GER Production Index</th>\n",
       "      <th>GER Shipments Index</th>\n",
       "      <th>ITA Production Index</th>\n",
       "      <th>ITA Shipments Index</th>\n",
       "      <th>JAP Production Index</th>\n",
       "      <th>JAP Shipments Index</th>\n",
       "      <th>SWI Production Index</th>\n",
       "      <th>SWI Shipments Index</th>\n",
       "    </tr>\n",
       "    <tr>\n",
       "      <th>ds</th>\n",
       "      <th></th>\n",
       "      <th></th>\n",
       "      <th></th>\n",
       "      <th></th>\n",
       "      <th></th>\n",
       "      <th></th>\n",
       "      <th></th>\n",
       "      <th></th>\n",
       "      <th></th>\n",
       "      <th></th>\n",
       "      <th></th>\n",
       "      <th></th>\n",
       "    </tr>\n",
       "  </thead>\n",
       "  <tbody>\n",
       "    <tr>\n",
       "      <th>2021-10-01</th>\n",
       "      <td>301.540607</td>\n",
       "      <td>301.540607</td>\n",
       "      <td>95.572187</td>\n",
       "      <td>112.110575</td>\n",
       "      <td>128.057386</td>\n",
       "      <td>147.787431</td>\n",
       "      <td>106.248298</td>\n",
       "      <td>119.491503</td>\n",
       "      <td>141.359838</td>\n",
       "      <td>143.008570</td>\n",
       "      <td>109.684411</td>\n",
       "      <td>105.690907</td>\n",
       "    </tr>\n",
       "    <tr>\n",
       "      <th>2021-11-01</th>\n",
       "      <td>315.777307</td>\n",
       "      <td>315.777307</td>\n",
       "      <td>88.765802</td>\n",
       "      <td>110.540669</td>\n",
       "      <td>133.762221</td>\n",
       "      <td>155.667993</td>\n",
       "      <td>99.275465</td>\n",
       "      <td>118.608952</td>\n",
       "      <td>143.094797</td>\n",
       "      <td>145.393562</td>\n",
       "      <td>112.113073</td>\n",
       "      <td>108.026768</td>\n",
       "    </tr>\n",
       "    <tr>\n",
       "      <th>2021-12-01</th>\n",
       "      <td>338.237259</td>\n",
       "      <td>338.237259</td>\n",
       "      <td>87.828027</td>\n",
       "      <td>114.174042</td>\n",
       "      <td>132.947095</td>\n",
       "      <td>160.600638</td>\n",
       "      <td>83.503887</td>\n",
       "      <td>132.086903</td>\n",
       "      <td>151.908768</td>\n",
       "      <td>155.323554</td>\n",
       "      <td>114.583723</td>\n",
       "      <td>110.351349</td>\n",
       "    </tr>\n",
       "    <tr>\n",
       "      <th>2022-01-01</th>\n",
       "      <td>254.833214</td>\n",
       "      <td>254.833214</td>\n",
       "      <td>81.090252</td>\n",
       "      <td>98.745987</td>\n",
       "      <td>114.907141</td>\n",
       "      <td>133.580997</td>\n",
       "      <td>89.928999</td>\n",
       "      <td>93.055194</td>\n",
       "      <td>138.295336</td>\n",
       "      <td>140.804910</td>\n",
       "      <td>111.819500</td>\n",
       "      <td>107.759796</td>\n",
       "    </tr>\n",
       "    <tr>\n",
       "      <th>2022-02-01</th>\n",
       "      <td>255.699789</td>\n",
       "      <td>255.699789</td>\n",
       "      <td>86.895187</td>\n",
       "      <td>106.969500</td>\n",
       "      <td>125.375934</td>\n",
       "      <td>145.754203</td>\n",
       "      <td>102.543705</td>\n",
       "      <td>108.358843</td>\n",
       "      <td>148.357399</td>\n",
       "      <td>151.456660</td>\n",
       "      <td>109.031735</td>\n",
       "      <td>105.178863</td>\n",
       "    </tr>\n",
       "  </tbody>\n",
       "</table>\n",
       "</div>"
      ],
      "text/plain": [
       "            CHI Production Index  CHI Shipments Index  FRA Production Index  \\\n",
       "ds                                                                            \n",
       "2021-10-01            301.540607           301.540607             95.572187   \n",
       "2021-11-01            315.777307           315.777307             88.765802   \n",
       "2021-12-01            338.237259           338.237259             87.828027   \n",
       "2022-01-01            254.833214           254.833214             81.090252   \n",
       "2022-02-01            255.699789           255.699789             86.895187   \n",
       "\n",
       "            FRA Shipments Index  GER Production Index  GER Shipments Index  \\\n",
       "ds                                                                           \n",
       "2021-10-01           112.110575            128.057386           147.787431   \n",
       "2021-11-01           110.540669            133.762221           155.667993   \n",
       "2021-12-01           114.174042            132.947095           160.600638   \n",
       "2022-01-01            98.745987            114.907141           133.580997   \n",
       "2022-02-01           106.969500            125.375934           145.754203   \n",
       "\n",
       "            ITA Production Index  ITA Shipments Index  JAP Production Index  \\\n",
       "ds                                                                            \n",
       "2021-10-01            106.248298           119.491503            141.359838   \n",
       "2021-11-01             99.275465           118.608952            143.094797   \n",
       "2021-12-01             83.503887           132.086903            151.908768   \n",
       "2022-01-01             89.928999            93.055194            138.295336   \n",
       "2022-02-01            102.543705           108.358843            148.357399   \n",
       "\n",
       "            JAP Shipments Index  SWI Production Index  SWI Shipments Index  \n",
       "ds                                                                          \n",
       "2021-10-01           143.008570            109.684411           105.690907  \n",
       "2021-11-01           145.393562            112.113073           108.026768  \n",
       "2021-12-01           155.323554            114.583723           110.351349  \n",
       "2022-01-01           140.804910            111.819500           107.759796  \n",
       "2022-02-01           151.456660            109.031735           105.178863  "
      ]
     },
     "execution_count": 10,
     "metadata": {},
     "output_type": "execute_result"
    }
   ],
   "source": [
    "future_data_predictions.tail()"
   ]
  },
  {
   "cell_type": "code",
   "execution_count": null,
   "metadata": {},
   "outputs": [],
   "source": [
    "# Assign data from May 1, 2022 until February 1, 2023 in a new DataFrame: 'future_features_predicted'\n",
    "future_data = future_data_predictions.loc['2022-05-01':'2023-02-01']"
   ]
  },
  {
   "cell_type": "markdown",
   "metadata": {},
   "source": [
    "# depois dar replace por future_data"
   ]
  },
  {
   "cell_type": "code",
   "execution_count": 13,
   "metadata": {},
   "outputs": [
    {
     "data": {
      "application/vnd.plotly.v1+json": {
       "config": {
        "plotlyServerURL": "https://plot.ly"
       },
       "data": [
        {
         "hovertemplate": "variable=CHI Production Index<br>ds=%{x}<br>Value=%{y}<extra></extra>",
         "legendgroup": "CHI Production Index",
         "line": {
          "color": "#636efa",
          "dash": "solid"
         },
         "marker": {
          "symbol": "circle"
         },
         "mode": "lines",
         "name": "CHI Production Index",
         "orientation": "v",
         "showlegend": true,
         "type": "scatter",
         "x": [
          "2018-10-01T00:00:00.000000000",
          "2018-11-01T00:00:00.000000000",
          "2018-12-01T00:00:00.000000000",
          "2019-01-01T00:00:00.000000000",
          "2019-02-01T00:00:00.000000000",
          "2019-03-01T00:00:00.000000000",
          "2019-04-01T00:00:00.000000000",
          "2019-05-01T00:00:00.000000000",
          "2019-06-01T00:00:00.000000000",
          "2019-07-01T00:00:00.000000000",
          "2019-08-01T00:00:00.000000000",
          "2019-09-01T00:00:00.000000000",
          "2019-10-01T00:00:00.000000000",
          "2019-11-01T00:00:00.000000000",
          "2019-12-01T00:00:00.000000000",
          "2020-01-01T00:00:00.000000000",
          "2020-02-01T00:00:00.000000000",
          "2020-03-01T00:00:00.000000000",
          "2020-04-01T00:00:00.000000000",
          "2020-05-01T00:00:00.000000000",
          "2020-06-01T00:00:00.000000000",
          "2020-07-01T00:00:00.000000000",
          "2020-08-01T00:00:00.000000000",
          "2020-09-01T00:00:00.000000000",
          "2020-10-01T00:00:00.000000000",
          "2020-11-01T00:00:00.000000000",
          "2020-12-01T00:00:00.000000000",
          "2021-01-01T00:00:00.000000000",
          "2021-02-01T00:00:00.000000000",
          "2021-03-01T00:00:00.000000000",
          "2021-04-01T00:00:00.000000000",
          "2021-05-01T00:00:00.000000000",
          "2021-06-01T00:00:00.000000000",
          "2021-07-01T00:00:00.000000000",
          "2021-08-01T00:00:00.000000000",
          "2021-09-01T00:00:00.000000000",
          "2021-10-01T00:00:00.000000000",
          "2021-11-01T00:00:00.000000000",
          "2021-12-01T00:00:00.000000000",
          "2022-01-01T00:00:00.000000000",
          "2022-02-01T00:00:00.000000000"
         ],
         "xaxis": "x",
         "y": {
          "bdata": "xs/xG+EXa0DzctRxtKJsQA9Qz9PdU29ANRLqhNwGY0ARupA9hO5iQPSdq9KuxXBAel1uRxrca0Ctg2OeEnRtQBTyZbS+T3BAFys681kCa0CTmPAYFNxpQMgmjuIX92pAi1d3cSwabEDDadFS9c5tQLirD0hsYHBAo9wfZZP+YkBQjj5qGiRjQCx7E58ZfW9AZFiQBzCxbUAvGVhh0sxvQKdYJphCuHFAr0esGEucbkCQjH2iGkBtQHZ9DMbGhW5AvCLOUOLsb0C8XaAkUcRwQPZFDCU+BXJAy+VnXJcYa0B1Y0Iu1wprQLt98SUtJHNASaA0VByscUDOAEmR0LNyQFchYAfPgnRAiDoKq70GckAhT3YLUXJxQExKRVaGH3JAyWbEU6bYckCDy+zZb7xzQLmM1M/LI3VA6OGSsKnab0BJkmOrZPZvQA==",
          "dtype": "f8"
         },
         "yaxis": "y"
        },
        {
         "hovertemplate": "variable=CHI Shipments Index<br>ds=%{x}<br>Value=%{y}<extra></extra>",
         "legendgroup": "CHI Shipments Index",
         "line": {
          "color": "#EF553B",
          "dash": "solid"
         },
         "marker": {
          "symbol": "circle"
         },
         "mode": "lines",
         "name": "CHI Shipments Index",
         "orientation": "v",
         "showlegend": true,
         "type": "scatter",
         "x": [
          "2018-10-01T00:00:00.000000000",
          "2018-11-01T00:00:00.000000000",
          "2018-12-01T00:00:00.000000000",
          "2019-01-01T00:00:00.000000000",
          "2019-02-01T00:00:00.000000000",
          "2019-03-01T00:00:00.000000000",
          "2019-04-01T00:00:00.000000000",
          "2019-05-01T00:00:00.000000000",
          "2019-06-01T00:00:00.000000000",
          "2019-07-01T00:00:00.000000000",
          "2019-08-01T00:00:00.000000000",
          "2019-09-01T00:00:00.000000000",
          "2019-10-01T00:00:00.000000000",
          "2019-11-01T00:00:00.000000000",
          "2019-12-01T00:00:00.000000000",
          "2020-01-01T00:00:00.000000000",
          "2020-02-01T00:00:00.000000000",
          "2020-03-01T00:00:00.000000000",
          "2020-04-01T00:00:00.000000000",
          "2020-05-01T00:00:00.000000000",
          "2020-06-01T00:00:00.000000000",
          "2020-07-01T00:00:00.000000000",
          "2020-08-01T00:00:00.000000000",
          "2020-09-01T00:00:00.000000000",
          "2020-10-01T00:00:00.000000000",
          "2020-11-01T00:00:00.000000000",
          "2020-12-01T00:00:00.000000000",
          "2021-01-01T00:00:00.000000000",
          "2021-02-01T00:00:00.000000000",
          "2021-03-01T00:00:00.000000000",
          "2021-04-01T00:00:00.000000000",
          "2021-05-01T00:00:00.000000000",
          "2021-06-01T00:00:00.000000000",
          "2021-07-01T00:00:00.000000000",
          "2021-08-01T00:00:00.000000000",
          "2021-09-01T00:00:00.000000000",
          "2021-10-01T00:00:00.000000000",
          "2021-11-01T00:00:00.000000000",
          "2021-12-01T00:00:00.000000000",
          "2022-01-01T00:00:00.000000000",
          "2022-02-01T00:00:00.000000000"
         ],
         "xaxis": "x",
         "y": {
          "bdata": "xs/xG+EXa0DzctRxtKJsQA9Qz9PdU29ANRLqhNwGY0ARupA9hO5iQPSdq9KuxXBAel1uRxrca0Ctg2OeEnRtQBTyZbS+T3BAFys681kCa0CTmPAYFNxpQMgmjuIX92pAi1d3cSwabEDDadFS9c5tQLirD0hsYHBAo9wfZZP+YkBQjj5qGiRjQCx7E58ZfW9AZFiQBzCxbUAvGVhh0sxvQKdYJphCuHFAr0esGEucbkCQjH2iGkBtQHZ9DMbGhW5AvCLOUOLsb0C8XaAkUcRwQPZFDCU+BXJAy+VnXJcYa0B1Y0Iu1wprQLt98SUtJHNASaA0VByscUDOAEmR0LNyQFchYAfPgnRAiDoKq70GckAhT3YLUXJxQExKRVaGH3JAyWbEU6bYckCDy+zZb7xzQLmM1M/LI3VA6OGSsKnab0BJkmOrZPZvQA==",
          "dtype": "f8"
         },
         "yaxis": "y"
        },
        {
         "hovertemplate": "variable=FRA Production Index<br>ds=%{x}<br>Value=%{y}<extra></extra>",
         "legendgroup": "FRA Production Index",
         "line": {
          "color": "#00cc96",
          "dash": "solid"
         },
         "marker": {
          "symbol": "circle"
         },
         "mode": "lines",
         "name": "FRA Production Index",
         "orientation": "v",
         "showlegend": true,
         "type": "scatter",
         "x": [
          "2018-10-01T00:00:00.000000000",
          "2018-11-01T00:00:00.000000000",
          "2018-12-01T00:00:00.000000000",
          "2019-01-01T00:00:00.000000000",
          "2019-02-01T00:00:00.000000000",
          "2019-03-01T00:00:00.000000000",
          "2019-04-01T00:00:00.000000000",
          "2019-05-01T00:00:00.000000000",
          "2019-06-01T00:00:00.000000000",
          "2019-07-01T00:00:00.000000000",
          "2019-08-01T00:00:00.000000000",
          "2019-09-01T00:00:00.000000000",
          "2019-10-01T00:00:00.000000000",
          "2019-11-01T00:00:00.000000000",
          "2019-12-01T00:00:00.000000000",
          "2020-01-01T00:00:00.000000000",
          "2020-02-01T00:00:00.000000000",
          "2020-03-01T00:00:00.000000000",
          "2020-04-01T00:00:00.000000000",
          "2020-05-01T00:00:00.000000000",
          "2020-06-01T00:00:00.000000000",
          "2020-07-01T00:00:00.000000000",
          "2020-08-01T00:00:00.000000000",
          "2020-09-01T00:00:00.000000000",
          "2020-10-01T00:00:00.000000000",
          "2020-11-01T00:00:00.000000000",
          "2020-12-01T00:00:00.000000000",
          "2021-01-01T00:00:00.000000000",
          "2021-02-01T00:00:00.000000000",
          "2021-03-01T00:00:00.000000000",
          "2021-04-01T00:00:00.000000000",
          "2021-05-01T00:00:00.000000000",
          "2021-06-01T00:00:00.000000000",
          "2021-07-01T00:00:00.000000000",
          "2021-08-01T00:00:00.000000000",
          "2021-09-01T00:00:00.000000000",
          "2021-10-01T00:00:00.000000000",
          "2021-11-01T00:00:00.000000000",
          "2021-12-01T00:00:00.000000000",
          "2022-01-01T00:00:00.000000000",
          "2022-02-01T00:00:00.000000000"
         ],
         "xaxis": "x",
         "y": {
          "bdata": "3hxsoN2/WkBTDeus4/RYQPNBR5lUTVhABOreYXhvVkDxSuvftBhXQKejgDJN5llA1wNq4VZ8V0CoqwUtjhFVQBpJaYeonFZASiU401u1V0CRH+peLsBPQKYwXKNsd1lAXmy9gKFQWkBVoryweGxYQGh/1qcLWVdAyrrCrCZOVUC5fMepIzRVQL32wK+3OVhAWnqWZtZOUkDt3j9Z7SBTQM0iqhJahFlAt4lp8voQWEAKuMMfB5hOQDnz5ObweFdA7m8NwnBKWEBkI9zH6apWQHRY1heP2FZAnWy5BQhYVUBX0aWQP5tXQASDtuTpqVdAKPYNTLjyUkANKhSXLLxSQAAB4nGlfVdAQ6Yf9ZfaVkA0Yi25CsdMQECjcn1wDFdA+Ho2tp7kV0DRe7LkAjFWQDBadmX+9FVAL0g+scZFVEDeynW/SrlVQA==",
          "dtype": "f8"
         },
         "yaxis": "y"
        },
        {
         "hovertemplate": "variable=FRA Shipments Index<br>ds=%{x}<br>Value=%{y}<extra></extra>",
         "legendgroup": "FRA Shipments Index",
         "line": {
          "color": "#ab63fa",
          "dash": "solid"
         },
         "marker": {
          "symbol": "circle"
         },
         "mode": "lines",
         "name": "FRA Shipments Index",
         "orientation": "v",
         "showlegend": true,
         "type": "scatter",
         "x": [
          "2018-10-01T00:00:00.000000000",
          "2018-11-01T00:00:00.000000000",
          "2018-12-01T00:00:00.000000000",
          "2019-01-01T00:00:00.000000000",
          "2019-02-01T00:00:00.000000000",
          "2019-03-01T00:00:00.000000000",
          "2019-04-01T00:00:00.000000000",
          "2019-05-01T00:00:00.000000000",
          "2019-06-01T00:00:00.000000000",
          "2019-07-01T00:00:00.000000000",
          "2019-08-01T00:00:00.000000000",
          "2019-09-01T00:00:00.000000000",
          "2019-10-01T00:00:00.000000000",
          "2019-11-01T00:00:00.000000000",
          "2019-12-01T00:00:00.000000000",
          "2020-01-01T00:00:00.000000000",
          "2020-02-01T00:00:00.000000000",
          "2020-03-01T00:00:00.000000000",
          "2020-04-01T00:00:00.000000000",
          "2020-05-01T00:00:00.000000000",
          "2020-06-01T00:00:00.000000000",
          "2020-07-01T00:00:00.000000000",
          "2020-08-01T00:00:00.000000000",
          "2020-09-01T00:00:00.000000000",
          "2020-10-01T00:00:00.000000000",
          "2020-11-01T00:00:00.000000000",
          "2020-12-01T00:00:00.000000000",
          "2021-01-01T00:00:00.000000000",
          "2021-02-01T00:00:00.000000000",
          "2021-03-01T00:00:00.000000000",
          "2021-04-01T00:00:00.000000000",
          "2021-05-01T00:00:00.000000000",
          "2021-06-01T00:00:00.000000000",
          "2021-07-01T00:00:00.000000000",
          "2021-08-01T00:00:00.000000000",
          "2021-09-01T00:00:00.000000000",
          "2021-10-01T00:00:00.000000000",
          "2021-11-01T00:00:00.000000000",
          "2021-12-01T00:00:00.000000000",
          "2022-01-01T00:00:00.000000000",
          "2022-02-01T00:00:00.000000000"
         ],
         "xaxis": "x",
         "y": {
          "bdata": "XDR5J3qXXkCdIHx/XRFdQKou+8+hCF5AJKA+oh9sWkAgzsKHffhaQAFnR9DCaF5A/sehRFWQW0DvjwcrCNNYQL60yGgkLFxAtOf7jQlKWUB4MywWHrpVQHZ9WkTaA11ATIW1Hcz4XkB8AhEopk5cQPZEi0LdV11Aci8FDPD4WUCi7faAmglZQMd9j+603FxA4Yi9VgaUVkDSbAb4BFlWQGwVbhEPGmBAPtc6pbsGWkBrgHnIWk5VQM34jJ/8sFtA+BzX602dW0AQeQTCB1dcQGLRJJQlM11AsCBxbaoWWUBb4oMr+KtcQOPAoeHcnlxAbbX3gmiEV0ADeH37kYBWQPrFwGP7K15AwaBn1pkLWUAJCiX0+7RUQI736XJfZltAFQ87qhMHXEBIzi5RmqJbQJ8XGYEji1xANHQqP76vWECW855KDL5aQA==",
          "dtype": "f8"
         },
         "yaxis": "y"
        },
        {
         "hovertemplate": "variable=GER Production Index<br>ds=%{x}<br>Value=%{y}<extra></extra>",
         "legendgroup": "GER Production Index",
         "line": {
          "color": "#FFA15A",
          "dash": "solid"
         },
         "marker": {
          "symbol": "circle"
         },
         "mode": "lines",
         "name": "GER Production Index",
         "orientation": "v",
         "showlegend": true,
         "type": "scatter",
         "x": [
          "2018-10-01T00:00:00.000000000",
          "2018-11-01T00:00:00.000000000",
          "2018-12-01T00:00:00.000000000",
          "2019-01-01T00:00:00.000000000",
          "2019-02-01T00:00:00.000000000",
          "2019-03-01T00:00:00.000000000",
          "2019-04-01T00:00:00.000000000",
          "2019-05-01T00:00:00.000000000",
          "2019-06-01T00:00:00.000000000",
          "2019-07-01T00:00:00.000000000",
          "2019-08-01T00:00:00.000000000",
          "2019-09-01T00:00:00.000000000",
          "2019-10-01T00:00:00.000000000",
          "2019-11-01T00:00:00.000000000",
          "2019-12-01T00:00:00.000000000",
          "2020-01-01T00:00:00.000000000",
          "2020-02-01T00:00:00.000000000",
          "2020-03-01T00:00:00.000000000",
          "2020-04-01T00:00:00.000000000",
          "2020-05-01T00:00:00.000000000",
          "2020-06-01T00:00:00.000000000",
          "2020-07-01T00:00:00.000000000",
          "2020-08-01T00:00:00.000000000",
          "2020-09-01T00:00:00.000000000",
          "2020-10-01T00:00:00.000000000",
          "2020-11-01T00:00:00.000000000",
          "2020-12-01T00:00:00.000000000",
          "2021-01-01T00:00:00.000000000",
          "2021-02-01T00:00:00.000000000",
          "2021-03-01T00:00:00.000000000",
          "2021-04-01T00:00:00.000000000",
          "2021-05-01T00:00:00.000000000",
          "2021-06-01T00:00:00.000000000",
          "2021-07-01T00:00:00.000000000",
          "2021-08-01T00:00:00.000000000",
          "2021-09-01T00:00:00.000000000",
          "2021-10-01T00:00:00.000000000",
          "2021-11-01T00:00:00.000000000",
          "2021-12-01T00:00:00.000000000",
          "2022-01-01T00:00:00.000000000",
          "2022-02-01T00:00:00.000000000"
         ],
         "xaxis": "x",
         "y": {
          "bdata": "hzVpv4stX0AsvmrnP+ZfQE28+QWP4V5AqqvYASp8WkAOC/0RnwJcQHwyxYpF+11A5vIYbMt7W0DXF5j0SGhcQGaP7/4I3lpAkLf4A1sOXUDheUXp+vVZQD+PHCr/X11AawXkaGl1XEBG3PKuofBcQGSp3F8ykVtAQJziGFm/V0CHVQPjYKFYQPfBrP7+L11A433Y0WDcVUDvQsGEC95VQIoMm5wISVpAFQWHWwNdWUBhhKbzLgZWQHXIQZTSWVtA41BjvkvMWkC7BCNw8E1cQK5V37ZJUlxARzaHrnwSV0BgmsOYZCRaQAqCXk6VlF5A2qe49buTWUBMH5tAtKJaQGGkj3tTyV1ATGAxh45LXkC+wLuz9XtbQIm2UmhUOGBANIQAHNYBYEBSlOccZLhgQOngMJtOnmBAmQevmQ66XEBVyzROD1hfQA==",
          "dtype": "f8"
         },
         "yaxis": "y"
        },
        {
         "hovertemplate": "variable=GER Shipments Index<br>ds=%{x}<br>Value=%{y}<extra></extra>",
         "legendgroup": "GER Shipments Index",
         "line": {
          "color": "#19d3f3",
          "dash": "solid"
         },
         "marker": {
          "symbol": "circle"
         },
         "mode": "lines",
         "name": "GER Shipments Index",
         "orientation": "v",
         "showlegend": true,
         "type": "scatter",
         "x": [
          "2018-10-01T00:00:00.000000000",
          "2018-11-01T00:00:00.000000000",
          "2018-12-01T00:00:00.000000000",
          "2019-01-01T00:00:00.000000000",
          "2019-02-01T00:00:00.000000000",
          "2019-03-01T00:00:00.000000000",
          "2019-04-01T00:00:00.000000000",
          "2019-05-01T00:00:00.000000000",
          "2019-06-01T00:00:00.000000000",
          "2019-07-01T00:00:00.000000000",
          "2019-08-01T00:00:00.000000000",
          "2019-09-01T00:00:00.000000000",
          "2019-10-01T00:00:00.000000000",
          "2019-11-01T00:00:00.000000000",
          "2019-12-01T00:00:00.000000000",
          "2020-01-01T00:00:00.000000000",
          "2020-02-01T00:00:00.000000000",
          "2020-03-01T00:00:00.000000000",
          "2020-04-01T00:00:00.000000000",
          "2020-05-01T00:00:00.000000000",
          "2020-06-01T00:00:00.000000000",
          "2020-07-01T00:00:00.000000000",
          "2020-08-01T00:00:00.000000000",
          "2020-09-01T00:00:00.000000000",
          "2020-10-01T00:00:00.000000000",
          "2020-11-01T00:00:00.000000000",
          "2020-12-01T00:00:00.000000000",
          "2021-01-01T00:00:00.000000000",
          "2021-02-01T00:00:00.000000000",
          "2021-03-01T00:00:00.000000000",
          "2021-04-01T00:00:00.000000000",
          "2021-05-01T00:00:00.000000000",
          "2021-06-01T00:00:00.000000000",
          "2021-07-01T00:00:00.000000000",
          "2021-08-01T00:00:00.000000000",
          "2021-09-01T00:00:00.000000000",
          "2021-10-01T00:00:00.000000000",
          "2021-11-01T00:00:00.000000000",
          "2021-12-01T00:00:00.000000000",
          "2022-01-01T00:00:00.000000000",
          "2022-02-01T00:00:00.000000000"
         ],
         "xaxis": "x",
         "y": {
          "bdata": "fTJ7d9NUYUCGHbBa4AViQBVlyORHHGJA+3qpeYKiXUDzDthiulpfQPSakuTBJmFA4P7v536PX0CcTS8r2CxgQDEcfIzmQV9AdaBhug51YED7/co16CleQIi+PFS4QGFA1661jzrxX0A2D7L4OaRgQIXBihy9d2BAJcneSqAPW0DtBdJd7vtbQDr9YU/pN2FAiM9bgkUkWUDyQmcz0ExZQNp7EWQV6l5A1VlXuICjXUAgGBgi9KpZQCiw+bBbJGBAsbdod0KmXkCNrooPDz9gQLiXjyQBDWFAHA6UyrB2WkBsn7UpYxleQInO3fcGDGJA5m/aVljKXUC4kUahaAJfQAiFI7MommFAndUcI0/bYUC1FG/qfzlgQPlSAHuOTmNAvtewoTJ5YkDICz4zYHVjQIrsiW04E2RA3xA8h5eyYEAb8bFtIjhiQA==",
          "dtype": "f8"
         },
         "yaxis": "y"
        },
        {
         "hovertemplate": "variable=ITA Production Index<br>ds=%{x}<br>Value=%{y}<extra></extra>",
         "legendgroup": "ITA Production Index",
         "line": {
          "color": "#FF6692",
          "dash": "solid"
         },
         "marker": {
          "symbol": "circle"
         },
         "mode": "lines",
         "name": "ITA Production Index",
         "orientation": "v",
         "showlegend": true,
         "type": "scatter",
         "x": [
          "2018-10-01T00:00:00.000000000",
          "2018-11-01T00:00:00.000000000",
          "2018-12-01T00:00:00.000000000",
          "2019-01-01T00:00:00.000000000",
          "2019-02-01T00:00:00.000000000",
          "2019-03-01T00:00:00.000000000",
          "2019-04-01T00:00:00.000000000",
          "2019-05-01T00:00:00.000000000",
          "2019-06-01T00:00:00.000000000",
          "2019-07-01T00:00:00.000000000",
          "2019-08-01T00:00:00.000000000",
          "2019-09-01T00:00:00.000000000",
          "2019-10-01T00:00:00.000000000",
          "2019-11-01T00:00:00.000000000",
          "2019-12-01T00:00:00.000000000",
          "2020-01-01T00:00:00.000000000",
          "2020-02-01T00:00:00.000000000",
          "2020-03-01T00:00:00.000000000",
          "2020-04-01T00:00:00.000000000",
          "2020-05-01T00:00:00.000000000",
          "2020-06-01T00:00:00.000000000",
          "2020-07-01T00:00:00.000000000",
          "2020-08-01T00:00:00.000000000",
          "2020-09-01T00:00:00.000000000",
          "2020-10-01T00:00:00.000000000",
          "2020-11-01T00:00:00.000000000",
          "2020-12-01T00:00:00.000000000",
          "2021-01-01T00:00:00.000000000",
          "2021-02-01T00:00:00.000000000",
          "2021-03-01T00:00:00.000000000",
          "2021-04-01T00:00:00.000000000",
          "2021-05-01T00:00:00.000000000",
          "2021-06-01T00:00:00.000000000",
          "2021-07-01T00:00:00.000000000",
          "2021-08-01T00:00:00.000000000",
          "2021-09-01T00:00:00.000000000",
          "2021-10-01T00:00:00.000000000",
          "2021-11-01T00:00:00.000000000",
          "2021-12-01T00:00:00.000000000",
          "2022-01-01T00:00:00.000000000",
          "2022-02-01T00:00:00.000000000"
         ],
         "xaxis": "x",
         "y": {
          "bdata": "LQmdlj0/XUBX0JZkVOFaQB8uREIXdVZAYu1qIrQ7WEAocI7od/FZQD1B+VSqd1tAGVrBEesIWEA8vX24QXVaQPFT1fuYmVhAaMNqxu8PW0DiXAphVtZKQO11wAi7FFtAPlKs8MdzXUDSQwTKKHJaQG7j6kL8jFVAWXj3ncB+V0AjSaKTEctXQMuRGvPZJVhA6HfQDsg+VECug2GJU8pYQMKKuhg1k1pAvsLvyRYdXEC+MFwaNyFMQJADmPF4O1lAAqbNgjtXWkAgAomRCDRZQIBJxM7nvlVAnaV27A0uV0BJ+Vundc5bQBzMykWoZVhAXywFxZKwVEB+p4Gbdo9YQMVvAJ1dHllA45B7vfzvWkD+c5rNCwBKQA9ZPHFSAVlASx8JHuSPWkBdr+42odFYQMjJPa4/4FRA0s2btnR7VkC/ueARzKJZQA==",
          "dtype": "f8"
         },
         "yaxis": "y"
        },
        {
         "hovertemplate": "variable=ITA Shipments Index<br>ds=%{x}<br>Value=%{y}<extra></extra>",
         "legendgroup": "ITA Shipments Index",
         "line": {
          "color": "#B6E880",
          "dash": "solid"
         },
         "marker": {
          "symbol": "circle"
         },
         "mode": "lines",
         "name": "ITA Shipments Index",
         "orientation": "v",
         "showlegend": true,
         "type": "scatter",
         "x": [
          "2018-10-01T00:00:00.000000000",
          "2018-11-01T00:00:00.000000000",
          "2018-12-01T00:00:00.000000000",
          "2019-01-01T00:00:00.000000000",
          "2019-02-01T00:00:00.000000000",
          "2019-03-01T00:00:00.000000000",
          "2019-04-01T00:00:00.000000000",
          "2019-05-01T00:00:00.000000000",
          "2019-06-01T00:00:00.000000000",
          "2019-07-01T00:00:00.000000000",
          "2019-08-01T00:00:00.000000000",
          "2019-09-01T00:00:00.000000000",
          "2019-10-01T00:00:00.000000000",
          "2019-11-01T00:00:00.000000000",
          "2019-12-01T00:00:00.000000000",
          "2020-01-01T00:00:00.000000000",
          "2020-02-01T00:00:00.000000000",
          "2020-03-01T00:00:00.000000000",
          "2020-04-01T00:00:00.000000000",
          "2020-05-01T00:00:00.000000000",
          "2020-06-01T00:00:00.000000000",
          "2020-07-01T00:00:00.000000000",
          "2020-08-01T00:00:00.000000000",
          "2020-09-01T00:00:00.000000000",
          "2020-10-01T00:00:00.000000000",
          "2020-11-01T00:00:00.000000000",
          "2020-12-01T00:00:00.000000000",
          "2021-01-01T00:00:00.000000000",
          "2021-02-01T00:00:00.000000000",
          "2021-03-01T00:00:00.000000000",
          "2021-04-01T00:00:00.000000000",
          "2021-05-01T00:00:00.000000000",
          "2021-06-01T00:00:00.000000000",
          "2021-07-01T00:00:00.000000000",
          "2021-08-01T00:00:00.000000000",
          "2021-09-01T00:00:00.000000000",
          "2021-10-01T00:00:00.000000000",
          "2021-11-01T00:00:00.000000000",
          "2021-12-01T00:00:00.000000000",
          "2022-01-01T00:00:00.000000000",
          "2022-02-01T00:00:00.000000000"
         ],
         "xaxis": "x",
         "y": {
          "bdata": "PNyatC6nXkDBbu5GpgNeQFAvNKtZxGBAhsw/K7G5VkCz3RPMNmhZQIc5rskzg11AV0vLtVl/WUARtVAfbo9bQAotHUD8lltA9PU/Hdb+XEDaqAAEsBNRQNWudBT/6lxAHha2Cy5uX0B0C+Bn7FteQAysYgNUAWFA1F0hZtwmVkBx7V0d47tXQE8XvA7lPFxAv4Jzg09WVUB9IBybG49ZQIDFmSp/YF1ALEzn82i7X0BHW0gobFxSQDWEoFi5wVxAdJUXIYoWXUBrSvCxVERdQPbVC+pHO2BAlw3C3UXAV0Bklw29pMJcQHmVo2bMn1xAenK1QFm4VkAM18/pL0VaQD27iP5O01xA5NDrDjzVXkAijJm54upRQKrC40nny1xAuXq9yXTfXUDUKzkR+aZdQIb/qejHgmBA8bd8SohDV0D7L/pH9xZbQA==",
          "dtype": "f8"
         },
         "yaxis": "y"
        },
        {
         "hovertemplate": "variable=JAP Production Index<br>ds=%{x}<br>Value=%{y}<extra></extra>",
         "legendgroup": "JAP Production Index",
         "line": {
          "color": "#FF97FF",
          "dash": "solid"
         },
         "marker": {
          "symbol": "circle"
         },
         "mode": "lines",
         "name": "JAP Production Index",
         "orientation": "v",
         "showlegend": true,
         "type": "scatter",
         "x": [
          "2018-10-01T00:00:00.000000000",
          "2018-11-01T00:00:00.000000000",
          "2018-12-01T00:00:00.000000000",
          "2019-01-01T00:00:00.000000000",
          "2019-02-01T00:00:00.000000000",
          "2019-03-01T00:00:00.000000000",
          "2019-04-01T00:00:00.000000000",
          "2019-05-01T00:00:00.000000000",
          "2019-06-01T00:00:00.000000000",
          "2019-07-01T00:00:00.000000000",
          "2019-08-01T00:00:00.000000000",
          "2019-09-01T00:00:00.000000000",
          "2019-10-01T00:00:00.000000000",
          "2019-11-01T00:00:00.000000000",
          "2019-12-01T00:00:00.000000000",
          "2020-01-01T00:00:00.000000000",
          "2020-02-01T00:00:00.000000000",
          "2020-03-01T00:00:00.000000000",
          "2020-04-01T00:00:00.000000000",
          "2020-05-01T00:00:00.000000000",
          "2020-06-01T00:00:00.000000000",
          "2020-07-01T00:00:00.000000000",
          "2020-08-01T00:00:00.000000000",
          "2020-09-01T00:00:00.000000000",
          "2020-10-01T00:00:00.000000000",
          "2020-11-01T00:00:00.000000000",
          "2020-12-01T00:00:00.000000000",
          "2021-01-01T00:00:00.000000000",
          "2021-02-01T00:00:00.000000000",
          "2021-03-01T00:00:00.000000000",
          "2021-04-01T00:00:00.000000000",
          "2021-05-01T00:00:00.000000000",
          "2021-06-01T00:00:00.000000000",
          "2021-07-01T00:00:00.000000000",
          "2021-08-01T00:00:00.000000000",
          "2021-09-01T00:00:00.000000000",
          "2021-10-01T00:00:00.000000000",
          "2021-11-01T00:00:00.000000000",
          "2021-12-01T00:00:00.000000000",
          "2022-01-01T00:00:00.000000000",
          "2022-02-01T00:00:00.000000000"
         ],
         "xaxis": "x",
         "y": {
          "bdata": "sQ2kCWeVXkCs6gMhivhdQCfspMgs/l9AFHpZDjLMW0C1B+tx6RFdQGiT4fgSnGFAYXRGnHitWkC9HuXcANpaQFECX6j9+1xA0R5ye8FCXUCxiyXYWtdYQMhOiTaHvV9A0VckfKs0W0Cov1vZu21aQG7SfyC1Gl1ADARaxWr2WEDUCFHnY9ZZQPAiQb0pZ2BACYMpSaZcWEAqD17QGORUQCaT3qL+GFpAKkXCvY0yWUCdHsZVDStVQLwavNAizFpAYp1q6NjDWkChYCv6VUlbQBaqpL0EulxAi+nN5PAeWUD1BE9WoeJbQPvYpks2AmJAdWnDUgKVXEDi1hXNtV1bQBT/i5r0T2BAzJKallKRYEALyCnzVhJeQNeOjU9VQWJApEDnyoOrYUCNXnWTCONhQKq9bqAU/WJAq5tPZXNJYUB9XTbPb4tiQA==",
          "dtype": "f8"
         },
         "yaxis": "y"
        },
        {
         "hovertemplate": "variable=JAP Shipments Index<br>ds=%{x}<br>Value=%{y}<extra></extra>",
         "legendgroup": "JAP Shipments Index",
         "line": {
          "color": "#FECB52",
          "dash": "solid"
         },
         "marker": {
          "symbol": "circle"
         },
         "mode": "lines",
         "name": "JAP Shipments Index",
         "orientation": "v",
         "showlegend": true,
         "type": "scatter",
         "x": [
          "2018-10-01T00:00:00.000000000",
          "2018-11-01T00:00:00.000000000",
          "2018-12-01T00:00:00.000000000",
          "2019-01-01T00:00:00.000000000",
          "2019-02-01T00:00:00.000000000",
          "2019-03-01T00:00:00.000000000",
          "2019-04-01T00:00:00.000000000",
          "2019-05-01T00:00:00.000000000",
          "2019-06-01T00:00:00.000000000",
          "2019-07-01T00:00:00.000000000",
          "2019-08-01T00:00:00.000000000",
          "2019-09-01T00:00:00.000000000",
          "2019-10-01T00:00:00.000000000",
          "2019-11-01T00:00:00.000000000",
          "2019-12-01T00:00:00.000000000",
          "2020-01-01T00:00:00.000000000",
          "2020-02-01T00:00:00.000000000",
          "2020-03-01T00:00:00.000000000",
          "2020-04-01T00:00:00.000000000",
          "2020-05-01T00:00:00.000000000",
          "2020-06-01T00:00:00.000000000",
          "2020-07-01T00:00:00.000000000",
          "2020-08-01T00:00:00.000000000",
          "2020-09-01T00:00:00.000000000",
          "2020-10-01T00:00:00.000000000",
          "2020-11-01T00:00:00.000000000",
          "2020-12-01T00:00:00.000000000",
          "2021-01-01T00:00:00.000000000",
          "2021-02-01T00:00:00.000000000",
          "2021-03-01T00:00:00.000000000",
          "2021-04-01T00:00:00.000000000",
          "2021-05-01T00:00:00.000000000",
          "2021-06-01T00:00:00.000000000",
          "2021-07-01T00:00:00.000000000",
          "2021-08-01T00:00:00.000000000",
          "2021-09-01T00:00:00.000000000",
          "2021-10-01T00:00:00.000000000",
          "2021-11-01T00:00:00.000000000",
          "2021-12-01T00:00:00.000000000",
          "2022-01-01T00:00:00.000000000",
          "2022-02-01T00:00:00.000000000"
         ],
         "xaxis": "x",
         "y": {
          "bdata": "EWuVpmmPXkB6Ea0CCiJeQEK5OPbMMGBA6PcPlZHQW0DKjdcYVmldQIeu5SXIGGJAs7U5vez9WUBrch6GJq5aQDM+ACNiJ11AUGw2bk9fXUD98FJLV8tZQAMFuxItZmBAO8TA/5buWkAAbBljnHJaQMFEdZRdYF1AzmF7peTNWEA1XHNEVUNaQDm5xTgk1WBAeT+KOAf4V0BL+LrCJKhUQI5qmp94blpAYihY/VClWUAMu6EIJddVQKF10vIIwltAvNBa/EHhWkA/E10bPn1bQPRnsCVuNV1Ac2Lu3JZ4WUB1INnR7yZcQGNxvHBtlWJAlYItYABgXEBI/mq/zHdbQKvY92aDoGBAYku+tSTtYEBgooUA6D5fQFWkCwc49mJAhpF0NUbgYUA99kwQmCxiQOqK74xaamNAkbH30cGZYUDWe6P0nO5iQA==",
          "dtype": "f8"
         },
         "yaxis": "y"
        },
        {
         "hovertemplate": "variable=SWI Production Index<br>ds=%{x}<br>Value=%{y}<extra></extra>",
         "legendgroup": "SWI Production Index",
         "line": {
          "color": "#636efa",
          "dash": "solid"
         },
         "marker": {
          "symbol": "circle"
         },
         "mode": "lines",
         "name": "SWI Production Index",
         "orientation": "v",
         "showlegend": true,
         "type": "scatter",
         "x": [
          "2018-10-01T00:00:00.000000000",
          "2018-11-01T00:00:00.000000000",
          "2018-12-01T00:00:00.000000000",
          "2019-01-01T00:00:00.000000000",
          "2019-02-01T00:00:00.000000000",
          "2019-03-01T00:00:00.000000000",
          "2019-04-01T00:00:00.000000000",
          "2019-05-01T00:00:00.000000000",
          "2019-06-01T00:00:00.000000000",
          "2019-07-01T00:00:00.000000000",
          "2019-08-01T00:00:00.000000000",
          "2019-09-01T00:00:00.000000000",
          "2019-10-01T00:00:00.000000000",
          "2019-11-01T00:00:00.000000000",
          "2019-12-01T00:00:00.000000000",
          "2020-01-01T00:00:00.000000000",
          "2020-02-01T00:00:00.000000000",
          "2020-03-01T00:00:00.000000000",
          "2020-04-01T00:00:00.000000000",
          "2020-05-01T00:00:00.000000000",
          "2020-06-01T00:00:00.000000000",
          "2020-07-01T00:00:00.000000000",
          "2020-08-01T00:00:00.000000000",
          "2020-09-01T00:00:00.000000000",
          "2020-10-01T00:00:00.000000000",
          "2020-11-01T00:00:00.000000000",
          "2020-12-01T00:00:00.000000000",
          "2021-01-01T00:00:00.000000000",
          "2021-02-01T00:00:00.000000000",
          "2021-03-01T00:00:00.000000000",
          "2021-04-01T00:00:00.000000000",
          "2021-05-01T00:00:00.000000000",
          "2021-06-01T00:00:00.000000000",
          "2021-07-01T00:00:00.000000000",
          "2021-08-01T00:00:00.000000000",
          "2021-09-01T00:00:00.000000000",
          "2021-10-01T00:00:00.000000000",
          "2021-11-01T00:00:00.000000000",
          "2021-12-01T00:00:00.000000000",
          "2022-01-01T00:00:00.000000000",
          "2022-02-01T00:00:00.000000000"
         ],
         "xaxis": "x",
         "y": {
          "bdata": "PixWTvpEW0AysYKgdA9cQBJW4uTu2VxAzelmc8tnW0Ax0RkXqPVZQCxOTbyEg1hAPyReG7FFWEAY5XeC3QdYQMrnzSkKyldA4dZH0zF6WECC0B9XWSpZQLCkDdeA2llA69kApNkKWkC6dH9qMjtaQB2YbCWLa1pAtHsIwJAOWUDk2wpxlrFXQAHmYhacVFZAl34+itZeVUARcNAGEWlUQLIouMFLc1NAjLdnL39+VEC6PdpwsolVQMRE/K7llFZAWG1KedoYV0CyvNFEz5xXQI7NUQDEIFhAvC0nLJt9V0C7yZtpctpWQPRdLKtJN1ZA7Dr0PyVHVkBEyGLmlEhWQCEfgqxBW1ZAs8O+b4f+V0Dqo8UY62dZQCOpYVuu0VpABZ2OZM1rW0DMG/6XPAdcQP/vabZbpVxAzdx7rnL0W0AXasfzB0JbQA==",
          "dtype": "f8"
         },
         "yaxis": "y"
        },
        {
         "hovertemplate": "variable=SWI Shipments Index<br>ds=%{x}<br>Value=%{y}<extra></extra>",
         "legendgroup": "SWI Shipments Index",
         "line": {
          "color": "#EF553B",
          "dash": "solid"
         },
         "marker": {
          "symbol": "circle"
         },
         "mode": "lines",
         "name": "SWI Shipments Index",
         "orientation": "v",
         "showlegend": true,
         "type": "scatter",
         "x": [
          "2018-10-01T00:00:00.000000000",
          "2018-11-01T00:00:00.000000000",
          "2018-12-01T00:00:00.000000000",
          "2019-01-01T00:00:00.000000000",
          "2019-02-01T00:00:00.000000000",
          "2019-03-01T00:00:00.000000000",
          "2019-04-01T00:00:00.000000000",
          "2019-05-01T00:00:00.000000000",
          "2019-06-01T00:00:00.000000000",
          "2019-07-01T00:00:00.000000000",
          "2019-08-01T00:00:00.000000000",
          "2019-09-01T00:00:00.000000000",
          "2019-10-01T00:00:00.000000000",
          "2019-11-01T00:00:00.000000000",
          "2019-12-01T00:00:00.000000000",
          "2020-01-01T00:00:00.000000000",
          "2020-02-01T00:00:00.000000000",
          "2020-03-01T00:00:00.000000000",
          "2020-04-01T00:00:00.000000000",
          "2020-05-01T00:00:00.000000000",
          "2020-06-01T00:00:00.000000000",
          "2020-07-01T00:00:00.000000000",
          "2020-08-01T00:00:00.000000000",
          "2020-09-01T00:00:00.000000000",
          "2020-10-01T00:00:00.000000000",
          "2020-11-01T00:00:00.000000000",
          "2020-12-01T00:00:00.000000000",
          "2021-01-01T00:00:00.000000000",
          "2021-02-01T00:00:00.000000000",
          "2021-03-01T00:00:00.000000000",
          "2021-04-01T00:00:00.000000000",
          "2021-05-01T00:00:00.000000000",
          "2021-06-01T00:00:00.000000000",
          "2021-07-01T00:00:00.000000000",
          "2021-08-01T00:00:00.000000000",
          "2021-09-01T00:00:00.000000000",
          "2021-10-01T00:00:00.000000000",
          "2021-11-01T00:00:00.000000000",
          "2021-12-01T00:00:00.000000000",
          "2022-01-01T00:00:00.000000000",
          "2022-02-01T00:00:00.000000000"
         ],
         "xaxis": "x",
         "y": {
          "bdata": "38qnQBEmWkCX8QGBAOpaQAa95QzvrVtAlqaBJ4ZKWkB95FJnHedYQCXsEuK0g1dAkj7xvTdUV0BSXSwHuyRXQPiMwXc+9VZAt8IPwUaZV0BJeiyqTz1YQIIh4yhY4VhAGVEI4eQJWUAhQZnqcTJZQFDQaz3+WllAwqbbLwYMWEDOyvZEDr1WQNdxlpAWblVAlej2J7KBVEBqkionTpVTQGD3V1HqqFJAv7kWPkaoU0Ay8HjToqdUQLsyy/z+plVAB5YNURksVkBuOEvvM7FWQOT6n95NNldAOQZlHO2cVkDckhmEjANWQB54xyQsalVA9rwq5fWRVUBaqsTdTq9VQMeEd3nJ0FVALq93LupMV0BGAf4rysRYQKZ1aZy22FlADJ7Z0jdsWkBSliCTtgFbQLVYo4F8lltAQY3DfqDwWkDozrV7cktaQA==",
          "dtype": "f8"
         },
         "yaxis": "y"
        }
       ],
       "layout": {
        "legend": {
         "title": {
          "text": "Countries"
         },
         "tracegroupgap": 0
        },
        "template": {
         "data": {
          "bar": [
           {
            "error_x": {
             "color": "#2a3f5f"
            },
            "error_y": {
             "color": "#2a3f5f"
            },
            "marker": {
             "line": {
              "color": "#E5ECF6",
              "width": 0.5
             },
             "pattern": {
              "fillmode": "overlay",
              "size": 10,
              "solidity": 0.2
             }
            },
            "type": "bar"
           }
          ],
          "barpolar": [
           {
            "marker": {
             "line": {
              "color": "#E5ECF6",
              "width": 0.5
             },
             "pattern": {
              "fillmode": "overlay",
              "size": 10,
              "solidity": 0.2
             }
            },
            "type": "barpolar"
           }
          ],
          "carpet": [
           {
            "aaxis": {
             "endlinecolor": "#2a3f5f",
             "gridcolor": "white",
             "linecolor": "white",
             "minorgridcolor": "white",
             "startlinecolor": "#2a3f5f"
            },
            "baxis": {
             "endlinecolor": "#2a3f5f",
             "gridcolor": "white",
             "linecolor": "white",
             "minorgridcolor": "white",
             "startlinecolor": "#2a3f5f"
            },
            "type": "carpet"
           }
          ],
          "choropleth": [
           {
            "colorbar": {
             "outlinewidth": 0,
             "ticks": ""
            },
            "type": "choropleth"
           }
          ],
          "contour": [
           {
            "colorbar": {
             "outlinewidth": 0,
             "ticks": ""
            },
            "colorscale": [
             [
              0,
              "#0d0887"
             ],
             [
              0.1111111111111111,
              "#46039f"
             ],
             [
              0.2222222222222222,
              "#7201a8"
             ],
             [
              0.3333333333333333,
              "#9c179e"
             ],
             [
              0.4444444444444444,
              "#bd3786"
             ],
             [
              0.5555555555555556,
              "#d8576b"
             ],
             [
              0.6666666666666666,
              "#ed7953"
             ],
             [
              0.7777777777777778,
              "#fb9f3a"
             ],
             [
              0.8888888888888888,
              "#fdca26"
             ],
             [
              1,
              "#f0f921"
             ]
            ],
            "type": "contour"
           }
          ],
          "contourcarpet": [
           {
            "colorbar": {
             "outlinewidth": 0,
             "ticks": ""
            },
            "type": "contourcarpet"
           }
          ],
          "heatmap": [
           {
            "colorbar": {
             "outlinewidth": 0,
             "ticks": ""
            },
            "colorscale": [
             [
              0,
              "#0d0887"
             ],
             [
              0.1111111111111111,
              "#46039f"
             ],
             [
              0.2222222222222222,
              "#7201a8"
             ],
             [
              0.3333333333333333,
              "#9c179e"
             ],
             [
              0.4444444444444444,
              "#bd3786"
             ],
             [
              0.5555555555555556,
              "#d8576b"
             ],
             [
              0.6666666666666666,
              "#ed7953"
             ],
             [
              0.7777777777777778,
              "#fb9f3a"
             ],
             [
              0.8888888888888888,
              "#fdca26"
             ],
             [
              1,
              "#f0f921"
             ]
            ],
            "type": "heatmap"
           }
          ],
          "histogram": [
           {
            "marker": {
             "pattern": {
              "fillmode": "overlay",
              "size": 10,
              "solidity": 0.2
             }
            },
            "type": "histogram"
           }
          ],
          "histogram2d": [
           {
            "colorbar": {
             "outlinewidth": 0,
             "ticks": ""
            },
            "colorscale": [
             [
              0,
              "#0d0887"
             ],
             [
              0.1111111111111111,
              "#46039f"
             ],
             [
              0.2222222222222222,
              "#7201a8"
             ],
             [
              0.3333333333333333,
              "#9c179e"
             ],
             [
              0.4444444444444444,
              "#bd3786"
             ],
             [
              0.5555555555555556,
              "#d8576b"
             ],
             [
              0.6666666666666666,
              "#ed7953"
             ],
             [
              0.7777777777777778,
              "#fb9f3a"
             ],
             [
              0.8888888888888888,
              "#fdca26"
             ],
             [
              1,
              "#f0f921"
             ]
            ],
            "type": "histogram2d"
           }
          ],
          "histogram2dcontour": [
           {
            "colorbar": {
             "outlinewidth": 0,
             "ticks": ""
            },
            "colorscale": [
             [
              0,
              "#0d0887"
             ],
             [
              0.1111111111111111,
              "#46039f"
             ],
             [
              0.2222222222222222,
              "#7201a8"
             ],
             [
              0.3333333333333333,
              "#9c179e"
             ],
             [
              0.4444444444444444,
              "#bd3786"
             ],
             [
              0.5555555555555556,
              "#d8576b"
             ],
             [
              0.6666666666666666,
              "#ed7953"
             ],
             [
              0.7777777777777778,
              "#fb9f3a"
             ],
             [
              0.8888888888888888,
              "#fdca26"
             ],
             [
              1,
              "#f0f921"
             ]
            ],
            "type": "histogram2dcontour"
           }
          ],
          "mesh3d": [
           {
            "colorbar": {
             "outlinewidth": 0,
             "ticks": ""
            },
            "type": "mesh3d"
           }
          ],
          "parcoords": [
           {
            "line": {
             "colorbar": {
              "outlinewidth": 0,
              "ticks": ""
             }
            },
            "type": "parcoords"
           }
          ],
          "pie": [
           {
            "automargin": true,
            "type": "pie"
           }
          ],
          "scatter": [
           {
            "fillpattern": {
             "fillmode": "overlay",
             "size": 10,
             "solidity": 0.2
            },
            "type": "scatter"
           }
          ],
          "scatter3d": [
           {
            "line": {
             "colorbar": {
              "outlinewidth": 0,
              "ticks": ""
             }
            },
            "marker": {
             "colorbar": {
              "outlinewidth": 0,
              "ticks": ""
             }
            },
            "type": "scatter3d"
           }
          ],
          "scattercarpet": [
           {
            "marker": {
             "colorbar": {
              "outlinewidth": 0,
              "ticks": ""
             }
            },
            "type": "scattercarpet"
           }
          ],
          "scattergeo": [
           {
            "marker": {
             "colorbar": {
              "outlinewidth": 0,
              "ticks": ""
             }
            },
            "type": "scattergeo"
           }
          ],
          "scattergl": [
           {
            "marker": {
             "colorbar": {
              "outlinewidth": 0,
              "ticks": ""
             }
            },
            "type": "scattergl"
           }
          ],
          "scattermap": [
           {
            "marker": {
             "colorbar": {
              "outlinewidth": 0,
              "ticks": ""
             }
            },
            "type": "scattermap"
           }
          ],
          "scattermapbox": [
           {
            "marker": {
             "colorbar": {
              "outlinewidth": 0,
              "ticks": ""
             }
            },
            "type": "scattermapbox"
           }
          ],
          "scatterpolar": [
           {
            "marker": {
             "colorbar": {
              "outlinewidth": 0,
              "ticks": ""
             }
            },
            "type": "scatterpolar"
           }
          ],
          "scatterpolargl": [
           {
            "marker": {
             "colorbar": {
              "outlinewidth": 0,
              "ticks": ""
             }
            },
            "type": "scatterpolargl"
           }
          ],
          "scatterternary": [
           {
            "marker": {
             "colorbar": {
              "outlinewidth": 0,
              "ticks": ""
             }
            },
            "type": "scatterternary"
           }
          ],
          "surface": [
           {
            "colorbar": {
             "outlinewidth": 0,
             "ticks": ""
            },
            "colorscale": [
             [
              0,
              "#0d0887"
             ],
             [
              0.1111111111111111,
              "#46039f"
             ],
             [
              0.2222222222222222,
              "#7201a8"
             ],
             [
              0.3333333333333333,
              "#9c179e"
             ],
             [
              0.4444444444444444,
              "#bd3786"
             ],
             [
              0.5555555555555556,
              "#d8576b"
             ],
             [
              0.6666666666666666,
              "#ed7953"
             ],
             [
              0.7777777777777778,
              "#fb9f3a"
             ],
             [
              0.8888888888888888,
              "#fdca26"
             ],
             [
              1,
              "#f0f921"
             ]
            ],
            "type": "surface"
           }
          ],
          "table": [
           {
            "cells": {
             "fill": {
              "color": "#EBF0F8"
             },
             "line": {
              "color": "white"
             }
            },
            "header": {
             "fill": {
              "color": "#C8D4E3"
             },
             "line": {
              "color": "white"
             }
            },
            "type": "table"
           }
          ]
         },
         "layout": {
          "annotationdefaults": {
           "arrowcolor": "#2a3f5f",
           "arrowhead": 0,
           "arrowwidth": 1
          },
          "autotypenumbers": "strict",
          "coloraxis": {
           "colorbar": {
            "outlinewidth": 0,
            "ticks": ""
           }
          },
          "colorscale": {
           "diverging": [
            [
             0,
             "#8e0152"
            ],
            [
             0.1,
             "#c51b7d"
            ],
            [
             0.2,
             "#de77ae"
            ],
            [
             0.3,
             "#f1b6da"
            ],
            [
             0.4,
             "#fde0ef"
            ],
            [
             0.5,
             "#f7f7f7"
            ],
            [
             0.6,
             "#e6f5d0"
            ],
            [
             0.7,
             "#b8e186"
            ],
            [
             0.8,
             "#7fbc41"
            ],
            [
             0.9,
             "#4d9221"
            ],
            [
             1,
             "#276419"
            ]
           ],
           "sequential": [
            [
             0,
             "#0d0887"
            ],
            [
             0.1111111111111111,
             "#46039f"
            ],
            [
             0.2222222222222222,
             "#7201a8"
            ],
            [
             0.3333333333333333,
             "#9c179e"
            ],
            [
             0.4444444444444444,
             "#bd3786"
            ],
            [
             0.5555555555555556,
             "#d8576b"
            ],
            [
             0.6666666666666666,
             "#ed7953"
            ],
            [
             0.7777777777777778,
             "#fb9f3a"
            ],
            [
             0.8888888888888888,
             "#fdca26"
            ],
            [
             1,
             "#f0f921"
            ]
           ],
           "sequentialminus": [
            [
             0,
             "#0d0887"
            ],
            [
             0.1111111111111111,
             "#46039f"
            ],
            [
             0.2222222222222222,
             "#7201a8"
            ],
            [
             0.3333333333333333,
             "#9c179e"
            ],
            [
             0.4444444444444444,
             "#bd3786"
            ],
            [
             0.5555555555555556,
             "#d8576b"
            ],
            [
             0.6666666666666666,
             "#ed7953"
            ],
            [
             0.7777777777777778,
             "#fb9f3a"
            ],
            [
             0.8888888888888888,
             "#fdca26"
            ],
            [
             1,
             "#f0f921"
            ]
           ]
          },
          "colorway": [
           "#636efa",
           "#EF553B",
           "#00cc96",
           "#ab63fa",
           "#FFA15A",
           "#19d3f3",
           "#FF6692",
           "#B6E880",
           "#FF97FF",
           "#FECB52"
          ],
          "font": {
           "color": "#2a3f5f"
          },
          "geo": {
           "bgcolor": "white",
           "lakecolor": "white",
           "landcolor": "#E5ECF6",
           "showlakes": true,
           "showland": true,
           "subunitcolor": "white"
          },
          "hoverlabel": {
           "align": "left"
          },
          "hovermode": "closest",
          "mapbox": {
           "style": "light"
          },
          "paper_bgcolor": "white",
          "plot_bgcolor": "#E5ECF6",
          "polar": {
           "angularaxis": {
            "gridcolor": "white",
            "linecolor": "white",
            "ticks": ""
           },
           "bgcolor": "#E5ECF6",
           "radialaxis": {
            "gridcolor": "white",
            "linecolor": "white",
            "ticks": ""
           }
          },
          "scene": {
           "xaxis": {
            "backgroundcolor": "#E5ECF6",
            "gridcolor": "white",
            "gridwidth": 2,
            "linecolor": "white",
            "showbackground": true,
            "ticks": "",
            "zerolinecolor": "white"
           },
           "yaxis": {
            "backgroundcolor": "#E5ECF6",
            "gridcolor": "white",
            "gridwidth": 2,
            "linecolor": "white",
            "showbackground": true,
            "ticks": "",
            "zerolinecolor": "white"
           },
           "zaxis": {
            "backgroundcolor": "#E5ECF6",
            "gridcolor": "white",
            "gridwidth": 2,
            "linecolor": "white",
            "showbackground": true,
            "ticks": "",
            "zerolinecolor": "white"
           }
          },
          "shapedefaults": {
           "line": {
            "color": "#2a3f5f"
           }
          },
          "ternary": {
           "aaxis": {
            "gridcolor": "white",
            "linecolor": "white",
            "ticks": ""
           },
           "baxis": {
            "gridcolor": "white",
            "linecolor": "white",
            "ticks": ""
           },
           "bgcolor": "#E5ECF6",
           "caxis": {
            "gridcolor": "white",
            "linecolor": "white",
            "ticks": ""
           }
          },
          "title": {
           "x": 0.05
          },
          "xaxis": {
           "automargin": true,
           "gridcolor": "white",
           "linecolor": "white",
           "ticks": "",
           "title": {
            "standoff": 15
           },
           "zerolinecolor": "white",
           "zerolinewidth": 2
          },
          "yaxis": {
           "automargin": true,
           "gridcolor": "white",
           "linecolor": "white",
           "ticks": "",
           "title": {
            "standoff": 15
           },
           "zerolinecolor": "white",
           "zerolinewidth": 2
          }
         }
        },
        "title": {
         "text": "Future Values"
        },
        "xaxis": {
         "anchor": "y",
         "domain": [
          0,
          1
         ],
         "title": {
          "text": "Date"
         }
        },
        "yaxis": {
         "anchor": "x",
         "domain": [
          0,
          1
         ],
         "title": {
          "text": "Value"
         }
        }
       }
      }
     },
     "metadata": {},
     "output_type": "display_data"
    }
   ],
   "source": [
    "fig = px.line(future_data_predictions, x=future_data_predictions.index, y=future_data_predictions.columns, title=\"Future Values\",\n",
    "              labels={\"value\": \"Value\", \"TIME_PERIOD\": \"Date\"})\n",
    "fig.update_layout(xaxis_title=\"Date\", yaxis_title=\"Value\", \n",
    "                  legend_title=\"Countries\")\n",
    "fig.show()"
   ]
  },
  {
   "cell_type": "code",
   "execution_count": null,
   "metadata": {},
   "outputs": [],
   "source": []
  }
 ],
 "metadata": {
  "kernelspec": {
   "display_name": "BCwDS",
   "language": "python",
   "name": "python3"
  },
  "language_info": {
   "codemirror_mode": {
    "name": "ipython",
    "version": 3
   },
   "file_extension": ".py",
   "mimetype": "text/x-python",
   "name": "python",
   "nbconvert_exporter": "python",
   "pygments_lexer": "ipython3",
   "version": "3.13.2"
  }
 },
 "nbformat": 4,
 "nbformat_minor": 2
}
