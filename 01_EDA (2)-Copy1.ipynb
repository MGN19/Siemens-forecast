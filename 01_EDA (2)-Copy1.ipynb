{
 "cells": [
  {
   "cell_type": "markdown",
   "id": "2b2fc52a-24fb-4483-a550-0656a5ed2886",
   "metadata": {},
   "source": [
    "<div style=\"overflow:auto;\">\n",
    "    <div style=\"float:left; margin-right:10px;\">\n",
    "        <img width='120' height='120' src='https://cityme.novaims.unl.pt/images/footer/novaims.png'>\n",
    "    </div>\n",
    "\n",
    "# <p align=\"center\">Siemens Sales Forecast</p>\n",
    "\n",
    "---\n",
    "\n",
    "## <p align=\"center\">*1 - Exploratory Data Analysis & Pre-processing*</p>\n",
    "\n",
    "---\n",
    "\n",
    "### 👥 **Team Members**\n",
    "- **Ana Farinha** *(Student Number: 20211514)*  \n",
    "- **António Oliveira** *(Student Number: 20211595)*  \n",
    "- **Mariana Neto** *(Student Number: 20211527)*  \n",
    "- **Salvador Domingues** *(Student Number: 20240597)*  \n",
    "\n",
    "📅 **Date:** *April 1, 2025*  \n",
    "📍 **Prepared for:** *Siemens*  \n",
    "\n",
    "**GitHub Repo:** https://github.com/MGN19/Siemens-forecast\n",
    "\n",
    "---"
   ]
  },
  {
   "cell_type": "markdown",
   "id": "6301bf99-85de-47a2-99f7-3a93abd61a7b",
   "metadata": {},
   "source": [
    "# ToC\n",
    "\n",
    "<a class=\"anchor\" id=\"top\"></a>\n",
    "\n",
    "\n",
    "1. [Import Libraries & Data](#1.-Import-Libraries-&-Data) <br>\n",
    "\n",
    "2. [Data Wrangling](#2.-Data-Wrangling) <br>\n",
    "\n",
    "    2.1 [Sales Data](#2.1-Sales-Data) <br>\n",
    "    \n",
    "    2.2 [Market Data](#2.2-Market-Data) <br>\n",
    "\n",
    "3. [Data Exploration](#3.-Data-Exploration) <br>\n",
    "\n",
    "4. [Feature Exploration](#4.-Feature-Exploration) <br>\n",
    "\n",
    "5. [Data Cleaning & Preprocessing](#5.-Data-Cleaning-&-Preprocessing) <br>\n",
    "\n",
    "    5.1 [Duplicates](#5.1-Duplicates) <br>\n",
    "\n",
    "    5.2 [Extra Data](#5.2-Extra-Data) <br>\n",
    "\n",
    "    5.3 [Train-Validation Split](#5.3-Train-Validation-Split) <br>\n",
    "    \n",
    "    5.4 [Missing Values](#5.4-Missing-Values) <br>\n",
    "    \n",
    "    5.5 [Statistical Tests](#5.5-Statistical-Tests) <br>\n",
    "    \n",
    "    5.6 [Feature Engineering](#5.6-Feature-Engineering) <br>\n",
    "    \n",
    "    5.7 [Outliers](#5.7-Outliers) <br>\n",
    "    \n",
    "6. [Final Datasets](#6-Final-Datasets) <br>"
   ]
  },
  {
   "cell_type": "markdown",
   "id": "94bff6e1",
   "metadata": {},
   "source": [
    "# 1. Import Libraries & Data"
   ]
  },
  {
   "cell_type": "code",
   "execution_count": null,
   "id": "0794e44e",
   "metadata": {
    "ExecuteTime": {
     "end_time": "2025-03-25T15:41:10.262904Z",
     "start_time": "2025-03-25T15:41:10.258924Z"
    }
   },
   "outputs": [],
   "source": [
    "import pandas as pd\n",
    "import numpy as np\n",
    "import matplotlib.pyplot as plt\n",
    "import plotly.graph_objects as go\n",
    "import seaborn as sns\n",
    "\n",
    "#from ydata_profiling import ProfileReport\n",
    "\n",
    "import missingno as msno\n",
    "from sklearn.impute import KNNImputer\n",
    "from sklearn.preprocessing import RobustScaler\n",
    "from sklearn.pipeline import Pipeline\n",
    "import os\n",
    "\n",
    "# Suppress Warnings\n",
    "import warnings\n",
    "warnings.filterwarnings(\"ignore\")\n",
    "\n",
    "# External Files\n",
    "import functions as f\n",
    "import utils as u\n",
    "import statistical_tests as st\n",
    "import fs_modelling as fs\n",
    "\n",
    "\n",
    "pd.set_option('display.max_columns', None)"
   ]
  },
  {
   "cell_type": "markdown",
   "id": "948b55ad-ee0c-4b19-ba33-2218f0b0c56c",
   "metadata": {},
   "source": [
    "**Data**"
   ]
  },
  {
   "cell_type": "code",
   "execution_count": null,
   "id": "54c181cc",
   "metadata": {
    "ExecuteTime": {
     "end_time": "2025-03-25T15:41:10.381525Z",
     "start_time": "2025-03-25T15:41:10.265183Z"
    },
    "scrolled": true
   },
   "outputs": [],
   "source": [
    "test = pd.read_csv('data/Case2_Test Set Template.csv', \n",
    "                 sep = ';')\n",
    "\n",
    "sales_data = pd.read_csv('./data/Case2_Sales data.csv', \n",
    "                 sep = ';')\n",
    "\n",
    "market_data = pd.read_excel('./data/Case2_Market data.xlsx', \n",
    "                            index_col = 'Unnamed: 0')\n"
   ]
  },
  {
   "cell_type": "markdown",
   "id": "5707179d",
   "metadata": {},
   "source": [
    "# 2. Data Wrangling\n",
    "\n",
    "<a href=\"#top\">Top &#129033;</a>"
   ]
  },
  {
   "cell_type": "markdown",
   "id": "dfeb0fe9",
   "metadata": {},
   "source": [
    "In this section, we will modify the datasets as needed to improve the results of the forecasting."
   ]
  },
  {
   "cell_type": "markdown",
   "id": "70fbb3cb",
   "metadata": {},
   "source": [
    "## 2.1 Sales Data\n"
   ]
  },
  {
   "cell_type": "code",
   "execution_count": null,
   "id": "ca4537a2",
   "metadata": {
    "ExecuteTime": {
     "end_time": "2025-03-25T15:41:10.388887Z",
     "start_time": "2025-03-25T15:41:10.383692Z"
    }
   },
   "outputs": [],
   "source": [
    "sales_data.head(2)"
   ]
  },
  {
   "cell_type": "markdown",
   "id": "50b2c095",
   "metadata": {},
   "source": [
    "**Exploring the dataset structure with .info() method**\n",
    "\n",
    "The `.info()` method provides more information about the dataset, including the existence of missing values and the data type of the elements of each row."
   ]
  },
  {
   "cell_type": "code",
   "execution_count": null,
   "id": "96eef2bd",
   "metadata": {
    "ExecuteTime": {
     "end_time": "2025-03-25T15:41:10.396859Z",
     "start_time": "2025-03-25T15:41:10.390330Z"
    }
   },
   "outputs": [],
   "source": [
    "sales_data.info()"
   ]
  },
  {
   "cell_type": "markdown",
   "id": "d4097197",
   "metadata": {},
   "source": [
    "With the information above, we can see the following:\n",
    "- all of the columns in this dataset are categorical variables. For analysis purposes, the `DATE` column will be transformed into a date format, and the `Sales_EUR` column into a float. \n",
    "- we can also see that there might not be any missing values in any of the columns of the dataset.\n",
    "\n",
    "Based on this, we will first change the data types of these 2 columns identified so that analysis can be proprerly made."
   ]
  },
  {
   "cell_type": "code",
   "execution_count": null,
   "id": "51d59885",
   "metadata": {
    "ExecuteTime": {
     "end_time": "2025-03-25T15:41:10.410570Z",
     "start_time": "2025-03-25T15:41:10.399181Z"
    }
   },
   "outputs": [],
   "source": [
    "# convert to datetime\n",
    "sales_data['DATE'] = pd.to_datetime(sales_data['DATE'], \n",
    "                                    format='%d.%m.%Y')\n",
    "\n",
    "# convert to numbers\n",
    "sales_data['Sales_EUR'] = sales_data['Sales_EUR'].apply(lambda x: x.replace(',', '.')).astype(float)\n",
    "pd.options.display.float_format = '{:.2f}'.format\n",
    "\n",
    "sales_data.head(1)"
   ]
  },
  {
   "cell_type": "markdown",
   "id": "3d909eef",
   "metadata": {},
   "source": [
    "**Convert to Monthly Data**"
   ]
  },
  {
   "cell_type": "markdown",
   "id": "36da5ace",
   "metadata": {},
   "source": [
    "Since the `test` dataset has monthly data, we will perform **downsampling** and reduce the frequency from daily to monthly sales data."
   ]
  },
  {
   "cell_type": "code",
   "execution_count": null,
   "id": "66cdb2c4",
   "metadata": {
    "ExecuteTime": {
     "end_time": "2025-03-25T15:41:10.421621Z",
     "start_time": "2025-03-25T15:41:10.412369Z"
    }
   },
   "outputs": [],
   "source": [
    "# convert to montlhy sales\n",
    "sales_data[\"Date\"] = sales_data[\"DATE\"].dt.to_period(\"M\")\n",
    "monthly_sales = sales_data.groupby([\"Date\", \n",
    "                                     \"Mapped_GCK\"]).agg({\"Sales_EUR\": \"sum\"}).reset_index()\n",
    "\n",
    "monthly_sales.head(7)"
   ]
  },
  {
   "cell_type": "markdown",
   "id": "b6cf7d00",
   "metadata": {},
   "source": [
    "Make each Product categ a column"
   ]
  },
  {
   "cell_type": "code",
   "execution_count": null,
   "id": "9df6d582",
   "metadata": {
    "ExecuteTime": {
     "end_time": "2025-03-25T15:41:10.427695Z",
     "start_time": "2025-03-25T15:41:10.422897Z"
    }
   },
   "outputs": [],
   "source": [
    "new_monthly_sales = monthly_sales.pivot(index='Date', \n",
    "                                 columns='Mapped_GCK', \n",
    "                                 values='Sales_EUR')"
   ]
  },
  {
   "cell_type": "markdown",
   "id": "da9fe625",
   "metadata": {},
   "source": [
    "**Save index as timestamp**"
   ]
  },
  {
   "cell_type": "markdown",
   "id": "6018ab55",
   "metadata": {},
   "source": [
    "As the index is as `PeriodIndex` (e.g., \"2025-03\"). By converting to a `TimestampIndex`, we transform the index into datetime object, like 2025-03-01, making it easier to perform certain operations, for instance to visualize sales per month."
   ]
  },
  {
   "cell_type": "code",
   "execution_count": null,
   "id": "9937acd6",
   "metadata": {
    "ExecuteTime": {
     "end_time": "2025-03-25T15:41:10.431762Z",
     "start_time": "2025-03-25T15:41:10.429046Z"
    }
   },
   "outputs": [],
   "source": [
    "new_monthly_sales.index = new_monthly_sales.index.to_timestamp()"
   ]
  },
  {
   "cell_type": "markdown",
   "id": "0e69b3e3",
   "metadata": {},
   "source": [
    "**Reorder Columns**\n",
    "\n",
    "Sorting the products group ascending."
   ]
  },
  {
   "cell_type": "code",
   "execution_count": null,
   "id": "0dd29d68",
   "metadata": {
    "ExecuteTime": {
     "end_time": "2025-03-25T15:41:10.441516Z",
     "start_time": "2025-03-25T15:41:10.433194Z"
    }
   },
   "outputs": [],
   "source": [
    "new_order = ['#1', '#3', '#4', '#5', '#6', '#8', '#9', \n",
    "             '#11', '#12', '#13', '#14', '#16', '#20', \n",
    "             '#36']\n",
    "\n",
    "new_monthly_sales = new_monthly_sales[new_order]\n",
    "new_monthly_sales.head(3)"
   ]
  },
  {
   "cell_type": "markdown",
   "id": "84ef0417",
   "metadata": {},
   "source": [
    "<br>\n",
    "\n",
    "## 2.2 Market Data\n",
    "\n",
    "<a href=\"#top\">Top &#129033;</a>"
   ]
  },
  {
   "cell_type": "code",
   "execution_count": null,
   "id": "f75787e3",
   "metadata": {
    "ExecuteTime": {
     "end_time": "2025-03-25T15:41:10.460466Z",
     "start_time": "2025-03-25T15:41:10.442967Z"
    }
   },
   "outputs": [],
   "source": [
    "market_data.head(3)"
   ]
  },
  {
   "cell_type": "markdown",
   "id": "e2e09ded",
   "metadata": {},
   "source": [
    "As this dataset is not well structured and difficult to interpret, we will make changes on its structure, in terms of columns names. We can see that there are for each different country its production and shipment index for Machinery and Eletricals, producer prices, production index for machinery and equipment and for electrical equipment. It also has prices for natural resources and the conversion of euros to local current units of the country."
   ]
  },
  {
   "cell_type": "code",
   "execution_count": null,
   "id": "6d05ba87",
   "metadata": {
    "ExecuteTime": {
     "end_time": "2025-03-25T15:41:10.470756Z",
     "start_time": "2025-03-25T15:41:10.463977Z"
    }
   },
   "outputs": [],
   "source": [
    "info = market_data.T.iloc[:, :2]\n",
    "info"
   ]
  },
  {
   "cell_type": "markdown",
   "id": "471ee1e6",
   "metadata": {},
   "source": [
    "**Rename Cols**"
   ]
  },
  {
   "cell_type": "code",
   "execution_count": null,
   "id": "1aee22d7",
   "metadata": {
    "ExecuteTime": {
     "end_time": "2025-03-25T15:41:10.474916Z",
     "start_time": "2025-03-25T15:41:10.472298Z"
    }
   },
   "outputs": [],
   "source": [
    "market_data = market_data.rename(columns = u.rename_dict)"
   ]
  },
  {
   "cell_type": "markdown",
   "id": "88b85581",
   "metadata": {},
   "source": [
    "**Remove unnecessary rows**"
   ]
  },
  {
   "cell_type": "code",
   "execution_count": null,
   "id": "17575429",
   "metadata": {
    "ExecuteTime": {
     "end_time": "2025-03-25T15:41:10.498433Z",
     "start_time": "2025-03-25T15:41:10.476264Z"
    }
   },
   "outputs": [],
   "source": [
    "market_data = market_data.reset_index()\n",
    "market_data = market_data[2:]\n",
    "market_data.rename(columns={'index': 'Date'}, inplace=True)\n",
    "market_data"
   ]
  },
  {
   "cell_type": "markdown",
   "id": "4c4a2c89",
   "metadata": {},
   "source": [
    "**Convert dates to datetime**"
   ]
  },
  {
   "cell_type": "code",
   "execution_count": null,
   "id": "2ef87199",
   "metadata": {
    "ExecuteTime": {
     "end_time": "2025-03-25T15:41:10.506193Z",
     "start_time": "2025-03-25T15:41:10.499783Z"
    }
   },
   "outputs": [],
   "source": [
    "# convert to datetime\n",
    "market_data[\"Year\"] = market_data[\"Date\"].str.extract(r\"(\\d{4})\").astype(int)\n",
    "market_data[\"Month\"] = market_data[\"Date\"].str.extract(r\"m(\\d{1,2})\").astype(int)\n",
    "\n",
    "market_data[\"Date\"] = pd.to_datetime(market_data[\"Year\"].astype(str) + \"-\" + market_data[\"Month\"].astype(str), format=\"%Y-%m\").dt.to_period(\"M\")\n",
    "\n",
    "market_data.drop(['Year', 'Month'], axis = 1, inplace = True)"
   ]
  },
  {
   "cell_type": "markdown",
   "id": "b6fb2fb2",
   "metadata": {},
   "source": [
    "**Convert numbers to float**"
   ]
  },
  {
   "cell_type": "code",
   "execution_count": null,
   "id": "a34cac63",
   "metadata": {
    "ExecuteTime": {
     "end_time": "2025-03-25T15:41:10.540826Z",
     "start_time": "2025-03-25T15:41:10.507603Z"
    }
   },
   "outputs": [],
   "source": [
    "for column in market_data.columns:\n",
    "    if column in ['Date', 'Month', 'Year']:\n",
    "        continue\n",
    "    else:\n",
    "        market_data[column] = market_data[column].astype(str).str.replace(',', '.', regex=False)\n",
    "        market_data[column] = pd.to_numeric(market_data[column], errors='coerce')"
   ]
  },
  {
   "cell_type": "code",
   "execution_count": null,
   "id": "35d7f340",
   "metadata": {
    "ExecuteTime": {
     "end_time": "2025-03-25T15:41:10.545317Z",
     "start_time": "2025-03-25T15:41:10.542358Z"
    }
   },
   "outputs": [],
   "source": [
    "market_data.set_index('Date', inplace=True)"
   ]
  },
  {
   "cell_type": "markdown",
   "id": "c45310bf",
   "metadata": {},
   "source": [
    "**Save index as timestamp**"
   ]
  },
  {
   "cell_type": "code",
   "execution_count": null,
   "id": "3c2e23ea",
   "metadata": {
    "ExecuteTime": {
     "end_time": "2025-03-25T15:41:10.549693Z",
     "start_time": "2025-03-25T15:41:10.546907Z"
    }
   },
   "outputs": [],
   "source": [
    "market_data.index = market_data.index.to_timestamp()"
   ]
  },
  {
   "cell_type": "code",
   "execution_count": null,
   "id": "fe6ba4ed",
   "metadata": {
    "ExecuteTime": {
     "end_time": "2025-03-25T15:41:10.565908Z",
     "start_time": "2025-03-25T15:41:10.550947Z"
    }
   },
   "outputs": [],
   "source": [
    "market_data.head(4)"
   ]
  },
  {
   "cell_type": "markdown",
   "id": "05cf8ceb",
   "metadata": {},
   "source": [
    "<br>\n",
    "\n",
    "# 3. Data Exploration\n",
    "\n",
    "<a href=\"#top\">Top &#129033;</a>"
   ]
  },
  {
   "cell_type": "markdown",
   "id": "3a2a9ab6",
   "metadata": {},
   "source": [
    "## 3.1 Sales data"
   ]
  },
  {
   "cell_type": "code",
   "execution_count": null,
   "id": "a76a2079",
   "metadata": {
    "ExecuteTime": {
     "end_time": "2025-03-23T14:30:47.573454Z",
     "start_time": "2025-03-23T14:30:47.571140Z"
    }
   },
   "outputs": [],
   "source": [
    "# profile = ProfileReport(\n",
    "#     new_monthly_sales, \n",
    "#     title='Data',\n",
    "#     correlations={\n",
    "#         \"pearson\": {\"calculate\": True},\n",
    "#         \"spearman\": {\"calculate\": False},\n",
    "#         \"kendall\": {\"calculate\": False},\n",
    "#         \"phi_k\": {\"calculate\": False},\n",
    "#         \"cramers\": {\"calculate\": False},\n",
    "#     },\n",
    "# )\n",
    "\n",
    "# profile"
   ]
  },
  {
   "cell_type": "markdown",
   "id": "a35e90e6",
   "metadata": {},
   "source": [
    "- #11 is highly overall correlated with #8\t\n",
    "- #12 is highly overall correlated with #3 and 1 other fields\t\n",
    "- #3 is highly overall correlated with #12 and 1 other fields\t\n",
    "- #5 is highly overall correlated with #3\t\n",
    "- #8 is highly overall correlated with #11 and 2 other fields"
   ]
  },
  {
   "cell_type": "markdown",
   "id": "66262e0a",
   "metadata": {},
   "source": [
    "<br>\n",
    "\n",
    "**Statistics**\n",
    "\n",
    "By using the `describe()` method we get different statistical measurements, such as mean and standard deviation, for the various features."
   ]
  },
  {
   "cell_type": "code",
   "execution_count": null,
   "id": "79cbdbb6",
   "metadata": {
    "ExecuteTime": {
     "end_time": "2025-03-23T14:30:47.601872Z",
     "start_time": "2025-03-23T14:30:47.575335Z"
    }
   },
   "outputs": [],
   "source": [
    "new_monthly_sales.describe().T"
   ]
  },
  {
   "cell_type": "markdown",
   "id": "e4b144da",
   "metadata": {},
   "source": [
    "From a first overview, we can see the following:\n",
    "\n",
    "- No missing entries, as all columns have 43 observations\n",
    "- Product category #6, #9, #14 have negative sales, this might be due to returns of the products\n",
    "- There is one month where product category #20 was not sold\n",
    "- Product category #1, seems to have the highest sales performance among other product categories. This based on minimum, maximum and quartile values. Followed by product category #3\n",
    "- Product category #20 has lowest sales."
   ]
  },
  {
   "cell_type": "markdown",
   "id": "7a00118b",
   "metadata": {},
   "source": [
    "<br>\n",
    "\n",
    "## 3.2 Market Data"
   ]
  },
  {
   "cell_type": "code",
   "execution_count": null,
   "id": "3fa219b5",
   "metadata": {
    "ExecuteTime": {
     "end_time": "2025-03-23T14:30:47.605591Z",
     "start_time": "2025-03-23T14:30:47.603384Z"
    }
   },
   "outputs": [],
   "source": [
    "# profile2 = ProfileReport(\n",
    "#     market_data, \n",
    "#     title='Data',\n",
    "#     correlations={\n",
    "#         \"pearson\": {\"calculate\": True},\n",
    "#         \"spearman\": {\"calculate\": False},\n",
    "#         \"kendall\": {\"calculate\": False},\n",
    "#         \"phi_k\": {\"calculate\": False},\n",
    "#         \"cramers\": {\"calculate\": False},\n",
    "#     },\n",
    "# )\n",
    "\n",
    "# profile2"
   ]
  },
  {
   "cell_type": "markdown",
   "id": "b09f6c51",
   "metadata": {},
   "source": [
    "<br>\n",
    "\n",
    "**Exploring the dataset structure with .info() method**"
   ]
  },
  {
   "cell_type": "code",
   "execution_count": null,
   "id": "6980f8ad",
   "metadata": {
    "ExecuteTime": {
     "end_time": "2025-03-23T14:30:47.617665Z",
     "start_time": "2025-03-23T14:30:47.607203Z"
    }
   },
   "outputs": [],
   "source": [
    "market_data.info()"
   ]
  },
  {
   "cell_type": "markdown",
   "id": "5a304997",
   "metadata": {},
   "source": [
    "With the information above, we can see there are missing values in:\n",
    "\n",
    "- SWI Production Index  \n",
    "- SWI Shipments Index  \n",
    "- UK Shipments Index  \n",
    "- USA Shipments Index  \n",
    "- UK EE Producer Prices  \n",
    "- FRA EE Producer Prices  \n",
    "- CHI EE Producer Prices  \n",
    "- SWI Machinery & Equipment Index  \n",
    "- (W) EE Production Index  \n",
    "- SWI EE Production Index  \n"
   ]
  },
  {
   "cell_type": "markdown",
   "id": "cacb007c",
   "metadata": {},
   "source": [
    "**Statistics**"
   ]
  },
  {
   "cell_type": "code",
   "execution_count": null,
   "id": "14f6b58b",
   "metadata": {
    "ExecuteTime": {
     "end_time": "2025-03-23T14:30:47.767199Z",
     "start_time": "2025-03-23T14:30:47.619634Z"
    }
   },
   "outputs": [],
   "source": [
    "market_data.describe()"
   ]
  },
  {
   "cell_type": "markdown",
   "id": "b8c35974",
   "metadata": {},
   "source": [
    "Based on this, we get the following:\n",
    "\n",
    "1. **Production and Shipments in Machinery & Electricals**  \n",
    "   - China’s production and shipment index show high variability, indicating for instance fluctuations in demand, supply chain issues, or policy impacts. At some point in time, Production and Shipments was over 3 times higher than in 2010 (229% increase) \n",
    "   - Based on the minimum values, we can see that all countries, at some point, there was a decline in production and shipment, as indicated by the values well below 100. This could be due to economic crises or supply chain disruptions (such as semiconductors shortages), etc.\n",
    "   - Switzerland has the lowest production and shipment index, compared to the other countries, based on values of minimum and quartiles.\n",
    "   - UK tends to produce more than export\n",
    "   - Germany’s shipment index mean (114.9) is higher than its production mean (107.5), which could indicate a focus on exports and strong international demand. Europe also has a higher index in terms of shipment than production and USA too.\n",
    "\n",
    "3. **Resources Prices** \n",
    "   - Natural gas prices (mean: 103.37, std: 103.37) show high volatility, likely driven by geopolitical factors and global supply-demand shocks. 25% or less of the observations had values lower than in 2010. \n",
    "   - Coper and metals and minerals price seem to be the cheapest resources.\n",
    "\n",
    "4. **Producer Prices**  \n",
    "   - Germany has the highest producer price mean (103.17), closely followed by USA (102.19) and Italy (102.16). This suggests that companies in these countries are paying more to produce goods. \n",
    "   - China’s mean producer price is lower than others (97.68), being the cheapest country to produce.\n",
    "\n",
    "5. **Machinery & Equipment Production**  \n",
    "   - Japan has the highest production mean (115.08), followed by Germany (110.90) and the U.S. (110.42), indicating a strong machinery sector production.\n",
    "   - Switzerland has the lowest production indexes (on average 99.7).\n",
    "   - At some point in time, we can see based on the minimum values that production, in all countries, was lower compared to 2010.\n",
    "\n",
    "6. **Electrical Equipment Production**\n",
    "   - UK has the highest average production compared to other companies, indicating strong electrical equipment production.\n",
    "   - Switzerland in 50% of the cases has produce less than in 2010 and compared to other countries, produces less."
   ]
  },
  {
   "cell_type": "markdown",
   "id": "6f7d5bcd",
   "metadata": {},
   "source": [
    "# 4. Feature Exploration\n",
    "\n",
    "<a href=\"#top\">Top &#129033;</a>"
   ]
  },
  {
   "cell_type": "markdown",
   "id": "5fbf2ee1",
   "metadata": {},
   "source": [
    "## 4.1 Univariate Analysis\n",
    "\n",
    "<a href=\"#top\">Top &#129033;</a>"
   ]
  },
  {
   "cell_type": "markdown",
   "id": "ae3908fa",
   "metadata": {},
   "source": [
    "#### **Sales Data**"
   ]
  },
  {
   "cell_type": "markdown",
   "id": "7cbd2537",
   "metadata": {},
   "source": [
    "Sales Distribution"
   ]
  },
  {
   "cell_type": "code",
   "execution_count": null,
   "id": "6a733ac4",
   "metadata": {
    "ExecuteTime": {
     "end_time": "2025-03-23T14:30:51.633649Z",
     "start_time": "2025-03-23T14:30:47.768910Z"
    }
   },
   "outputs": [],
   "source": [
    "f.plot_sales_data(new_monthly_sales)"
   ]
  },
  {
   "cell_type": "markdown",
   "id": "25ccad95",
   "metadata": {},
   "source": [
    "Percentage change in sales revenue for each product"
   ]
  },
  {
   "cell_type": "code",
   "execution_count": null,
   "id": "37d4bdea",
   "metadata": {
    "ExecuteTime": {
     "end_time": "2025-03-23T14:30:52.060250Z",
     "start_time": "2025-03-23T14:30:51.635737Z"
    }
   },
   "outputs": [],
   "source": [
    "f.percentage_change(new_monthly_sales)"
   ]
  },
  {
   "cell_type": "code",
   "execution_count": null,
   "id": "11aa9d62",
   "metadata": {
    "ExecuteTime": {
     "end_time": "2025-03-23T14:30:52.161041Z",
     "start_time": "2025-03-23T14:30:52.069736Z"
    }
   },
   "outputs": [],
   "source": [
    "f.percentage_change_previous_month(new_monthly_sales)"
   ]
  },
  {
   "cell_type": "markdown",
   "id": "7ef984c7",
   "metadata": {},
   "source": [
    "##### Notes:\n",
    "\n",
    "**Product # 1:**\n",
    "\n",
    "Significant decline on November 2018 (decrease of almost 86%). Due to this, the percentage change comparing 2019 to 2018 is also higher. According to Siemens’ Annual Report 2018, there was a significant decline in the Power and Gas Division, which specializes in gas turbines. This might be due to the global shift towards renewable energy. In the same report, we can find that “ Volume in that segment declined significantly in fiscal 2018 due mainly to customer delays of large projects in the Americas and in the Middle East and strong price pressure resulting from intense competition.” This could suggest that this product category (#1) is part of th division, although it has not been explicitly confirmed. While we cannot treat this as definitive, it will be taken into account for consideration. The sales in this segment generally range from 35 to 42 million monetary units. October of 2021 had larger sales.\n",
    "\n",
    "Siemens AG. (2018). Annual report 2018. Siemens AG. https://assets.new.siemens.com/siemens/assets/api/uuid:4bfbab10-00d6-4a22-aad2-b50f3f232bfb/siemens-annual-report-2018.pdf\n",
    "\n",
    "\n",
    "**Product #3:**\n",
    "\n",
    "Significant decline from October 2020 until January 2021, probably due to Covid-19 pandemic and/or semiconductor shortages. After that there was an increase and the sales stabilize between 10 million and almost 19 million monetary units. This represented the highest sales revenue change in this product category. Most of the sales were between 10 million and 14 million monetary units. \n",
    "\n",
    "Note: As the distribution of the sales represents almost a Gaussian distribution, it is important to check whether this represents White noise, or not.\n",
    "\n",
    "**Product #4:**\n",
    "\n",
    "Overall lower sales compared to products category #1 and #3. Maximum sales was above 800 000 in February and June and represented the highest change in sales revenue. The sales revenue were between 170 000 and 470 000. There were some notable declines between February and April 2021, as well as from June to August of the same year. Comparing to the same month of the previous year, we can see that there was increase in October 2020 (comparing to 2019) and February 2021 (comparing to 2020).\n",
    "\n",
    "**Product #5:**\n",
    "\n",
    "The majority of sales revenue falls between 7 million and 12 million. The product shows fluctuations in sales, with the lowest sales recorded in January 2021, which also happened with product category #3. \n",
    "\n",
    "**Product #6:**\n",
    "\n",
    "After December 2019, there was a significant decline, leading to negative sales in January 2020. This could be attributed to factors like shipments being delayed or impacted, possibly due to the early effects of COVID-19 in China, which might have affected product deliveries. Between August 2020 and January 2021, there was another decrease, although some stabilization occurred between September and December. By September 2021, sales nearly reached 1 million in revenue.\n",
    "\n",
    "**Product #8:**\n",
    "\n",
    "We can see that between the end of 2018 and March 2021 there was an increase in sales of this product category, even though some declines occurred. The most noticeable decrease in revenue was in October 2021 (less than 500 000 monetary units). \n",
    "\n",
    "**Product #9:**\n",
    "\n",
    "In December 2019, no sales were registered. We can see a noticeable pick in sales from September to October 2020 (reaching almost 40 000 monetary units), followed by a significant decline in the following month. October 2020 had a higher revenue sales compared to 2019.\n",
    "\n",
    "**Product #11:**\n",
    "\n",
    "There are some fluctuations in sales, but we can observe that every September, there is always a significant increase in sales, followed by a notable decline the following month. In January 2021, sales reached almost 0 in revenue. The biggest difference in terms of month was in January 2022 compared to 2021.\n",
    "\n",
    "**Product #12:**\n",
    "\n",
    "Between October 2018 and August 2019, the revenue remained below 100 000 monetary units. However, in September 2019, there was a significant increase, reaching nearly 300 000 monetary units. The highest revenue was recorded in October 2020. Afterward, the revenue fluctuated between 100 000 and almost 430 000 monetary units. November 2019 had the biggest change compared to 2018.\n",
    "\n",
    "**Product #13:**\n",
    "\n",
    "The major revenue peaks occurred in November 2018, October 2019, and March 2021. The majority of sales revenue typically ranged between 15 000 and 35 000 monetary units.\n",
    "\n",
    "**Product #14:**\n",
    "\n",
    "This product category has the highest reported no sales compared to the other products, with some reported negative sales in 2020, probably due to returns and Covid-19. July 2021 had the highest total revenue in sales, almost 80 000. Most of the revenue in sales is below 10 000 monetary units.\n",
    "\n",
    "**Product #16:**\n",
    "\n",
    "The highest peak in sales occurred in December 2018, reaching nearly 5 million monetary units. After April 2019, sales declined significantly and then stabilized, with revenue ranging between 20 000 and 270 000 monetary units.\n",
    "\n",
    "**Product #20:**\n",
    "\n",
    "There were months with no sales activity. The highest revenue peak occurred in December 2020, followed by another significant rise in April 2021. However, in January 2021, no sales were recorded, and from January to March of the same year, sales revenue remained below 2000 monetary units. Starting in February 2022, sales began to increase.\n",
    "\n",
    "**Product #36:**\n",
    "\n",
    "Sales revenue in this product category stayed below 50 000 monetary units, except in June 2020 and April 2021, when the revenue exceeded 250 000 monetary units."
   ]
  },
  {
   "cell_type": "code",
   "execution_count": null,
   "id": "bea4ad7a",
   "metadata": {
    "ExecuteTime": {
     "end_time": "2025-03-23T14:30:52.237055Z",
     "start_time": "2025-03-23T14:30:52.162871Z"
    }
   },
   "outputs": [],
   "source": [
    "f.sales_data_line(new_monthly_sales)"
   ]
  },
  {
   "cell_type": "markdown",
   "id": "65170351",
   "metadata": {},
   "source": [
    "<div class=\"alert-danger\">\n",
    "    \n",
    "# WHY"
   ]
  },
  {
   "cell_type": "markdown",
   "id": "8501ae70",
   "metadata": {},
   "source": [
    "Interesting to see that in January 2021, Siemens faced a decrease in sales revenue for all product categories. In some cases, these sales were non-existent, like with product #20."
   ]
  },
  {
   "cell_type": "code",
   "execution_count": null,
   "id": "80da5a17",
   "metadata": {
    "ExecuteTime": {
     "end_time": "2025-03-23T14:30:52.299724Z",
     "start_time": "2025-03-23T14:30:52.239046Z"
    }
   },
   "outputs": [],
   "source": [
    "f.plot_boxplots(new_monthly_sales)"
   ]
  },
  {
   "cell_type": "markdown",
   "id": "83a65459",
   "metadata": {},
   "source": [
    "As expected, over these three and a half years of sales data, there are some values that stand out as extreme points. For example, with Product #1, the significant decline in sales observed in November 2018 is clearly reflected in the boxplot."
   ]
  },
  {
   "cell_type": "markdown",
   "id": "d9bba200",
   "metadata": {},
   "source": [
    "<br>\n",
    "\n",
    "#### **Market Data**"
   ]
  },
  {
   "cell_type": "markdown",
   "id": "4820d281",
   "metadata": {},
   "source": [
    "Resources prices"
   ]
  },
  {
   "cell_type": "code",
   "execution_count": null,
   "id": "e14fc804",
   "metadata": {
    "ExecuteTime": {
     "end_time": "2025-03-23T14:30:52.489653Z",
     "start_time": "2025-03-23T14:30:52.301675Z"
    }
   },
   "outputs": [],
   "source": [
    "resources_prices = [\n",
    "    '(W) Price of Base Metals', '(W) Price of Energy', '(W) Price of Metals & Minerals',\n",
    "    '(W) Price of Natural gas index', '(W) Price of Crude oil, average', '(W) Price of Copper'\n",
    "]\n",
    "\n",
    "f.resource_prices(market_data, resources_prices)"
   ]
  },
  {
   "cell_type": "markdown",
   "id": "bb20ca3c",
   "metadata": {},
   "source": [
    "We can see that between 2004 and 2022, there have been fluctuations. Focusing on the period between 2008 and 2022, we observe that:\n",
    "\n",
    "- Price of base metals: After February 2021, the price of this resource was higher than in 2010. The lowest price was recorded in April 2020.\n",
    "This might be largely due to the COVID-19 pandemic, reducing demand for industrial metals. However, as economies started to recover this helped to increase prices by 2021.\n",
    "\n",
    "- Price of energy: After September 2021, the price of this resource was higher than in 2010. The lowest price was recorded in April 2020. Energy prices collapsed in early 2020 due to lockdowns, which led to a significant drop in demand, possibly influenced by policy regulations imposing energy price limits.\n",
    "\n",
    "- Price of natural gas: After July 2021, the price of this resource was higher than in 2010. The lowest price was recorded in April 2020.\n",
    "\n",
    "- Price of crude oil: After January 2022, the price of this resource was higher than in 2010. This might be influenced by OPEC+ production cuts, which helps reduce supply and therefore increase prices. The lowest price was recorded in June 2020. \n",
    "\n",
    "- Price of copper: After December 2020, the price of this resource was higher than in 2010. The lowest price was recorded in April 2020."
   ]
  },
  {
   "cell_type": "markdown",
   "id": "178bfbf4",
   "metadata": {},
   "source": [
    "Production and Shipment Index for Machinery & Electricals"
   ]
  },
  {
   "cell_type": "code",
   "execution_count": null,
   "id": "2f0b7edc",
   "metadata": {
    "ExecuteTime": {
     "end_time": "2025-03-23T14:30:52.494221Z",
     "start_time": "2025-03-23T14:30:52.491204Z"
    }
   },
   "outputs": [],
   "source": [
    "prod_ship_index = market_data.iloc[:, 0:18] "
   ]
  },
  {
   "cell_type": "code",
   "execution_count": null,
   "id": "e0199408",
   "metadata": {
    "ExecuteTime": {
     "end_time": "2025-03-23T14:30:52.706087Z",
     "start_time": "2025-03-23T14:30:52.495973Z"
    }
   },
   "outputs": [],
   "source": [
    "f.plot_prod_ship_index(prod_ship_index)"
   ]
  },
  {
   "cell_type": "code",
   "execution_count": null,
   "id": "6b400104",
   "metadata": {
    "ExecuteTime": {
     "end_time": "2025-03-23T14:30:52.879308Z",
     "start_time": "2025-03-23T14:30:52.707429Z"
    }
   },
   "outputs": [],
   "source": [
    "f.plot_filtered_prod_ship_index(prod_ship_index)"
   ]
  },
  {
   "cell_type": "markdown",
   "id": "312fd158",
   "metadata": {},
   "source": [
    "- China had a a tendency of increasing its production and shipments index. After more or less 2013 the production and shipment index was higher than in 2010. Between 2018 and 2022, the lowest production and shipment index occur on January and February of 2020. Interesting to see, that production index and shipment index are always equal in China, this might be due to Just-in-Time manufacturing system where goods are produced only when they are needed and shipped directly;\n",
    "\n",
    "- Between 2008 and 2010, France had a decline in production and shipment probably due to the effects of the global crisis. In terms of shipment, France tends to ship more than produces. Between 2018 and 2022, most of the time the production was lower than in 2010, contrarily to the shipment index that was always above, except during the pandemic (February to August);\n",
    "\n",
    "- Overall, Germany during 2004 and 2022 have been producing and shipping more than in 2010, with some exceptions between the global crisis of 2008 and the pandemic in 2020.\n",
    "\n",
    "- Italy's production and shipment index fluctuates, with some high declines. The highest production and shipment of machinery and eletrics occured between 2004 and 2008. Between 2018 and 2022, Italy shipped more compared to 2010, and produced less compared to 2010. We can also see that due to the pandemic these 2 economic activities were affected.\n",
    "\n",
    "- The two major declines in Japan's production and shipment occur during 2008 and during the pandemic.\n",
    "\n",
    "- Switzerland production and shipment index fluctuates, however we can see a pattern that is whenever there is an increase in production, there is also in shipment. Most of the products that are produced are shiped. During January 2020 and August 2021, production and shipment in Switzerland was lower than 2010.\n",
    "\n",
    "- During 2004 and 2010, UK' production was higher than 2010 and lower in terms of shipment. During the pandemic both productiona and shipment were affected and were lower than 2010.\n",
    "\n",
    "- The USA production overall was only affected during 2008 and the pandemic. While the shipment only affected on the early years of 2004 and during the crisis of 2008. USA shipment was always greater than in 2010 during 2018 and 2022.\n",
    "\n",
    "- Europe and the USA exhibited similar patterns in terms of shipment and production."
   ]
  },
  {
   "cell_type": "markdown",
   "id": "45087663",
   "metadata": {},
   "source": [
    "<br>\n",
    "\n",
    "## 4.2 Bivariate and Multivariate Analysis\n",
    "\n",
    "<a href=\"#top\">Top &#129033;</a>"
   ]
  },
  {
   "cell_type": "markdown",
   "id": "21fbd023",
   "metadata": {},
   "source": [
    "##### **Sales Data**"
   ]
  },
  {
   "cell_type": "markdown",
   "id": "0aaacb3c",
   "metadata": {},
   "source": [
    "Percentage of each product per year"
   ]
  },
  {
   "cell_type": "code",
   "execution_count": null,
   "id": "f91c0753",
   "metadata": {
    "ExecuteTime": {
     "end_time": "2025-03-23T14:30:52.897416Z",
     "start_time": "2025-03-23T14:30:52.881539Z"
    }
   },
   "outputs": [],
   "source": [
    "copy = new_monthly_sales.copy().reset_index()\n",
    "copy[\"Year\"] = copy[\"Date\"].dt.year\n",
    "copy = copy.drop(columns=[\"Date\"])\n",
    "yearly_data = copy.groupby(\"Year\").sum()\n",
    "df_percent = yearly_data.div(yearly_data.sum(axis=1), axis=0) * 100\n",
    "df_percent = df_percent.applymap(lambda x: f\"{x:.2f}%\")\n",
    "df_percent\n"
   ]
  },
  {
   "cell_type": "markdown",
   "id": "c58a526c",
   "metadata": {},
   "source": [
    "Sales per product per year"
   ]
  },
  {
   "cell_type": "code",
   "execution_count": null,
   "id": "1c5afd3b",
   "metadata": {
    "ExecuteTime": {
     "end_time": "2025-03-23T14:30:53.246038Z",
     "start_time": "2025-03-23T14:30:52.899091Z"
    }
   },
   "outputs": [],
   "source": [
    "f.plot_stacked_bar(yearly_data)"
   ]
  },
  {
   "cell_type": "markdown",
   "id": "8673e406",
   "metadata": {},
   "source": [
    "Based on the output above, we can see that the highest sales revenue comes from product category #1, followed by #3 and #5. Products #9, #12, #13, #14, #20, and #36 contribute little to sales revenue each year, sometimes showing no sales at all. The sales in 2018 and 2022 appear lower than the sales in other years, as our data only covers 3 and 4 months of those years, respectively. We observed a decrease in sales of approximately 20 millions from 2019 to 2020, which could be attributed to various factors, including the Covid pandemic and the Ukraine war. However, there was a significant increase of almost 36 millions in sales from 2020 to 2021."
   ]
  },
  {
   "cell_type": "markdown",
   "id": "e7670f1f",
   "metadata": {},
   "source": [
    "Pairwise relationship between products"
   ]
  },
  {
   "cell_type": "code",
   "execution_count": null,
   "id": "db64d83e",
   "metadata": {
    "ExecuteTime": {
     "end_time": "2025-03-23T14:30:53.653593Z",
     "start_time": "2025-03-23T14:30:53.247508Z"
    }
   },
   "outputs": [],
   "source": [
    "corr = np.round(new_monthly_sales.corr(method=\"pearson\"), decimals=2)\n",
    "mask = np.triu(np.ones_like(corr, dtype=bool))\n",
    "\n",
    "plt.figure(figsize=(10, 8))\n",
    "sns.heatmap(corr, \n",
    "            annot=True, \n",
    "            mask=mask, \n",
    "            cmap='inferno', \n",
    "            fmt='.2f', \n",
    "            vmin=-1, vmax=1, \n",
    "            center=0, \n",
    "            square=True, \n",
    "            linewidths=0,  \n",
    "            cbar_kws={'shrink': 0.7, 'label': 'Correlation Coefficient'},\n",
    "            annot_kws={\"size\": 10, \"color\": \"white\", \"ha\": \"center\", \"va\": \"center\"},  \n",
    "            linecolor='white')\n",
    "\n",
    "plt.title('Correlation Matrix', fontsize=16, color='black', pad=20)\n",
    "plt.grid(False)\n",
    "plt.subplots_adjust(top=0.9, bottom=0.08, left=0.08, right=0.92)\n",
    "plt.show()"
   ]
  },
  {
   "cell_type": "code",
   "execution_count": null,
   "id": "3d25dc85",
   "metadata": {
    "ExecuteTime": {
     "end_time": "2025-03-23T14:30:53.711332Z",
     "start_time": "2025-03-23T14:30:53.655465Z"
    }
   },
   "outputs": [],
   "source": [
    "f.plot_high_correlation_pairs(new_monthly_sales)"
   ]
  },
  {
   "cell_type": "markdown",
   "id": "18c177ed",
   "metadata": {},
   "source": [
    "Based on this we can see that even though the correlation is not too high, the highest positive correlations (above 0.5) are between product category:\n",
    "- #8 and #12 (0.6)\n",
    "- #8 and #11\n",
    "- #3 and #5\n",
    "- #3 and #12\n",
    "- #3 and #8\n",
    "\n",
    "If we check the line plots of the sales of each product category that was seen in the section `4.1 Univariate Analysis`, it is possible to see that normally when the sales revenue of one product category increases, the other tends to increase, and vice versa. This might suggest that these two product categories may be complementary to each other."
   ]
  },
  {
   "cell_type": "markdown",
   "id": "e881926c",
   "metadata": {},
   "source": [
    "Monthly sales per year"
   ]
  },
  {
   "cell_type": "code",
   "execution_count": null,
   "id": "39891188",
   "metadata": {
    "ExecuteTime": {
     "end_time": "2025-03-23T14:30:54.143027Z",
     "start_time": "2025-03-23T14:30:53.713457Z"
    }
   },
   "outputs": [],
   "source": [
    "fig = f.monthly_sales_per_year(new_monthly_sales)\n",
    "fig.show()"
   ]
  },
  {
   "cell_type": "markdown",
   "id": "7786a252",
   "metadata": {},
   "source": [
    "**2018**\n",
    "\n",
    "- Product #1 sales revenue decrease. \n",
    "- Slight increase in sales revenue for products #3 and #5\n",
    "\n",
    "**2019**\n",
    "\n",
    "- After April, product #1, stabilize in terms of sales around 40 millions\n",
    "- Increase from July until September of revenues for product #11\n",
    "- Sales revenue fluctuation for product #5\n",
    "\n",
    "**2020 and 2021**\n",
    "- More fluctuations specially for product #1 and #5, probably due to Covid-19 pandemic and semiconductor shortages\n",
    "- Product #3 revenue sales remained more or less the same compared to 2019.\n",
    "- All products had a decrease in sales in January 2021\n",
    "\n",
    "**2022**\n",
    "- Increase in sales revenue in March 2022 for mostly all products"
   ]
  },
  {
   "cell_type": "markdown",
   "id": "8ead5776",
   "metadata": {},
   "source": [
    "Monthly sales over time"
   ]
  },
  {
   "cell_type": "code",
   "execution_count": null,
   "id": "d6b17fa1",
   "metadata": {
    "ExecuteTime": {
     "end_time": "2025-03-23T14:30:54.183957Z",
     "start_time": "2025-03-23T14:30:54.144872Z"
    }
   },
   "outputs": [],
   "source": [
    "f.monthly_sales(new_monthly_sales)"
   ]
  },
  {
   "cell_type": "markdown",
   "id": "53bae326",
   "metadata": {},
   "source": [
    "https://online.stat.psu.edu/stat510/lesson/5/5.1"
   ]
  },
  {
   "cell_type": "code",
   "execution_count": null,
   "id": "cbd7eb18",
   "metadata": {
    "ExecuteTime": {
     "end_time": "2025-03-23T14:30:55.397235Z",
     "start_time": "2025-03-23T14:30:54.185854Z"
    }
   },
   "outputs": [],
   "source": [
    "f.multiplicative_seasonal_decomposition(new_monthly_sales, excluded_columns=['#14', '#20', '#6', '#9'])"
   ]
  },
  {
   "cell_type": "code",
   "execution_count": null,
   "id": "4d990a70",
   "metadata": {
    "ExecuteTime": {
     "end_time": "2025-03-23T14:30:56.496403Z",
     "start_time": "2025-03-23T14:30:55.399307Z"
    }
   },
   "outputs": [],
   "source": [
    "f.additive_seasonal_decomposition(new_monthly_sales, excluded_columns=['#14', '#20', '#6', '#9'])"
   ]
  },
  {
   "cell_type": "markdown",
   "id": "00e8a864",
   "metadata": {},
   "source": [
    "<br>\n",
    "\n",
    "##### **Market Data**"
   ]
  },
  {
   "cell_type": "markdown",
   "id": "2005dee6",
   "metadata": {},
   "source": [
    "Production and Shipment over time by country"
   ]
  },
  {
   "cell_type": "code",
   "execution_count": null,
   "id": "0c08f724",
   "metadata": {
    "ExecuteTime": {
     "end_time": "2025-03-23T14:30:56.542722Z",
     "start_time": "2025-03-23T14:30:56.498258Z"
    }
   },
   "outputs": [],
   "source": [
    "production_columns = [\n",
    "    'CHI Production Index', 'FRA Production Index', 'GER Production Index', \n",
    "    'ITA Production Index', 'JAP Production Index', 'SWI Production Index',\n",
    "    'UK Production Index', 'USA Production Index', 'Europe Production Index'\n",
    "]\n",
    "production_data = market_data[production_columns]\n",
    "f.plot_production_index(market_data, production_data)"
   ]
  },
  {
   "cell_type": "code",
   "execution_count": null,
   "id": "11f87ac8",
   "metadata": {
    "ExecuteTime": {
     "end_time": "2025-03-23T14:30:56.587243Z",
     "start_time": "2025-03-23T14:30:56.544624Z"
    }
   },
   "outputs": [],
   "source": [
    "shipment_columns = [\n",
    "    'CHI Shipments Index', 'FRA Shipments Index', 'GER Shipments Index', \n",
    "    'ITA Shipments Index', 'JAP Shipments Index', 'SWI Shipments Index',\n",
    "    'UK Shipments Index', 'USA Shipments Index', 'Europe Shipments Index'\n",
    "]\n",
    "shipment_data = market_data[shipment_columns]\n",
    "\n",
    "f.plot_shipment_index(market_data, shipment_data)"
   ]
  },
  {
   "cell_type": "markdown",
   "id": "c4b80e8e",
   "metadata": {},
   "source": [
    "Overall, since 2013, China has consistently had higher production indexes compared to other countries. Compared to other countries that have no consistent trend (upward or downward) over the entire time span. Additionally, seasonality is evident, with China's production experiencing the largest decline in January and February, maintaining the same production index during those months. This might be due to the Chinese New Year that results in factories closed. Meanwhile, Italy and France see a decline in production every August, probably due to summer shutdown. Japan's production always increase every March. \n",
    "\n",
    "The same applies for the shipment."
   ]
  },
  {
   "cell_type": "markdown",
   "id": "c8539294",
   "metadata": {},
   "source": [
    "Producer prices of electrical equipment over time by country"
   ]
  },
  {
   "cell_type": "code",
   "execution_count": null,
   "id": "db32cbfa",
   "metadata": {
    "ExecuteTime": {
     "end_time": "2025-03-23T14:30:56.620672Z",
     "start_time": "2025-03-23T14:30:56.589173Z"
    }
   },
   "outputs": [],
   "source": [
    "producer_prices = ['USA EE Producer Prices', 'UK EE Producer Prices',\n",
    "                     'ITA EE Producer Prices', 'FRA EE Producer Prices',\n",
    "                     'GER EE Producer Prices', 'CHI EE Producer Prices',\n",
    "]\n",
    "producer_price_data = market_data[producer_prices]\n",
    "\n",
    "f.plot_producer_price(market_data, producer_price_data)"
   ]
  },
  {
   "cell_type": "markdown",
   "id": "cc8b45c3",
   "metadata": {},
   "source": [
    "Until around the end of November 2008, China had the highest producer prices, even surpassing those in 2010. Between 2009 and 2012, prices stabilized and were relatively similar across all countries. However, after 2011, a paradigm shift occurred: China became the lowest-cost producer, while the UK emerged as the leader until October 2020. After that, the USA took the lead with the highest producer prices, followed by Germany."
   ]
  },
  {
   "cell_type": "markdown",
   "id": "43717c61",
   "metadata": {},
   "source": [
    "Machinery and Equipment Index over time by country"
   ]
  },
  {
   "cell_type": "code",
   "execution_count": null,
   "id": "76083241",
   "metadata": {
    "ExecuteTime": {
     "end_time": "2025-03-23T14:30:56.660836Z",
     "start_time": "2025-03-23T14:30:56.622929Z"
    }
   },
   "outputs": [],
   "source": [
    "me_index = ['USA Machinery & Equipment Index', '(W) Machinery & Equipment Index',\n",
    "       'SWI Machinery & Equipment Index', 'UK Machinery & Equipment Index',\n",
    "       'ITA Machinery & Equipment Index', 'JAP Machinery & Equipment Index',\n",
    "       'FRA Machinery & Equipment Index', 'GER Machinery & Equipment Index'\n",
    "]\n",
    "\n",
    "me_index_data = market_data[me_index]\n",
    "f.plot_me_index(market_data, me_index_data)"
   ]
  },
  {
   "cell_type": "markdown",
   "id": "a737fa24",
   "metadata": {},
   "source": [
    "Based on the insights about seasonality earlier, similar patterns can be observed across countries. In Italy and France, there is consistently a decline in machinery and equipment production in August, while Japan experiences an increase in March each year. Additionally, Germany typically sees a decrease in production during January, with a peak in December. Overall, all countries experienced a decline in production between March 2008 and July 2009. During the pandemic, the UK faced the largest reduction in production compared to the others. From 2018 to 2022, Japan consistently maintained higher production levels than the other countries."
   ]
  },
  {
   "cell_type": "code",
   "execution_count": null,
   "id": "b437d5bf",
   "metadata": {
    "ExecuteTime": {
     "end_time": "2025-03-23T14:30:56.701997Z",
     "start_time": "2025-03-23T14:30:56.662575Z"
    }
   },
   "outputs": [],
   "source": [
    "ee_index = ['USA EE Production Index', '(W) EE Production Index',\n",
    "       'SWI EE Production Index', 'UK EE Production Index',\n",
    "       'ITA EE Production Index', 'JAP EE Production Index',\n",
    "       'FRA EE Production Index', 'GER EE Production Index'\n",
    "]\n",
    "\n",
    "ee_index_data = market_data[ee_index]\n",
    "f.plot_ee_index(market_data, ee_index_data)"
   ]
  },
  {
   "cell_type": "markdown",
   "id": "acdffed8",
   "metadata": {},
   "source": [
    "Similar to the insights above regarding machinery and equipment, the same production seasonality trends apply to electrical equipment. Until 2010, there was a slight decline in production, with Switzerland being the lowest producer and Italy the highest. From 2018 to 2022, the UK consistently had the highest production index compared to other countries, reaching around 46% higher in March 2022 than in 2010."
   ]
  },
  {
   "cell_type": "markdown",
   "id": "188b20d7",
   "metadata": {},
   "source": [
    "Production and Shipment Index"
   ]
  },
  {
   "cell_type": "code",
   "execution_count": null,
   "id": "ac029d71",
   "metadata": {
    "ExecuteTime": {
     "end_time": "2025-03-23T14:30:57.291815Z",
     "start_time": "2025-03-23T14:30:56.703664Z"
    }
   },
   "outputs": [],
   "source": [
    "prod_ship_index = market_data.iloc[:, 0:18] \n",
    "corr = np.round(prod_ship_index.corr(method=\"pearson\"), decimals=2)\n",
    "mask = np.triu(np.ones_like(corr, dtype=bool))\n",
    "plt.figure(figsize=(10, 8))\n",
    "sns.heatmap(corr, \n",
    "            annot=True, \n",
    "            mask=mask, \n",
    "            cmap='inferno', \n",
    "            fmt='.2f', \n",
    "            vmin=-1, vmax=1, \n",
    "            center=0, \n",
    "            square=True, \n",
    "            linewidths=0,  \n",
    "            cbar_kws={'shrink': 0.7, 'label': 'Correlation Coefficient'},\n",
    "            annot_kws={\"size\": 10, \"color\": \"white\", \"ha\": \"center\", \"va\": \"center\"},  \n",
    "            linecolor='white')\n",
    "\n",
    "plt.title('Correlation Matrix', fontsize=16, color='black', pad=20)\n",
    "plt.grid(False)\n",
    "plt.subplots_adjust(top=0.9, bottom=0.08, left=0.08, right=0.92)\n",
    "plt.show()"
   ]
  },
  {
   "cell_type": "markdown",
   "id": "2f9629be",
   "metadata": {},
   "source": [
    "In China, production and shipment indices are perfectly correlated (1.00), indicating that every unit produced is also shipped. Similarly, Japan exhibits an almost identical relationship (0.99), followed by Switzerland (0.97) and Germany (0.90).\n",
    "\n",
    "Germany appears to have a significant influence on several European economies. Increases in German production are closely linked to rising shipments in the UK (0.79) and Italy (0.66), suggesting that these countries rely on materials or intermediate goods from Germany. Additionally, Germany's production growth strongly influences overall European production (0.83) and shipments (0.84), reinforcing its central role in Europe.\n",
    "\n",
    "On the shipment side, a rise in Germany’s shipment index correlates strongly with higher shipments across Europe (0.95) and the USA (0.81). This trend is also followed by the UK (0.78), possibly due to global trade networks, particularly in transatlantic supply chains.  \n",
    "\n",
    "An increase in French production tends to drive growth in Italy (0.85) and the UK (0.76), indicating supply chain dependencies or shared economic cycles among these nations.  \n",
    "\n",
    "China’s production and shipment growth have broader global implications. An increase in China’s indices is associated with increased shipments to the USA (0.74) and Germany (0.73). However, this growth appears to coincide with a decline in both production and shipments in France, with a negative correlation of 0.50 in both cases. This may suggest that rising Chinese exports create competitive pressures on certain French industries, leading to reduced domestic production and shipping activity. "
   ]
  },
  {
   "cell_type": "markdown",
   "id": "ca7edf40",
   "metadata": {},
   "source": [
    "Prices Indexes"
   ]
  },
  {
   "cell_type": "code",
   "execution_count": null,
   "id": "9273ccd8",
   "metadata": {
    "ExecuteTime": {
     "end_time": "2025-03-23T14:30:57.539934Z",
     "start_time": "2025-03-23T14:30:57.293164Z"
    }
   },
   "outputs": [],
   "source": [
    "corr = np.round(market_data[resources_prices].corr(method=\"pearson\"), decimals=2)\n",
    "mask = np.triu(np.ones_like(corr, dtype=bool))\n",
    "plt.figure(figsize=(10, 8))\n",
    "sns.heatmap(corr, \n",
    "            annot=True, \n",
    "            mask=mask, \n",
    "            cmap='inferno', \n",
    "            fmt='.2f', \n",
    "            vmin=-1, vmax=1, \n",
    "            center=0, \n",
    "            square=True, \n",
    "            linewidths=0,  \n",
    "            cbar_kws={'shrink': 0.7, 'label': 'Correlation Coefficient'},\n",
    "            annot_kws={\"size\": 10, \"color\": \"white\", \"ha\": \"center\", \"va\": \"center\"},  \n",
    "            linecolor='white')\n",
    "\n",
    "plt.title('Correlation Matrix', fontsize=16, color='black', pad=20)\n",
    "plt.grid(False)\n",
    "plt.subplots_adjust(top=0.9, bottom=0.08, left=0.08, right=0.92)\n",
    "plt.show()"
   ]
  },
  {
   "cell_type": "markdown",
   "id": "4b7da425",
   "metadata": {},
   "source": [
    "The price of base metals is highly influenced by the price of metals and minerals (0.98) and copper (0.94), indicating that an increase in one typically drives an increase in the others.  \n",
    "\n",
    "Similarly, energy prices are closely tied to crude oil prices, with a near-perfect correlation (0.99), emphasizing oil's dominant role in the energy market. Additionally, the price of metals and minerals shows a strong correlation with copper prices (0.95), further highlighting copper’s significance in the broader materials sector.  \n",
    "\n",
    "However, when analysing energy prices in relation to other resources, no major correlations emerge. The strongest observed relationship is with general energy prices (0.58), suggesting that while energy markets are somewhat interconnected, their price movements are less directly influenced by other resource categories."
   ]
  },
  {
   "cell_type": "markdown",
   "id": "940460e2",
   "metadata": {},
   "source": [
    "Producer Prices Electrical Equipment"
   ]
  },
  {
   "cell_type": "code",
   "execution_count": null,
   "id": "00b56a30",
   "metadata": {
    "ExecuteTime": {
     "end_time": "2025-03-23T14:30:57.789083Z",
     "start_time": "2025-03-23T14:30:57.541798Z"
    }
   },
   "outputs": [],
   "source": [
    "corr = np.round(market_data[producer_prices].corr(method=\"pearson\"), decimals=2)\n",
    "mask = np.triu(np.ones_like(corr, dtype=bool))\n",
    "plt.figure(figsize=(10, 8))\n",
    "sns.heatmap(corr, \n",
    "            annot=True, \n",
    "            mask=mask, \n",
    "            cmap='inferno', \n",
    "            fmt='.2f', \n",
    "            vmin=-1, vmax=1, \n",
    "            center=0, \n",
    "            square=True, \n",
    "            linewidths=0,  \n",
    "            cbar_kws={'shrink': 0.7, 'label': 'Correlation Coefficient'},\n",
    "            annot_kws={\"size\": 10, \"color\": \"white\", \"ha\": \"center\", \"va\": \"center\"},  \n",
    "            linecolor='white')\n",
    "plt.title('Correlation Matrix', fontsize=16, color='black', pad=20)\n",
    "plt.grid(False)\n",
    "plt.subplots_adjust(top=0.9, bottom=0.08, left=0.08, right=0.92)\n",
    "plt.show()"
   ]
  },
  {
   "cell_type": "markdown",
   "id": "94006826",
   "metadata": {},
   "source": [
    "Globally, producer prices are connected because of competition between countries. When prices go up or down in one country, it often affects others.  \n",
    "\n",
    "Germany’s producer prices are closely linked to those in the USA, UK, and Italy, meaning they tend to rise and fall together. France’s prices move similarly to those in Italy and the USA, while Italy’s prices are connected to both the UK and the USA. The UK and USA also show a strong connection in their price trends.  \n",
    "\n",
    "However, China is different. Its producer prices have a negative correlation with those of Germany, the USA, the UK, France, and Italy. This means that when prices rise in these countries, China’s prices often remain low or even decrease. Since China has the lowest production costs, as seen before, and it puts pressure on other countries to keep their prices competitive."
   ]
  },
  {
   "cell_type": "markdown",
   "id": "60aec1ef",
   "metadata": {},
   "source": [
    "Production Index Machinery Equipment"
   ]
  },
  {
   "cell_type": "code",
   "execution_count": null,
   "id": "81fab186",
   "metadata": {
    "ExecuteTime": {
     "end_time": "2025-03-23T14:30:58.415230Z",
     "start_time": "2025-03-23T14:30:57.791144Z"
    }
   },
   "outputs": [],
   "source": [
    "production_index_me_ee = market_data.iloc[:, 32:49] \n",
    "corr = np.round(production_index_me_ee.corr(method=\"pearson\"), decimals=2)\n",
    "mask = np.triu(np.ones_like(corr, dtype=bool))\n",
    "plt.figure(figsize=(10, 8))\n",
    "sns.heatmap(corr, \n",
    "            annot=True, \n",
    "            mask=mask, \n",
    "            cmap='inferno', \n",
    "            fmt='.2f', \n",
    "            vmin=-1, vmax=1, \n",
    "            center=0, \n",
    "            square=True, \n",
    "            linewidths=0,  \n",
    "            cbar_kws={'shrink': 0.7, 'label': 'Correlation Coefficient'},\n",
    "            annot_kws={\"size\": 10, \"color\": \"white\", \"ha\": \"center\", \"va\": \"center\"},  \n",
    "            linecolor='white')\n",
    "\n",
    "plt.title('Correlation Matrix', fontsize=16, color='black', pad=20)\n",
    "plt.grid(False)\n",
    "plt.subplots_adjust(top=0.9, bottom=0.08, left=0.08, right=0.92)\n",
    "plt.show()"
   ]
  },
  {
   "cell_type": "markdown",
   "id": "c35720b8",
   "metadata": {},
   "source": [
    "When production in the machinery and equipment sector increases, Italy also experiences growth (0.82), highlighting its strong connection to this industry. On a global scale, Germany (0.76) and Japan (0.70) play a major role in machinery and equipment production. An increase in production in these two countries often leads to a rise in global production levels, showing their influence on the market.  \n",
    "\n",
    "In France, electrical equipment production tends to grow when there is an increase in machinery and equipment production, as well as when electrical equipment production rises in Italy. This suggests a close link between these sectors across countries.  \n",
    "\n",
    "Additionally, production in Japan shows a mutual relationship that when one sector sees an increase, the other also tends to grow.\n",
    "\n",
    "However, there is a negative relationship between Switzerland’s electrical equipment production and that of the USA (-0.40) and Italy (-0.46). This suggests that when electrical equipment production rises in Switzerland, it tends to decline in these two countries."
   ]
  },
  {
   "cell_type": "markdown",
   "id": "62c0efec",
   "metadata": {},
   "source": [
    "<br>\n",
    "\n",
    "### 4.2.1 Germany's market"
   ]
  },
  {
   "cell_type": "markdown",
   "id": "d8249dfa",
   "metadata": {},
   "source": [
    "Since we are analyzing Siemens' sales revenue in Germany, this section will focus specifically on the German market after October 2018."
   ]
  },
  {
   "cell_type": "code",
   "execution_count": null,
   "id": "e306663e",
   "metadata": {
    "ExecuteTime": {
     "end_time": "2025-03-23T14:30:58.424362Z",
     "start_time": "2025-03-23T14:30:58.417260Z"
    }
   },
   "outputs": [],
   "source": [
    "ger_columns = market_data.filter(like='GER', axis=1)\n",
    "ger_columns.head()"
   ]
  },
  {
   "cell_type": "code",
   "execution_count": null,
   "id": "1211baee",
   "metadata": {
    "ExecuteTime": {
     "end_time": "2025-03-23T14:30:58.433353Z",
     "start_time": "2025-03-23T14:30:58.426051Z"
    }
   },
   "outputs": [],
   "source": [
    "# Filter the rows between 2018 and the end of the dataset\n",
    "filtered_ger_columns = ger_columns[(ger_columns.index.year >= 2018) & (ger_columns.index.month >= 10)]\n",
    "filtered_ger_columns.head()"
   ]
  },
  {
   "cell_type": "code",
   "execution_count": null,
   "id": "2091c23d",
   "metadata": {
    "ExecuteTime": {
     "end_time": "2025-03-23T14:30:58.449583Z",
     "start_time": "2025-03-23T14:30:58.435078Z"
    }
   },
   "outputs": [],
   "source": [
    "# check the germany_market DataFrame information\n",
    "filtered_ger_columns.describe()"
   ]
  },
  {
   "cell_type": "code",
   "execution_count": null,
   "id": "bda07d83",
   "metadata": {
    "ExecuteTime": {
     "end_time": "2025-03-23T14:30:58.500026Z",
     "start_time": "2025-03-23T14:30:58.451323Z"
    }
   },
   "outputs": [],
   "source": [
    "f.resource_prices(filtered_ger_columns, filtered_ger_columns.columns, title = 'Germany Production Index')"
   ]
  },
  {
   "cell_type": "markdown",
   "id": "fa45b3a2",
   "metadata": {},
   "source": [
    "Overall, production in Germany had increased and was higher than in 2010. The only exception is the electrical equipment sector, where in 25% or fewer instances, production was lower than in 2010, primarily due to the impact of the pandemic. However, we can see in the EE production that in November of each year, production is higher than in 2010 and in December is lower."
   ]
  },
  {
   "cell_type": "markdown",
   "id": "1ca77a03",
   "metadata": {},
   "source": [
    "<br>\n",
    "\n",
    "# 5. Data Cleaning & Preprocessing\n",
    "\n",
    "<a href=\"#top\">Top &#129033;</a>"
   ]
  },
  {
   "cell_type": "markdown",
   "id": "d92109a4",
   "metadata": {},
   "source": [
    "## 5.1 Duplicates"
   ]
  },
  {
   "cell_type": "markdown",
   "id": "9dbe6cb6",
   "metadata": {},
   "source": [
    "##### **Sales Data**"
   ]
  },
  {
   "cell_type": "code",
   "execution_count": null,
   "id": "2a81f177",
   "metadata": {
    "ExecuteTime": {
     "end_time": "2025-03-25T15:41:19.480141Z",
     "start_time": "2025-03-25T15:41:19.471697Z"
    }
   },
   "outputs": [],
   "source": [
    "new_monthly_sales[new_monthly_sales.duplicated()]"
   ]
  },
  {
   "cell_type": "markdown",
   "id": "b7f8fe84",
   "metadata": {},
   "source": [
    "##### **Market Data**"
   ]
  },
  {
   "cell_type": "code",
   "execution_count": null,
   "id": "9706751a",
   "metadata": {
    "ExecuteTime": {
     "end_time": "2025-03-25T15:41:20.985915Z",
     "start_time": "2025-03-25T15:41:20.969869Z"
    }
   },
   "outputs": [],
   "source": [
    "market_data[market_data.duplicated()]"
   ]
  },
  {
   "cell_type": "markdown",
   "id": "803d12a5",
   "metadata": {},
   "source": [
    "No duplicate values in both data sets."
   ]
  },
  {
   "cell_type": "markdown",
   "id": "329134de",
   "metadata": {},
   "source": [
    "## 5.2 Extra Data\n",
    "\n",
    "<a href=\"#top\">Top &#129033;</a>"
   ]
  },
  {
   "cell_type": "code",
   "execution_count": null,
   "id": "a9eecdfe",
   "metadata": {
    "ExecuteTime": {
     "end_time": "2025-03-25T15:41:22.721504Z",
     "start_time": "2025-03-25T15:41:22.717924Z"
    }
   },
   "outputs": [],
   "source": [
    "# Find the start date of the new_monthly_sales dataset\n",
    "start_date = new_monthly_sales.index.min()\n",
    "\n",
    "# Filter market_data to match the start date of new_monthly_sales\n",
    "market_data_filtered = market_data[market_data.index >= start_date]"
   ]
  },
  {
   "cell_type": "markdown",
   "id": "9d9aeab8",
   "metadata": {},
   "source": [
    "**Import Extra Data**"
   ]
  },
  {
   "cell_type": "code",
   "execution_count": null,
   "id": "f2e9c20c",
   "metadata": {
    "ExecuteTime": {
     "end_time": "2025-03-25T15:41:23.354120Z",
     "start_time": "2025-03-25T15:41:23.337057Z"
    }
   },
   "outputs": [],
   "source": [
    "stocks = pd.read_csv('./extra data/clean_stock_data.csv', index_col = 'Date')\n",
    "consumer_conf = pd.read_csv('./extra data/clean_consumer_confidence.csv', index_col = 'TIME_PERIOD')\n",
    "business_conf = pd.read_csv('./extra data/clean_business_confidence.csv', index_col = 'TIME_PERIOD')\n",
    "covid = pd.read_csv('./extra data/stringency_index.csv', index_col = 'date')\n",
    "clean_energy = pd.read_csv('./extra data/clean_energy.csv', index_col = 'Date')\n",
    "fossil_energy = pd.read_csv('./extra data/fossil_energy.csv', index_col = 'Date')\n",
    "building_permits = pd.read_csv('./extra data/buildings_data.csv', index_col = 'date')"
   ]
  },
  {
   "cell_type": "markdown",
   "id": "f385ac7f",
   "metadata": {},
   "source": [
    "**Rename Columns**"
   ]
  },
  {
   "cell_type": "code",
   "execution_count": null,
   "id": "0e8c1525",
   "metadata": {
    "ExecuteTime": {
     "end_time": "2025-03-25T15:41:23.962898Z",
     "start_time": "2025-03-25T15:41:23.957210Z"
    }
   },
   "outputs": [],
   "source": [
    "stocks = stocks.rename(columns=u.rename_dict_stocks)\n",
    "consumer_conf = consumer_conf.rename(columns=u.rename_dict_consumer)\n",
    "business_conf = business_conf.rename(columns=u.rename_dict_business)\n",
    "covid = covid.rename(columns=u.rename_dict_covid)\n",
    "clean_energy = clean_energy.rename(columns=u.rename_dict_clean)\n",
    "fossil_energy = fossil_energy.rename(columns=u.rename_dict_fossil)\n",
    "building_permits = building_permits.rename(columns=u.rename_dict_buildings)"
   ]
  },
  {
   "cell_type": "markdown",
   "id": "4c99ecb4",
   "metadata": {},
   "source": [
    "**Ensure same index datatype**"
   ]
  },
  {
   "cell_type": "code",
   "execution_count": null,
   "id": "bcc485f9",
   "metadata": {
    "ExecuteTime": {
     "end_time": "2025-03-25T15:41:24.697742Z",
     "start_time": "2025-03-25T15:41:24.689203Z"
    }
   },
   "outputs": [],
   "source": [
    "market_data_filtered.index = pd.to_datetime(market_data_filtered.index)\n",
    "consumer_conf.index = pd.to_datetime(consumer_conf.index)\n",
    "business_conf.index = pd.to_datetime(business_conf.index)\n",
    "stocks.index = pd.to_datetime(stocks.index)\n",
    "consumer_conf.index = pd.to_datetime(consumer_conf.index)\n",
    "business_conf.index = pd.to_datetime(business_conf.index)\n",
    "covid.index = pd.to_datetime(covid.index)\n",
    "clean_energy.index = pd.to_datetime(clean_energy.index)\n",
    "fossil_energy.index = pd.to_datetime(fossil_energy.index)\n",
    "building_permits.index = pd.to_datetime(building_permits.index)"
   ]
  },
  {
   "cell_type": "markdown",
   "id": "ed8d5c99",
   "metadata": {},
   "source": [
    "**Join Extra Data to Market Data**"
   ]
  },
  {
   "cell_type": "code",
   "execution_count": null,
   "id": "4abcd830",
   "metadata": {
    "ExecuteTime": {
     "end_time": "2025-03-25T15:41:25.887809Z",
     "start_time": "2025-03-25T15:41:25.846373Z"
    }
   },
   "outputs": [],
   "source": [
    "df = pd.concat([market_data_filtered, \n",
    "                                  consumer_conf, \n",
    "                                  business_conf, \n",
    "                                  stocks,\n",
    "                                  consumer_conf,\n",
    "                                  business_conf,\n",
    "                                  covid,\n",
    "                                  clean_energy,\n",
    "                                  fossil_energy,\n",
    "                                  building_permits], axis=1)\n",
    "\n",
    "df.head(5)"
   ]
  },
  {
   "cell_type": "markdown",
   "id": "976010e0",
   "metadata": {},
   "source": [
    "**Join Sales Data to df**"
   ]
  },
  {
   "cell_type": "code",
   "execution_count": null,
   "id": "2fce4efa",
   "metadata": {
    "ExecuteTime": {
     "end_time": "2025-03-25T15:41:46.039309Z",
     "start_time": "2025-03-25T15:41:45.956802Z"
    },
    "scrolled": true
   },
   "outputs": [],
   "source": [
    "df_final = pd.concat([new_monthly_sales, df], axis=1)\n",
    "df_final"
   ]
  },
  {
   "cell_type": "markdown",
   "id": "24b4210f",
   "metadata": {},
   "source": [
    "## 5.3 Train-Validation Split\n",
    "\n",
    "<a href=\"#top\">Top &#129033;</a>"
   ]
  },
  {
   "cell_type": "code",
   "execution_count": null,
   "id": "4a411fd8",
   "metadata": {
    "ExecuteTime": {
     "end_time": "2025-03-25T15:41:47.654213Z",
     "start_time": "2025-03-25T15:41:47.649410Z"
    },
    "scrolled": true
   },
   "outputs": [],
   "source": [
    "target_cols = df_final.columns[:14]\n",
    "\n",
    "X_train, X_val, y_train, y_val = fs.train_val_split(df_final, \n",
    "                                                 target_cols, \n",
    "                                                 val_percentage = 0.3)"
   ]
  },
  {
   "cell_type": "markdown",
   "id": "9de52055",
   "metadata": {},
   "source": [
    "<br>\n",
    "\n",
    "## 5.4 Missing Values\n",
    "\n",
    "<a href=\"#top\">Top &#129033;</a>"
   ]
  },
  {
   "cell_type": "code",
   "execution_count": null,
   "id": "b3768364",
   "metadata": {
    "ExecuteTime": {
     "end_time": "2025-03-25T15:41:49.909533Z",
     "start_time": "2025-03-25T15:41:49.903630Z"
    },
    "scrolled": true
   },
   "outputs": [],
   "source": [
    "pd.set_option('display.max_rows', None)\n",
    "X_train.isna().sum()"
   ]
  },
  {
   "cell_type": "code",
   "execution_count": null,
   "id": "f9b3e611",
   "metadata": {
    "ExecuteTime": {
     "end_time": "2025-03-25T15:41:50.464783Z",
     "start_time": "2025-03-25T15:41:50.458807Z"
    },
    "scrolled": true
   },
   "outputs": [],
   "source": [
    "X_val.isna().sum()"
   ]
  },
  {
   "cell_type": "code",
   "execution_count": null,
   "id": "ae8c3aa4",
   "metadata": {
    "ExecuteTime": {
     "end_time": "2025-03-25T15:41:52.919747Z",
     "start_time": "2025-03-25T15:41:52.909208Z"
    }
   },
   "outputs": [],
   "source": [
    "pd.reset_option('display.max_rows', None)\n",
    "f.missing_value_summary(X_train)"
   ]
  },
  {
   "cell_type": "code",
   "execution_count": null,
   "id": "36797571",
   "metadata": {
    "ExecuteTime": {
     "end_time": "2025-03-25T15:41:55.969678Z",
     "start_time": "2025-03-25T15:41:55.960096Z"
    }
   },
   "outputs": [],
   "source": [
    "f.missing_value_summary(X_val)"
   ]
  },
  {
   "cell_type": "markdown",
   "id": "9ac80ccc",
   "metadata": {},
   "source": [
    "<br>\n",
    "\n",
    "`Missingno` Bar Plot"
   ]
  },
  {
   "cell_type": "code",
   "execution_count": null,
   "id": "0ecee98e",
   "metadata": {
    "ExecuteTime": {
     "end_time": "2025-03-25T15:42:07.309641Z",
     "start_time": "2025-03-25T15:42:05.994321Z"
    }
   },
   "outputs": [],
   "source": [
    "msno.bar(X_train, figsize=(15,10), fontsize=13, \n",
    "         color=f.main_color, sort=\"ascending\")"
   ]
  },
  {
   "cell_type": "code",
   "execution_count": null,
   "id": "eddffd58",
   "metadata": {
    "ExecuteTime": {
     "end_time": "2025-03-25T15:42:08.839664Z",
     "start_time": "2025-03-25T15:42:07.312081Z"
    }
   },
   "outputs": [],
   "source": [
    "msno.bar(X_val, figsize=(15,10), fontsize=13, \n",
    "         color=f.main_color, sort=\"ascending\")"
   ]
  },
  {
   "cell_type": "markdown",
   "id": "bf18a01c",
   "metadata": {},
   "source": [
    "The dataset contains missing values across several indices. The **SWI Production Index**, **SWI Shipments Index**, **USA Shipments Index**, **SWI Machinery & Equipment Index**, and **SWI EE Production Index** each have 1 missing value, accounting for 0.46% of their respective data. The **UK Shipments Index** and **UK EE Producer Prices** have 18 missing values, representing 8.22% of their data. The **FRA EE Producer Prices** has the highest percentage of missing values, with 35 missing entries, making up 15.98% of its data. The **CHI EE Producer Prices** has 23 missing values, contributing to 10.50% of its dataset. Additionally, the **(W) EE Production Index** has 11 missing values, which is 5.02% of its data. \n",
    "\n",
    "One option that was considered was obtaining external data, however we were unable to find data to do this."
   ]
  },
  {
   "cell_type": "markdown",
   "id": "11080160",
   "metadata": {},
   "source": [
    "<div class=\"alert-danger\">\n",
    "    \n",
    "adicionar missing values do covid"
   ]
  },
  {
   "cell_type": "markdown",
   "id": "86addc37",
   "metadata": {},
   "source": [
    "**Filling Missing values**\n",
    "\n",
    "<a href=\"#top\">Top &#129033;</a>\n",
    "\n",
    "Conventional imputation techniques are not applicable for the time-series data since the sequence in which values are received matters."
   ]
  },
  {
   "cell_type": "markdown",
   "id": "f928160a-338d-4d63-8942-785ccdf53e9c",
   "metadata": {},
   "source": [
    "**Filling Covid Features**"
   ]
  },
  {
   "cell_type": "code",
   "execution_count": null,
   "id": "6516ddfe-280d-4d8d-935f-ed8527c88b22",
   "metadata": {},
   "outputs": [],
   "source": [
    "X_train.loc[:, X_train.columns.str.startswith('Covid')] = X_train.loc[:, X_train.columns.str.startswith('Covid')].fillna(0)"
   ]
  },
  {
   "cell_type": "markdown",
   "id": "fc524796",
   "metadata": {},
   "source": [
    "**KNN Imputer**"
   ]
  },
  {
   "cell_type": "markdown",
   "id": "54538943",
   "metadata": {},
   "source": [
    "Creating a Pipeline to easily manage Scaling and Imputation"
   ]
  },
  {
   "cell_type": "code",
   "execution_count": null,
   "id": "56aa78ac",
   "metadata": {
    "ExecuteTime": {
     "end_time": "2025-03-25T15:42:09.296030Z",
     "start_time": "2025-03-25T15:42:09.293250Z"
    }
   },
   "outputs": [],
   "source": [
    "pipeline = Pipeline([\n",
    "    ('scaler', RobustScaler()),\n",
    "    ('imputer', KNNImputer(n_neighbors=10))\n",
    "])"
   ]
  },
  {
   "cell_type": "markdown",
   "id": "4e9527fd",
   "metadata": {},
   "source": [
    "Imputation"
   ]
  },
  {
   "cell_type": "code",
   "execution_count": null,
   "id": "a398d5c2",
   "metadata": {
    "ExecuteTime": {
     "end_time": "2025-03-25T15:42:10.120345Z",
     "start_time": "2025-03-25T15:42:10.090247Z"
    }
   },
   "outputs": [],
   "source": [
    "X_train2 = X_train.copy()\n",
    "X_val2 = X_val.copy()\n",
    "\n",
    "# Fit Transform\n",
    "X_train2_pipelined = pipeline.fit_transform(X_train2)\n",
    "X_val2_pipelined = pipeline.transform(X_val2)"
   ]
  },
  {
   "cell_type": "code",
   "execution_count": null,
   "id": "e410c1d6",
   "metadata": {
    "ExecuteTime": {
     "end_time": "2025-03-25T15:42:11.098720Z",
     "start_time": "2025-03-25T15:42:11.095492Z"
    }
   },
   "outputs": [],
   "source": [
    "imputed_data = pipeline.named_steps['scaler'].inverse_transform(X_train2_pipelined)\n",
    "\n",
    "X_train2 = pd.DataFrame(imputed_data, \n",
    "                            columns=X_train2.columns, \n",
    "                            index=X_train2.index)"
   ]
  },
  {
   "cell_type": "code",
   "execution_count": null,
   "id": "73a63d66",
   "metadata": {
    "ExecuteTime": {
     "end_time": "2025-03-25T15:42:11.835076Z",
     "start_time": "2025-03-25T15:42:11.831795Z"
    }
   },
   "outputs": [],
   "source": [
    "imputed_data = pipeline.named_steps['scaler'].inverse_transform(X_val2_pipelined)\n",
    "\n",
    "X_val2 = pd.DataFrame(imputed_data, \n",
    "                            columns=X_val.columns, \n",
    "                            index=X_val.index)"
   ]
  },
  {
   "cell_type": "markdown",
   "id": "18fef066",
   "metadata": {},
   "source": [
    "#### Time Imputation"
   ]
  },
  {
   "cell_type": "code",
   "execution_count": null,
   "id": "f0a45244",
   "metadata": {
    "ExecuteTime": {
     "end_time": "2025-03-25T15:42:13.043437Z",
     "start_time": "2025-03-25T15:42:13.037435Z"
    }
   },
   "outputs": [],
   "source": [
    "X_train3 = X_train.copy()\n",
    "X_train3.interpolate(method='time',\n",
    "                     limit_direction='both',\n",
    "                     inplace = True)\n"
   ]
  },
  {
   "cell_type": "code",
   "execution_count": null,
   "id": "912cd182",
   "metadata": {
    "ExecuteTime": {
     "end_time": "2025-03-25T15:42:13.470928Z",
     "start_time": "2025-03-25T15:42:13.465366Z"
    }
   },
   "outputs": [],
   "source": [
    "X_val3 = X_val.copy()\n",
    "X_val3.interpolate(method='time',\n",
    "                     limit_direction='both',\n",
    "                     inplace = True)\n"
   ]
  },
  {
   "cell_type": "markdown",
   "id": "1be7b717",
   "metadata": {},
   "source": [
    "**See how imputed values compare with real values**\n",
    "\n",
    "Allows to visually compare both used methods"
   ]
  },
  {
   "cell_type": "code",
   "execution_count": null,
   "id": "1d7a9937",
   "metadata": {
    "ExecuteTime": {
     "end_time": "2025-03-25T15:42:14.309947Z",
     "start_time": "2025-03-25T15:42:14.306153Z"
    }
   },
   "outputs": [],
   "source": [
    "train_cols_with_missing = X_train.columns[X_train.isna().any()]\n",
    "val_cols_with_missing = X_val.columns[X_val.isna().any()]"
   ]
  },
  {
   "cell_type": "markdown",
   "id": "7a12f5ab",
   "metadata": {},
   "source": [
    "**KNN Imputation**"
   ]
  },
  {
   "cell_type": "code",
   "execution_count": null,
   "id": "fb32771a",
   "metadata": {
    "ExecuteTime": {
     "end_time": "2025-03-25T15:42:17.401918Z",
     "start_time": "2025-03-25T15:42:15.407322Z"
    },
    "scrolled": true
   },
   "outputs": [],
   "source": [
    "f.plot_imputation(X_train, X_train2, train_cols_with_missing)"
   ]
  },
  {
   "cell_type": "code",
   "execution_count": null,
   "id": "c1951473",
   "metadata": {
    "ExecuteTime": {
     "end_time": "2025-03-25T15:42:23.323004Z",
     "start_time": "2025-03-25T15:42:22.012933Z"
    },
    "scrolled": true
   },
   "outputs": [],
   "source": [
    "f.plot_imputation(X_val, X_val2, val_cols_with_missing)"
   ]
  },
  {
   "cell_type": "markdown",
   "id": "c10d93c5",
   "metadata": {},
   "source": [
    "**Time Imputation**"
   ]
  },
  {
   "cell_type": "code",
   "execution_count": null,
   "id": "6a8acce7",
   "metadata": {
    "ExecuteTime": {
     "end_time": "2025-03-25T15:42:46.677900Z",
     "start_time": "2025-03-25T15:42:44.764656Z"
    },
    "scrolled": true
   },
   "outputs": [],
   "source": [
    "f.plot_imputation(X_train, X_train3, train_cols_with_missing)"
   ]
  },
  {
   "cell_type": "code",
   "execution_count": null,
   "id": "6f9da18a",
   "metadata": {
    "ExecuteTime": {
     "end_time": "2025-03-25T15:42:53.175940Z",
     "start_time": "2025-03-25T15:42:51.788055Z"
    },
    "scrolled": true
   },
   "outputs": [],
   "source": [
    "f.plot_imputation(X_val, X_val3, val_cols_with_missing)"
   ]
  },
  {
   "cell_type": "markdown",
   "id": "73743053",
   "metadata": {},
   "source": [
    "**Reassign imputed values**"
   ]
  },
  {
   "cell_type": "code",
   "execution_count": null,
   "id": "2e2526fd",
   "metadata": {
    "ExecuteTime": {
     "end_time": "2025-03-25T15:44:39.699309Z",
     "start_time": "2025-03-25T15:44:39.696763Z"
    }
   },
   "outputs": [],
   "source": [
    "X_train = X_train2\n",
    "X_val = X_val2"
   ]
  },
  {
   "cell_type": "markdown",
   "id": "cfdbcfec",
   "metadata": {},
   "source": [
    "<br>\n",
    "\n",
    "## 5.5 Statistical Tests\n",
    "\n",
    "<a href=\"#top\">Top &#129033;</a>"
   ]
  },
  {
   "cell_type": "markdown",
   "id": "e62cc0de",
   "metadata": {},
   "source": [
    "**y_train**"
   ]
  },
  {
   "cell_type": "markdown",
   "id": "f919946f",
   "metadata": {},
   "source": [
    "**Augmented Dickey-Fuller Test for Stationarity**\n",
    "\n",
    "\n",
    "Used to determine if a time series is stationary or if it has a unit root (non-stationary). Stationarity means that the statistical properties of the time series, such as the mean, variance, and autocorrelation, do not change over time.\n",
    "\n",
    "- If the p-value is below a chosen significance level (0.05), reject the null hypothesis, and conclude the series is stationary.\n",
    "- If the p-value is above the significance level, fail to reject the null hypothesis, and conclude the series is non-stationary."
   ]
  },
  {
   "cell_type": "code",
   "execution_count": null,
   "id": "b339bdff",
   "metadata": {
    "ExecuteTime": {
     "end_time": "2025-03-25T15:53:29.699966Z",
     "start_time": "2025-03-25T15:53:29.646939Z"
    },
    "scrolled": true
   },
   "outputs": [],
   "source": [
    "st.adf_test(y_train, y_train.columns)"
   ]
  },
  {
   "cell_type": "code",
   "execution_count": null,
   "id": "2a97a0c4",
   "metadata": {
    "ExecuteTime": {
     "end_time": "2025-03-25T15:53:35.754062Z",
     "start_time": "2025-03-25T15:53:35.712839Z"
    },
    "scrolled": true
   },
   "outputs": [],
   "source": [
    "st.adf_test(y_val, y_val.columns)"
   ]
  },
  {
   "cell_type": "markdown",
   "id": "d92bcccf-74da-4ad7-aa0c-f8d528a745ba",
   "metadata": {},
   "source": [
    "For the sake of model simplicity, we will not proceed to difference non-stationary features"
   ]
  },
  {
   "cell_type": "markdown",
   "id": "d0604dc8",
   "metadata": {
    "ExecuteTime": {
     "end_time": "2025-03-14T15:12:49.657978Z",
     "start_time": "2025-03-14T15:12:49.655465Z"
    }
   },
   "source": [
    "## 5.6 Feature Engineering\n",
    "\n",
    "<a href=\"#top\">Top &#129033;</a>"
   ]
  },
  {
   "cell_type": "markdown",
   "id": "f276c99e",
   "metadata": {},
   "source": [
    "### Sales Data"
   ]
  },
  {
   "cell_type": "markdown",
   "id": "57056682",
   "metadata": {},
   "source": [
    "**Time Related Features**"
   ]
  },
  {
   "cell_type": "code",
   "execution_count": null,
   "id": "7753c065",
   "metadata": {
    "ExecuteTime": {
     "end_time": "2025-03-25T15:45:25.259374Z",
     "start_time": "2025-03-25T15:45:25.254284Z"
    }
   },
   "outputs": [],
   "source": [
    "# Extract Year and Month from DateTimeIndex\n",
    "X_train['Year'] = X_train.index.year\n",
    "X_train['Month'] = X_train.index.month\n",
    "\n",
    "X_val['Year'] = X_val.index.year\n",
    "X_val['Month'] = X_val.index.month"
   ]
  },
  {
   "cell_type": "code",
   "execution_count": null,
   "id": "7a51dd92",
   "metadata": {
    "ExecuteTime": {
     "end_time": "2025-03-25T15:46:02.534631Z",
     "start_time": "2025-03-25T15:46:02.522131Z"
    }
   },
   "outputs": [],
   "source": [
    "# Create Semester column\n",
    "X_train['Semester'] = X_train['Month'].apply(f.get_semester)\n",
    "\n",
    "# Cyclical Encoding for Semester\n",
    "X_train['sin_Semester'] = np.sin(2 * np.pi * X_train['Semester'] / 2)\n",
    "X_train['cos_Semester'] = np.cos(2 * np.pi * X_train['Semester'] / 2)\n",
    "\n",
    "# Create Semester column\n",
    "X_val['Semester'] = X_val['Month'].apply(f.get_semester)\n",
    "\n",
    "# Cyclical Encoding for Semester\n",
    "X_val['sin_Semester'] = np.sin(2 * np.pi * X_val['Semester'] / 2)\n",
    "X_val['cos_Semester'] = np.cos(2 * np.pi * X_val['Semester'] / 2)"
   ]
  },
  {
   "cell_type": "code",
   "execution_count": null,
   "id": "2cc1eefc",
   "metadata": {
    "ExecuteTime": {
     "end_time": "2025-03-25T15:46:39.711674Z",
     "start_time": "2025-03-25T15:46:39.702937Z"
    }
   },
   "outputs": [],
   "source": [
    "# Create Quarter column\n",
    "X_train['Quarter'] = X_train['Month'].apply(f.get_quarter)\n",
    "\n",
    "# Cyclical Encoding for Quarter\n",
    "X_train['sin_Quarter'] = np.sin(2 * np.pi * X_train['Quarter'] / 4)\n",
    "X_train['cos_Quarter'] = np.cos(2 * np.pi * X_train['Quarter'] / 4)\n",
    "\n",
    "# Create Quarter column\n",
    "X_val['Quarter'] = X_val['Month'].apply(f.get_quarter)\n",
    "\n",
    "# Cyclical Encoding for Quarter\n",
    "X_val['sin_Quarter'] = np.sin(2 * np.pi * X_val['Quarter'] / 4)\n",
    "X_val['cos_Quarter'] = np.cos(2 * np.pi * X_val['Quarter'] / 4)"
   ]
  },
  {
   "cell_type": "code",
   "execution_count": null,
   "id": "0a5d16f6",
   "metadata": {
    "ExecuteTime": {
     "end_time": "2025-03-25T15:47:02.356520Z",
     "start_time": "2025-03-25T15:47:02.349400Z"
    }
   },
   "outputs": [],
   "source": [
    "# Create a cyclical feature for Month\n",
    "X_train['sin_month'] = np.sin(2 * np.pi * X_train['Month'] / 12)\n",
    "X_train['cos_month'] = np.cos(2 * np.pi * X_train['Month'] / 12)\n",
    "\n",
    "# Create a cyclical feature for Month\n",
    "X_val['sin_month'] = np.sin(2 * np.pi * X_val['Month'] / 12)\n",
    "X_val['cos_month'] = np.cos(2 * np.pi * X_val['Month'] / 12)"
   ]
  },
  {
   "cell_type": "code",
   "execution_count": null,
   "id": "594d3c12",
   "metadata": {
    "ExecuteTime": {
     "end_time": "2025-03-25T15:47:37.402513Z",
     "start_time": "2025-03-25T15:47:37.364172Z"
    }
   },
   "outputs": [],
   "source": [
    "# Apply the function to get both weekend days and total days in the month\n",
    "X_train[['WeekendDaysCount', 'TotalDaysInMonth']] = X_train.apply(\n",
    "    lambda row: pd.Series(f.count_weekends_in_month(int(row['Year']), int(row['Month']))), axis=1)\n",
    "\n",
    "# Calculate the percentage of weekend days in the month\n",
    "X_train['WeekendDaysPercentage'] = (X_train['WeekendDaysCount'] / X_train['TotalDaysInMonth']) * 100\n",
    "\n",
    "# Apply the function to get both weekend days and total days in the month\n",
    "X_val[['WeekendDaysCount', 'TotalDaysInMonth']] = X_val.apply(\n",
    "    lambda row: pd.Series(f.count_weekends_in_month(int(row['Year']), int(row['Month']))), axis=1)\n",
    "\n",
    "# Calculate the percentage of weekend days in the month\n",
    "X_val['WeekendDaysPercentage'] = (X_val['WeekendDaysCount'] / X_val['TotalDaysInMonth']) * 100"
   ]
  },
  {
   "cell_type": "code",
   "execution_count": null,
   "id": "d3483c57",
   "metadata": {
    "ExecuteTime": {
     "end_time": "2025-03-25T15:47:57.370041Z",
     "start_time": "2025-03-25T15:47:57.347500Z"
    }
   },
   "outputs": [],
   "source": [
    "X_train['SundayCount'] = X_train.apply(lambda row: f.count_sundays_in_month(int(row['Year']), int(row['Month'])), axis=1)\n",
    "\n",
    "X_val['SundayCount'] = X_val.apply(lambda row: f.count_sundays_in_month(int(row['Year']), int(row['Month'])), axis=1)"
   ]
  },
  {
   "cell_type": "code",
   "execution_count": null,
   "id": "a1187e04",
   "metadata": {
    "ExecuteTime": {
     "end_time": "2025-03-25T15:48:23.327765Z",
     "start_time": "2025-03-25T15:48:23.119985Z"
    }
   },
   "outputs": [],
   "source": [
    "X_train['GerHolidayCount'] = X_train.apply(lambda row: f.count_holidays_in_month(X_train, int(row['Year']), int(row['Month'])), axis=1)\n",
    "\n",
    "X_val['GerHolidayCount'] = X_val.apply(lambda row: f.count_holidays_in_month(X_val, int(row['Year']), int(row['Month'])), axis=1)"
   ]
  },
  {
   "cell_type": "markdown",
   "id": "a3da1324",
   "metadata": {},
   "source": [
    "<div class=\"alert-danger\">\n",
    "    \n",
    "## transformações feitas até aqui\n",
    "    \n",
    "- rever oq está feito\n",
    "- continuar"
   ]
  },
  {
   "cell_type": "markdown",
   "id": "33c62f59",
   "metadata": {},
   "source": [
    "**Lag Features**"
   ]
  },
  {
   "cell_type": "code",
   "execution_count": null,
   "id": "b708ee64",
   "metadata": {
    "ExecuteTime": {
     "end_time": "2025-03-23T15:30:35.343461Z",
     "start_time": "2025-03-23T15:30:35.332066Z"
    }
   },
   "outputs": [],
   "source": [
    "# Depends on the ACF and PACF\n",
    "lag_dict = {\n",
    "    \"#1\": [1],\n",
    "    \"#3\": [1],\n",
    "    \"#4\": [1, 6],\n",
    "    \"#5\": [1],\n",
    "    \"#6\": [1],\n",
    "    \"#8\": [1, 3],\n",
    "    \"#9\": [1, 12],\n",
    "    \"#11\": [1],\n",
    "    \"#12\": [1, 3, 12],\n",
    "    \"#13\": [1, 3],\n",
    "    \"#14\": [1, 6],\n",
    "    \"#16\": [1, 3],\n",
    "    \"#20\": [1],\n",
    "    \"#36\": [1,12]\n",
    "}\n",
    "\n",
    "# Lags are created for each product, and rows with missing lag values are removed.\n",
    "new_monthly_sales = f.create_lag_features(new_monthly_sales, lag_dict)\n"
   ]
  },
  {
   "cell_type": "markdown",
   "id": "8fc7b4ec",
   "metadata": {},
   "source": [
    "| Scenario                        | How to Read ACF                                | How to Read PACF                           | What Lags to Use                       |\n",
    "|----------------------------------|------------------------------------------------|--------------------------------------------|----------------------------------------|\n",
    "| Short-term dependency            | ACF quickly drops                              | PACF has a strong spike at lag 1           | Use Sales_Lag_1                        |\n",
    "| Quarterly patterns (every 3 months) | ACF has peaks at lags 3, 6, 9                  | PACF spikes at lag 3                       | Use Sales_Lag_3, Sales_Lag_6           |\n",
    "| Yearly seasonality (12 months)   | ACF has a peak at lag 12                       | PACF has a spike at lag 12                 | Use Sales_Lag_12                       |\n",
    "| Gradual decline in ACF           | ACF slowly decreases                           | PACF has multiple spikes                   | Use Sales_Lag_1, Sales_Lag_3, Sales_Lag_12 |\n"
   ]
  },
  {
   "cell_type": "markdown",
   "id": "59d85c37",
   "metadata": {},
   "source": [
    "**Rolling Mean**"
   ]
  },
  {
   "cell_type": "code",
   "execution_count": null,
   "id": "c2440a19",
   "metadata": {
    "ExecuteTime": {
     "end_time": "2025-03-23T15:30:36.216404Z",
     "start_time": "2025-03-23T15:30:36.207672Z"
    }
   },
   "outputs": [],
   "source": [
    "# Depends on the ACF and PACF\n",
    "rolling_dict  = {\n",
    "    \"#4\": [6],\n",
    "    \"#8\": [3],\n",
    "    \"#9\": [12],\n",
    "    \"#12\": [3, 12],\n",
    "    \"#13\": [3],\n",
    "    \"#14\": [6],\n",
    "    \"#16\": [3],\n",
    "    \"#36\": [12]\n",
    "}\n",
    "\n",
    "\n",
    "new_monthly_sales = f.create_rolling_mean_features(new_monthly_sales, rolling_dict)"
   ]
  },
  {
   "cell_type": "markdown",
   "id": "d2290781",
   "metadata": {},
   "source": [
    "<div class=\"alert-warning\">\n",
    "    \n",
    "missing values a aparecer"
   ]
  },
  {
   "cell_type": "code",
   "execution_count": null,
   "id": "357d3c9f",
   "metadata": {
    "ExecuteTime": {
     "end_time": "2025-03-23T15:35:02.897972Z",
     "start_time": "2025-03-23T15:35:02.892249Z"
    },
    "scrolled": true
   },
   "outputs": [],
   "source": [
    "#pd.reset_option('display.max_rows', None)\n",
    "new_monthly_sales.isna().sum()"
   ]
  },
  {
   "cell_type": "markdown",
   "id": "e19f57c1",
   "metadata": {},
   "source": [
    "## 5.7 Outliers\n",
    "\n",
    "<a href=\"#top\">Top &#129033;</a>"
   ]
  },
  {
   "cell_type": "markdown",
   "id": "1d53acf1",
   "metadata": {},
   "source": [
    "### 5.5.1 Outlier Identification"
   ]
  },
  {
   "cell_type": "markdown",
   "id": "42d4d485",
   "metadata": {},
   "source": [
    "**ADF, Autocorrelation and Partial Autocorrelation**\n",
    "\n",
    "Useful to visually identify outliers"
   ]
  },
  {
   "cell_type": "code",
   "execution_count": null,
   "id": "df786ca6",
   "metadata": {
    "ExecuteTime": {
     "end_time": "2025-03-25T15:55:15.396350Z",
     "start_time": "2025-03-25T15:55:10.691763Z"
    },
    "scrolled": true
   },
   "outputs": [],
   "source": [
    "st.outliers_stationarity(y_train)"
   ]
  },
  {
   "cell_type": "markdown",
   "id": "834c567b",
   "metadata": {},
   "source": [
    "| Column | Outliers |\n",
    "| ------ | -------- |\n",
    "| #1 | 2018-11 |\n",
    "| #3 | 2021-01 |\n",
    "| #4 | - |\n",
    "| #5 | 2021-01 |\n",
    "| #6 | - |\n",
    "| #8 | - |\n",
    "| #9 | 2020-10, 2020-11 |\n",
    "| #11 | - |\n",
    "| #12 | - |\n",
    "| #13 | - |\n",
    "| #14 | 2019-06 |\n",
    "| #16 | 2018-12, 2019-3 |\n",
    "| #20 | - |\n",
    "| #36 | 2020-06, 2021-04 |\n",
    "\n",
    "\n"
   ]
  },
  {
   "cell_type": "markdown",
   "id": "ffa7cebc",
   "metadata": {
    "ExecuteTime": {
     "end_time": "2025-03-18T16:32:39.401862Z",
     "start_time": "2025-03-18T16:32:39.396585Z"
    }
   },
   "source": [
    "**Boxplots**"
   ]
  },
  {
   "cell_type": "code",
   "execution_count": null,
   "id": "c8af2d0f",
   "metadata": {
    "ExecuteTime": {
     "end_time": "2025-03-25T16:01:04.865743Z",
     "start_time": "2025-03-25T16:01:04.583279Z"
    }
   },
   "outputs": [],
   "source": [
    "f.plot_distribution_and_boxplot(y_train, \n",
    "                              y_train.columns[0], \n",
    "                              n_bins=30,\n",
    "                              out_left = 20000000)"
   ]
  },
  {
   "cell_type": "code",
   "execution_count": null,
   "id": "9a0af93e",
   "metadata": {
    "ExecuteTime": {
     "end_time": "2025-03-25T16:01:15.872611Z",
     "start_time": "2025-03-25T16:01:15.588663Z"
    }
   },
   "outputs": [],
   "source": [
    "f.plot_distribution_and_boxplot(y_train, \n",
    "                               y_train.columns[1], \n",
    "                               n_bins=30,\n",
    "                               out_left = 6000000)"
   ]
  },
  {
   "cell_type": "code",
   "execution_count": null,
   "id": "269a56ef",
   "metadata": {
    "ExecuteTime": {
     "end_time": "2025-03-23T14:31:43.800150Z",
     "start_time": "2025-03-23T14:31:43.392695Z"
    }
   },
   "outputs": [],
   "source": [
    "f.plot_distribution_and_boxplot(y_train, \n",
    "                              y_train.columns[2], \n",
    "                              n_bins=30,\n",
    "                              out_right = 750000)"
   ]
  },
  {
   "cell_type": "code",
   "execution_count": null,
   "id": "1fceba7a",
   "metadata": {
    "ExecuteTime": {
     "end_time": "2025-03-23T14:31:44.391707Z",
     "start_time": "2025-03-23T14:31:43.971509Z"
    }
   },
   "outputs": [],
   "source": [
    "f.plot_distribution_and_boxplot(y_train, \n",
    "                              y_train.columns[3], \n",
    "                              n_bins=30)"
   ]
  },
  {
   "cell_type": "code",
   "execution_count": null,
   "id": "0b139b6f",
   "metadata": {
    "ExecuteTime": {
     "end_time": "2025-03-23T14:31:44.854151Z",
     "start_time": "2025-03-23T14:31:44.442108Z"
    }
   },
   "outputs": [],
   "source": [
    "f.plot_distribution_and_boxplot(y_train, \n",
    "                              y_train.columns[4], \n",
    "                              n_bins=30)"
   ]
  },
  {
   "cell_type": "code",
   "execution_count": null,
   "id": "4f51813d",
   "metadata": {
    "ExecuteTime": {
     "end_time": "2025-03-23T14:31:45.284304Z",
     "start_time": "2025-03-23T14:31:44.856716Z"
    }
   },
   "outputs": [],
   "source": [
    "f.plot_distribution_and_boxplot(y_train, \n",
    "                              y_train.columns[5], \n",
    "                              n_bins=30)"
   ]
  },
  {
   "cell_type": "code",
   "execution_count": null,
   "id": "f0d0b175",
   "metadata": {
    "ExecuteTime": {
     "end_time": "2025-03-23T14:31:45.673033Z",
     "start_time": "2025-03-23T14:31:45.287210Z"
    }
   },
   "outputs": [],
   "source": [
    "f.plot_distribution_and_boxplot(y_train, \n",
    "                              y_train.columns[6], \n",
    "                              n_bins=30,\n",
    "                              out_right = 21000)"
   ]
  },
  {
   "cell_type": "code",
   "execution_count": null,
   "id": "6afeba6e",
   "metadata": {
    "ExecuteTime": {
     "end_time": "2025-03-23T14:31:46.135292Z",
     "start_time": "2025-03-23T14:31:45.675990Z"
    }
   },
   "outputs": [],
   "source": [
    "f.plot_distribution_and_boxplot(y_train, \n",
    "                              y_train.columns[7], \n",
    "                              n_bins=30)"
   ]
  },
  {
   "cell_type": "code",
   "execution_count": null,
   "id": "02421136",
   "metadata": {
    "ExecuteTime": {
     "end_time": "2025-03-23T14:31:46.517994Z",
     "start_time": "2025-03-23T14:31:46.138181Z"
    }
   },
   "outputs": [],
   "source": [
    "f.plot_distribution_and_boxplot(y_train, \n",
    "                              y_train.columns[8], \n",
    "                              n_bins=30)"
   ]
  },
  {
   "cell_type": "code",
   "execution_count": null,
   "id": "d5bccb1f",
   "metadata": {
    "ExecuteTime": {
     "end_time": "2025-03-23T14:31:46.952736Z",
     "start_time": "2025-03-23T14:31:46.521167Z"
    }
   },
   "outputs": [],
   "source": [
    "f.plot_distribution_and_boxplot(y_train, \n",
    "                              y_train.columns[9], \n",
    "                              n_bins=30,\n",
    "                              out_right = 60000)"
   ]
  },
  {
   "cell_type": "code",
   "execution_count": null,
   "id": "0700d6a1",
   "metadata": {
    "ExecuteTime": {
     "end_time": "2025-03-23T14:31:47.382259Z",
     "start_time": "2025-03-23T14:31:46.955169Z"
    }
   },
   "outputs": [],
   "source": [
    "f.plot_distribution_and_boxplot(y_train, \n",
    "                              y_train.columns[10], \n",
    "                              n_bins=30,\n",
    "                              out_right = 40000)"
   ]
  },
  {
   "cell_type": "code",
   "execution_count": null,
   "id": "115c48e4",
   "metadata": {
    "ExecuteTime": {
     "end_time": "2025-03-23T14:31:47.761885Z",
     "start_time": "2025-03-23T14:31:47.384434Z"
    }
   },
   "outputs": [],
   "source": [
    "f.plot_distribution_and_boxplot(y_train, \n",
    "                              y_train.columns[11], \n",
    "                              n_bins=30,\n",
    "                              out_right = 600000)"
   ]
  },
  {
   "cell_type": "code",
   "execution_count": null,
   "id": "896d5182",
   "metadata": {
    "ExecuteTime": {
     "end_time": "2025-03-23T14:31:48.134007Z",
     "start_time": "2025-03-23T14:31:47.764447Z"
    }
   },
   "outputs": [],
   "source": [
    "f.plot_distribution_and_boxplot(y_train, \n",
    "                              y_train.columns[12], \n",
    "                              n_bins=30,\n",
    "                              out_right = 7000)"
   ]
  },
  {
   "cell_type": "code",
   "execution_count": null,
   "id": "139e6585",
   "metadata": {
    "ExecuteTime": {
     "end_time": "2025-03-23T14:31:48.534038Z",
     "start_time": "2025-03-23T14:31:48.136163Z"
    }
   },
   "outputs": [],
   "source": [
    "f.plot_distribution_and_boxplot(y_train, \n",
    "                              y_train.columns[13], \n",
    "                              n_bins=30,\n",
    "                              out_right = 100000)"
   ]
  },
  {
   "cell_type": "markdown",
   "id": "961c1918",
   "metadata": {},
   "source": [
    "### 5.5.2 Outlier Treatment\n",
    "\n",
    "<a href=\"#top\">Top &#129033;</a>"
   ]
  },
  {
   "cell_type": "code",
   "execution_count": null,
   "id": "2b50cc88",
   "metadata": {
    "ExecuteTime": {
     "end_time": "2025-03-23T15:30:47.538766Z",
     "start_time": "2025-03-23T15:30:47.533229Z"
    }
   },
   "outputs": [],
   "source": [
    "clean_y_train = y_train.copy()"
   ]
  },
  {
   "cell_type": "markdown",
   "id": "e99dacac",
   "metadata": {},
   "source": [
    "`#1`"
   ]
  },
  {
   "cell_type": "code",
   "execution_count": null,
   "id": "2d4de15a",
   "metadata": {
    "ExecuteTime": {
     "end_time": "2025-03-23T15:30:48.012414Z",
     "start_time": "2025-03-23T15:30:47.987311Z"
    }
   },
   "outputs": [],
   "source": [
    "clean_y_train[clean_y_train['#1'] < 20000000]"
   ]
  },
  {
   "cell_type": "code",
   "execution_count": null,
   "id": "baef8daa",
   "metadata": {
    "ExecuteTime": {
     "end_time": "2025-03-23T15:30:48.549749Z",
     "start_time": "2025-03-23T15:30:48.545866Z"
    }
   },
   "outputs": [],
   "source": [
    "median_value = clean_y_train['#1'].median()\n",
    "clean_y_train.loc[clean_y_train['#1'] < 20000000, '#1'] = median_value"
   ]
  },
  {
   "cell_type": "markdown",
   "id": "937bc828",
   "metadata": {},
   "source": [
    "`#3`"
   ]
  },
  {
   "cell_type": "code",
   "execution_count": null,
   "id": "9476ee29",
   "metadata": {
    "ExecuteTime": {
     "end_time": "2025-03-23T15:30:49.149336Z",
     "start_time": "2025-03-23T15:30:49.128131Z"
    }
   },
   "outputs": [],
   "source": [
    "clean_y_train[(clean_y_train['#3'] < 6000000)]"
   ]
  },
  {
   "cell_type": "code",
   "execution_count": null,
   "id": "9379da7c",
   "metadata": {
    "ExecuteTime": {
     "end_time": "2025-03-23T15:30:49.625075Z",
     "start_time": "2025-03-23T15:30:49.620704Z"
    }
   },
   "outputs": [],
   "source": [
    "median_value = clean_y_train['#3'].median()\n",
    "clean_y_train.loc[clean_y_train['#3'] < 6000000, '#3'] = median_value"
   ]
  },
  {
   "cell_type": "markdown",
   "id": "8288e7f9",
   "metadata": {},
   "source": [
    "`#4`"
   ]
  },
  {
   "cell_type": "code",
   "execution_count": null,
   "id": "e9a472db",
   "metadata": {
    "ExecuteTime": {
     "end_time": "2025-03-23T15:30:49.806725Z",
     "start_time": "2025-03-23T15:30:49.780841Z"
    }
   },
   "outputs": [],
   "source": [
    "clean_y_train[(clean_y_train['#4'] > 750000)]"
   ]
  },
  {
   "cell_type": "code",
   "execution_count": null,
   "id": "0efe2c36",
   "metadata": {
    "ExecuteTime": {
     "end_time": "2025-03-23T15:30:50.274720Z",
     "start_time": "2025-03-23T15:30:50.271136Z"
    }
   },
   "outputs": [],
   "source": [
    "median_value = clean_y_train['#4'].median()\n",
    "clean_y_train.loc[clean_y_train['#4'] > 750000, '#4'] = median_value"
   ]
  },
  {
   "cell_type": "markdown",
   "id": "266b7ff6",
   "metadata": {},
   "source": [
    "`#9`"
   ]
  },
  {
   "cell_type": "code",
   "execution_count": null,
   "id": "342e961a",
   "metadata": {
    "ExecuteTime": {
     "end_time": "2025-03-23T15:30:54.637857Z",
     "start_time": "2025-03-23T15:30:54.612855Z"
    }
   },
   "outputs": [],
   "source": [
    "clean_y_train[(clean_y_train['#9'] > 21000)]"
   ]
  },
  {
   "cell_type": "code",
   "execution_count": null,
   "id": "3e154eee",
   "metadata": {
    "ExecuteTime": {
     "end_time": "2025-03-23T15:30:55.136160Z",
     "start_time": "2025-03-23T15:30:55.132582Z"
    }
   },
   "outputs": [],
   "source": [
    "median_value = clean_y_train['#9'].median()\n",
    "clean_y_train.loc[clean_y_train['#9'] > 21000, '#9'] = median_value"
   ]
  },
  {
   "cell_type": "markdown",
   "id": "3baf594e",
   "metadata": {},
   "source": [
    "`#13`"
   ]
  },
  {
   "cell_type": "code",
   "execution_count": null,
   "id": "858da4af",
   "metadata": {
    "ExecuteTime": {
     "end_time": "2025-03-23T15:30:55.605790Z",
     "start_time": "2025-03-23T15:30:55.579002Z"
    }
   },
   "outputs": [],
   "source": [
    "clean_y_train[(clean_y_train['#13'] > 60000)]"
   ]
  },
  {
   "cell_type": "code",
   "execution_count": null,
   "id": "08fed026",
   "metadata": {
    "ExecuteTime": {
     "end_time": "2025-03-23T15:30:56.148001Z",
     "start_time": "2025-03-23T15:30:56.143836Z"
    }
   },
   "outputs": [],
   "source": [
    "median_value = clean_y_train['#13'].median()\n",
    "clean_y_train.loc[clean_y_train['#13'] > 60000, '#13'] = median_value"
   ]
  },
  {
   "cell_type": "markdown",
   "id": "ec2500e9",
   "metadata": {},
   "source": [
    "`#14`"
   ]
  },
  {
   "cell_type": "code",
   "execution_count": null,
   "id": "82845bd0",
   "metadata": {
    "ExecuteTime": {
     "end_time": "2025-03-23T15:30:57.406725Z",
     "start_time": "2025-03-23T15:30:57.381487Z"
    }
   },
   "outputs": [],
   "source": [
    "clean_y_train[(clean_y_train['#14'] > 40000)]"
   ]
  },
  {
   "cell_type": "code",
   "execution_count": null,
   "id": "89ea37b1",
   "metadata": {
    "ExecuteTime": {
     "end_time": "2025-03-23T15:30:58.365411Z",
     "start_time": "2025-03-23T15:30:58.361995Z"
    }
   },
   "outputs": [],
   "source": [
    "median_value = clean_y_train['#14'].median()\n",
    "clean_y_train.loc[clean_y_train['#14'] > 40000, '#14'] = median_value"
   ]
  },
  {
   "cell_type": "markdown",
   "id": "b77645fb",
   "metadata": {},
   "source": [
    "`#16`"
   ]
  },
  {
   "cell_type": "code",
   "execution_count": null,
   "id": "dc938cc6",
   "metadata": {
    "ExecuteTime": {
     "end_time": "2025-03-23T15:30:58.573381Z",
     "start_time": "2025-03-23T15:30:58.550848Z"
    }
   },
   "outputs": [],
   "source": [
    "clean_y_train[(clean_y_train['#16'] > 600000)]"
   ]
  },
  {
   "cell_type": "code",
   "execution_count": null,
   "id": "3c4c11f5",
   "metadata": {
    "ExecuteTime": {
     "end_time": "2025-03-23T15:30:59.065591Z",
     "start_time": "2025-03-23T15:30:59.061830Z"
    }
   },
   "outputs": [],
   "source": [
    "median_value = clean_y_train['#16'].median()\n",
    "clean_y_train.loc[clean_y_train['#16'] > 600000, '#16'] = median_value"
   ]
  },
  {
   "cell_type": "markdown",
   "id": "9022c619",
   "metadata": {},
   "source": [
    "`#20`"
   ]
  },
  {
   "cell_type": "code",
   "execution_count": null,
   "id": "da28a4ac",
   "metadata": {
    "ExecuteTime": {
     "end_time": "2025-03-23T15:31:00.244402Z",
     "start_time": "2025-03-23T15:31:00.218378Z"
    }
   },
   "outputs": [],
   "source": [
    "clean_y_train[(clean_y_train['#20'] > 7000)]"
   ]
  },
  {
   "cell_type": "code",
   "execution_count": null,
   "id": "424a00a5",
   "metadata": {
    "ExecuteTime": {
     "end_time": "2025-03-23T15:31:01.234942Z",
     "start_time": "2025-03-23T15:31:01.231488Z"
    }
   },
   "outputs": [],
   "source": [
    "median_value = clean_y_train['#20'].median()\n",
    "clean_y_train.loc[clean_y_train['#20'] > 7000, '#20'] = median_value"
   ]
  },
  {
   "cell_type": "markdown",
   "id": "c90fa061",
   "metadata": {},
   "source": [
    "`#36`"
   ]
  },
  {
   "cell_type": "code",
   "execution_count": null,
   "id": "d14f8f43",
   "metadata": {
    "ExecuteTime": {
     "end_time": "2025-03-23T15:31:01.667475Z",
     "start_time": "2025-03-23T15:31:01.642455Z"
    }
   },
   "outputs": [],
   "source": [
    "clean_y_train[(clean_y_train['#36'] > 100000)]"
   ]
  },
  {
   "cell_type": "code",
   "execution_count": null,
   "id": "878b8c15",
   "metadata": {
    "ExecuteTime": {
     "end_time": "2025-03-23T15:31:02.144995Z",
     "start_time": "2025-03-23T15:31:02.141513Z"
    }
   },
   "outputs": [],
   "source": [
    "median_value = clean_y_train['#36'].median()\n",
    "clean_y_train.loc[clean_y_train['#36'] > 100000, '#36'] = median_value"
   ]
  },
  {
   "cell_type": "markdown",
   "id": "a2cefa1a",
   "metadata": {
    "ExecuteTime": {
     "end_time": "2025-03-23T14:43:11.320870Z",
     "start_time": "2025-03-23T14:43:11.317217Z"
    }
   },
   "source": [
    "**Check the Success**"
   ]
  },
  {
   "cell_type": "code",
   "execution_count": null,
   "id": "895e8d16",
   "metadata": {
    "ExecuteTime": {
     "end_time": "2025-03-23T14:46:43.195786Z",
     "start_time": "2025-03-23T14:46:36.814877Z"
    }
   },
   "outputs": [],
   "source": [
    "st.outliers_stationarity(clean_y_train)"
   ]
  },
  {
   "cell_type": "code",
   "execution_count": null,
   "id": "8aeaaff3",
   "metadata": {
    "ExecuteTime": {
     "end_time": "2025-03-23T14:46:11.053277Z",
     "start_time": "2025-03-23T14:46:04.085457Z"
    },
    "scrolled": true
   },
   "outputs": [],
   "source": [
    "cols = clean_y_train.columns\n",
    "\n",
    "for col in cols:\n",
    "    f.plot_distribution_and_boxplot(clean_y_train, col, n_bins=30)"
   ]
  },
  {
   "cell_type": "markdown",
   "id": "b01d65d3",
   "metadata": {},
   "source": [
    "Save temporary dataframe to the original one"
   ]
  },
  {
   "cell_type": "code",
   "execution_count": null,
   "id": "83c27bf7",
   "metadata": {
    "ExecuteTime": {
     "end_time": "2025-03-23T15:31:09.151759Z",
     "start_time": "2025-03-23T15:31:09.127284Z"
    }
   },
   "outputs": [],
   "source": [
    "y_train = clean_y_train\n",
    "y_train.head(2)"
   ]
  },
  {
   "cell_type": "markdown",
   "id": "5f5143a2",
   "metadata": {},
   "source": [
    "# 6. Final Datasets\n",
    "\n",
    "<a href=\"#top\">Top &#129033;</a>"
   ]
  },
  {
   "cell_type": "code",
   "execution_count": null,
   "id": "bffcad6d-780e-40f8-93ca-7d4e756d6087",
   "metadata": {
    "scrolled": true
   },
   "outputs": [],
   "source": [
    "# Initialize an empty list to store the variable names\n",
    "y_train_names = []\n",
    "y_val_names = []\n",
    "\n",
    "\n",
    "for y_col in y_train.columns:\n",
    "    # Extract only the numbers from the column name\n",
    "    y_col_number = ''.join(filter(str.isdigit, y_col))\n",
    "    \n",
    "    # Create a new y_train column and assign it to a new variable\n",
    "    y_train_col = y_train[y_col]\n",
    "    \n",
    "    # Generate the variable name using the numeric part of the column name\n",
    "    y_train_var_name = f\"y_train_{y_col_number}\"\n",
    "    \n",
    "    # Assign the y_train column to the dynamically created variable name\n",
    "    globals()[y_train_var_name] = y_train_col\n",
    "    \n",
    "    # Append the variable name to the list\n",
    "    y_train_names.append(y_train_var_name)\n",
    "\n",
    "\n",
    "for y_col in y_val.columns:\n",
    "    # Extract only the numbers from the column name\n",
    "    y_col_number = ''.join(filter(str.isdigit, y_col))\n",
    "    \n",
    "    # Create a new y_val column and assign it to a new variable\n",
    "    y_val_col = y_val[y_col]\n",
    "    \n",
    "    # Generate the variable name using the numeric part of the column name\n",
    "    y_val_var_name = f\"y_val_{y_col_number}\"\n",
    "    \n",
    "    # Assign the y_val column to the dynamically created variable name\n",
    "    globals()[y_val_var_name] = y_val_col\n",
    "    \n",
    "    # Append the variable name to the list\n",
    "    y_val_names.append(y_val_var_name)\n",
    "\n",
    "print(\"y_train variable names:\", y_train_names)\n",
    "print('')\n",
    "print(\"y_val variable names:\", y_val_names)\n"
   ]
  },
  {
   "cell_type": "code",
   "execution_count": null,
   "id": "aaead8d4-a715-4c30-a1f4-201c52f89038",
   "metadata": {},
   "outputs": [],
   "source": [
    "y_train_1.head(2)"
   ]
  },
  {
   "cell_type": "code",
   "execution_count": null,
   "id": "fb23e4cb-3914-4423-b719-252054bab3e7",
   "metadata": {},
   "outputs": [],
   "source": [
    "y_val_1.head(2)"
   ]
  },
  {
   "cell_type": "markdown",
   "id": "b7a09a12",
   "metadata": {},
   "source": [
    "**Export Data**"
   ]
  },
  {
   "cell_type": "code",
   "execution_count": null,
   "id": "63275a5d",
   "metadata": {
    "ExecuteTime": {
     "end_time": "2025-03-23T15:35:35.297757Z",
     "start_time": "2025-03-23T15:35:35.294836Z"
    }
   },
   "outputs": [],
   "source": [
    "train_folder = './data/y_train_data'\n",
    "val_folder = './data/y_val_data'\n",
    "\n",
    "# Create the directories if they do not exist\n",
    "os.makedirs(train_folder, exist_ok=True)\n",
    "os.makedirs(val_folder, exist_ok=True)"
   ]
  },
  {
   "cell_type": "code",
   "execution_count": null,
   "id": "459597ac",
   "metadata": {
    "ExecuteTime": {
     "end_time": "2025-03-23T15:35:35.887724Z",
     "start_time": "2025-03-23T15:35:35.753706Z"
    }
   },
   "outputs": [],
   "source": [
    "# Export y_train variables to CSV files in the train folder\n",
    "for var_name in y_train_names:\n",
    "    # Access the variable using globals()\n",
    "    y_train_data = globals()[var_name]\n",
    "    \n",
    "    # Export the variable to a CSV file inside the train folder\n",
    "    y_train_data.to_csv(f\"{train_folder}/{var_name}.csv\", index=False)\n",
    "\n",
    "# Export y_val variables to CSV files in the val folder\n",
    "for var_name in y_val_names:\n",
    "    # Access the variable using globals()\n",
    "    y_val_data = globals()[var_name]\n",
    "    \n",
    "    # Export the variable to a CSV file inside the val folder\n",
    "    y_val_data.to_csv(f\"{val_folder}/{var_name}.csv\", index=False)"
   ]
  },
  {
   "cell_type": "code",
   "execution_count": null,
   "id": "14f24f4d-5f64-4ae8-8f81-bf06c0b3b0eb",
   "metadata": {
    "scrolled": true
   },
   "outputs": [],
   "source": [
    "X_train.to_csv('./data/X_train_data/X_train.csv')\n",
    "X_val.to_csv('./data/X_val_data/X_val.csv')"
   ]
  }
 ],
 "metadata": {
  "kernelspec": {
   "display_name": "Python 3 (ipykernel)",
   "language": "python",
   "name": "python3"
  },
  "language_info": {
   "codemirror_mode": {
    "name": "ipython",
    "version": 3
   },
   "file_extension": ".py",
   "mimetype": "text/x-python",
   "name": "python",
   "nbconvert_exporter": "python",
   "pygments_lexer": "ipython3",
   "version": "3.13.2"
  }
 },
 "nbformat": 4,
 "nbformat_minor": 5
}
